{
 "cells": [
  {
   "cell_type": "markdown",
   "metadata": {},
   "source": [
    "# Team Assignment #2\n",
    "\n",
    "Team Sakia"
   ]
  },
  {
   "cell_type": "markdown",
   "metadata": {},
   "source": [
    "# Importing libraries and loading CSV data file"
   ]
  },
  {
   "cell_type": "code",
   "execution_count": 54,
   "metadata": {},
   "outputs": [
    {
     "data": {
      "text/html": [
       "<div>\n",
       "<style scoped>\n",
       "    .dataframe tbody tr th:only-of-type {\n",
       "        vertical-align: middle;\n",
       "    }\n",
       "\n",
       "    .dataframe tbody tr th {\n",
       "        vertical-align: top;\n",
       "    }\n",
       "\n",
       "    .dataframe thead th {\n",
       "        text-align: right;\n",
       "    }\n",
       "</style>\n",
       "<table border=\"1\" class=\"dataframe\">\n",
       "  <thead>\n",
       "    <tr style=\"text-align: right;\">\n",
       "      <th></th>\n",
       "      <th>total_bill</th>\n",
       "      <th>tip</th>\n",
       "      <th>sex</th>\n",
       "      <th>smoker</th>\n",
       "      <th>day</th>\n",
       "      <th>time</th>\n",
       "      <th>size</th>\n",
       "    </tr>\n",
       "  </thead>\n",
       "  <tbody>\n",
       "    <tr>\n",
       "      <th>0</th>\n",
       "      <td>16.99</td>\n",
       "      <td>1.01</td>\n",
       "      <td>Female</td>\n",
       "      <td>No</td>\n",
       "      <td>Sun</td>\n",
       "      <td>Dinner</td>\n",
       "      <td>2</td>\n",
       "    </tr>\n",
       "    <tr>\n",
       "      <th>1</th>\n",
       "      <td>10.34</td>\n",
       "      <td>1.66</td>\n",
       "      <td>Male</td>\n",
       "      <td>No</td>\n",
       "      <td>Sun</td>\n",
       "      <td>Dinner</td>\n",
       "      <td>3</td>\n",
       "    </tr>\n",
       "    <tr>\n",
       "      <th>2</th>\n",
       "      <td>21.01</td>\n",
       "      <td>3.50</td>\n",
       "      <td>Male</td>\n",
       "      <td>No</td>\n",
       "      <td>Sun</td>\n",
       "      <td>Dinner</td>\n",
       "      <td>3</td>\n",
       "    </tr>\n",
       "    <tr>\n",
       "      <th>3</th>\n",
       "      <td>23.68</td>\n",
       "      <td>3.31</td>\n",
       "      <td>Male</td>\n",
       "      <td>No</td>\n",
       "      <td>Sun</td>\n",
       "      <td>Dinner</td>\n",
       "      <td>2</td>\n",
       "    </tr>\n",
       "    <tr>\n",
       "      <th>4</th>\n",
       "      <td>24.59</td>\n",
       "      <td>3.61</td>\n",
       "      <td>Female</td>\n",
       "      <td>No</td>\n",
       "      <td>Sun</td>\n",
       "      <td>Dinner</td>\n",
       "      <td>4</td>\n",
       "    </tr>\n",
       "    <tr>\n",
       "      <th>...</th>\n",
       "      <td>...</td>\n",
       "      <td>...</td>\n",
       "      <td>...</td>\n",
       "      <td>...</td>\n",
       "      <td>...</td>\n",
       "      <td>...</td>\n",
       "      <td>...</td>\n",
       "    </tr>\n",
       "    <tr>\n",
       "      <th>239</th>\n",
       "      <td>29.03</td>\n",
       "      <td>5.92</td>\n",
       "      <td>Male</td>\n",
       "      <td>No</td>\n",
       "      <td>Sat</td>\n",
       "      <td>Dinner</td>\n",
       "      <td>3</td>\n",
       "    </tr>\n",
       "    <tr>\n",
       "      <th>240</th>\n",
       "      <td>27.18</td>\n",
       "      <td>2.00</td>\n",
       "      <td>Female</td>\n",
       "      <td>Yes</td>\n",
       "      <td>Sat</td>\n",
       "      <td>Dinner</td>\n",
       "      <td>2</td>\n",
       "    </tr>\n",
       "    <tr>\n",
       "      <th>241</th>\n",
       "      <td>22.67</td>\n",
       "      <td>2.00</td>\n",
       "      <td>Male</td>\n",
       "      <td>Yes</td>\n",
       "      <td>Sat</td>\n",
       "      <td>Dinner</td>\n",
       "      <td>2</td>\n",
       "    </tr>\n",
       "    <tr>\n",
       "      <th>242</th>\n",
       "      <td>17.82</td>\n",
       "      <td>1.75</td>\n",
       "      <td>Male</td>\n",
       "      <td>No</td>\n",
       "      <td>Sat</td>\n",
       "      <td>Dinner</td>\n",
       "      <td>2</td>\n",
       "    </tr>\n",
       "    <tr>\n",
       "      <th>243</th>\n",
       "      <td>18.78</td>\n",
       "      <td>3.00</td>\n",
       "      <td>Female</td>\n",
       "      <td>No</td>\n",
       "      <td>Thur</td>\n",
       "      <td>Dinner</td>\n",
       "      <td>2</td>\n",
       "    </tr>\n",
       "  </tbody>\n",
       "</table>\n",
       "<p>244 rows × 7 columns</p>\n",
       "</div>"
      ],
      "text/plain": [
       "     total_bill   tip     sex smoker   day    time  size\n",
       "0         16.99  1.01  Female     No   Sun  Dinner     2\n",
       "1         10.34  1.66    Male     No   Sun  Dinner     3\n",
       "2         21.01  3.50    Male     No   Sun  Dinner     3\n",
       "3         23.68  3.31    Male     No   Sun  Dinner     2\n",
       "4         24.59  3.61  Female     No   Sun  Dinner     4\n",
       "..          ...   ...     ...    ...   ...     ...   ...\n",
       "239       29.03  5.92    Male     No   Sat  Dinner     3\n",
       "240       27.18  2.00  Female    Yes   Sat  Dinner     2\n",
       "241       22.67  2.00    Male    Yes   Sat  Dinner     2\n",
       "242       17.82  1.75    Male     No   Sat  Dinner     2\n",
       "243       18.78  3.00  Female     No  Thur  Dinner     2\n",
       "\n",
       "[244 rows x 7 columns]"
      ]
     },
     "execution_count": 54,
     "metadata": {},
     "output_type": "execute_result"
    }
   ],
   "source": [
    "import pandas as pd\n",
    "import sqlite3\n",
    "\n",
    "# Step 1: Load the CSV file into a DataFrame\n",
    "df = pd.read_csv('data/tips.csv')\n",
    "\n",
    "# Step 2: Connect to SQLite with a timeout\n",
    "con = sqlite3.connect('tips.db', timeout=10)\n",
    "\n",
    "# Step 3: Create a table in the SQLite database\n",
    "df.to_sql('tips', con, if_exists='replace', index=False)\n",
    "\n",
    "# Step 4: Commit the transaction and close the connection\n",
    "con.commit()\n",
    "con.close()\n",
    "\n",
    "# Display the DataFrame\n",
    "df\n",
    "\n"
   ]
  },
  {
   "cell_type": "markdown",
   "metadata": {},
   "source": [
    "# SQL Queries"
   ]
  },
  {
   "cell_type": "markdown",
   "metadata": {},
   "source": [
    "## Question 1\n",
    "\n",
    "Retrieve the average tip percentage for each day of the week"
   ]
  },
  {
   "cell_type": "code",
   "execution_count": 19,
   "metadata": {},
   "outputs": [
    {
     "name": "stdout",
     "output_type": "stream",
     "text": [
      "    day  average_tip_per_day\n",
      "0   Fri            15.944519\n",
      "1   Sat            14.642375\n",
      "2   Sun            15.203791\n",
      "3  Thur            15.673201\n"
     ]
    }
   ],
   "source": [
    "con = sqlite3.connect('tips.db')\n",
    "c = con.cursor()\n",
    "c.execute('''SELECT day, SUM(tip)/SUM(total_bill)*100 AS avg_tip_per_day\n",
    "          FROM tips\n",
    "          GROUP BY day''')\n",
    "\n",
    "con.commit()\n",
    "\n",
    "df_q1 = pd.DataFrame(c.fetchall(), columns=['day', 'average_tip_per_day'])\n",
    "\n",
    "print(df_q1)\n",
    "\n",
    "con.close()"
   ]
  },
  {
   "cell_type": "code",
   "execution_count": 21,
   "metadata": {},
   "outputs": [
    {
     "name": "stdout",
     "output_type": "stream",
     "text": [
      "    day  average_tip_per_day\n",
      "0   Fri            16.991303\n",
      "1   Sat            15.315172\n",
      "2   Sun            16.689729\n",
      "3  Thur            16.127563\n"
     ]
    }
   ],
   "source": [
    "con = sqlite3.connect('tips.db')\n",
    "c = con.cursor()\n",
    "c.execute('''SELECT day, SUM(tip/total_bill*100)/COUNT(day)\n",
    "          FROM tips\n",
    "          GROUP BY day''')\n",
    "\n",
    "con.commit()\n",
    "\n",
    "df_q1 = pd.DataFrame(c.fetchall(), columns=['day', 'average_tip_per_day'])\n",
    "\n",
    "print(df_q1)\n",
    "\n",
    "con.close()"
   ]
  },
  {
   "cell_type": "markdown",
   "metadata": {},
   "source": [
    "## Question 2\n",
    "\n",
    "Find the maximum and minimum total bill amounts"
   ]
  },
  {
   "cell_type": "code",
   "execution_count": 18,
   "metadata": {},
   "outputs": [
    {
     "name": "stdout",
     "output_type": "stream",
     "text": [
      "   min_total_bill  max_total_bill\n",
      "0           50.81            3.07\n"
     ]
    }
   ],
   "source": [
    "con = sqlite3.connect('tips.db')\n",
    "c = con.cursor()\n",
    "c.execute('''SELECT MAX(total_bill) AS max, MIN(total_bill) AS min\n",
    "          FROM tips''')\n",
    "\n",
    "con.commit()\n",
    "\n",
    "df_q2 = pd.DataFrame(c.fetchall(), columns=['min_total_bill', 'max_total_bill'])\n",
    "\n",
    "print(df_q2)\n",
    "\n",
    "con.close()"
   ]
  },
  {
   "cell_type": "markdown",
   "metadata": {},
   "source": [
    "## Question 3\n",
    "\n",
    "Count the number of parties for each size"
   ]
  },
  {
   "cell_type": "code",
   "execution_count": 17,
   "metadata": {},
   "outputs": [
    {
     "name": "stdout",
     "output_type": "stream",
     "text": [
      "   min_total_bill  max_total_bill\n",
      "0               1               4\n",
      "1               2             156\n",
      "2               3              38\n",
      "3               4              37\n",
      "4               5               5\n",
      "5               6               4\n"
     ]
    }
   ],
   "source": [
    "con = sqlite3.connect('tips.db')\n",
    "c = con.cursor()\n",
    "c.execute('''SELECT size, COUNT(size) AS count\n",
    "          FROM tips\n",
    "          GROUP BY size''')\n",
    "\n",
    "con.commit()\n",
    "\n",
    "df_q3 = pd.DataFrame(c.fetchall(), columns=['size', 'count'])\n",
    "\n",
    "print(df_q3)\n",
    "\n",
    "con.close()"
   ]
  },
  {
   "cell_type": "markdown",
   "metadata": {},
   "source": [
    "## Question 4\n",
    "\n",
    "Retrieve the total bill and tip for parties of size 4 or more, where the tip percentage is greater than 15%\n"
   ]
  },
  {
   "cell_type": "code",
   "execution_count": 40,
   "metadata": {},
   "outputs": [
    {
     "name": "stdout",
     "output_type": "stream",
     "text": [
      "    size  total_bill   tip  tip_percentage\n",
      "0      4       25.29  4.71       18.623962\n",
      "1      4       18.43  3.00       16.277808\n",
      "2      4       39.42  7.58       19.228818\n",
      "3      4       30.40  5.60       18.421053\n",
      "4      4       32.40  6.00       18.518519\n",
      "5      4       25.56  4.34       16.979656\n",
      "6      4       18.29  3.76       20.557682\n",
      "7      4       29.93  5.07       16.939526\n",
      "8      4       21.50  3.50       16.279070\n",
      "9      4       23.17  6.50       28.053517\n",
      "10     4       20.53  4.00       19.483682\n",
      "11     4       25.89  5.16       19.930475\n",
      "12     4       48.33  9.00       18.621974\n",
      "13     5       29.85  5.14       17.219430\n",
      "14     5       20.69  5.00       24.166264\n",
      "15     6       34.30  6.70       19.533528\n",
      "16     6       27.05  5.00       18.484288\n"
     ]
    }
   ],
   "source": [
    "con = sqlite3.connect('tips.db')\n",
    "c = con.cursor()\n",
    "c.execute('''SELECT size, total_bill, tip, tip/total_bill*100 AS tip_percentage\n",
    "          FROM tips\n",
    "          WHERE size >= 4 AND tip_percentage > 15\n",
    "          ORDER BY size''')\n",
    "          \n",
    "\n",
    "con.commit()\n",
    "\n",
    "df_q4 = pd.DataFrame(c.fetchall(), columns=['size','total_bill', 'tip', 'tip_percentage'])\n",
    "\n",
    "print(df_q4)\n",
    "\n",
    "con.close()"
   ]
  },
  {
   "cell_type": "markdown",
   "metadata": {},
   "source": [
    "## Question 5\n",
    "\n",
    "Retrieve the total bill, tip amount, and tip percentage for each combination of day and time, sorted by tip percentage in descending order"
   ]
  },
  {
   "cell_type": "code",
   "execution_count": 41,
   "metadata": {},
   "outputs": [
    {
     "name": "stdout",
     "output_type": "stream",
     "text": [
      "    day    time  total_bill  total_tip  tip_percentage\n",
      "0   Fri   Lunch       89.92      16.68       18.549822\n",
      "1  Thur  Dinner       18.78       3.00       15.974441\n",
      "2  Thur   Lunch     1077.55     168.83       15.667950\n",
      "3   Sun  Dinner     1627.16     247.39       15.203791\n",
      "4   Fri  Dinner      235.96      35.28       14.951687\n",
      "5   Sat  Dinner     1778.40     260.40       14.642375\n"
     ]
    }
   ],
   "source": [
    "con = sqlite3.connect('tips.db')\n",
    "c = con.cursor()\n",
    "c.execute('''SELECT day, time, SUM(total_bill), SUM(tip), SUM(tip)/SUM(total_bill)*100 AS tip_percentage\n",
    "          FROM tips\n",
    "          GROUP BY day, time\n",
    "          ORDER BY tip_percentage DESC''')\n",
    "          \n",
    "\n",
    "con.commit()\n",
    "\n",
    "df_q5 = pd.DataFrame(c.fetchall(), columns=['day','time', 'total_bill', 'total_tip', 'tip_percentage'])\n",
    "\n",
    "print(df_q5)\n",
    "\n",
    "con.close()"
   ]
  },
  {
   "cell_type": "markdown",
   "metadata": {},
   "source": [
    "## Question 6\n",
    "\n",
    "Find the average tip percentage for each combination of day, time, and smoker status"
   ]
  },
  {
   "cell_type": "code",
   "execution_count": null,
   "metadata": {},
   "outputs": [],
   "source": []
  },
  {
   "cell_type": "markdown",
   "metadata": {},
   "source": [
    "## Question 7\n",
    "\n",
    "Retrieve the total bill, tip amount, and tip percentage for each sex, sorted by total bill in descending order, and limit the results to the top 5 records"
   ]
  },
  {
   "cell_type": "code",
   "execution_count": null,
   "metadata": {},
   "outputs": [],
   "source": []
  },
  {
   "cell_type": "markdown",
   "metadata": {},
   "source": [
    "## Question 8\n",
    "\n",
    "Find the maximum and minimum tip percentage for each day and time combination, along with the corresponding total bill and tip amount"
   ]
  },
  {
   "cell_type": "code",
   "execution_count": null,
   "metadata": {},
   "outputs": [],
   "source": []
  },
  {
   "cell_type": "markdown",
   "metadata": {},
   "source": [
    "## Question 9 \n",
    "\n",
    "Retrieve the total bill, tip amount, and tip percentage for parties of size 4 or more, where the tip percentage is greater than 15%, and the total bill is between $50 and $100"
   ]
  },
  {
   "cell_type": "code",
   "execution_count": null,
   "metadata": {},
   "outputs": [],
   "source": []
  },
  {
   "cell_type": "markdown",
   "metadata": {},
   "source": [
    "## Question 10\n",
    "\n",
    "Find the average tip percentage for each combination of day, time, and smoker status, but only include combinations with more than 5 records"
   ]
  },
  {
   "cell_type": "code",
   "execution_count": null,
   "metadata": {},
   "outputs": [],
   "source": []
  },
  {
   "cell_type": "markdown",
   "metadata": {},
   "source": [
    "## 5 additional queries\n"
   ]
  },
  {
   "cell_type": "code",
   "execution_count": null,
   "metadata": {},
   "outputs": [],
   "source": []
  },
  {
   "cell_type": "markdown",
   "metadata": {},
   "source": [
    "## UPDATE\n",
    "\n",
    "It was determined that there was an error in the database. Please update the record that corresponds to id=10 and set smoker to Yes."
   ]
  },
  {
   "cell_type": "code",
   "execution_count": 55,
   "metadata": {},
   "outputs": [
    {
     "name": "stdout",
     "output_type": "stream",
     "text": [
      "[(14.78, 3.23, 'Male', 'No', 'Sun', 'Dinner', 2)]\n",
      "[(14.78, 3.23, 'Male', 'Yes', 'Sun', 'Dinner', 2)]\n"
     ]
    }
   ],
   "source": [
    "con = sqlite3.connect('tips.db')\n",
    "c = con.cursor()\n",
    "\n",
    "# Before update\n",
    "c.execute('''SELECT *\n",
    "          FROM tips\n",
    "          WHERE ROWID = 10''')\n",
    "\n",
    "print(c.fetchall())\n",
    "\n",
    "c.execute('''UPDATE tips\n",
    "          SET smoker = 'Yes'\n",
    "          WHERE ROWID = 10''')\n",
    "\n",
    "# After update\n",
    "c.execute('''SELECT *\n",
    "          FROM tips\n",
    "          WHERE ROWID = 10''')\n",
    "\n",
    "con.commit()\n",
    "\n",
    "print(c.fetchall())\n",
    "\n",
    "con.close()"
   ]
  },
  {
   "cell_type": "markdown",
   "metadata": {},
   "source": [
    "## DELETE\n",
    "\n",
    "Delete records from the database that have a total bill that is less than $10."
   ]
  },
  {
   "cell_type": "code",
   "execution_count": null,
   "metadata": {},
   "outputs": [],
   "source": []
  }
 ],
 "metadata": {
  "kernelspec": {
   "display_name": "Python 3",
   "language": "python",
   "name": "python3"
  },
  "language_info": {
   "codemirror_mode": {
    "name": "ipython",
    "version": 3
   },
   "file_extension": ".py",
   "mimetype": "text/x-python",
   "name": "python",
   "nbconvert_exporter": "python",
   "pygments_lexer": "ipython3",
   "version": "3.12.5"
  }
 },
 "nbformat": 4,
 "nbformat_minor": 2
}
