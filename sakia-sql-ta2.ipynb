{
 "cells": [
  {
   "cell_type": "markdown",
   "metadata": {},
   "source": [
    "# Team Assignment #2\n",
    "\n",
    "Team Sakia - Sakshee Patil and Iara Ravagni"
   ]
  },
  {
   "cell_type": "markdown",
   "metadata": {},
   "source": [
    "# Importing libraries and loading CSV data file"
   ]
  },
  {
   "cell_type": "code",
   "execution_count": 97,
   "metadata": {},
   "outputs": [
    {
     "data": {
      "text/html": [
       "<div>\n",
       "<style scoped>\n",
       "    .dataframe tbody tr th:only-of-type {\n",
       "        vertical-align: middle;\n",
       "    }\n",
       "\n",
       "    .dataframe tbody tr th {\n",
       "        vertical-align: top;\n",
       "    }\n",
       "\n",
       "    .dataframe thead th {\n",
       "        text-align: right;\n",
       "    }\n",
       "</style>\n",
       "<table border=\"1\" class=\"dataframe\">\n",
       "  <thead>\n",
       "    <tr style=\"text-align: right;\">\n",
       "      <th></th>\n",
       "      <th>total_bill</th>\n",
       "      <th>tip</th>\n",
       "      <th>sex</th>\n",
       "      <th>smoker</th>\n",
       "      <th>day</th>\n",
       "      <th>time</th>\n",
       "      <th>size</th>\n",
       "    </tr>\n",
       "  </thead>\n",
       "  <tbody>\n",
       "    <tr>\n",
       "      <th>0</th>\n",
       "      <td>16.99</td>\n",
       "      <td>1.01</td>\n",
       "      <td>Female</td>\n",
       "      <td>No</td>\n",
       "      <td>Sun</td>\n",
       "      <td>Dinner</td>\n",
       "      <td>2</td>\n",
       "    </tr>\n",
       "    <tr>\n",
       "      <th>1</th>\n",
       "      <td>10.34</td>\n",
       "      <td>1.66</td>\n",
       "      <td>Male</td>\n",
       "      <td>No</td>\n",
       "      <td>Sun</td>\n",
       "      <td>Dinner</td>\n",
       "      <td>3</td>\n",
       "    </tr>\n",
       "    <tr>\n",
       "      <th>2</th>\n",
       "      <td>21.01</td>\n",
       "      <td>3.50</td>\n",
       "      <td>Male</td>\n",
       "      <td>No</td>\n",
       "      <td>Sun</td>\n",
       "      <td>Dinner</td>\n",
       "      <td>3</td>\n",
       "    </tr>\n",
       "    <tr>\n",
       "      <th>3</th>\n",
       "      <td>23.68</td>\n",
       "      <td>3.31</td>\n",
       "      <td>Male</td>\n",
       "      <td>No</td>\n",
       "      <td>Sun</td>\n",
       "      <td>Dinner</td>\n",
       "      <td>2</td>\n",
       "    </tr>\n",
       "    <tr>\n",
       "      <th>4</th>\n",
       "      <td>24.59</td>\n",
       "      <td>3.61</td>\n",
       "      <td>Female</td>\n",
       "      <td>No</td>\n",
       "      <td>Sun</td>\n",
       "      <td>Dinner</td>\n",
       "      <td>4</td>\n",
       "    </tr>\n",
       "    <tr>\n",
       "      <th>...</th>\n",
       "      <td>...</td>\n",
       "      <td>...</td>\n",
       "      <td>...</td>\n",
       "      <td>...</td>\n",
       "      <td>...</td>\n",
       "      <td>...</td>\n",
       "      <td>...</td>\n",
       "    </tr>\n",
       "    <tr>\n",
       "      <th>239</th>\n",
       "      <td>29.03</td>\n",
       "      <td>5.92</td>\n",
       "      <td>Male</td>\n",
       "      <td>No</td>\n",
       "      <td>Sat</td>\n",
       "      <td>Dinner</td>\n",
       "      <td>3</td>\n",
       "    </tr>\n",
       "    <tr>\n",
       "      <th>240</th>\n",
       "      <td>27.18</td>\n",
       "      <td>2.00</td>\n",
       "      <td>Female</td>\n",
       "      <td>Yes</td>\n",
       "      <td>Sat</td>\n",
       "      <td>Dinner</td>\n",
       "      <td>2</td>\n",
       "    </tr>\n",
       "    <tr>\n",
       "      <th>241</th>\n",
       "      <td>22.67</td>\n",
       "      <td>2.00</td>\n",
       "      <td>Male</td>\n",
       "      <td>Yes</td>\n",
       "      <td>Sat</td>\n",
       "      <td>Dinner</td>\n",
       "      <td>2</td>\n",
       "    </tr>\n",
       "    <tr>\n",
       "      <th>242</th>\n",
       "      <td>17.82</td>\n",
       "      <td>1.75</td>\n",
       "      <td>Male</td>\n",
       "      <td>No</td>\n",
       "      <td>Sat</td>\n",
       "      <td>Dinner</td>\n",
       "      <td>2</td>\n",
       "    </tr>\n",
       "    <tr>\n",
       "      <th>243</th>\n",
       "      <td>18.78</td>\n",
       "      <td>3.00</td>\n",
       "      <td>Female</td>\n",
       "      <td>No</td>\n",
       "      <td>Thur</td>\n",
       "      <td>Dinner</td>\n",
       "      <td>2</td>\n",
       "    </tr>\n",
       "  </tbody>\n",
       "</table>\n",
       "<p>244 rows × 7 columns</p>\n",
       "</div>"
      ],
      "text/plain": [
       "     total_bill   tip     sex smoker   day    time  size\n",
       "0         16.99  1.01  Female     No   Sun  Dinner     2\n",
       "1         10.34  1.66    Male     No   Sun  Dinner     3\n",
       "2         21.01  3.50    Male     No   Sun  Dinner     3\n",
       "3         23.68  3.31    Male     No   Sun  Dinner     2\n",
       "4         24.59  3.61  Female     No   Sun  Dinner     4\n",
       "..          ...   ...     ...    ...   ...     ...   ...\n",
       "239       29.03  5.92    Male     No   Sat  Dinner     3\n",
       "240       27.18  2.00  Female    Yes   Sat  Dinner     2\n",
       "241       22.67  2.00    Male    Yes   Sat  Dinner     2\n",
       "242       17.82  1.75    Male     No   Sat  Dinner     2\n",
       "243       18.78  3.00  Female     No  Thur  Dinner     2\n",
       "\n",
       "[244 rows x 7 columns]"
      ]
     },
     "execution_count": 97,
     "metadata": {},
     "output_type": "execute_result"
    }
   ],
   "source": [
    "import pandas as pd\n",
    "import sqlite3\n",
    "\n",
    "# Step 1: Load the CSV file into a DataFrame\n",
    "df = pd.read_csv('data/tips.csv')\n",
    "\n",
    "# Step 2: Connect to SQLite with a timeout\n",
    "con = sqlite3.connect('tips.db', timeout=10)\n",
    "\n",
    "# Step 3: Create a table in the SQLite database\n",
    "df.to_sql('tips', con, if_exists='replace', index=False)\n",
    "\n",
    "# Step 4: Commit the transaction and close the connection\n",
    "con.commit()\n",
    "con.close()\n",
    "\n",
    "# Display the DataFrame\n",
    "df"
   ]
  },
  {
   "cell_type": "markdown",
   "metadata": {},
   "source": [
    "# SQL Queries"
   ]
  },
  {
   "cell_type": "markdown",
   "metadata": {},
   "source": [
    "## Question 1\n",
    "\n",
    "Retrieve the average tip percentage for each day of the week"
   ]
  },
  {
   "cell_type": "code",
   "execution_count": 98,
   "metadata": {},
   "outputs": [
    {
     "name": "stdout",
     "output_type": "stream",
     "text": [
      "    day  average_tip_per_day\n",
      "0   Fri                15.94\n",
      "1   Sat                14.64\n",
      "2   Sun                15.20\n",
      "3  Thur                15.67\n"
     ]
    }
   ],
   "source": [
    "con = sqlite3.connect('tips.db')\n",
    "c = con.cursor()\n",
    "c.execute('''SELECT day, ROUND(SUM(tip)/SUM(total_bill)*100, 2) AS avg_tip_per_day\n",
    "          FROM tips\n",
    "          GROUP BY day''')\n",
    "\n",
    "df_temp = pd.DataFrame(c.fetchall(), columns=['day', 'average_tip_per_day'])\n",
    "\n",
    "print(df_temp)\n",
    "\n",
    "con.close()"
   ]
  },
  {
   "cell_type": "markdown",
   "metadata": {},
   "source": [
    "## Question 2\n",
    "\n",
    "Find the maximum and minimum total bill amounts"
   ]
  },
  {
   "cell_type": "code",
   "execution_count": 99,
   "metadata": {},
   "outputs": [
    {
     "name": "stdout",
     "output_type": "stream",
     "text": [
      "   min_total_bill  max_total_bill\n",
      "0           50.81            3.07\n"
     ]
    }
   ],
   "source": [
    "con = sqlite3.connect('tips.db')\n",
    "c = con.cursor()\n",
    "c.execute('''SELECT MAX(total_bill) AS max, MIN(total_bill) AS min\n",
    "          FROM tips''')\n",
    "\n",
    "df_temp = pd.DataFrame(c.fetchall(), columns=['min_total_bill', 'max_total_bill'])\n",
    "\n",
    "print(df_temp)\n",
    "\n",
    "con.close()"
   ]
  },
  {
   "cell_type": "markdown",
   "metadata": {},
   "source": [
    "## Question 3\n",
    "\n",
    "Count the number of parties for each size"
   ]
  },
  {
   "cell_type": "code",
   "execution_count": 100,
   "metadata": {},
   "outputs": [
    {
     "name": "stdout",
     "output_type": "stream",
     "text": [
      "   size  count\n",
      "0     1      4\n",
      "1     2    156\n",
      "2     3     38\n",
      "3     4     37\n",
      "4     5      5\n",
      "5     6      4\n"
     ]
    }
   ],
   "source": [
    "con = sqlite3.connect('tips.db')\n",
    "c = con.cursor()\n",
    "c.execute('''SELECT size, COUNT(size) AS count\n",
    "          FROM tips\n",
    "          GROUP BY size''')\n",
    "\n",
    "df_temp = pd.DataFrame(c.fetchall(), columns=['size', 'count'])\n",
    "\n",
    "print(df_temp)\n",
    "\n",
    "con.close()"
   ]
  },
  {
   "cell_type": "markdown",
   "metadata": {},
   "source": [
    "## Question 4\n",
    "\n",
    "Retrieve the total bill and tip for parties of size 4 or more, where the tip percentage is greater than 15%\n"
   ]
  },
  {
   "cell_type": "code",
   "execution_count": 101,
   "metadata": {},
   "outputs": [
    {
     "name": "stdout",
     "output_type": "stream",
     "text": [
      "    size  total_bill   tip  tip_percentage\n",
      "0      4       25.29  4.71           18.62\n",
      "1      4       18.43  3.00           16.28\n",
      "2      4       39.42  7.58           19.23\n",
      "3      4       30.40  5.60           18.42\n",
      "4      4       32.40  6.00           18.52\n",
      "5      4       25.56  4.34           16.98\n",
      "6      4       18.29  3.76           20.56\n",
      "7      4       29.93  5.07           16.94\n",
      "8      6       34.30  6.70           19.53\n",
      "9      6       27.05  5.00           18.48\n",
      "10     5       29.85  5.14           17.22\n",
      "11     4       21.50  3.50           16.28\n",
      "12     4       23.17  6.50           28.05\n",
      "13     5       20.69  5.00           24.17\n",
      "14     4       20.53  4.00           19.48\n",
      "15     4       25.89  5.16           19.93\n",
      "16     4       48.33  9.00           18.62\n"
     ]
    }
   ],
   "source": [
    "con = sqlite3.connect('tips.db')\n",
    "c = con.cursor()\n",
    "c.execute('''SELECT size, total_bill, tip, ROUND(tip/total_bill*100, 2) AS tip_percentage\n",
    "          FROM tips\n",
    "          WHERE size >= 4 AND tip_percentage > 15''')\n",
    "\n",
    "df_temp = pd.DataFrame(c.fetchall(), columns=['size','total_bill', 'tip', 'tip_percentage'])\n",
    "\n",
    "print(df_temp)\n",
    "\n",
    "con.close()"
   ]
  },
  {
   "cell_type": "markdown",
   "metadata": {},
   "source": [
    "## Question 5\n",
    "\n",
    "Retrieve the total bill, tip amount, and tip percentage for each combination of day and time, sorted by tip percentage in descending order"
   ]
  },
  {
   "cell_type": "code",
   "execution_count": 102,
   "metadata": {},
   "outputs": [
    {
     "name": "stdout",
     "output_type": "stream",
     "text": [
      "    day    time  total_bill  total_tip  tip_percentage\n",
      "0   Fri   Lunch       89.92      16.68           18.55\n",
      "1  Thur  Dinner       18.78       3.00           15.97\n",
      "2  Thur   Lunch     1077.55     168.83           15.67\n",
      "3   Sun  Dinner     1627.16     247.39           15.20\n",
      "4   Fri  Dinner      235.96      35.28           14.95\n",
      "5   Sat  Dinner     1778.40     260.40           14.64\n"
     ]
    }
   ],
   "source": [
    "con = sqlite3.connect('tips.db')\n",
    "c = con.cursor()\n",
    "c.execute('''SELECT day, time, SUM(total_bill), SUM(tip), ROUND(SUM(tip)/SUM(total_bill)*100,2) AS tip_percentage\n",
    "          FROM tips\n",
    "          GROUP BY day, time\n",
    "          ORDER BY tip_percentage DESC''')\n",
    "\n",
    "df_temp = pd.DataFrame(c.fetchall(), columns=['day','time', 'total_bill', 'total_tip', 'tip_percentage'])\n",
    "\n",
    "print(df_temp)\n",
    "\n",
    "con.close()"
   ]
  },
  {
   "cell_type": "markdown",
   "metadata": {},
   "source": [
    "## Question 6\n",
    "\n",
    "Find the average tip percentage for each combination of day, time, and smoker status"
   ]
  },
  {
   "cell_type": "code",
   "execution_count": 103,
   "metadata": {},
   "outputs": [
    {
     "name": "stdout",
     "output_type": "stream",
     "text": [
      "     day    time smoker  avg_tip_perc\n",
      "0    Fri  Dinner     No         14.30\n",
      "1    Fri  Dinner    Yes         15.16\n",
      "2    Fri   Lunch     No         18.77\n",
      "3    Fri   Lunch    Yes         18.50\n",
      "4    Sat  Dinner     No         15.78\n",
      "5    Sat  Dinner    Yes         13.51\n",
      "6    Sun  Dinner     No         15.45\n",
      "7    Sun  Dinner    Yes         14.58\n",
      "8   Thur  Dinner     No         15.97\n",
      "9   Thur   Lunch     No         15.62\n",
      "10  Thur   Lunch    Yes         15.79\n"
     ]
    }
   ],
   "source": [
    "con = sqlite3.connect('tips.db')\n",
    "c = con.cursor()\n",
    "query = \"\"\"SELECT day, time, smoker, ROUND(SUM(tip)/SUM(total_bill)*100, 2) as avg_tip_perc\n",
    "FROM tips\n",
    "GROUP BY day, time, smoker\"\"\"\n",
    "\n",
    "result = c.execute(query).fetchall()\n",
    "\n",
    "df_temp = pd.DataFrame(result,\n",
    "                        columns=[\"day\", \"time\", 'smoker', 'avg_tip_perc'])\n",
    "print(df_temp)\n",
    "\n",
    "con.close()"
   ]
  },
  {
   "cell_type": "markdown",
   "metadata": {},
   "source": [
    "## Question 7\n",
    "\n",
    "Retrieve the total bill, tip amount, and tip percentage for each sex, sorted by total bill in descending order, and limit the results to the top 5 records"
   ]
  },
  {
   "cell_type": "code",
   "execution_count": 104,
   "metadata": {},
   "outputs": [
    {
     "name": "stdout",
     "output_type": "stream",
     "text": [
      "    sex  total_bill    tip  tip_perc\n",
      "0  Male       50.81  10.00     19.68\n",
      "1  Male       48.33   9.00     18.62\n",
      "2  Male       48.27   6.73     13.94\n",
      "3  Male       48.17   5.00     10.38\n",
      "4  Male       45.35   3.50      7.72\n"
     ]
    }
   ],
   "source": [
    "con = sqlite3.connect('tips.db')\n",
    "c = con.cursor()\n",
    "query = \"\"\"SELECT sex, total_bill, tip, ROUND((tip/total_bill)*100, 2) as tip_perc\n",
    "FROM tips\n",
    "ORDER BY total_bill DESC\n",
    "LIMIT 5\"\"\"\n",
    "\n",
    "result = c.execute(query).fetchall()\n",
    "df_temp = pd.DataFrame(result, columns=[\"sex\", \"total_bill\", 'tip', 'tip_perc'])\n",
    "print(df_temp)\n",
    "\n",
    "con.close()"
   ]
  },
  {
   "cell_type": "markdown",
   "metadata": {},
   "source": [
    "## Question 8\n",
    "\n",
    "Find the maximum and minimum tip percentage for each day and time combination, along with the corresponding total bill and tip amount"
   ]
  },
  {
   "cell_type": "code",
   "execution_count": 105,
   "metadata": {},
   "outputs": [
    {
     "name": "stdout",
     "output_type": "stream",
     "text": [
      "    day    time  total_bill   tip  max_tip  min_tip\n",
      "0   Fri  Dinner       28.97  3.00    26.35    10.36\n",
      "1   Fri   Lunch       13.42  1.58    25.93    11.77\n",
      "2   Sat  Dinner       32.83  1.17    32.57     3.56\n",
      "3   Sun  Dinner       16.99  1.01    71.03     5.94\n",
      "4  Thur  Dinner       18.78  3.00    15.97    15.97\n",
      "5  Thur   Lunch       18.64  1.36    26.63     7.30\n"
     ]
    }
   ],
   "source": [
    "con = sqlite3.connect('tips.db')\n",
    "c = con.cursor()\n",
    "\n",
    "query = \"\"\"SELECT day, time, \n",
    "total_bill, \n",
    "tip, \n",
    "ROUND(MAX((tip/total_bill)*100), 2) as max_tip, \n",
    "ROUND(MIN((tip/total_bill)*100), 2) as min_tip\n",
    "FROM tips\n",
    "GROUP BY day, time;\"\"\"\n",
    "\n",
    "result = c.execute(query).fetchall()\n",
    "\n",
    "df_temp = pd.DataFrame(result, columns=[\"day\", \"time\", 'total_bill', 'tip', 'max_tip', 'min_tip'])\n",
    "print(df_temp)\n",
    "\n",
    "c.close()"
   ]
  },
  {
   "cell_type": "markdown",
   "metadata": {},
   "source": [
    "## Question 9 \n",
    "\n",
    "Retrieve the total bill, tip amount, and tip percentage for parties of size 4 or more, where the tip percentage is greater than 15%, and the total bill is between $50 and $100"
   ]
  },
  {
   "cell_type": "code",
   "execution_count": 106,
   "metadata": {},
   "outputs": [
    {
     "name": "stdout",
     "output_type": "stream",
     "text": [
      "Empty DataFrame\n",
      "Columns: [size, total_bill, tip, tip_perc]\n",
      "Index: []\n"
     ]
    }
   ],
   "source": [
    "con = sqlite3.connect('tips.db')\n",
    "c = con.cursor()\n",
    "\n",
    "query = \"\"\"SELECT size, total_bill, tip, ROUND((tip/total_bill)*100, 2) as tip_perc\n",
    "FROM tips\n",
    "WHERE size >= 4 \n",
    "AND (tip/total_bill)*100 >15  \n",
    "AND total_bill > 50 \n",
    "AND total_bill < 100\"\"\"\n",
    "\n",
    "result = c.execute(query).fetchall()\n",
    "\n",
    "df_temp = pd.DataFrame(result, columns=[\"size\", \"total_bill\", 'tip', 'tip_perc'])\n",
    "print(df_temp)\n",
    "\n",
    "con.close()"
   ]
  },
  {
   "cell_type": "markdown",
   "metadata": {},
   "source": [
    "## Question 10\n",
    "\n",
    "Find the average tip percentage for each combination of day, time, and smoker status, but only include combinations with more than 5 records"
   ]
  },
  {
   "cell_type": "code",
   "execution_count": 107,
   "metadata": {},
   "outputs": [
    {
     "name": "stdout",
     "output_type": "stream",
     "text": [
      "    day    time smoker  avg_tip_perc\n",
      "0   Fri  Dinner    Yes         15.16\n",
      "1   Fri   Lunch    Yes         18.50\n",
      "2   Sat  Dinner     No         15.78\n",
      "3   Sat  Dinner    Yes         13.51\n",
      "4   Sun  Dinner     No         15.45\n",
      "5   Sun  Dinner    Yes         14.58\n",
      "6  Thur   Lunch     No         15.62\n",
      "7  Thur   Lunch    Yes         15.79\n"
     ]
    }
   ],
   "source": [
    "con = sqlite3.connect('tips.db')\n",
    "c = con.cursor()\n",
    "\n",
    "query = \"\"\"SELECT day, time, smoker, ROUND((SUM(tip)/SUM(total_bill))*100, 2) as avg_tip_perc\n",
    "FROM tips\n",
    "GROUP BY day, time, smoker\n",
    "HAVING COUNT(*) > 5\"\"\"\n",
    "\n",
    "result = c.execute(query).fetchall()\n",
    "\n",
    "df_temp = pd.DataFrame(result, columns=[\"day\", \"time\", 'smoker', 'avg_tip_perc'])\n",
    "print(df_temp)\n",
    "\n",
    "con.close()"
   ]
  },
  {
   "cell_type": "markdown",
   "metadata": {},
   "source": [
    "## 5 additional queries\n"
   ]
  },
  {
   "cell_type": "markdown",
   "metadata": {},
   "source": [
    "Insert an Additional Row/Rows into the Database"
   ]
  },
  {
   "cell_type": "code",
   "execution_count": 108,
   "metadata": {},
   "outputs": [
    {
     "name": "stdout",
     "output_type": "stream",
     "text": [
      "Original number of rows in Dataset:  244\n",
      "Modified number of rows in Dataset:  248\n"
     ]
    }
   ],
   "source": [
    "con = sqlite3.connect('tips.db')\n",
    "c = con.cursor()\n",
    "\n",
    "print(\"Original number of rows in Dataset: \", len(df))\n",
    "c.execute(\"\"\"INSERT INTO tips VALUES (30.1, 4, \"female\", \"No\",\t\"Thu\", \"Dinner\", 2)\"\"\")\n",
    "\n",
    "many_rows = [\n",
    "    (70.1, 4, 'female', 'No', 'Thu', 'Dinner', 4),\n",
    "    (50.7, 5.6, 'male', 'No', 'Fri', 'Dinner', 3),\n",
    "    (35.9, 4.6, 'female', 'Yes', 'Sat', 'Lunch', 2)]\n",
    "\n",
    "# using field placeholders\n",
    "result = c.executemany(\"\"\"INSERT INTO tips VALUES (?, ?, ?, ?, ?, ?, ?)\"\"\", many_rows)\n",
    "\n",
    "df_temp = pd.DataFrame(result)\n",
    "con.commit()\n",
    "\n",
    "# Get the updated number of rows\n",
    "df_temp = pd.read_sql_query(\"SELECT * FROM tips\", con)\n",
    "print(\"Modified number of rows in Dataset: \", len(df_temp))\n",
    "\n",
    "con.close()"
   ]
  },
  {
   "cell_type": "markdown",
   "metadata": {},
   "source": [
    "Exploring Subquerying and Nested Queries: Find all sex and smoker values for tips that are greater than the average tip value:"
   ]
  },
  {
   "cell_type": "code",
   "execution_count": 109,
   "metadata": {},
   "outputs": [
    {
     "name": "stdout",
     "output_type": "stream",
     "text": [
      "[('Male', 'No'), ('Male', 'No'), ('Female', 'No'), ('Male', 'No'), ('Male', 'No'), ('Male', 'No'), ('Female', 'No'), ('Male', 'No'), ('Male', 'No'), ('Female', 'No'), ('Male', 'No'), ('Male', 'No'), ('Male', 'No'), ('Male', 'No'), ('Male', 'No'), ('Male', 'No'), ('Male', 'No'), ('Female', 'No'), ('Male', 'No'), ('Male', 'No'), ('Male', 'No'), ('Male', 'No'), ('Male', 'No'), ('Female', 'No'), ('Male', 'No'), ('Male', 'No'), ('Male', 'No'), ('Male', 'Yes'), ('Male', 'Yes'), ('Male', 'No'), ('Female', 'Yes'), ('Female', 'Yes'), ('Male', 'Yes'), ('Male', 'No'), ('Male', 'No'), ('Male', 'Yes'), ('Female', 'No'), ('Male', 'No'), ('Male', 'No'), ('Male', 'No'), ('Female', 'Yes'), ('Female', 'No'), ('Male', 'Yes'), ('Male', 'Yes'), ('Female', 'Yes'), ('Female', 'No'), ('Male', 'Yes'), ('Male', 'Yes'), ('Male', 'No'), ('Female', 'Yes'), ('Male', 'No'), ('Female', 'No'), ('Female', 'No'), ('Male', 'No'), ('Female', 'No'), ('Female', 'No'), ('Female', 'No'), ('Male', 'No'), ('Male', 'No'), ('Female', 'No'), ('Female', 'No'), ('Male', 'No'), ('Female', 'No'), ('Male', 'No'), ('Male', 'No'), ('Male', 'No'), ('Male', 'Yes'), ('Male', 'Yes'), ('Male', 'Yes'), ('Male', 'Yes'), ('Male', 'Yes'), ('Male', 'Yes'), ('Female', 'Yes'), ('Male', 'Yes'), ('Male', 'Yes'), ('Male', 'Yes'), ('Male', 'Yes'), ('Male', 'Yes'), ('Male', 'No'), ('Female', 'Yes'), ('Female', 'Yes'), ('Male', 'Yes'), ('Female', 'Yes'), ('Male', 'Yes'), ('Female', 'Yes'), ('Male', 'Yes'), ('Male', 'Yes'), ('Female', 'Yes'), ('Male', 'Yes'), ('Male', 'Yes'), ('Male', 'No'), ('Female', 'Yes'), ('Female', 'Yes'), ('Female', 'Yes'), ('Male', 'No'), ('Female', 'No'), ('Male', 'No'), ('female', 'No'), ('female', 'No'), ('male', 'No'), ('female', 'Yes')]\n"
     ]
    }
   ],
   "source": [
    "con = sqlite3.connect('tips.db')\n",
    "c = con.cursor()\n",
    "\n",
    "query =\"\"\"SELECT sex, smoker\n",
    "FROM tips\n",
    "WHERE tip > (\n",
    "SELECT AVG(tip)\n",
    "FROM tips\n",
    ")\n",
    "\"\"\"\n",
    "\n",
    "result = c.execute(query).fetchall()\n",
    "print(result)\n",
    "\n",
    "con.close()"
   ]
  },
  {
   "cell_type": "markdown",
   "metadata": {},
   "source": [
    "Creating Indexes"
   ]
  },
  {
   "cell_type": "code",
   "execution_count": 110,
   "metadata": {},
   "outputs": [
    {
     "name": "stdout",
     "output_type": "stream",
     "text": [
      "[(0, 'reservation_no', 0, 'c', 0)]\n"
     ]
    }
   ],
   "source": [
    "con = sqlite3.connect('tips.db')\n",
    "c = con.cursor()\n",
    "\n",
    "res = c.execute(\"\"\"CREATE INDEX IF NOT EXISTS reservation_no ON tips(total_bill)\"\"\")\n",
    "indexes = c.execute(\"PRAGMA index_list('tips')\").fetchall()\n",
    "con.commit()\n",
    "\n",
    "print(indexes)\n",
    "\n",
    "con.close()"
   ]
  },
  {
   "cell_type": "markdown",
   "metadata": {},
   "source": [
    "Analyzing Query Performance"
   ]
  },
  {
   "cell_type": "code",
   "execution_count": 111,
   "metadata": {},
   "outputs": [
    {
     "name": "stdout",
     "output_type": "stream",
     "text": [
      "[(3, 0, 0, 'SEARCH tips USING INDEX reservation_no (total_bill>?)')]\n"
     ]
    }
   ],
   "source": [
    "# SQLite provides the EXPLAIN QUERY PLAN command, which helps analyze the execution plan of a query and identify areas for optimization.\n",
    "con = sqlite3.connect('tips.db')\n",
    "c = con.cursor()\n",
    "\n",
    "query = \"SELECT * FROM tips WHERE total_bill > 50\"\n",
    "res = c.execute(\"EXPLAIN QUERY PLAN \" + query)\n",
    "data = res.fetchall()\n",
    "print(data)\n",
    "\n",
    "con.close()"
   ]
  },
  {
   "cell_type": "markdown",
   "metadata": {},
   "source": [
    "Exploring the Self-Join Operation by analyzing tipping patterns between men and women. \n",
    "\n",
    "Joins the tips table with itself to compare tips for different sex while matching on other attributes like size, day, smoker, and time."
   ]
  },
  {
   "cell_type": "code",
   "execution_count": 112,
   "metadata": {},
   "outputs": [
    {
     "name": "stdout",
     "output_type": "stream",
     "text": [
      "       sex 1  tip 1   sex 2  tip 2\n",
      "0     Female   1.01    Male   1.32\n",
      "1     Female   1.01    Male   1.56\n",
      "2     Female   1.01    Male   1.57\n",
      "3     Female   1.01    Male   1.71\n",
      "4     Female   1.01    Male   1.96\n",
      "...      ...    ...     ...    ...\n",
      "1873    Male   1.75  Female   2.47\n",
      "1874    Male   1.75  Female   2.75\n",
      "1875    Male   1.75  Female   3.00\n",
      "1876    Male   1.75  Female   3.00\n",
      "1877    Male   1.75  Female   4.08\n",
      "\n",
      "[1878 rows x 4 columns]\n"
     ]
    }
   ],
   "source": [
    "con = sqlite3.connect('tips.db')\n",
    "c = con.cursor()\n",
    "\n",
    "query = \"\"\"SELECT t1.sex AS sex1, t1.tip AS tip1, t2.sex AS sex2, t2.tip AS tip2\n",
    "FROM tips t1\n",
    "INNER JOIN tips t2\n",
    "ON t1.size = t2.size\n",
    "AND t1.day = t2.day\n",
    "AND t1.smoker = t2.smoker\n",
    "AND t1.time = t2.time\n",
    "AND t1.sex != t2.sex\"\"\"\n",
    "\n",
    "\n",
    "result = c.execute(query).fetchall()\n",
    "df_temp = pd.DataFrame(result, columns=[\"sex 1\", \"tip 1\", 'sex 2', 'tip 2'])\n",
    "print(df_temp)\n",
    "\n",
    "con.close()"
   ]
  },
  {
   "cell_type": "markdown",
   "metadata": {},
   "source": [
    "## UPDATE\n",
    "\n",
    "It was determined that there was an error in the database. Please update the record that corresponds to id=10 and set smoker to Yes."
   ]
  },
  {
   "cell_type": "code",
   "execution_count": 113,
   "metadata": {},
   "outputs": [
    {
     "name": "stdout",
     "output_type": "stream",
     "text": [
      "Before updating record\n",
      "[(14.78, 3.23, 'Male', 'No', 'Sun', 'Dinner', 2)]\n",
      "After updating record\n",
      "[(14.78, 3.23, 'Male', 'Yes', 'Sun', 'Dinner', 2)]\n"
     ]
    }
   ],
   "source": [
    "con = sqlite3.connect('tips.db')\n",
    "c = con.cursor()\n",
    "\n",
    "\n",
    "c.execute('''SELECT *\n",
    "          FROM tips\n",
    "          WHERE ROWID = 10''')\n",
    "\n",
    "print(\"Before updating record\")\n",
    "print(c.fetchall())\n",
    "\n",
    "c.execute('''UPDATE tips\n",
    "          SET smoker = 'Yes'\n",
    "          WHERE ROWID = 10''')\n",
    "\n",
    "\n",
    "c.execute('''SELECT *\n",
    "          FROM tips\n",
    "          WHERE ROWID = 10''')\n",
    "\n",
    "con.commit()\n",
    "\n",
    "print(\"After updating record\")\n",
    "print(c.fetchall())\n",
    "\n",
    "con.close()"
   ]
  },
  {
   "cell_type": "markdown",
   "metadata": {},
   "source": [
    "## DELETE\n",
    "\n",
    "Delete records from the database that have a total bill that is less than $10."
   ]
  },
  {
   "cell_type": "code",
   "execution_count": 114,
   "metadata": {},
   "outputs": [],
   "source": [
    "con = sqlite3.connect('tips.db')\n",
    "c = con.cursor()\n",
    "\n",
    "c.execute('''DELETE FROM tips\n",
    "          WHERE total_bill < 10''')\n",
    "\n",
    "con.commit()\n",
    "con.close()"
   ]
  }
 ],
 "metadata": {
  "kernelspec": {
   "display_name": "Python 3",
   "language": "python",
   "name": "python3"
  },
  "language_info": {
   "codemirror_mode": {
    "name": "ipython",
    "version": 3
   },
   "file_extension": ".py",
   "mimetype": "text/x-python",
   "name": "python",
   "nbconvert_exporter": "python",
   "pygments_lexer": "ipython3",
   "version": "3.12.5"
  }
 },
 "nbformat": 4,
 "nbformat_minor": 2
}
