{
 "cells": [
  {
   "cell_type": "markdown",
   "metadata": {},
   "source": [
    "# Team Assignment #2\n",
    "\n",
    "Team Sakia - Sakshee Patil and Iara Ravagni"
   ]
  },
  {
   "cell_type": "markdown",
   "metadata": {},
   "source": [
    "# Importing libraries and loading CSV data file"
   ]
  },
  {
   "cell_type": "code",
   "execution_count": 88,
   "metadata": {},
   "outputs": [
    {
     "data": {
      "text/html": [
       "<div>\n",
       "<style scoped>\n",
       "    .dataframe tbody tr th:only-of-type {\n",
       "        vertical-align: middle;\n",
       "    }\n",
       "\n",
       "    .dataframe tbody tr th {\n",
       "        vertical-align: top;\n",
       "    }\n",
       "\n",
       "    .dataframe thead th {\n",
       "        text-align: right;\n",
       "    }\n",
       "</style>\n",
       "<table border=\"1\" class=\"dataframe\">\n",
       "  <thead>\n",
       "    <tr style=\"text-align: right;\">\n",
       "      <th></th>\n",
       "      <th>total_bill</th>\n",
       "      <th>tip</th>\n",
       "      <th>sex</th>\n",
       "      <th>smoker</th>\n",
       "      <th>day</th>\n",
       "      <th>time</th>\n",
       "      <th>size</th>\n",
       "    </tr>\n",
       "  </thead>\n",
       "  <tbody>\n",
       "    <tr>\n",
       "      <th>0</th>\n",
       "      <td>16.99</td>\n",
       "      <td>1.01</td>\n",
       "      <td>Female</td>\n",
       "      <td>No</td>\n",
       "      <td>Sun</td>\n",
       "      <td>Dinner</td>\n",
       "      <td>2</td>\n",
       "    </tr>\n",
       "    <tr>\n",
       "      <th>1</th>\n",
       "      <td>10.34</td>\n",
       "      <td>1.66</td>\n",
       "      <td>Male</td>\n",
       "      <td>No</td>\n",
       "      <td>Sun</td>\n",
       "      <td>Dinner</td>\n",
       "      <td>3</td>\n",
       "    </tr>\n",
       "    <tr>\n",
       "      <th>2</th>\n",
       "      <td>21.01</td>\n",
       "      <td>3.50</td>\n",
       "      <td>Male</td>\n",
       "      <td>No</td>\n",
       "      <td>Sun</td>\n",
       "      <td>Dinner</td>\n",
       "      <td>3</td>\n",
       "    </tr>\n",
       "    <tr>\n",
       "      <th>3</th>\n",
       "      <td>23.68</td>\n",
       "      <td>3.31</td>\n",
       "      <td>Male</td>\n",
       "      <td>No</td>\n",
       "      <td>Sun</td>\n",
       "      <td>Dinner</td>\n",
       "      <td>2</td>\n",
       "    </tr>\n",
       "    <tr>\n",
       "      <th>4</th>\n",
       "      <td>24.59</td>\n",
       "      <td>3.61</td>\n",
       "      <td>Female</td>\n",
       "      <td>No</td>\n",
       "      <td>Sun</td>\n",
       "      <td>Dinner</td>\n",
       "      <td>4</td>\n",
       "    </tr>\n",
       "    <tr>\n",
       "      <th>...</th>\n",
       "      <td>...</td>\n",
       "      <td>...</td>\n",
       "      <td>...</td>\n",
       "      <td>...</td>\n",
       "      <td>...</td>\n",
       "      <td>...</td>\n",
       "      <td>...</td>\n",
       "    </tr>\n",
       "    <tr>\n",
       "      <th>239</th>\n",
       "      <td>29.03</td>\n",
       "      <td>5.92</td>\n",
       "      <td>Male</td>\n",
       "      <td>No</td>\n",
       "      <td>Sat</td>\n",
       "      <td>Dinner</td>\n",
       "      <td>3</td>\n",
       "    </tr>\n",
       "    <tr>\n",
       "      <th>240</th>\n",
       "      <td>27.18</td>\n",
       "      <td>2.00</td>\n",
       "      <td>Female</td>\n",
       "      <td>Yes</td>\n",
       "      <td>Sat</td>\n",
       "      <td>Dinner</td>\n",
       "      <td>2</td>\n",
       "    </tr>\n",
       "    <tr>\n",
       "      <th>241</th>\n",
       "      <td>22.67</td>\n",
       "      <td>2.00</td>\n",
       "      <td>Male</td>\n",
       "      <td>Yes</td>\n",
       "      <td>Sat</td>\n",
       "      <td>Dinner</td>\n",
       "      <td>2</td>\n",
       "    </tr>\n",
       "    <tr>\n",
       "      <th>242</th>\n",
       "      <td>17.82</td>\n",
       "      <td>1.75</td>\n",
       "      <td>Male</td>\n",
       "      <td>No</td>\n",
       "      <td>Sat</td>\n",
       "      <td>Dinner</td>\n",
       "      <td>2</td>\n",
       "    </tr>\n",
       "    <tr>\n",
       "      <th>243</th>\n",
       "      <td>18.78</td>\n",
       "      <td>3.00</td>\n",
       "      <td>Female</td>\n",
       "      <td>No</td>\n",
       "      <td>Thur</td>\n",
       "      <td>Dinner</td>\n",
       "      <td>2</td>\n",
       "    </tr>\n",
       "  </tbody>\n",
       "</table>\n",
       "<p>244 rows × 7 columns</p>\n",
       "</div>"
      ],
      "text/plain": [
       "     total_bill   tip     sex smoker   day    time  size\n",
       "0         16.99  1.01  Female     No   Sun  Dinner     2\n",
       "1         10.34  1.66    Male     No   Sun  Dinner     3\n",
       "2         21.01  3.50    Male     No   Sun  Dinner     3\n",
       "3         23.68  3.31    Male     No   Sun  Dinner     2\n",
       "4         24.59  3.61  Female     No   Sun  Dinner     4\n",
       "..          ...   ...     ...    ...   ...     ...   ...\n",
       "239       29.03  5.92    Male     No   Sat  Dinner     3\n",
       "240       27.18  2.00  Female    Yes   Sat  Dinner     2\n",
       "241       22.67  2.00    Male    Yes   Sat  Dinner     2\n",
       "242       17.82  1.75    Male     No   Sat  Dinner     2\n",
       "243       18.78  3.00  Female     No  Thur  Dinner     2\n",
       "\n",
       "[244 rows x 7 columns]"
      ]
     },
     "execution_count": 88,
     "metadata": {},
     "output_type": "execute_result"
    }
   ],
   "source": [
    "import pandas as pd\n",
    "import sqlite3\n",
    "\n",
    "# Step 1: Load the CSV file into a DataFrame\n",
    "df = pd.read_csv('data/tips.csv')\n",
    "\n",
    "# Step 2: Connect to SQLite\n",
    "con = sqlite3.connect('ta2-sakia.db')\n",
    "cursor = con.cursor()\n",
    "\n",
    "# Step 3: Create a table in the SQLite database\n",
    "df.to_sql('tips', con, if_exists='replace', index=False)\n",
    "\n",
    "# Step 4: Commit the transaction and close the connection\n",
    "# con.commit()\n",
    "# con.close()\n",
    "\n",
    "df"
   ]
  },
  {
   "cell_type": "markdown",
   "metadata": {},
   "source": [
    "# SQL Queries"
   ]
  },
  {
   "cell_type": "markdown",
   "metadata": {},
   "source": [
    "## Question 1\n",
    "\n",
    "Retrieve the average tip percentage for each day of the week"
   ]
  },
  {
   "cell_type": "code",
   "execution_count": null,
   "metadata": {},
   "outputs": [],
   "source": []
  },
  {
   "cell_type": "markdown",
   "metadata": {},
   "source": [
    "## Question 2\n",
    "\n",
    "Find the maximum and minimum total bull amounts"
   ]
  },
  {
   "cell_type": "code",
   "execution_count": null,
   "metadata": {},
   "outputs": [],
   "source": []
  },
  {
   "cell_type": "markdown",
   "metadata": {},
   "source": [
    "## Question 3\n",
    "\n",
    "Count the number of parties for each size"
   ]
  },
  {
   "cell_type": "code",
   "execution_count": null,
   "metadata": {},
   "outputs": [],
   "source": []
  },
  {
   "cell_type": "markdown",
   "metadata": {},
   "source": [
    "## Question 4\n",
    "\n",
    "Retrieve the total bill and tip for parties of size 4 or more, where the tip percentage is greater than 15%\n"
   ]
  },
  {
   "cell_type": "code",
   "execution_count": null,
   "metadata": {},
   "outputs": [],
   "source": []
  },
  {
   "cell_type": "markdown",
   "metadata": {},
   "source": [
    "## Question 5\n",
    "\n",
    "Retrieve the total bill, tip amount, and tip percentage for each combination of day and time, sorted by tip percentage in descending order"
   ]
  },
  {
   "cell_type": "code",
   "execution_count": null,
   "metadata": {},
   "outputs": [],
   "source": []
  },
  {
   "cell_type": "markdown",
   "metadata": {},
   "source": [
    "## Question 6\n",
    "\n",
    "Find the average tip percentage for each combination of day, time, and smoker status"
   ]
  },
  {
   "cell_type": "code",
   "execution_count": 83,
   "metadata": {},
   "outputs": [
    {
     "data": {
      "text/html": [
       "<div>\n",
       "<style scoped>\n",
       "    .dataframe tbody tr th:only-of-type {\n",
       "        vertical-align: middle;\n",
       "    }\n",
       "\n",
       "    .dataframe tbody tr th {\n",
       "        vertical-align: top;\n",
       "    }\n",
       "\n",
       "    .dataframe thead th {\n",
       "        text-align: right;\n",
       "    }\n",
       "</style>\n",
       "<table border=\"1\" class=\"dataframe\">\n",
       "  <thead>\n",
       "    <tr style=\"text-align: right;\">\n",
       "      <th></th>\n",
       "      <th>day</th>\n",
       "      <th>time</th>\n",
       "      <th>smoker</th>\n",
       "      <th>avg_tip_perc</th>\n",
       "    </tr>\n",
       "  </thead>\n",
       "  <tbody>\n",
       "    <tr>\n",
       "      <th>0</th>\n",
       "      <td>Fri</td>\n",
       "      <td>Dinner</td>\n",
       "      <td>No</td>\n",
       "      <td>14.298094</td>\n",
       "    </tr>\n",
       "    <tr>\n",
       "      <th>1</th>\n",
       "      <td>Fri</td>\n",
       "      <td>Dinner</td>\n",
       "      <td>Yes</td>\n",
       "      <td>15.163245</td>\n",
       "    </tr>\n",
       "    <tr>\n",
       "      <th>2</th>\n",
       "      <td>Fri</td>\n",
       "      <td>Lunch</td>\n",
       "      <td>No</td>\n",
       "      <td>18.773467</td>\n",
       "    </tr>\n",
       "    <tr>\n",
       "      <th>3</th>\n",
       "      <td>Fri</td>\n",
       "      <td>Lunch</td>\n",
       "      <td>Yes</td>\n",
       "      <td>18.501488</td>\n",
       "    </tr>\n",
       "    <tr>\n",
       "      <th>4</th>\n",
       "      <td>Sat</td>\n",
       "      <td>Dinner</td>\n",
       "      <td>No</td>\n",
       "      <td>15.781324</td>\n",
       "    </tr>\n",
       "    <tr>\n",
       "      <th>5</th>\n",
       "      <td>Sat</td>\n",
       "      <td>Dinner</td>\n",
       "      <td>Yes</td>\n",
       "      <td>13.514693</td>\n",
       "    </tr>\n",
       "    <tr>\n",
       "      <th>6</th>\n",
       "      <td>Sun</td>\n",
       "      <td>Dinner</td>\n",
       "      <td>No</td>\n",
       "      <td>15.448121</td>\n",
       "    </tr>\n",
       "    <tr>\n",
       "      <th>7</th>\n",
       "      <td>Sun</td>\n",
       "      <td>Dinner</td>\n",
       "      <td>Yes</td>\n",
       "      <td>14.580606</td>\n",
       "    </tr>\n",
       "    <tr>\n",
       "      <th>8</th>\n",
       "      <td>Thur</td>\n",
       "      <td>Dinner</td>\n",
       "      <td>No</td>\n",
       "      <td>15.974441</td>\n",
       "    </tr>\n",
       "    <tr>\n",
       "      <th>9</th>\n",
       "      <td>Thur</td>\n",
       "      <td>Lunch</td>\n",
       "      <td>No</td>\n",
       "      <td>15.615392</td>\n",
       "    </tr>\n",
       "    <tr>\n",
       "      <th>10</th>\n",
       "      <td>Thur</td>\n",
       "      <td>Lunch</td>\n",
       "      <td>Yes</td>\n",
       "      <td>15.788990</td>\n",
       "    </tr>\n",
       "  </tbody>\n",
       "</table>\n",
       "</div>"
      ],
      "text/plain": [
       "     day    time smoker  avg_tip_perc\n",
       "0    Fri  Dinner     No     14.298094\n",
       "1    Fri  Dinner    Yes     15.163245\n",
       "2    Fri   Lunch     No     18.773467\n",
       "3    Fri   Lunch    Yes     18.501488\n",
       "4    Sat  Dinner     No     15.781324\n",
       "5    Sat  Dinner    Yes     13.514693\n",
       "6    Sun  Dinner     No     15.448121\n",
       "7    Sun  Dinner    Yes     14.580606\n",
       "8   Thur  Dinner     No     15.974441\n",
       "9   Thur   Lunch     No     15.615392\n",
       "10  Thur   Lunch    Yes     15.788990"
      ]
     },
     "execution_count": 83,
     "metadata": {},
     "output_type": "execute_result"
    }
   ],
   "source": [
    "query = \"\"\"SELECT day, time, smoker, SUM(tip)/SUM(total_bill)*100 as avg_tip_perc\n",
    "FROM tips\n",
    "GROUP BY day, time, smoker\"\"\"\n",
    "\n",
    "result = cursor.execute(query).fetchall()\n",
    "\n",
    "df_temp = pd.DataFrame(result, columns=[\"day\", \"time\", 'smoker', 'avg_tip_perc'])\n",
    "df_temp"
   ]
  },
  {
   "cell_type": "markdown",
   "metadata": {},
   "source": [
    "## Question 7\n",
    "\n",
    "Retrieve the total bill, tip amount, and tip percentage for each sex, sorted by total bill in descending order, and limit the results to the top 5 records"
   ]
  },
  {
   "cell_type": "code",
   "execution_count": 84,
   "metadata": {},
   "outputs": [
    {
     "data": {
      "text/html": [
       "<div>\n",
       "<style scoped>\n",
       "    .dataframe tbody tr th:only-of-type {\n",
       "        vertical-align: middle;\n",
       "    }\n",
       "\n",
       "    .dataframe tbody tr th {\n",
       "        vertical-align: top;\n",
       "    }\n",
       "\n",
       "    .dataframe thead th {\n",
       "        text-align: right;\n",
       "    }\n",
       "</style>\n",
       "<table border=\"1\" class=\"dataframe\">\n",
       "  <thead>\n",
       "    <tr style=\"text-align: right;\">\n",
       "      <th></th>\n",
       "      <th>sex</th>\n",
       "      <th>total_bill</th>\n",
       "      <th>tip</th>\n",
       "      <th>tip_perc</th>\n",
       "    </tr>\n",
       "  </thead>\n",
       "  <tbody>\n",
       "    <tr>\n",
       "      <th>0</th>\n",
       "      <td>Male</td>\n",
       "      <td>50.81</td>\n",
       "      <td>10.00</td>\n",
       "      <td>19.681165</td>\n",
       "    </tr>\n",
       "    <tr>\n",
       "      <th>1</th>\n",
       "      <td>Male</td>\n",
       "      <td>48.33</td>\n",
       "      <td>9.00</td>\n",
       "      <td>18.621974</td>\n",
       "    </tr>\n",
       "    <tr>\n",
       "      <th>2</th>\n",
       "      <td>Male</td>\n",
       "      <td>48.27</td>\n",
       "      <td>6.73</td>\n",
       "      <td>13.942407</td>\n",
       "    </tr>\n",
       "    <tr>\n",
       "      <th>3</th>\n",
       "      <td>Male</td>\n",
       "      <td>48.17</td>\n",
       "      <td>5.00</td>\n",
       "      <td>10.379905</td>\n",
       "    </tr>\n",
       "    <tr>\n",
       "      <th>4</th>\n",
       "      <td>Male</td>\n",
       "      <td>45.35</td>\n",
       "      <td>3.50</td>\n",
       "      <td>7.717751</td>\n",
       "    </tr>\n",
       "  </tbody>\n",
       "</table>\n",
       "</div>"
      ],
      "text/plain": [
       "    sex  total_bill    tip   tip_perc\n",
       "0  Male       50.81  10.00  19.681165\n",
       "1  Male       48.33   9.00  18.621974\n",
       "2  Male       48.27   6.73  13.942407\n",
       "3  Male       48.17   5.00  10.379905\n",
       "4  Male       45.35   3.50   7.717751"
      ]
     },
     "execution_count": 84,
     "metadata": {},
     "output_type": "execute_result"
    }
   ],
   "source": [
    "query = \"\"\"SELECT sex, total_bill, tip, (tip/total_bill)*100 as tip_perc\n",
    "FROM tips\n",
    "ORDER BY total_bill DESC\n",
    "LIMIT 5\"\"\"\n",
    "\n",
    "result = cursor.execute(query).fetchall()\n",
    "df_temp = pd.DataFrame(result, columns=[\"sex\", \"total_bill\", 'tip', 'tip_perc'])\n",
    "df_temp"
   ]
  },
  {
   "cell_type": "markdown",
   "metadata": {},
   "source": [
    "## Question 8\n",
    "\n",
    "Find the maximum and minimum tip percentage for each day and time combination, along with the corresponding total bill and tip amount"
   ]
  },
  {
   "cell_type": "code",
   "execution_count": 85,
   "metadata": {},
   "outputs": [
    {
     "data": {
      "text/html": [
       "<div>\n",
       "<style scoped>\n",
       "    .dataframe tbody tr th:only-of-type {\n",
       "        vertical-align: middle;\n",
       "    }\n",
       "\n",
       "    .dataframe tbody tr th {\n",
       "        vertical-align: top;\n",
       "    }\n",
       "\n",
       "    .dataframe thead th {\n",
       "        text-align: right;\n",
       "    }\n",
       "</style>\n",
       "<table border=\"1\" class=\"dataframe\">\n",
       "  <thead>\n",
       "    <tr style=\"text-align: right;\">\n",
       "      <th></th>\n",
       "      <th>day</th>\n",
       "      <th>time</th>\n",
       "      <th>total_bill</th>\n",
       "      <th>tip</th>\n",
       "      <th>max_tip</th>\n",
       "      <th>min_tip</th>\n",
       "    </tr>\n",
       "  </thead>\n",
       "  <tbody>\n",
       "    <tr>\n",
       "      <th>0</th>\n",
       "      <td>Fri</td>\n",
       "      <td>Dinner</td>\n",
       "      <td>28.97</td>\n",
       "      <td>3.00</td>\n",
       "      <td>26.348039</td>\n",
       "      <td>10.355540</td>\n",
       "    </tr>\n",
       "    <tr>\n",
       "      <th>1</th>\n",
       "      <td>Fri</td>\n",
       "      <td>Lunch</td>\n",
       "      <td>13.42</td>\n",
       "      <td>1.58</td>\n",
       "      <td>25.931446</td>\n",
       "      <td>11.773472</td>\n",
       "    </tr>\n",
       "    <tr>\n",
       "      <th>2</th>\n",
       "      <td>Sat</td>\n",
       "      <td>Dinner</td>\n",
       "      <td>32.83</td>\n",
       "      <td>1.17</td>\n",
       "      <td>32.573290</td>\n",
       "      <td>3.563814</td>\n",
       "    </tr>\n",
       "    <tr>\n",
       "      <th>3</th>\n",
       "      <td>Sun</td>\n",
       "      <td>Dinner</td>\n",
       "      <td>16.99</td>\n",
       "      <td>1.01</td>\n",
       "      <td>71.034483</td>\n",
       "      <td>5.944673</td>\n",
       "    </tr>\n",
       "    <tr>\n",
       "      <th>4</th>\n",
       "      <td>Thur</td>\n",
       "      <td>Dinner</td>\n",
       "      <td>18.78</td>\n",
       "      <td>3.00</td>\n",
       "      <td>15.974441</td>\n",
       "      <td>15.974441</td>\n",
       "    </tr>\n",
       "    <tr>\n",
       "      <th>5</th>\n",
       "      <td>Thur</td>\n",
       "      <td>Lunch</td>\n",
       "      <td>18.64</td>\n",
       "      <td>1.36</td>\n",
       "      <td>26.631158</td>\n",
       "      <td>7.296137</td>\n",
       "    </tr>\n",
       "  </tbody>\n",
       "</table>\n",
       "</div>"
      ],
      "text/plain": [
       "    day    time  total_bill   tip    max_tip    min_tip\n",
       "0   Fri  Dinner       28.97  3.00  26.348039  10.355540\n",
       "1   Fri   Lunch       13.42  1.58  25.931446  11.773472\n",
       "2   Sat  Dinner       32.83  1.17  32.573290   3.563814\n",
       "3   Sun  Dinner       16.99  1.01  71.034483   5.944673\n",
       "4  Thur  Dinner       18.78  3.00  15.974441  15.974441\n",
       "5  Thur   Lunch       18.64  1.36  26.631158   7.296137"
      ]
     },
     "execution_count": 85,
     "metadata": {},
     "output_type": "execute_result"
    }
   ],
   "source": [
    "query = \"\"\"SELECT day, time, \n",
    "total_bill, \n",
    "tip, \n",
    "MAX((tip/total_bill)*100) as max_tip, \n",
    "MIN((tip/total_bill)*100) as min_tip\n",
    "FROM tips\n",
    "GROUP BY day, time;\"\"\"\n",
    "\n",
    "result = cursor.execute(query).fetchall()\n",
    "\n",
    "df_temp = pd.DataFrame(result, columns=[\"day\", \"time\", 'total_bill', 'tip', 'max_tip', 'min_tip'])\n",
    "df_temp"
   ]
  },
  {
   "cell_type": "markdown",
   "metadata": {},
   "source": [
    "## Question 9 \n",
    "\n",
    "Retrieve the total bill, tip amount, and tip percentage for parties of size 4 or more, where the tip percentage is greater than 15%, and the total bill is between $50 and $100"
   ]
  },
  {
   "cell_type": "code",
   "execution_count": 86,
   "metadata": {},
   "outputs": [
    {
     "data": {
      "text/html": [
       "<div>\n",
       "<style scoped>\n",
       "    .dataframe tbody tr th:only-of-type {\n",
       "        vertical-align: middle;\n",
       "    }\n",
       "\n",
       "    .dataframe tbody tr th {\n",
       "        vertical-align: top;\n",
       "    }\n",
       "\n",
       "    .dataframe thead th {\n",
       "        text-align: right;\n",
       "    }\n",
       "</style>\n",
       "<table border=\"1\" class=\"dataframe\">\n",
       "  <thead>\n",
       "    <tr style=\"text-align: right;\">\n",
       "      <th></th>\n",
       "      <th>size</th>\n",
       "      <th>total_bill</th>\n",
       "      <th>tip</th>\n",
       "      <th>tip_perc</th>\n",
       "    </tr>\n",
       "  </thead>\n",
       "  <tbody>\n",
       "  </tbody>\n",
       "</table>\n",
       "</div>"
      ],
      "text/plain": [
       "Empty DataFrame\n",
       "Columns: [size, total_bill, tip, tip_perc]\n",
       "Index: []"
      ]
     },
     "execution_count": 86,
     "metadata": {},
     "output_type": "execute_result"
    }
   ],
   "source": [
    "query = \"\"\"SELECT size, total_bill, tip, (tip/total_bill)*100 as tip_perc\n",
    "FROM tips\n",
    "WHERE size >= 4 \n",
    "AND (tip/total_bill)*100 >15  \n",
    "AND total_bill > 50 \n",
    "AND total_bill < 100\"\"\"\n",
    "\n",
    "result = cursor.execute(query).fetchall()\n",
    "\n",
    "df_temp = pd.DataFrame(result, columns=[\"size\", \"total_bill\", 'tip', 'tip_perc'])\n",
    "df_temp"
   ]
  },
  {
   "cell_type": "markdown",
   "metadata": {},
   "source": [
    "## Question 10\n",
    "\n",
    "Find the average tip percentage for each combination of day, time, and smoker status, but only include combinations with more than 5 records"
   ]
  },
  {
   "cell_type": "code",
   "execution_count": 87,
   "metadata": {},
   "outputs": [
    {
     "data": {
      "text/html": [
       "<div>\n",
       "<style scoped>\n",
       "    .dataframe tbody tr th:only-of-type {\n",
       "        vertical-align: middle;\n",
       "    }\n",
       "\n",
       "    .dataframe tbody tr th {\n",
       "        vertical-align: top;\n",
       "    }\n",
       "\n",
       "    .dataframe thead th {\n",
       "        text-align: right;\n",
       "    }\n",
       "</style>\n",
       "<table border=\"1\" class=\"dataframe\">\n",
       "  <thead>\n",
       "    <tr style=\"text-align: right;\">\n",
       "      <th></th>\n",
       "      <th>day</th>\n",
       "      <th>time</th>\n",
       "      <th>smoker</th>\n",
       "      <th>avg_tip_perc</th>\n",
       "    </tr>\n",
       "  </thead>\n",
       "  <tbody>\n",
       "    <tr>\n",
       "      <th>0</th>\n",
       "      <td>Fri</td>\n",
       "      <td>Dinner</td>\n",
       "      <td>Yes</td>\n",
       "      <td>15.163245</td>\n",
       "    </tr>\n",
       "    <tr>\n",
       "      <th>1</th>\n",
       "      <td>Fri</td>\n",
       "      <td>Lunch</td>\n",
       "      <td>Yes</td>\n",
       "      <td>18.501488</td>\n",
       "    </tr>\n",
       "    <tr>\n",
       "      <th>2</th>\n",
       "      <td>Sat</td>\n",
       "      <td>Dinner</td>\n",
       "      <td>No</td>\n",
       "      <td>15.781324</td>\n",
       "    </tr>\n",
       "    <tr>\n",
       "      <th>3</th>\n",
       "      <td>Sat</td>\n",
       "      <td>Dinner</td>\n",
       "      <td>Yes</td>\n",
       "      <td>13.514693</td>\n",
       "    </tr>\n",
       "    <tr>\n",
       "      <th>4</th>\n",
       "      <td>Sun</td>\n",
       "      <td>Dinner</td>\n",
       "      <td>No</td>\n",
       "      <td>15.448121</td>\n",
       "    </tr>\n",
       "    <tr>\n",
       "      <th>5</th>\n",
       "      <td>Sun</td>\n",
       "      <td>Dinner</td>\n",
       "      <td>Yes</td>\n",
       "      <td>14.580606</td>\n",
       "    </tr>\n",
       "    <tr>\n",
       "      <th>6</th>\n",
       "      <td>Thur</td>\n",
       "      <td>Lunch</td>\n",
       "      <td>No</td>\n",
       "      <td>15.615392</td>\n",
       "    </tr>\n",
       "    <tr>\n",
       "      <th>7</th>\n",
       "      <td>Thur</td>\n",
       "      <td>Lunch</td>\n",
       "      <td>Yes</td>\n",
       "      <td>15.788990</td>\n",
       "    </tr>\n",
       "  </tbody>\n",
       "</table>\n",
       "</div>"
      ],
      "text/plain": [
       "    day    time smoker  avg_tip_perc\n",
       "0   Fri  Dinner    Yes     15.163245\n",
       "1   Fri   Lunch    Yes     18.501488\n",
       "2   Sat  Dinner     No     15.781324\n",
       "3   Sat  Dinner    Yes     13.514693\n",
       "4   Sun  Dinner     No     15.448121\n",
       "5   Sun  Dinner    Yes     14.580606\n",
       "6  Thur   Lunch     No     15.615392\n",
       "7  Thur   Lunch    Yes     15.788990"
      ]
     },
     "execution_count": 87,
     "metadata": {},
     "output_type": "execute_result"
    }
   ],
   "source": [
    "query = \"\"\"SELECT day, time, smoker, (SUM(tip)/SUM(total_bill))*100 as avg_tip_perc\n",
    "FROM tips\n",
    "GROUP BY day, time, smoker\n",
    "HAVING COUNT(*) > 5\"\"\"\n",
    "\n",
    "result = cursor.execute(query).fetchall()\n",
    "\n",
    "df_temp = pd.DataFrame(result, columns=[\"day\", \"time\", 'smoker', 'avg_tip_perc'])\n",
    "df_temp"
   ]
  },
  {
   "cell_type": "markdown",
   "metadata": {},
   "source": [
    "## 5 additional queries\n"
   ]
  },
  {
   "cell_type": "markdown",
   "metadata": {},
   "source": [
    "Insert an Additional Row/Rows into the Database"
   ]
  },
  {
   "cell_type": "code",
   "execution_count": 94,
   "metadata": {},
   "outputs": [
    {
     "name": "stdout",
     "output_type": "stream",
     "text": [
      "Original number of rows in Dataset:  244\n",
      "Modified number of rows in Dataset:  253\n"
     ]
    }
   ],
   "source": [
    "print(\"Original number of rows in Dataset: \", len(df))\n",
    "cursor.execute(\"\"\"INSERT INTO tips VALUES (30.1, 4, \"female\", \"No\",\t\"Thu\", \"Dinner\", 2)\"\"\")\n",
    "\n",
    "many_rows = [\n",
    "    (70.1, 4, 'female', 'No', 'Thu', 'Dinner', 4),\n",
    "    (50.7, 5.6, 'male', 'No', 'Fri', 'Dinner', 3),\n",
    "    (35.9, 4.6, 'female', 'Yes', 'Sat', 'Lunch', 2)]\n",
    "\n",
    "# using field placeholders\n",
    "result = cursor.executemany(\"\"\"INSERT INTO tips VALUES (?, ?, ?, ?, ?, ?, ?)\"\"\", many_rows)\n",
    "\n",
    "df_temp = pd.DataFrame(result)\n",
    "con.commit()\n",
    "\n",
    "# Get the updated number of rows\n",
    "df_temp = pd.read_sql_query(\"SELECT * FROM tips\", con)\n",
    "print(\"Modified number of rows in Dataset: \", len(df_temp))"
   ]
  },
  {
   "cell_type": "markdown",
   "metadata": {},
   "source": [
    "Exploring Subquerying and Nested Queries: Find all sex and smoker values for tips that are greater than the average tip value:"
   ]
  },
  {
   "cell_type": "code",
   "execution_count": 95,
   "metadata": {},
   "outputs": [
    {
     "name": "stdout",
     "output_type": "stream",
     "text": [
      "[('Male', 'No'), ('Male', 'No'), ('Female', 'No'), ('Male', 'No'), ('Male', 'No'), ('Male', 'No'), ('Female', 'No'), ('Male', 'No'), ('Male', 'No'), ('Female', 'No'), ('Male', 'No'), ('Male', 'No'), ('Male', 'No'), ('Male', 'No'), ('Male', 'No'), ('Male', 'No'), ('Male', 'No'), ('Female', 'No'), ('Male', 'No'), ('Male', 'No'), ('Male', 'No'), ('Male', 'No'), ('Male', 'No'), ('Female', 'No'), ('Male', 'No'), ('Male', 'No'), ('Male', 'No'), ('Male', 'Yes'), ('Male', 'Yes'), ('Male', 'No'), ('Female', 'Yes'), ('Female', 'Yes'), ('Male', 'Yes'), ('Male', 'No'), ('Male', 'No'), ('Male', 'Yes'), ('Female', 'No'), ('Male', 'No'), ('Male', 'No'), ('Male', 'No'), ('Female', 'Yes'), ('Female', 'No'), ('Male', 'Yes'), ('Male', 'Yes'), ('Female', 'Yes'), ('Female', 'No'), ('Male', 'Yes'), ('Male', 'Yes'), ('Male', 'No'), ('Female', 'Yes'), ('Male', 'No'), ('Female', 'No'), ('Female', 'No'), ('Male', 'No'), ('Female', 'No'), ('Female', 'No'), ('Female', 'No'), ('Male', 'No'), ('Male', 'No'), ('Female', 'No'), ('Female', 'No'), ('Male', 'No'), ('Female', 'No'), ('Male', 'No'), ('Male', 'No'), ('Male', 'No'), ('Male', 'Yes'), ('Male', 'Yes'), ('Male', 'Yes'), ('Male', 'Yes'), ('Male', 'Yes'), ('Male', 'Yes'), ('Female', 'Yes'), ('Male', 'Yes'), ('Male', 'Yes'), ('Male', 'Yes'), ('Male', 'Yes'), ('Male', 'Yes'), ('Male', 'No'), ('Female', 'Yes'), ('Female', 'Yes'), ('Male', 'Yes'), ('Female', 'Yes'), ('Male', 'Yes'), ('Female', 'Yes'), ('Male', 'Yes'), ('Male', 'Yes'), ('Female', 'Yes'), ('Male', 'Yes'), ('Male', 'Yes'), ('Male', 'No'), ('Female', 'Yes'), ('Female', 'Yes'), ('Female', 'Yes'), ('Male', 'No'), ('Female', 'No'), ('Male', 'No'), ('female', 'No'), ('female', 'No'), ('female', 'No'), ('male', 'No'), ('female', 'Yes'), ('female', 'No'), ('female', 'No'), ('male', 'No'), ('female', 'Yes')]\n"
     ]
    }
   ],
   "source": [
    "query =\"\"\"SELECT sex, smoker\n",
    "FROM tips\n",
    "WHERE tip > (\n",
    "SELECT AVG(tip)\n",
    "FROM tips\n",
    ")\n",
    "\"\"\"\n",
    "\n",
    "result = cursor.execute(query).fetchall()\n",
    "print(result)"
   ]
  },
  {
   "cell_type": "markdown",
   "metadata": {},
   "source": [
    "Creating Indexes"
   ]
  },
  {
   "cell_type": "code",
   "execution_count": 97,
   "metadata": {},
   "outputs": [
    {
     "name": "stdout",
     "output_type": "stream",
     "text": [
      "[(0, 'reservation_no', 0, 'c', 0)]\n"
     ]
    }
   ],
   "source": [
    "res = cursor.execute(\"\"\"CREATE INDEX IF NOT EXISTS reservation_no ON tips(total_bill)\"\"\")\n",
    "indexes = cursor.execute(\"PRAGMA index_list('tips')\").fetchall()\n",
    "\n",
    "print(indexes)"
   ]
  },
  {
   "cell_type": "markdown",
   "metadata": {},
   "source": [
    "Analyzing Query Performance"
   ]
  },
  {
   "cell_type": "code",
   "execution_count": 60,
   "metadata": {},
   "outputs": [
    {
     "name": "stdout",
     "output_type": "stream",
     "text": [
      "[(3, 0, 0, 'SEARCH tips USING INDEX reservation_srno (total_bill>?)')]\n"
     ]
    }
   ],
   "source": [
    "# SQLite provides the EXPLAIN QUERY PLAN command, which helps analyze the execution plan of a query and identify areas for optimization.\n",
    "query = \"SELECT * FROM tips WHERE total_bill > 50\"\n",
    "res = cursor.execute(\"EXPLAIN QUERY PLAN \" + query)\n",
    "data = res.fetchall()\n",
    "print(data)"
   ]
  },
  {
   "cell_type": "markdown",
   "metadata": {},
   "source": [
    "Exploring the Self-Join Operation by analyzing tipping patterns between men and women. \n",
    "\n",
    "Joins the tips table with itself to compare tips for different sex while matching on other attributes like size, day, smoker, and time."
   ]
  },
  {
   "cell_type": "code",
   "execution_count": 99,
   "metadata": {},
   "outputs": [
    {
     "data": {
      "text/html": [
       "<div>\n",
       "<style scoped>\n",
       "    .dataframe tbody tr th:only-of-type {\n",
       "        vertical-align: middle;\n",
       "    }\n",
       "\n",
       "    .dataframe tbody tr th {\n",
       "        vertical-align: top;\n",
       "    }\n",
       "\n",
       "    .dataframe thead th {\n",
       "        text-align: right;\n",
       "    }\n",
       "</style>\n",
       "<table border=\"1\" class=\"dataframe\">\n",
       "  <thead>\n",
       "    <tr style=\"text-align: right;\">\n",
       "      <th></th>\n",
       "      <th>sex 1</th>\n",
       "      <th>tip 1</th>\n",
       "      <th>sex 2</th>\n",
       "      <th>tip 2</th>\n",
       "    </tr>\n",
       "  </thead>\n",
       "  <tbody>\n",
       "    <tr>\n",
       "      <th>0</th>\n",
       "      <td>Female</td>\n",
       "      <td>1.01</td>\n",
       "      <td>Male</td>\n",
       "      <td>1.32</td>\n",
       "    </tr>\n",
       "    <tr>\n",
       "      <th>1</th>\n",
       "      <td>Female</td>\n",
       "      <td>1.01</td>\n",
       "      <td>Male</td>\n",
       "      <td>1.56</td>\n",
       "    </tr>\n",
       "    <tr>\n",
       "      <th>2</th>\n",
       "      <td>Female</td>\n",
       "      <td>1.01</td>\n",
       "      <td>Male</td>\n",
       "      <td>1.57</td>\n",
       "    </tr>\n",
       "    <tr>\n",
       "      <th>3</th>\n",
       "      <td>Female</td>\n",
       "      <td>1.01</td>\n",
       "      <td>Male</td>\n",
       "      <td>1.71</td>\n",
       "    </tr>\n",
       "    <tr>\n",
       "      <th>4</th>\n",
       "      <td>Female</td>\n",
       "      <td>1.01</td>\n",
       "      <td>Male</td>\n",
       "      <td>1.96</td>\n",
       "    </tr>\n",
       "    <tr>\n",
       "      <th>...</th>\n",
       "      <td>...</td>\n",
       "      <td>...</td>\n",
       "      <td>...</td>\n",
       "      <td>...</td>\n",
       "    </tr>\n",
       "    <tr>\n",
       "      <th>1873</th>\n",
       "      <td>Male</td>\n",
       "      <td>1.75</td>\n",
       "      <td>Female</td>\n",
       "      <td>2.47</td>\n",
       "    </tr>\n",
       "    <tr>\n",
       "      <th>1874</th>\n",
       "      <td>Male</td>\n",
       "      <td>1.75</td>\n",
       "      <td>Female</td>\n",
       "      <td>2.75</td>\n",
       "    </tr>\n",
       "    <tr>\n",
       "      <th>1875</th>\n",
       "      <td>Male</td>\n",
       "      <td>1.75</td>\n",
       "      <td>Female</td>\n",
       "      <td>3.00</td>\n",
       "    </tr>\n",
       "    <tr>\n",
       "      <th>1876</th>\n",
       "      <td>Male</td>\n",
       "      <td>1.75</td>\n",
       "      <td>Female</td>\n",
       "      <td>3.00</td>\n",
       "    </tr>\n",
       "    <tr>\n",
       "      <th>1877</th>\n",
       "      <td>Male</td>\n",
       "      <td>1.75</td>\n",
       "      <td>Female</td>\n",
       "      <td>4.08</td>\n",
       "    </tr>\n",
       "  </tbody>\n",
       "</table>\n",
       "<p>1878 rows × 4 columns</p>\n",
       "</div>"
      ],
      "text/plain": [
       "       sex 1  tip 1   sex 2  tip 2\n",
       "0     Female   1.01    Male   1.32\n",
       "1     Female   1.01    Male   1.56\n",
       "2     Female   1.01    Male   1.57\n",
       "3     Female   1.01    Male   1.71\n",
       "4     Female   1.01    Male   1.96\n",
       "...      ...    ...     ...    ...\n",
       "1873    Male   1.75  Female   2.47\n",
       "1874    Male   1.75  Female   2.75\n",
       "1875    Male   1.75  Female   3.00\n",
       "1876    Male   1.75  Female   3.00\n",
       "1877    Male   1.75  Female   4.08\n",
       "\n",
       "[1878 rows x 4 columns]"
      ]
     },
     "execution_count": 99,
     "metadata": {},
     "output_type": "execute_result"
    }
   ],
   "source": [
    "query = \"\"\"SELECT t1.sex AS sex1, t1.tip AS tip1, t2.sex AS sex2, t2.tip AS tip2\n",
    "FROM tips t1\n",
    "INNER JOIN tips t2\n",
    "ON t1.size = t2.size\n",
    "AND t1.day = t2.day\n",
    "AND t1.smoker = t2.smoker\n",
    "AND t1.time = t2.time\n",
    "AND t1.sex != t2.sex\"\"\"\n",
    "\n",
    "\n",
    "result = cursor.execute(query).fetchall()\n",
    "df_temp = pd.DataFrame(result, columns=[\"sex 1\", \"tip 1\", 'sex 2', 'tip 2'])\n",
    "df_temp"
   ]
  },
  {
   "cell_type": "markdown",
   "metadata": {},
   "source": [
    "## UPDATE\n",
    "\n",
    "It was determined that there was an error in the database. Please update the record that corresponds to id=10 and set smoker to Yes."
   ]
  },
  {
   "cell_type": "code",
   "execution_count": null,
   "metadata": {},
   "outputs": [],
   "source": []
  },
  {
   "cell_type": "markdown",
   "metadata": {},
   "source": [
    "## DELETE\n",
    "\n",
    "Delete records from the database that have a total bill that is less than $10."
   ]
  },
  {
   "cell_type": "code",
   "execution_count": 102,
   "metadata": {},
   "outputs": [
    {
     "data": {
      "text/plain": [
       "<sqlite3.Cursor at 0x1fd5632bf40>"
      ]
     },
     "execution_count": 102,
     "metadata": {},
     "output_type": "execute_result"
    }
   ],
   "source": [
    "query = \"\"\"DELETE FROM tips\n",
    "WHERE total_bill < 10\"\"\"\n",
    "cursor.execute(query)"
   ]
  },
  {
   "cell_type": "code",
   "execution_count": 103,
   "metadata": {},
   "outputs": [],
   "source": [
    "con.close()"
   ]
  },
  {
   "cell_type": "code",
   "execution_count": null,
   "metadata": {},
   "outputs": [],
   "source": []
  }
 ],
 "metadata": {
  "kernelspec": {
   "display_name": "Python 3",
   "language": "python",
   "name": "python3"
  },
  "language_info": {
   "codemirror_mode": {
    "name": "ipython",
    "version": 3
   },
   "file_extension": ".py",
   "mimetype": "text/x-python",
   "name": "python",
   "nbconvert_exporter": "python",
   "pygments_lexer": "ipython3",
   "version": "3.12.4"
  }
 },
 "nbformat": 4,
 "nbformat_minor": 2
}
