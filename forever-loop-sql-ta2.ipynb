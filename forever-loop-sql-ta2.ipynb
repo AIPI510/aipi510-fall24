{
 "cells": [
  {
   "cell_type": "markdown",
   "metadata": {},
   "source": [
    "# AIPI510 Fall 2024 Assignment # 2"
   ]
  },
  {
   "cell_type": "markdown",
   "metadata": {},
   "source": [
    "## Team Details\n",
    "\n",
    "**Team name:** Forever Loop\n",
    "\n",
    "**Team members:** Santosh Ganesan, Haran Nallasivan"
   ]
  },
  {
   "cell_type": "markdown",
   "metadata": {},
   "source": [
    "### CREATE\n",
    "You have been provided with a sample .csv file. Create a SQLite database in Python using the data in this sample .csv file."
   ]
  },
  {
   "cell_type": "markdown",
   "metadata": {},
   "source": [
    "#### Import statements"
   ]
  },
  {
   "cell_type": "code",
   "execution_count": 40,
   "metadata": {},
   "outputs": [],
   "source": [
    "import pandas as pd\n",
    "import sqlite3"
   ]
  },
  {
   "cell_type": "markdown",
   "metadata": {},
   "source": [
    "#### Exploratory analysis of the data"
   ]
  },
  {
   "cell_type": "code",
   "execution_count": 41,
   "metadata": {},
   "outputs": [
    {
     "name": "stdout",
     "output_type": "stream",
     "text": [
      "   total_bill   tip     sex smoker  day    time  size\n",
      "0       16.99  1.01  Female     No  Sun  Dinner     2\n",
      "1       10.34  1.66    Male     No  Sun  Dinner     3\n",
      "2       21.01  3.50    Male     No  Sun  Dinner     3\n",
      "3       23.68  3.31    Male     No  Sun  Dinner     2\n",
      "4       24.59  3.61  Female     No  Sun  Dinner     4\n"
     ]
    }
   ],
   "source": [
    "\n",
    "df = pd.read_csv('data/tips.csv')\n",
    "print(df.head())"
   ]
  },
  {
   "cell_type": "markdown",
   "metadata": {},
   "source": [
    "#### Create the SQLite database"
   ]
  },
  {
   "cell_type": "code",
   "execution_count": 82,
   "metadata": {},
   "outputs": [
    {
     "ename": "OperationalError",
     "evalue": "table tips already exists",
     "output_type": "error",
     "traceback": [
      "\u001b[1;31m---------------------------------------------------------------------------\u001b[0m",
      "\u001b[1;31mOperationalError\u001b[0m                          Traceback (most recent call last)",
      "Cell \u001b[1;32mIn[82], line 3\u001b[0m\n\u001b[0;32m      1\u001b[0m \u001b[38;5;28;01mwith\u001b[39;00m sqlite3\u001b[38;5;241m.\u001b[39mconnect(\u001b[38;5;124m'\u001b[39m\u001b[38;5;124mtips.db\u001b[39m\u001b[38;5;124m'\u001b[39m) \u001b[38;5;28;01mas\u001b[39;00m conn:\n\u001b[0;32m      2\u001b[0m     c \u001b[38;5;241m=\u001b[39m conn\u001b[38;5;241m.\u001b[39mcursor()\n\u001b[1;32m----> 3\u001b[0m     \u001b[43mc\u001b[49m\u001b[38;5;241;43m.\u001b[39;49m\u001b[43mexecute\u001b[49m\u001b[43m(\u001b[49m\u001b[38;5;124;43m'''\u001b[39;49m\u001b[38;5;124;43mCREATE TABLE tips (total_bill,tip,sex,smoker,day,time,size)\u001b[39;49m\u001b[38;5;124;43m'''\u001b[39;49m\u001b[43m)\u001b[49m\n\u001b[0;32m      4\u001b[0m     conn\u001b[38;5;241m.\u001b[39mcommit()\n",
      "\u001b[1;31mOperationalError\u001b[0m: table tips already exists"
     ]
    }
   ],
   "source": [
    "\n",
    "with sqlite3.connect('tips.db') as conn:\n",
    "    c = conn.cursor()\n",
    "    c.execute('''CREATE TABLE tips (total_bill,tip,sex,smoker,day,time,size)''')\n",
    "    conn.commit()"
   ]
  },
  {
   "cell_type": "markdown",
   "metadata": {},
   "source": [
    "#### Verify connectivity to the database"
   ]
  },
  {
   "cell_type": "code",
   "execution_count": 31,
   "metadata": {},
   "outputs": [
    {
     "name": "stdout",
     "output_type": "stream",
     "text": [
      "[(16.99, 1.01, 'Female', 'No', 'Sun', 'Dinner', 2), (10.34, 1.66, 'Male', 'No', 'Sun', 'Dinner', 3), (21.01, 3.5, 'Male', 'No', 'Sun', 'Dinner', 3), (23.68, 3.31, 'Male', 'No', 'Sun', 'Dinner', 2), (24.59, 3.61, 'Female', 'No', 'Sun', 'Dinner', 4), (25.29, 4.71, 'Male', 'No', 'Sun', 'Dinner', 4), (8.77, 2.0, 'Male', 'No', 'Sun', 'Dinner', 2), (26.88, 3.12, 'Male', 'No', 'Sun', 'Dinner', 4), (15.04, 1.96, 'Male', 'No', 'Sun', 'Dinner', 2), (14.78, 3.23, 'Male', 'No', 'Sun', 'Dinner', 2), (10.27, 1.71, 'Male', 'No', 'Sun', 'Dinner', 2), (35.26, 5.0, 'Female', 'No', 'Sun', 'Dinner', 4), (15.42, 1.57, 'Male', 'No', 'Sun', 'Dinner', 2), (18.43, 3.0, 'Male', 'No', 'Sun', 'Dinner', 4), (14.83, 3.02, 'Female', 'No', 'Sun', 'Dinner', 2), (21.58, 3.92, 'Male', 'No', 'Sun', 'Dinner', 2), (10.33, 1.67, 'Female', 'No', 'Sun', 'Dinner', 3), (16.29, 3.71, 'Male', 'No', 'Sun', 'Dinner', 3), (16.97, 3.5, 'Female', 'No', 'Sun', 'Dinner', 3), (20.65, 3.35, 'Male', 'No', 'Sat', 'Dinner', 3), (17.92, 4.08, 'Male', 'No', 'Sat', 'Dinner', 2), (20.29, 2.75, 'Female', 'No', 'Sat', 'Dinner', 2), (15.77, 2.23, 'Female', 'No', 'Sat', 'Dinner', 2), (39.42, 7.58, 'Male', 'No', 'Sat', 'Dinner', 4), (19.82, 3.18, 'Male', 'No', 'Sat', 'Dinner', 2), (17.81, 2.34, 'Male', 'No', 'Sat', 'Dinner', 4), (13.37, 2.0, 'Male', 'No', 'Sat', 'Dinner', 2), (12.69, 2.0, 'Male', 'No', 'Sat', 'Dinner', 2), (21.7, 4.3, 'Male', 'No', 'Sat', 'Dinner', 2), (19.65, 3.0, 'Female', 'No', 'Sat', 'Dinner', 2), (9.55, 1.45, 'Male', 'No', 'Sat', 'Dinner', 2), (18.35, 2.5, 'Male', 'No', 'Sat', 'Dinner', 4), (15.06, 3.0, 'Female', 'No', 'Sat', 'Dinner', 2), (20.69, 2.45, 'Female', 'No', 'Sat', 'Dinner', 4), (17.78, 3.27, 'Male', 'No', 'Sat', 'Dinner', 2), (24.06, 3.6, 'Male', 'No', 'Sat', 'Dinner', 3), (16.31, 2.0, 'Male', 'No', 'Sat', 'Dinner', 3), (16.93, 3.07, 'Female', 'No', 'Sat', 'Dinner', 3), (18.69, 2.31, 'Male', 'No', 'Sat', 'Dinner', 3), (31.27, 5.0, 'Male', 'No', 'Sat', 'Dinner', 3), (16.04, 2.24, 'Male', 'No', 'Sat', 'Dinner', 3), (17.46, 2.54, 'Male', 'No', 'Sun', 'Dinner', 2), (13.94, 3.06, 'Male', 'No', 'Sun', 'Dinner', 2), (9.68, 1.32, 'Male', 'No', 'Sun', 'Dinner', 2), (30.4, 5.6, 'Male', 'No', 'Sun', 'Dinner', 4), (18.29, 3.0, 'Male', 'No', 'Sun', 'Dinner', 2), (22.23, 5.0, 'Male', 'No', 'Sun', 'Dinner', 2), (32.4, 6.0, 'Male', 'No', 'Sun', 'Dinner', 4), (28.55, 2.05, 'Male', 'No', 'Sun', 'Dinner', 3), (18.04, 3.0, 'Male', 'No', 'Sun', 'Dinner', 2), (12.54, 2.5, 'Male', 'No', 'Sun', 'Dinner', 2), (10.29, 2.6, 'Female', 'No', 'Sun', 'Dinner', 2), (34.81, 5.2, 'Female', 'No', 'Sun', 'Dinner', 4), (9.94, 1.56, 'Male', 'No', 'Sun', 'Dinner', 2), (25.56, 4.34, 'Male', 'No', 'Sun', 'Dinner', 4), (19.49, 3.51, 'Male', 'No', 'Sun', 'Dinner', 2), (38.01, 3.0, 'Male', 'Yes', 'Sat', 'Dinner', 4), (26.41, 1.5, 'Female', 'No', 'Sat', 'Dinner', 2), (11.24, 1.76, 'Male', 'Yes', 'Sat', 'Dinner', 2), (48.27, 6.73, 'Male', 'No', 'Sat', 'Dinner', 4), (20.29, 3.21, 'Male', 'Yes', 'Sat', 'Dinner', 2), (13.81, 2.0, 'Male', 'Yes', 'Sat', 'Dinner', 2), (11.02, 1.98, 'Male', 'Yes', 'Sat', 'Dinner', 2), (18.29, 3.76, 'Male', 'Yes', 'Sat', 'Dinner', 4), (17.59, 2.64, 'Male', 'No', 'Sat', 'Dinner', 3), (20.08, 3.15, 'Male', 'No', 'Sat', 'Dinner', 3), (16.45, 2.47, 'Female', 'No', 'Sat', 'Dinner', 2), (3.07, 1.0, 'Female', 'Yes', 'Sat', 'Dinner', 1), (20.23, 2.01, 'Male', 'No', 'Sat', 'Dinner', 2), (15.01, 2.09, 'Male', 'Yes', 'Sat', 'Dinner', 2), (12.02, 1.97, 'Male', 'No', 'Sat', 'Dinner', 2), (17.07, 3.0, 'Female', 'No', 'Sat', 'Dinner', 3), (26.86, 3.14, 'Female', 'Yes', 'Sat', 'Dinner', 2), (25.28, 5.0, 'Female', 'Yes', 'Sat', 'Dinner', 2), (14.73, 2.2, 'Female', 'No', 'Sat', 'Dinner', 2), (10.51, 1.25, 'Male', 'No', 'Sat', 'Dinner', 2), (17.92, 3.08, 'Male', 'Yes', 'Sat', 'Dinner', 2), (27.2, 4.0, 'Male', 'No', 'Thur', 'Lunch', 4), (22.76, 3.0, 'Male', 'No', 'Thur', 'Lunch', 2), (17.29, 2.71, 'Male', 'No', 'Thur', 'Lunch', 2), (19.44, 3.0, 'Male', 'Yes', 'Thur', 'Lunch', 2), (16.66, 3.4, 'Male', 'No', 'Thur', 'Lunch', 2), (10.07, 1.83, 'Female', 'No', 'Thur', 'Lunch', 1), (32.68, 5.0, 'Male', 'Yes', 'Thur', 'Lunch', 2), (15.98, 2.03, 'Male', 'No', 'Thur', 'Lunch', 2), (34.83, 5.17, 'Female', 'No', 'Thur', 'Lunch', 4), (13.03, 2.0, 'Male', 'No', 'Thur', 'Lunch', 2), (18.28, 4.0, 'Male', 'No', 'Thur', 'Lunch', 2), (24.71, 5.85, 'Male', 'No', 'Thur', 'Lunch', 2), (21.16, 3.0, 'Male', 'No', 'Thur', 'Lunch', 2), (28.97, 3.0, 'Male', 'Yes', 'Fri', 'Dinner', 2), (22.49, 3.5, 'Male', 'No', 'Fri', 'Dinner', 2), (5.75, 1.0, 'Female', 'Yes', 'Fri', 'Dinner', 2), (16.32, 4.3, 'Female', 'Yes', 'Fri', 'Dinner', 2), (22.75, 3.25, 'Female', 'No', 'Fri', 'Dinner', 2), (40.17, 4.73, 'Male', 'Yes', 'Fri', 'Dinner', 4), (27.28, 4.0, 'Male', 'Yes', 'Fri', 'Dinner', 2), (12.03, 1.5, 'Male', 'Yes', 'Fri', 'Dinner', 2), (21.01, 3.0, 'Male', 'Yes', 'Fri', 'Dinner', 2), (12.46, 1.5, 'Male', 'No', 'Fri', 'Dinner', 2), (11.35, 2.5, 'Female', 'Yes', 'Fri', 'Dinner', 2), (15.38, 3.0, 'Female', 'Yes', 'Fri', 'Dinner', 2), (44.3, 2.5, 'Female', 'Yes', 'Sat', 'Dinner', 3), (22.42, 3.48, 'Female', 'Yes', 'Sat', 'Dinner', 2), (20.92, 4.08, 'Female', 'No', 'Sat', 'Dinner', 2), (15.36, 1.64, 'Male', 'Yes', 'Sat', 'Dinner', 2), (20.49, 4.06, 'Male', 'Yes', 'Sat', 'Dinner', 2), (25.21, 4.29, 'Male', 'Yes', 'Sat', 'Dinner', 2), (18.24, 3.76, 'Male', 'No', 'Sat', 'Dinner', 2), (14.31, 4.0, 'Female', 'Yes', 'Sat', 'Dinner', 2), (14.0, 3.0, 'Male', 'No', 'Sat', 'Dinner', 2), (7.25, 1.0, 'Female', 'No', 'Sat', 'Dinner', 1), (38.07, 4.0, 'Male', 'No', 'Sun', 'Dinner', 3), (23.95, 2.55, 'Male', 'No', 'Sun', 'Dinner', 2), (25.71, 4.0, 'Female', 'No', 'Sun', 'Dinner', 3), (17.31, 3.5, 'Female', 'No', 'Sun', 'Dinner', 2), (29.93, 5.07, 'Male', 'No', 'Sun', 'Dinner', 4), (10.65, 1.5, 'Female', 'No', 'Thur', 'Lunch', 2), (12.43, 1.8, 'Female', 'No', 'Thur', 'Lunch', 2), (24.08, 2.92, 'Female', 'No', 'Thur', 'Lunch', 4), (11.69, 2.31, 'Male', 'No', 'Thur', 'Lunch', 2), (13.42, 1.68, 'Female', 'No', 'Thur', 'Lunch', 2), (14.26, 2.5, 'Male', 'No', 'Thur', 'Lunch', 2), (15.95, 2.0, 'Male', 'No', 'Thur', 'Lunch', 2), (12.48, 2.52, 'Female', 'No', 'Thur', 'Lunch', 2), (29.8, 4.2, 'Female', 'No', 'Thur', 'Lunch', 6), (8.52, 1.48, 'Male', 'No', 'Thur', 'Lunch', 2), (14.52, 2.0, 'Female', 'No', 'Thur', 'Lunch', 2), (11.38, 2.0, 'Female', 'No', 'Thur', 'Lunch', 2), (22.82, 2.18, 'Male', 'No', 'Thur', 'Lunch', 3), (19.08, 1.5, 'Male', 'No', 'Thur', 'Lunch', 2), (20.27, 2.83, 'Female', 'No', 'Thur', 'Lunch', 2), (11.17, 1.5, 'Female', 'No', 'Thur', 'Lunch', 2), (12.26, 2.0, 'Female', 'No', 'Thur', 'Lunch', 2), (18.26, 3.25, 'Female', 'No', 'Thur', 'Lunch', 2), (8.51, 1.25, 'Female', 'No', 'Thur', 'Lunch', 2), (10.33, 2.0, 'Female', 'No', 'Thur', 'Lunch', 2), (14.15, 2.0, 'Female', 'No', 'Thur', 'Lunch', 2), (16.0, 2.0, 'Male', 'Yes', 'Thur', 'Lunch', 2), (13.16, 2.75, 'Female', 'No', 'Thur', 'Lunch', 2), (17.47, 3.5, 'Female', 'No', 'Thur', 'Lunch', 2), (34.3, 6.7, 'Male', 'No', 'Thur', 'Lunch', 6), (41.19, 5.0, 'Male', 'No', 'Thur', 'Lunch', 5), (27.05, 5.0, 'Female', 'No', 'Thur', 'Lunch', 6), (16.43, 2.3, 'Female', 'No', 'Thur', 'Lunch', 2), (8.35, 1.5, 'Female', 'No', 'Thur', 'Lunch', 2), (18.64, 1.36, 'Female', 'No', 'Thur', 'Lunch', 3), (11.87, 1.63, 'Female', 'No', 'Thur', 'Lunch', 2), (9.78, 1.73, 'Male', 'No', 'Thur', 'Lunch', 2), (7.51, 2.0, 'Male', 'No', 'Thur', 'Lunch', 2), (14.07, 2.5, 'Male', 'No', 'Sun', 'Dinner', 2), (13.13, 2.0, 'Male', 'No', 'Sun', 'Dinner', 2), (17.26, 2.74, 'Male', 'No', 'Sun', 'Dinner', 3), (24.55, 2.0, 'Male', 'No', 'Sun', 'Dinner', 4), (19.77, 2.0, 'Male', 'No', 'Sun', 'Dinner', 4), (29.85, 5.14, 'Female', 'No', 'Sun', 'Dinner', 5), (48.17, 5.0, 'Male', 'No', 'Sun', 'Dinner', 6), (25.0, 3.75, 'Female', 'No', 'Sun', 'Dinner', 4), (13.39, 2.61, 'Female', 'No', 'Sun', 'Dinner', 2), (16.49, 2.0, 'Male', 'No', 'Sun', 'Dinner', 4), (21.5, 3.5, 'Male', 'No', 'Sun', 'Dinner', 4), (12.66, 2.5, 'Male', 'No', 'Sun', 'Dinner', 2), (16.21, 2.0, 'Female', 'No', 'Sun', 'Dinner', 3), (13.81, 2.0, 'Male', 'No', 'Sun', 'Dinner', 2), (17.51, 3.0, 'Female', 'Yes', 'Sun', 'Dinner', 2), (24.52, 3.48, 'Male', 'No', 'Sun', 'Dinner', 3), (20.76, 2.24, 'Male', 'No', 'Sun', 'Dinner', 2), (31.71, 4.5, 'Male', 'No', 'Sun', 'Dinner', 4), (10.59, 1.61, 'Female', 'Yes', 'Sat', 'Dinner', 2), (10.63, 2.0, 'Female', 'Yes', 'Sat', 'Dinner', 2), (50.81, 10.0, 'Male', 'Yes', 'Sat', 'Dinner', 3), (15.81, 3.16, 'Male', 'Yes', 'Sat', 'Dinner', 2), (7.25, 5.15, 'Male', 'Yes', 'Sun', 'Dinner', 2), (31.85, 3.18, 'Male', 'Yes', 'Sun', 'Dinner', 2), (16.82, 4.0, 'Male', 'Yes', 'Sun', 'Dinner', 2), (32.9, 3.11, 'Male', 'Yes', 'Sun', 'Dinner', 2), (17.89, 2.0, 'Male', 'Yes', 'Sun', 'Dinner', 2), (14.48, 2.0, 'Male', 'Yes', 'Sun', 'Dinner', 2), (9.6, 4.0, 'Female', 'Yes', 'Sun', 'Dinner', 2), (34.63, 3.55, 'Male', 'Yes', 'Sun', 'Dinner', 2), (34.65, 3.68, 'Male', 'Yes', 'Sun', 'Dinner', 4), (23.33, 5.65, 'Male', 'Yes', 'Sun', 'Dinner', 2), (45.35, 3.5, 'Male', 'Yes', 'Sun', 'Dinner', 3), (23.17, 6.5, 'Male', 'Yes', 'Sun', 'Dinner', 4), (40.55, 3.0, 'Male', 'Yes', 'Sun', 'Dinner', 2), (20.69, 5.0, 'Male', 'No', 'Sun', 'Dinner', 5), (20.9, 3.5, 'Female', 'Yes', 'Sun', 'Dinner', 3), (30.46, 2.0, 'Male', 'Yes', 'Sun', 'Dinner', 5), (18.15, 3.5, 'Female', 'Yes', 'Sun', 'Dinner', 3), (23.1, 4.0, 'Male', 'Yes', 'Sun', 'Dinner', 3), (15.69, 1.5, 'Male', 'Yes', 'Sun', 'Dinner', 2), (19.81, 4.19, 'Female', 'Yes', 'Thur', 'Lunch', 2), (28.44, 2.56, 'Male', 'Yes', 'Thur', 'Lunch', 2), (15.48, 2.02, 'Male', 'Yes', 'Thur', 'Lunch', 2), (16.58, 4.0, 'Male', 'Yes', 'Thur', 'Lunch', 2), (7.56, 1.44, 'Male', 'No', 'Thur', 'Lunch', 2), (10.34, 2.0, 'Male', 'Yes', 'Thur', 'Lunch', 2), (43.11, 5.0, 'Female', 'Yes', 'Thur', 'Lunch', 4), (13.0, 2.0, 'Female', 'Yes', 'Thur', 'Lunch', 2), (13.51, 2.0, 'Male', 'Yes', 'Thur', 'Lunch', 2), (18.71, 4.0, 'Male', 'Yes', 'Thur', 'Lunch', 3), (12.74, 2.01, 'Female', 'Yes', 'Thur', 'Lunch', 2), (13.0, 2.0, 'Female', 'Yes', 'Thur', 'Lunch', 2), (16.4, 2.5, 'Female', 'Yes', 'Thur', 'Lunch', 2), (20.53, 4.0, 'Male', 'Yes', 'Thur', 'Lunch', 4), (16.47, 3.23, 'Female', 'Yes', 'Thur', 'Lunch', 3), (26.59, 3.41, 'Male', 'Yes', 'Sat', 'Dinner', 3), (38.73, 3.0, 'Male', 'Yes', 'Sat', 'Dinner', 4), (24.27, 2.03, 'Male', 'Yes', 'Sat', 'Dinner', 2), (12.76, 2.23, 'Female', 'Yes', 'Sat', 'Dinner', 2), (30.06, 2.0, 'Male', 'Yes', 'Sat', 'Dinner', 3), (25.89, 5.16, 'Male', 'Yes', 'Sat', 'Dinner', 4), (48.33, 9.0, 'Male', 'No', 'Sat', 'Dinner', 4), (13.27, 2.5, 'Female', 'Yes', 'Sat', 'Dinner', 2), (28.17, 6.5, 'Female', 'Yes', 'Sat', 'Dinner', 3), (12.9, 1.1, 'Female', 'Yes', 'Sat', 'Dinner', 2), (28.15, 3.0, 'Male', 'Yes', 'Sat', 'Dinner', 5), (11.59, 1.5, 'Male', 'Yes', 'Sat', 'Dinner', 2), (7.74, 1.44, 'Male', 'Yes', 'Sat', 'Dinner', 2), (30.14, 3.09, 'Female', 'Yes', 'Sat', 'Dinner', 4), (12.16, 2.2, 'Male', 'Yes', 'Fri', 'Lunch', 2), (13.42, 3.48, 'Female', 'Yes', 'Fri', 'Lunch', 2), (8.58, 1.92, 'Male', 'Yes', 'Fri', 'Lunch', 1), (15.98, 3.0, 'Female', 'No', 'Fri', 'Lunch', 3), (13.42, 1.58, 'Male', 'Yes', 'Fri', 'Lunch', 2), (16.27, 2.5, 'Female', 'Yes', 'Fri', 'Lunch', 2), (10.09, 2.0, 'Female', 'Yes', 'Fri', 'Lunch', 2), (20.45, 3.0, 'Male', 'No', 'Sat', 'Dinner', 4), (13.28, 2.72, 'Male', 'No', 'Sat', 'Dinner', 2), (22.12, 2.88, 'Female', 'Yes', 'Sat', 'Dinner', 2), (24.01, 2.0, 'Male', 'Yes', 'Sat', 'Dinner', 4), (15.69, 3.0, 'Male', 'Yes', 'Sat', 'Dinner', 3), (11.61, 3.39, 'Male', 'No', 'Sat', 'Dinner', 2), (10.77, 1.47, 'Male', 'No', 'Sat', 'Dinner', 2), (15.53, 3.0, 'Male', 'Yes', 'Sat', 'Dinner', 2), (10.07, 1.25, 'Male', 'No', 'Sat', 'Dinner', 2), (12.6, 1.0, 'Male', 'Yes', 'Sat', 'Dinner', 2), (32.83, 1.17, 'Male', 'Yes', 'Sat', 'Dinner', 2), (35.83, 4.67, 'Female', 'No', 'Sat', 'Dinner', 3), (29.03, 5.92, 'Male', 'No', 'Sat', 'Dinner', 3), (27.18, 2.0, 'Female', 'Yes', 'Sat', 'Dinner', 2), (22.67, 2.0, 'Male', 'Yes', 'Sat', 'Dinner', 2), (17.82, 1.75, 'Male', 'No', 'Sat', 'Dinner', 2), (18.78, 3.0, 'Female', 'No', 'Thur', 'Dinner', 2)]\n"
     ]
    }
   ],
   "source": [
    "with sqlite3.connect('tips.db') as conn:\n",
    "    c = conn.cursor()\n",
    "    c.execute('''SELECT * from tips;''')\n",
    "    conn.commit()\n",
    "    print(c.fetchall())"
   ]
  },
  {
   "cell_type": "markdown",
   "metadata": {},
   "source": [
    "#### Load data into the database"
   ]
  },
  {
   "cell_type": "code",
   "execution_count": 3,
   "metadata": {},
   "outputs": [],
   "source": [
    "with sqlite3.connect('tips.db') as conn:\n",
    "    df = pd.read_csv('data/tips.csv')\n",
    "    df.to_sql('tips', conn, if_exists='replace', index=False)\n",
    "    conn.commit()"
   ]
  },
  {
   "cell_type": "markdown",
   "metadata": {},
   "source": [
    "\n",
    "### READ\n",
    "Answer the following questions (must show your work via SQL queries):\n",
    "1. Retrieve the average tip percentage for each day of the week \n"
   ]
  },
  {
   "cell_type": "code",
   "execution_count": 22,
   "metadata": {},
   "outputs": [
    {
     "name": "stdout",
     "output_type": "stream",
     "text": [
      "   Average tip percentage\n",
      "0               16.080258\n"
     ]
    }
   ],
   "source": [
    "with sqlite3.connect('tips.db') as conn:\n",
    "    c = conn.cursor()\n",
    "    c.execute('''SELECT AVG(tip/total_bill) * 100 FROM tips;''')\n",
    "    conn.commit()\n",
    "    df = pd.DataFrame(c.fetchall(), columns=['Average tip percentage'])\n",
    "    print(df)"
   ]
  },
  {
   "cell_type": "markdown",
   "metadata": {},
   "source": [
    "2. Find the maximum and minimum total bull amounts\n"
   ]
  },
  {
   "cell_type": "code",
   "execution_count": 23,
   "metadata": {},
   "outputs": [
    {
     "name": "stdout",
     "output_type": "stream",
     "text": [
      "   Maximum bill amount  Minimum bill amount\n",
      "0                50.81                 3.07\n"
     ]
    }
   ],
   "source": [
    "with sqlite3.connect('tips.db') as conn:\n",
    "    c = conn.cursor()\n",
    "    c.execute('''SELECT MAX(total_bill) AS max, MIN(total_bill) AS min FROM tips;''')\n",
    "    conn.commit()\n",
    "    df = pd.DataFrame(c.fetchall(), columns=['Maximum bill amount', 'Minimum bill amount'])\n",
    "    print(df)"
   ]
  },
  {
   "cell_type": "markdown",
   "metadata": {},
   "source": [
    "3. Count the number of parties for each size\n"
   ]
  },
  {
   "cell_type": "code",
   "execution_count": 24,
   "metadata": {},
   "outputs": [
    {
     "name": "stdout",
     "output_type": "stream",
     "text": [
      "   Size  Number of parties\n",
      "0     1                  4\n",
      "1     2                156\n",
      "2     3                 38\n",
      "3     4                 37\n",
      "4     5                  5\n",
      "5     6                  4\n"
     ]
    }
   ],
   "source": [
    "with sqlite3.connect('tips.db') as conn:\n",
    "    c = conn.cursor()\n",
    "    c.execute('''SELECT size, COUNT(*) FROM tips GROUP BY size;''')\n",
    "    conn.commit()\n",
    "    df = pd.DataFrame(c.fetchall(), columns=['Size', 'Number of parties'])\n",
    "    print(df)"
   ]
  },
  {
   "cell_type": "markdown",
   "metadata": {},
   "source": [
    "4. Retrieve the total bill and tip for parties of size 4 or more, where the tip percentage is greater than 15%\n"
   ]
  },
  {
   "cell_type": "code",
   "execution_count": 25,
   "metadata": {},
   "outputs": [
    {
     "name": "stdout",
     "output_type": "stream",
     "text": [
      "   Total bill   Tip\n",
      "0       34.30  6.70\n",
      "1       27.05  5.00\n",
      "2       29.85  5.14\n",
      "3       20.69  5.00\n"
     ]
    }
   ],
   "source": [
    "with sqlite3.connect('tips.db') as conn:\n",
    "    c = conn.cursor()\n",
    "    c.execute('''SELECT total_bill,tip FROM tips WHERE size > 4 AND tip/total_bill > 0.15;''')\n",
    "    conn.commit()\n",
    "    df = pd.DataFrame(c.fetchall(), columns=['Total bill', 'Tip'])\n",
    "    print(df)"
   ]
  },
  {
   "cell_type": "markdown",
   "metadata": {},
   "source": [
    "\n",
    "5. Retrieve the total bill, tip amount, and tip percentage for each combination of day and time, sorted by tip percentage in descending order"
   ]
  },
  {
   "cell_type": "code",
   "execution_count": 28,
   "metadata": {},
   "outputs": [
    {
     "name": "stdout",
     "output_type": "stream",
     "text": [
      "    Day    Time  Total bill   Tip  Tip percentage\n",
      "0   Fri   Lunch       12.16  2.20       18.092105\n",
      "1   Sat  Dinner       20.65  3.35       16.222760\n",
      "2  Thur  Dinner       18.78  3.00       15.974441\n",
      "3  Thur   Lunch       27.20  4.00       14.705882\n",
      "4   Fri  Dinner       28.97  3.00       10.355540\n",
      "5   Sun  Dinner       16.99  1.01        5.944673\n"
     ]
    }
   ],
   "source": [
    "with sqlite3.connect('tips.db') as conn:\n",
    "    c = conn.cursor()\n",
    "    c.execute('''SELECT day, time, total_bill,tip,(tip/total_bill) * 100 FROM tips GROUP BY day, time ORDER BY tip/total_bill DESC;''')\n",
    "    conn.commit()\n",
    "    df = pd.DataFrame(c.fetchall(), columns=['Day', 'Time', 'Total bill', 'Tip', 'Tip percentage'])\n",
    "    print(df)"
   ]
  },
  {
   "cell_type": "markdown",
   "metadata": {},
   "source": [
    "6. Find the average tip percentage for each combination of day, time, and smoker status\n"
   ]
  },
  {
   "cell_type": "code",
   "execution_count": 37,
   "metadata": {},
   "outputs": [
    {
     "name": "stdout",
     "output_type": "stream",
     "text": [
      "    Unique Average   Day Smoker    Time\n",
      "0             14.0   Fri     No  Dinner\n",
      "1             19.0   Fri     No   Lunch\n",
      "2             17.0   Fri    Yes  Dinner\n",
      "3             19.0   Fri    Yes   Lunch\n",
      "4             16.0   Sat     No  Dinner\n",
      "5             15.0   Sat    Yes  Dinner\n",
      "6             16.0   Sun     No  Dinner\n",
      "7             19.0   Sun    Yes  Dinner\n",
      "8             16.0  Thur     No  Dinner\n",
      "9             16.0  Thur     No   Lunch\n",
      "10            16.0  Thur    Yes   Lunch\n"
     ]
    }
   ],
   "source": [
    "with sqlite3.connect('tips.db') as conn:\n",
    "    c = conn.cursor()\n",
    "    c.execute('''SELECT ROUND(AVG(tip/total_bill)*100), day, smoker, time FROM tips GROUP BY day, smoker, time;''')\n",
    "    conn.commit()\n",
    "    df=pd.DataFrame(c.fetchall(), columns=['Unique Average', 'Day', 'Smoker', 'Time'])\n",
    "    print(df)    "
   ]
  },
  {
   "cell_type": "markdown",
   "metadata": {},
   "source": [
    "7. Retrieve the total bill, tip amount, and tip percentage for each sex, sorted by total bill in descending order, and limit the results to the top 5 records\n"
   ]
  },
  {
   "cell_type": "code",
   "execution_count": 36,
   "metadata": {},
   "outputs": [
    {
     "name": "stdout",
     "output_type": "stream",
     "text": [
      "   Total_Bill  Tip Amount  Tip Percentage   Sex\n",
      "0       50.81       10.00            20.0  Male\n",
      "1       48.33        9.00            19.0  Male\n",
      "2       48.27        6.73            14.0  Male\n",
      "3       48.17        5.00            10.0  Male\n",
      "4       45.35        3.50             8.0  Male\n"
     ]
    }
   ],
   "source": [
    "with sqlite3.connect('tips.db') as conn:\n",
    "    c = conn.cursor()\n",
    "    c.execute('''SELECT total_bill, tip, ROUND(AVG(tip/total_bill)*100), sex FROM tips GROUP BY total_bill ORDER BY total_bill DESC;''')\n",
    "    conn.commit()\n",
    "    df=pd.DataFrame(c.fetchall(), columns=['Total_Bill', 'Tip Amount', 'Tip Percentage', 'Sex'])\n",
    "    print(df.head(5))  "
   ]
  },
  {
   "cell_type": "markdown",
   "metadata": {},
   "source": [
    "8. Find the maximum and minimum tip percentage for each day and time combination, along with the corresponding total bill and tip amount"
   ]
  },
  {
   "cell_type": "code",
   "execution_count": 39,
   "metadata": {},
   "outputs": [
    {
     "name": "stdout",
     "output_type": "stream",
     "text": [
      "   Unique Max Percentage  Unique Min Percentage   Day    Time  Total_Bill  \\\n",
      "0                   26.0                   10.0   Fri  Dinner       28.97   \n",
      "1                   26.0                   12.0   Fri   Lunch       13.42   \n",
      "2                   33.0                    4.0   Sat  Dinner       32.83   \n",
      "3                   71.0                    6.0   Sun  Dinner       16.99   \n",
      "4                   16.0                   16.0  Thur  Dinner       18.78   \n",
      "5                   27.0                    7.0  Thur   Lunch       18.64   \n",
      "\n",
      "    Tip  \n",
      "0  3.00  \n",
      "1  1.58  \n",
      "2  1.17  \n",
      "3  1.01  \n",
      "4  3.00  \n",
      "5  1.36  \n"
     ]
    }
   ],
   "source": [
    "with sqlite3.connect('tips.db') as conn:\n",
    "    c = conn.cursor()\n",
    "    c.execute('''SELECT ROUND(MAX(tip/total_bill)*100), ROUND(MIN(tip/total_bill)*100), day, time, total_bill, tip FROM tips GROUP BY day, time;''')\n",
    "    conn.commit()\n",
    "    df=pd.DataFrame(c.fetchall(), columns=['Unique Max Percentage', 'Unique Min Percentage','Day','Time','Total_Bill', 'Tip'])\n",
    "    print(df)   "
   ]
  },
  {
   "cell_type": "markdown",
   "metadata": {},
   "source": [
    "9. Retrieve the total bill, tip amount, and tip percentage for parties of size 4 or more, where the tip percentage is greater than 15%, and the total bill is between $50 and $100\n"
   ]
  },
  {
   "cell_type": "code",
   "execution_count": 42,
   "metadata": {},
   "outputs": [
    {
     "name": "stdout",
     "output_type": "stream",
     "text": [
      "Empty DataFrame\n",
      "Columns: [Total_bill, Tip, Percentage, Size]\n",
      "Index: []\n"
     ]
    }
   ],
   "source": [
    "with sqlite3.connect('tips.db') as conn:\n",
    "    c = conn.cursor()\n",
    "    c.execute('''SELECT total_bill, tip, ROUND((tip/total_bill)*100) As percentage, size FROM tips WHERE size>=4 AND percentage>15 AND total_bill BETWEEN 50 AND 100;''')\n",
    "    conn.commit()\n",
    "    df=pd.DataFrame(c.fetchall(), columns=['Total_bill', 'Tip','Percentage','Size'])\n",
    "    print(df)   "
   ]
  },
  {
   "cell_type": "markdown",
   "metadata": {},
   "source": [
    "10. Find the average tip percentage for each combination of day, time, and smoker status, but only include combinations with more than 5 records\n"
   ]
  },
  {
   "cell_type": "code",
   "execution_count": 43,
   "metadata": {},
   "outputs": [
    {
     "name": "stdout",
     "output_type": "stream",
     "text": [
      "   Average Total_bill   Day    Time Smoker\n",
      "0                17.0   Fri  Dinner    Yes\n",
      "1                19.0   Fri   Lunch    Yes\n",
      "2                16.0   Sat  Dinner     No\n",
      "3                15.0   Sat  Dinner    Yes\n",
      "4                16.0   Sun  Dinner     No\n",
      "5                19.0   Sun  Dinner    Yes\n",
      "6                16.0  Thur   Lunch     No\n",
      "7                16.0  Thur   Lunch    Yes\n"
     ]
    }
   ],
   "source": [
    "with sqlite3.connect('tips.db') as conn:\n",
    "    c = conn.cursor()\n",
    "    c.execute('''SELECT ROUND(AVG(tip/total_bill)*100), day, time, smoker FROM tips GROUP BY day, time, smoker HAVING COUNT(*)>5;''')\n",
    "    conn.commit()\n",
    "    df=pd.DataFrame(c.fetchall(), columns=['Average Total_bill', 'Day','Time','Smoker'])\n",
    "    print(df)  "
   ]
  },
  {
   "cell_type": "markdown",
   "metadata": {},
   "source": [
    "Come up with your own SQL queries for the table. You must show 5 additional queries beyond the 10 outlined above. \n",
    "\n",
    "**After you have performed the above queries:**\n"
   ]
  },
  {
   "cell_type": "markdown",
   "metadata": {},
   "source": [
    "Supplemental 1. Retrieve the total bill, tip, and size and find the difference of the total bill from the average total bill.\n"
   ]
  },
  {
   "cell_type": "code",
   "execution_count": 72,
   "metadata": {},
   "outputs": [
    {
     "name": "stdout",
     "output_type": "stream",
     "text": [
      "     Total_bill   Tip    Average  Difference  Size\n",
      "0         16.99  1.01  19.785943   -2.795943     2\n",
      "1         10.34  1.66  19.785943   -9.445943     3\n",
      "2         21.01  3.50  19.785943    1.224057     3\n",
      "3         23.68  3.31  19.785943    3.894057     2\n",
      "4         24.59  3.61  19.785943    4.804057     4\n",
      "..          ...   ...        ...         ...   ...\n",
      "239       29.03  5.92  19.785943    9.244057     3\n",
      "240       27.18  2.00  19.785943    7.394057     2\n",
      "241       22.67  2.00  19.785943    2.884057     2\n",
      "242       17.82  1.75  19.785943   -1.965943     2\n",
      "243       18.78  3.00  19.785943   -1.005943     2\n",
      "\n",
      "[244 rows x 5 columns]\n"
     ]
    }
   ],
   "source": [
    "with sqlite3.connect('tips.db') as conn:\n",
    "    c = conn.cursor()\n",
    "    c.execute('''SELECT total_bill, tip, (SELECT AVG(total_bill) FROM tips), (total_bill- (SELECT AVG(total_bill) FROM tips)), size FROM tips;''')\n",
    "    conn.commit()\n",
    "    df=pd.DataFrame(c.fetchall(), columns=['Total_bill', 'Tip','Average','Difference','Size'])\n",
    "    print(df)  "
   ]
  },
  {
   "cell_type": "markdown",
   "metadata": {},
   "source": [
    "Supplemental 2. Retrieve the total bill, smoker, and day for parties of size 2 or 3.\n"
   ]
  },
  {
   "cell_type": "code",
   "execution_count": 73,
   "metadata": {},
   "outputs": [
    {
     "name": "stdout",
     "output_type": "stream",
     "text": [
      "     Total_bill Smoker   Day  Size\n",
      "0         16.99     No   Sun     2\n",
      "1         10.34     No   Sun     3\n",
      "2         21.01     No   Sun     3\n",
      "3         23.68     No   Sun     2\n",
      "4          8.77     No   Sun     2\n",
      "..          ...    ...   ...   ...\n",
      "189       29.03     No   Sat     3\n",
      "190       27.18    Yes   Sat     2\n",
      "191       22.67    Yes   Sat     2\n",
      "192       17.82     No   Sat     2\n",
      "193       18.78     No  Thur     2\n",
      "\n",
      "[194 rows x 4 columns]\n"
     ]
    }
   ],
   "source": [
    "with sqlite3.connect('tips.db') as conn:\n",
    "    c = conn.cursor()\n",
    "    c.execute('''SELECT total_bill, smoker, day, size FROM tips WHERE size IN(2,3);''')\n",
    "    conn.commit()\n",
    "    df=pd.DataFrame(c.fetchall(), columns=['Total_bill','Smoker','Day','Size'])\n",
    "    print(df)   "
   ]
  },
  {
   "cell_type": "markdown",
   "metadata": {},
   "source": [
    "Supplemental 3. Segregate all smokers as sitting outside while non smokers sit inside.\n"
   ]
  },
  {
   "cell_type": "code",
   "execution_count": 75,
   "metadata": {},
   "outputs": [
    {
     "name": "stdout",
     "output_type": "stream",
     "text": [
      "    Smoker   Day    Time  Setting\n",
      "0       No   Sun  Dinner   Inside\n",
      "1       No   Sun  Dinner   Inside\n",
      "2       No   Sun  Dinner   Inside\n",
      "3       No   Sun  Dinner   Inside\n",
      "4       No   Sun  Dinner   Inside\n",
      "..     ...   ...     ...      ...\n",
      "239     No   Sat  Dinner   Inside\n",
      "240    Yes   Sat  Dinner  Outside\n",
      "241    Yes   Sat  Dinner  Outside\n",
      "242     No   Sat  Dinner   Inside\n",
      "243     No  Thur  Dinner   Inside\n",
      "\n",
      "[244 rows x 4 columns]\n"
     ]
    }
   ],
   "source": [
    "with sqlite3.connect('tips.db') as conn:\n",
    "    c = conn.cursor()\n",
    "    c.execute('''SELECT smoker, day, time, CASE smoker WHEN 'No' THEN 'Inside' ELSE 'Outside' END Setting FROM tips;''')\n",
    "    conn.commit()\n",
    "    df=pd.DataFrame(c.fetchall(), columns=['Smoker','Day','Time','Setting'])\n",
    "    print(df)  "
   ]
  },
  {
   "cell_type": "markdown",
   "metadata": {},
   "source": [
    "Supplemental 4. Retrieve the following 20 entries for total bill, tip, sex, smoker, day, time, and size from the 15th entry in the table.\n"
   ]
  },
  {
   "cell_type": "code",
   "execution_count": 78,
   "metadata": {},
   "outputs": [
    {
     "name": "stdout",
     "output_type": "stream",
     "text": [
      "    Total Bill   Tip     Sex Smoker  Day    Time  Size\n",
      "0        14.83  3.02  Female     No  Sun  Dinner     2\n",
      "1        21.58  3.92    Male     No  Sun  Dinner     2\n",
      "2        10.33  1.67  Female     No  Sun  Dinner     3\n",
      "3        16.29  3.71    Male     No  Sun  Dinner     3\n",
      "4        16.97  3.50  Female     No  Sun  Dinner     3\n",
      "5        20.65  3.35    Male     No  Sat  Dinner     3\n",
      "6        17.92  4.08    Male     No  Sat  Dinner     2\n",
      "7        20.29  2.75  Female     No  Sat  Dinner     2\n",
      "8        15.77  2.23  Female     No  Sat  Dinner     2\n",
      "9        39.42  7.58    Male     No  Sat  Dinner     4\n",
      "10       19.82  3.18    Male     No  Sat  Dinner     2\n",
      "11       17.81  2.34    Male     No  Sat  Dinner     4\n",
      "12       13.37  2.00    Male     No  Sat  Dinner     2\n",
      "13       12.69  2.00    Male     No  Sat  Dinner     2\n",
      "14       21.70  4.30    Male     No  Sat  Dinner     2\n",
      "15       19.65  3.00  Female     No  Sat  Dinner     2\n",
      "16        9.55  1.45    Male     No  Sat  Dinner     2\n",
      "17       18.35  2.50    Male     No  Sat  Dinner     4\n",
      "18       15.06  3.00  Female     No  Sat  Dinner     2\n",
      "19       20.69  2.45  Female     No  Sat  Dinner     4\n"
     ]
    }
   ],
   "source": [
    "with sqlite3.connect('tips.db') as conn:\n",
    "    c = conn.cursor()\n",
    "    c.execute('''SELECT total_bill,tip,sex,smoker,day,time,size FROM tips LIMIT 20 OFFSET 14;''')\n",
    "    conn.commit()\n",
    "    df=pd.DataFrame(c.fetchall(), columns=['Total Bill','Tip','Sex','Smoker','Day','Time','Size'])\n",
    "    print(df)  "
   ]
  },
  {
   "cell_type": "markdown",
   "metadata": {},
   "source": [
    "Supplemental 5. Retrieve the total bill, tips, and day for all smokers.\n"
   ]
  },
  {
   "cell_type": "code",
   "execution_count": 88,
   "metadata": {},
   "outputs": [
    {
     "name": "stdout",
     "output_type": "stream",
     "text": [
      "    Total Bill   Tip     Sex Smoker  Day    Time  Size\n",
      "0        38.01  3.00    Male    Yes  Sat  Dinner     4\n",
      "1        11.24  1.76    Male    Yes  Sat  Dinner     2\n",
      "2        20.29  3.21    Male    Yes  Sat  Dinner     2\n",
      "3        13.81  2.00    Male    Yes  Sat  Dinner     2\n",
      "4        11.02  1.98    Male    Yes  Sat  Dinner     2\n",
      "..         ...   ...     ...    ...  ...     ...   ...\n",
      "88       15.53  3.00    Male    Yes  Sat  Dinner     2\n",
      "89       12.60  1.00    Male    Yes  Sat  Dinner     2\n",
      "90       32.83  1.17    Male    Yes  Sat  Dinner     2\n",
      "91       27.18  2.00  Female    Yes  Sat  Dinner     2\n",
      "92       22.67  2.00    Male    Yes  Sat  Dinner     2\n",
      "\n",
      "[93 rows x 7 columns]\n"
     ]
    }
   ],
   "source": [
    "with sqlite3.connect('tips.db') as conn:\n",
    "    c = conn.cursor()\n",
    "    c.execute('''SELECT total_bill,tip,sex,smoker,day,time,size FROM tips WHERE smoker like '%yes%';''')\n",
    "    conn.commit()\n",
    "    df=pd.DataFrame(c.fetchall(), columns=['Total Bill','Tip','Sex','Smoker','Day','Time','Size'])\n",
    "    print(df)  "
   ]
  },
  {
   "cell_type": "markdown",
   "metadata": {},
   "source": [
    "\n",
    "### UPDATE\n",
    "It was determined that there was an error in the database. Please update the record that corresponds to id=10 and set smoker to Yes. \n"
   ]
  },
  {
   "cell_type": "code",
   "execution_count": 36,
   "metadata": {},
   "outputs": [
    {
     "name": "stdout",
     "output_type": "stream",
     "text": [
      "Before:\n",
      "[(14.78, 3.23, 'Male', 'Yes', 'Sun', 'Dinner', 2)]\n",
      "Before:\n",
      "[(14.78, 3.23, 'Male', 'Yes', 'Sun', 'Dinner', 2)]\n"
     ]
    }
   ],
   "source": [
    "with sqlite3.connect('tips.db') as conn:\n",
    "    c = conn.cursor()\n",
    "    c.execute('''SELECT * FROM tips WHERE rowid=10;''')\n",
    "    conn.commit()\n",
    "    print(f'Before:\\n{c.fetchall()}')\n",
    "    c.execute('''UPDATE tips SET smoker = 'Yes' WHERE rowid=10;''')\n",
    "    conn.commit()\n",
    "    c.execute('''SELECT * FROM tips WHERE rowid=10;''')\n",
    "    conn.commit()\n",
    "    print(f'Before:\\n{c.fetchall()}')"
   ]
  },
  {
   "cell_type": "markdown",
   "metadata": {},
   "source": [
    "\n",
    "\n",
    "### DELETE\n",
    "Delete records from the database that have a total bill that is less than $10."
   ]
  },
  {
   "cell_type": "code",
   "execution_count": 39,
   "metadata": {},
   "outputs": [
    {
     "name": "stdout",
     "output_type": "stream",
     "text": [
      "Number of rows before: 17\n",
      "Number of rows before: 0\n"
     ]
    }
   ],
   "source": [
    "with sqlite3.connect('tips.db') as conn:\n",
    "    c = conn.cursor()\n",
    "    c.execute('''SELECT COUNT(*) FROM tips WHERE total_bill < 10;''')\n",
    "    conn.commit()\n",
    "    print(f'Number of rows before: {c.fetchall()[0][0]}')\n",
    "    c.execute('''DELETE FROM tips WHERE total_bill < 10;''')\n",
    "    conn.commit()\n",
    "    c.execute('''SELECT COUNT(*) FROM tips WHERE total_bill < 10;''')\n",
    "    conn.commit()\n",
    "    print(f'Number of rows before: {c.fetchall()[0][0]}')"
   ]
  },
  {
   "cell_type": "markdown",
   "metadata": {},
   "source": []
  }
 ],
 "metadata": {
  "kernelspec": {
   "display_name": ".venv",
   "language": "python",
   "name": "python3"
  },
  "language_info": {
   "codemirror_mode": {
    "name": "ipython",
    "version": 3
   },
   "file_extension": ".py",
   "mimetype": "text/x-python",
   "name": "python",
   "nbconvert_exporter": "python",
   "pygments_lexer": "ipython3",
   "version": "3.11.8"
  }
 },
 "nbformat": 4,
 "nbformat_minor": 2
}
