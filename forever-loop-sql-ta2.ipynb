{
 "cells": [
  {
   "cell_type": "markdown",
   "metadata": {},
   "source": [
    "# AIPI510 Fall 2024 Assignment # 2"
   ]
  },
  {
   "cell_type": "markdown",
   "metadata": {},
   "source": [
    "### Team Details\n",
    "\n",
    "**Team name:** Forever Loop\n",
    "\n",
    "**Team members:** Santosh Ganesan, Haran Nallasivan\n",
    "\n",
    "### Reference Used\n",
    "We used [this Medium article](https://medium.com/@BrandonSouthern/sql-best-practices-e1c61e96ee27) for a set of best practices for SQL formatting."
   ]
  },
  {
   "cell_type": "markdown",
   "metadata": {},
   "source": [
    "### CREATE\n",
    "You have been provided with a sample .csv file. Create a SQLite database in Python using the data in this sample .csv file."
   ]
  },
  {
   "cell_type": "markdown",
   "metadata": {},
   "source": [
    "#### Import statements and shared functions"
   ]
  },
  {
   "cell_type": "code",
   "execution_count": 21,
   "metadata": {},
   "outputs": [],
   "source": [
    "import pandas as pd\n",
    "import sqlite3\n",
    "\n",
    "def query(sql, args=None):\n",
    "    \"\"\"\n",
    "    Utility function to factor out duplicative code for connecting to the database, creating a cursor,\n",
    "    executing a query, committing on the connection, and fetching results from the cursor. Uses a context manager,\n",
    "    parameterized queries, and a try-except block to follow best practices.\n",
    "\n",
    "    Parameters:\n",
    "        sql (str) - SQL query expression to be executed on the tips table in the tips.db SQLite database.\n",
    "        args (dictionary, optional) - Arguments to be passed if the query is parameterized.\n",
    "    \"\"\"\n",
    "    try:\n",
    "        with sqlite3.connect('./tips.db') as conn:\n",
    "            c = conn.cursor()\n",
    "            if args is not None:\n",
    "                c.execute(sql, args)\n",
    "            else:\n",
    "                c.execute(sql)\n",
    "            conn.commit()\n",
    "            return c.fetchall()\n",
    "    except:\n",
    "        print(f'Failed to execute query:\\n{sql}')\n",
    "        return []"
   ]
  },
  {
   "cell_type": "markdown",
   "metadata": {},
   "source": [
    "#### Exploratory analysis of the data"
   ]
  },
  {
   "cell_type": "code",
   "execution_count": 22,
   "metadata": {},
   "outputs": [
    {
     "name": "stdout",
     "output_type": "stream",
     "text": [
      "   total_bill   tip     sex smoker  day    time  size\n",
      "0       16.99  1.01  Female     No  Sun  Dinner     2\n",
      "1       10.34  1.66    Male     No  Sun  Dinner     3\n",
      "2       21.01  3.50    Male     No  Sun  Dinner     3\n",
      "3       23.68  3.31    Male     No  Sun  Dinner     2\n",
      "4       24.59  3.61  Female     No  Sun  Dinner     4\n"
     ]
    }
   ],
   "source": [
    "\n",
    "df = pd.read_csv('data/tips.csv')\n",
    "print(df.head())"
   ]
  },
  {
   "cell_type": "markdown",
   "metadata": {},
   "source": [
    "#### Create the SQLite database"
   ]
  },
  {
   "cell_type": "code",
   "execution_count": 23,
   "metadata": {},
   "outputs": [],
   "source": [
    "\n",
    "with sqlite3.connect('tips.db') as conn:\n",
    "    c = conn.cursor()\n",
    "    c.execute('''CREATE TABLE tips (total_bill,tip,sex,smoker,day,time,size)''')\n",
    "    conn.commit()"
   ]
  },
  {
   "cell_type": "markdown",
   "metadata": {},
   "source": [
    "#### Verify connectivity to the database"
   ]
  },
  {
   "cell_type": "code",
   "execution_count": 24,
   "metadata": {},
   "outputs": [
    {
     "data": {
      "text/plain": [
       "[]"
      ]
     },
     "execution_count": 24,
     "metadata": {},
     "output_type": "execute_result"
    }
   ],
   "source": [
    "query('''SELECT * from tips;''')"
   ]
  },
  {
   "cell_type": "markdown",
   "metadata": {},
   "source": [
    "#### Load data into the database"
   ]
  },
  {
   "cell_type": "code",
   "execution_count": 25,
   "metadata": {},
   "outputs": [],
   "source": [
    "with sqlite3.connect('tips.db') as conn:\n",
    "    df = pd.read_csv('data/tips.csv')\n",
    "    df.to_sql('tips', conn, if_exists='replace', index=False)\n",
    "    conn.commit()"
   ]
  },
  {
   "cell_type": "markdown",
   "metadata": {},
   "source": [
    "\n",
    "### READ\n",
    "Answer the following questions (must show your work via SQL queries):\n",
    "1. Retrieve the average tip percentage for each day of the week \n"
   ]
  },
  {
   "cell_type": "code",
   "execution_count": 26,
   "metadata": {},
   "outputs": [
    {
     "data": {
      "text/plain": [
       "[(16.0,)]"
      ]
     },
     "execution_count": 26,
     "metadata": {},
     "output_type": "execute_result"
    }
   ],
   "source": [
    "query('''\n",
    "      SELECT\n",
    "            ROUND(AVG(tip/total_bill) * 100) AS average_tip_percentage\n",
    "      FROM\n",
    "            tips;\n",
    "      ''')"
   ]
  },
  {
   "cell_type": "markdown",
   "metadata": {},
   "source": [
    "2. Find the maximum and minimum total bull amounts\n"
   ]
  },
  {
   "cell_type": "code",
   "execution_count": 27,
   "metadata": {},
   "outputs": [
    {
     "data": {
      "text/plain": [
       "[(50.81, 3.07)]"
      ]
     },
     "execution_count": 27,
     "metadata": {},
     "output_type": "execute_result"
    }
   ],
   "source": [
    "query('''\n",
    "      SELECT\n",
    "            MAX(total_bill) AS max,\n",
    "            MIN(total_bill) AS min\n",
    "      FROM\n",
    "            tips;\n",
    "      ''')"
   ]
  },
  {
   "cell_type": "markdown",
   "metadata": {},
   "source": [
    "3. Count the number of parties for each size\n"
   ]
  },
  {
   "cell_type": "code",
   "execution_count": 28,
   "metadata": {},
   "outputs": [
    {
     "data": {
      "text/plain": [
       "[(1, 4), (2, 156), (3, 38), (4, 37), (5, 5), (6, 4)]"
      ]
     },
     "execution_count": 28,
     "metadata": {},
     "output_type": "execute_result"
    }
   ],
   "source": [
    "query('''\n",
    "      SELECT\n",
    "            size,\n",
    "            COUNT(*) as count\n",
    "      FROM\n",
    "            tips\n",
    "      GROUP BY\n",
    "            size;\n",
    "      ''')"
   ]
  },
  {
   "cell_type": "markdown",
   "metadata": {},
   "source": [
    "4. Retrieve the total bill and tip for parties of size 4 or more, where the tip percentage is greater than 15%\n"
   ]
  },
  {
   "cell_type": "code",
   "execution_count": 29,
   "metadata": {},
   "outputs": [
    {
     "data": {
      "text/plain": [
       "[(34.3, 6.7, 20.0),\n",
       " (27.05, 5.0, 18.0),\n",
       " (29.85, 5.14, 17.0),\n",
       " (20.69, 5.0, 24.0)]"
      ]
     },
     "execution_count": 29,
     "metadata": {},
     "output_type": "execute_result"
    }
   ],
   "source": [
    "query('''\n",
    "      SELECT\n",
    "            total_bill,\n",
    "            tip,\n",
    "            ROUND(tip/total_bill * 100) AS tip_percentage\n",
    "      FROM\n",
    "            tips\n",
    "      WHERE\n",
    "            size > :size \n",
    "            AND tip_percentage > :tip_percentage;\n",
    "      ''', { 'size': 4, 'tip_percentage': 15 })"
   ]
  },
  {
   "cell_type": "markdown",
   "metadata": {},
   "source": [
    "\n",
    "5. Retrieve the total bill, tip amount, and tip percentage for each combination of day and time, sorted by tip percentage in descending order"
   ]
  },
  {
   "cell_type": "code",
   "execution_count": 30,
   "metadata": {},
   "outputs": [
    {
     "data": {
      "text/plain": [
       "[('Fri', 'Lunch', 12.16, 2.2, 18.0),\n",
       " ('Sat', 'Dinner', 20.65, 3.35, 16.0),\n",
       " ('Thur', 'Dinner', 18.78, 3.0, 16.0),\n",
       " ('Thur', 'Lunch', 27.2, 4.0, 15.0),\n",
       " ('Fri', 'Dinner', 28.97, 3.0, 10.0),\n",
       " ('Sun', 'Dinner', 16.99, 1.01, 6.0)]"
      ]
     },
     "execution_count": 30,
     "metadata": {},
     "output_type": "execute_result"
    }
   ],
   "source": [
    "query('''\n",
    "      SELECT\n",
    "            day,\n",
    "            time,\n",
    "            total_bill,\n",
    "            tip,\n",
    "            ROUND((tip/total_bill) * 100) AS tip_percentage\n",
    "      FROM\n",
    "            tips\n",
    "      GROUP BY \n",
    "            day,\n",
    "            time\n",
    "      ORDER BY \n",
    "            tip_percentage\n",
    "      DESC;\n",
    "      ''')"
   ]
  },
  {
   "cell_type": "markdown",
   "metadata": {},
   "source": [
    "6. Find the average tip percentage for each combination of day, time, and smoker status\n"
   ]
  },
  {
   "cell_type": "code",
   "execution_count": 31,
   "metadata": {},
   "outputs": [
    {
     "data": {
      "text/plain": [
       "[(14.0, 'Fri', 'No', 'Dinner'),\n",
       " (19.0, 'Fri', 'No', 'Lunch'),\n",
       " (17.0, 'Fri', 'Yes', 'Dinner'),\n",
       " (19.0, 'Fri', 'Yes', 'Lunch'),\n",
       " (16.0, 'Sat', 'No', 'Dinner'),\n",
       " (15.0, 'Sat', 'Yes', 'Dinner'),\n",
       " (16.0, 'Sun', 'No', 'Dinner'),\n",
       " (19.0, 'Sun', 'Yes', 'Dinner'),\n",
       " (16.0, 'Thur', 'No', 'Dinner'),\n",
       " (16.0, 'Thur', 'No', 'Lunch'),\n",
       " (16.0, 'Thur', 'Yes', 'Lunch')]"
      ]
     },
     "execution_count": 31,
     "metadata": {},
     "output_type": "execute_result"
    }
   ],
   "source": [
    "query('''\n",
    "      SELECT\n",
    "            ROUND(AVG(tip/total_bill)*100),\n",
    "            day,\n",
    "            smoker,\n",
    "            time\n",
    "      FROM\n",
    "            tips\n",
    "      GROUP BY\n",
    "            day,\n",
    "            smoker,\n",
    "            time;\n",
    "      ''')  "
   ]
  },
  {
   "cell_type": "markdown",
   "metadata": {},
   "source": [
    "7. Retrieve the total bill, tip amount, and tip percentage for each sex, sorted by total bill in descending order, and limit the results to the top 5 records\n"
   ]
  },
  {
   "cell_type": "code",
   "execution_count": 33,
   "metadata": {},
   "outputs": [
    {
     "data": {
      "text/plain": [
       "[(1570.95, 246.51, 16.0, 'Female'), (3256.82, 485.07, 15.0, 'Male')]"
      ]
     },
     "execution_count": 33,
     "metadata": {},
     "output_type": "execute_result"
    }
   ],
   "source": [
    "query('''\n",
    "      SELECT\n",
    "            ROUND(SUM(total_bill), 2),\n",
    "            ROUND(SUM(tip), 2),\n",
    "            ROUND(SUM(tip)/SUM(total_bill)*100) AS tip_percentage,\n",
    "            sex\n",
    "      FROM\n",
    "            tips\n",
    "      GROUP BY\n",
    "            sex\n",
    "      ORDER BY\n",
    "            total_bill\n",
    "      DESC;\n",
    "      ''') "
   ]
  },
  {
   "cell_type": "markdown",
   "metadata": {},
   "source": [
    "8. Find the maximum and minimum tip percentage for each day and time combination, along with the corresponding total bill and tip amount"
   ]
  },
  {
   "cell_type": "code",
   "execution_count": 34,
   "metadata": {},
   "outputs": [
    {
     "data": {
      "text/plain": [
       "[(26.0, 10.0, 'Fri', 'Dinner', 28.97, 3.0),\n",
       " (26.0, 12.0, 'Fri', 'Lunch', 13.42, 1.58),\n",
       " (33.0, 4.0, 'Sat', 'Dinner', 32.83, 1.17),\n",
       " (71.0, 6.0, 'Sun', 'Dinner', 16.99, 1.01),\n",
       " (16.0, 16.0, 'Thur', 'Dinner', 18.78, 3.0),\n",
       " (27.0, 7.0, 'Thur', 'Lunch', 18.64, 1.36)]"
      ]
     },
     "execution_count": 34,
     "metadata": {},
     "output_type": "execute_result"
    }
   ],
   "source": [
    "query('''\n",
    "      SELECT\n",
    "            ROUND(MAX(tip/total_bill)*100) AS max_tip_percentage,\n",
    "            ROUND(MIN(tip/total_bill)*100) AS min_tip_percentage,\n",
    "            day,\n",
    "            time,\n",
    "            total_bill,\n",
    "            tip\n",
    "      FROM\n",
    "            tips\n",
    "      GROUP BY\n",
    "            day,\n",
    "            time;\n",
    "      ''')"
   ]
  },
  {
   "cell_type": "markdown",
   "metadata": {},
   "source": [
    "9. Retrieve the total bill, tip amount, and tip percentage for parties of size 4 or more, where the tip percentage is greater than 15%, and the total bill is between $50 and $100\n"
   ]
  },
  {
   "cell_type": "code",
   "execution_count": 35,
   "metadata": {},
   "outputs": [
    {
     "data": {
      "text/plain": [
       "[]"
      ]
     },
     "execution_count": 35,
     "metadata": {},
     "output_type": "execute_result"
    }
   ],
   "source": [
    "query('''\n",
    "      SELECT\n",
    "            total_bill,\n",
    "            tip,\n",
    "            ROUND((tip/total_bill)*100) AS tip_percentage,\n",
    "            size\n",
    "      FROM\n",
    "            tips\n",
    "      WHERE\n",
    "            size >= :size\n",
    "      AND\n",
    "            tip_percentage > :tip_percentage\n",
    "      AND\n",
    "            total_bill BETWEEN :total_bill_min AND :total_bill_max;\n",
    "      ''', { 'size': 4, 'tip_percentage': 15, 'total_bill_min': 50, 'total_bill_max': 100 })"
   ]
  },
  {
   "cell_type": "markdown",
   "metadata": {},
   "source": [
    "10. Find the average tip percentage for each combination of day, time, and smoker status, but only include combinations with more than 5 records\n"
   ]
  },
  {
   "cell_type": "code",
   "execution_count": 36,
   "metadata": {},
   "outputs": [
    {
     "data": {
      "text/plain": [
       "[(17.0, 'Fri', 'Dinner', 'Yes', 9),\n",
       " (19.0, 'Fri', 'Lunch', 'Yes', 6),\n",
       " (16.0, 'Sat', 'Dinner', 'No', 45),\n",
       " (15.0, 'Sat', 'Dinner', 'Yes', 42),\n",
       " (16.0, 'Sun', 'Dinner', 'No', 57),\n",
       " (19.0, 'Sun', 'Dinner', 'Yes', 19),\n",
       " (16.0, 'Thur', 'Lunch', 'No', 44),\n",
       " (16.0, 'Thur', 'Lunch', 'Yes', 17)]"
      ]
     },
     "execution_count": 36,
     "metadata": {},
     "output_type": "execute_result"
    }
   ],
   "source": [
    "query('''\n",
    "      SELECT\n",
    "            ROUND(AVG(tip/total_bill)*100),\n",
    "            day,\n",
    "            time,\n",
    "            smoker,\n",
    "            COUNT(*)\n",
    "      FROM\n",
    "            tips\n",
    "      GROUP BY\n",
    "            day,\n",
    "            time,\n",
    "            smoker\n",
    "      HAVING \n",
    "            COUNT(*) > :count;\n",
    "      ''', { 'count': 5 })"
   ]
  },
  {
   "cell_type": "markdown",
   "metadata": {},
   "source": [
    "Come up with your own SQL queries for the table. You must show 5 additional queries beyond the 10 outlined above.\n"
   ]
  },
  {
   "cell_type": "markdown",
   "metadata": {},
   "source": [
    "Supplemental 1. Retrieve the total bill, tip, and size and find the difference of the total bill from the average total bill.\n"
   ]
  },
  {
   "cell_type": "code",
   "execution_count": 37,
   "metadata": {},
   "outputs": [
    {
     "data": {
      "text/plain": [
       "[(16.99, 1.01, 19.79, -2.8, 2),\n",
       " (10.34, 1.66, 19.79, -9.45, 3),\n",
       " (21.01, 3.5, 19.79, 1.22, 3),\n",
       " (23.68, 3.31, 19.79, 3.89, 2),\n",
       " (24.59, 3.61, 19.79, 4.8, 4),\n",
       " (25.29, 4.71, 19.79, 5.5, 4),\n",
       " (8.77, 2.0, 19.79, -11.02, 2),\n",
       " (26.88, 3.12, 19.79, 7.09, 4),\n",
       " (15.04, 1.96, 19.79, -4.75, 2),\n",
       " (14.78, 3.23, 19.79, -5.01, 2),\n",
       " (10.27, 1.71, 19.79, -9.52, 2),\n",
       " (35.26, 5.0, 19.79, 15.47, 4),\n",
       " (15.42, 1.57, 19.79, -4.37, 2),\n",
       " (18.43, 3.0, 19.79, -1.36, 4),\n",
       " (14.83, 3.02, 19.79, -4.96, 2),\n",
       " (21.58, 3.92, 19.79, 1.79, 2),\n",
       " (10.33, 1.67, 19.79, -9.46, 3),\n",
       " (16.29, 3.71, 19.79, -3.5, 3),\n",
       " (16.97, 3.5, 19.79, -2.82, 3),\n",
       " (20.65, 3.35, 19.79, 0.86, 3),\n",
       " (17.92, 4.08, 19.79, -1.87, 2),\n",
       " (20.29, 2.75, 19.79, 0.5, 2),\n",
       " (15.77, 2.23, 19.79, -4.02, 2),\n",
       " (39.42, 7.58, 19.79, 19.63, 4),\n",
       " (19.82, 3.18, 19.79, 0.03, 2),\n",
       " (17.81, 2.34, 19.79, -1.98, 4),\n",
       " (13.37, 2.0, 19.79, -6.42, 2),\n",
       " (12.69, 2.0, 19.79, -7.1, 2),\n",
       " (21.7, 4.3, 19.79, 1.91, 2),\n",
       " (19.65, 3.0, 19.79, -0.14, 2),\n",
       " (9.55, 1.45, 19.79, -10.24, 2),\n",
       " (18.35, 2.5, 19.79, -1.44, 4),\n",
       " (15.06, 3.0, 19.79, -4.73, 2),\n",
       " (20.69, 2.45, 19.79, 0.9, 4),\n",
       " (17.78, 3.27, 19.79, -2.01, 2),\n",
       " (24.06, 3.6, 19.79, 4.27, 3),\n",
       " (16.31, 2.0, 19.79, -3.48, 3),\n",
       " (16.93, 3.07, 19.79, -2.86, 3),\n",
       " (18.69, 2.31, 19.79, -1.1, 3),\n",
       " (31.27, 5.0, 19.79, 11.48, 3),\n",
       " (16.04, 2.24, 19.79, -3.75, 3),\n",
       " (17.46, 2.54, 19.79, -2.33, 2),\n",
       " (13.94, 3.06, 19.79, -5.85, 2),\n",
       " (9.68, 1.32, 19.79, -10.11, 2),\n",
       " (30.4, 5.6, 19.79, 10.61, 4),\n",
       " (18.29, 3.0, 19.79, -1.5, 2),\n",
       " (22.23, 5.0, 19.79, 2.44, 2),\n",
       " (32.4, 6.0, 19.79, 12.61, 4),\n",
       " (28.55, 2.05, 19.79, 8.76, 3),\n",
       " (18.04, 3.0, 19.79, -1.75, 2),\n",
       " (12.54, 2.5, 19.79, -7.25, 2),\n",
       " (10.29, 2.6, 19.79, -9.5, 2),\n",
       " (34.81, 5.2, 19.79, 15.02, 4),\n",
       " (9.94, 1.56, 19.79, -9.85, 2),\n",
       " (25.56, 4.34, 19.79, 5.77, 4),\n",
       " (19.49, 3.51, 19.79, -0.3, 2),\n",
       " (38.01, 3.0, 19.79, 18.22, 4),\n",
       " (26.41, 1.5, 19.79, 6.62, 2),\n",
       " (11.24, 1.76, 19.79, -8.55, 2),\n",
       " (48.27, 6.73, 19.79, 28.48, 4),\n",
       " (20.29, 3.21, 19.79, 0.5, 2),\n",
       " (13.81, 2.0, 19.79, -5.98, 2),\n",
       " (11.02, 1.98, 19.79, -8.77, 2),\n",
       " (18.29, 3.76, 19.79, -1.5, 4),\n",
       " (17.59, 2.64, 19.79, -2.2, 3),\n",
       " (20.08, 3.15, 19.79, 0.29, 3),\n",
       " (16.45, 2.47, 19.79, -3.34, 2),\n",
       " (3.07, 1.0, 19.79, -16.72, 1),\n",
       " (20.23, 2.01, 19.79, 0.44, 2),\n",
       " (15.01, 2.09, 19.79, -4.78, 2),\n",
       " (12.02, 1.97, 19.79, -7.77, 2),\n",
       " (17.07, 3.0, 19.79, -2.72, 3),\n",
       " (26.86, 3.14, 19.79, 7.07, 2),\n",
       " (25.28, 5.0, 19.79, 5.49, 2),\n",
       " (14.73, 2.2, 19.79, -5.06, 2),\n",
       " (10.51, 1.25, 19.79, -9.28, 2),\n",
       " (17.92, 3.08, 19.79, -1.87, 2),\n",
       " (27.2, 4.0, 19.79, 7.41, 4),\n",
       " (22.76, 3.0, 19.79, 2.97, 2),\n",
       " (17.29, 2.71, 19.79, -2.5, 2),\n",
       " (19.44, 3.0, 19.79, -0.35, 2),\n",
       " (16.66, 3.4, 19.79, -3.13, 2),\n",
       " (10.07, 1.83, 19.79, -9.72, 1),\n",
       " (32.68, 5.0, 19.79, 12.89, 2),\n",
       " (15.98, 2.03, 19.79, -3.81, 2),\n",
       " (34.83, 5.17, 19.79, 15.04, 4),\n",
       " (13.03, 2.0, 19.79, -6.76, 2),\n",
       " (18.28, 4.0, 19.79, -1.51, 2),\n",
       " (24.71, 5.85, 19.79, 4.92, 2),\n",
       " (21.16, 3.0, 19.79, 1.37, 2),\n",
       " (28.97, 3.0, 19.79, 9.18, 2),\n",
       " (22.49, 3.5, 19.79, 2.7, 2),\n",
       " (5.75, 1.0, 19.79, -14.04, 2),\n",
       " (16.32, 4.3, 19.79, -3.47, 2),\n",
       " (22.75, 3.25, 19.79, 2.96, 2),\n",
       " (40.17, 4.73, 19.79, 20.38, 4),\n",
       " (27.28, 4.0, 19.79, 7.49, 2),\n",
       " (12.03, 1.5, 19.79, -7.76, 2),\n",
       " (21.01, 3.0, 19.79, 1.22, 2),\n",
       " (12.46, 1.5, 19.79, -7.33, 2),\n",
       " (11.35, 2.5, 19.79, -8.44, 2),\n",
       " (15.38, 3.0, 19.79, -4.41, 2),\n",
       " (44.3, 2.5, 19.79, 24.51, 3),\n",
       " (22.42, 3.48, 19.79, 2.63, 2),\n",
       " (20.92, 4.08, 19.79, 1.13, 2),\n",
       " (15.36, 1.64, 19.79, -4.43, 2),\n",
       " (20.49, 4.06, 19.79, 0.7, 2),\n",
       " (25.21, 4.29, 19.79, 5.42, 2),\n",
       " (18.24, 3.76, 19.79, -1.55, 2),\n",
       " (14.31, 4.0, 19.79, -5.48, 2),\n",
       " (14.0, 3.0, 19.79, -5.79, 2),\n",
       " (7.25, 1.0, 19.79, -12.54, 1),\n",
       " (38.07, 4.0, 19.79, 18.28, 3),\n",
       " (23.95, 2.55, 19.79, 4.16, 2),\n",
       " (25.71, 4.0, 19.79, 5.92, 3),\n",
       " (17.31, 3.5, 19.79, -2.48, 2),\n",
       " (29.93, 5.07, 19.79, 10.14, 4),\n",
       " (10.65, 1.5, 19.79, -9.14, 2),\n",
       " (12.43, 1.8, 19.79, -7.36, 2),\n",
       " (24.08, 2.92, 19.79, 4.29, 4),\n",
       " (11.69, 2.31, 19.79, -8.1, 2),\n",
       " (13.42, 1.68, 19.79, -6.37, 2),\n",
       " (14.26, 2.5, 19.79, -5.53, 2),\n",
       " (15.95, 2.0, 19.79, -3.84, 2),\n",
       " (12.48, 2.52, 19.79, -7.31, 2),\n",
       " (29.8, 4.2, 19.79, 10.01, 6),\n",
       " (8.52, 1.48, 19.79, -11.27, 2),\n",
       " (14.52, 2.0, 19.79, -5.27, 2),\n",
       " (11.38, 2.0, 19.79, -8.41, 2),\n",
       " (22.82, 2.18, 19.79, 3.03, 3),\n",
       " (19.08, 1.5, 19.79, -0.71, 2),\n",
       " (20.27, 2.83, 19.79, 0.48, 2),\n",
       " (11.17, 1.5, 19.79, -8.62, 2),\n",
       " (12.26, 2.0, 19.79, -7.53, 2),\n",
       " (18.26, 3.25, 19.79, -1.53, 2),\n",
       " (8.51, 1.25, 19.79, -11.28, 2),\n",
       " (10.33, 2.0, 19.79, -9.46, 2),\n",
       " (14.15, 2.0, 19.79, -5.64, 2),\n",
       " (16.0, 2.0, 19.79, -3.79, 2),\n",
       " (13.16, 2.75, 19.79, -6.63, 2),\n",
       " (17.47, 3.5, 19.79, -2.32, 2),\n",
       " (34.3, 6.7, 19.79, 14.51, 6),\n",
       " (41.19, 5.0, 19.79, 21.4, 5),\n",
       " (27.05, 5.0, 19.79, 7.26, 6),\n",
       " (16.43, 2.3, 19.79, -3.36, 2),\n",
       " (8.35, 1.5, 19.79, -11.44, 2),\n",
       " (18.64, 1.36, 19.79, -1.15, 3),\n",
       " (11.87, 1.63, 19.79, -7.92, 2),\n",
       " (9.78, 1.73, 19.79, -10.01, 2),\n",
       " (7.51, 2.0, 19.79, -12.28, 2),\n",
       " (14.07, 2.5, 19.79, -5.72, 2),\n",
       " (13.13, 2.0, 19.79, -6.66, 2),\n",
       " (17.26, 2.74, 19.79, -2.53, 3),\n",
       " (24.55, 2.0, 19.79, 4.76, 4),\n",
       " (19.77, 2.0, 19.79, -0.02, 4),\n",
       " (29.85, 5.14, 19.79, 10.06, 5),\n",
       " (48.17, 5.0, 19.79, 28.38, 6),\n",
       " (25.0, 3.75, 19.79, 5.21, 4),\n",
       " (13.39, 2.61, 19.79, -6.4, 2),\n",
       " (16.49, 2.0, 19.79, -3.3, 4),\n",
       " (21.5, 3.5, 19.79, 1.71, 4),\n",
       " (12.66, 2.5, 19.79, -7.13, 2),\n",
       " (16.21, 2.0, 19.79, -3.58, 3),\n",
       " (13.81, 2.0, 19.79, -5.98, 2),\n",
       " (17.51, 3.0, 19.79, -2.28, 2),\n",
       " (24.52, 3.48, 19.79, 4.73, 3),\n",
       " (20.76, 2.24, 19.79, 0.97, 2),\n",
       " (31.71, 4.5, 19.79, 11.92, 4),\n",
       " (10.59, 1.61, 19.79, -9.2, 2),\n",
       " (10.63, 2.0, 19.79, -9.16, 2),\n",
       " (50.81, 10.0, 19.79, 31.02, 3),\n",
       " (15.81, 3.16, 19.79, -3.98, 2),\n",
       " (7.25, 5.15, 19.79, -12.54, 2),\n",
       " (31.85, 3.18, 19.79, 12.06, 2),\n",
       " (16.82, 4.0, 19.79, -2.97, 2),\n",
       " (32.9, 3.11, 19.79, 13.11, 2),\n",
       " (17.89, 2.0, 19.79, -1.9, 2),\n",
       " (14.48, 2.0, 19.79, -5.31, 2),\n",
       " (9.6, 4.0, 19.79, -10.19, 2),\n",
       " (34.63, 3.55, 19.79, 14.84, 2),\n",
       " (34.65, 3.68, 19.79, 14.86, 4),\n",
       " (23.33, 5.65, 19.79, 3.54, 2),\n",
       " (45.35, 3.5, 19.79, 25.56, 3),\n",
       " (23.17, 6.5, 19.79, 3.38, 4),\n",
       " (40.55, 3.0, 19.79, 20.76, 2),\n",
       " (20.69, 5.0, 19.79, 0.9, 5),\n",
       " (20.9, 3.5, 19.79, 1.11, 3),\n",
       " (30.46, 2.0, 19.79, 10.67, 5),\n",
       " (18.15, 3.5, 19.79, -1.64, 3),\n",
       " (23.1, 4.0, 19.79, 3.31, 3),\n",
       " (15.69, 1.5, 19.79, -4.1, 2),\n",
       " (19.81, 4.19, 19.79, 0.02, 2),\n",
       " (28.44, 2.56, 19.79, 8.65, 2),\n",
       " (15.48, 2.02, 19.79, -4.31, 2),\n",
       " (16.58, 4.0, 19.79, -3.21, 2),\n",
       " (7.56, 1.44, 19.79, -12.23, 2),\n",
       " (10.34, 2.0, 19.79, -9.45, 2),\n",
       " (43.11, 5.0, 19.79, 23.32, 4),\n",
       " (13.0, 2.0, 19.79, -6.79, 2),\n",
       " (13.51, 2.0, 19.79, -6.28, 2),\n",
       " (18.71, 4.0, 19.79, -1.08, 3),\n",
       " (12.74, 2.01, 19.79, -7.05, 2),\n",
       " (13.0, 2.0, 19.79, -6.79, 2),\n",
       " (16.4, 2.5, 19.79, -3.39, 2),\n",
       " (20.53, 4.0, 19.79, 0.74, 4),\n",
       " (16.47, 3.23, 19.79, -3.32, 3),\n",
       " (26.59, 3.41, 19.79, 6.8, 3),\n",
       " (38.73, 3.0, 19.79, 18.94, 4),\n",
       " (24.27, 2.03, 19.79, 4.48, 2),\n",
       " (12.76, 2.23, 19.79, -7.03, 2),\n",
       " (30.06, 2.0, 19.79, 10.27, 3),\n",
       " (25.89, 5.16, 19.79, 6.1, 4),\n",
       " (48.33, 9.0, 19.79, 28.54, 4),\n",
       " (13.27, 2.5, 19.79, -6.52, 2),\n",
       " (28.17, 6.5, 19.79, 8.38, 3),\n",
       " (12.9, 1.1, 19.79, -6.89, 2),\n",
       " (28.15, 3.0, 19.79, 8.36, 5),\n",
       " (11.59, 1.5, 19.79, -8.2, 2),\n",
       " (7.74, 1.44, 19.79, -12.05, 2),\n",
       " (30.14, 3.09, 19.79, 10.35, 4),\n",
       " (12.16, 2.2, 19.79, -7.63, 2),\n",
       " (13.42, 3.48, 19.79, -6.37, 2),\n",
       " (8.58, 1.92, 19.79, -11.21, 1),\n",
       " (15.98, 3.0, 19.79, -3.81, 3),\n",
       " (13.42, 1.58, 19.79, -6.37, 2),\n",
       " (16.27, 2.5, 19.79, -3.52, 2),\n",
       " (10.09, 2.0, 19.79, -9.7, 2),\n",
       " (20.45, 3.0, 19.79, 0.66, 4),\n",
       " (13.28, 2.72, 19.79, -6.51, 2),\n",
       " (22.12, 2.88, 19.79, 2.33, 2),\n",
       " (24.01, 2.0, 19.79, 4.22, 4),\n",
       " (15.69, 3.0, 19.79, -4.1, 3),\n",
       " (11.61, 3.39, 19.79, -8.18, 2),\n",
       " (10.77, 1.47, 19.79, -9.02, 2),\n",
       " (15.53, 3.0, 19.79, -4.26, 2),\n",
       " (10.07, 1.25, 19.79, -9.72, 2),\n",
       " (12.6, 1.0, 19.79, -7.19, 2),\n",
       " (32.83, 1.17, 19.79, 13.04, 2),\n",
       " (35.83, 4.67, 19.79, 16.04, 3),\n",
       " (29.03, 5.92, 19.79, 9.24, 3),\n",
       " (27.18, 2.0, 19.79, 7.39, 2),\n",
       " (22.67, 2.0, 19.79, 2.88, 2),\n",
       " (17.82, 1.75, 19.79, -1.97, 2),\n",
       " (18.78, 3.0, 19.79, -1.01, 2)]"
      ]
     },
     "execution_count": 37,
     "metadata": {},
     "output_type": "execute_result"
    }
   ],
   "source": [
    "query('''\n",
    "      SELECT\n",
    "            total_bill,\n",
    "            tip,\n",
    "            average_total_bill,\n",
    "            ROUND(total_bill - average_total_bill, 2) AS difference,\n",
    "            size\n",
    "      FROM\n",
    "            tips,\n",
    "            (SELECT ROUND(AVG(total_bill), 2) as average_total_bill FROM tips) AS averages_table;\n",
    "      ''')"
   ]
  },
  {
   "cell_type": "markdown",
   "metadata": {},
   "source": [
    "Supplemental 2. Retrieve the total bill, smoker, and day for parties of size 2 or 3.\n"
   ]
  },
  {
   "cell_type": "code",
   "execution_count": 38,
   "metadata": {},
   "outputs": [
    {
     "data": {
      "text/plain": [
       "[(16.99, 'No', 'Sun', 2),\n",
       " (10.34, 'No', 'Sun', 3),\n",
       " (21.01, 'No', 'Sun', 3),\n",
       " (23.68, 'No', 'Sun', 2),\n",
       " (8.77, 'No', 'Sun', 2),\n",
       " (15.04, 'No', 'Sun', 2),\n",
       " (14.78, 'No', 'Sun', 2),\n",
       " (10.27, 'No', 'Sun', 2),\n",
       " (15.42, 'No', 'Sun', 2),\n",
       " (14.83, 'No', 'Sun', 2),\n",
       " (21.58, 'No', 'Sun', 2),\n",
       " (10.33, 'No', 'Sun', 3),\n",
       " (16.29, 'No', 'Sun', 3),\n",
       " (16.97, 'No', 'Sun', 3),\n",
       " (20.65, 'No', 'Sat', 3),\n",
       " (17.92, 'No', 'Sat', 2),\n",
       " (20.29, 'No', 'Sat', 2),\n",
       " (15.77, 'No', 'Sat', 2),\n",
       " (19.82, 'No', 'Sat', 2),\n",
       " (13.37, 'No', 'Sat', 2),\n",
       " (12.69, 'No', 'Sat', 2),\n",
       " (21.7, 'No', 'Sat', 2),\n",
       " (19.65, 'No', 'Sat', 2),\n",
       " (9.55, 'No', 'Sat', 2),\n",
       " (15.06, 'No', 'Sat', 2),\n",
       " (17.78, 'No', 'Sat', 2),\n",
       " (24.06, 'No', 'Sat', 3),\n",
       " (16.31, 'No', 'Sat', 3),\n",
       " (16.93, 'No', 'Sat', 3),\n",
       " (18.69, 'No', 'Sat', 3),\n",
       " (31.27, 'No', 'Sat', 3),\n",
       " (16.04, 'No', 'Sat', 3),\n",
       " (17.46, 'No', 'Sun', 2),\n",
       " (13.94, 'No', 'Sun', 2),\n",
       " (9.68, 'No', 'Sun', 2),\n",
       " (18.29, 'No', 'Sun', 2),\n",
       " (22.23, 'No', 'Sun', 2),\n",
       " (28.55, 'No', 'Sun', 3),\n",
       " (18.04, 'No', 'Sun', 2),\n",
       " (12.54, 'No', 'Sun', 2),\n",
       " (10.29, 'No', 'Sun', 2),\n",
       " (9.94, 'No', 'Sun', 2),\n",
       " (19.49, 'No', 'Sun', 2),\n",
       " (26.41, 'No', 'Sat', 2),\n",
       " (11.24, 'Yes', 'Sat', 2),\n",
       " (20.29, 'Yes', 'Sat', 2),\n",
       " (13.81, 'Yes', 'Sat', 2),\n",
       " (11.02, 'Yes', 'Sat', 2),\n",
       " (17.59, 'No', 'Sat', 3),\n",
       " (20.08, 'No', 'Sat', 3),\n",
       " (16.45, 'No', 'Sat', 2),\n",
       " (20.23, 'No', 'Sat', 2),\n",
       " (15.01, 'Yes', 'Sat', 2),\n",
       " (12.02, 'No', 'Sat', 2),\n",
       " (17.07, 'No', 'Sat', 3),\n",
       " (26.86, 'Yes', 'Sat', 2),\n",
       " (25.28, 'Yes', 'Sat', 2),\n",
       " (14.73, 'No', 'Sat', 2),\n",
       " (10.51, 'No', 'Sat', 2),\n",
       " (17.92, 'Yes', 'Sat', 2),\n",
       " (22.76, 'No', 'Thur', 2),\n",
       " (17.29, 'No', 'Thur', 2),\n",
       " (19.44, 'Yes', 'Thur', 2),\n",
       " (16.66, 'No', 'Thur', 2),\n",
       " (32.68, 'Yes', 'Thur', 2),\n",
       " (15.98, 'No', 'Thur', 2),\n",
       " (13.03, 'No', 'Thur', 2),\n",
       " (18.28, 'No', 'Thur', 2),\n",
       " (24.71, 'No', 'Thur', 2),\n",
       " (21.16, 'No', 'Thur', 2),\n",
       " (28.97, 'Yes', 'Fri', 2),\n",
       " (22.49, 'No', 'Fri', 2),\n",
       " (5.75, 'Yes', 'Fri', 2),\n",
       " (16.32, 'Yes', 'Fri', 2),\n",
       " (22.75, 'No', 'Fri', 2),\n",
       " (27.28, 'Yes', 'Fri', 2),\n",
       " (12.03, 'Yes', 'Fri', 2),\n",
       " (21.01, 'Yes', 'Fri', 2),\n",
       " (12.46, 'No', 'Fri', 2),\n",
       " (11.35, 'Yes', 'Fri', 2),\n",
       " (15.38, 'Yes', 'Fri', 2),\n",
       " (44.3, 'Yes', 'Sat', 3),\n",
       " (22.42, 'Yes', 'Sat', 2),\n",
       " (20.92, 'No', 'Sat', 2),\n",
       " (15.36, 'Yes', 'Sat', 2),\n",
       " (20.49, 'Yes', 'Sat', 2),\n",
       " (25.21, 'Yes', 'Sat', 2),\n",
       " (18.24, 'No', 'Sat', 2),\n",
       " (14.31, 'Yes', 'Sat', 2),\n",
       " (14.0, 'No', 'Sat', 2),\n",
       " (38.07, 'No', 'Sun', 3),\n",
       " (23.95, 'No', 'Sun', 2),\n",
       " (25.71, 'No', 'Sun', 3),\n",
       " (17.31, 'No', 'Sun', 2),\n",
       " (10.65, 'No', 'Thur', 2),\n",
       " (12.43, 'No', 'Thur', 2),\n",
       " (11.69, 'No', 'Thur', 2),\n",
       " (13.42, 'No', 'Thur', 2),\n",
       " (14.26, 'No', 'Thur', 2),\n",
       " (15.95, 'No', 'Thur', 2),\n",
       " (12.48, 'No', 'Thur', 2),\n",
       " (8.52, 'No', 'Thur', 2),\n",
       " (14.52, 'No', 'Thur', 2),\n",
       " (11.38, 'No', 'Thur', 2),\n",
       " (22.82, 'No', 'Thur', 3),\n",
       " (19.08, 'No', 'Thur', 2),\n",
       " (20.27, 'No', 'Thur', 2),\n",
       " (11.17, 'No', 'Thur', 2),\n",
       " (12.26, 'No', 'Thur', 2),\n",
       " (18.26, 'No', 'Thur', 2),\n",
       " (8.51, 'No', 'Thur', 2),\n",
       " (10.33, 'No', 'Thur', 2),\n",
       " (14.15, 'No', 'Thur', 2),\n",
       " (16.0, 'Yes', 'Thur', 2),\n",
       " (13.16, 'No', 'Thur', 2),\n",
       " (17.47, 'No', 'Thur', 2),\n",
       " (16.43, 'No', 'Thur', 2),\n",
       " (8.35, 'No', 'Thur', 2),\n",
       " (18.64, 'No', 'Thur', 3),\n",
       " (11.87, 'No', 'Thur', 2),\n",
       " (9.78, 'No', 'Thur', 2),\n",
       " (7.51, 'No', 'Thur', 2),\n",
       " (14.07, 'No', 'Sun', 2),\n",
       " (13.13, 'No', 'Sun', 2),\n",
       " (17.26, 'No', 'Sun', 3),\n",
       " (13.39, 'No', 'Sun', 2),\n",
       " (12.66, 'No', 'Sun', 2),\n",
       " (16.21, 'No', 'Sun', 3),\n",
       " (13.81, 'No', 'Sun', 2),\n",
       " (17.51, 'Yes', 'Sun', 2),\n",
       " (24.52, 'No', 'Sun', 3),\n",
       " (20.76, 'No', 'Sun', 2),\n",
       " (10.59, 'Yes', 'Sat', 2),\n",
       " (10.63, 'Yes', 'Sat', 2),\n",
       " (50.81, 'Yes', 'Sat', 3),\n",
       " (15.81, 'Yes', 'Sat', 2),\n",
       " (7.25, 'Yes', 'Sun', 2),\n",
       " (31.85, 'Yes', 'Sun', 2),\n",
       " (16.82, 'Yes', 'Sun', 2),\n",
       " (32.9, 'Yes', 'Sun', 2),\n",
       " (17.89, 'Yes', 'Sun', 2),\n",
       " (14.48, 'Yes', 'Sun', 2),\n",
       " (9.6, 'Yes', 'Sun', 2),\n",
       " (34.63, 'Yes', 'Sun', 2),\n",
       " (23.33, 'Yes', 'Sun', 2),\n",
       " (45.35, 'Yes', 'Sun', 3),\n",
       " (40.55, 'Yes', 'Sun', 2),\n",
       " (20.9, 'Yes', 'Sun', 3),\n",
       " (18.15, 'Yes', 'Sun', 3),\n",
       " (23.1, 'Yes', 'Sun', 3),\n",
       " (15.69, 'Yes', 'Sun', 2),\n",
       " (19.81, 'Yes', 'Thur', 2),\n",
       " (28.44, 'Yes', 'Thur', 2),\n",
       " (15.48, 'Yes', 'Thur', 2),\n",
       " (16.58, 'Yes', 'Thur', 2),\n",
       " (7.56, 'No', 'Thur', 2),\n",
       " (10.34, 'Yes', 'Thur', 2),\n",
       " (13.0, 'Yes', 'Thur', 2),\n",
       " (13.51, 'Yes', 'Thur', 2),\n",
       " (18.71, 'Yes', 'Thur', 3),\n",
       " (12.74, 'Yes', 'Thur', 2),\n",
       " (13.0, 'Yes', 'Thur', 2),\n",
       " (16.4, 'Yes', 'Thur', 2),\n",
       " (16.47, 'Yes', 'Thur', 3),\n",
       " (26.59, 'Yes', 'Sat', 3),\n",
       " (24.27, 'Yes', 'Sat', 2),\n",
       " (12.76, 'Yes', 'Sat', 2),\n",
       " (30.06, 'Yes', 'Sat', 3),\n",
       " (13.27, 'Yes', 'Sat', 2),\n",
       " (28.17, 'Yes', 'Sat', 3),\n",
       " (12.9, 'Yes', 'Sat', 2),\n",
       " (11.59, 'Yes', 'Sat', 2),\n",
       " (7.74, 'Yes', 'Sat', 2),\n",
       " (12.16, 'Yes', 'Fri', 2),\n",
       " (13.42, 'Yes', 'Fri', 2),\n",
       " (15.98, 'No', 'Fri', 3),\n",
       " (13.42, 'Yes', 'Fri', 2),\n",
       " (16.27, 'Yes', 'Fri', 2),\n",
       " (10.09, 'Yes', 'Fri', 2),\n",
       " (13.28, 'No', 'Sat', 2),\n",
       " (22.12, 'Yes', 'Sat', 2),\n",
       " (15.69, 'Yes', 'Sat', 3),\n",
       " (11.61, 'No', 'Sat', 2),\n",
       " (10.77, 'No', 'Sat', 2),\n",
       " (15.53, 'Yes', 'Sat', 2),\n",
       " (10.07, 'No', 'Sat', 2),\n",
       " (12.6, 'Yes', 'Sat', 2),\n",
       " (32.83, 'Yes', 'Sat', 2),\n",
       " (35.83, 'No', 'Sat', 3),\n",
       " (29.03, 'No', 'Sat', 3),\n",
       " (27.18, 'Yes', 'Sat', 2),\n",
       " (22.67, 'Yes', 'Sat', 2),\n",
       " (17.82, 'No', 'Sat', 2),\n",
       " (18.78, 'No', 'Thur', 2)]"
      ]
     },
     "execution_count": 38,
     "metadata": {},
     "output_type": "execute_result"
    }
   ],
   "source": [
    "query('''\n",
    "      SELECT\n",
    "            total_bill,\n",
    "            smoker,\n",
    "            day,\n",
    "            size\n",
    "      FROM\n",
    "            tips\n",
    "      WHERE\n",
    "            size IN(:size1, :size2);\n",
    "      ''', { 'size1': 2, 'size2': 3 })"
   ]
  },
  {
   "cell_type": "markdown",
   "metadata": {},
   "source": [
    "Supplemental 3. Segregate all smokers as sitting outside while non smokers sit inside.\n"
   ]
  },
  {
   "cell_type": "code",
   "execution_count": 39,
   "metadata": {},
   "outputs": [
    {
     "data": {
      "text/plain": [
       "[('No', 'Sun', 'Dinner', 'Inside'),\n",
       " ('No', 'Sun', 'Dinner', 'Inside'),\n",
       " ('No', 'Sun', 'Dinner', 'Inside'),\n",
       " ('No', 'Sun', 'Dinner', 'Inside'),\n",
       " ('No', 'Sun', 'Dinner', 'Inside'),\n",
       " ('No', 'Sun', 'Dinner', 'Inside'),\n",
       " ('No', 'Sun', 'Dinner', 'Inside'),\n",
       " ('No', 'Sun', 'Dinner', 'Inside'),\n",
       " ('No', 'Sun', 'Dinner', 'Inside'),\n",
       " ('No', 'Sun', 'Dinner', 'Inside'),\n",
       " ('No', 'Sun', 'Dinner', 'Inside'),\n",
       " ('No', 'Sun', 'Dinner', 'Inside'),\n",
       " ('No', 'Sun', 'Dinner', 'Inside'),\n",
       " ('No', 'Sun', 'Dinner', 'Inside'),\n",
       " ('No', 'Sun', 'Dinner', 'Inside'),\n",
       " ('No', 'Sun', 'Dinner', 'Inside'),\n",
       " ('No', 'Sun', 'Dinner', 'Inside'),\n",
       " ('No', 'Sun', 'Dinner', 'Inside'),\n",
       " ('No', 'Sun', 'Dinner', 'Inside'),\n",
       " ('No', 'Sat', 'Dinner', 'Inside'),\n",
       " ('No', 'Sat', 'Dinner', 'Inside'),\n",
       " ('No', 'Sat', 'Dinner', 'Inside'),\n",
       " ('No', 'Sat', 'Dinner', 'Inside'),\n",
       " ('No', 'Sat', 'Dinner', 'Inside'),\n",
       " ('No', 'Sat', 'Dinner', 'Inside'),\n",
       " ('No', 'Sat', 'Dinner', 'Inside'),\n",
       " ('No', 'Sat', 'Dinner', 'Inside'),\n",
       " ('No', 'Sat', 'Dinner', 'Inside'),\n",
       " ('No', 'Sat', 'Dinner', 'Inside'),\n",
       " ('No', 'Sat', 'Dinner', 'Inside'),\n",
       " ('No', 'Sat', 'Dinner', 'Inside'),\n",
       " ('No', 'Sat', 'Dinner', 'Inside'),\n",
       " ('No', 'Sat', 'Dinner', 'Inside'),\n",
       " ('No', 'Sat', 'Dinner', 'Inside'),\n",
       " ('No', 'Sat', 'Dinner', 'Inside'),\n",
       " ('No', 'Sat', 'Dinner', 'Inside'),\n",
       " ('No', 'Sat', 'Dinner', 'Inside'),\n",
       " ('No', 'Sat', 'Dinner', 'Inside'),\n",
       " ('No', 'Sat', 'Dinner', 'Inside'),\n",
       " ('No', 'Sat', 'Dinner', 'Inside'),\n",
       " ('No', 'Sat', 'Dinner', 'Inside'),\n",
       " ('No', 'Sun', 'Dinner', 'Inside'),\n",
       " ('No', 'Sun', 'Dinner', 'Inside'),\n",
       " ('No', 'Sun', 'Dinner', 'Inside'),\n",
       " ('No', 'Sun', 'Dinner', 'Inside'),\n",
       " ('No', 'Sun', 'Dinner', 'Inside'),\n",
       " ('No', 'Sun', 'Dinner', 'Inside'),\n",
       " ('No', 'Sun', 'Dinner', 'Inside'),\n",
       " ('No', 'Sun', 'Dinner', 'Inside'),\n",
       " ('No', 'Sun', 'Dinner', 'Inside'),\n",
       " ('No', 'Sun', 'Dinner', 'Inside'),\n",
       " ('No', 'Sun', 'Dinner', 'Inside'),\n",
       " ('No', 'Sun', 'Dinner', 'Inside'),\n",
       " ('No', 'Sun', 'Dinner', 'Inside'),\n",
       " ('No', 'Sun', 'Dinner', 'Inside'),\n",
       " ('No', 'Sun', 'Dinner', 'Inside'),\n",
       " ('Yes', 'Sat', 'Dinner', 'Outside'),\n",
       " ('No', 'Sat', 'Dinner', 'Inside'),\n",
       " ('Yes', 'Sat', 'Dinner', 'Outside'),\n",
       " ('No', 'Sat', 'Dinner', 'Inside'),\n",
       " ('Yes', 'Sat', 'Dinner', 'Outside'),\n",
       " ('Yes', 'Sat', 'Dinner', 'Outside'),\n",
       " ('Yes', 'Sat', 'Dinner', 'Outside'),\n",
       " ('Yes', 'Sat', 'Dinner', 'Outside'),\n",
       " ('No', 'Sat', 'Dinner', 'Inside'),\n",
       " ('No', 'Sat', 'Dinner', 'Inside'),\n",
       " ('No', 'Sat', 'Dinner', 'Inside'),\n",
       " ('Yes', 'Sat', 'Dinner', 'Outside'),\n",
       " ('No', 'Sat', 'Dinner', 'Inside'),\n",
       " ('Yes', 'Sat', 'Dinner', 'Outside'),\n",
       " ('No', 'Sat', 'Dinner', 'Inside'),\n",
       " ('No', 'Sat', 'Dinner', 'Inside'),\n",
       " ('Yes', 'Sat', 'Dinner', 'Outside'),\n",
       " ('Yes', 'Sat', 'Dinner', 'Outside'),\n",
       " ('No', 'Sat', 'Dinner', 'Inside'),\n",
       " ('No', 'Sat', 'Dinner', 'Inside'),\n",
       " ('Yes', 'Sat', 'Dinner', 'Outside'),\n",
       " ('No', 'Thur', 'Lunch', 'Inside'),\n",
       " ('No', 'Thur', 'Lunch', 'Inside'),\n",
       " ('No', 'Thur', 'Lunch', 'Inside'),\n",
       " ('Yes', 'Thur', 'Lunch', 'Outside'),\n",
       " ('No', 'Thur', 'Lunch', 'Inside'),\n",
       " ('No', 'Thur', 'Lunch', 'Inside'),\n",
       " ('Yes', 'Thur', 'Lunch', 'Outside'),\n",
       " ('No', 'Thur', 'Lunch', 'Inside'),\n",
       " ('No', 'Thur', 'Lunch', 'Inside'),\n",
       " ('No', 'Thur', 'Lunch', 'Inside'),\n",
       " ('No', 'Thur', 'Lunch', 'Inside'),\n",
       " ('No', 'Thur', 'Lunch', 'Inside'),\n",
       " ('No', 'Thur', 'Lunch', 'Inside'),\n",
       " ('Yes', 'Fri', 'Dinner', 'Outside'),\n",
       " ('No', 'Fri', 'Dinner', 'Inside'),\n",
       " ('Yes', 'Fri', 'Dinner', 'Outside'),\n",
       " ('Yes', 'Fri', 'Dinner', 'Outside'),\n",
       " ('No', 'Fri', 'Dinner', 'Inside'),\n",
       " ('Yes', 'Fri', 'Dinner', 'Outside'),\n",
       " ('Yes', 'Fri', 'Dinner', 'Outside'),\n",
       " ('Yes', 'Fri', 'Dinner', 'Outside'),\n",
       " ('Yes', 'Fri', 'Dinner', 'Outside'),\n",
       " ('No', 'Fri', 'Dinner', 'Inside'),\n",
       " ('Yes', 'Fri', 'Dinner', 'Outside'),\n",
       " ('Yes', 'Fri', 'Dinner', 'Outside'),\n",
       " ('Yes', 'Sat', 'Dinner', 'Outside'),\n",
       " ('Yes', 'Sat', 'Dinner', 'Outside'),\n",
       " ('No', 'Sat', 'Dinner', 'Inside'),\n",
       " ('Yes', 'Sat', 'Dinner', 'Outside'),\n",
       " ('Yes', 'Sat', 'Dinner', 'Outside'),\n",
       " ('Yes', 'Sat', 'Dinner', 'Outside'),\n",
       " ('No', 'Sat', 'Dinner', 'Inside'),\n",
       " ('Yes', 'Sat', 'Dinner', 'Outside'),\n",
       " ('No', 'Sat', 'Dinner', 'Inside'),\n",
       " ('No', 'Sat', 'Dinner', 'Inside'),\n",
       " ('No', 'Sun', 'Dinner', 'Inside'),\n",
       " ('No', 'Sun', 'Dinner', 'Inside'),\n",
       " ('No', 'Sun', 'Dinner', 'Inside'),\n",
       " ('No', 'Sun', 'Dinner', 'Inside'),\n",
       " ('No', 'Sun', 'Dinner', 'Inside'),\n",
       " ('No', 'Thur', 'Lunch', 'Inside'),\n",
       " ('No', 'Thur', 'Lunch', 'Inside'),\n",
       " ('No', 'Thur', 'Lunch', 'Inside'),\n",
       " ('No', 'Thur', 'Lunch', 'Inside'),\n",
       " ('No', 'Thur', 'Lunch', 'Inside'),\n",
       " ('No', 'Thur', 'Lunch', 'Inside'),\n",
       " ('No', 'Thur', 'Lunch', 'Inside'),\n",
       " ('No', 'Thur', 'Lunch', 'Inside'),\n",
       " ('No', 'Thur', 'Lunch', 'Inside'),\n",
       " ('No', 'Thur', 'Lunch', 'Inside'),\n",
       " ('No', 'Thur', 'Lunch', 'Inside'),\n",
       " ('No', 'Thur', 'Lunch', 'Inside'),\n",
       " ('No', 'Thur', 'Lunch', 'Inside'),\n",
       " ('No', 'Thur', 'Lunch', 'Inside'),\n",
       " ('No', 'Thur', 'Lunch', 'Inside'),\n",
       " ('No', 'Thur', 'Lunch', 'Inside'),\n",
       " ('No', 'Thur', 'Lunch', 'Inside'),\n",
       " ('No', 'Thur', 'Lunch', 'Inside'),\n",
       " ('No', 'Thur', 'Lunch', 'Inside'),\n",
       " ('No', 'Thur', 'Lunch', 'Inside'),\n",
       " ('No', 'Thur', 'Lunch', 'Inside'),\n",
       " ('Yes', 'Thur', 'Lunch', 'Outside'),\n",
       " ('No', 'Thur', 'Lunch', 'Inside'),\n",
       " ('No', 'Thur', 'Lunch', 'Inside'),\n",
       " ('No', 'Thur', 'Lunch', 'Inside'),\n",
       " ('No', 'Thur', 'Lunch', 'Inside'),\n",
       " ('No', 'Thur', 'Lunch', 'Inside'),\n",
       " ('No', 'Thur', 'Lunch', 'Inside'),\n",
       " ('No', 'Thur', 'Lunch', 'Inside'),\n",
       " ('No', 'Thur', 'Lunch', 'Inside'),\n",
       " ('No', 'Thur', 'Lunch', 'Inside'),\n",
       " ('No', 'Thur', 'Lunch', 'Inside'),\n",
       " ('No', 'Thur', 'Lunch', 'Inside'),\n",
       " ('No', 'Sun', 'Dinner', 'Inside'),\n",
       " ('No', 'Sun', 'Dinner', 'Inside'),\n",
       " ('No', 'Sun', 'Dinner', 'Inside'),\n",
       " ('No', 'Sun', 'Dinner', 'Inside'),\n",
       " ('No', 'Sun', 'Dinner', 'Inside'),\n",
       " ('No', 'Sun', 'Dinner', 'Inside'),\n",
       " ('No', 'Sun', 'Dinner', 'Inside'),\n",
       " ('No', 'Sun', 'Dinner', 'Inside'),\n",
       " ('No', 'Sun', 'Dinner', 'Inside'),\n",
       " ('No', 'Sun', 'Dinner', 'Inside'),\n",
       " ('No', 'Sun', 'Dinner', 'Inside'),\n",
       " ('No', 'Sun', 'Dinner', 'Inside'),\n",
       " ('No', 'Sun', 'Dinner', 'Inside'),\n",
       " ('No', 'Sun', 'Dinner', 'Inside'),\n",
       " ('Yes', 'Sun', 'Dinner', 'Outside'),\n",
       " ('No', 'Sun', 'Dinner', 'Inside'),\n",
       " ('No', 'Sun', 'Dinner', 'Inside'),\n",
       " ('No', 'Sun', 'Dinner', 'Inside'),\n",
       " ('Yes', 'Sat', 'Dinner', 'Outside'),\n",
       " ('Yes', 'Sat', 'Dinner', 'Outside'),\n",
       " ('Yes', 'Sat', 'Dinner', 'Outside'),\n",
       " ('Yes', 'Sat', 'Dinner', 'Outside'),\n",
       " ('Yes', 'Sun', 'Dinner', 'Outside'),\n",
       " ('Yes', 'Sun', 'Dinner', 'Outside'),\n",
       " ('Yes', 'Sun', 'Dinner', 'Outside'),\n",
       " ('Yes', 'Sun', 'Dinner', 'Outside'),\n",
       " ('Yes', 'Sun', 'Dinner', 'Outside'),\n",
       " ('Yes', 'Sun', 'Dinner', 'Outside'),\n",
       " ('Yes', 'Sun', 'Dinner', 'Outside'),\n",
       " ('Yes', 'Sun', 'Dinner', 'Outside'),\n",
       " ('Yes', 'Sun', 'Dinner', 'Outside'),\n",
       " ('Yes', 'Sun', 'Dinner', 'Outside'),\n",
       " ('Yes', 'Sun', 'Dinner', 'Outside'),\n",
       " ('Yes', 'Sun', 'Dinner', 'Outside'),\n",
       " ('Yes', 'Sun', 'Dinner', 'Outside'),\n",
       " ('No', 'Sun', 'Dinner', 'Inside'),\n",
       " ('Yes', 'Sun', 'Dinner', 'Outside'),\n",
       " ('Yes', 'Sun', 'Dinner', 'Outside'),\n",
       " ('Yes', 'Sun', 'Dinner', 'Outside'),\n",
       " ('Yes', 'Sun', 'Dinner', 'Outside'),\n",
       " ('Yes', 'Sun', 'Dinner', 'Outside'),\n",
       " ('Yes', 'Thur', 'Lunch', 'Outside'),\n",
       " ('Yes', 'Thur', 'Lunch', 'Outside'),\n",
       " ('Yes', 'Thur', 'Lunch', 'Outside'),\n",
       " ('Yes', 'Thur', 'Lunch', 'Outside'),\n",
       " ('No', 'Thur', 'Lunch', 'Inside'),\n",
       " ('Yes', 'Thur', 'Lunch', 'Outside'),\n",
       " ('Yes', 'Thur', 'Lunch', 'Outside'),\n",
       " ('Yes', 'Thur', 'Lunch', 'Outside'),\n",
       " ('Yes', 'Thur', 'Lunch', 'Outside'),\n",
       " ('Yes', 'Thur', 'Lunch', 'Outside'),\n",
       " ('Yes', 'Thur', 'Lunch', 'Outside'),\n",
       " ('Yes', 'Thur', 'Lunch', 'Outside'),\n",
       " ('Yes', 'Thur', 'Lunch', 'Outside'),\n",
       " ('Yes', 'Thur', 'Lunch', 'Outside'),\n",
       " ('Yes', 'Thur', 'Lunch', 'Outside'),\n",
       " ('Yes', 'Sat', 'Dinner', 'Outside'),\n",
       " ('Yes', 'Sat', 'Dinner', 'Outside'),\n",
       " ('Yes', 'Sat', 'Dinner', 'Outside'),\n",
       " ('Yes', 'Sat', 'Dinner', 'Outside'),\n",
       " ('Yes', 'Sat', 'Dinner', 'Outside'),\n",
       " ('Yes', 'Sat', 'Dinner', 'Outside'),\n",
       " ('No', 'Sat', 'Dinner', 'Inside'),\n",
       " ('Yes', 'Sat', 'Dinner', 'Outside'),\n",
       " ('Yes', 'Sat', 'Dinner', 'Outside'),\n",
       " ('Yes', 'Sat', 'Dinner', 'Outside'),\n",
       " ('Yes', 'Sat', 'Dinner', 'Outside'),\n",
       " ('Yes', 'Sat', 'Dinner', 'Outside'),\n",
       " ('Yes', 'Sat', 'Dinner', 'Outside'),\n",
       " ('Yes', 'Sat', 'Dinner', 'Outside'),\n",
       " ('Yes', 'Fri', 'Lunch', 'Outside'),\n",
       " ('Yes', 'Fri', 'Lunch', 'Outside'),\n",
       " ('Yes', 'Fri', 'Lunch', 'Outside'),\n",
       " ('No', 'Fri', 'Lunch', 'Inside'),\n",
       " ('Yes', 'Fri', 'Lunch', 'Outside'),\n",
       " ('Yes', 'Fri', 'Lunch', 'Outside'),\n",
       " ('Yes', 'Fri', 'Lunch', 'Outside'),\n",
       " ('No', 'Sat', 'Dinner', 'Inside'),\n",
       " ('No', 'Sat', 'Dinner', 'Inside'),\n",
       " ('Yes', 'Sat', 'Dinner', 'Outside'),\n",
       " ('Yes', 'Sat', 'Dinner', 'Outside'),\n",
       " ('Yes', 'Sat', 'Dinner', 'Outside'),\n",
       " ('No', 'Sat', 'Dinner', 'Inside'),\n",
       " ('No', 'Sat', 'Dinner', 'Inside'),\n",
       " ('Yes', 'Sat', 'Dinner', 'Outside'),\n",
       " ('No', 'Sat', 'Dinner', 'Inside'),\n",
       " ('Yes', 'Sat', 'Dinner', 'Outside'),\n",
       " ('Yes', 'Sat', 'Dinner', 'Outside'),\n",
       " ('No', 'Sat', 'Dinner', 'Inside'),\n",
       " ('No', 'Sat', 'Dinner', 'Inside'),\n",
       " ('Yes', 'Sat', 'Dinner', 'Outside'),\n",
       " ('Yes', 'Sat', 'Dinner', 'Outside'),\n",
       " ('No', 'Sat', 'Dinner', 'Inside'),\n",
       " ('No', 'Thur', 'Dinner', 'Inside')]"
      ]
     },
     "execution_count": 39,
     "metadata": {},
     "output_type": "execute_result"
    }
   ],
   "source": [
    "query('''\n",
    "      SELECT\n",
    "            smoker,\n",
    "            day,\n",
    "            time,\n",
    "            CASE smoker\n",
    "                WHEN 'No' THEN 'Inside'\n",
    "                ELSE 'Outside'\n",
    "            END setting\n",
    "      FROM\n",
    "            tips;\n",
    "      ''')"
   ]
  },
  {
   "cell_type": "markdown",
   "metadata": {},
   "source": [
    "Supplemental 4. Retrieve the following 20 entries for total bill, tip, sex, smoker, day, time, and size from the 15th entry in the table.\n"
   ]
  },
  {
   "cell_type": "code",
   "execution_count": 40,
   "metadata": {},
   "outputs": [
    {
     "data": {
      "text/plain": [
       "[(14.83, 3.02, 'Female', 'No', 'Sun', 'Dinner', 2),\n",
       " (21.58, 3.92, 'Male', 'No', 'Sun', 'Dinner', 2),\n",
       " (10.33, 1.67, 'Female', 'No', 'Sun', 'Dinner', 3),\n",
       " (16.29, 3.71, 'Male', 'No', 'Sun', 'Dinner', 3),\n",
       " (16.97, 3.5, 'Female', 'No', 'Sun', 'Dinner', 3),\n",
       " (20.65, 3.35, 'Male', 'No', 'Sat', 'Dinner', 3),\n",
       " (17.92, 4.08, 'Male', 'No', 'Sat', 'Dinner', 2),\n",
       " (20.29, 2.75, 'Female', 'No', 'Sat', 'Dinner', 2),\n",
       " (15.77, 2.23, 'Female', 'No', 'Sat', 'Dinner', 2),\n",
       " (39.42, 7.58, 'Male', 'No', 'Sat', 'Dinner', 4),\n",
       " (19.82, 3.18, 'Male', 'No', 'Sat', 'Dinner', 2),\n",
       " (17.81, 2.34, 'Male', 'No', 'Sat', 'Dinner', 4),\n",
       " (13.37, 2.0, 'Male', 'No', 'Sat', 'Dinner', 2),\n",
       " (12.69, 2.0, 'Male', 'No', 'Sat', 'Dinner', 2),\n",
       " (21.7, 4.3, 'Male', 'No', 'Sat', 'Dinner', 2),\n",
       " (19.65, 3.0, 'Female', 'No', 'Sat', 'Dinner', 2),\n",
       " (9.55, 1.45, 'Male', 'No', 'Sat', 'Dinner', 2),\n",
       " (18.35, 2.5, 'Male', 'No', 'Sat', 'Dinner', 4),\n",
       " (15.06, 3.0, 'Female', 'No', 'Sat', 'Dinner', 2),\n",
       " (20.69, 2.45, 'Female', 'No', 'Sat', 'Dinner', 4)]"
      ]
     },
     "execution_count": 40,
     "metadata": {},
     "output_type": "execute_result"
    }
   ],
   "source": [
    "query('''\n",
    "      SELECT\n",
    "            total_bill,\n",
    "            tip,\n",
    "            sex,\n",
    "            smoker,\n",
    "            day,\n",
    "            time,\n",
    "            size\n",
    "      FROM\n",
    "            tips\n",
    "      LIMIT \n",
    "            :page_size\n",
    "      OFFSET\n",
    "            :offset;\n",
    "      ''', { 'page_size': 20, 'offset': 14 })"
   ]
  },
  {
   "cell_type": "markdown",
   "metadata": {},
   "source": [
    "Supplemental 5. Retrieve the total bill, tips, and day for all smokers.\n"
   ]
  },
  {
   "cell_type": "code",
   "execution_count": 41,
   "metadata": {},
   "outputs": [
    {
     "data": {
      "text/plain": [
       "[(38.01, 3.0, 'Male', 'Yes', 'Sat', 'Dinner', 4),\n",
       " (11.24, 1.76, 'Male', 'Yes', 'Sat', 'Dinner', 2),\n",
       " (20.29, 3.21, 'Male', 'Yes', 'Sat', 'Dinner', 2),\n",
       " (13.81, 2.0, 'Male', 'Yes', 'Sat', 'Dinner', 2),\n",
       " (11.02, 1.98, 'Male', 'Yes', 'Sat', 'Dinner', 2),\n",
       " (18.29, 3.76, 'Male', 'Yes', 'Sat', 'Dinner', 4),\n",
       " (3.07, 1.0, 'Female', 'Yes', 'Sat', 'Dinner', 1),\n",
       " (15.01, 2.09, 'Male', 'Yes', 'Sat', 'Dinner', 2),\n",
       " (26.86, 3.14, 'Female', 'Yes', 'Sat', 'Dinner', 2),\n",
       " (25.28, 5.0, 'Female', 'Yes', 'Sat', 'Dinner', 2),\n",
       " (17.92, 3.08, 'Male', 'Yes', 'Sat', 'Dinner', 2),\n",
       " (19.44, 3.0, 'Male', 'Yes', 'Thur', 'Lunch', 2),\n",
       " (32.68, 5.0, 'Male', 'Yes', 'Thur', 'Lunch', 2),\n",
       " (28.97, 3.0, 'Male', 'Yes', 'Fri', 'Dinner', 2),\n",
       " (5.75, 1.0, 'Female', 'Yes', 'Fri', 'Dinner', 2),\n",
       " (16.32, 4.3, 'Female', 'Yes', 'Fri', 'Dinner', 2),\n",
       " (40.17, 4.73, 'Male', 'Yes', 'Fri', 'Dinner', 4),\n",
       " (27.28, 4.0, 'Male', 'Yes', 'Fri', 'Dinner', 2),\n",
       " (12.03, 1.5, 'Male', 'Yes', 'Fri', 'Dinner', 2),\n",
       " (21.01, 3.0, 'Male', 'Yes', 'Fri', 'Dinner', 2),\n",
       " (11.35, 2.5, 'Female', 'Yes', 'Fri', 'Dinner', 2),\n",
       " (15.38, 3.0, 'Female', 'Yes', 'Fri', 'Dinner', 2),\n",
       " (44.3, 2.5, 'Female', 'Yes', 'Sat', 'Dinner', 3),\n",
       " (22.42, 3.48, 'Female', 'Yes', 'Sat', 'Dinner', 2),\n",
       " (15.36, 1.64, 'Male', 'Yes', 'Sat', 'Dinner', 2),\n",
       " (20.49, 4.06, 'Male', 'Yes', 'Sat', 'Dinner', 2),\n",
       " (25.21, 4.29, 'Male', 'Yes', 'Sat', 'Dinner', 2),\n",
       " (14.31, 4.0, 'Female', 'Yes', 'Sat', 'Dinner', 2),\n",
       " (16.0, 2.0, 'Male', 'Yes', 'Thur', 'Lunch', 2),\n",
       " (17.51, 3.0, 'Female', 'Yes', 'Sun', 'Dinner', 2),\n",
       " (10.59, 1.61, 'Female', 'Yes', 'Sat', 'Dinner', 2),\n",
       " (10.63, 2.0, 'Female', 'Yes', 'Sat', 'Dinner', 2),\n",
       " (50.81, 10.0, 'Male', 'Yes', 'Sat', 'Dinner', 3),\n",
       " (15.81, 3.16, 'Male', 'Yes', 'Sat', 'Dinner', 2),\n",
       " (7.25, 5.15, 'Male', 'Yes', 'Sun', 'Dinner', 2),\n",
       " (31.85, 3.18, 'Male', 'Yes', 'Sun', 'Dinner', 2),\n",
       " (16.82, 4.0, 'Male', 'Yes', 'Sun', 'Dinner', 2),\n",
       " (32.9, 3.11, 'Male', 'Yes', 'Sun', 'Dinner', 2),\n",
       " (17.89, 2.0, 'Male', 'Yes', 'Sun', 'Dinner', 2),\n",
       " (14.48, 2.0, 'Male', 'Yes', 'Sun', 'Dinner', 2),\n",
       " (9.6, 4.0, 'Female', 'Yes', 'Sun', 'Dinner', 2),\n",
       " (34.63, 3.55, 'Male', 'Yes', 'Sun', 'Dinner', 2),\n",
       " (34.65, 3.68, 'Male', 'Yes', 'Sun', 'Dinner', 4),\n",
       " (23.33, 5.65, 'Male', 'Yes', 'Sun', 'Dinner', 2),\n",
       " (45.35, 3.5, 'Male', 'Yes', 'Sun', 'Dinner', 3),\n",
       " (23.17, 6.5, 'Male', 'Yes', 'Sun', 'Dinner', 4),\n",
       " (40.55, 3.0, 'Male', 'Yes', 'Sun', 'Dinner', 2),\n",
       " (20.9, 3.5, 'Female', 'Yes', 'Sun', 'Dinner', 3),\n",
       " (30.46, 2.0, 'Male', 'Yes', 'Sun', 'Dinner', 5),\n",
       " (18.15, 3.5, 'Female', 'Yes', 'Sun', 'Dinner', 3),\n",
       " (23.1, 4.0, 'Male', 'Yes', 'Sun', 'Dinner', 3),\n",
       " (15.69, 1.5, 'Male', 'Yes', 'Sun', 'Dinner', 2),\n",
       " (19.81, 4.19, 'Female', 'Yes', 'Thur', 'Lunch', 2),\n",
       " (28.44, 2.56, 'Male', 'Yes', 'Thur', 'Lunch', 2),\n",
       " (15.48, 2.02, 'Male', 'Yes', 'Thur', 'Lunch', 2),\n",
       " (16.58, 4.0, 'Male', 'Yes', 'Thur', 'Lunch', 2),\n",
       " (10.34, 2.0, 'Male', 'Yes', 'Thur', 'Lunch', 2),\n",
       " (43.11, 5.0, 'Female', 'Yes', 'Thur', 'Lunch', 4),\n",
       " (13.0, 2.0, 'Female', 'Yes', 'Thur', 'Lunch', 2),\n",
       " (13.51, 2.0, 'Male', 'Yes', 'Thur', 'Lunch', 2),\n",
       " (18.71, 4.0, 'Male', 'Yes', 'Thur', 'Lunch', 3),\n",
       " (12.74, 2.01, 'Female', 'Yes', 'Thur', 'Lunch', 2),\n",
       " (13.0, 2.0, 'Female', 'Yes', 'Thur', 'Lunch', 2),\n",
       " (16.4, 2.5, 'Female', 'Yes', 'Thur', 'Lunch', 2),\n",
       " (20.53, 4.0, 'Male', 'Yes', 'Thur', 'Lunch', 4),\n",
       " (16.47, 3.23, 'Female', 'Yes', 'Thur', 'Lunch', 3),\n",
       " (26.59, 3.41, 'Male', 'Yes', 'Sat', 'Dinner', 3),\n",
       " (38.73, 3.0, 'Male', 'Yes', 'Sat', 'Dinner', 4),\n",
       " (24.27, 2.03, 'Male', 'Yes', 'Sat', 'Dinner', 2),\n",
       " (12.76, 2.23, 'Female', 'Yes', 'Sat', 'Dinner', 2),\n",
       " (30.06, 2.0, 'Male', 'Yes', 'Sat', 'Dinner', 3),\n",
       " (25.89, 5.16, 'Male', 'Yes', 'Sat', 'Dinner', 4),\n",
       " (13.27, 2.5, 'Female', 'Yes', 'Sat', 'Dinner', 2),\n",
       " (28.17, 6.5, 'Female', 'Yes', 'Sat', 'Dinner', 3),\n",
       " (12.9, 1.1, 'Female', 'Yes', 'Sat', 'Dinner', 2),\n",
       " (28.15, 3.0, 'Male', 'Yes', 'Sat', 'Dinner', 5),\n",
       " (11.59, 1.5, 'Male', 'Yes', 'Sat', 'Dinner', 2),\n",
       " (7.74, 1.44, 'Male', 'Yes', 'Sat', 'Dinner', 2),\n",
       " (30.14, 3.09, 'Female', 'Yes', 'Sat', 'Dinner', 4),\n",
       " (12.16, 2.2, 'Male', 'Yes', 'Fri', 'Lunch', 2),\n",
       " (13.42, 3.48, 'Female', 'Yes', 'Fri', 'Lunch', 2),\n",
       " (8.58, 1.92, 'Male', 'Yes', 'Fri', 'Lunch', 1),\n",
       " (13.42, 1.58, 'Male', 'Yes', 'Fri', 'Lunch', 2),\n",
       " (16.27, 2.5, 'Female', 'Yes', 'Fri', 'Lunch', 2),\n",
       " (10.09, 2.0, 'Female', 'Yes', 'Fri', 'Lunch', 2),\n",
       " (22.12, 2.88, 'Female', 'Yes', 'Sat', 'Dinner', 2),\n",
       " (24.01, 2.0, 'Male', 'Yes', 'Sat', 'Dinner', 4),\n",
       " (15.69, 3.0, 'Male', 'Yes', 'Sat', 'Dinner', 3),\n",
       " (15.53, 3.0, 'Male', 'Yes', 'Sat', 'Dinner', 2),\n",
       " (12.6, 1.0, 'Male', 'Yes', 'Sat', 'Dinner', 2),\n",
       " (32.83, 1.17, 'Male', 'Yes', 'Sat', 'Dinner', 2),\n",
       " (27.18, 2.0, 'Female', 'Yes', 'Sat', 'Dinner', 2),\n",
       " (22.67, 2.0, 'Male', 'Yes', 'Sat', 'Dinner', 2)]"
      ]
     },
     "execution_count": 41,
     "metadata": {},
     "output_type": "execute_result"
    }
   ],
   "source": [
    "query('''\n",
    "      SELECT \n",
    "            total_bill,\n",
    "            tip,\n",
    "            sex,\n",
    "            smoker,\n",
    "            day,\n",
    "            time,\n",
    "            size\n",
    "      FROM\n",
    "            tips\n",
    "      WHERE\n",
    "            smoker LIKE '%yes%';\n",
    "      ''')"
   ]
  },
  {
   "cell_type": "markdown",
   "metadata": {},
   "source": [
    "**After you have performed the above queries:**\n",
    "\n",
    "### UPDATE\n",
    "It was determined that there was an error in the database. Please update the record that corresponds to id=10 and set smoker to Yes. \n"
   ]
  },
  {
   "cell_type": "code",
   "execution_count": 42,
   "metadata": {},
   "outputs": [
    {
     "name": "stdout",
     "output_type": "stream",
     "text": [
      "Before:\n",
      "[(14.78, 3.23, 'Male', 'No', 'Sun', 'Dinner', 2)]\n",
      "After:\n",
      "[(14.78, 3.23, 'Male', 'Yes', 'Sun', 'Dinner', 2)]\n"
     ]
    }
   ],
   "source": [
    "with sqlite3.connect('tips.db') as conn:\n",
    "    c = conn.cursor()\n",
    "    c.execute('''\n",
    "              SELECT\n",
    "                    *\n",
    "              FROM\n",
    "                    tips\n",
    "              WHERE\n",
    "                    rowid = :rowid;\n",
    "              ''', { 'rowid': 10 })\n",
    "    conn.commit()\n",
    "    print(f'Before:\\n{c.fetchall()}')\n",
    "    c.execute('''\n",
    "              UPDATE\n",
    "                    tips\n",
    "              SET\n",
    "                    smoker = 'Yes'\n",
    "              WHERE\n",
    "                    rowid = :rowid;\n",
    "              ''', { 'rowid': 10 })\n",
    "    conn.commit()\n",
    "    c.execute('''\n",
    "              SELECT\n",
    "                    *\n",
    "              FROM\n",
    "                    tips\n",
    "              WHERE\n",
    "                    rowid = :rowid;\n",
    "              ''', { 'rowid': 10 })\n",
    "    conn.commit()\n",
    "    print(f'After:\\n{c.fetchall()}')"
   ]
  },
  {
   "cell_type": "markdown",
   "metadata": {},
   "source": [
    "\n",
    "\n",
    "### DELETE\n",
    "Delete records from the database that have a total bill that is less than $10."
   ]
  },
  {
   "cell_type": "code",
   "execution_count": 43,
   "metadata": {},
   "outputs": [
    {
     "name": "stdout",
     "output_type": "stream",
     "text": [
      "Number of rows before: 17\n",
      "Number of rows before: 0\n"
     ]
    }
   ],
   "source": [
    "with sqlite3.connect('tips.db') as conn:\n",
    "    c = conn.cursor()\n",
    "    c.execute('''\n",
    "              SELECT\n",
    "                    COUNT(*)\n",
    "              FROM\n",
    "                    tips\n",
    "              WHERE\n",
    "                    total_bill < :total_bill_threshold;\n",
    "              ''', { 'total_bill_threshold': 10 })\n",
    "    conn.commit()\n",
    "    print(f'Number of rows before: {c.fetchall()[0][0]}')\n",
    "    c.execute('''\n",
    "              DELETE FROM\n",
    "                    tips\n",
    "              WHERE\n",
    "                    total_bill < :total_bill_threshold;\n",
    "              ''', { 'total_bill_threshold': 10 })\n",
    "    conn.commit()\n",
    "    c.execute('''\n",
    "              SELECT\n",
    "                    COUNT(*)\n",
    "              FROM\n",
    "                    tips\n",
    "              WHERE\n",
    "                    total_bill < :total_bill_threshold;\n",
    "              ''', { 'total_bill_threshold': 10 })\n",
    "    conn.commit()\n",
    "    print(f'Number of rows before: {c.fetchall()[0][0]}')"
   ]
  },
  {
   "cell_type": "markdown",
   "metadata": {},
   "source": []
  }
 ],
 "metadata": {
  "kernelspec": {
   "display_name": ".venv",
   "language": "python",
   "name": "python3"
  },
  "language_info": {
   "codemirror_mode": {
    "name": "ipython",
    "version": 3
   },
   "file_extension": ".py",
   "mimetype": "text/x-python",
   "name": "python",
   "nbconvert_exporter": "python",
   "pygments_lexer": "ipython3",
   "version": "3.10.5"
  }
 },
 "nbformat": 4,
 "nbformat_minor": 2
}
