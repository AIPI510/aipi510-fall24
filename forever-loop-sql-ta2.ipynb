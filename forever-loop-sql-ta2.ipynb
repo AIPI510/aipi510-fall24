{
 "cells": [
  {
   "cell_type": "markdown",
   "metadata": {},
   "source": [
    "# AIPI510 Fall 2024 Assignment # 2"
   ]
  },
  {
   "cell_type": "markdown",
   "metadata": {},
   "source": [
    "## Team Details\n",
    "\n",
    "**Team name:** Forever Loop\n",
    "\n",
    "**Team members:** Santosh Ganesan, Haran Nallasivan"
   ]
  },
  {
   "cell_type": "markdown",
   "metadata": {},
   "source": [
    "### CREATE\n",
    "You have been provided with a sample .csv file. Create a SQLite database in Python using the data in this sample .csv file."
   ]
  },
  {
   "cell_type": "markdown",
   "metadata": {},
   "source": [
    "#### Imports"
   ]
  },
  {
   "cell_type": "code",
   "execution_count": 2,
   "metadata": {},
   "outputs": [],
   "source": [
    "import pandas as pd\n",
    "import sqlite3"
   ]
  },
  {
   "cell_type": "markdown",
   "metadata": {},
   "source": [
    "#### Exploratory analysis of the data"
   ]
  },
  {
   "cell_type": "code",
   "execution_count": 3,
   "metadata": {},
   "outputs": [
    {
     "name": "stdout",
     "output_type": "stream",
     "text": [
      "   total_bill   tip     sex smoker  day    time  size\n",
      "0       16.99  1.01  Female     No  Sun  Dinner     2\n",
      "1       10.34  1.66    Male     No  Sun  Dinner     3\n",
      "2       21.01  3.50    Male     No  Sun  Dinner     3\n",
      "3       23.68  3.31    Male     No  Sun  Dinner     2\n",
      "4       24.59  3.61  Female     No  Sun  Dinner     4\n"
     ]
    }
   ],
   "source": [
    "\n",
    "df = pd.read_csv('data/tips.csv')\n",
    "print(df.head())"
   ]
  },
  {
   "cell_type": "markdown",
   "metadata": {},
   "source": [
    "#### Create the SQLite database"
   ]
  },
  {
   "cell_type": "code",
   "execution_count": 4,
   "metadata": {},
   "outputs": [],
   "source": [
    "\n",
    "with sqlite3.connect('tips.db') as conn:\n",
    "    c = conn.cursor()\n",
    "    c.execute('''CREATE TABLE tips (total_bill,tip,sex,smoker,day,time,size)''')\n",
    "    conn.commit()"
   ]
  },
  {
   "cell_type": "markdown",
   "metadata": {},
   "source": [
    "#### Verify connectivity to the database"
   ]
  },
  {
   "cell_type": "code",
   "execution_count": 5,
   "metadata": {},
   "outputs": [
    {
     "name": "stdout",
     "output_type": "stream",
     "text": [
      "[]\n"
     ]
    }
   ],
   "source": [
    "with sqlite3.connect('tips.db') as conn:\n",
    "    c = conn.cursor()\n",
    "    c.execute('''SELECT * from tips;''')\n",
    "    conn.commit()\n",
    "    print(c.fetchall())"
   ]
  },
  {
   "cell_type": "markdown",
   "metadata": {},
   "source": [
    "#### Load data into the database"
   ]
  },
  {
   "cell_type": "code",
   "execution_count": 6,
   "metadata": {},
   "outputs": [],
   "source": [
    "with sqlite3.connect('tips.db') as conn:\n",
    "    df = pd.read_csv('data/tips.csv')\n",
    "    df.to_sql('tips', conn, if_exists='replace', index=False)\n",
    "    conn.commit()"
   ]
  },
  {
   "cell_type": "markdown",
   "metadata": {},
   "source": [
    "\n",
    "### READ\n",
    "Answer the following questions (must show your work via SQL queries):\n",
    "1. Retrieve the average tip percentage for each day of the week \n"
   ]
  },
  {
   "cell_type": "markdown",
   "metadata": {},
   "source": [
    "2. Find the maximum and minimum total bull amounts\n"
   ]
  },
  {
   "cell_type": "markdown",
   "metadata": {},
   "source": [
    "3. Count the number of parties for each size\n"
   ]
  },
  {
   "cell_type": "markdown",
   "metadata": {},
   "source": [
    "4. Retrieve the total bill and tip for parties of size 4 or more, where the tip percentage is greater than 15%\n"
   ]
  },
  {
   "cell_type": "markdown",
   "metadata": {},
   "source": [
    "\n",
    "5. Retrieve the total bill, tip amount, and tip percentage for each combination of day and time, sorted by tip percentage in descending order"
   ]
  },
  {
   "cell_type": "markdown",
   "metadata": {},
   "source": [
    "6. Find the average tip percentage for each combination of day, time, and smoker status\n"
   ]
  },
  {
   "cell_type": "code",
   "execution_count": 37,
   "metadata": {},
   "outputs": [
    {
     "name": "stdout",
     "output_type": "stream",
     "text": [
      "    Unique Average   Day Smoker    Time\n",
      "0             14.0   Fri     No  Dinner\n",
      "1             19.0   Fri     No   Lunch\n",
      "2             17.0   Fri    Yes  Dinner\n",
      "3             19.0   Fri    Yes   Lunch\n",
      "4             16.0   Sat     No  Dinner\n",
      "5             15.0   Sat    Yes  Dinner\n",
      "6             16.0   Sun     No  Dinner\n",
      "7             19.0   Sun    Yes  Dinner\n",
      "8             16.0  Thur     No  Dinner\n",
      "9             16.0  Thur     No   Lunch\n",
      "10            16.0  Thur    Yes   Lunch\n"
     ]
    }
   ],
   "source": [
    "with sqlite3.connect('tips.db') as conn:\n",
    "    c = conn.cursor()\n",
    "    c.execute('''SELECT ROUND(AVG(tip/total_bill)*100), day, smoker, time from tips Group by day, smoker, time;''')\n",
    "    conn.commit()\n",
    "    df=pd.DataFrame(c.fetchall(), columns=['Unique Average', 'Day', 'Smoker', 'Time'])\n",
    "    print(df)    "
   ]
  },
  {
   "cell_type": "markdown",
   "metadata": {},
   "source": [
    "7. Retrieve the total bill, tip amount, and tip percentage for each sex, sorted by total bill in descending order, and limit the results to the top 5 records\n"
   ]
  },
  {
   "cell_type": "code",
   "execution_count": 36,
   "metadata": {},
   "outputs": [
    {
     "name": "stdout",
     "output_type": "stream",
     "text": [
      "   Total_Bill  Tip Amount  Tip Percentage   Sex\n",
      "0       50.81       10.00            20.0  Male\n",
      "1       48.33        9.00            19.0  Male\n",
      "2       48.27        6.73            14.0  Male\n",
      "3       48.17        5.00            10.0  Male\n",
      "4       45.35        3.50             8.0  Male\n"
     ]
    }
   ],
   "source": [
    "with sqlite3.connect('tips.db') as conn:\n",
    "    c = conn.cursor()\n",
    "    c.execute('''SELECT total_bill, tip, ROUND(AVG(tip/total_bill)*100), sex from tips Group by total_bill ORDER BY total_bill DESC;''')\n",
    "    conn.commit()\n",
    "    df=pd.DataFrame(c.fetchall(), columns=['Total_Bill', 'Tip Amount', 'Tip Percentage', 'Sex'])\n",
    "    print(df.head(5))  "
   ]
  },
  {
   "cell_type": "markdown",
   "metadata": {},
   "source": [
    "8. Find the maximum and minimum tip percentage for each day and time combination, along with the corresponding total bill and tip amount"
   ]
  },
  {
   "cell_type": "code",
   "execution_count": 39,
   "metadata": {},
   "outputs": [
    {
     "name": "stdout",
     "output_type": "stream",
     "text": [
      "   Unique Max Percentage  Unique Min Percentage   Day    Time  Total_Bill  \\\n",
      "0                   26.0                   10.0   Fri  Dinner       28.97   \n",
      "1                   26.0                   12.0   Fri   Lunch       13.42   \n",
      "2                   33.0                    4.0   Sat  Dinner       32.83   \n",
      "3                   71.0                    6.0   Sun  Dinner       16.99   \n",
      "4                   16.0                   16.0  Thur  Dinner       18.78   \n",
      "5                   27.0                    7.0  Thur   Lunch       18.64   \n",
      "\n",
      "    Tip  \n",
      "0  3.00  \n",
      "1  1.58  \n",
      "2  1.17  \n",
      "3  1.01  \n",
      "4  3.00  \n",
      "5  1.36  \n"
     ]
    }
   ],
   "source": [
    "with sqlite3.connect('tips.db') as conn:\n",
    "    c = conn.cursor()\n",
    "    c.execute('''SELECT ROUND(MAX(tip/total_bill)*100), ROUND(MIN(tip/total_bill)*100), day, time, total_bill, tip from tips Group by day, time;''')\n",
    "    conn.commit()\n",
    "    df=pd.DataFrame(c.fetchall(), columns=['Unique Max Percentage', 'Unique Min Percentage','Day','Time','Total_Bill', 'Tip'])\n",
    "    print(df)   "
   ]
  },
  {
   "cell_type": "markdown",
   "metadata": {},
   "source": [
    "9. Retrieve the total bill, tip amount, and tip percentage for parties of size 4 or more, where the tip percentage is greater than 15%, and the total bill is between $50 and $100\n"
   ]
  },
  {
   "cell_type": "code",
   "execution_count": 42,
   "metadata": {},
   "outputs": [
    {
     "name": "stdout",
     "output_type": "stream",
     "text": [
      "Empty DataFrame\n",
      "Columns: [Total_bill, Tip, Percentage, Size]\n",
      "Index: []\n"
     ]
    }
   ],
   "source": [
    "with sqlite3.connect('tips.db') as conn:\n",
    "    c = conn.cursor()\n",
    "    c.execute('''SELECT total_bill, tip, ROUND((tip/total_bill)*100) As percentage, size from tips where size>=4 and percentage>15 and total_bill between 50 and 100;''')\n",
    "    conn.commit()\n",
    "    df=pd.DataFrame(c.fetchall(), columns=['Total_bill', 'Tip','Percentage','Size'])\n",
    "    print(df)   "
   ]
  },
  {
   "cell_type": "markdown",
   "metadata": {},
   "source": [
    "10. Find the average tip percentage for each combination of day, time, and smoker status, but only include combinations with more than 5 records\n"
   ]
  },
  {
   "cell_type": "code",
   "execution_count": 33,
   "metadata": {},
   "outputs": [
    {
     "name": "stdout",
     "output_type": "stream",
     "text": [
      "   Average Total_bill   Day    Time Smoker\n",
      "0           16.534736   Fri  Dinner    Yes\n",
      "1           18.893659   Fri   Lunch    Yes\n",
      "2           15.804766   Sat  Dinner     No\n",
      "3           14.790607   Sat  Dinner    Yes\n",
      "4           16.011294   Sun  Dinner     No\n",
      "5           18.725032   Sun  Dinner    Yes\n",
      "6           16.031067  Thur   Lunch     No\n",
      "7           16.386327  Thur   Lunch    Yes\n"
     ]
    }
   ],
   "source": [
    "with sqlite3.connect('tips.db') as conn:\n",
    "    c = conn.cursor()\n",
    "    c.execute('''SELECT ROUND(AVG(tip/total_bill)*100), day, time, smoker from tips GROUP by day, time, smoker Having COUNT(*)>5;''')\n",
    "    conn.commit()\n",
    "    df=pd.DataFrame(c.fetchall(), columns=['Average Total_bill', 'Day','Time','Smoker'])\n",
    "    print(df)  "
   ]
  },
  {
   "cell_type": "markdown",
   "metadata": {},
   "source": [
    "Come up with your own SQL queries for the table. You must show 5 additional queries beyond the 10 outlined above. \n",
    "\n",
    "**After you have performed the above queries:**\n"
   ]
  },
  {
   "cell_type": "markdown",
   "metadata": {},
   "source": [
    "\n",
    "### UPDATE\n",
    "It was determined that there was an error in the database. Please update the record that corresponds to id=10 and set smoker to Yes. \n"
   ]
  },
  {
   "cell_type": "markdown",
   "metadata": {},
   "source": [
    "\n",
    "\n",
    "### DELETE\n",
    "Delete records from the database that have a total bill that is less than $10."
   ]
  },
  {
   "cell_type": "markdown",
   "metadata": {},
   "source": []
  }
 ],
 "metadata": {
  "kernelspec": {
   "display_name": ".venv",
   "language": "python",
   "name": "python3"
  },
  "language_info": {
   "codemirror_mode": {
    "name": "ipython",
    "version": 3
   },
   "file_extension": ".py",
   "mimetype": "text/x-python",
   "name": "python",
   "nbconvert_exporter": "python",
   "pygments_lexer": "ipython3",
   "version": "3.11.8"
  }
 },
 "nbformat": 4,
 "nbformat_minor": 2
}
