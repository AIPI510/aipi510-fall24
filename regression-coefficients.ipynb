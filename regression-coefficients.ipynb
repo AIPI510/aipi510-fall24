{
 "cells": [
  {
   "cell_type": "code",
   "execution_count": 7,
   "metadata": {},
   "outputs": [],
   "source": [
    "# Import libraries\n",
    "import numpy as np\n",
    "import pandas as pd\n",
    "import matplotlib.pyplot as plt"
   ]
  },
  {
   "cell_type": "code",
   "execution_count": 5,
   "metadata": {},
   "outputs": [],
   "source": [
    "# Read data in as a pandas df\n",
    "df = pd.read_csv(\"data_01_brains.txt\", delimiter='\\t')"
   ]
  },
  {
   "cell_type": "code",
   "execution_count": 8,
   "metadata": {},
   "outputs": [
    {
     "data": {
      "image/png": "[encoded data removed]",
      "text/plain": [
       "<Figure size 640x480 with 1 Axes>"
      ]
     },
     "metadata": {},
     "output_type": "display_data"
    }
   ],
   "source": [
    "# Transform data to log-scale\n",
    "df = df.assign(log_Body_Weight = lambda x: np.log(df['Body.Weight']),\n",
    "          log_Brain_Weight = lambda x: np.log(df['Brain.Weight']))\n",
    "\n",
    "# Visualize transformed data\n",
    "x = df['log_Body_Weight'].to_numpy()\n",
    "y = df['log_Brain_Weight'].to_numpy()\n",
    "\n",
    "plt.scatter(x, y, s=3)\n",
    "plt.xlabel(\"log(Body Weight) (kg)\")\n",
    "plt.ylabel(\"log(Brain Weight) (g)\")\n",
    "plt.title(\"Logarithmic Graph of Brain Weight vs. Body Weight\")\n",
    "plt.show()"
   ]
  },
  {
   "cell_type": "code",
   "execution_count": 16,
   "metadata": {},
   "outputs": [
    {
     "name": "stdout",
     "output_type": "stream",
     "text": [
      "Coefficient:  0.7516859362419007\n",
      "Intercept:  2.134788676764636\n"
     ]
    }
   ],
   "source": [
    "# Calculate Regression Coefficients (math approach)\n",
    "mean_x = np.mean(x)\n",
    "mean_y = np.mean(y)\n",
    "numerator = np.sum((x - mean_x) * (y - mean_y))\n",
    "denominator = np.sum((x - mean_x) ** 2)\n",
    "m = numerator/denominator\n",
    "b = mean_y - m * mean_x\n",
    "print(\"Coefficient: \", m)\n",
    "print(\"Intercept: \", b)\n"
   ]
  },
  {
   "cell_type": "code",
   "execution_count": 14,
   "metadata": {},
   "outputs": [
    {
     "name": "stdout",
     "output_type": "stream",
     "text": [
      "Coefficient: [[0.75168594]]\n",
      "Intercept: [2.13478868]\n"
     ]
    }
   ],
   "source": [
    "from sklearn.linear_model import LinearRegression\n",
    "\n",
    "# Calculate Regression Coefficients (using built-in libraries)\n",
    "model = LinearRegression()\n",
    "model.fit(x.reshape(-1, 1), y.reshape(-1, 1))\n",
    "print(f'Coefficient: {model.coef_}')\n",
    "print(f'Intercept: {model.intercept_}')\n"
   ]
  },
  {
   "cell_type": "markdown",
   "metadata": {},
   "source": [
    "For every unit increase in X, the predicted value of y increased by 75%. "
   ]
  },
  {
   "cell_type": "code",
   "execution_count": 17,
   "metadata": {},
   "outputs": [
    {
     "name": "stdout",
     "output_type": "stream",
     "text": [
      "                            OLS Regression Results                            \n",
      "==============================================================================\n",
      "Dep. Variable:                      y   R-squared:                       0.921\n",
      "Model:                            OLS   Adj. R-squared:                  0.919\n",
      "Method:                 Least Squares   F-statistic:                     697.4\n",
      "Date:                Sun, 06 Oct 2024   Prob (F-statistic):           9.84e-35\n",
      "Time:                        00:25:03   Log-Likelihood:                -64.336\n",
      "No. Observations:                  62   AIC:                             132.7\n",
      "Df Residuals:                      60   BIC:                             136.9\n",
      "Df Model:                           1                                         \n",
      "Covariance Type:            nonrobust                                         \n",
      "==============================================================================\n",
      "                 coef    std err          t      P>|t|      [0.025      0.975]\n",
      "------------------------------------------------------------------------------\n",
      "const          2.1348      0.096     22.227      0.000       1.943       2.327\n",
      "x1             0.7517      0.028     26.409      0.000       0.695       0.809\n",
      "==============================================================================\n",
      "Omnibus:                        2.698   Durbin-Watson:                   1.980\n",
      "Prob(Omnibus):                  0.260   Jarque-Bera (JB):                1.933\n",
      "Skew:                           0.405   Prob(JB):                        0.380\n",
      "Kurtosis:                       3.301   Cond. No.                         3.73\n",
      "==============================================================================\n",
      "\n",
      "Notes:\n",
      "[1] Standard Errors assume that the covariance matrix of the errors is correctly specified.\n"
     ]
    }
   ],
   "source": [
    "import statsmodels.api as sm\n",
    "\n",
    "X_const = sm.add_constant(x)\n",
    "model_sm = sm.OLS(y, X_const).fit()\n",
    "\n",
    "# Display the summary\n",
    "print(model_sm.summary())"
   ]
  },
  {
   "cell_type": "markdown",
   "metadata": {},
   "source": [
    "# LASSO"
   ]
  },
  {
   "cell_type": "markdown",
   "metadata": {},
   "source": [
    "Run 'pip install rdkit-pypi' before this section"
   ]
  },
  {
   "cell_type": "code",
   "execution_count": 18,
   "metadata": {},
   "outputs": [
    {
     "name": "stdout",
     "output_type": "stream",
     "text": [
      "                                              SMILES      Y\n",
      "0  CC(C)(C)c1cc(N)c(SCCN)c(NC(=O)c2cccc(C(=O)Nc3c...  1.146\n",
      "1  COc1cc(OC)c(C(=O)Nc2cc(C(C)(C)C)cc(N)c2SCCN)cc...  2.161\n",
      "2  CC(C)(C)c1cc(N)c(SCCN)c(NC(=O)c2cc(OCCN)cc(C(=...  2.037\n",
      "3  CC(C)(C)c1cc(N)c(SCCNC(N)=[NH2+])c(NC(=O)c2cc(...  1.987\n",
      "4  NCCSc1c(NC(=O)CCCCNC(N)=[NH2+])cc(C(F)(F)F)cc1...  1.786\n"
     ]
    }
   ],
   "source": [
    "import numpy as np\n",
    "import pandas as pd\n",
    "from rdkit import Chem\n",
    "from rdkit.Chem import AllChem\n",
    "\n",
    "#more datasets here: https://github.com/RekerLab/DeepDelta/tree/main/Datasets/Benchmarks\n",
    "url = \"https://raw.githubusercontent.com/RekerLab/DeepDelta/main/Datasets/Benchmarks/HemoTox.csv\"\n",
    "c = pd.read_csv(url)\n",
    "\n",
    "# look at the top of this dataset\n",
    "print(c.head())\n",
    "\n",
    "# convert SMILES to molecules\n",
    "mols = [Chem.MolFromSmiles(s) for s in c['SMILES']]\n",
    "\n",
    "# create binary fingerprints for robust ML models\n",
    "fps = np.array([np.array(AllChem.GetMorganFingerprintAsBitVect(m,2)) for m in mols])\n",
    "\n",
    "# create descriptors for ML models with higher interpretability\n",
    "from rdkit.Chem import Descriptors\n",
    "descr = Descriptors._descList\n",
    "calc = [x[1] for x in descr]\n",
    "d_name = [x[0] for x in descr]\n",
    "\n",
    "desc = np.array([np.array([f(m) for f in calc]) for m in mols])\n",
    "\n",
    "# Convert the numpy array to a pandas DataFrame with descriptor names as columns\n",
    "X = pd.DataFrame(desc, columns=d_name)\n",
    "# extract y values from original dataframe into separate vector\n",
    "y = c['Y']"
   ]
  },
  {
   "cell_type": "code",
   "execution_count": 19,
   "metadata": {},
   "outputs": [
    {
     "name": "stdout",
     "output_type": "stream",
     "text": [
      "Original shape of feature data: (828, 208)\n",
      "Total missing values: 0\n",
      "Shape of feature data after removing missing observations: (828, 208)\n",
      "Total 0-variance features: 28\n",
      "Shape of feature data after removing 0-variance features: (828, 180)\n"
     ]
    }
   ],
   "source": [
    "from sklearn.feature_selection import VarianceThreshold\n",
    "print(\"Original shape of feature data:\", X.shape)\n",
    "missing = X.isna().sum().sum()\n",
    "print(\"Total missing values:\", missing)\n",
    "X_new = X.dropna()\n",
    "print(\"Shape of feature data after removing missing observations:\", X_new.shape)\n",
    "selector = VarianceThreshold()\n",
    "X_new = selector.fit_transform(X_new)\n",
    "print(\"Total 0-variance features:\", X.shape[1] - X_new.shape[1])\n",
    "print(\"Shape of feature data after removing 0-variance features:\", X_new.shape)\n",
    "X_new = pd.DataFrame(X_new, columns=X.columns[selector.get_support()])"
   ]
  },
  {
   "cell_type": "code",
   "execution_count": 23,
   "metadata": {},
   "outputs": [
    {
     "data": {
      "text/html": [
       "<div>\n",
       "<style scoped>\n",
       "    .dataframe tbody tr th:only-of-type {\n",
       "        vertical-align: middle;\n",
       "    }\n",
       "\n",
       "    .dataframe tbody tr th {\n",
       "        vertical-align: top;\n",
       "    }\n",
       "\n",
       "    .dataframe thead th {\n",
       "        text-align: right;\n",
       "    }\n",
       "</style>\n",
       "<table border=\"1\" class=\"dataframe\">\n",
       "  <thead>\n",
       "    <tr style=\"text-align: right;\">\n",
       "      <th></th>\n",
       "      <th>Feature</th>\n",
       "      <th>Coefficient</th>\n",
       "      <th>Absolute Value</th>\n",
       "    </tr>\n",
       "  </thead>\n",
       "  <tbody>\n",
       "    <tr>\n",
       "      <th>18</th>\n",
       "      <td>BCUT2D_CHGHI</td>\n",
       "      <td>-0.144847</td>\n",
       "      <td>0.144847</td>\n",
       "    </tr>\n",
       "    <tr>\n",
       "      <th>115</th>\n",
       "      <td>NumSaturatedHeterocycles</td>\n",
       "      <td>-0.133519</td>\n",
       "      <td>0.133519</td>\n",
       "    </tr>\n",
       "    <tr>\n",
       "      <th>160</th>\n",
       "      <td>fr_lactone</td>\n",
       "      <td>-0.131667</td>\n",
       "      <td>0.131667</td>\n",
       "    </tr>\n",
       "    <tr>\n",
       "      <th>13</th>\n",
       "      <td>FpDensityMorgan1</td>\n",
       "      <td>0.112480</td>\n",
       "      <td>0.112480</td>\n",
       "    </tr>\n",
       "    <tr>\n",
       "      <th>24</th>\n",
       "      <td>BalabanJ</td>\n",
       "      <td>0.064812</td>\n",
       "      <td>0.064812</td>\n",
       "    </tr>\n",
       "    <tr>\n",
       "      <th>63</th>\n",
       "      <td>SMR_VSA5</td>\n",
       "      <td>-0.019528</td>\n",
       "      <td>0.019528</td>\n",
       "    </tr>\n",
       "    <tr>\n",
       "      <th>99</th>\n",
       "      <td>VSA_EState9</td>\n",
       "      <td>0.013137</td>\n",
       "      <td>0.013137</td>\n",
       "    </tr>\n",
       "    <tr>\n",
       "      <th>98</th>\n",
       "      <td>VSA_EState8</td>\n",
       "      <td>-0.009438</td>\n",
       "      <td>0.009438</td>\n",
       "    </tr>\n",
       "    <tr>\n",
       "      <th>130</th>\n",
       "      <td>fr_C_O</td>\n",
       "      <td>-0.000000</td>\n",
       "      <td>0.000000</td>\n",
       "    </tr>\n",
       "    <tr>\n",
       "      <th>121</th>\n",
       "      <td>fr_Al_OH</td>\n",
       "      <td>-0.000000</td>\n",
       "      <td>0.000000</td>\n",
       "    </tr>\n",
       "  </tbody>\n",
       "</table>\n",
       "</div>"
      ],
      "text/plain": [
       "                      Feature  Coefficient  Absolute Value\n",
       "18               BCUT2D_CHGHI    -0.144847        0.144847\n",
       "115  NumSaturatedHeterocycles    -0.133519        0.133519\n",
       "160                fr_lactone    -0.131667        0.131667\n",
       "13           FpDensityMorgan1     0.112480        0.112480\n",
       "24                   BalabanJ     0.064812        0.064812\n",
       "63                   SMR_VSA5    -0.019528        0.019528\n",
       "99                VSA_EState9     0.013137        0.013137\n",
       "98                VSA_EState8    -0.009438        0.009438\n",
       "130                    fr_C_O    -0.000000        0.000000\n",
       "121                  fr_Al_OH    -0.000000        0.000000"
      ]
     },
     "execution_count": 23,
     "metadata": {},
     "output_type": "execute_result"
    }
   ],
   "source": [
    "from sklearn.linear_model import Lasso\n",
    "from sklearn.metrics import r2_score, mean_squared_error\n",
    "from sklearn.model_selection import train_test_split, cross_val_score\n",
    "from sklearn.preprocessing import StandardScaler\n",
    "\n",
    "scaler = StandardScaler()\n",
    "X_scaled = scaler.fit_transform(X_new)\n",
    "\n",
    "# Split the data into training and testing sets\n",
    "X_train, X_test, y_train, y_test = train_test_split(X_scaled, y, test_size=0.2, random_state=12)\n",
    "\n",
    "##❓YOUR CODE HERE\n",
    "\n",
    "# Initialize the Lasso model\n",
    "clf = Lasso(alpha=0.1, random_state=42)\n",
    "# fit the model\n",
    "clf.fit(X_train, y_train)\n",
    "# Get the coefficients and their corresponding feature names\n",
    "coeff = clf.coef_\n",
    "coeff_df = pd.DataFrame({'Feature': X_new.columns, 'Coefficient': coeff})\n",
    "coeff_df['Absolute Value'] = coeff_df['Coefficient'].abs()\n",
    "# sort and display the top coefficients with their feature names\n",
    "sorted_coeff = coeff_df.sort_values(by='Absolute Value', ascending=False)\n",
    "# Print the top 10 features with the largest coefficients\n",
    "sorted_coeff.head(10)"
   ]
  },
  {
   "cell_type": "code",
   "execution_count": 24,
   "metadata": {},
   "outputs": [
    {
     "name": "stdout",
     "output_type": "stream",
     "text": [
      "R^2 value of the LASSO model on test data: 0.4543\n"
     ]
    }
   ],
   "source": [
    "##❓YOUR CODE HERE\n",
    "# Predict on the test set using the fitted model\n",
    "y_pred = clf.predict(X_test)\n",
    "\n",
    "# Calculate the R^2 value and print\n",
    "r2 = r2_score(y_test, y_pred)\n",
    "print(f\"R^2 value of the LASSO model on test data: {r2:.4f}\")"
   ]
  }
 ],
 "metadata": {
  "kernelspec": {
   "display_name": "myenv",
   "language": "python",
   "name": "python3"
  },
  "language_info": {
   "codemirror_mode": {
    "name": "ipython",
    "version": 3
   },
   "file_extension": ".py",
   "mimetype": "text/x-python",
   "name": "python",
   "nbconvert_exporter": "python",
   "pygments_lexer": "ipython3",
   "version": "3.11.4"
  }
 },
 "nbformat": 4,
 "nbformat_minor": 2
}
