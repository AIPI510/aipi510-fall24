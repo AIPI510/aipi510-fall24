{
 "cells": [
  {
   "cell_type": "markdown",
   "metadata": {},
   "source": [
    "# W4 Assignment: Data Exploration\n",
    "\n",
    "- In your Jupyter notebook report, complete the following:\n",
    "\n",
    "    1. Document data context and data sampling in markdown\n",
    "    2. Explore and interpret data structure, descriptive statistics, data quality, and variable relationships\n",
    "    3. Explore data visually with appropriate visualizations\n",
    "    4. Discuss and implement strategies for Handling Missing Values, Removing Duplicates, and Handling Outliers\n",
    "    5. Perform data transformation as appropriate\n",
    "    6. Create at least one new feature and document your approach\n",
    "    7. Perform a dimensionality reduction method on the data and discuss\n",
    "    8. Include a discussion around data quality assessment, including data profiling, data completeness, data accuracy, data consistency, data integrity, and data lineage and provenance"
   ]
  },
  {
   "cell_type": "markdown",
   "metadata": {},
   "source": [
    "### Our team's foucs: Detecting Early Signs of COVID-19 Infection Using HRV Data\n",
    "- Investigate whether changes in an individual's HRV patterns can predict the onset of COVID-19 symptoms. The goal is to determine if there are specific shifts in HRV metrics (such as a drop in variability or a rise in resting heart rate) that occur in the early stages of infection, even before noticeable symptoms appear.\n",
    "- Source: https://github.com/Welltory/hrv-covid19/tree/master/data"
   ]
  },
  {
   "cell_type": "markdown",
   "metadata": {},
   "source": [
    "### Exploring Data - hrv_measurement.csv, participants.csv"
   ]
  },
  {
   "cell_type": "code",
   "execution_count": 32,
   "metadata": {},
   "outputs": [],
   "source": [
    "import numpy as np\n",
    "import pandas as pd\n",
    "import matplotlib.pyplot as plt\n",
    "import seaborn as sns"
   ]
  },
  {
   "cell_type": "code",
   "execution_count": 33,
   "metadata": {},
   "outputs": [
    {
     "name": "stdout",
     "output_type": "stream",
     "text": [
      "    user_code     rr_code measurement_datetime time_of_day  bpm  meanrr  \\\n",
      "0  007b8190cf  10489a6aea  2020-04-21 21:23:08     morning   75  795.90   \n",
      "1  007b8190cf  9610d4d4dc  2020-04-26 11:19:25     morning   70  858.00   \n",
      "2  013f6d3e5b  f3de056155  2020-05-15 04:14:21       night   83  724.10   \n",
      "3  013f6d3e5b  b04489e32f  2020-05-19 03:06:02       night   75  802.64   \n",
      "4  01bad5a519  ac52c706c6  2019-12-31 09:07:43     morning   78  768.07   \n",
      "\n",
      "   mxdmn    sdnn   rmssd  pnn50  ...     lf      hf     vlf   lfhf  \\\n",
      "0   0.12  45.802  54.174  15.15  ...  508.0  1076.0   267.0  0.472   \n",
      "1   0.11  32.889  33.022  16.16  ...  409.0   310.0   176.0  1.319   \n",
      "2   0.17  54.811  65.987  17.17  ...  432.0   881.0   194.0  0.490   \n",
      "3   0.20  72.223  70.039  22.22  ...  814.0  1487.0  1719.0  0.547   \n",
      "4   0.10  29.650  21.196   4.04  ...  489.0   128.0    96.0  3.820   \n",
      "\n",
      "   total_power  how_feel  how_mood  how_sleep  \\\n",
      "0       1851.0         0        -1        NaN   \n",
      "1        895.0         0         0        0.0   \n",
      "2       1507.0        -1        -2        NaN   \n",
      "3       4020.0         0         0        NaN   \n",
      "4        713.0         0         0        0.0   \n",
      "\n",
      "                                                tags  \\\n",
      "0  COVID-19; Workout; Sex; Hobby; Studying; Sleep...   \n",
      "1                                                NaN   \n",
      "2  COVID-19; Fast/Diet; Hungry; Tired; Fever; I c...   \n",
      "3                                                NaN   \n",
      "4                                                NaN   \n",
      "\n",
      "                                             rr_data  \n",
      "0  819,1008,831,847,785,778,866,839,801,793,846,8...  \n",
      "1  888,775,811,883,890,894,894,899,893,889,890,83...  \n",
      "2  694,832,642,801,751,716,737,742,773,760,701,73...  \n",
      "3  821,817,771,805,833,788,747,724,792,825,775,75...  \n",
      "4  741,740,734,737,740,731,751,747,745,728,747,76...  \n",
      "\n",
      "[5 rows x 22 columns]\n",
      "               bpm       meanrr        mxdmn         sdnn        rmssd  \\\n",
      "count  3245.000000  3245.000000  3245.000000  3245.000000  3245.000000   \n",
      "mean     73.257935   839.600366     0.184635    52.489218    52.814196   \n",
      "std      12.201088   137.420367     0.107456    29.369506    39.353213   \n",
      "min      44.000000   477.730000     0.030000     9.515000     6.340000   \n",
      "25%      65.000000   742.490000     0.110000    32.585000    28.985000   \n",
      "50%      72.000000   829.100000     0.160000    46.919000    42.869000   \n",
      "75%      81.000000   925.933000     0.220000    64.406000    62.485000   \n",
      "max     125.000000  1346.740000     0.790000   206.631000   310.800000   \n",
      "\n",
      "             pnn50         mode          amo            lf            hf  \\\n",
      "count  3245.000000  3245.000000  3245.000000   3245.000000   3245.000000   \n",
      "mean     20.615609     0.837465    46.788290    927.038213   1125.041294   \n",
      "std      18.588156     0.144769    16.418873   1455.424089   2490.540413   \n",
      "min       0.000000     0.475000    12.000000      2.000000      4.000000   \n",
      "25%       6.060000     0.725000    35.000000    151.000000    158.000000   \n",
      "50%      16.160000     0.825000    45.000000    423.000000    380.000000   \n",
      "75%      29.290000     0.925000    57.000000   1059.000000    993.000000   \n",
      "max      91.920000     1.325000    98.000000  15522.000000  33490.000000   \n",
      "\n",
      "                vlf         lfhf   total_power     how_feel     how_mood  \\\n",
      "count   3245.000000  3245.000000   3245.000000  3245.000000  3245.000000   \n",
      "mean     578.229892     2.397769   2630.309399    -0.235439    -0.076733   \n",
      "std      876.679652     5.750760   3912.247496     0.706262     0.655032   \n",
      "min        1.000000     0.032000     44.000000    -2.000000    -2.000000   \n",
      "25%      116.000000     0.399000    620.000000    -1.000000     0.000000   \n",
      "50%      293.000000     0.862000   1387.000000     0.000000     0.000000   \n",
      "75%      693.000000     1.966000   2906.000000     0.000000     0.000000   \n",
      "max    18468.000000   105.625000  41118.000000     2.000000     2.000000   \n",
      "\n",
      "         how_sleep  \n",
      "count  1466.000000  \n",
      "mean     -0.065484  \n",
      "std       0.708656  \n",
      "min      -2.000000  \n",
      "25%       0.000000  \n",
      "50%       0.000000  \n",
      "75%       0.000000  \n",
      "max       2.000000  \n",
      "<class 'pandas.core.frame.DataFrame'>\n",
      "RangeIndex: 3245 entries, 0 to 3244\n",
      "Data columns (total 22 columns):\n",
      " #   Column                Non-Null Count  Dtype  \n",
      "---  ------                --------------  -----  \n",
      " 0   user_code             3245 non-null   object \n",
      " 1   rr_code               3245 non-null   object \n",
      " 2   measurement_datetime  3245 non-null   object \n",
      " 3   time_of_day           3245 non-null   object \n",
      " 4   bpm                   3245 non-null   int64  \n",
      " 5   meanrr                3245 non-null   float64\n",
      " 6   mxdmn                 3245 non-null   float64\n",
      " 7   sdnn                  3245 non-null   float64\n",
      " 8   rmssd                 3245 non-null   float64\n",
      " 9   pnn50                 3245 non-null   float64\n",
      " 10  mode                  3245 non-null   float64\n",
      " 11  amo                   3245 non-null   float64\n",
      " 12  lf                    3245 non-null   float64\n",
      " 13  hf                    3245 non-null   float64\n",
      " 14  vlf                   3245 non-null   float64\n",
      " 15  lfhf                  3245 non-null   float64\n",
      " 16  total_power           3245 non-null   float64\n",
      " 17  how_feel              3245 non-null   int64  \n",
      " 18  how_mood              3245 non-null   int64  \n",
      " 19  how_sleep             1466 non-null   float64\n",
      " 20  tags                  2201 non-null   object \n",
      " 21  rr_data               3245 non-null   object \n",
      "dtypes: float64(13), int64(3), object(6)\n",
      "memory usage: 557.9+ KB\n",
      "None\n",
      "    user_code gender age_range           city  country  height  weight  \\\n",
      "0  007b8190cf      m     25-34       Mandalay  Myanmar  170.18  96.162   \n",
      "1  013f6d3e5b      f     18-24      São Paulo   Brazil  174.00  77.300   \n",
      "2  01bad5a519      m     45-54  St Petersburg   Russia  178.00  92.000   \n",
      "3  0210b20eea      f     25-34          Sochi   Russia  169.00  60.000   \n",
      "4  024719e7da      f     45-54  St Petersburg   Russia  158.00  68.500   \n",
      "\n",
      "  symptoms_onset  \n",
      "0            NaN  \n",
      "1      5/15/2020  \n",
      "2       4/5/2020  \n",
      "3       5/6/2020  \n",
      "4      5/27/2020  \n",
      "           height      weight\n",
      "count  183.000000  185.000000\n",
      "mean   169.976393   77.927757\n",
      "std     12.400103   19.552541\n",
      "min    132.080000   43.500000\n",
      "25%    163.500000   63.500000\n",
      "50%    168.000000   74.344000\n",
      "75%    174.500000   90.537000\n",
      "max    250.000000  154.221000\n",
      "<class 'pandas.core.frame.DataFrame'>\n",
      "RangeIndex: 185 entries, 0 to 184\n",
      "Data columns (total 8 columns):\n",
      " #   Column          Non-Null Count  Dtype  \n",
      "---  ------          --------------  -----  \n",
      " 0   user_code       185 non-null    object \n",
      " 1   gender          185 non-null    object \n",
      " 2   age_range       185 non-null    object \n",
      " 3   city            173 non-null    object \n",
      " 4   country         179 non-null    object \n",
      " 5   height          183 non-null    float64\n",
      " 6   weight          185 non-null    float64\n",
      " 7   symptoms_onset  147 non-null    object \n",
      "dtypes: float64(2), object(6)\n",
      "memory usage: 11.7+ KB\n",
      "None\n"
     ]
    }
   ],
   "source": [
    "hrv_df = pd.read_csv('https://raw.githubusercontent.com/Welltory/hrv-covid19/master/data/hrv_measurements.csv')\n",
    "participants_df = pd.read_csv('https://raw.githubusercontent.com/Welltory/hrv-covid19/master/data/participants.csv')\n",
    "\n",
    "print(hrv_df.head())\n",
    "print(hrv_df.describe())\n",
    "print(hrv_df.info())\n",
    "\n",
    "print(participants_df.head())\n",
    "print(participants_df.describe())\n",
    "print(participants_df.info())\n"
   ]
  },
  {
   "cell_type": "markdown",
   "metadata": {},
   "source": [
    "## Observation\n",
    "#### 1. Missing Value\n",
    "hrv_measurement.csv: Both columns's Non-Null Counts should be 3245, but they have data missing.\n",
    "- Column 19:  how_sleep  /  1466  /     non-null    /    float64\n",
    "- Column 20:  tags       / 2201   /     non-null    /    object \n",
    "\n",
    "participant.csv: The column count should be 185; however, a portion of the data is absent. We utilize specific data regarding the onset of symptoms in order to exclusively concentrate on said data.\n",
    "- Column 7:   symptoms_onset   /   147   /    non-null   /   object "
   ]
  },
  {
   "cell_type": "markdown",
   "metadata": {},
   "source": [
    "#### 2. Duplicate"
   ]
  },
  {
   "cell_type": "code",
   "execution_count": 34,
   "metadata": {},
   "outputs": [
    {
     "name": "stdout",
     "output_type": "stream",
     "text": [
      "Checking duplicate in drv_measurement.csv:  0\n",
      "Checking duplicate in participants.csv:  0\n"
     ]
    }
   ],
   "source": [
    "dup_check_hrv = hrv_df[hrv_df.duplicated()].shape[0]\n",
    "dup_check_participants = participants_df[participants_df.duplicated()].shape[0]\n",
    "\n",
    "print(\"Checking duplicate in drv_measurement.csv: \", dup_check_hrv)\n",
    "print(\"Checking duplicate in participants.csv: \", dup_check_participants)"
   ]
  },
  {
   "cell_type": "markdown",
   "metadata": {},
   "source": []
  },
  {
   "cell_type": "markdown",
   "metadata": {},
   "source": [
    "#### 3. Wrong symptoms_onset setting\n",
    "- Some of the dates for symptoms_onset are incorrect. (e.g. July 7, 1987) It appears that they left their BOD here.\n",
    "- Our solution: Remove that participant's data"
   ]
  },
  {
   "cell_type": "code",
   "execution_count": 35,
   "metadata": {},
   "outputs": [
    {
     "name": "stdout",
     "output_type": "stream",
     "text": [
      "(136, 4)\n"
     ]
    }
   ],
   "source": [
    "participants_df.drop(columns=['city', 'country', 'height', 'weight'], inplace=True)\n",
    "participants_df.dropna(inplace=True)\n",
    "participants_df['symptoms_onset'] = pd.to_datetime(participants_df['symptoms_onset'])\n",
    "participants_df = participants_df[participants_df['symptoms_onset'] >= '2020-01-01']\n",
    "\n",
    "print(participants_df.shape)"
   ]
  },
  {
   "cell_type": "markdown",
   "metadata": {},
   "source": []
  },
  {
   "cell_type": "markdown",
   "metadata": {},
   "source": [
    "#### 4. Variable Relationship\n"
   ]
  },
  {
   "cell_type": "code",
   "execution_count": 39,
   "metadata": {},
   "outputs": [
    {
     "data": {
      "image/png": "[encoded data removed]",
      "text/plain": [
       "<Figure size 864x576 with 2 Axes>"
      ]
     },
     "metadata": {
      "needs_background": "light"
     },
     "output_type": "display_data"
    }
   ],
   "source": [
    "plt.figure(figsize=(12,8))\n",
    "correlation_matrix = hrv_df[['bpm', 'meanrr', 'mxdmn', 'sdnn', 'rmssd']].corr()\n",
    "sns.heatmap(correlation_matrix, annot=True, cmap='coolwarm', linewidths=0.6)\n",
    "plt.title('Correlation Heatmap')\n",
    "plt.show()"
   ]
  },
  {
   "cell_type": "code",
   "execution_count": 41,
   "metadata": {},
   "outputs": [
    {
     "data": {
      "image/png": "[encoded data removed]",
      "text/plain": [
       "<Figure size 864x576 with 1 Axes>"
      ]
     },
     "metadata": {
      "needs_background": "light"
     },
     "output_type": "display_data"
    }
   ],
   "source": [
    "plt.figure(figsize=(12, 8))\n",
    "plt.hist(data=participants_df, x='symptoms_onset', bins=30)\n",
    "plt.title('Participants data visualizations')\n",
    "plt.show()"
   ]
  },
  {
   "cell_type": "markdown",
   "metadata": {},
   "source": [
    "### Handling Outliers"
   ]
  },
  {
   "cell_type": "code",
   "execution_count": 42,
   "metadata": {},
   "outputs": [
    {
     "name": "stdout",
     "output_type": "stream",
     "text": [
      "3220\n"
     ]
    }
   ],
   "source": [
    "Q1 = hrv_df['bpm'].quantile(0.25)\n",
    "Q3 = hrv_df['bpm'].quantile(0.75)\n",
    "\n",
    "IQR = Q3-Q1\n",
    "\n",
    "lower_bound = Q1 - 1.5*IQR\n",
    "upper_bound = Q3 + 1.5*IQR\n",
    "\n",
    "hrv_df = hrv_df[(hrv_df['bpm'] >= lower_bound) & (hrv_df['bpm'] <= upper_bound)]\n",
    "print(hrv_df.shape[0])"
   ]
  },
  {
   "cell_type": "code",
   "execution_count": 44,
   "metadata": {},
   "outputs": [
    {
     "data": {
      "image/png": "[encoded data removed]",
      "text/plain": [
       "<Figure size 864x576 with 1 Axes>"
      ]
     },
     "metadata": {
      "needs_background": "light"
     },
     "output_type": "display_data"
    }
   ],
   "source": [
    "plt.figure(figsize=(12, 8))\n",
    "plt.hist(data=hrv_df, x='bpm', bins=30)\n",
    "plt.title('hrv_measurement bpm data visualizations - Before Transformation')\n",
    "plt.show()"
   ]
  },
  {
   "cell_type": "markdown",
   "metadata": {},
   "source": [
    "##### Description of histogram: It has long-tail to the right(right skewed)"
   ]
  },
  {
   "cell_type": "markdown",
   "metadata": {},
   "source": [
    "### Data Transformation"
   ]
  },
  {
   "cell_type": "code",
   "execution_count": 45,
   "metadata": {},
   "outputs": [
    {
     "name": "stderr",
     "output_type": "stream",
     "text": [
      "<ipython-input-45-4e2e823e9c2b>:1: SettingWithCopyWarning: \n",
      "A value is trying to be set on a copy of a slice from a DataFrame.\n",
      "Try using .loc[row_indexer,col_indexer] = value instead\n",
      "\n",
      "See the caveats in the documentation: https://pandas.pydata.org/pandas-docs/stable/user_guide/indexing.html#returning-a-view-versus-a-copy\n",
      "  hrv_df['bpm'] = np.log1p(hrv_df['bpm'])\n"
     ]
    },
    {
     "data": {
      "image/png": "[encoded data removed]",
      "text/plain": [
       "<Figure size 864x576 with 1 Axes>"
      ]
     },
     "metadata": {
      "needs_background": "light"
     },
     "output_type": "display_data"
    }
   ],
   "source": [
    "hrv_df['bpm'] = np.log1p(hrv_df['bpm'])\n",
    "\n",
    "plt.figure(figsize=(12, 8))\n",
    "plt.hist(data=hrv_df, x='bpm', bins=30)\n",
    "plt.title('hrv_measurement bpm data visualizations - After transformation')\n",
    "plt.show()\n"
   ]
  }
 ],
 "metadata": {
  "kernelspec": {
   "display_name": "base",
   "language": "python",
   "name": "python3"
  },
  "language_info": {
   "codemirror_mode": {
    "name": "ipython",
    "version": 3
   },
   "file_extension": ".py",
   "mimetype": "text/x-python",
   "name": "python",
   "nbconvert_exporter": "python",
   "pygments_lexer": "ipython3",
   "version": "3.8.5"
  }
 },
 "nbformat": 4,
 "nbformat_minor": 2
}
