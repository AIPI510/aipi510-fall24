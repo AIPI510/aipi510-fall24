{
 "cells": [
  {
   "cell_type": "markdown",
   "metadata": {},
   "source": [
    "### CREATE SQLite database from CSV"
   ]
  },
  {
   "cell_type": "code",
   "execution_count": null,
   "metadata": {},
   "outputs": [],
   "source": [
    "import sqlite3\n",
    "import pandas as pd\n",
    "\n",
    "# Read the data from the CSV file\n",
    "tips_df = pd.read_csv(\"data/tips.csv\")\n",
    "tips_df.head()\n",
    "\n",
    "# Create the database\n",
    "conn = sqlite3.connect(\"tips.db\")\n",
    "\n",
    "# Write the CSV data to a database table named \"tips\"; create a column named \"id\" to act as the primary key\n",
    "row_count = tips_df.to_sql(\"tips\", conn, if_exists=\"replace\", index_label=\"id\")\n",
    "print(f\"Successfully created a table named 'tips' with {row_count} rows\")\n",
    "\n",
    "# Leaving the connection open and using pandas to query the database for the sake of query result readability"
   ]
  },
  {
   "cell_type": "markdown",
   "metadata": {},
   "source": [
    "### READ #1: Average tip percentage per day of the week"
   ]
  },
  {
   "cell_type": "code",
   "execution_count": null,
   "metadata": {},
   "outputs": [],
   "source": [
    "pd.read_sql_query('''\n",
    "                  SELECT \n",
    "                    day, \n",
    "                    ROUND((SUM(tip)/SUM(total_bill) * 100), 1) AS avg_tip_percentage\n",
    "                  FROM \n",
    "                    tips\n",
    "                  GROUP BY \n",
    "                    day\n",
    "                  ORDER BY \n",
    "                    avg_tip_percentage DESC;\n",
    "                  ''', conn)"
   ]
  },
  {
   "cell_type": "markdown",
   "metadata": {},
   "source": [
    "### READ #2: Maximum and minimum total bills"
   ]
  },
  {
   "cell_type": "code",
   "execution_count": null,
   "metadata": {},
   "outputs": [],
   "source": [
    "pd.read_sql_query('''\n",
    "                  SELECT \n",
    "                    MIN(total_bill) as min_total_bill, \n",
    "                    MAX(total_bill) as max_total_bill\n",
    "                  FROM \n",
    "                    tips;\n",
    "                  ''', conn)"
   ]
  },
  {
   "cell_type": "markdown",
   "metadata": {},
   "source": [
    "### READ #3: Count the number of parties for each size"
   ]
  },
  {
   "cell_type": "code",
   "execution_count": null,
   "metadata": {},
   "outputs": [],
   "source": [
    "pd.read_sql_query('''\n",
    "                  SELECT \n",
    "                    size, \n",
    "                    COUNT(size) as occurrences\n",
    "                  FROM \n",
    "                    tips\n",
    "                  GROUP BY \n",
    "                    size;\n",
    "                  ''', conn)"
   ]
  },
  {
   "cell_type": "markdown",
   "metadata": {},
   "source": [
    "### READ #4: Total bill and tip for parties of size 4 or more, where the tip percentage is greater than 15%"
   ]
  },
  {
   "cell_type": "code",
   "execution_count": null,
   "metadata": {},
   "outputs": [],
   "source": [
    "pd.read_sql_query('''\n",
    "                  SELECT \n",
    "                    total_bill, \n",
    "                    tip\n",
    "                  FROM \n",
    "                    tips\n",
    "                  WHERE \n",
    "                    size >= 4 AND \n",
    "                    ((tip/total_bill) * 100) > 15;\n",
    "                  ''', conn)"
   ]
  },
  {
   "cell_type": "markdown",
   "metadata": {},
   "source": [
    "### READ #5: Retrieve the total bill, tip amount, and tip percentage for each combination of day and time, sorted by tip percentage in descending order\n"
   ]
  },
  {
   "cell_type": "code",
   "execution_count": null,
   "metadata": {},
   "outputs": [],
   "source": [
    "pd.read_sql_query('''\n",
    "                  SELECT \n",
    "                    day, \n",
    "                    time, \n",
    "                    SUM(total_bill) AS sum_total_bill, \n",
    "                    SUM(tip) as sum_tip, \n",
    "                    ROUND((SUM(tip)/SUM(total_bill) * 100), 1) AS tip_percentage\n",
    "                  FROM \n",
    "                    tips\n",
    "                  GROUP BY \n",
    "                    day, time\n",
    "                  ORDER BY \n",
    "                    tip_percentage DESC;\n",
    "                  ''', conn)"
   ]
  },
  {
   "cell_type": "markdown",
   "metadata": {},
   "source": [
    "### READ #6: Find the average tip percentage for each combination of day, time, and smoker status"
   ]
  },
  {
   "cell_type": "code",
   "execution_count": null,
   "metadata": {},
   "outputs": [],
   "source": [
    "pd.read_sql_query('''\n",
    "                  SELECT \n",
    "                    day, \n",
    "                    time, \n",
    "                    smoker, \n",
    "                    ROUND((SUM(tip)/SUM(total_bill) * 100), 1) AS avg_tip_percentage\n",
    "                  FROM \n",
    "                    tips\n",
    "                  GROUP BY \n",
    "                    day, time, smoker\n",
    "                  ORDER BY \n",
    "                    avg_tip_percentage DESC;\n",
    "                  ''', conn)"
   ]
  },
  {
   "cell_type": "markdown",
   "metadata": {},
   "source": [
    "### READ #7: Retrieve the total bill, tip amount, and tip percentage for each sex, sorted by total bill in descending order, and limit the results to the top 5 records"
   ]
  },
  {
   "cell_type": "code",
   "execution_count": null,
   "metadata": {},
   "outputs": [],
   "source": [
    "pd.read_sql_query('''\n",
    "                  SELECT \n",
    "                    sex, \n",
    "                    SUM(total_bill) AS sum_total_bill, \n",
    "                    SUM(tip) as sum_tip, \n",
    "                    ROUND((SUM(tip)/SUM(total_bill) * 100), 1) AS tip_percentage\n",
    "                  FROM \n",
    "                    tips\n",
    "                  GROUP BY \n",
    "                    sex\n",
    "                  ORDER BY \n",
    "                    sum_total_bill DESC\n",
    "                  LIMIT 5;\n",
    "                  ''', conn)"
   ]
  },
  {
   "cell_type": "markdown",
   "metadata": {},
   "source": [
    "### READ #8: Find the maximum and minimum tip percentage for each day and time combination, along with the corresponding total bill and tip amount"
   ]
  },
  {
   "cell_type": "code",
   "execution_count": null,
   "metadata": {},
   "outputs": [],
   "source": [
    "pd.read_sql_query('''\n",
    "                  SELECT \n",
    "                    day, \n",
    "                    time, \n",
    "                    total_bill, \n",
    "                    tip, \n",
    "                    ROUND((tip/total_bill) * 100, 1) AS tip_percentage\n",
    "                  FROM \n",
    "                    tips\n",
    "                  WHERE \n",
    "                    (day, time, (tip/total_bill) * 100) IN (\n",
    "                        SELECT \n",
    "                          day, \n",
    "                          time, \n",
    "                          MAX((tip/total_bill) * 100) AS max_tip_percentage\n",
    "                        FROM \n",
    "                          tips\n",
    "                        GROUP BY \n",
    "                          day, time\n",
    "                    )\n",
    "                    OR \n",
    "                    (day, time, (tip/total_bill) * 100) IN (\n",
    "                        SELECT \n",
    "                          day, \n",
    "                          time, \n",
    "                          MIN((tip/total_bill) * 100) AS min_tip_percentage\n",
    "                        FROM \n",
    "                          tips\n",
    "                        GROUP BY \n",
    "                          day, time\n",
    "                    )\n",
    "                  ORDER BY \n",
    "                    day, time, tip_percentage DESC;\n",
    "                  ''', conn)"
   ]
  },
  {
   "cell_type": "markdown",
   "metadata": {},
   "source": [
    "### READ #9: Retrieve the total bill, tip amount, and tip percentage for parties of size 4 or more, where the tip percentage is greater than 15%, and the total bill is between $50 and $100\n",
    "\n",
    "NOTE: returns no results, which I believe is accurate."
   ]
  },
  {
   "cell_type": "code",
   "execution_count": null,
   "metadata": {},
   "outputs": [],
   "source": [
    "pd.read_sql_query('''\n",
    "                  SELECT \n",
    "                    total_bill,\n",
    "                    tip, \n",
    "                    ROUND((tip/total_bill) * 100, 1) AS tip_percentage\n",
    "                  FROM \n",
    "                    tips\n",
    "                  WHERE\n",
    "                    size >= 4 AND\n",
    "                    tip_percentage > 15 AND\n",
    "                    total_bill BETWEEN 50 AND 100;\n",
    "                  ''', conn)"
   ]
  },
  {
   "cell_type": "markdown",
   "metadata": {},
   "source": [
    "### READ #10: Find the average tip percentage for each combination of day, time, and smoker status, but only include combinations with more than 5 records"
   ]
  },
  {
   "cell_type": "code",
   "execution_count": null,
   "metadata": {},
   "outputs": [],
   "source": [
    "pd.read_sql_query('''\n",
    "                  SELECT \n",
    "                    day, \n",
    "                    time, \n",
    "                    smoker, \n",
    "                    ROUND((SUM(tip)/SUM(total_bill) * 100), 1) AS avg_tip_percentage\n",
    "                  FROM \n",
    "                    tips\n",
    "                  GROUP BY \n",
    "                    day, time, smoker\n",
    "                  HAVING\n",
    "                    COUNT(*) > 5\n",
    "                  ''', conn)"
   ]
  },
  {
   "cell_type": "markdown",
   "metadata": {},
   "source": [
    "### Additional Query #1: Find the average tip percentage based on smoking status."
   ]
  },
  {
   "cell_type": "code",
   "execution_count": null,
   "metadata": {},
   "outputs": [],
   "source": [
    "pd.read_sql_query('''\n",
    "                  SELECT \n",
    "                    smoker,  \n",
    "                    ROUND((SUM(tip)/SUM(total_bill) * 100), 1) AS avg_tip_percentage\n",
    "                  FROM \n",
    "                    tips\n",
    "                  GROUP BY \n",
    "                    smoker\n",
    "                  ''', conn)"
   ]
  },
  {
   "cell_type": "markdown",
   "metadata": {},
   "source": [
    "### Additional Query #2: Total diners for each combination of day and time ordered by total diners (i.e., busiest meals)"
   ]
  },
  {
   "cell_type": "code",
   "execution_count": null,
   "metadata": {},
   "outputs": [],
   "source": [
    "pd.read_sql_query('''\n",
    "                  SELECT \n",
    "                    day,\n",
    "                    time,  \n",
    "                    SUM(size) as total_diners\n",
    "                  FROM \n",
    "                    tips\n",
    "                  GROUP BY \n",
    "                    day, time\n",
    "                  ORDER BY\n",
    "                    total_diners DESC\n",
    "                  ''', conn)"
   ]
  },
  {
   "cell_type": "markdown",
   "metadata": {},
   "source": [
    "### Additional Query #3: Average tip percentage for each party size where the number of records is greater than 5."
   ]
  },
  {
   "cell_type": "code",
   "execution_count": null,
   "metadata": {},
   "outputs": [],
   "source": [
    "pd.read_sql_query('''\n",
    "                  SELECT \n",
    "                    size,\n",
    "                    ROUND((SUM(tip)/SUM(total_bill) * 100), 1) AS avg_tip_percentage\n",
    "                  FROM \n",
    "                    tips\n",
    "                  GROUP BY \n",
    "                    size\n",
    "                  HAVING\n",
    "                    COUNT(*) > 5\n",
    "                  ORDER BY\n",
    "                    avg_tip_percentage DESC\n",
    "                  ''', conn)"
   ]
  },
  {
   "cell_type": "markdown",
   "metadata": {},
   "source": [
    "### Additional Query #4: For each combination of sex and time, count the number of records. This effectively answers \"_Which sex is paying for a given meal?_\""
   ]
  },
  {
   "cell_type": "code",
   "execution_count": null,
   "metadata": {},
   "outputs": [],
   "source": [
    "pd.read_sql_query('''\n",
    "                  SELECT \n",
    "                    sex,\n",
    "                    time,\n",
    "                    COUNT(*) as count\n",
    "                  FROM \n",
    "                    tips\n",
    "                  GROUP BY \n",
    "                    sex, time\n",
    "                  ORDER BY\n",
    "                    time, count DESC\n",
    "                  ''', conn)"
   ]
  },
  {
   "cell_type": "markdown",
   "metadata": {},
   "source": [
    "### Additional Query #5: Who smokes more, men or women?"
   ]
  },
  {
   "cell_type": "code",
   "execution_count": null,
   "metadata": {},
   "outputs": [],
   "source": [
    "pd.read_sql_query('''\n",
    "                  SELECT \n",
    "                    sex,\n",
    "                    COUNT(*) as count\n",
    "                  FROM \n",
    "                    tips\n",
    "                  WHERE\n",
    "                    smoker = 'Yes'\n",
    "                  GROUP BY \n",
    "                    sex\n",
    "                  ORDER BY\n",
    "                    count DESC\n",
    "                  ''', conn)"
   ]
  },
  {
   "cell_type": "markdown",
   "metadata": {},
   "source": [
    "### Close the database connection after the last READ operation"
   ]
  },
  {
   "cell_type": "code",
   "execution_count": 136,
   "metadata": {},
   "outputs": [],
   "source": [
    "conn.close()"
   ]
  },
  {
   "cell_type": "markdown",
   "metadata": {},
   "source": [
    "### UPDATE: \n",
    "It was determined that there was an error in the database. Please update the record that corresponds to id=10 and set smoker to Yes."
   ]
  },
  {
   "cell_type": "code",
   "execution_count": 137,
   "metadata": {},
   "outputs": [],
   "source": [
    "with sqlite3.connect(\"tips.db\") as conn:\n",
    "    cur = conn.cursor()\n",
    "    data = {\"id\": 10,\n",
    "            \"smoker\": \"Yes\"}\n",
    "    try:\n",
    "        cur.execute(\"UPDATE tips SET smoker = :smoker WHERE id = :id\", data)\n",
    "    except sqlite3.Error as e:\n",
    "        print(f\"Error {e.sqlite_errorcode}: {e.sqlite_errorname}\")\n",
    "    \n",
    "    conn.commit()"
   ]
  },
  {
   "cell_type": "markdown",
   "metadata": {},
   "source": [
    "### DELETE\n",
    "Delete records from the database that have a total bill that is less than $10."
   ]
  },
  {
   "cell_type": "code",
   "execution_count": 138,
   "metadata": {},
   "outputs": [],
   "source": [
    "with sqlite3.connect(\"tips.db\") as conn:\n",
    "    cur = conn.cursor()\n",
    "    \n",
    "    try:\n",
    "        cur.execute(\"DELETE FROM tips WHERE total_bill < 10;\")\n",
    "    except sqlite3.Error as e:\n",
    "        print(f\"Error {e.sqlite_errorcode}: {e.sqlite_errorname}\")\n",
    "    \n",
    "    conn.commit()"
   ]
  }
 ],
 "metadata": {
  "kernelspec": {
   "display_name": ".venv",
   "language": "python",
   "name": "python3"
  },
  "language_info": {
   "codemirror_mode": {
    "name": "ipython",
    "version": 3
   },
   "file_extension": ".py",
   "mimetype": "text/x-python",
   "name": "python",
   "nbconvert_exporter": "python",
   "pygments_lexer": "ipython3",
   "version": "3.12.1"
  }
 },
 "nbformat": 4,
 "nbformat_minor": 2
}
