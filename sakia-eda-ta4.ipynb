{
 "cells": [
  {
   "cell_type": "markdown",
   "metadata": {},
   "source": [
    "# Team Assignment 4\n",
    "\n",
    "Team Sakia: Iara Ravagni and Sakshee Patil\n",
    "\n",
    "Date: 09-24-2024"
   ]
  },
  {
   "cell_type": "markdown",
   "metadata": {},
   "source": [
    "## Import libraries"
   ]
  },
  {
   "cell_type": "code",
   "execution_count": 7,
   "metadata": {},
   "outputs": [],
   "source": [
    "import numpy as np\n",
    "import pandas as pd\n",
    "import requests\n",
    "from bs4 import BeautifulSoup\n",
    "import os"
   ]
  },
  {
   "cell_type": "markdown",
   "metadata": {},
   "source": [
    "## Download CSV Files\n",
    "\n",
    "This step downloads the dataset from the original [GitHub repository](https://github.com/Welltory/hrv-covid19/tree/master). The dataset includes the following CSV files:\n",
    "\n",
    "- participants.csv\n",
    "- sleep.csv\n",
    "- scales_description.csv\n",
    "- weather.csv\n",
    "- blood_pressure.csv\n",
    "- hrv_measurements.csv\n",
    "- surveys.csv\n",
    "- wearables.csv\n",
    "- heart_rate.csv"
   ]
  },
  {
   "cell_type": "code",
   "execution_count": 15,
   "metadata": {},
   "outputs": [
    {
     "name": "stdout",
     "output_type": "stream",
     "text": [
      "Downloaded: data\\participants.csv\n",
      "Downloaded: data\\sleep.csv\n",
      "Downloaded: data\\scales_description.csv\n",
      "Downloaded: data\\weather.csv\n",
      "Downloaded: data\\blood_pressure.csv\n",
      "Downloaded: data\\hrv_measurements.csv\n",
      "Downloaded: data\\surveys.csv\n",
      "Downloaded: data\\wearables.csv\n",
      "Downloaded: data\\heart_rate.csv\n"
     ]
    }
   ],
   "source": [
    "# Define the URL of the GitHub data folder\n",
    "url = 'https://github.com/Welltory/hrv-covid19/tree/master/data'\n",
    "\n",
    "# Send a GET request to the URL\n",
    "response = requests.get(url)\n",
    "soup = BeautifulSoup(response.content, 'html.parser')\n",
    "\n",
    "# Find all links to CSV files\n",
    "csv_links = set()  # Use a set to avoid duplicates\n",
    "for link in soup.find_all('a'):\n",
    "    href = link.get('href')\n",
    "    if href and href.endswith('.csv'):\n",
    "        # Construct the raw URL and add to the set\n",
    "        raw_url = f'https://raw.githubusercontent.com{href.replace(\"tree/master\", \"master\")}'\n",
    "        csv_links.add(raw_url)\n",
    "\n",
    "# Create a directory to save the CSV files\n",
    "os.makedirs('data', exist_ok=True)\n",
    "\n",
    "# Download each CSV file\n",
    "for csv_link in csv_links:\n",
    "    filename = os.path.join('data', csv_link.split('/')[-1])\n",
    "    with requests.get(csv_link) as r:\n",
    "        with open(filename, 'wb') as f:\n",
    "            f.write(r.content)\n",
    "    print(f'Downloaded: {filename}')"
   ]
  },
  {
   "cell_type": "markdown",
   "metadata": {},
   "source": []
  }
 ],
 "metadata": {
  "kernelspec": {
   "display_name": "venv",
   "language": "python",
   "name": "python3"
  },
  "language_info": {
   "codemirror_mode": {
    "name": "ipython",
    "version": 3
   },
   "file_extension": ".py",
   "mimetype": "text/x-python",
   "name": "python",
   "nbconvert_exporter": "python",
   "pygments_lexer": "ipython3",
   "version": "3.12.5"
  }
 },
 "nbformat": 4,
 "nbformat_minor": 2
}
