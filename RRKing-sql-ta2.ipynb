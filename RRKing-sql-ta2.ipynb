{
 "cells": [
  {
   "cell_type": "code",
   "id": "initial_id",
   "metadata": {
    "collapsed": true,
    "ExecuteTime": {
     "end_time": "2024-09-09T05:18:25.633777Z",
     "start_time": "2024-09-09T05:18:25.626759Z"
    }
   },
   "source": [
    "import sqlite3\n",
    "import pandas as pd"
   ],
   "outputs": [],
   "execution_count": 155
  },
  {
   "metadata": {},
   "cell_type": "markdown",
   "source": "# CREATE",
   "id": "f4a8d716828ea34b"
  },
  {
   "metadata": {},
   "cell_type": "markdown",
   "source": "## 1. Create a SQLite database",
   "id": "b146ac5838e0b1ca"
  },
  {
   "metadata": {
    "ExecuteTime": {
     "end_time": "2024-09-09T05:20:16.056875Z",
     "start_time": "2024-09-09T05:20:16.038471Z"
    }
   },
   "cell_type": "code",
   "source": "conn = sqlite3.connect('tips.db')",
   "id": "93e31375f978df0a",
   "outputs": [],
   "execution_count": 167
  },
  {
   "metadata": {
    "ExecuteTime": {
     "end_time": "2024-09-09T05:20:16.812542Z",
     "start_time": "2024-09-09T05:20:16.807147Z"
    }
   },
   "cell_type": "code",
   "source": "c = conn.cursor()",
   "id": "7d695e36de204e4f",
   "outputs": [],
   "execution_count": 168
  },
  {
   "metadata": {
    "ExecuteTime": {
     "end_time": "2024-09-09T05:18:56.573385Z",
     "start_time": "2024-09-09T05:18:56.569792Z"
    }
   },
   "cell_type": "code",
   "source": "conn.commit()",
   "id": "a093f2eb03743f76",
   "outputs": [],
   "execution_count": 162
  },
  {
   "metadata": {},
   "cell_type": "markdown",
   "source": "## 2. Insert data to the database",
   "id": "ce4af4af84e05474"
  },
  {
   "metadata": {
    "ExecuteTime": {
     "end_time": "2024-09-09T05:20:21.481637Z",
     "start_time": "2024-09-09T05:20:21.445956Z"
    }
   },
   "cell_type": "code",
   "source": [
    "df =  pd.read_csv('data/tips.csv')\n",
    "df.head()"
   ],
   "id": "b13ca0b22a6e3023",
   "outputs": [
    {
     "data": {
      "text/plain": [
       "   total_bill   tip     sex smoker  day    time  size\n",
       "0       16.99  1.01  Female     No  Sun  Dinner     2\n",
       "1       10.34  1.66    Male     No  Sun  Dinner     3\n",
       "2       21.01  3.50    Male     No  Sun  Dinner     3\n",
       "3       23.68  3.31    Male     No  Sun  Dinner     2\n",
       "4       24.59  3.61  Female     No  Sun  Dinner     4"
      ],
      "text/html": [
       "<div>\n",
       "<style scoped>\n",
       "    .dataframe tbody tr th:only-of-type {\n",
       "        vertical-align: middle;\n",
       "    }\n",
       "\n",
       "    .dataframe tbody tr th {\n",
       "        vertical-align: top;\n",
       "    }\n",
       "\n",
       "    .dataframe thead th {\n",
       "        text-align: right;\n",
       "    }\n",
       "</style>\n",
       "<table border=\"1\" class=\"dataframe\">\n",
       "  <thead>\n",
       "    <tr style=\"text-align: right;\">\n",
       "      <th></th>\n",
       "      <th>total_bill</th>\n",
       "      <th>tip</th>\n",
       "      <th>sex</th>\n",
       "      <th>smoker</th>\n",
       "      <th>day</th>\n",
       "      <th>time</th>\n",
       "      <th>size</th>\n",
       "    </tr>\n",
       "  </thead>\n",
       "  <tbody>\n",
       "    <tr>\n",
       "      <th>0</th>\n",
       "      <td>16.99</td>\n",
       "      <td>1.01</td>\n",
       "      <td>Female</td>\n",
       "      <td>No</td>\n",
       "      <td>Sun</td>\n",
       "      <td>Dinner</td>\n",
       "      <td>2</td>\n",
       "    </tr>\n",
       "    <tr>\n",
       "      <th>1</th>\n",
       "      <td>10.34</td>\n",
       "      <td>1.66</td>\n",
       "      <td>Male</td>\n",
       "      <td>No</td>\n",
       "      <td>Sun</td>\n",
       "      <td>Dinner</td>\n",
       "      <td>3</td>\n",
       "    </tr>\n",
       "    <tr>\n",
       "      <th>2</th>\n",
       "      <td>21.01</td>\n",
       "      <td>3.50</td>\n",
       "      <td>Male</td>\n",
       "      <td>No</td>\n",
       "      <td>Sun</td>\n",
       "      <td>Dinner</td>\n",
       "      <td>3</td>\n",
       "    </tr>\n",
       "    <tr>\n",
       "      <th>3</th>\n",
       "      <td>23.68</td>\n",
       "      <td>3.31</td>\n",
       "      <td>Male</td>\n",
       "      <td>No</td>\n",
       "      <td>Sun</td>\n",
       "      <td>Dinner</td>\n",
       "      <td>2</td>\n",
       "    </tr>\n",
       "    <tr>\n",
       "      <th>4</th>\n",
       "      <td>24.59</td>\n",
       "      <td>3.61</td>\n",
       "      <td>Female</td>\n",
       "      <td>No</td>\n",
       "      <td>Sun</td>\n",
       "      <td>Dinner</td>\n",
       "      <td>4</td>\n",
       "    </tr>\n",
       "  </tbody>\n",
       "</table>\n",
       "</div>"
      ]
     },
     "execution_count": 169,
     "metadata": {},
     "output_type": "execute_result"
    }
   ],
   "execution_count": 169
  },
  {
   "metadata": {
    "ExecuteTime": {
     "end_time": "2024-09-09T05:20:23.219075Z",
     "start_time": "2024-09-09T05:20:23.204074Z"
    }
   },
   "cell_type": "code",
   "source": [
    "try:\n",
    "    with sqlite3.connect('tips.db') as conn:\n",
    "        df.to_sql('TIPS', conn, if_exists='replace', index=False)\n",
    "        conn.commit()\n",
    "except Exception as err:\n",
    "    print(f\"Error occurred while inserting data to table: {err}\")"
   ],
   "id": "a183a41f34d4e60e",
   "outputs": [],
   "execution_count": 170
  },
  {
   "metadata": {
    "ExecuteTime": {
     "end_time": "2024-09-09T05:20:24.303179Z",
     "start_time": "2024-09-09T05:20:24.297956Z"
    }
   },
   "cell_type": "code",
   "source": [
    "c.execute(\"select * from TIPS\")\n",
    "conn.commit()\n",
    "print(c.fetchone())"
   ],
   "id": "c8dd5e3e056f20a5",
   "outputs": [
    {
     "name": "stdout",
     "output_type": "stream",
     "text": [
      "(16.99, 1.01, 'Female', 'No', 'Sun', 'Dinner', 2)\n"
     ]
    }
   ],
   "execution_count": 171
  },
  {
   "metadata": {},
   "cell_type": "markdown",
   "source": "# READ",
   "id": "1f5723b1305b00ae"
  },
  {
   "metadata": {},
   "cell_type": "markdown",
   "source": "## 1. Retrieve the average tip percentage for each day of the week",
   "id": "eccbc5bc30805ffc"
  },
  {
   "metadata": {
    "ExecuteTime": {
     "end_time": "2024-09-09T05:20:33.445334Z",
     "start_time": "2024-09-09T05:20:33.410144Z"
    }
   },
   "cell_type": "code",
   "source": [
    "with sqlite3.connect('tips.db') as conn:\n",
    "    try:\n",
    "            query1 = '''select \n",
    "                            day, \n",
    "                            round(sum(tip)/sum(total_bill)*100,2) as avg_tip_percentage\n",
    "                        from TIPS \n",
    "                        group by day'''\n",
    "            answer1 = pd.read_sql_query(query1, conn)\n",
    "            conn.commit()\n",
    "            print(answer1)\n",
    "    except Exception as err:\n",
    "            print('Query Failed: %s\\nError: %s' % (query1, str(err)))"
   ],
   "id": "2f2b121ad14d316d",
   "outputs": [
    {
     "name": "stdout",
     "output_type": "stream",
     "text": [
      "    day  avg_tip_percentage\n",
      "0   Fri               15.94\n",
      "1   Sat               14.64\n",
      "2   Sun               15.20\n",
      "3  Thur               15.67\n"
     ]
    }
   ],
   "execution_count": 172
  },
  {
   "metadata": {},
   "cell_type": "markdown",
   "source": "## 2. Find the maximum and minimum total bill amounts",
   "id": "8a706563e9984b0"
  },
  {
   "metadata": {
    "ExecuteTime": {
     "end_time": "2024-09-09T05:20:38.340988Z",
     "start_time": "2024-09-09T05:20:38.317983Z"
    }
   },
   "cell_type": "code",
   "source": [
    "with sqlite3.connect('tips.db') as conn:\n",
    "    try:\n",
    "        query2 = '''select \n",
    "                        max(total_bill) as max_bill, \n",
    "                        min(total_bill) as min_bill \n",
    "                    from TIPS'''\n",
    "        answer2 = pd.read_sql_query(query2, conn)\n",
    "        conn.commit()\n",
    "        print(answer2)\n",
    "    except Exception as err:\n",
    "        print('Query Failed: %s\\nError: %s' % (query2, str(err)))"
   ],
   "id": "64c80755cde7bb82",
   "outputs": [
    {
     "name": "stdout",
     "output_type": "stream",
     "text": [
      "   max_bill  min_bill\n",
      "0     50.81      3.07\n"
     ]
    }
   ],
   "execution_count": 173
  },
  {
   "metadata": {},
   "cell_type": "markdown",
   "source": "## 3. Count the number of parties for each size",
   "id": "a6b1b2faf0a61c4e"
  },
  {
   "metadata": {
    "ExecuteTime": {
     "end_time": "2024-09-09T05:20:49.883519Z",
     "start_time": "2024-09-09T05:20:49.860526Z"
    }
   },
   "cell_type": "code",
   "source": [
    "with sqlite3.connect('tips.db') as conn:\n",
    "    try:\n",
    "        query3 = '''select \n",
    "                        size, count(*) as num_each_size\n",
    "                    from TIPS\n",
    "                    group by size'''\n",
    "        answer3 = pd.read_sql_query(query3, conn)\n",
    "        conn.commit()\n",
    "        print(answer3)\n",
    "    except Exception as err:\n",
    "        print('Query Failed: %s\\nError: %s' % (query3, str(err)))"
   ],
   "id": "f374dc9c9b402f42",
   "outputs": [
    {
     "name": "stdout",
     "output_type": "stream",
     "text": [
      "   size  num_each_size\n",
      "0     1              4\n",
      "1     2            156\n",
      "2     3             38\n",
      "3     4             37\n",
      "4     5              5\n",
      "5     6              4\n"
     ]
    }
   ],
   "execution_count": 174
  },
  {
   "metadata": {},
   "cell_type": "markdown",
   "source": "## 4. Retrieve the total bill and tip for parties of size 4 or more, where the tip percentage is greater than 15%",
   "id": "ee91e4cc9cfcf53c"
  },
  {
   "metadata": {
    "ExecuteTime": {
     "end_time": "2024-09-09T05:20:55.618164Z",
     "start_time": "2024-09-09T05:20:55.597617Z"
    }
   },
   "cell_type": "code",
   "source": [
    "with sqlite3.connect('tips.db') as conn:\n",
    "    try:\n",
    "        query4 = '''select \n",
    "                        total_bill, tip, \n",
    "                        round(tip/total_bill*100,2) as tip_percentage,\n",
    "                        size\n",
    "                    from TIPS\n",
    "                    where size >= 4\n",
    "                    and round(tip/total_bill*100,2) > 15'''\n",
    "        answer4 = pd.read_sql_query(query4, conn)\n",
    "        conn.commit()\n",
    "        print(answer4)\n",
    "    except Exception as err:\n",
    "        print('Query Failed: %s\\nError: %s' % (query4, str(err)))"
   ],
   "id": "5728c00e1ca73a54",
   "outputs": [
    {
     "name": "stdout",
     "output_type": "stream",
     "text": [
      "    total_bill   tip  tip_percentage  size\n",
      "0        25.29  4.71           18.62     4\n",
      "1        18.43  3.00           16.28     4\n",
      "2        39.42  7.58           19.23     4\n",
      "3        30.40  5.60           18.42     4\n",
      "4        32.40  6.00           18.52     4\n",
      "5        25.56  4.34           16.98     4\n",
      "6        18.29  3.76           20.56     4\n",
      "7        29.93  5.07           16.94     4\n",
      "8        34.30  6.70           19.53     6\n",
      "9        27.05  5.00           18.48     6\n",
      "10       29.85  5.14           17.22     5\n",
      "11       21.50  3.50           16.28     4\n",
      "12       23.17  6.50           28.05     4\n",
      "13       20.69  5.00           24.17     5\n",
      "14       20.53  4.00           19.48     4\n",
      "15       25.89  5.16           19.93     4\n",
      "16       48.33  9.00           18.62     4\n"
     ]
    }
   ],
   "execution_count": 175
  },
  {
   "metadata": {},
   "cell_type": "markdown",
   "source": "## 5. Retrieve the total bill, tip amount, and tip percentage for each combination of day and time, sorted by tip percentage in descending order",
   "id": "adf650e36c44b334"
  },
  {
   "metadata": {
    "ExecuteTime": {
     "end_time": "2024-09-09T05:20:58.854548Z",
     "start_time": "2024-09-09T05:20:58.839882Z"
    }
   },
   "cell_type": "code",
   "source": [
    "with sqlite3.connect('tips.db') as conn:\n",
    "    try:\n",
    "        query5 = '''select \n",
    "                        day, time,\n",
    "                        sum(total_bill) as total_bill, \n",
    "                        sum(tip) as tip_amount, \n",
    "                        round(sum(tip)/sum(total_bill)*100,2) as tip_percentage\n",
    "                    from TIPS\n",
    "                    group by day, time\n",
    "                    order by tip_percentage desc'''\n",
    "        answer5 = pd.read_sql_query(query5, conn)\n",
    "        conn.commit()\n",
    "        print(answer5)\n",
    "    except Exception as err:\n",
    "        print('Query Failed: %s\\nError: %s' % (query5, str(err)))"
   ],
   "id": "8ad356e8536e5044",
   "outputs": [
    {
     "name": "stdout",
     "output_type": "stream",
     "text": [
      "    day    time  total_bill  tip_amount  tip_percentage\n",
      "0   Fri   Lunch       89.92       16.68           18.55\n",
      "1  Thur  Dinner       18.78        3.00           15.97\n",
      "2  Thur   Lunch     1077.55      168.83           15.67\n",
      "3   Sun  Dinner     1627.16      247.39           15.20\n",
      "4   Fri  Dinner      235.96       35.28           14.95\n",
      "5   Sat  Dinner     1778.40      260.40           14.64\n"
     ]
    }
   ],
   "execution_count": 176
  },
  {
   "metadata": {},
   "cell_type": "markdown",
   "source": "## 6. Find the average tip percentage for each combination of day, time, and smoker status",
   "id": "b9e52a39f0aa9f84"
  },
  {
   "metadata": {
    "ExecuteTime": {
     "end_time": "2024-09-09T05:21:00.358981Z",
     "start_time": "2024-09-09T05:21:00.347419Z"
    }
   },
   "cell_type": "code",
   "source": [
    "with sqlite3.connect('tips.db') as conn:\n",
    "    try:\n",
    "        query6 = '''select \n",
    "                        day, time, smoker,\n",
    "                        round(sum(tip)/sum(total_bill)*100,2) as avg_tip_percentage\n",
    "                    from TIPS\n",
    "                    group by day, time, smoker'''\n",
    "        answer6 = pd.read_sql_query(query6, conn)\n",
    "        conn.commit()\n",
    "        print(answer6)\n",
    "    except Exception as err:\n",
    "        print('Query Failed: %s\\nError: %s' % (query6, str(err)))"
   ],
   "id": "e0c4ebd6c7a7f98f",
   "outputs": [
    {
     "name": "stdout",
     "output_type": "stream",
     "text": [
      "     day    time smoker  avg_tip_percentage\n",
      "0    Fri  Dinner     No               14.30\n",
      "1    Fri  Dinner    Yes               15.16\n",
      "2    Fri   Lunch     No               18.77\n",
      "3    Fri   Lunch    Yes               18.50\n",
      "4    Sat  Dinner     No               15.78\n",
      "5    Sat  Dinner    Yes               13.51\n",
      "6    Sun  Dinner     No               15.45\n",
      "7    Sun  Dinner    Yes               14.58\n",
      "8   Thur  Dinner     No               15.97\n",
      "9   Thur   Lunch     No               15.62\n",
      "10  Thur   Lunch    Yes               15.79\n"
     ]
    }
   ],
   "execution_count": 177
  },
  {
   "metadata": {},
   "cell_type": "markdown",
   "source": "## 7. Retrieve the total bill, tip amount, and tip percentage for each sex, sorted by total bill in descending order, and limit the results to the top 5 records",
   "id": "cc8462a494e11068"
  },
  {
   "metadata": {
    "ExecuteTime": {
     "end_time": "2024-09-09T05:21:01.809550Z",
     "start_time": "2024-09-09T05:21:01.793738Z"
    }
   },
   "cell_type": "code",
   "source": [
    "with sqlite3.connect('tips.db') as conn:\n",
    "    try:\n",
    "        query7 = '''select * from\n",
    "                    (select \n",
    "                        sex,\n",
    "                        total_bill,\n",
    "                        tip, \n",
    "                        round(tip/total_bill*100,2) as tip_percentage\n",
    "                    from TIPS\n",
    "                    where sex = 'Male'\n",
    "                    order by total_bill desc\n",
    "                    limit 5) male\n",
    "                    union all\n",
    "                    select * from \n",
    "                    (select \n",
    "                        sex,\n",
    "                        total_bill,\n",
    "                        tip, \n",
    "                        round(tip/total_bill*100,2) as tip_percentage\n",
    "                    from TIPS\n",
    "                    where sex = 'Female'\n",
    "                    order by total_bill desc\n",
    "                    limit 5)female\n",
    "                    '''\n",
    "        answer7 = pd.read_sql_query(query7, conn)\n",
    "        conn.commit()\n",
    "        print(answer7)\n",
    "    except Exception as err:\n",
    "        print('Query Failed: %s\\nError: %s' % (query7, str(err)))"
   ],
   "id": "42d8c697a22bab1b",
   "outputs": [
    {
     "name": "stdout",
     "output_type": "stream",
     "text": [
      "      sex  total_bill    tip  tip_percentage\n",
      "0    Male       50.81  10.00           19.68\n",
      "1    Male       48.33   9.00           18.62\n",
      "2    Male       48.27   6.73           13.94\n",
      "3    Male       48.17   5.00           10.38\n",
      "4    Male       45.35   3.50            7.72\n",
      "5  Female       44.30   2.50            5.64\n",
      "6  Female       43.11   5.00           11.60\n",
      "7  Female       35.83   4.67           13.03\n",
      "8  Female       35.26   5.00           14.18\n",
      "9  Female       34.83   5.17           14.84\n"
     ]
    }
   ],
   "execution_count": 178
  },
  {
   "metadata": {},
   "cell_type": "markdown",
   "source": "## 8. Find the maximum and minimum tip percentage for each day and time combination, along with the corresponding total bill and tip amount",
   "id": "3209caf8fe4e5a02"
  },
  {
   "metadata": {
    "ExecuteTime": {
     "end_time": "2024-09-09T05:21:05.215830Z",
     "start_time": "2024-09-09T05:21:05.203764Z"
    }
   },
   "cell_type": "code",
   "source": [
    "with sqlite3.connect('tips.db') as conn:\n",
    "    try:\n",
    "        query8 = '''select \n",
    "                        day, time,\n",
    "                        total_bill, \n",
    "                        tip,\n",
    "                        max(round(tip/total_bill*100,2)) as max_tip_percentage,\n",
    "                        min(round(tip/total_bill*100,2)) as min_tip_percentage\n",
    "                    from TIPS\n",
    "                    group by day, time'''\n",
    "        answer8 = pd.read_sql_query(query8, conn)\n",
    "        conn.commit()\n",
    "        print(answer8)\n",
    "    except Exception as err:\n",
    "        print('Query Failed: %s\\nError: %s' % (query8, str(err)))"
   ],
   "id": "64cd12b618c2992",
   "outputs": [
    {
     "name": "stdout",
     "output_type": "stream",
     "text": [
      "    day    time  total_bill   tip  max_tip_percentage  min_tip_percentage\n",
      "0   Fri  Dinner       28.97  3.00               26.35               10.36\n",
      "1   Fri   Lunch       13.42  1.58               25.93               11.77\n",
      "2   Sat  Dinner       32.83  1.17               32.57                3.56\n",
      "3   Sun  Dinner       16.99  1.01               71.03                5.94\n",
      "4  Thur  Dinner       18.78  3.00               15.97               15.97\n",
      "5  Thur   Lunch       18.64  1.36               26.63                7.30\n"
     ]
    }
   ],
   "execution_count": 179
  },
  {
   "metadata": {},
   "cell_type": "markdown",
   "source": "## 9. Retrieve the total bill, tip amount, and tip percentage for parties of size 4 or more, where the tip percentage is greater than 15%, and the total bill is between $50 and $100",
   "id": "e116b881aaaecbb1"
  },
  {
   "metadata": {
    "ExecuteTime": {
     "end_time": "2024-09-09T05:21:07.911422Z",
     "start_time": "2024-09-09T05:21:07.892065Z"
    }
   },
   "cell_type": "code",
   "source": [
    "with sqlite3.connect('tips.db') as conn:\n",
    "    try:\n",
    "        query9 = '''select \n",
    "                        total_bill, \n",
    "                        tip,\n",
    "                        round(tip/total_bill*100,2) as tip_percentage\n",
    "                    from TIPS\n",
    "                    where \n",
    "                        size >= 4 \n",
    "                        and tip_percentage > 15\n",
    "                        and total_bill between 50 and 100'''\n",
    "        answer9 = pd.read_sql_query(query9, conn)\n",
    "        conn.commit()\n",
    "        print(answer9)\n",
    "    except Exception as err:\n",
    "        print('Query Failed: %s\\nError: %s' % (query9, str(err)))"
   ],
   "id": "a2ccf5a87435356f",
   "outputs": [
    {
     "name": "stdout",
     "output_type": "stream",
     "text": [
      "Empty DataFrame\n",
      "Columns: [total_bill, tip, tip_percentage]\n",
      "Index: []\n"
     ]
    }
   ],
   "execution_count": 180
  },
  {
   "metadata": {},
   "cell_type": "markdown",
   "source": "## 10. Find the average tip percentage for each combination of day, time, and smoker status, but only include combinations with more than 5 records",
   "id": "a85ccad4b158429e"
  },
  {
   "metadata": {
    "ExecuteTime": {
     "end_time": "2024-09-09T05:21:09.746050Z",
     "start_time": "2024-09-09T05:21:09.732028Z"
    }
   },
   "cell_type": "code",
   "source": [
    "with sqlite3.connect('tips.db') as conn:\n",
    "    try:\n",
    "        query10 = '''select \n",
    "                        day, time, smoker,\n",
    "                        round(sum(tip)/sum(total_bill)*100,2) as avg_tip_percentage\n",
    "                    from TIPS\n",
    "                    group by day, time, smoker\n",
    "                    having count(*) > 5'''\n",
    "        answer10 = pd.read_sql_query(query10, conn)\n",
    "        conn.commit()\n",
    "        print(answer10)\n",
    "    except Exception as err:\n",
    "        print('Query Failed: %s\\nError: %s' % (query10, str(err)))"
   ],
   "id": "5aae34eb6f11c664",
   "outputs": [
    {
     "name": "stdout",
     "output_type": "stream",
     "text": [
      "    day    time smoker  avg_tip_percentage\n",
      "0   Fri  Dinner    Yes               15.16\n",
      "1   Fri   Lunch    Yes               18.50\n",
      "2   Sat  Dinner     No               15.78\n",
      "3   Sat  Dinner    Yes               13.51\n",
      "4   Sun  Dinner     No               15.45\n",
      "5   Sun  Dinner    Yes               14.58\n",
      "6  Thur   Lunch     No               15.62\n",
      "7  Thur   Lunch    Yes               15.79\n"
     ]
    }
   ],
   "execution_count": 181
  },
  {
   "metadata": {},
   "cell_type": "markdown",
   "source": "## 5 additional queries",
   "id": "fb2f58895baf46c6"
  },
  {
   "metadata": {},
   "cell_type": "markdown",
   "source": "## 11. Find the total bill, tip amount and average tip percentage for each combination of sex and smoker status, sorted by average tip percentage in descending order",
   "id": "75b38d73f11dbfc6"
  },
  {
   "metadata": {
    "ExecuteTime": {
     "end_time": "2024-09-09T05:21:13.462988Z",
     "start_time": "2024-09-09T05:21:13.435610Z"
    }
   },
   "cell_type": "code",
   "source": [
    "with sqlite3.connect('tips.db') as conn:\n",
    "    try:\n",
    "        query11 = '''select \n",
    "                        sex, smoker,\n",
    "                        sum(total_bill) as total_bill,\n",
    "                        sum(tip) as tip_amount,\n",
    "                        round(sum(tip)/sum(total_bill)*100,2) as avg_tip_percentage\n",
    "                    from TIPS\n",
    "                    group by sex, smoker\n",
    "                    order by avg_tip_percentage desc'''\n",
    "        answer11 = pd.read_sql_query(query11, conn)\n",
    "        conn.commit()\n",
    "        print(answer11)\n",
    "    except Exception as err:\n",
    "        print('Query Failed: %s\\nError: %s' % (query11, str(err)))"
   ],
   "id": "4b0c655fb3296612",
   "outputs": [
    {
     "name": "stdout",
     "output_type": "stream",
     "text": [
      "      sex smoker  total_bill  tip_amount  avg_tip_percentage\n",
      "0  Female    Yes      593.27       96.74               16.31\n",
      "1    Male     No     1919.75      302.00               15.73\n",
      "2  Female     No      977.68      149.77               15.32\n",
      "3    Male    Yes     1337.07      183.07               13.69\n"
     ]
    }
   ],
   "execution_count": 182
  },
  {
   "metadata": {},
   "cell_type": "markdown",
   "source": "## 12. Find average total bill and tip amount for groups of different sizes, sorted by ascending order of size",
   "id": "f46c1c7afc02f990"
  },
  {
   "metadata": {
    "ExecuteTime": {
     "end_time": "2024-09-09T05:21:24.209614Z",
     "start_time": "2024-09-09T05:21:24.199670Z"
    }
   },
   "cell_type": "code",
   "source": [
    "with sqlite3.connect('tips.db') as conn:\n",
    "    try:\n",
    "        query12 = '''\n",
    "                    select \n",
    "                        size, \n",
    "                        round(avg(total_bill),2) as avg_total_bill,\n",
    "                        round(avg(tip),2) as avg_tip_amount\n",
    "                    from TIPS\n",
    "                    group by size\n",
    "                    order by size '''\n",
    "        answer12 = pd.read_sql_query(query12, conn)\n",
    "        conn.commit()\n",
    "        print(answer12)\n",
    "    except Exception as err:\n",
    "        print('Query Failed: %s\\nError: %s' % (query12, str(err)))"
   ],
   "id": "404312933a66b5dd",
   "outputs": [
    {
     "name": "stdout",
     "output_type": "stream",
     "text": [
      "   size  avg_total_bill  avg_tip_amount\n",
      "0     1            7.24            1.44\n",
      "1     2           16.45            2.58\n",
      "2     3           23.28            3.39\n",
      "3     4           28.61            4.14\n",
      "4     5           30.07            4.03\n",
      "5     6           34.83            5.23\n"
     ]
    }
   ],
   "execution_count": 183
  },
  {
   "metadata": {},
   "cell_type": "markdown",
   "source": "## 13. Count of orders and total tips for smokers vs. non-smokers",
   "id": "937d151067e3583c"
  },
  {
   "metadata": {
    "ExecuteTime": {
     "end_time": "2024-09-09T05:21:26.841437Z",
     "start_time": "2024-09-09T05:21:26.830812Z"
    }
   },
   "cell_type": "code",
   "source": [
    "with sqlite3.connect('tips.db') as conn:\n",
    "    try:\n",
    "        query13 = '''\n",
    "                    select \n",
    "                        smoker,\n",
    "                        count(*) AS order_count,\n",
    "                        sum(tip) AS total_tip_amount\n",
    "                    from TIPS\n",
    "                    group by smoker '''\n",
    "        answer13 = pd.read_sql_query(query13, conn)\n",
    "        conn.commit()\n",
    "        print(answer13)\n",
    "    except Exception as err:\n",
    "        print('Query Failed: %s\\nError: %s' % (query13, str(err)))"
   ],
   "id": "e43049598433b536",
   "outputs": [
    {
     "name": "stdout",
     "output_type": "stream",
     "text": [
      "  smoker  order_count  total_tip_amount\n",
      "0     No          151            451.77\n",
      "1    Yes           93            279.81\n"
     ]
    }
   ],
   "execution_count": 184
  },
  {
   "metadata": {},
   "cell_type": "markdown",
   "source": "## 14. Find the top 3 days with highest total bill",
   "id": "1b4f3c2ee9dc45b7"
  },
  {
   "metadata": {
    "ExecuteTime": {
     "end_time": "2024-09-09T05:21:28.821189Z",
     "start_time": "2024-09-09T05:21:28.812933Z"
    }
   },
   "cell_type": "code",
   "source": [
    "with sqlite3.connect('tips.db') as conn:\n",
    "    try:\n",
    "        query14 = '''\n",
    "                    select \n",
    "                        day,\n",
    "                        sum(total_bill) AS total_bill\n",
    "                    from TIPS\n",
    "                    group by day\n",
    "                    order by total_bill desc\n",
    "                    limit 3'''\n",
    "        answer14 = pd.read_sql_query(query14, conn)\n",
    "        conn.commit()\n",
    "        print(answer14)\n",
    "    except Exception as err:\n",
    "        print('Query Failed: %s\\nError: %s' % (query14, str(err)))"
   ],
   "id": "951b60929c97ed7",
   "outputs": [
    {
     "name": "stdout",
     "output_type": "stream",
     "text": [
      "    day  total_bill\n",
      "0   Sat     1778.40\n",
      "1   Sun     1627.16\n",
      "2  Thur     1096.33\n"
     ]
    }
   ],
   "execution_count": 185
  },
  {
   "metadata": {},
   "cell_type": "markdown",
   "source": "## 15. Find the total bill for each time, including only records with tips great than or equal to 2",
   "id": "4ad8289d7d52860"
  },
  {
   "metadata": {
    "ExecuteTime": {
     "end_time": "2024-09-09T05:21:30.336395Z",
     "start_time": "2024-09-09T05:21:30.326181Z"
    }
   },
   "cell_type": "code",
   "source": [
    "with sqlite3.connect('tips.db') as conn:\n",
    "    try:\n",
    "        query15 = '''\n",
    "                    select \n",
    "                        time,\n",
    "                        sum(total_bill) AS total_bill\n",
    "                    from TIPS\n",
    "                    where tip >= 2\n",
    "                    group by time'''\n",
    "        answer15 = pd.read_sql_query(query15, conn)\n",
    "        conn.commit()\n",
    "        print(answer15)\n",
    "    except Exception as err:\n",
    "        print('Query Failed: %s\\nError: %s' % (query15, str(err)))"
   ],
   "id": "6f4555bdf0044f9f",
   "outputs": [
    {
     "name": "stdout",
     "output_type": "stream",
     "text": [
      "     time  total_bill\n",
      "0  Dinner     3283.02\n",
      "1   Lunch      995.42\n"
     ]
    }
   ],
   "execution_count": 186
  },
  {
   "metadata": {},
   "cell_type": "markdown",
   "source": "# UPDATE",
   "id": "a56eaf005669ee5a"
  },
  {
   "metadata": {
    "ExecuteTime": {
     "end_time": "2024-09-09T05:21:34.666116Z",
     "start_time": "2024-09-09T05:21:34.655760Z"
    }
   },
   "cell_type": "code",
   "source": [
    "# It was determined that there was an error in the database. Please update the record that corresponds to id=10 and set smoker to Yes.\n",
    "\n",
    "with sqlite3.connect('tips.db') as conn:\n",
    "    try:\n",
    "        update_q = '''\n",
    "                    update TIPS\n",
    "                    set smoker = 'Yes'\n",
    "                    where rowid = 10\n",
    "                  '''\n",
    "        c.execute(update_q)\n",
    "        conn.commit()\n",
    "        print(\"Update Successfully\")\n",
    "        \n",
    "        # After update\n",
    "        c.execute('''select * from tips where rowid = 10''')\n",
    "        print(\"After updating:\")\n",
    "        print(c.fetchall())\n",
    "        conn.commit()\n",
    "\n",
    "    except Exception as err:\n",
    "        print('Error: %s' % str(err))"
   ],
   "id": "548672bf391aa6cd",
   "outputs": [
    {
     "name": "stdout",
     "output_type": "stream",
     "text": [
      "Update Successfully\n",
      "After updating:\n",
      "[(14.78, 3.23, 'Male', 'Yes', 'Sun', 'Dinner', 2)]\n"
     ]
    }
   ],
   "execution_count": 187
  },
  {
   "metadata": {},
   "cell_type": "markdown",
   "source": "# DELETE",
   "id": "dff75fbc7c9e92b4"
  },
  {
   "metadata": {
    "ExecuteTime": {
     "end_time": "2024-09-09T05:21:54.125074Z",
     "start_time": "2024-09-09T05:21:54.111120Z"
    }
   },
   "cell_type": "code",
   "source": [
    "# Delete records from the database that have a total bill that is less than $10.\n",
    "\n",
    "with sqlite3.connect('tips.db') as conn:\n",
    "    try:\n",
    "        delete_q = '''\n",
    "                    delete from TIPS\n",
    "                    where total_bill < 10\n",
    "                  '''\n",
    "        c.execute(delete_q)\n",
    "        conn.commit()\n",
    "        print(\"Delete Successfully\")\n",
    "    except Exception as err:\n",
    "        print('Error: %s' % str(err))"
   ],
   "id": "dea21e7e85801164",
   "outputs": [
    {
     "name": "stdout",
     "output_type": "stream",
     "text": [
      "Delete Successfully\n"
     ]
    }
   ],
   "execution_count": 188
  },
  {
   "metadata": {
    "ExecuteTime": {
     "end_time": "2024-09-09T05:21:56.661793Z",
     "start_time": "2024-09-09T05:21:56.656059Z"
    }
   },
   "cell_type": "code",
   "source": "conn.close()",
   "id": "29eb6c5160da2491",
   "outputs": [],
   "execution_count": 189
  },
  {
   "metadata": {},
   "cell_type": "code",
   "outputs": [],
   "execution_count": null,
   "source": "",
   "id": "6e4e50fb796d5b8e"
  }
 ],
 "metadata": {
  "kernelspec": {
   "display_name": "Python 3",
   "language": "python",
   "name": "python3"
  },
  "language_info": {
   "codemirror_mode": {
    "name": "ipython",
    "version": 2
   },
   "file_extension": ".py",
   "mimetype": "text/x-python",
   "name": "python",
   "nbconvert_exporter": "python",
   "pygments_lexer": "ipython2",
   "version": "2.7.6"
  }
 },
 "nbformat": 4,
 "nbformat_minor": 5
}
