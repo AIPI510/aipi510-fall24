{
 "cells": [
  {
   "cell_type": "code",
   "execution_count": 1,
   "metadata": {},
   "outputs": [],
   "source": [
    "import sqlite3\n",
    "import pandas as pd"
   ]
  },
  {
   "cell_type": "code",
   "execution_count": 2,
   "metadata": {},
   "outputs": [
    {
     "data": {
      "text/plain": [
       "244"
      ]
     },
     "execution_count": 2,
     "metadata": {},
     "output_type": "execute_result"
    }
   ],
   "source": [
    "# Read CSV file \n",
    "csv_file = '/Users/owner/Desktop/data_science/ml_course/aipi510/aipi510-fall24/data/tips.csv'\n",
    "df = pd.read_csv(csv_file)\n",
    "\n",
    "# Create an SQLite connection (a new database file)\n",
    "conn = sqlite3.connect('tips')  \n",
    "\n",
    "# Insert the DataFrame into an SQLite table\n",
    "df.to_sql('tips', conn, if_exists='replace', index=False)"
   ]
  },
  {
   "cell_type": "code",
   "execution_count": 4,
   "metadata": {},
   "outputs": [
    {
     "data": {
      "text/plain": [
       "<sqlite3.Cursor at 0x1281a0810>"
      ]
     },
     "execution_count": 4,
     "metadata": {},
     "output_type": "execute_result"
    }
   ],
   "source": [
    "cursor = conn.cursor()\n",
    "cursor.execute(\"SELECT * FROM tips LIMIT 5\")"
   ]
  },
  {
   "cell_type": "code",
   "execution_count": 5,
   "metadata": {},
   "outputs": [
    {
     "name": "stdout",
     "output_type": "stream",
     "text": [
      "(16.99, 1.01, 'Female', 'No', 'Sun', 'Dinner', 2)\n",
      "(10.34, 1.66, 'Male', 'No', 'Sun', 'Dinner', 3)\n",
      "(21.01, 3.5, 'Male', 'No', 'Sun', 'Dinner', 3)\n",
      "(23.68, 3.31, 'Male', 'No', 'Sun', 'Dinner', 2)\n",
      "(24.59, 3.61, 'Female', 'No', 'Sun', 'Dinner', 4)\n"
     ]
    }
   ],
   "source": [
    "# Fetch all rows\n",
    "rows = cursor.fetchall()\n",
    "\n",
    "# Print the results\n",
    "for row in rows:\n",
    "    print(row)\n"
   ]
  },
  {
   "cell_type": "code",
   "execution_count": null,
   "metadata": {},
   "outputs": [],
   "source": [
    "def make_query(conn, sql_query, commit=False):\n",
    "    \"\"\"_summary_\n",
    "    Run a SQL query into a connected database, with option to commit.\n",
    "    Args:\n",
    "        conn (_type_): a sqlite connection, if already done\n",
    "        sql_query (_type_): _description_\n",
    "    \"\"\"\n",
    "    if not conn:\n",
    "        # Read CSV file \n",
    "        csv_file = '/Users/owner/Desktop/data_science/ml_course/aipi510/aipi510-fall24/data/tips.csv'\n",
    "        df = pd.read_csv(csv_file)\n",
    "\n",
    "        # Create an SQLite connection \"tips\" (a new database file)\n",
    "        conn = sqlite3.connect('tips')  \n",
    "\n",
    "        # Insert the DataFrame into an SQLite table\n",
    "        df.to_sql('tips', conn, if_exists='replace', index=False)\n",
    "\n",
    "    # Create a cursor \n",
    "    cursor = conn.cursor()\n",
    "    # Run sql query\n",
    "    cursor.execute(sql_query)\n",
    "    # fetch all matching rows\n",
    "    rows = cursor.fetchall()\n",
    "\n",
    "    # print output\n",
    "    for row in rows:\n",
    "        print(row)\n",
    "\n",
    "    # user option to save changes\n",
    "    if commit is True:\n",
    "        conn.commit()\n",
    "\n",
    "    # close connection\n",
    "    conn.close()"
   ]
  }
 ],
 "metadata": {
  "kernelspec": {
   "display_name": ".venv",
   "language": "python",
   "name": "python3"
  },
  "language_info": {
   "codemirror_mode": {
    "name": "ipython",
    "version": 3
   },
   "file_extension": ".py",
   "mimetype": "text/x-python",
   "name": "python",
   "nbconvert_exporter": "python",
   "pygments_lexer": "ipython3",
   "version": "3.9.6"
  }
 },
 "nbformat": 4,
 "nbformat_minor": 2
}
