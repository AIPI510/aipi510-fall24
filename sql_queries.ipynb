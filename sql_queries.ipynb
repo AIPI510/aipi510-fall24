{
 "cells": [
  {
   "cell_type": "code",
   "execution_count": 1,
   "id": "66764a2a",
   "metadata": {},
   "outputs": [],
   "source": [
    "# Import Statements\n",
    "import pandas as pd\n",
    "import sqlite3"
   ]
  },
  {
   "cell_type": "code",
   "execution_count": 2,
   "id": "0c9c5c91",
   "metadata": {},
   "outputs": [],
   "source": [
    "def create_db_table():\n",
    "    try:\n",
    "        # Read the tips.csv file\n",
    "        df = pd.read_csv('./data/tips.csv')\n",
    "\n",
    "        # Connect to the SQLite database, automatically commit and close the connection.\n",
    "        with sqlite3.connect('tips.db') as conn:\n",
    "\n",
    "            # Write the data to a SQL table (replacing if a table of the same name exists and ignoring a column of indexes)\n",
    "            df.to_sql('tips_table', conn, if_exists='replace', index=True)\n",
    "            \n",
    "    except sqlite3.Error as error:\n",
    "        print(f'An error occurred when creating the SQL db table -> {error}')\n",
    "\n",
    "create_db_table()"
   ]
  },
  {
   "cell_type": "markdown",
   "id": "99696ba7",
   "metadata": {},
   "source": [
    "**Find the average tip percentage, separately for weekends and weekdays.**"
   ]
  },
  {
   "cell_type": "code",
   "execution_count": 3,
   "id": "0dbbb810-b21e-4497-887b-00d0b3dad477",
   "metadata": {},
   "outputs": [
    {
     "name": "stdout",
     "output_type": "stream",
     "text": [
      "██████████████████████████████████████████████████\n",
      "Average Tip Percentages for Weekends and Weekdays\n",
      "Day Type: Weekday -> Average Tip Percentage: 16.33%\n",
      "Day Type: Weekend -> Average Tip Percentage: 15.96%\n"
     ]
    }
   ],
   "source": [
    "def q11():\n",
    "    try:\n",
    "        # Connect to the SQLite database\n",
    "        with sqlite3.connect('tips.db') as conn:\n",
    "            cursor = conn.cursor()\n",
    "\n",
    "            # Query from the table\n",
    "            query = '''\n",
    "                    SELECT \n",
    "                        CASE\n",
    "                            WHEN day IN ('Sat', 'Sun') THEN 'Weekend'\n",
    "                            ELSE 'Weekday'\n",
    "                        END AS day_type,\n",
    "                        AVG(tip / total_bill * 100)\n",
    "                    FROM tips_table\n",
    "                    GROUP BY day_type\n",
    "                    '''\n",
    "\n",
    "            # Execute the query and fetch all of the results into variable 'rows'\n",
    "            cursor.execute(query)\n",
    "            rows = cursor.fetchall()\n",
    "\n",
    "            print(\"██████████████████████████████████████████████████\")\n",
    "            print(\"Average Tip Percentages for Weekends and Weekdays\")\n",
    "            for day_type, avg_tip_perc in rows:\n",
    "                print(f\"Day Type: {day_type} -> Average Tip Percentage: {avg_tip_perc:.2f}%\")\n",
    "\n",
    "    except sqlite3.Error as error:\n",
    "        print(f'An error occurred when performing the q11 operation on the SQL db table -> {error}')\n",
    "\n",
    "q11()"
   ]
  },
  {
   "cell_type": "markdown",
   "id": "2ff7e6f6",
   "metadata": {},
   "source": [
    "**Find the 3 days with the largest average party size and total bill, and provide the average tip percentage for each of these days.**"
   ]
  },
  {
   "cell_type": "code",
   "execution_count": 4,
   "id": "6dd93861",
   "metadata": {},
   "outputs": [
    {
     "name": "stdout",
     "output_type": "stream",
     "text": [
      "██████████████████████████████████████████████████████████████\n",
      "Top 3 Days with the Largest Average Party Size and Total Bill\n",
      "Day: Sun, Avg Party Size: 2.84, Avg Total Bill: $21.41 -> Avg Tip Percentage: 16.69%\n",
      "Day: Sat, Avg Party Size: 2.52, Avg Total Bill: $20.44 -> Avg Tip Percentage: 15.32%\n",
      "Day: Thur, Avg Party Size: 2.45, Avg Total Bill: $17.68 -> Avg Tip Percentage: 16.13%\n"
     ]
    }
   ],
   "source": [
    "def q12():\n",
    "    try:\n",
    "        # Connect to the SQLite database\n",
    "        with sqlite3.connect('tips.db') as conn:\n",
    "            cursor = conn.cursor()\n",
    "\n",
    "            # Query from the table\n",
    "            query = '''\n",
    "                    SELECT\n",
    "                        day,\n",
    "                        AVG(size) AS avg_size,\n",
    "                        AVG(total_bill) AS avg_tot_bill,\n",
    "                        AVG(tip / total_bill * 100)\n",
    "                    FROM tips_table\n",
    "                    GROUP BY day\n",
    "                    ORDER BY avg_size DESC, avg_tot_bill DESC\n",
    "                    LIMIT 3\n",
    "                    '''\n",
    "\n",
    "            # Execute the query and fetch all of the results into variable 'rows'\n",
    "            cursor.execute(query)\n",
    "            rows = cursor.fetchall()\n",
    "\n",
    "            print(\"██████████████████████████████████████████████████████████████\")\n",
    "            print(\"Top 3 Days with the Largest Average Party Size and Total Bill\")\n",
    "            for day, avg_party_size, avg_total_bill, avg_tip_percentage in rows:\n",
    "                print(f\"Day: {day}, Avg Party Size: {avg_party_size:.2f}, Avg Total Bill: ${avg_total_bill:.2f} -> Avg Tip Percentage: {avg_tip_percentage:.2f}%\")\n",
    "\n",
    "    except sqlite3.Error as error:\n",
    "        print(f'An error occurred when performing the q12 operation on the SQL db table -> {error}')\n",
    "\n",
    "q12()"
   ]
  },
  {
   "cell_type": "markdown",
   "id": "3c89f0c9",
   "metadata": {},
   "source": [
    "**Find the total number of parties served each day, grouped by smoker status and sorted by the average party size in descending order.**"
   ]
  },
  {
   "cell_type": "code",
   "execution_count": 5,
   "id": "7878101c",
   "metadata": {},
   "outputs": [
    {
     "name": "stdout",
     "output_type": "stream",
     "text": [
      "█████████████████████████████████████████████████████████████████████████████████████████\n",
      "Total # of parties by day and smoker status, with the average size of each day's parties\n",
      "Day: Sun, Smoker: No -> Total Parties: 57, Average Size: 2.93\n",
      "Day: Sun, Smoker: Yes -> Total Parties: 19, Average Size: 2.58\n",
      "Day: Sat, Smoker: No -> Total Parties: 45, Average Size: 2.56\n",
      "Day: Thur, Smoker: No -> Total Parties: 45, Average Size: 2.49\n",
      "Day: Sat, Smoker: Yes -> Total Parties: 42, Average Size: 2.48\n",
      "Day: Thur, Smoker: Yes -> Total Parties: 17, Average Size: 2.35\n",
      "Day: Fri, Smoker: No -> Total Parties: 4, Average Size: 2.25\n",
      "Day: Fri, Smoker: Yes -> Total Parties: 15, Average Size: 2.07\n"
     ]
    }
   ],
   "source": [
    "def q13():\n",
    "    try:\n",
    "        # Connect to the SQLite database\n",
    "        with sqlite3.connect('tips.db') as conn:\n",
    "            cursor = conn.cursor()\n",
    "\n",
    "            # Query from the table\n",
    "            query = '''\n",
    "                    SELECT\n",
    "                        day,\n",
    "                        smoker,\n",
    "                        COUNT(*),\n",
    "                        AVG(size) AS avg_size\n",
    "                    FROM tips_table\n",
    "                    GROUP BY day, smoker\n",
    "                    ORDER BY avg_size DESC;\n",
    "                    '''\n",
    "\n",
    "            # Execute the query and fetch all of the results into variable 'rows'\n",
    "            cursor.execute(query)\n",
    "            rows = cursor.fetchall()\n",
    "\n",
    "            print(\"█████████████████████████████████████████████████████████████████████████████████████████\")\n",
    "            print(\"Total # of parties by day and smoker status, with the average size of each day's parties\")\n",
    "            for day, smoker, tot_parties, avg_size in rows:\n",
    "                print(f\"Day: {day}, Smoker: {smoker} -> Total Parties: {tot_parties}, Average Size: {avg_size:.2f}\")\n",
    "\n",
    "    except sqlite3.Error as error:\n",
    "        print(f'An error occurred when performing the q13 operation on the SQL db table -> {error}')\n",
    "\n",
    "q13()"
   ]
  },
  {
   "cell_type": "markdown",
   "id": "d47d92f3",
   "metadata": {},
   "source": [
    "**Find the average tip percentage for each combination of sex and time of day, and identify which combination has the highest average tip percentage.**"
   ]
  },
  {
   "cell_type": "code",
   "execution_count": 6,
   "id": "97c8f54e",
   "metadata": {},
   "outputs": [
    {
     "name": "stdout",
     "output_type": "stream",
     "text": [
      "████████████████████████████████████████████████████████\n",
      "The combination with the highest average tip percentage\n",
      "Sex: Female, Time: Dinner -> Average Tip Percentage: 16.93%\n"
     ]
    }
   ],
   "source": [
    "def q14():\n",
    "    try:\n",
    "        # Connect to the SQLite database\n",
    "        with sqlite3.connect('tips.db') as conn:\n",
    "            cursor = conn.cursor()\n",
    "\n",
    "            # Query from the table\n",
    "            query = '''\n",
    "                    SELECT\n",
    "                        sex,\n",
    "                        time,\n",
    "                        AVG(tip / total_bill * 100) AS avg_tip\n",
    "                    FROM tips_table\n",
    "                    GROUP BY sex, time\n",
    "                    ORDER BY avg_tip DESC\n",
    "                    LIMIT 1\n",
    "                    '''\n",
    "\n",
    "            # Execute the query and fetch all of the results into variable 'rows'\n",
    "            cursor.execute(query)\n",
    "            rows = cursor.fetchone()\n",
    "\n",
    "            sex, time, average_tip_percentage = rows\n",
    "\n",
    "            print(\"████████████████████████████████████████████████████████\")\n",
    "            print(f\"The combination with the highest average tip percentage\")\n",
    "            print(f\"Sex: {sex}, Time: {time} -> Average Tip Percentage: {average_tip_percentage:.2f}%\")\n",
    "\n",
    "    except sqlite3.Error as error:\n",
    "        print(f'An error occurred when performing the q14 operation on the SQL db table -> {error}')\n",
    "\n",
    "q14()"
   ]
  },
  {
   "cell_type": "markdown",
   "id": "6769b4d1",
   "metadata": {},
   "source": [
    "**Find the average tip amount for each party size with a total bill greater than $25, and place an emphasis on party sizes with an average tip above $3.**"
   ]
  },
  {
   "cell_type": "code",
   "execution_count": 7,
   "id": "ec9b46ee",
   "metadata": {},
   "outputs": [
    {
     "name": "stdout",
     "output_type": "stream",
     "text": [
      "██████████████████████████████████████\n",
      "Party Sizes with Average Tip Above $3\n",
      "Party Size: 6, Average Tip Amount: $5.22\n",
      "Party Size: 4, Average Tip Amount: $4.94\n",
      "Party Size: 3, Average Tip Amount: $4.46\n",
      "Party Size: 5, Average Tip Amount: $3.79\n",
      "Party Size: 2, Average Tip Amount: $3.18\n"
     ]
    }
   ],
   "source": [
    "def q15():\n",
    "    try:\n",
    "        # Connect to the SQLite database\n",
    "        with sqlite3.connect('tips.db') as conn:\n",
    "            cursor = conn.cursor()\n",
    "\n",
    "            # Query from the table\n",
    "            query = '''\n",
    "                    SELECT\n",
    "                        size,\n",
    "                        AVG(tip) AS avg_tip\n",
    "                    FROM tips_table\n",
    "                    WHERE total_bill > 25\n",
    "                    GROUP BY size\n",
    "                    HAVING avg_tip > 3\n",
    "                    ORDER BY avg_tip DESC\n",
    "                    '''\n",
    "\n",
    "            # Execute the query and fetch all of the results into variable 'rows'\n",
    "            cursor.execute(query)\n",
    "            rows = cursor.fetchall()\n",
    "\n",
    "            print(\"██████████████████████████████████████\")\n",
    "            print(\"Party Sizes with Average Tip Above $3\")\n",
    "            for party_size, average_tip_amount in rows:\n",
    "                print(f\"Party Size: {party_size}, Average Tip Amount: ${average_tip_amount:.2f}\")\n",
    "\n",
    "    except sqlite3.Error as error:\n",
    "        print(f'An error occurred when performing the q15 operation on the SQL db table -> {error}')\n",
    "\n",
    "q15()"
   ]
  },
  {
   "cell_type": "markdown",
   "id": "4c3b195e",
   "metadata": {},
   "source": [
    "**UPDATE - It was determined that there was an error in the database. Please update the record that corresponds to id=10 and set smoker to Yes.**"
   ]
  },
  {
   "cell_type": "code",
   "execution_count": 8,
   "id": "8bb0cb7e",
   "metadata": {},
   "outputs": [],
   "source": [
    "def update():\n",
    "    try:\n",
    "        # Connect to the SQLite database\n",
    "        with sqlite3.connect('tips.db') as conn:\n",
    "            cursor = conn.cursor()\n",
    "\n",
    "            # Update the record where id = 10 and set smoker to 'Yes'\n",
    "            query = '''\n",
    "                    UPDATE tips_table\n",
    "                    SET smoker = 'Yes'\n",
    "                    WHERE \"index\" = 10\n",
    "                    '''\n",
    "            \n",
    "            cursor.execute(query)\n",
    "            conn.commit()  # Commit the changes\n",
    "\n",
    "    except sqlite3.Error as error:\n",
    "        print(f'An error occurred when performing the UPDATE operation on the SQL db table -> {error}')\n",
    "\n",
    "update()"
   ]
  },
  {
   "cell_type": "code",
   "execution_count": 9,
   "id": "9402549f",
   "metadata": {},
   "outputs": [
    {
     "name": "stdout",
     "output_type": "stream",
     "text": [
      "(10, 10.27, 1.71, 'Male', 'Yes', 'Sun', 'Dinner', 2)\n"
     ]
    }
   ],
   "source": [
    "def check_update():\n",
    "    try:\n",
    "        # Connect to the SQLite database\n",
    "        with sqlite3.connect('tips.db') as conn:\n",
    "            cursor = conn.cursor()\n",
    "\n",
    "            # Query to select all records from the table\n",
    "            select_query = 'SELECT * FROM tips_table WHERE \"index\" = 10'\n",
    "            cursor.execute(select_query)\n",
    "\n",
    "            # Fetch all rows from the table\n",
    "            rows = cursor.fetchall()\n",
    "\n",
    "            # Print the rows to view the database contents\n",
    "            for row in rows:\n",
    "                print(row)\n",
    "\n",
    "    except sqlite3.Error as error:\n",
    "        print(f'An error occurred: {error}')\n",
    "\n",
    "check_update()"
   ]
  },
  {
   "cell_type": "markdown",
   "id": "08ec6a32",
   "metadata": {},
   "source": [
    "**DELETE - Delete records from the database that have a total bill that is less than $10.**"
   ]
  },
  {
   "cell_type": "code",
   "execution_count": 10,
   "id": "848e36b5",
   "metadata": {},
   "outputs": [],
   "source": [
    "def delete():\n",
    "    try:\n",
    "        # Connect to the SQLite database\n",
    "        with sqlite3.connect('tips.db') as conn:\n",
    "            cursor = conn.cursor()\n",
    "\n",
    "            # Update the record where id = 10 and set smoker to 'Yes'\n",
    "            query = 'DELETE FROM tips_table WHERE total_bill < 10'\n",
    "            \n",
    "            cursor.execute(query)\n",
    "            conn.commit()  # Commit the changes\n",
    "\n",
    "    except sqlite3.Error as error:\n",
    "        print(f'An error occurred when performing the DELETE operation on the SQL db table -> {error}')\n",
    "\n",
    "delete()"
   ]
  },
  {
   "cell_type": "code",
   "execution_count": 11,
   "id": "59319e00",
   "metadata": {},
   "outputs": [],
   "source": [
    "def check_delete():\n",
    "    try:\n",
    "        # Connect to the SQLite database\n",
    "        with sqlite3.connect('tips.db') as conn:\n",
    "            cursor = conn.cursor()\n",
    "\n",
    "            # Query to select all records from the table\n",
    "            select_query = 'SELECT * FROM tips_table WHERE total_bill < 10'\n",
    "            cursor.execute(select_query)\n",
    "\n",
    "            # Fetch all rows from the table\n",
    "            rows = cursor.fetchall()\n",
    "\n",
    "            # Print the rows to view the database contents\n",
    "            for row in rows:\n",
    "                print(row)\n",
    "\n",
    "    except sqlite3.Error as error:\n",
    "        print(f'An error occurred: {error}')\n",
    "\n",
    "check_delete()"
   ]
  }
 ],
 "metadata": {
  "kernelspec": {
   "display_name": "Python 3 (ipykernel)",
   "language": "python",
   "name": "python3"
  },
  "language_info": {
   "codemirror_mode": {
    "name": "ipython",
    "version": 3
   },
   "file_extension": ".py",
   "mimetype": "text/x-python",
   "name": "python",
   "nbconvert_exporter": "python",
   "pygments_lexer": "ipython3",
   "version": "3.10.11"
  }
 },
 "nbformat": 4,
 "nbformat_minor": 5
}
