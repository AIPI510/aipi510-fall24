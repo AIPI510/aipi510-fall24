{
 "cells": [
  {
   "cell_type": "markdown",
   "metadata": {},
   "source": [
    "# Exploratory Data Analysis (Assignment # 4) - Team Forever Loop\n",
    "\n",
    "**Authors:** Santosh Ganesan, Haran Nallasivan\n",
    "\n",
    "**Date:** 23 September 2024\n",
    "\n",
    "## Running this notebook\n",
    "\n",
    "TODO: add instructions for running this notebook\n",
    "\n",
    "## Introduction\n",
    "\n",
    "TODO: talk about the data and the purpose of this exercise\n",
    "\n",
    "## Data sourcing\n",
    "\n",
    "TODO: imports and script to pull in data into dataframes/SQLite table as appropriate\n"
   ]
  },
  {
   "cell_type": "code",
   "execution_count": 11,
   "metadata": {},
   "outputs": [
   ],
   "source": [
    "# Import statements\n",
    "import pandas as pd\n",
    "from pathlib import Path\n",
    "\n",
    "Path('./data').mkdir(exist_ok=True)\n",
    "\n",
    "# Helper function for extracting and persisting data\n",
    "def extract_df(csv_name):\n",
    "    '''\n",
    "    Extracts dataframe from the data set given a CSV filename. Persists locally to avoid redudant network calls and unnecessary load on Github.\n",
    "\n",
    "    Parameters:\n",
    "        csv_name (str) - CSV filename, e.g. \"blood_pressure\"\n",
    "    Returns:\n",
    "        A pandas dataframe\n",
    "    '''\n",
    "    try:\n",
    "        return pd.read_csv(f'./data/{csv_name}.csv')\n",
    "    except:\n",
    "        df = pd.read_csv(f'https://raw.githubusercontent.com/Welltory/hrv-covid19/refs/heads/master/data/{csv_name}.csv')\n",
    "        df.to_csv(f'./data/{csv_name}.csv')\n",
    "        return df\n",
    "\n",
    "# Loaading the data frames\n",
    "csv_names = ['blood_pressure', 'heart_rate', 'hrv_measurements', 'participants', 'scales_description', 'sleep', 'surveys', 'wearables', 'weather']\n",
    "df = {}\n",
    "for csv_name in csv_names:\n",
    "    df[csv_name] = extract_df(csv_name)\n",
    "df['blood_pressure'].head(2)"
   ]
  },
  {
   "cell_type": "markdown",
   "metadata": {},
   "source": [
    "\n",
    "\n",
    "## Preliminary analysis\n",
    "\n",
    "TODO: blurb on what we'll do in this section\n",
    "\n",
    "### Data structure\n",
    "\n",
    "TODO: depict the data structure(s) and provide a description\n"
   ]
  },
  {
   "cell_type": "markdown",
   "metadata": {},
   "source": [
    "\n",
    "\n",
    "### Descriptive statistics\n",
    "\n",
    "TODO: Output some descriptive statistics and plots\n"
   ]
  },
  {
   "cell_type": "code",
   "execution_count": null,
   "metadata": {},
   "outputs": [],
   "source": []
  },
  {
   "cell_type": "markdown",
   "metadata": {},
   "source": [
    "\n",
    "\n",
    "### Data quality\n",
    "\n",
    "TODO: preliminary data quality analysis (missing values, duplicates, outliers, variance)\n"
   ]
  },
  {
   "cell_type": "code",
   "execution_count": null,
   "metadata": {},
   "outputs": [],
   "source": []
  },
  {
   "cell_type": "markdown",
   "metadata": {},
   "source": [
    "\n",
    "\n",
    "### Variable relationships\n",
    "\n",
    "TODO: correlation analysis between features of the data \n"
   ]
  },
  {
   "cell_type": "code",
   "execution_count": null,
   "metadata": {},
   "outputs": [],
   "source": []
  },
  {
   "cell_type": "markdown",
   "metadata": {},
   "source": [
    "\n",
    "\n",
    "## Data cleaning\n",
    "\n",
    "TODO: intro blurb on what we'll do in this section\n"
   ]
  },
  {
   "cell_type": "markdown",
   "metadata": {},
   "source": [
    "\n",
    "\n",
    "### Handling missing values\n",
    "\n",
    "TODO: remove missing values identified in previous data quality section\n"
   ]
  },
  {
   "cell_type": "code",
   "execution_count": null,
   "metadata": {},
   "outputs": [],
   "source": []
  },
  {
   "cell_type": "markdown",
   "metadata": {},
   "source": [
    "\n",
    "\n",
    "### Handling duplicates\n",
    "\n",
    "TODO: remove duplicates identified in previous data quality section\n"
   ]
  },
  {
   "cell_type": "code",
   "execution_count": null,
   "metadata": {},
   "outputs": [],
   "source": []
  },
  {
   "cell_type": "markdown",
   "metadata": {},
   "source": [
    "\n",
    "\n",
    "### Handling outliers\n",
    "\n",
    "TODO: remove outliers identified in previous data quality section\n"
   ]
  },
  {
   "cell_type": "code",
   "execution_count": null,
   "metadata": {},
   "outputs": [],
   "source": []
  },
  {
   "cell_type": "markdown",
   "metadata": {},
   "source": [
    "\n",
    "\n",
    "## Post-cleaning analysis\n",
    "\n",
    "TODO: intro blurb on what we'll cover in this section\n",
    "\n",
    "### A new feature\n",
    "\n",
    "TODO: devise a new feature and analyze the feature\n"
   ]
  },
  {
   "cell_type": "code",
   "execution_count": null,
   "metadata": {},
   "outputs": [],
   "source": []
  },
  {
   "cell_type": "markdown",
   "metadata": {},
   "source": [
    "\n",
    "\n",
    "### Dimensionality reduction\n",
    "\n",
    "TODO: employ a dimensionality reduction technique\n"
   ]
  },
  {
   "cell_type": "code",
   "execution_count": null,
   "metadata": {},
   "outputs": [],
   "source": []
  },
  {
   "cell_type": "markdown",
   "metadata": {},
   "source": [
    "\n",
    "\n",
    "### Data quality assessment\n",
    "\n",
    "TODO: intro blurb on what we'll cover in this section\n"
   ]
  },
  {
   "cell_type": "code",
   "execution_count": null,
   "metadata": {},
   "outputs": [],
   "source": []
  },
  {
   "cell_type": "markdown",
   "metadata": {},
   "source": [
    "\n",
    "\n",
    "#### Data profiling\n",
    "\n",
    "TODO: data profiling analysis\n"
   ]
  },
  {
   "cell_type": "code",
   "execution_count": null,
   "metadata": {},
   "outputs": [],
   "source": []
  },
  {
   "cell_type": "markdown",
   "metadata": {},
   "source": [
    "\n",
    "\n",
    "#### Data completeness\n",
    "\n",
    "TODO: data completeness analysis\n"
   ]
  },
  {
   "cell_type": "code",
   "execution_count": null,
   "metadata": {},
   "outputs": [],
   "source": []
  },
  {
   "cell_type": "markdown",
   "metadata": {},
   "source": [
    "\n",
    "\n",
    "#### Data accuracy\n",
    "\n",
    "TODO: data accuracy anaalysis\n"
   ]
  },
  {
   "cell_type": "code",
   "execution_count": null,
   "metadata": {},
   "outputs": [],
   "source": []
  },
  {
   "cell_type": "markdown",
   "metadata": {},
   "source": [
    "#### Data consistency\n",
    "\n",
    "TODO: data consistency analysis"
   ]
  },
  {
   "cell_type": "code",
   "execution_count": null,
   "metadata": {},
   "outputs": [],
   "source": []
  },
  {
   "cell_type": "markdown",
   "metadata": {},
   "source": [
    "\n",
    "\n",
    "#### Data integrity\n",
    "\n",
    "TODO: data integrity analysis\n"
   ]
  },
  {
   "cell_type": "code",
   "execution_count": null,
   "metadata": {},
   "outputs": [],
   "source": []
  },
  {
   "cell_type": "markdown",
   "metadata": {},
   "source": [
    "\n",
    "\n",
    "#### Data lineage\n",
    "\n",
    "TODO: data lineage analysis\n"
   ]
  },
  {
   "cell_type": "code",
   "execution_count": null,
   "metadata": {},
   "outputs": [],
   "source": []
  },
  {
   "cell_type": "markdown",
   "metadata": {},
   "source": [
    "\n",
    "\n",
    "#### Data provenance\n",
    "\n",
    "TODO: data provenance analysis\n"
   ]
  },
  {
   "cell_type": "code",
   "execution_count": null,
   "metadata": {},
   "outputs": [],
   "source": []
  },
  {
   "cell_type": "markdown",
   "metadata": {},
   "source": [
    "\n",
    "\n",
    "## Reference\n",
    "\n",
    "Pravdin, Pavel (2022). *Welltory COVID-19 and Wearables Open Data Research [dataset].* 22 July 2022. Welltory Inc. CC0-1.0 License. https://github.com/Welltory/hrv-covid19"
   ]
  }
 ],
 "metadata": {
  "kernelspec": {
   "display_name": ".venv",
   "language": "python",
   "name": "python3"
  },
  "language_info": {
   "codemirror_mode": {
    "name": "ipython",
    "version": 3
   },
   "file_extension": ".py",
   "mimetype": "text/x-python",
   "name": "python",
   "nbconvert_exporter": "python",
   "pygments_lexer": "ipython3",
   "version": "3.11.10"
  }
 },
 "nbformat": 4,
 "nbformat_minor": 2
}
