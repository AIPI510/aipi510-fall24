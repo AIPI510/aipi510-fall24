{
 "cells": [
  {
   "cell_type": "markdown",
   "metadata": {},
   "source": [
    "# Exploratory Data Analysis (Assignment # 4) - Team Forever Loop\n",
    "\n",
    "**Authors:** Santosh Ganesan, Haran Nallasivan\n",
    "\n",
    "**Date:** 23 September 2024\n",
    "\n",
    "## Running this notebook\n",
    "\n",
    "TODO: add instructions for running this notebook\n",
    "\n",
    "## Introduction\n",
    "\n",
    "The Welltory COVID-19 and Wearables Open Data Research [1] dataset contains a wealth of data from wearables worn by participants that both had and didn't have COVID-19. A problem that we were interested in exploring was predictability of COVID-19 based on this biometeric data. For this particular analysis, our hypothesis is that a participant's height, weight, gender, and variance in systolic/diastolic blood pressure are markers for COVID-19 detection.\n",
    "\n",
    "## Data sourcing\n",
    "\n",
    "TODO: imports and script to pull in data into dataframes/SQLite table as appropriate\n"
   ]
  },
  {
   "cell_type": "code",
   "execution_count": 1,
   "metadata": {},
   "outputs": [
    {
     "data": {
      "text/html": [
       "<div>\n",
       "<style scoped>\n",
       "    .dataframe tbody tr th:only-of-type {\n",
       "        vertical-align: middle;\n",
       "    }\n",
       "\n",
       "    .dataframe tbody tr th {\n",
       "        vertical-align: top;\n",
       "    }\n",
       "\n",
       "    .dataframe thead th {\n",
       "        text-align: right;\n",
       "    }\n",
       "</style>\n",
       "<table border=\"1\" class=\"dataframe\">\n",
       "  <thead>\n",
       "    <tr style=\"text-align: right;\">\n",
       "      <th></th>\n",
       "      <th>user_code</th>\n",
       "      <th>measurement_datetime</th>\n",
       "      <th>diastolic</th>\n",
       "      <th>systolic</th>\n",
       "      <th>functional_changes_index</th>\n",
       "      <th>circulatory_efficiency</th>\n",
       "      <th>kerdo_vegetation_index</th>\n",
       "      <th>robinson_index</th>\n",
       "    </tr>\n",
       "  </thead>\n",
       "  <tbody>\n",
       "    <tr>\n",
       "      <th>0</th>\n",
       "      <td>01bad5a519</td>\n",
       "      <td>2020-04-29  22:33:33</td>\n",
       "      <td>100</td>\n",
       "      <td>150</td>\n",
       "      <td>NaN</td>\n",
       "      <td>NaN</td>\n",
       "      <td>NaN</td>\n",
       "      <td>NaN</td>\n",
       "    </tr>\n",
       "    <tr>\n",
       "      <th>1</th>\n",
       "      <td>01bad5a519</td>\n",
       "      <td>2020-04-30  01:33:33</td>\n",
       "      <td>100</td>\n",
       "      <td>150</td>\n",
       "      <td>NaN</td>\n",
       "      <td>NaN</td>\n",
       "      <td>NaN</td>\n",
       "      <td>NaN</td>\n",
       "    </tr>\n",
       "  </tbody>\n",
       "</table>\n",
       "</div>"
      ],
      "text/plain": [
       "    user_code  measurement_datetime  diastolic  systolic  \\\n",
       "0  01bad5a519  2020-04-29  22:33:33        100       150   \n",
       "1  01bad5a519  2020-04-30  01:33:33        100       150   \n",
       "\n",
       "   functional_changes_index  circulatory_efficiency  kerdo_vegetation_index  \\\n",
       "0                       NaN                     NaN                     NaN   \n",
       "1                       NaN                     NaN                     NaN   \n",
       "\n",
       "   robinson_index  \n",
       "0             NaN  \n",
       "1             NaN  "
      ]
     },
     "execution_count": 1,
     "metadata": {},
     "output_type": "execute_result"
    }
   ],
   "source": [
    "# Import statements\n",
    "import pandas as pd\n",
    "from pathlib import Path\n",
    "\n",
    "Path('./data').mkdir(exist_ok=True)\n",
    "\n",
    "# Helper function for extracting and persisting data\n",
    "def extract_df(csv_name):\n",
    "    '''\n",
    "    Extracts dataframe from the data set given a CSV filename. Persists locally to avoid redudant network calls and unnecessary load on Github.\n",
    "\n",
    "    Parameters:\n",
    "        csv_name (str) - CSV filename, e.g. \"blood_pressure\"\n",
    "    Returns:\n",
    "        A pandas dataframe\n",
    "    '''\n",
    "    try:\n",
    "        return pd.read_csv(f'./data/{csv_name}.csv')\n",
    "    except:\n",
    "        df = pd.read_csv(f'https://raw.githubusercontent.com/Welltory/hrv-covid19/refs/heads/master/data/{csv_name}.csv')\n",
    "        df.to_csv(f'./data/{csv_name}.csv')\n",
    "        return df\n",
    "\n",
    "# Loaading the data frames\n",
    "csv_names = ['blood_pressure', 'participants']\n",
    "df = {}\n",
    "for csv_name in csv_names:\n",
    "    df[csv_name] = extract_df(csv_name)\n",
    "df['blood_pressure'].head(2)"
   ]
  },
  {
   "cell_type": "markdown",
   "metadata": {},
   "source": [
    "\n",
    "\n",
    "## Preliminary analysis\n",
    "\n",
    "TODO: blurb on what we'll do in this section\n",
    "\n",
    "### Data structure\n",
    "\n",
    "In this section, we'll explore the data structures in this data set captured in the individual CSVs (extracted as Pandas dataframes above) and talk about missing data.\n",
    "\n",
    "**Blood Pressure:**\n"
   ]
  },
  {
   "cell_type": "code",
   "execution_count": 2,
   "metadata": {},
   "outputs": [
    {
     "name": "stdout",
     "output_type": "stream",
     "text": [
      "<class 'pandas.core.frame.DataFrame'>\n",
      "RangeIndex: 721 entries, 0 to 720\n",
      "Data columns (total 9 columns):\n",
      " #   Column                    Non-Null Count  Dtype  \n",
      "---  ------                    --------------  -----  \n",
      " 0   Unnamed: 0                721 non-null    int64  \n",
      " 1   user_code                 721 non-null    object \n",
      " 2   measurement_datetime      721 non-null    object \n",
      " 3   diastolic                 721 non-null    int64  \n",
      " 4   systolic                  721 non-null    int64  \n",
      " 5   functional_changes_index  299 non-null    float64\n",
      " 6   circulatory_efficiency    299 non-null    float64\n",
      " 7   kerdo_vegetation_index    283 non-null    float64\n",
      " 8   robinson_index            299 non-null    float64\n",
      "dtypes: float64(4), int64(3), object(2)\n",
      "memory usage: 50.8+ KB\n"
     ]
    }
   ],
   "source": [
    "df['blood_pressure'].info()"
   ]
  },
  {
   "cell_type": "markdown",
   "metadata": {},
   "source": [
    "The `user_code` column contains strings that captures a unique identifier of each participant in this study. The data for this column has no missing values.\n",
    "\n",
    "The `measurement_datetime` column contains strings that captures the date and time at which the measurement was recorded. The data for this column has no missing values.\n",
    "\n",
    "The `diastolic` and `systolic` columns contain integers that capture the systolic and diastolic blood pressures of the participant. The data for this column has no missing values.\n",
    "\n",
    "The `functional_changes_index` column contains 64-bit floating point numbers that assess how well the participant's body can adapt to stressors. This is based on the participant's height, weight, and gender.\n",
    "\n",
    "The `circulatory_efficiency` column contains 64-bit floating point numbers that assess the body's readiness to cope with pressure.\n",
    "\n"
   ]
  },
  {
   "cell_type": "markdown",
   "metadata": {},
   "source": [
    "\n",
    "\n",
    "**Participants:**\n"
   ]
  },
  {
   "cell_type": "code",
   "execution_count": 6,
   "metadata": {},
   "outputs": [
    {
     "name": "stdout",
     "output_type": "stream",
     "text": [
      "<class 'pandas.core.frame.DataFrame'>\n",
      "RangeIndex: 185 entries, 0 to 184\n",
      "Data columns (total 9 columns):\n",
      " #   Column          Non-Null Count  Dtype  \n",
      "---  ------          --------------  -----  \n",
      " 0   Unnamed: 0      185 non-null    int64  \n",
      " 1   user_code       185 non-null    object \n",
      " 2   gender          185 non-null    object \n",
      " 3   age_range       185 non-null    object \n",
      " 4   city            173 non-null    object \n",
      " 5   country         179 non-null    object \n",
      " 6   height          183 non-null    float64\n",
      " 7   weight          185 non-null    float64\n",
      " 8   symptoms_onset  147 non-null    object \n",
      "dtypes: float64(2), int64(1), object(6)\n",
      "memory usage: 13.1+ KB\n"
     ]
    }
   ],
   "source": [
    "df['participants'].info()"
   ]
  },
  {
   "cell_type": "markdown",
   "metadata": {},
   "source": [
    "\n",
    "\n",
    "### Descriptive statistics\n",
    "\n",
    "TODO: Output some descriptive statistics and plots\n"
   ]
  },
  {
   "cell_type": "code",
   "execution_count": null,
   "metadata": {},
   "outputs": [],
   "source": []
  },
  {
   "cell_type": "markdown",
   "metadata": {},
   "source": [
    "\n",
    "\n",
    "### Data quality\n",
    "\n",
    "TODO: preliminary data quality analysis (missing values, duplicates, outliers, variance)\n"
   ]
  },
  {
   "cell_type": "code",
   "execution_count": null,
   "metadata": {},
   "outputs": [],
   "source": []
  },
  {
   "cell_type": "markdown",
   "metadata": {},
   "source": [
    "\n",
    "\n",
    "### Variable relationships\n",
    "\n",
    "TODO: correlation analysis between features of the data \n"
   ]
  },
  {
   "cell_type": "code",
   "execution_count": null,
   "metadata": {},
   "outputs": [],
   "source": []
  },
  {
   "cell_type": "markdown",
   "metadata": {},
   "source": [
    "\n",
    "\n",
    "## Data cleaning\n",
    "\n",
    "TODO: intro blurb on what we'll do in this section\n"
   ]
  },
  {
   "cell_type": "markdown",
   "metadata": {},
   "source": [
    "\n",
    "\n",
    "### Handling missing values\n",
    "\n",
    "TODO: remove missing values identified in previous data quality section\n"
   ]
  },
  {
   "cell_type": "code",
   "execution_count": null,
   "metadata": {},
   "outputs": [],
   "source": []
  },
  {
   "cell_type": "markdown",
   "metadata": {},
   "source": [
    "\n",
    "\n",
    "### Handling duplicates\n",
    "\n",
    "TODO: remove duplicates identified in previous data quality section\n"
   ]
  },
  {
   "cell_type": "code",
   "execution_count": null,
   "metadata": {},
   "outputs": [],
   "source": []
  },
  {
   "cell_type": "markdown",
   "metadata": {},
   "source": [
    "\n",
    "\n",
    "### Handling outliers\n",
    "\n",
    "TODO: remove outliers identified in previous data quality section\n"
   ]
  },
  {
   "cell_type": "code",
   "execution_count": null,
   "metadata": {},
   "outputs": [],
   "source": []
  },
  {
   "cell_type": "markdown",
   "metadata": {},
   "source": [
    "\n",
    "\n",
    "## Post-cleaning analysis\n",
    "\n",
    "TODO: intro blurb on what we'll cover in this section\n",
    "\n",
    "### A new feature\n",
    "\n",
    "TODO: devise a new feature and analyze the feature\n"
   ]
  },
  {
   "cell_type": "code",
   "execution_count": null,
   "metadata": {},
   "outputs": [],
   "source": []
  },
  {
   "cell_type": "markdown",
   "metadata": {},
   "source": [
    "\n",
    "\n",
    "### Dimensionality reduction\n",
    "\n",
    "TODO: employ a dimensionality reduction technique\n"
   ]
  },
  {
   "cell_type": "code",
   "execution_count": null,
   "metadata": {},
   "outputs": [],
   "source": []
  },
  {
   "cell_type": "markdown",
   "metadata": {},
   "source": [
    "\n",
    "\n",
    "### Data quality assessment\n",
    "\n",
    "TODO: intro blurb on what we'll cover in this section\n"
   ]
  },
  {
   "cell_type": "code",
   "execution_count": null,
   "metadata": {},
   "outputs": [],
   "source": []
  },
  {
   "cell_type": "markdown",
   "metadata": {},
   "source": [
    "\n",
    "\n",
    "#### Data profiling\n",
    "\n",
    "TODO: data profiling analysis\n"
   ]
  },
  {
   "cell_type": "code",
   "execution_count": null,
   "metadata": {},
   "outputs": [],
   "source": []
  },
  {
   "cell_type": "markdown",
   "metadata": {},
   "source": [
    "\n",
    "\n",
    "#### Data completeness\n",
    "\n",
    "TODO: data completeness analysis\n"
   ]
  },
  {
   "cell_type": "code",
   "execution_count": null,
   "metadata": {},
   "outputs": [],
   "source": []
  },
  {
   "cell_type": "markdown",
   "metadata": {},
   "source": [
    "\n",
    "\n",
    "#### Data accuracy\n",
    "\n",
    "TODO: data accuracy anaalysis\n"
   ]
  },
  {
   "cell_type": "code",
   "execution_count": null,
   "metadata": {},
   "outputs": [],
   "source": []
  },
  {
   "cell_type": "markdown",
   "metadata": {},
   "source": [
    "#### Data consistency\n",
    "\n",
    "TODO: data consistency analysis"
   ]
  },
  {
   "cell_type": "code",
   "execution_count": null,
   "metadata": {},
   "outputs": [],
   "source": []
  },
  {
   "cell_type": "markdown",
   "metadata": {},
   "source": [
    "\n",
    "\n",
    "#### Data integrity\n",
    "\n",
    "TODO: data integrity analysis\n"
   ]
  },
  {
   "cell_type": "code",
   "execution_count": null,
   "metadata": {},
   "outputs": [],
   "source": []
  },
  {
   "cell_type": "markdown",
   "metadata": {},
   "source": [
    "\n",
    "\n",
    "#### Data lineage\n",
    "\n",
    "TODO: data lineage analysis\n"
   ]
  },
  {
   "cell_type": "code",
   "execution_count": null,
   "metadata": {},
   "outputs": [],
   "source": []
  },
  {
   "cell_type": "markdown",
   "metadata": {},
   "source": [
    "\n",
    "\n",
    "#### Data provenance\n",
    "\n",
    "TODO: data provenance analysis\n"
   ]
  },
  {
   "cell_type": "code",
   "execution_count": null,
   "metadata": {},
   "outputs": [],
   "source": []
  },
  {
   "cell_type": "markdown",
   "metadata": {},
   "source": [
    "\n",
    "\n",
    "## Reference\n",
    "\n",
    "[1] Pravdin, Pavel (2022). *Welltory COVID-19 and Wearables Open Data Research [dataset].* 22 July 2022. Welltory Inc. CC0-1.0 License. https://github.com/Welltory/hrv-covid19"
   ]
  }
 ],
 "metadata": {
  "kernelspec": {
   "display_name": ".venv",
   "language": "python",
   "name": "python3"
  },
  "language_info": {
   "codemirror_mode": {
    "name": "ipython",
    "version": 3
   },
   "file_extension": ".py",
   "mimetype": "text/x-python",
   "name": "python",
   "nbconvert_exporter": "python",
   "pygments_lexer": "ipython3",
   "version": "3.11.10"
  }
 },
 "nbformat": 4,
 "nbformat_minor": 2
}
