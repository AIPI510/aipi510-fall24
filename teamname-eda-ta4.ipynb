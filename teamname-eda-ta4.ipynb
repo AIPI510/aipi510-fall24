{
 "cells": [
  {
   "cell_type": "markdown",
   "metadata": {},
   "source": [
    "## EDA on Welltory COVID-19 and Wearables Open Data Research dataset"
   ]
  },
  {
   "cell_type": "markdown",
   "metadata": {},
   "source": [
    "* authors: Zihao Yang, Tony Wang\n",
    "* Date: 09/22/2024\n",
    "* Reference: https://github.com/Welltory/hrv-covid19/tree/master"
   ]
  },
  {
   "cell_type": "code",
   "execution_count": 1,
   "metadata": {},
   "outputs": [],
   "source": [
    "# import dependencies\n",
    "import pandas as pd\n",
    "import os"
   ]
  },
  {
   "cell_type": "markdown",
   "metadata": {},
   "source": [
    "### Data Organization"
   ]
  },
  {
   "cell_type": "code",
   "execution_count": 2,
   "metadata": {},
   "outputs": [],
   "source": [
    "# extract data from .csv file to pandas dataframe\n",
    "\n",
    "blood_pressure=pd.read_csv('data/blood_pressure.csv').sort_values(by='user_code')\n",
    "heart_rate=pd.read_csv('data/heart_rate.csv').sort_values(by='user_code')\n",
    "hrv_measurements=pd.read_csv('data/hrv_measurements.csv').sort_values(by='user_code')\n",
    "participants=pd.read_csv('data/participants.csv').sort_values(by='user_code')\n",
    "scales_description=pd.read_csv('data/scales_description.csv')\n",
    "sleep=pd.read_csv('data/sleep.csv').sort_values(by='user_code')\n",
    "surveys=pd.read_csv('data/surveys.csv').sort_values(by='user_code')\n",
    "wearables=pd.read_csv('data/wearables.csv').sort_values(by='user_code')\n",
    "weather=pd.read_csv('data/weather.csv').sort_values(by='user_code')\n",
    "\n"
   ]
  },
  {
   "cell_type": "markdown",
   "metadata": {},
   "source": [
    "### 1. Data context and Datasampling"
   ]
  },
  {
   "cell_type": "markdown",
   "metadata": {},
   "source": [
    "#### Data Context\n",
    "* Source of the data:  \n",
    "  Those data includes symptoms, heart rate variability and data of users with positive COVID-19 status. Details are as follows:\n",
    "  (1) Heart rate variability measurements: Those measurements are from Bluetooth-enabled heart rate monitor or with PPG.\n",
    "  (2) User-connected gadgets: Those data are from devices such as Apple Watch and Garmin that sync with Google Fit or Apple Health.\n",
    "  (3) Clinically validated physical and mental health assessments data: Those data are from people adding information about symptoms and test results to a feature specifically for the project.\n",
    "* Time Period when the data was collected: From 12/31/2019 to 06/19/2020\n",
    "* Conditions and assumptions of data collection: COVID-19 Epidemic\n",
    "* Purpose of collecting the data: To detect patterns regarding the COVID-19 disease; progression and recovery.\n",
    "\n",
    "#### Data Sampling\n",
    "* Source of the data:   \n",
    "  (1) Purposive Sampling: Researchers choose users with positive COVID-19 status as data point because they think health data from those individuals are more representive or informative.    \n",
    "  (2) Convenience Sampling: Researchers choose data from Welltory App uploaded by users because of their convenient accessibility and proximity.\n"
   ]
  },
  {
   "cell_type": "markdown",
   "metadata": {},
   "source": [
    "### 2. Explore and Intepret data structure, descriptive statistics, data quality and varaible relationships\n"
   ]
  },
  {
   "cell_type": "markdown",
   "metadata": {},
   "source": [
    "#### DataFrame Strucutre"
   ]
  },
  {
   "cell_type": "code",
   "execution_count": 3,
   "metadata": {},
   "outputs": [
    {
     "name": "stdout",
     "output_type": "stream",
     "text": [
      "<class 'pandas.core.frame.DataFrame'>\n",
      "Index: 721 entries, 0 to 720\n",
      "Data columns (total 8 columns):\n",
      " #   Column                    Non-Null Count  Dtype  \n",
      "---  ------                    --------------  -----  \n",
      " 0   user_code                 721 non-null    object \n",
      " 1   measurement_datetime      721 non-null    object \n",
      " 2   diastolic                 721 non-null    int64  \n",
      " 3   systolic                  721 non-null    int64  \n",
      " 4   functional_changes_index  299 non-null    float64\n",
      " 5   circulatory_efficiency    299 non-null    float64\n",
      " 6   kerdo_vegetation_index    283 non-null    float64\n",
      " 7   robinson_index            299 non-null    float64\n",
      "dtypes: float64(4), int64(2), object(2)\n",
      "memory usage: 50.7+ KB\n",
      "blood_pressure: None\n"
     ]
    }
   ],
   "source": [
    "# Blood Pressure Column Info\n",
    "print(\"blood_pressure:\",blood_pressure.info())"
   ]
  },
  {
   "cell_type": "markdown",
   "metadata": {},
   "source": [
    "This interpretes the data structure of blood pressure table. From the info above, we know that usercode(Unique user ID) and measurement_datetime(measurement datetime in YYYY-MM-DD hh:mm:ss format) are object, and diastolic(Diastolic blood pressure) and systolic(Systolic blood pressure) are int, and functional_changes_index(FCI blood index), circulatory_efficiency(BCE blood index), kerdo_vegetation_index(Kerdo index) and robinson_index(Robinson’s index) are all index indicating conditions of blood pressure and they are all float."
   ]
  },
  {
   "cell_type": "code",
   "execution_count": 4,
   "metadata": {},
   "outputs": [
    {
     "name": "stdout",
     "output_type": "stream",
     "text": [
      "<class 'pandas.core.frame.DataFrame'>\n",
      "Index: 523783 entries, 0 to 523782\n",
      "Data columns (total 4 columns):\n",
      " #   Column      Non-Null Count   Dtype \n",
      "---  ------      --------------   ----- \n",
      " 0   user_code   523783 non-null  object\n",
      " 1   datetime    523783 non-null  object\n",
      " 2   heart_rate  523783 non-null  int64 \n",
      " 3   is_resting  523783 non-null  int64 \n",
      "dtypes: int64(2), object(2)\n",
      "memory usage: 20.0+ MB\n",
      "heart_rate: None\n"
     ]
    }
   ],
   "source": [
    "# Heart Rate Column Info\n",
    "print(\"heart_rate:\",heart_rate.info())"
   ]
  },
  {
   "cell_type": "markdown",
   "metadata": {},
   "source": [
    "This interpretes the data structure of heart rate. From the info above, we know that usercode, datetime are object and heart_rate is the number of times the heart beats within a certain time period, usually a minute, so it is int. And is_resting is an indicator indicating whether the user is resting or not when measuring the blood pressure. 1 indicates resting and 0 indicates not."
   ]
  },
  {
   "cell_type": "code",
   "execution_count": 5,
   "metadata": {},
   "outputs": [
    {
     "name": "stdout",
     "output_type": "stream",
     "text": [
      "<class 'pandas.core.frame.DataFrame'>\n",
      "Index: 3245 entries, 0 to 3244\n",
      "Data columns (total 22 columns):\n",
      " #   Column                Non-Null Count  Dtype  \n",
      "---  ------                --------------  -----  \n",
      " 0   user_code             3245 non-null   object \n",
      " 1   rr_code               3245 non-null   object \n",
      " 2   measurement_datetime  3245 non-null   object \n",
      " 3   time_of_day           3245 non-null   object \n",
      " 4   bpm                   3245 non-null   int64  \n",
      " 5   meanrr                3245 non-null   float64\n",
      " 6   mxdmn                 3245 non-null   float64\n",
      " 7   sdnn                  3245 non-null   float64\n",
      " 8   rmssd                 3245 non-null   float64\n",
      " 9   pnn50                 3245 non-null   float64\n",
      " 10  mode                  3245 non-null   float64\n",
      " 11  amo                   3245 non-null   float64\n",
      " 12  lf                    3245 non-null   float64\n",
      " 13  hf                    3245 non-null   float64\n",
      " 14  vlf                   3245 non-null   float64\n",
      " 15  lfhf                  3245 non-null   float64\n",
      " 16  total_power           3245 non-null   float64\n",
      " 17  how_feel              3245 non-null   int64  \n",
      " 18  how_mood              3245 non-null   int64  \n",
      " 19  how_sleep             1466 non-null   float64\n",
      " 20  tags                  2201 non-null   object \n",
      " 21  rr_data               3245 non-null   object \n",
      "dtypes: float64(13), int64(3), object(6)\n",
      "memory usage: 583.1+ KB\n",
      "hrv_measurements: None\n"
     ]
    }
   ],
   "source": [
    "# HRV Measurements Column Info\n",
    "print(\"hrv_measurements:\",hrv_measurements.info())"
   ]
  },
  {
   "cell_type": "markdown",
   "metadata": {},
   "source": [
    "This interpretes the data structure of hrv measurements. From the info above, we know that user_code, rr_code (Unique measurement ID), measurement_datetime and time_of_day('Time of day: 'evening', 'morning', 'night' or 'day') are all objects. And bpm is average heart rate beat per minute, a int. How_feel and how_mood are levels of users' feel and mood in integer format and how_sleep is a level of users sleep condition in float format. Tags are assigned by user as a comma-separated string, so it is a object. rr_data are intervals in milliseconds between consecutive heart beats as a comma-separated string. All other columns are health data in float formats."
   ]
  },
  {
   "cell_type": "code",
   "execution_count": 6,
   "metadata": {},
   "outputs": [
    {
     "name": "stdout",
     "output_type": "stream",
     "text": [
      "<class 'pandas.core.frame.DataFrame'>\n",
      "RangeIndex: 185 entries, 0 to 184\n",
      "Data columns (total 8 columns):\n",
      " #   Column          Non-Null Count  Dtype  \n",
      "---  ------          --------------  -----  \n",
      " 0   user_code       185 non-null    object \n",
      " 1   gender          185 non-null    object \n",
      " 2   age_range       185 non-null    object \n",
      " 3   city            173 non-null    object \n",
      " 4   country         179 non-null    object \n",
      " 5   height          183 non-null    float64\n",
      " 6   weight          185 non-null    float64\n",
      " 7   symptoms_onset  147 non-null    object \n",
      "dtypes: float64(2), object(6)\n",
      "memory usage: 11.7+ KB\n",
      "participants: None\n"
     ]
    }
   ],
   "source": [
    "# Participants Column Info\n",
    "print(\"participants:\",participants.info())"
   ]
  },
  {
   "cell_type": "markdown",
   "metadata": {},
   "source": [
    "This intepretes the data structure in participates. From the info above, we know that user_code, gender, age_range, city, country are some information of this user in object formats. Symptoms_onset is the onset date of the symptoms of the disease which format is MM/DD/YYYY. Height and weight are information of this user in a float format."
   ]
  },
  {
   "cell_type": "code",
   "execution_count": 7,
   "metadata": {},
   "outputs": [
    {
     "name": "stdout",
     "output_type": "stream",
     "text": [
      "<class 'pandas.core.frame.DataFrame'>\n",
      "RangeIndex: 148 entries, 0 to 147\n",
      "Data columns (total 4 columns):\n",
      " #   Column       Non-Null Count  Dtype \n",
      "---  ------       --------------  ----- \n",
      " 0   Scale        148 non-null    object\n",
      " 1   Description  148 non-null    object\n",
      " 2   Value        148 non-null    int64 \n",
      " 3   Meaning      148 non-null    object\n",
      "dtypes: int64(1), object(3)\n",
      "memory usage: 4.8+ KB\n",
      "scales_description: None\n"
     ]
    }
   ],
   "source": [
    "# Scales Description Column Info\n",
    "print(\"scales_description:\",scales_description.info())"
   ]
  },
  {
   "cell_type": "markdown",
   "metadata": {},
   "source": [
    "This intepretes the data structure in scales_description. From the info above, scale is a Survey code in an object format. Decription is a string to describe the meaning of the scale. Value is an integer indicating a score of the scale and meaning is a string describing the meaning of value of the score."
   ]
  },
  {
   "cell_type": "code",
   "execution_count": 8,
   "metadata": {},
   "outputs": [
    {
     "name": "stdout",
     "output_type": "stream",
     "text": [
      "<class 'pandas.core.frame.DataFrame'>\n",
      "Index: 425 entries, 0 to 424\n",
      "Data columns (total 12 columns):\n",
      " #   Column                Non-Null Count  Dtype  \n",
      "---  ------                --------------  -----  \n",
      " 0   user_code             425 non-null    object \n",
      " 1   day                   425 non-null    object \n",
      " 2   sleep_begin           425 non-null    object \n",
      " 3   sleep_end             425 non-null    object \n",
      " 4   sleep_duration        425 non-null    float64\n",
      " 5   sleep_awake_duration  9 non-null      float64\n",
      " 6   sleep_rem_duration    7 non-null      float64\n",
      " 7   sleep_light_duration  27 non-null     float64\n",
      " 8   sleep_deep_duration   14 non-null     float64\n",
      " 9   pulse_min             15 non-null     float64\n",
      " 10  pulse_max             15 non-null     float64\n",
      " 11  pulse_average         15 non-null     float64\n",
      "dtypes: float64(8), object(4)\n",
      "memory usage: 43.2+ KB\n",
      "sleep: None\n"
     ]
    }
   ],
   "source": [
    "# Sleep Column Info\n",
    "print(\"sleep:\",sleep.info())"
   ]
  },
  {
   "cell_type": "markdown",
   "metadata": {},
   "source": [
    "This intepretes the data structure in sleep table. From the info above, we know that user_code, day(measurement date in YYYY-MM-DD format), sleep_begin(sleep_start_date and time in YYYY-MM-DD hh:mm:ss format), sleep_end(sleep_end_date and time in YYYY-MM-DD hh:mm:ss format) are all object formats. Other data are sleep condition data in float format."
   ]
  },
  {
   "cell_type": "code",
   "execution_count": 9,
   "metadata": {},
   "outputs": [
    {
     "name": "stdout",
     "output_type": "stream",
     "text": [
      "<class 'pandas.core.frame.DataFrame'>\n",
      "Index: 2259 entries, 0 to 2258\n",
      "Data columns (total 5 columns):\n",
      " #   Column      Non-Null Count  Dtype \n",
      "---  ------      --------------  ----- \n",
      " 0   user_code   2259 non-null   object\n",
      " 1   scale       2259 non-null   object\n",
      " 2   created_at  2259 non-null   object\n",
      " 3   value       2259 non-null   int64 \n",
      " 4   text        2259 non-null   object\n",
      "dtypes: int64(1), object(4)\n",
      "memory usage: 105.9+ KB\n",
      "surverys: None\n"
     ]
    }
   ],
   "source": [
    "# Suverys Column Info\n",
    "print(\"surveys:\",surveys.info())"
   ]
  },
  {
   "cell_type": "markdown",
   "metadata": {},
   "source": [
    "This intepretes the data structure in surveys table. From the info above, we know that the user_code, scale(described in scales_description table), created_at(date when user took the survey in YYYY-MM-DD format) and text(text interpretation of user's result) are all in object formats. Value(User's result) is in int format."
   ]
  },
  {
   "cell_type": "code",
   "execution_count": 10,
   "metadata": {},
   "outputs": [
    {
     "name": "stdout",
     "output_type": "stream",
     "text": [
      "<class 'pandas.core.frame.DataFrame'>\n",
      "Index: 3098 entries, 0 to 3097\n",
      "Data columns (total 18 columns):\n",
      " #   Column                           Non-Null Count  Dtype  \n",
      "---  ------                           --------------  -----  \n",
      " 0   user_code                        3098 non-null   object \n",
      " 1   day                              3098 non-null   object \n",
      " 2   resting_pulse                    1515 non-null   float64\n",
      " 3   pulse_average                    2089 non-null   float64\n",
      " 4   pulse_min                        2089 non-null   float64\n",
      " 5   pulse_max                        2089 non-null   float64\n",
      " 6   average_spo2_value               40 non-null     float64\n",
      " 7   body_temperature_avg             65 non-null     float64\n",
      " 8   stand_hours_total                531 non-null    float64\n",
      " 9   steps_count                      1968 non-null   float64\n",
      " 10  distance                         1869 non-null   float64\n",
      " 11  steps_speed                      1418 non-null   float64\n",
      " 12  total_number_of_flights_climbed  1235 non-null   float64\n",
      " 13  active_calories_burned           1200 non-null   float64\n",
      " 14  basal_calories_burned            3097 non-null   float64\n",
      " 15  total_calories_burned            3097 non-null   float64\n",
      " 16  average_headphone_exposure       230 non-null    float64\n",
      " 17  average_environment_exposure     149 non-null    float64\n",
      "dtypes: float64(16), object(2)\n",
      "memory usage: 459.9+ KB\n",
      "wearables: None\n"
     ]
    }
   ],
   "source": [
    "# Wearables Column Info\n",
    "print(\"wearables:\",wearables.info())"
   ]
  },
  {
   "cell_type": "markdown",
   "metadata": {},
   "source": [
    "This intepretes the data structure in wearables table. From the info above, we know that the user_code, day(measurement date in YYYY-MM-DD format) are in object formats. And other values are health data measured in wearable devices in a float format."
   ]
  },
  {
   "cell_type": "code",
   "execution_count": 11,
   "metadata": {},
   "outputs": [
    {
     "name": "stdout",
     "output_type": "stream",
     "text": [
      "<class 'pandas.core.frame.DataFrame'>\n",
      "Index: 1717 entries, 0 to 1716\n",
      "Data columns (total 7 columns):\n",
      " #   Column                Non-Null Count  Dtype  \n",
      "---  ------                --------------  -----  \n",
      " 0   user_code             1717 non-null   object \n",
      " 1   day                   1717 non-null   object \n",
      " 2   avg_temperature_C     1717 non-null   float64\n",
      " 3   atmospheric_pressure  1717 non-null   float64\n",
      " 4   precip_intensity      1717 non-null   float64\n",
      " 5   humidity              1717 non-null   float64\n",
      " 6   clouds                1717 non-null   float64\n",
      "dtypes: float64(5), object(2)\n",
      "memory usage: 107.3+ KB\n",
      "weather: None\n"
     ]
    }
   ],
   "source": [
    "# Weather Column Info\n",
    "print(\"weather:\",weather.info())"
   ]
  },
  {
   "cell_type": "markdown",
   "metadata": {},
   "source": [
    "This intepretes the data structure in weather data. From the info above, we know that the user_code and day(Measurement date in YYYY-MM-DD format) are in object formats. And other values are indexes measuring the weather of the day in float formats."
   ]
  },
  {
   "cell_type": "markdown",
   "metadata": {},
   "source": [
    "#### Descriptive Statistics"
   ]
  },
  {
   "cell_type": "markdown",
   "metadata": {},
   "source": [
    "For descriptive Statistics analysis, we analyse int and float data, and get count, mean, std, min, 25%, 50%, 75% andn max for those data."
   ]
  },
  {
   "cell_type": "code",
   "execution_count": 12,
   "metadata": {},
   "outputs": [
    {
     "data": {
      "text/html": [
       "<div>\n",
       "<style scoped>\n",
       "    .dataframe tbody tr th:only-of-type {\n",
       "        vertical-align: middle;\n",
       "    }\n",
       "\n",
       "    .dataframe tbody tr th {\n",
       "        vertical-align: top;\n",
       "    }\n",
       "\n",
       "    .dataframe thead th {\n",
       "        text-align: right;\n",
       "    }\n",
       "</style>\n",
       "<table border=\"1\" class=\"dataframe\">\n",
       "  <thead>\n",
       "    <tr style=\"text-align: right;\">\n",
       "      <th></th>\n",
       "      <th>diastolic</th>\n",
       "      <th>systolic</th>\n",
       "      <th>functional_changes_index</th>\n",
       "      <th>circulatory_efficiency</th>\n",
       "      <th>kerdo_vegetation_index</th>\n",
       "      <th>robinson_index</th>\n",
       "    </tr>\n",
       "  </thead>\n",
       "  <tbody>\n",
       "    <tr>\n",
       "      <th>count</th>\n",
       "      <td>721.000000</td>\n",
       "      <td>721.000000</td>\n",
       "      <td>299.000000</td>\n",
       "      <td>299.000000</td>\n",
       "      <td>283.000000</td>\n",
       "      <td>299.000000</td>\n",
       "    </tr>\n",
       "    <tr>\n",
       "      <th>mean</th>\n",
       "      <td>81.228849</td>\n",
       "      <td>119.441054</td>\n",
       "      <td>2.594013</td>\n",
       "      <td>2735.197057</td>\n",
       "      <td>-15.498233</td>\n",
       "      <td>84.663779</td>\n",
       "    </tr>\n",
       "    <tr>\n",
       "      <th>std</th>\n",
       "      <td>8.865761</td>\n",
       "      <td>10.522578</td>\n",
       "      <td>0.291302</td>\n",
       "      <td>747.882570</td>\n",
       "      <td>18.681233</td>\n",
       "      <td>14.399208</td>\n",
       "    </tr>\n",
       "    <tr>\n",
       "      <th>min</th>\n",
       "      <td>25.000000</td>\n",
       "      <td>63.000000</td>\n",
       "      <td>1.680000</td>\n",
       "      <td>1300.000000</td>\n",
       "      <td>-76.000000</td>\n",
       "      <td>49.500000</td>\n",
       "    </tr>\n",
       "    <tr>\n",
       "      <th>25%</th>\n",
       "      <td>76.000000</td>\n",
       "      <td>113.000000</td>\n",
       "      <td>2.440000</td>\n",
       "      <td>2250.500000</td>\n",
       "      <td>-29.000000</td>\n",
       "      <td>75.580000</td>\n",
       "    </tr>\n",
       "    <tr>\n",
       "      <th>50%</th>\n",
       "      <td>82.000000</td>\n",
       "      <td>120.000000</td>\n",
       "      <td>2.580000</td>\n",
       "      <td>2640.000000</td>\n",
       "      <td>-17.000000</td>\n",
       "      <td>83.220000</td>\n",
       "    </tr>\n",
       "    <tr>\n",
       "      <th>75%</th>\n",
       "      <td>88.000000</td>\n",
       "      <td>126.000000</td>\n",
       "      <td>2.730000</td>\n",
       "      <td>3076.500000</td>\n",
       "      <td>-5.000000</td>\n",
       "      <td>93.170000</td>\n",
       "    </tr>\n",
       "    <tr>\n",
       "      <th>max</th>\n",
       "      <td>101.000000</td>\n",
       "      <td>157.000000</td>\n",
       "      <td>3.510000</td>\n",
       "      <td>7875.000000</td>\n",
       "      <td>45.000000</td>\n",
       "      <td>164.850000</td>\n",
       "    </tr>\n",
       "  </tbody>\n",
       "</table>\n",
       "</div>"
      ],
      "text/plain": [
       "        diastolic    systolic  functional_changes_index  \\\n",
       "count  721.000000  721.000000                299.000000   \n",
       "mean    81.228849  119.441054                  2.594013   \n",
       "std      8.865761   10.522578                  0.291302   \n",
       "min     25.000000   63.000000                  1.680000   \n",
       "25%     76.000000  113.000000                  2.440000   \n",
       "50%     82.000000  120.000000                  2.580000   \n",
       "75%     88.000000  126.000000                  2.730000   \n",
       "max    101.000000  157.000000                  3.510000   \n",
       "\n",
       "       circulatory_efficiency  kerdo_vegetation_index  robinson_index  \n",
       "count              299.000000              283.000000      299.000000  \n",
       "mean              2735.197057              -15.498233       84.663779  \n",
       "std                747.882570               18.681233       14.399208  \n",
       "min               1300.000000              -76.000000       49.500000  \n",
       "25%               2250.500000              -29.000000       75.580000  \n",
       "50%               2640.000000              -17.000000       83.220000  \n",
       "75%               3076.500000               -5.000000       93.170000  \n",
       "max               7875.000000               45.000000      164.850000  "
      ]
     },
     "execution_count": 12,
     "metadata": {},
     "output_type": "execute_result"
    }
   ],
   "source": [
    "# Descriptive Statistics for Blood Pressure\n",
    "blood_pressure.describe()"
   ]
  },
  {
   "cell_type": "code",
   "execution_count": 13,
   "metadata": {},
   "outputs": [
    {
     "data": {
      "text/html": [
       "<div>\n",
       "<style scoped>\n",
       "    .dataframe tbody tr th:only-of-type {\n",
       "        vertical-align: middle;\n",
       "    }\n",
       "\n",
       "    .dataframe tbody tr th {\n",
       "        vertical-align: top;\n",
       "    }\n",
       "\n",
       "    .dataframe thead th {\n",
       "        text-align: right;\n",
       "    }\n",
       "</style>\n",
       "<table border=\"1\" class=\"dataframe\">\n",
       "  <thead>\n",
       "    <tr style=\"text-align: right;\">\n",
       "      <th></th>\n",
       "      <th>heart_rate</th>\n",
       "      <th>is_resting</th>\n",
       "    </tr>\n",
       "  </thead>\n",
       "  <tbody>\n",
       "    <tr>\n",
       "      <th>count</th>\n",
       "      <td>523783.000000</td>\n",
       "      <td>523783.000000</td>\n",
       "    </tr>\n",
       "    <tr>\n",
       "      <th>mean</th>\n",
       "      <td>90.856626</td>\n",
       "      <td>0.005546</td>\n",
       "    </tr>\n",
       "    <tr>\n",
       "      <th>std</th>\n",
       "      <td>25.054152</td>\n",
       "      <td>0.074266</td>\n",
       "    </tr>\n",
       "    <tr>\n",
       "      <th>min</th>\n",
       "      <td>10.000000</td>\n",
       "      <td>0.000000</td>\n",
       "    </tr>\n",
       "    <tr>\n",
       "      <th>25%</th>\n",
       "      <td>71.000000</td>\n",
       "      <td>0.000000</td>\n",
       "    </tr>\n",
       "    <tr>\n",
       "      <th>50%</th>\n",
       "      <td>87.000000</td>\n",
       "      <td>0.000000</td>\n",
       "    </tr>\n",
       "    <tr>\n",
       "      <th>75%</th>\n",
       "      <td>108.000000</td>\n",
       "      <td>0.000000</td>\n",
       "    </tr>\n",
       "    <tr>\n",
       "      <th>max</th>\n",
       "      <td>232.000000</td>\n",
       "      <td>1.000000</td>\n",
       "    </tr>\n",
       "  </tbody>\n",
       "</table>\n",
       "</div>"
      ],
      "text/plain": [
       "          heart_rate     is_resting\n",
       "count  523783.000000  523783.000000\n",
       "mean       90.856626       0.005546\n",
       "std        25.054152       0.074266\n",
       "min        10.000000       0.000000\n",
       "25%        71.000000       0.000000\n",
       "50%        87.000000       0.000000\n",
       "75%       108.000000       0.000000\n",
       "max       232.000000       1.000000"
      ]
     },
     "execution_count": 13,
     "metadata": {},
     "output_type": "execute_result"
    }
   ],
   "source": [
    "# Descriptive Statistics for Heart Rate\n",
    "heart_rate.describe()"
   ]
  },
  {
   "cell_type": "code",
   "execution_count": 14,
   "metadata": {},
   "outputs": [
    {
     "data": {
      "text/html": [
       "<div>\n",
       "<style scoped>\n",
       "    .dataframe tbody tr th:only-of-type {\n",
       "        vertical-align: middle;\n",
       "    }\n",
       "\n",
       "    .dataframe tbody tr th {\n",
       "        vertical-align: top;\n",
       "    }\n",
       "\n",
       "    .dataframe thead th {\n",
       "        text-align: right;\n",
       "    }\n",
       "</style>\n",
       "<table border=\"1\" class=\"dataframe\">\n",
       "  <thead>\n",
       "    <tr style=\"text-align: right;\">\n",
       "      <th></th>\n",
       "      <th>bpm</th>\n",
       "      <th>meanrr</th>\n",
       "      <th>mxdmn</th>\n",
       "      <th>sdnn</th>\n",
       "      <th>rmssd</th>\n",
       "      <th>pnn50</th>\n",
       "      <th>mode</th>\n",
       "      <th>amo</th>\n",
       "      <th>lf</th>\n",
       "      <th>hf</th>\n",
       "      <th>vlf</th>\n",
       "      <th>lfhf</th>\n",
       "      <th>total_power</th>\n",
       "      <th>how_feel</th>\n",
       "      <th>how_mood</th>\n",
       "      <th>how_sleep</th>\n",
       "    </tr>\n",
       "  </thead>\n",
       "  <tbody>\n",
       "    <tr>\n",
       "      <th>count</th>\n",
       "      <td>3245.000000</td>\n",
       "      <td>3245.000000</td>\n",
       "      <td>3245.000000</td>\n",
       "      <td>3245.000000</td>\n",
       "      <td>3245.000000</td>\n",
       "      <td>3245.000000</td>\n",
       "      <td>3245.000000</td>\n",
       "      <td>3245.000000</td>\n",
       "      <td>3245.000000</td>\n",
       "      <td>3245.000000</td>\n",
       "      <td>3245.000000</td>\n",
       "      <td>3245.000000</td>\n",
       "      <td>3245.000000</td>\n",
       "      <td>3245.000000</td>\n",
       "      <td>3245.000000</td>\n",
       "      <td>1466.000000</td>\n",
       "    </tr>\n",
       "    <tr>\n",
       "      <th>mean</th>\n",
       "      <td>73.257935</td>\n",
       "      <td>839.600366</td>\n",
       "      <td>0.184635</td>\n",
       "      <td>52.489218</td>\n",
       "      <td>52.814196</td>\n",
       "      <td>20.615609</td>\n",
       "      <td>0.837465</td>\n",
       "      <td>46.788290</td>\n",
       "      <td>927.038213</td>\n",
       "      <td>1125.041294</td>\n",
       "      <td>578.229892</td>\n",
       "      <td>2.397769</td>\n",
       "      <td>2630.309399</td>\n",
       "      <td>-0.235439</td>\n",
       "      <td>-0.076733</td>\n",
       "      <td>-0.065484</td>\n",
       "    </tr>\n",
       "    <tr>\n",
       "      <th>std</th>\n",
       "      <td>12.201088</td>\n",
       "      <td>137.420367</td>\n",
       "      <td>0.107456</td>\n",
       "      <td>29.369506</td>\n",
       "      <td>39.353213</td>\n",
       "      <td>18.588156</td>\n",
       "      <td>0.144769</td>\n",
       "      <td>16.418873</td>\n",
       "      <td>1455.424089</td>\n",
       "      <td>2490.540413</td>\n",
       "      <td>876.679652</td>\n",
       "      <td>5.750760</td>\n",
       "      <td>3912.247496</td>\n",
       "      <td>0.706262</td>\n",
       "      <td>0.655032</td>\n",
       "      <td>0.708656</td>\n",
       "    </tr>\n",
       "    <tr>\n",
       "      <th>min</th>\n",
       "      <td>44.000000</td>\n",
       "      <td>477.730000</td>\n",
       "      <td>0.030000</td>\n",
       "      <td>9.515000</td>\n",
       "      <td>6.340000</td>\n",
       "      <td>0.000000</td>\n",
       "      <td>0.475000</td>\n",
       "      <td>12.000000</td>\n",
       "      <td>2.000000</td>\n",
       "      <td>4.000000</td>\n",
       "      <td>1.000000</td>\n",
       "      <td>0.032000</td>\n",
       "      <td>44.000000</td>\n",
       "      <td>-2.000000</td>\n",
       "      <td>-2.000000</td>\n",
       "      <td>-2.000000</td>\n",
       "    </tr>\n",
       "    <tr>\n",
       "      <th>25%</th>\n",
       "      <td>65.000000</td>\n",
       "      <td>742.490000</td>\n",
       "      <td>0.110000</td>\n",
       "      <td>32.585000</td>\n",
       "      <td>28.985000</td>\n",
       "      <td>6.060000</td>\n",
       "      <td>0.725000</td>\n",
       "      <td>35.000000</td>\n",
       "      <td>151.000000</td>\n",
       "      <td>158.000000</td>\n",
       "      <td>116.000000</td>\n",
       "      <td>0.399000</td>\n",
       "      <td>620.000000</td>\n",
       "      <td>-1.000000</td>\n",
       "      <td>0.000000</td>\n",
       "      <td>0.000000</td>\n",
       "    </tr>\n",
       "    <tr>\n",
       "      <th>50%</th>\n",
       "      <td>72.000000</td>\n",
       "      <td>829.100000</td>\n",
       "      <td>0.160000</td>\n",
       "      <td>46.919000</td>\n",
       "      <td>42.869000</td>\n",
       "      <td>16.160000</td>\n",
       "      <td>0.825000</td>\n",
       "      <td>45.000000</td>\n",
       "      <td>423.000000</td>\n",
       "      <td>380.000000</td>\n",
       "      <td>293.000000</td>\n",
       "      <td>0.862000</td>\n",
       "      <td>1387.000000</td>\n",
       "      <td>0.000000</td>\n",
       "      <td>0.000000</td>\n",
       "      <td>0.000000</td>\n",
       "    </tr>\n",
       "    <tr>\n",
       "      <th>75%</th>\n",
       "      <td>81.000000</td>\n",
       "      <td>925.933000</td>\n",
       "      <td>0.220000</td>\n",
       "      <td>64.406000</td>\n",
       "      <td>62.485000</td>\n",
       "      <td>29.290000</td>\n",
       "      <td>0.925000</td>\n",
       "      <td>57.000000</td>\n",
       "      <td>1059.000000</td>\n",
       "      <td>993.000000</td>\n",
       "      <td>693.000000</td>\n",
       "      <td>1.966000</td>\n",
       "      <td>2906.000000</td>\n",
       "      <td>0.000000</td>\n",
       "      <td>0.000000</td>\n",
       "      <td>0.000000</td>\n",
       "    </tr>\n",
       "    <tr>\n",
       "      <th>max</th>\n",
       "      <td>125.000000</td>\n",
       "      <td>1346.740000</td>\n",
       "      <td>0.790000</td>\n",
       "      <td>206.631000</td>\n",
       "      <td>310.800000</td>\n",
       "      <td>91.920000</td>\n",
       "      <td>1.325000</td>\n",
       "      <td>98.000000</td>\n",
       "      <td>15522.000000</td>\n",
       "      <td>33490.000000</td>\n",
       "      <td>18468.000000</td>\n",
       "      <td>105.625000</td>\n",
       "      <td>41118.000000</td>\n",
       "      <td>2.000000</td>\n",
       "      <td>2.000000</td>\n",
       "      <td>2.000000</td>\n",
       "    </tr>\n",
       "  </tbody>\n",
       "</table>\n",
       "</div>"
      ],
      "text/plain": [
       "               bpm       meanrr        mxdmn         sdnn        rmssd  \\\n",
       "count  3245.000000  3245.000000  3245.000000  3245.000000  3245.000000   \n",
       "mean     73.257935   839.600366     0.184635    52.489218    52.814196   \n",
       "std      12.201088   137.420367     0.107456    29.369506    39.353213   \n",
       "min      44.000000   477.730000     0.030000     9.515000     6.340000   \n",
       "25%      65.000000   742.490000     0.110000    32.585000    28.985000   \n",
       "50%      72.000000   829.100000     0.160000    46.919000    42.869000   \n",
       "75%      81.000000   925.933000     0.220000    64.406000    62.485000   \n",
       "max     125.000000  1346.740000     0.790000   206.631000   310.800000   \n",
       "\n",
       "             pnn50         mode          amo            lf            hf  \\\n",
       "count  3245.000000  3245.000000  3245.000000   3245.000000   3245.000000   \n",
       "mean     20.615609     0.837465    46.788290    927.038213   1125.041294   \n",
       "std      18.588156     0.144769    16.418873   1455.424089   2490.540413   \n",
       "min       0.000000     0.475000    12.000000      2.000000      4.000000   \n",
       "25%       6.060000     0.725000    35.000000    151.000000    158.000000   \n",
       "50%      16.160000     0.825000    45.000000    423.000000    380.000000   \n",
       "75%      29.290000     0.925000    57.000000   1059.000000    993.000000   \n",
       "max      91.920000     1.325000    98.000000  15522.000000  33490.000000   \n",
       "\n",
       "                vlf         lfhf   total_power     how_feel     how_mood  \\\n",
       "count   3245.000000  3245.000000   3245.000000  3245.000000  3245.000000   \n",
       "mean     578.229892     2.397769   2630.309399    -0.235439    -0.076733   \n",
       "std      876.679652     5.750760   3912.247496     0.706262     0.655032   \n",
       "min        1.000000     0.032000     44.000000    -2.000000    -2.000000   \n",
       "25%      116.000000     0.399000    620.000000    -1.000000     0.000000   \n",
       "50%      293.000000     0.862000   1387.000000     0.000000     0.000000   \n",
       "75%      693.000000     1.966000   2906.000000     0.000000     0.000000   \n",
       "max    18468.000000   105.625000  41118.000000     2.000000     2.000000   \n",
       "\n",
       "         how_sleep  \n",
       "count  1466.000000  \n",
       "mean     -0.065484  \n",
       "std       0.708656  \n",
       "min      -2.000000  \n",
       "25%       0.000000  \n",
       "50%       0.000000  \n",
       "75%       0.000000  \n",
       "max       2.000000  "
      ]
     },
     "execution_count": 14,
     "metadata": {},
     "output_type": "execute_result"
    }
   ],
   "source": [
    "# Descriptive Statistics for HRV Measurements\n",
    "hrv_measurements.describe()"
   ]
  },
  {
   "cell_type": "code",
   "execution_count": 15,
   "metadata": {},
   "outputs": [
    {
     "data": {
      "text/html": [
       "<div>\n",
       "<style scoped>\n",
       "    .dataframe tbody tr th:only-of-type {\n",
       "        vertical-align: middle;\n",
       "    }\n",
       "\n",
       "    .dataframe tbody tr th {\n",
       "        vertical-align: top;\n",
       "    }\n",
       "\n",
       "    .dataframe thead th {\n",
       "        text-align: right;\n",
       "    }\n",
       "</style>\n",
       "<table border=\"1\" class=\"dataframe\">\n",
       "  <thead>\n",
       "    <tr style=\"text-align: right;\">\n",
       "      <th></th>\n",
       "      <th>height</th>\n",
       "      <th>weight</th>\n",
       "    </tr>\n",
       "  </thead>\n",
       "  <tbody>\n",
       "    <tr>\n",
       "      <th>count</th>\n",
       "      <td>183.000000</td>\n",
       "      <td>185.000000</td>\n",
       "    </tr>\n",
       "    <tr>\n",
       "      <th>mean</th>\n",
       "      <td>169.976393</td>\n",
       "      <td>77.927757</td>\n",
       "    </tr>\n",
       "    <tr>\n",
       "      <th>std</th>\n",
       "      <td>12.400103</td>\n",
       "      <td>19.552541</td>\n",
       "    </tr>\n",
       "    <tr>\n",
       "      <th>min</th>\n",
       "      <td>132.080000</td>\n",
       "      <td>43.500000</td>\n",
       "    </tr>\n",
       "    <tr>\n",
       "      <th>25%</th>\n",
       "      <td>163.500000</td>\n",
       "      <td>63.500000</td>\n",
       "    </tr>\n",
       "    <tr>\n",
       "      <th>50%</th>\n",
       "      <td>168.000000</td>\n",
       "      <td>74.344000</td>\n",
       "    </tr>\n",
       "    <tr>\n",
       "      <th>75%</th>\n",
       "      <td>174.500000</td>\n",
       "      <td>90.537000</td>\n",
       "    </tr>\n",
       "    <tr>\n",
       "      <th>max</th>\n",
       "      <td>250.000000</td>\n",
       "      <td>154.221000</td>\n",
       "    </tr>\n",
       "  </tbody>\n",
       "</table>\n",
       "</div>"
      ],
      "text/plain": [
       "           height      weight\n",
       "count  183.000000  185.000000\n",
       "mean   169.976393   77.927757\n",
       "std     12.400103   19.552541\n",
       "min    132.080000   43.500000\n",
       "25%    163.500000   63.500000\n",
       "50%    168.000000   74.344000\n",
       "75%    174.500000   90.537000\n",
       "max    250.000000  154.221000"
      ]
     },
     "execution_count": 15,
     "metadata": {},
     "output_type": "execute_result"
    }
   ],
   "source": [
    "# Descriptive Statistics for Participants\n",
    "participants.describe()"
   ]
  },
  {
   "cell_type": "code",
   "execution_count": 16,
   "metadata": {},
   "outputs": [
    {
     "data": {
      "text/html": [
       "<div>\n",
       "<style scoped>\n",
       "    .dataframe tbody tr th:only-of-type {\n",
       "        vertical-align: middle;\n",
       "    }\n",
       "\n",
       "    .dataframe tbody tr th {\n",
       "        vertical-align: top;\n",
       "    }\n",
       "\n",
       "    .dataframe thead th {\n",
       "        text-align: right;\n",
       "    }\n",
       "</style>\n",
       "<table border=\"1\" class=\"dataframe\">\n",
       "  <thead>\n",
       "    <tr style=\"text-align: right;\">\n",
       "      <th></th>\n",
       "      <th>Value</th>\n",
       "    </tr>\n",
       "  </thead>\n",
       "  <tbody>\n",
       "    <tr>\n",
       "      <th>count</th>\n",
       "      <td>148.000000</td>\n",
       "    </tr>\n",
       "    <tr>\n",
       "      <th>mean</th>\n",
       "      <td>2.331081</td>\n",
       "    </tr>\n",
       "    <tr>\n",
       "      <th>std</th>\n",
       "      <td>1.655288</td>\n",
       "    </tr>\n",
       "    <tr>\n",
       "      <th>min</th>\n",
       "      <td>1.000000</td>\n",
       "    </tr>\n",
       "    <tr>\n",
       "      <th>25%</th>\n",
       "      <td>1.000000</td>\n",
       "    </tr>\n",
       "    <tr>\n",
       "      <th>50%</th>\n",
       "      <td>1.500000</td>\n",
       "    </tr>\n",
       "    <tr>\n",
       "      <th>75%</th>\n",
       "      <td>3.250000</td>\n",
       "    </tr>\n",
       "    <tr>\n",
       "      <th>max</th>\n",
       "      <td>6.000000</td>\n",
       "    </tr>\n",
       "  </tbody>\n",
       "</table>\n",
       "</div>"
      ],
      "text/plain": [
       "            Value\n",
       "count  148.000000\n",
       "mean     2.331081\n",
       "std      1.655288\n",
       "min      1.000000\n",
       "25%      1.000000\n",
       "50%      1.500000\n",
       "75%      3.250000\n",
       "max      6.000000"
      ]
     },
     "execution_count": 16,
     "metadata": {},
     "output_type": "execute_result"
    }
   ],
   "source": [
    "# Describe Scales Description\n",
    "scales_description.describe()"
   ]
  },
  {
   "cell_type": "code",
   "execution_count": 17,
   "metadata": {},
   "outputs": [
    {
     "data": {
      "text/html": [
       "<div>\n",
       "<style scoped>\n",
       "    .dataframe tbody tr th:only-of-type {\n",
       "        vertical-align: middle;\n",
       "    }\n",
       "\n",
       "    .dataframe tbody tr th {\n",
       "        vertical-align: top;\n",
       "    }\n",
       "\n",
       "    .dataframe thead th {\n",
       "        text-align: right;\n",
       "    }\n",
       "</style>\n",
       "<table border=\"1\" class=\"dataframe\">\n",
       "  <thead>\n",
       "    <tr style=\"text-align: right;\">\n",
       "      <th></th>\n",
       "      <th>sleep_duration</th>\n",
       "      <th>sleep_awake_duration</th>\n",
       "      <th>sleep_rem_duration</th>\n",
       "      <th>sleep_light_duration</th>\n",
       "      <th>sleep_deep_duration</th>\n",
       "      <th>pulse_min</th>\n",
       "      <th>pulse_max</th>\n",
       "      <th>pulse_average</th>\n",
       "    </tr>\n",
       "  </thead>\n",
       "  <tbody>\n",
       "    <tr>\n",
       "      <th>count</th>\n",
       "      <td>425.000000</td>\n",
       "      <td>9.000000</td>\n",
       "      <td>7.000000</td>\n",
       "      <td>27.000000</td>\n",
       "      <td>14.000000</td>\n",
       "      <td>15.000000</td>\n",
       "      <td>15.000000</td>\n",
       "      <td>15.000000</td>\n",
       "    </tr>\n",
       "    <tr>\n",
       "      <th>mean</th>\n",
       "      <td>25699.731765</td>\n",
       "      <td>2733.333333</td>\n",
       "      <td>6518.571429</td>\n",
       "      <td>14514.740741</td>\n",
       "      <td>4280.285714</td>\n",
       "      <td>60.533333</td>\n",
       "      <td>89.866667</td>\n",
       "      <td>68.880733</td>\n",
       "    </tr>\n",
       "    <tr>\n",
       "      <th>std</th>\n",
       "      <td>7773.805470</td>\n",
       "      <td>671.900290</td>\n",
       "      <td>2081.613385</td>\n",
       "      <td>8078.126290</td>\n",
       "      <td>2089.766547</td>\n",
       "      <td>12.844491</td>\n",
       "      <td>10.541528</td>\n",
       "      <td>10.947268</td>\n",
       "    </tr>\n",
       "    <tr>\n",
       "      <th>min</th>\n",
       "      <td>930.000000</td>\n",
       "      <td>1740.000000</td>\n",
       "      <td>2820.000000</td>\n",
       "      <td>300.000000</td>\n",
       "      <td>480.000000</td>\n",
       "      <td>52.000000</td>\n",
       "      <td>62.000000</td>\n",
       "      <td>59.444000</td>\n",
       "    </tr>\n",
       "    <tr>\n",
       "      <th>25%</th>\n",
       "      <td>21857.000000</td>\n",
       "      <td>2460.000000</td>\n",
       "      <td>5730.000000</td>\n",
       "      <td>7995.000000</td>\n",
       "      <td>2797.500000</td>\n",
       "      <td>54.500000</td>\n",
       "      <td>85.000000</td>\n",
       "      <td>63.393000</td>\n",
       "    </tr>\n",
       "    <tr>\n",
       "      <th>50%</th>\n",
       "      <td>26041.000000</td>\n",
       "      <td>2490.000000</td>\n",
       "      <td>6240.000000</td>\n",
       "      <td>17340.000000</td>\n",
       "      <td>4230.000000</td>\n",
       "      <td>58.000000</td>\n",
       "      <td>93.000000</td>\n",
       "      <td>65.857000</td>\n",
       "    </tr>\n",
       "    <tr>\n",
       "      <th>75%</th>\n",
       "      <td>30600.000000</td>\n",
       "      <td>2790.000000</td>\n",
       "      <td>8190.000000</td>\n",
       "      <td>20340.000000</td>\n",
       "      <td>5550.000000</td>\n",
       "      <td>60.000000</td>\n",
       "      <td>94.500000</td>\n",
       "      <td>70.250000</td>\n",
       "    </tr>\n",
       "    <tr>\n",
       "      <th>max</th>\n",
       "      <td>47460.000000</td>\n",
       "      <td>4200.000000</td>\n",
       "      <td>8730.000000</td>\n",
       "      <td>23100.000000</td>\n",
       "      <td>7934.000000</td>\n",
       "      <td>105.000000</td>\n",
       "      <td>105.000000</td>\n",
       "      <td>105.000000</td>\n",
       "    </tr>\n",
       "  </tbody>\n",
       "</table>\n",
       "</div>"
      ],
      "text/plain": [
       "       sleep_duration  sleep_awake_duration  sleep_rem_duration  \\\n",
       "count      425.000000              9.000000            7.000000   \n",
       "mean     25699.731765           2733.333333         6518.571429   \n",
       "std       7773.805470            671.900290         2081.613385   \n",
       "min        930.000000           1740.000000         2820.000000   \n",
       "25%      21857.000000           2460.000000         5730.000000   \n",
       "50%      26041.000000           2490.000000         6240.000000   \n",
       "75%      30600.000000           2790.000000         8190.000000   \n",
       "max      47460.000000           4200.000000         8730.000000   \n",
       "\n",
       "       sleep_light_duration  sleep_deep_duration   pulse_min   pulse_max  \\\n",
       "count             27.000000            14.000000   15.000000   15.000000   \n",
       "mean           14514.740741          4280.285714   60.533333   89.866667   \n",
       "std             8078.126290          2089.766547   12.844491   10.541528   \n",
       "min              300.000000           480.000000   52.000000   62.000000   \n",
       "25%             7995.000000          2797.500000   54.500000   85.000000   \n",
       "50%            17340.000000          4230.000000   58.000000   93.000000   \n",
       "75%            20340.000000          5550.000000   60.000000   94.500000   \n",
       "max            23100.000000          7934.000000  105.000000  105.000000   \n",
       "\n",
       "       pulse_average  \n",
       "count      15.000000  \n",
       "mean       68.880733  \n",
       "std        10.947268  \n",
       "min        59.444000  \n",
       "25%        63.393000  \n",
       "50%        65.857000  \n",
       "75%        70.250000  \n",
       "max       105.000000  "
      ]
     },
     "execution_count": 17,
     "metadata": {},
     "output_type": "execute_result"
    }
   ],
   "source": [
    "# Describe Sleep\n",
    "sleep.describe()"
   ]
  },
  {
   "cell_type": "code",
   "execution_count": 18,
   "metadata": {},
   "outputs": [
    {
     "data": {
      "text/html": [
       "<div>\n",
       "<style scoped>\n",
       "    .dataframe tbody tr th:only-of-type {\n",
       "        vertical-align: middle;\n",
       "    }\n",
       "\n",
       "    .dataframe tbody tr th {\n",
       "        vertical-align: top;\n",
       "    }\n",
       "\n",
       "    .dataframe thead th {\n",
       "        text-align: right;\n",
       "    }\n",
       "</style>\n",
       "<table border=\"1\" class=\"dataframe\">\n",
       "  <thead>\n",
       "    <tr style=\"text-align: right;\">\n",
       "      <th></th>\n",
       "      <th>value</th>\n",
       "    </tr>\n",
       "  </thead>\n",
       "  <tbody>\n",
       "    <tr>\n",
       "      <th>count</th>\n",
       "      <td>2259.000000</td>\n",
       "    </tr>\n",
       "    <tr>\n",
       "      <th>mean</th>\n",
       "      <td>2.364763</td>\n",
       "    </tr>\n",
       "    <tr>\n",
       "      <th>std</th>\n",
       "      <td>1.554934</td>\n",
       "    </tr>\n",
       "    <tr>\n",
       "      <th>min</th>\n",
       "      <td>1.000000</td>\n",
       "    </tr>\n",
       "    <tr>\n",
       "      <th>25%</th>\n",
       "      <td>1.000000</td>\n",
       "    </tr>\n",
       "    <tr>\n",
       "      <th>50%</th>\n",
       "      <td>2.000000</td>\n",
       "    </tr>\n",
       "    <tr>\n",
       "      <th>75%</th>\n",
       "      <td>4.000000</td>\n",
       "    </tr>\n",
       "    <tr>\n",
       "      <th>max</th>\n",
       "      <td>6.000000</td>\n",
       "    </tr>\n",
       "  </tbody>\n",
       "</table>\n",
       "</div>"
      ],
      "text/plain": [
       "             value\n",
       "count  2259.000000\n",
       "mean      2.364763\n",
       "std       1.554934\n",
       "min       1.000000\n",
       "25%       1.000000\n",
       "50%       2.000000\n",
       "75%       4.000000\n",
       "max       6.000000"
      ]
     },
     "execution_count": 18,
     "metadata": {},
     "output_type": "execute_result"
    }
   ],
   "source": [
    "# Describe Surveys\n",
    "surveys.describe()"
   ]
  },
  {
   "cell_type": "code",
   "execution_count": 19,
   "metadata": {},
   "outputs": [
    {
     "data": {
      "text/html": [
       "<div>\n",
       "<style scoped>\n",
       "    .dataframe tbody tr th:only-of-type {\n",
       "        vertical-align: middle;\n",
       "    }\n",
       "\n",
       "    .dataframe tbody tr th {\n",
       "        vertical-align: top;\n",
       "    }\n",
       "\n",
       "    .dataframe thead th {\n",
       "        text-align: right;\n",
       "    }\n",
       "</style>\n",
       "<table border=\"1\" class=\"dataframe\">\n",
       "  <thead>\n",
       "    <tr style=\"text-align: right;\">\n",
       "      <th></th>\n",
       "      <th>resting_pulse</th>\n",
       "      <th>pulse_average</th>\n",
       "      <th>pulse_min</th>\n",
       "      <th>pulse_max</th>\n",
       "      <th>average_spo2_value</th>\n",
       "      <th>body_temperature_avg</th>\n",
       "      <th>stand_hours_total</th>\n",
       "      <th>steps_count</th>\n",
       "      <th>distance</th>\n",
       "      <th>steps_speed</th>\n",
       "      <th>total_number_of_flights_climbed</th>\n",
       "      <th>active_calories_burned</th>\n",
       "      <th>basal_calories_burned</th>\n",
       "      <th>total_calories_burned</th>\n",
       "      <th>average_headphone_exposure</th>\n",
       "      <th>average_environment_exposure</th>\n",
       "    </tr>\n",
       "  </thead>\n",
       "  <tbody>\n",
       "    <tr>\n",
       "      <th>count</th>\n",
       "      <td>1515.000000</td>\n",
       "      <td>2089.000000</td>\n",
       "      <td>2089.000000</td>\n",
       "      <td>2089.000000</td>\n",
       "      <td>40.00000</td>\n",
       "      <td>65.000000</td>\n",
       "      <td>531.000000</td>\n",
       "      <td>1968.000000</td>\n",
       "      <td>1869.000000</td>\n",
       "      <td>1418.000000</td>\n",
       "      <td>1235.000000</td>\n",
       "      <td>1200.000000</td>\n",
       "      <td>3097.000000</td>\n",
       "      <td>3097.00000</td>\n",
       "      <td>230.000000</td>\n",
       "      <td>149.000000</td>\n",
       "    </tr>\n",
       "    <tr>\n",
       "      <th>mean</th>\n",
       "      <td>61.409241</td>\n",
       "      <td>78.084251</td>\n",
       "      <td>63.078506</td>\n",
       "      <td>99.456199</td>\n",
       "      <td>0.96100</td>\n",
       "      <td>36.404615</td>\n",
       "      <td>8.986817</td>\n",
       "      <td>5342.067581</td>\n",
       "      <td>3494.690744</td>\n",
       "      <td>29.700409</td>\n",
       "      <td>16.202429</td>\n",
       "      <td>750.721667</td>\n",
       "      <td>2258.165644</td>\n",
       "      <td>2549.04908</td>\n",
       "      <td>64.027348</td>\n",
       "      <td>54.406040</td>\n",
       "    </tr>\n",
       "    <tr>\n",
       "      <th>std</th>\n",
       "      <td>12.775324</td>\n",
       "      <td>14.366994</td>\n",
       "      <td>14.334455</td>\n",
       "      <td>29.298930</td>\n",
       "      <td>0.02134</td>\n",
       "      <td>0.239394</td>\n",
       "      <td>5.030643</td>\n",
       "      <td>4761.774987</td>\n",
       "      <td>3599.635544</td>\n",
       "      <td>28.068371</td>\n",
       "      <td>20.799798</td>\n",
       "      <td>915.538000</td>\n",
       "      <td>341.462086</td>\n",
       "      <td>804.62248</td>\n",
       "      <td>14.525733</td>\n",
       "      <td>7.028195</td>\n",
       "    </tr>\n",
       "    <tr>\n",
       "      <th>min</th>\n",
       "      <td>40.000000</td>\n",
       "      <td>48.000000</td>\n",
       "      <td>10.000000</td>\n",
       "      <td>48.000000</td>\n",
       "      <td>0.92000</td>\n",
       "      <td>35.800000</td>\n",
       "      <td>1.000000</td>\n",
       "      <td>1.000000</td>\n",
       "      <td>1.000000</td>\n",
       "      <td>0.010000</td>\n",
       "      <td>1.000000</td>\n",
       "      <td>1.000000</td>\n",
       "      <td>81.000000</td>\n",
       "      <td>81.00000</td>\n",
       "      <td>11.650000</td>\n",
       "      <td>31.560000</td>\n",
       "    </tr>\n",
       "    <tr>\n",
       "      <th>25%</th>\n",
       "      <td>52.000000</td>\n",
       "      <td>69.000000</td>\n",
       "      <td>53.000000</td>\n",
       "      <td>76.000000</td>\n",
       "      <td>0.94750</td>\n",
       "      <td>36.200000</td>\n",
       "      <td>4.000000</td>\n",
       "      <td>1456.000000</td>\n",
       "      <td>772.000000</td>\n",
       "      <td>10.400000</td>\n",
       "      <td>3.000000</td>\n",
       "      <td>66.000000</td>\n",
       "      <td>1968.000000</td>\n",
       "      <td>2001.00000</td>\n",
       "      <td>53.607500</td>\n",
       "      <td>52.020000</td>\n",
       "    </tr>\n",
       "    <tr>\n",
       "      <th>50%</th>\n",
       "      <td>58.000000</td>\n",
       "      <td>76.000000</td>\n",
       "      <td>60.000000</td>\n",
       "      <td>96.000000</td>\n",
       "      <td>0.96000</td>\n",
       "      <td>36.400000</td>\n",
       "      <td>10.000000</td>\n",
       "      <td>4477.500000</td>\n",
       "      <td>2687.000000</td>\n",
       "      <td>24.575000</td>\n",
       "      <td>9.000000</td>\n",
       "      <td>180.000000</td>\n",
       "      <td>2271.000000</td>\n",
       "      <td>2353.00000</td>\n",
       "      <td>64.395000</td>\n",
       "      <td>55.150000</td>\n",
       "    </tr>\n",
       "    <tr>\n",
       "      <th>75%</th>\n",
       "      <td>69.000000</td>\n",
       "      <td>85.000000</td>\n",
       "      <td>72.000000</td>\n",
       "      <td>118.000000</td>\n",
       "      <td>0.98000</td>\n",
       "      <td>36.600000</td>\n",
       "      <td>13.000000</td>\n",
       "      <td>7857.250000</td>\n",
       "      <td>5035.000000</td>\n",
       "      <td>44.097500</td>\n",
       "      <td>22.000000</td>\n",
       "      <td>1597.000000</td>\n",
       "      <td>2569.000000</td>\n",
       "      <td>2668.00000</td>\n",
       "      <td>75.215000</td>\n",
       "      <td>57.180000</td>\n",
       "    </tr>\n",
       "    <tr>\n",
       "      <th>max</th>\n",
       "      <td>109.000000</td>\n",
       "      <td>163.000000</td>\n",
       "      <td>122.000000</td>\n",
       "      <td>225.000000</td>\n",
       "      <td>0.99000</td>\n",
       "      <td>36.900000</td>\n",
       "      <td>19.000000</td>\n",
       "      <td>30882.000000</td>\n",
       "      <td>43914.000000</td>\n",
       "      <td>240.000000</td>\n",
       "      <td>164.000000</td>\n",
       "      <td>5423.000000</td>\n",
       "      <td>3395.000000</td>\n",
       "      <td>8418.00000</td>\n",
       "      <td>92.900000</td>\n",
       "      <td>73.160000</td>\n",
       "    </tr>\n",
       "  </tbody>\n",
       "</table>\n",
       "</div>"
      ],
      "text/plain": [
       "       resting_pulse  pulse_average    pulse_min    pulse_max  \\\n",
       "count    1515.000000    2089.000000  2089.000000  2089.000000   \n",
       "mean       61.409241      78.084251    63.078506    99.456199   \n",
       "std        12.775324      14.366994    14.334455    29.298930   \n",
       "min        40.000000      48.000000    10.000000    48.000000   \n",
       "25%        52.000000      69.000000    53.000000    76.000000   \n",
       "50%        58.000000      76.000000    60.000000    96.000000   \n",
       "75%        69.000000      85.000000    72.000000   118.000000   \n",
       "max       109.000000     163.000000   122.000000   225.000000   \n",
       "\n",
       "       average_spo2_value  body_temperature_avg  stand_hours_total  \\\n",
       "count            40.00000             65.000000         531.000000   \n",
       "mean              0.96100             36.404615           8.986817   \n",
       "std               0.02134              0.239394           5.030643   \n",
       "min               0.92000             35.800000           1.000000   \n",
       "25%               0.94750             36.200000           4.000000   \n",
       "50%               0.96000             36.400000          10.000000   \n",
       "75%               0.98000             36.600000          13.000000   \n",
       "max               0.99000             36.900000          19.000000   \n",
       "\n",
       "        steps_count      distance  steps_speed  \\\n",
       "count   1968.000000   1869.000000  1418.000000   \n",
       "mean    5342.067581   3494.690744    29.700409   \n",
       "std     4761.774987   3599.635544    28.068371   \n",
       "min        1.000000      1.000000     0.010000   \n",
       "25%     1456.000000    772.000000    10.400000   \n",
       "50%     4477.500000   2687.000000    24.575000   \n",
       "75%     7857.250000   5035.000000    44.097500   \n",
       "max    30882.000000  43914.000000   240.000000   \n",
       "\n",
       "       total_number_of_flights_climbed  active_calories_burned  \\\n",
       "count                      1235.000000             1200.000000   \n",
       "mean                         16.202429              750.721667   \n",
       "std                          20.799798              915.538000   \n",
       "min                           1.000000                1.000000   \n",
       "25%                           3.000000               66.000000   \n",
       "50%                           9.000000              180.000000   \n",
       "75%                          22.000000             1597.000000   \n",
       "max                         164.000000             5423.000000   \n",
       "\n",
       "       basal_calories_burned  total_calories_burned  \\\n",
       "count            3097.000000             3097.00000   \n",
       "mean             2258.165644             2549.04908   \n",
       "std               341.462086              804.62248   \n",
       "min                81.000000               81.00000   \n",
       "25%              1968.000000             2001.00000   \n",
       "50%              2271.000000             2353.00000   \n",
       "75%              2569.000000             2668.00000   \n",
       "max              3395.000000             8418.00000   \n",
       "\n",
       "       average_headphone_exposure  average_environment_exposure  \n",
       "count                  230.000000                    149.000000  \n",
       "mean                    64.027348                     54.406040  \n",
       "std                     14.525733                      7.028195  \n",
       "min                     11.650000                     31.560000  \n",
       "25%                     53.607500                     52.020000  \n",
       "50%                     64.395000                     55.150000  \n",
       "75%                     75.215000                     57.180000  \n",
       "max                     92.900000                     73.160000  "
      ]
     },
     "execution_count": 19,
     "metadata": {},
     "output_type": "execute_result"
    }
   ],
   "source": [
    "# Describe Wearables\n",
    "wearables.describe()"
   ]
  },
  {
   "cell_type": "code",
   "execution_count": 20,
   "metadata": {},
   "outputs": [
    {
     "data": {
      "text/html": [
       "<div>\n",
       "<style scoped>\n",
       "    .dataframe tbody tr th:only-of-type {\n",
       "        vertical-align: middle;\n",
       "    }\n",
       "\n",
       "    .dataframe tbody tr th {\n",
       "        vertical-align: top;\n",
       "    }\n",
       "\n",
       "    .dataframe thead th {\n",
       "        text-align: right;\n",
       "    }\n",
       "</style>\n",
       "<table border=\"1\" class=\"dataframe\">\n",
       "  <thead>\n",
       "    <tr style=\"text-align: right;\">\n",
       "      <th></th>\n",
       "      <th>avg_temperature_C</th>\n",
       "      <th>atmospheric_pressure</th>\n",
       "      <th>precip_intensity</th>\n",
       "      <th>humidity</th>\n",
       "      <th>clouds</th>\n",
       "    </tr>\n",
       "  </thead>\n",
       "  <tbody>\n",
       "    <tr>\n",
       "      <th>count</th>\n",
       "      <td>1717.000000</td>\n",
       "      <td>1717.000000</td>\n",
       "      <td>1717.000000</td>\n",
       "      <td>1717.000000</td>\n",
       "      <td>1717.000000</td>\n",
       "    </tr>\n",
       "    <tr>\n",
       "      <th>mean</th>\n",
       "      <td>11.839221</td>\n",
       "      <td>1014.111639</td>\n",
       "      <td>0.003803</td>\n",
       "      <td>66.376586</td>\n",
       "      <td>56.401734</td>\n",
       "    </tr>\n",
       "    <tr>\n",
       "      <th>std</th>\n",
       "      <td>7.769565</td>\n",
       "      <td>8.356792</td>\n",
       "      <td>0.015348</td>\n",
       "      <td>19.339670</td>\n",
       "      <td>35.048917</td>\n",
       "    </tr>\n",
       "    <tr>\n",
       "      <th>min</th>\n",
       "      <td>-13.150000</td>\n",
       "      <td>984.300000</td>\n",
       "      <td>0.000000</td>\n",
       "      <td>3.000000</td>\n",
       "      <td>0.000000</td>\n",
       "    </tr>\n",
       "    <tr>\n",
       "      <th>25%</th>\n",
       "      <td>6.472200</td>\n",
       "      <td>1009.000000</td>\n",
       "      <td>0.000000</td>\n",
       "      <td>54.000000</td>\n",
       "      <td>24.500000</td>\n",
       "    </tr>\n",
       "    <tr>\n",
       "      <th>50%</th>\n",
       "      <td>11.272200</td>\n",
       "      <td>1014.100000</td>\n",
       "      <td>0.000200</td>\n",
       "      <td>68.000000</td>\n",
       "      <td>61.500000</td>\n",
       "    </tr>\n",
       "    <tr>\n",
       "      <th>75%</th>\n",
       "      <td>16.663900</td>\n",
       "      <td>1019.566700</td>\n",
       "      <td>0.001700</td>\n",
       "      <td>81.000000</td>\n",
       "      <td>91.000000</td>\n",
       "    </tr>\n",
       "    <tr>\n",
       "      <th>max</th>\n",
       "      <td>44.072200</td>\n",
       "      <td>1047.750000</td>\n",
       "      <td>0.256700</td>\n",
       "      <td>100.000000</td>\n",
       "      <td>100.000000</td>\n",
       "    </tr>\n",
       "  </tbody>\n",
       "</table>\n",
       "</div>"
      ],
      "text/plain": [
       "       avg_temperature_C  atmospheric_pressure  precip_intensity     humidity  \\\n",
       "count        1717.000000           1717.000000       1717.000000  1717.000000   \n",
       "mean           11.839221           1014.111639          0.003803    66.376586   \n",
       "std             7.769565              8.356792          0.015348    19.339670   \n",
       "min           -13.150000            984.300000          0.000000     3.000000   \n",
       "25%             6.472200           1009.000000          0.000000    54.000000   \n",
       "50%            11.272200           1014.100000          0.000200    68.000000   \n",
       "75%            16.663900           1019.566700          0.001700    81.000000   \n",
       "max            44.072200           1047.750000          0.256700   100.000000   \n",
       "\n",
       "            clouds  \n",
       "count  1717.000000  \n",
       "mean     56.401734  \n",
       "std      35.048917  \n",
       "min       0.000000  \n",
       "25%      24.500000  \n",
       "50%      61.500000  \n",
       "75%      91.000000  \n",
       "max     100.000000  "
      ]
     },
     "execution_count": 20,
     "metadata": {},
     "output_type": "execute_result"
    }
   ],
   "source": [
    "# Describe Weather\n",
    "weather.describe()"
   ]
  },
  {
   "cell_type": "markdown",
   "metadata": {},
   "source": [
    "#### Data Quality"
   ]
  },
  {
   "cell_type": "markdown",
   "metadata": {},
   "source": [
    "For data quality analysis, we conducted the completeness(missing values), consistency, timeliness, uniqueness, relevance, validity. Due to the large number of files, for each part of analysis of data quality, I selected two dataset for analysis."
   ]
  },
  {
   "cell_type": "markdown",
   "metadata": {},
   "source": [
    "##### Completeness"
   ]
  },
  {
   "cell_type": "code",
   "execution_count": 21,
   "metadata": {},
   "outputs": [
    {
     "name": "stdout",
     "output_type": "stream",
     "text": [
      "user_code                     0\n",
      "measurement_datetime          0\n",
      "diastolic                     0\n",
      "systolic                      0\n",
      "functional_changes_index    422\n",
      "circulatory_efficiency      422\n",
      "kerdo_vegetation_index      438\n",
      "robinson_index              422\n",
      "dtype: int64\n",
      "user_code                   0.000000\n",
      "measurement_datetime        0.000000\n",
      "diastolic                   0.000000\n",
      "systolic                    0.000000\n",
      "functional_changes_index    0.585298\n",
      "circulatory_efficiency      0.585298\n",
      "kerdo_vegetation_index      0.607490\n",
      "robinson_index              0.585298\n",
      "dtype: float64\n"
     ]
    }
   ],
   "source": [
    "# Check for missing values in blood pressure\n",
    "print(blood_pressure.isnull().sum())\n",
    "missing_percentage = (blood_pressure.isnull().sum() / len(blood_pressure))\n",
    "print(missing_percentage)"
   ]
  },
  {
   "cell_type": "markdown",
   "metadata": {},
   "source": [
    "There are 0 missing value in user_code, measurement_datetime, diastolic and systolic column, indicating that those columns have complete data.   \n",
    "There are 422 missing values in functional_changes_index, 422 in circulatory_efficiency, 438 in kerdo_vegetation_index and 422 in robinson_index, and the missing_value percentage in those 4 columns are 0.585, 0.585, 0.607, 0.585\n"
   ]
  },
  {
   "cell_type": "code",
   "execution_count": 22,
   "metadata": {},
   "outputs": [
    {
     "name": "stdout",
     "output_type": "stream",
     "text": [
      "user_code     0\n",
      "datetime      0\n",
      "heart_rate    0\n",
      "is_resting    0\n",
      "dtype: int64\n",
      "user_code     0.0\n",
      "datetime      0.0\n",
      "heart_rate    0.0\n",
      "is_resting    0.0\n",
      "dtype: float64\n"
     ]
    }
   ],
   "source": [
    "# Check for missing values in heart rate\n",
    "print(heart_rate.isnull().sum())\n",
    "missing_percentage = (heart_rate.isnull().sum() / len(heart_rate))\n",
    "print(missing_percentage)"
   ]
  },
  {
   "cell_type": "markdown",
   "metadata": {},
   "source": [
    "There are 0 missing value in each column, indicating that those columns are all complete."
   ]
  },
  {
   "cell_type": "markdown",
   "metadata": {},
   "source": [
    "##### Consistency"
   ]
  },
  {
   "cell_type": "markdown",
   "metadata": {},
   "source": [
    "Data Type Consistency"
   ]
  },
  {
   "cell_type": "code",
   "execution_count": 23,
   "metadata": {},
   "outputs": [
    {
     "name": "stdout",
     "output_type": "stream",
     "text": [
      "user_code                object\n",
      "rr_code                  object\n",
      "measurement_datetime     object\n",
      "time_of_day              object\n",
      "bpm                       int64\n",
      "meanrr                  float64\n",
      "mxdmn                   float64\n",
      "sdnn                    float64\n",
      "rmssd                   float64\n",
      "pnn50                   float64\n",
      "mode                    float64\n",
      "amo                     float64\n",
      "lf                      float64\n",
      "hf                      float64\n",
      "vlf                     float64\n",
      "lfhf                    float64\n",
      "total_power             float64\n",
      "how_feel                  int64\n",
      "how_mood                  int64\n",
      "how_sleep               float64\n",
      "tags                     object\n",
      "rr_data                  object\n",
      "dtype: object\n"
     ]
    }
   ],
   "source": [
    "# check for data type in hrv_measurements\n",
    "\n",
    "print(hrv_measurements.dtypes)"
   ]
  },
  {
   "cell_type": "markdown",
   "metadata": {},
   "source": [
    "Those columns have consistent data types. However, the time_of_day column could be improved by converting it from an object to a datetime format. This will be done in the 5th part in this report."
   ]
  },
  {
   "cell_type": "code",
   "execution_count": 24,
   "metadata": {},
   "outputs": [
    {
     "name": "stdout",
     "output_type": "stream",
     "text": [
      "user_code          object\n",
      "gender             object\n",
      "age_range          object\n",
      "city               object\n",
      "country            object\n",
      "height            float64\n",
      "weight            float64\n",
      "symptoms_onset     object\n",
      "dtype: object\n"
     ]
    }
   ],
   "source": [
    " # check for data type in participants\n",
    "print(participants.dtypes)"
   ]
  },
  {
   "cell_type": "markdown",
   "metadata": {},
   "source": [
    "Those columns have consistent data types. However, the symptoms_onset column could be improved by converting it from an object to a datetime format. This will be done in the 5th part in this report."
   ]
  },
  {
   "cell_type": "markdown",
   "metadata": {},
   "source": [
    "Unique Values and Duplicates"
   ]
  },
  {
   "cell_type": "code",
   "execution_count": 25,
   "metadata": {},
   "outputs": [
    {
     "name": "stdout",
     "output_type": "stream",
     "text": [
      "0\n",
      "user_code 185\n",
      "rr_code 3245\n",
      "measurement_datetime 3241\n",
      "time_of_day 4\n",
      "bpm 71\n",
      "meanrr 3134\n",
      "mxdmn 66\n",
      "sdnn 3180\n",
      "rmssd 3174\n",
      "pnn50 146\n",
      "mode 18\n",
      "amo 87\n",
      "lf 1559\n",
      "hf 1524\n",
      "vlf 1283\n",
      "lfhf 1982\n",
      "total_power 2275\n",
      "how_feel 5\n",
      "how_mood 5\n",
      "how_sleep 6\n",
      "tags 1188\n",
      "rr_data 3245\n"
     ]
    }
   ],
   "source": [
    "# check for duplicates in hrv_measurements\n",
    "print(hrv_measurements.duplicated().sum())\n",
    "\n",
    "for column in hrv_measurements.columns:\n",
    "    print(column, len(hrv_measurements[column].unique()))"
   ]
  },
  {
   "cell_type": "markdown",
   "metadata": {},
   "source": [
    "It shows that there are no duplicate rows in hrv_measurements dataset and there is no column with one unique value which provides useless information."
   ]
  },
  {
   "cell_type": "code",
   "execution_count": 26,
   "metadata": {},
   "outputs": [
    {
     "name": "stdout",
     "output_type": "stream",
     "text": [
      "0\n",
      "user_code 185\n",
      "gender 2\n",
      "age_range 6\n",
      "city 117\n",
      "country 26\n",
      "height 55\n",
      "weight 142\n",
      "symptoms_onset 75\n"
     ]
    }
   ],
   "source": [
    "# check for duplicates in participants\n",
    "print(participants.duplicated().sum())\n",
    "\n",
    "for column in participants.columns:\n",
    "    print(column, len(participants[column].unique()))"
   ]
  },
  {
   "cell_type": "markdown",
   "metadata": {},
   "source": [
    "It shows that there are no duplicate rows in participants dataset and there is no column with one unique value which provides useless information."
   ]
  },
  {
   "cell_type": "markdown",
   "metadata": {},
   "source": [
    "Outliers"
   ]
  },
  {
   "cell_type": "code",
   "execution_count": 27,
   "metadata": {},
   "outputs": [
    {
     "name": "stdout",
     "output_type": "stream",
     "text": [
      "bpm\n",
      "281     106\n",
      "2459    106\n",
      "2447    106\n",
      "2577    107\n",
      "2412    107\n",
      "2469    107\n",
      "2589    107\n",
      "2594    107\n",
      "1373    107\n",
      "975     107\n",
      "2510    107\n",
      "2603    108\n",
      "2425    108\n",
      "2519    109\n",
      "2550    109\n",
      "1076    109\n",
      "2493    110\n",
      "2612    110\n",
      "2611    110\n",
      "2552    110\n",
      "2468    111\n",
      "2636    111\n",
      "2521    116\n",
      "2582    117\n",
      "2492    125\n",
      "Name: bpm, dtype: int64\n",
      "meanrr\n",
      "590     1207.93\n",
      "591     1208.90\n",
      "964     1209.39\n",
      "722     1210.55\n",
      "689     1213.05\n",
      "654     1245.24\n",
      "705     1252.65\n",
      "1246    1273.92\n",
      "289     1309.56\n",
      "736     1311.24\n",
      "737     1336.73\n",
      "963     1346.74\n",
      "Name: meanrr, dtype: float64\n",
      "mxdmn\n",
      "1336    0.39\n",
      "1590    0.39\n",
      "1097    0.39\n",
      "999     0.39\n",
      "2934    0.39\n",
      "        ... \n",
      "2342    0.67\n",
      "2863    0.67\n",
      "2859    0.67\n",
      "2912    0.67\n",
      "2823    0.79\n",
      "Name: mxdmn, Length: 198, dtype: float64\n",
      "sdnn\n",
      "670     112.284\n",
      "667     112.320\n",
      "692     113.065\n",
      "1093    113.262\n",
      "1022    113.453\n",
      "         ...   \n",
      "2863    187.268\n",
      "2859    187.419\n",
      "2912    193.519\n",
      "2823    204.016\n",
      "2342    206.631\n",
      "Name: sdnn, Length: 149, dtype: float64\n",
      "rmssd\n",
      "2802    112.737\n",
      "2163    112.794\n",
      "2075    112.870\n",
      "2704    112.938\n",
      "1865    113.043\n",
      "         ...   \n",
      "2882    271.810\n",
      "2908    273.589\n",
      "2899    275.786\n",
      "2912    277.096\n",
      "2823    310.800\n",
      "Name: rmssd, Length: 195, dtype: float64\n",
      "pnn50\n",
      "1813    64.65\n",
      "2752    64.65\n",
      "736     64.65\n",
      "3039    64.65\n",
      "1101    64.65\n",
      "        ...  \n",
      "2823    88.89\n",
      "2865    89.90\n",
      "2905    89.90\n",
      "2933    89.90\n",
      "2872    91.92\n",
      "Name: pnn50, Length: 127, dtype: float64\n",
      "mode\n",
      "289     1.275\n",
      "654     1.275\n",
      "705     1.275\n",
      "1246    1.275\n",
      "736     1.325\n",
      "737     1.325\n",
      "963     1.325\n",
      "Name: mode, dtype: float64\n",
      "amo\n",
      "2564    91.0\n",
      "3077    91.0\n",
      "2524    91.0\n",
      "2362    91.0\n",
      "941     91.0\n",
      "911     91.0\n",
      "3116    92.0\n",
      "141     92.0\n",
      "2367    92.0\n",
      "1339    92.0\n",
      "884     92.0\n",
      "2572    93.0\n",
      "2363    93.0\n",
      "3113    93.0\n",
      "2500    93.0\n",
      "146     93.0\n",
      "830     93.0\n",
      "917     94.0\n",
      "50      94.0\n",
      "2588    94.0\n",
      "2465    94.0\n",
      "344     94.0\n",
      "2557    94.0\n",
      "748     94.0\n",
      "1476    94.0\n",
      "2512    95.0\n",
      "1486    95.0\n",
      "2455    95.0\n",
      "965     96.0\n",
      "3075    96.0\n",
      "921     96.0\n",
      "2492    96.0\n",
      "650     96.0\n",
      "61      97.0\n",
      "2355    97.0\n",
      "2980    97.0\n",
      "140     97.0\n",
      "2366    97.0\n",
      "2537    98.0\n",
      "Name: amo, dtype: float64\n",
      "lf\n",
      "2958     2422.0\n",
      "2941     2429.0\n",
      "1965     2435.0\n",
      "1688     2439.0\n",
      "669      2444.0\n",
      "         ...   \n",
      "2859    12050.0\n",
      "660     12431.0\n",
      "2707    12825.0\n",
      "2703    12844.0\n",
      "2705    15522.0\n",
      "Name: lf, Length: 291, dtype: float64\n",
      "hf\n",
      "1502     2246.0\n",
      "697      2255.0\n",
      "1102     2256.0\n",
      "2309     2261.0\n",
      "1133     2263.0\n",
      "         ...   \n",
      "2882    22666.0\n",
      "2899    23733.0\n",
      "2918    23808.0\n",
      "2823    26955.0\n",
      "2342    33490.0\n",
      "Name: hf, Length: 334, dtype: float64\n",
      "vlf\n",
      "2989     1559.0\n",
      "1152     1562.0\n",
      "968      1565.0\n",
      "662      1568.0\n",
      "1749     1586.0\n",
      "         ...   \n",
      "1657     7142.0\n",
      "2963     8283.0\n",
      "116      9690.0\n",
      "1235    12561.0\n",
      "118     18468.0\n",
      "Name: vlf, Length: 262, dtype: float64\n",
      "lfhf\n",
      "1832      4.333\n",
      "1900      4.336\n",
      "1268      4.355\n",
      "2187      4.371\n",
      "918       4.375\n",
      "         ...   \n",
      "1705     69.143\n",
      "1695     73.526\n",
      "1699     76.500\n",
      "1708     95.286\n",
      "1704    105.625\n",
      "Name: lfhf, Length: 382, dtype: float64\n",
      "total_power\n",
      "448      6357.0\n",
      "1923     6366.0\n",
      "2761     6386.0\n",
      "2441     6388.0\n",
      "526      6403.0\n",
      "         ...   \n",
      "2931    29456.0\n",
      "2918    32742.0\n",
      "2859    32950.0\n",
      "2823    35372.0\n",
      "2342    41118.0\n",
      "Name: total_power, Length: 266, dtype: float64\n",
      "how_feel\n",
      "116     2\n",
      "1763    2\n",
      "1743    2\n",
      "1722    2\n",
      "1732    2\n",
      "1735    2\n",
      "1770    2\n",
      "1775    2\n",
      "1777    2\n",
      "1778    2\n",
      "1686    2\n",
      "1751    2\n",
      "2619    2\n",
      "2641    2\n",
      "2646    2\n",
      "2748    2\n",
      "2752    2\n",
      "2758    2\n",
      "2787    2\n",
      "2779    2\n",
      "2780    2\n",
      "2781    2\n",
      "2785    2\n",
      "2652    2\n",
      "1748    2\n",
      "1745    2\n",
      "1602    2\n",
      "115     2\n",
      "150     2\n",
      "204     2\n",
      "205     2\n",
      "281     2\n",
      "290     2\n",
      "315     2\n",
      "346     2\n",
      "782     2\n",
      "963     2\n",
      "1080    2\n",
      "1078    2\n",
      "1079    2\n",
      "1358    2\n",
      "1359    2\n",
      "1368    2\n",
      "1364    2\n",
      "1343    2\n",
      "1370    2\n",
      "1521    2\n",
      "1606    2\n",
      "1605    2\n",
      "1601    2\n",
      "2786    2\n",
      "2835    2\n",
      "Name: how_feel, dtype: int64\n",
      "how_mood\n",
      "1479   -2\n",
      "772    -2\n",
      "1214   -2\n",
      "1178   -2\n",
      "882    -2\n",
      "       ..\n",
      "2786    2\n",
      "2785    2\n",
      "2788    2\n",
      "1369    2\n",
      "2751    2\n",
      "Name: how_mood, Length: 910, dtype: int64\n",
      "how_sleep\n",
      "1508   -2.0\n",
      "1213   -2.0\n",
      "1214   -2.0\n",
      "1226   -2.0\n",
      "956    -2.0\n",
      "       ... \n",
      "1686    2.0\n",
      "1687    2.0\n",
      "1812    2.0\n",
      "2752    2.0\n",
      "1702    2.0\n",
      "Name: how_sleep, Length: 499, dtype: float64\n"
     ]
    }
   ],
   "source": [
    "# checkout for outliers in hrv_measurements\n",
    "numeric_columns = hrv_measurements.select_dtypes(exclude=['object']).columns\n",
    "for column in numeric_columns:\n",
    "\n",
    "    Q1 = hrv_measurements[column].quantile(0.25)\n",
    "    Q3 = hrv_measurements[column].quantile(0.75)\n",
    "    IQR = Q3 - Q1\n",
    "\n",
    "    outliers= hrv_measurements[((hrv_measurements[column] < (Q1 - 1.5 * IQR)) | (hrv_measurements[column] > (Q3 + 1.5 * IQR)))][column].sort_values()\n",
    "\n",
    "    print(column)\n",
    "    print(outliers)"
   ]
  },
  {
   "cell_type": "markdown",
   "metadata": {},
   "source": [
    "This is outliers in hrv_measurements table and in the medical field, outliers are important as they represent extreme medical data, which can be critical when analyzing underlying issues."
   ]
  },
  {
   "cell_type": "code",
   "execution_count": 28,
   "metadata": {},
   "outputs": [
    {
     "name": "stdout",
     "output_type": "stream",
     "text": [
      "height\n",
      "65     132.08\n",
      "136    193.00\n",
      "175    193.00\n",
      "83     203.00\n",
      "49     248.92\n",
      "102    250.00\n",
      "Name: height, dtype: float64\n",
      "weight\n",
      "24     132.900\n",
      "109    133.810\n",
      "137    154.221\n",
      "Name: weight, dtype: float64\n"
     ]
    }
   ],
   "source": [
    "# checkout for outliers in participants\n",
    "numeric_columns = participants.select_dtypes(exclude=['object']).columns\n",
    "\n",
    "for column in numeric_columns:\n",
    "    \n",
    "    Q1 = participants[column].quantile(0.25)\n",
    "    Q3 = participants[column].quantile(0.75)\n",
    "    IQR = Q3 - Q1\n",
    "\n",
    "    outliers= participants[((participants[column] < (Q1 - 1.5 * IQR)) | (participants[column] > (Q3 + 1.5 * IQR)))][column].sort_values()\n",
    "\n",
    "    print(column)\n",
    "    print(outliers)"
   ]
  },
  {
   "cell_type": "markdown",
   "metadata": {},
   "source": [
    "This is outliers in participants table. Outliers in height might present some wrong data because it is highly unusual for people to a height of 248 or 250cm."
   ]
  },
  {
   "cell_type": "markdown",
   "metadata": {},
   "source": [
    "#### Accuracy"
   ]
  },
  {
   "cell_type": "code",
   "execution_count": 36,
   "metadata": {},
   "outputs": [
    {
     "name": "stdout",
     "output_type": "stream",
     "text": [
      "Empty DataFrame\n",
      "Columns: [user_code, day, sleep_begin, sleep_end, sleep_duration, sleep_awake_duration, sleep_rem_duration, sleep_light_duration, sleep_deep_duration, pulse_min, pulse_max, pulse_average]\n",
      "Index: []\n"
     ]
    }
   ],
   "source": [
    "# check for invalid values in sleep\n",
    "\n",
    "sleep_tmp=pd.DataFrame()\n",
    "sleep_tmp['sleep_begin'] = pd.to_datetime(sleep['sleep_begin'])\n",
    "sleep_tmp['sleep_end'] = pd.to_datetime(sleep['sleep_end'])\n",
    "sleep_tmp['day'] = pd.to_datetime(sleep['day']).dt.date  # Only keep the date part for comparison\n",
    "\n",
    "# Check for invalid values based on conditions:\n",
    "invalid_values = sleep[(sleep['sleep_duration'] < 0) |\n",
    "                       ((sleep_tmp['sleep_begin'].dt.date < (sleep_tmp['day'] - pd.Timedelta(days=1)))) |\n",
    "                       (sleep_tmp['sleep_end'].dt.date > (sleep_tmp['day']+pd.Timedelta(days=1))) | \n",
    "                       (sleep_tmp['sleep_begin'].dt.date > (sleep_tmp['sleep_end']))]\n",
    "\n",
    "# Display invalid rows\n",
    "print(invalid_values)"
   ]
  },
  {
   "cell_type": "markdown",
   "metadata": {},
   "source": [
    "It shows that there are no invalid data in sleep and data are intertially no conflicts based on the check the consistence among day, sleep begin time and sleep end time."
   ]
  },
  {
   "cell_type": "code",
   "execution_count": 35,
   "metadata": {},
   "outputs": [
    {
     "data": {
      "text/html": [
       "<div>\n",
       "<style scoped>\n",
       "    .dataframe tbody tr th:only-of-type {\n",
       "        vertical-align: middle;\n",
       "    }\n",
       "\n",
       "    .dataframe tbody tr th {\n",
       "        vertical-align: top;\n",
       "    }\n",
       "\n",
       "    .dataframe thead th {\n",
       "        text-align: right;\n",
       "    }\n",
       "</style>\n",
       "<table border=\"1\" class=\"dataframe\">\n",
       "  <thead>\n",
       "    <tr style=\"text-align: right;\">\n",
       "      <th></th>\n",
       "      <th>user_code</th>\n",
       "      <th>scale</th>\n",
       "      <th>created_at</th>\n",
       "      <th>value</th>\n",
       "      <th>text</th>\n",
       "      <th>Scale</th>\n",
       "      <th>Description</th>\n",
       "      <th>Value</th>\n",
       "      <th>Meaning</th>\n",
       "    </tr>\n",
       "  </thead>\n",
       "  <tbody>\n",
       "  </tbody>\n",
       "</table>\n",
       "</div>"
      ],
      "text/plain": [
       "Empty DataFrame\n",
       "Columns: [user_code, scale, created_at, value, text, Scale, Description, Value, Meaning]\n",
       "Index: []"
      ]
     },
     "execution_count": 35,
     "metadata": {},
     "output_type": "execute_result"
    }
   ],
   "source": [
    "# check for invalid values in surveys\n",
    "\n",
    "merged_survey_participants = pd.merge(surveys, scales_description, left_on=['scale','value'],right_on=['Scale','Value'],how='left')\n",
    "\n",
    "invalid_values = merged_survey_participants[merged_survey_participants['Meaning'].isnull()]\n",
    "\n",
    "invalid_values"
   ]
  },
  {
   "cell_type": "markdown",
   "metadata": {},
   "source": [
    "It shows that there are no conflicts between surveys and scales description. There are no undefined combination of scale and value in surveys."
   ]
  },
  {
   "cell_type": "markdown",
   "metadata": {},
   "source": [
    "#### Timeliness\n"
   ]
  },
  {
   "cell_type": "code",
   "execution_count": 74,
   "metadata": {},
   "outputs": [
    {
     "data": {
      "text/plain": [
       "user_code\n",
       "01bad5a519    False\n",
       "0d297d2410     True\n",
       "1b9321b648    False\n",
       "1ce1d77659     True\n",
       "1ed25f66e9    False\n",
       "276ab22485     True\n",
       "295ed96279    False\n",
       "425969dc69     True\n",
       "5108b04245     True\n",
       "588d6b2046     True\n",
       "6be5033971    False\n",
       "6ecfe4a351    False\n",
       "7ba5381254    False\n",
       "7d2c87fb7e     True\n",
       "8633d50fa7    False\n",
       "974d68bcdd    False\n",
       "982ec78569    False\n",
       "9871ee5e7b     True\n",
       "a1c2e6b2eb    False\n",
       "aa036185e3     True\n",
       "dtype: bool"
      ]
     },
     "execution_count": 74,
     "metadata": {},
     "output_type": "execute_result"
    }
   ],
   "source": [
    "# check for timeliness in blood pressure\n",
    "\n",
    "timeliness_test=blood_pressure\n",
    "timeliness_test['measurement_datetime']=pd.to_datetime(blood_pressure['measurement_datetime'])\n",
    "\n",
    "timeliness_test = timeliness_test.groupby('user_code').apply(lambda group:group['measurement_datetime'].is_monotonic_increasing)\n",
    "                                                             \n",
    "timeliness_test.head(20)"
   ]
  },
  {
   "cell_type": "markdown",
   "metadata": {},
   "source": [
    "It shows that in blood pressure dataset, there are lots of users whose data are not in chronological order. It will be better to arrage data in time sequences."
   ]
  },
  {
   "cell_type": "code",
   "execution_count": 75,
   "metadata": {},
   "outputs": [
    {
     "data": {
      "text/plain": [
       "user_code\n",
       "007b8190cf     True\n",
       "01bad5a519    False\n",
       "0d297d2410    False\n",
       "0f2d7af30c    False\n",
       "128d2c7888    False\n",
       "18c4ac7b38     True\n",
       "19021f3a0a     True\n",
       "1942df1c47    False\n",
       "1b9321b648    False\n",
       "1ce1d77659    False\n",
       "1ed25f66e9    False\n",
       "224babc773    False\n",
       "276ab22485    False\n",
       "295ed96279    False\n",
       "29d2a4bb3a    False\n",
       "2e94435085    False\n",
       "324912eca4    False\n",
       "35c7355282    False\n",
       "3acfbb328e    False\n",
       "425969dc69    False\n",
       "dtype: bool"
      ]
     },
     "execution_count": 75,
     "metadata": {},
     "output_type": "execute_result"
    }
   ],
   "source": [
    "# check for timeliness in hear rate\n",
    "\n",
    "timeliness_test=heart_rate\n",
    "timeliness_test['datetime']=pd.to_datetime(heart_rate['datetime'])\n",
    "\n",
    "timeliness_test = timeliness_test.groupby('user_code').apply(lambda group:group['datetime'].is_monotonic_increasing)\n",
    "                                                             \n",
    "timeliness_test.head(20)"
   ]
  },
  {
   "cell_type": "markdown",
   "metadata": {},
   "source": [
    "It shows that in heartrate dataset, there are lots of users whose data are not in chronological order. It will be better to arrage data in time sequences."
   ]
  },
  {
   "cell_type": "markdown",
   "metadata": {},
   "source": [
    "#### Uniqueness"
   ]
  },
  {
   "cell_type": "code",
   "execution_count": 76,
   "metadata": {},
   "outputs": [
    {
     "name": "stdout",
     "output_type": "stream",
     "text": [
      "185 185\n"
     ]
    }
   ],
   "source": [
    "# primary key uniqueness check for participants\n",
    "\n",
    "unique_count=participants['user_code'].nunique()\n",
    "total_count=len(participants)\n",
    "\n",
    "print(unique_count,total_count)"
   ]
  },
  {
   "cell_type": "markdown",
   "metadata": {},
   "source": [
    "This shows that all users(primary key) in participants are unique, indicating that there are no duplicates in primary keys."
   ]
  },
  {
   "cell_type": "code",
   "execution_count": 79,
   "metadata": {},
   "outputs": [
    {
     "name": "stdout",
     "output_type": "stream",
     "text": [
      "148 148\n"
     ]
    }
   ],
   "source": [
    "# primary key uniqueness check for scales_description\n",
    "\n",
    "unique_count=scales_description.loc[:,['Scale','Value']].drop_duplicates().shape[0]\n",
    "total_count=len(scales_description)\n",
    "\n",
    "print(unique_count,total_count)"
   ]
  },
  {
   "cell_type": "markdown",
   "metadata": {},
   "source": [
    "This shows that all combinations of scales and Value(primary key) in participants are unique, indicating that there are no duplicates in primary keys."
   ]
  },
  {
   "cell_type": "markdown",
   "metadata": {},
   "source": [
    "#### Validity"
   ]
  },
  {
   "cell_type": "code",
   "execution_count": 91,
   "metadata": {},
   "outputs": [
    {
     "data": {
      "text/html": [
       "<div>\n",
       "<style scoped>\n",
       "    .dataframe tbody tr th:only-of-type {\n",
       "        vertical-align: middle;\n",
       "    }\n",
       "\n",
       "    .dataframe tbody tr th {\n",
       "        vertical-align: top;\n",
       "    }\n",
       "\n",
       "    .dataframe thead th {\n",
       "        text-align: right;\n",
       "    }\n",
       "</style>\n",
       "<table border=\"1\" class=\"dataframe\">\n",
       "  <thead>\n",
       "    <tr style=\"text-align: right;\">\n",
       "      <th></th>\n",
       "      <th>user_code</th>\n",
       "      <th>gender</th>\n",
       "      <th>age_range</th>\n",
       "      <th>city</th>\n",
       "      <th>country</th>\n",
       "      <th>height</th>\n",
       "      <th>weight</th>\n",
       "      <th>symptoms_onset</th>\n",
       "    </tr>\n",
       "  </thead>\n",
       "  <tbody>\n",
       "    <tr>\n",
       "      <th>20</th>\n",
       "      <td>1942df1c47</td>\n",
       "      <td>f</td>\n",
       "      <td>18-24</td>\n",
       "      <td>Anaheim</td>\n",
       "      <td>United States</td>\n",
       "      <td>165.10</td>\n",
       "      <td>56.699</td>\n",
       "      <td>3/6/1999</td>\n",
       "    </tr>\n",
       "    <tr>\n",
       "      <th>24</th>\n",
       "      <td>1f2eb6aded</td>\n",
       "      <td>m</td>\n",
       "      <td>25-34</td>\n",
       "      <td>Doha</td>\n",
       "      <td>Qatar</td>\n",
       "      <td>159.00</td>\n",
       "      <td>132.900</td>\n",
       "      <td>7/7/1987</td>\n",
       "    </tr>\n",
       "    <tr>\n",
       "      <th>29</th>\n",
       "      <td>262f55c029</td>\n",
       "      <td>m</td>\n",
       "      <td>35-44</td>\n",
       "      <td>Brooklyn</td>\n",
       "      <td>United States</td>\n",
       "      <td>165.10</td>\n",
       "      <td>60.781</td>\n",
       "      <td>11/26/1981</td>\n",
       "    </tr>\n",
       "    <tr>\n",
       "      <th>49</th>\n",
       "      <td>3fff7627ca</td>\n",
       "      <td>m</td>\n",
       "      <td>35-44</td>\n",
       "      <td>Fountain Hill</td>\n",
       "      <td>United States</td>\n",
       "      <td>248.92</td>\n",
       "      <td>114.713</td>\n",
       "      <td>4/5/1984</td>\n",
       "    </tr>\n",
       "    <tr>\n",
       "      <th>62</th>\n",
       "      <td>50249775be</td>\n",
       "      <td>m</td>\n",
       "      <td>35-44</td>\n",
       "      <td>Moscow</td>\n",
       "      <td>Russia</td>\n",
       "      <td>181.00</td>\n",
       "      <td>84.000</td>\n",
       "      <td>12/16/1982</td>\n",
       "    </tr>\n",
       "    <tr>\n",
       "      <th>91</th>\n",
       "      <td>78cc008261</td>\n",
       "      <td>m</td>\n",
       "      <td>45-54</td>\n",
       "      <td>Chelyabinsk</td>\n",
       "      <td>Russia</td>\n",
       "      <td>176.00</td>\n",
       "      <td>94.100</td>\n",
       "      <td>1/30/1967</td>\n",
       "    </tr>\n",
       "    <tr>\n",
       "      <th>94</th>\n",
       "      <td>7badc26d11</td>\n",
       "      <td>m</td>\n",
       "      <td>45-54</td>\n",
       "      <td>NaN</td>\n",
       "      <td>NaN</td>\n",
       "      <td>187.96</td>\n",
       "      <td>97.931</td>\n",
       "      <td>8/15/1968</td>\n",
       "    </tr>\n",
       "    <tr>\n",
       "      <th>102</th>\n",
       "      <td>83161408c1</td>\n",
       "      <td>m</td>\n",
       "      <td>25-34</td>\n",
       "      <td>Kurdistan</td>\n",
       "      <td>Iraq</td>\n",
       "      <td>250.00</td>\n",
       "      <td>82.146</td>\n",
       "      <td>1/1/1993</td>\n",
       "    </tr>\n",
       "    <tr>\n",
       "      <th>123</th>\n",
       "      <td>a46379283f</td>\n",
       "      <td>m</td>\n",
       "      <td>45-54</td>\n",
       "      <td>NaN</td>\n",
       "      <td>United Kingdom</td>\n",
       "      <td>160.00</td>\n",
       "      <td>60.000</td>\n",
       "      <td>3/28/1975</td>\n",
       "    </tr>\n",
       "    <tr>\n",
       "      <th>127</th>\n",
       "      <td>a78719c4a1</td>\n",
       "      <td>f</td>\n",
       "      <td>35-44</td>\n",
       "      <td>NaN</td>\n",
       "      <td>NaN</td>\n",
       "      <td>160.02</td>\n",
       "      <td>68.492</td>\n",
       "      <td>11/20/1977</td>\n",
       "    </tr>\n",
       "    <tr>\n",
       "      <th>136</th>\n",
       "      <td>b3c7f65a4b</td>\n",
       "      <td>m</td>\n",
       "      <td>18-24</td>\n",
       "      <td>Bullard</td>\n",
       "      <td>United States</td>\n",
       "      <td>193.00</td>\n",
       "      <td>65.998</td>\n",
       "      <td>6/7/2000</td>\n",
       "    </tr>\n",
       "  </tbody>\n",
       "</table>\n",
       "</div>"
      ],
      "text/plain": [
       "      user_code gender age_range           city         country  height  \\\n",
       "20   1942df1c47      f     18-24        Anaheim   United States  165.10   \n",
       "24   1f2eb6aded      m     25-34           Doha           Qatar  159.00   \n",
       "29   262f55c029      m     35-44       Brooklyn   United States  165.10   \n",
       "49   3fff7627ca      m     35-44  Fountain Hill   United States  248.92   \n",
       "62   50249775be      m     35-44         Moscow          Russia  181.00   \n",
       "91   78cc008261      m     45-54    Chelyabinsk          Russia  176.00   \n",
       "94   7badc26d11      m     45-54            NaN             NaN  187.96   \n",
       "102  83161408c1      m     25-34      Kurdistan            Iraq  250.00   \n",
       "123  a46379283f      m     45-54            NaN  United Kingdom  160.00   \n",
       "127  a78719c4a1      f     35-44            NaN             NaN  160.02   \n",
       "136  b3c7f65a4b      m     18-24        Bullard   United States  193.00   \n",
       "\n",
       "      weight symptoms_onset  \n",
       "20    56.699       3/6/1999  \n",
       "24   132.900       7/7/1987  \n",
       "29    60.781     11/26/1981  \n",
       "49   114.713       4/5/1984  \n",
       "62    84.000     12/16/1982  \n",
       "91    94.100      1/30/1967  \n",
       "94    97.931      8/15/1968  \n",
       "102   82.146       1/1/1993  \n",
       "123   60.000      3/28/1975  \n",
       "127   68.492     11/20/1977  \n",
       "136   65.998       6/7/2000  "
      ]
     },
     "execution_count": 91,
     "metadata": {},
     "output_type": "execute_result"
    }
   ],
   "source": [
    "# check data validity in participants\n",
    "\n",
    "invalid_values = participants[(participants['height']>240)|(pd.to_datetime(participants['symptoms_onset'])<'2020')]\n",
    "\n",
    "invalid_values"
   ]
  },
  {
   "cell_type": "markdown",
   "metadata": {},
   "source": [
    "It shows that there are 2 users with heights of 248.92 and 250.00cm, which is nearly impossible so it should be double check for the data validity. In addition, there are some other people whose values of symptoms_onset are below 2020, indicating their symptoms of COVID-19 occured before 2020, which is impossible. So those data are also invalid data."
   ]
  },
  {
   "cell_type": "markdown",
   "metadata": {},
   "source": [
    "### Variable Relationships"
   ]
  },
  {
   "cell_type": "markdown",
   "metadata": {},
   "source": [
    "This time we want to take a look at variable relationships in hrv_measurements:"
   ]
  },
  {
   "cell_type": "code",
   "execution_count": 108,
   "metadata": {},
   "outputs": [
    {
     "name": "stdout",
     "output_type": "stream",
     "text": [
      "                  bpm    meanrr     mxdmn      sdnn     rmssd     pnn50  \\\n",
      "bpm          1.000000 -0.977724 -0.343935 -0.341514 -0.214339 -0.408006   \n",
      "meanrr      -0.977724  1.000000  0.348015  0.348052  0.231696  0.445640   \n",
      "mxdmn       -0.343935  0.348015  1.000000  0.954639  0.846259  0.777242   \n",
      "sdnn        -0.341514  0.348052  0.954639  1.000000  0.909046  0.810236   \n",
      "rmssd       -0.214339  0.231696  0.846259  0.909046  1.000000  0.843065   \n",
      "pnn50       -0.408006  0.445640  0.777242  0.810236  0.843065  1.000000   \n",
      "mode        -0.956984  0.979400  0.262628  0.258114  0.128843  0.361014   \n",
      "amo          0.547373 -0.533668 -0.750213 -0.759049 -0.595028 -0.718982   \n",
      "lf          -0.171505  0.176511  0.717783  0.743380  0.629966  0.558850   \n",
      "hf          -0.105204  0.128630  0.740832  0.773958  0.857374  0.727759   \n",
      "vlf         -0.240630  0.242066  0.491447  0.489891  0.274702  0.288167   \n",
      "lfhf        -0.003373 -0.024851  0.027057 -0.022080 -0.164167 -0.183521   \n",
      "total_power -0.184698  0.201795  0.848769  0.879030  0.841720  0.735768   \n",
      "how_feel    -0.078663  0.085541  0.103378  0.088479  0.061925  0.070678   \n",
      "how_mood    -0.032198  0.034346  0.083491  0.062567  0.035193  0.044646   \n",
      "how_sleep   -0.113765  0.099064  0.073399  0.041479 -0.004530  0.011727   \n",
      "\n",
      "                 mode       amo        lf        hf       vlf      lfhf  \\\n",
      "bpm         -0.956984  0.547373 -0.171505 -0.105204 -0.240630 -0.003373   \n",
      "meanrr       0.979400 -0.533668  0.176511  0.128630  0.242066 -0.024851   \n",
      "mxdmn        0.262628 -0.750213  0.717783  0.740832  0.491447  0.027057   \n",
      "sdnn         0.258114 -0.759049  0.743380  0.773958  0.489891 -0.022080   \n",
      "rmssd        0.128843 -0.595028  0.629966  0.857374  0.274702 -0.164167   \n",
      "pnn50        0.361014 -0.718982  0.558850  0.727759  0.288167 -0.183521   \n",
      "mode         1.000000 -0.474759  0.094913  0.021732  0.233424 -0.026460   \n",
      "amo         -0.474759  1.000000 -0.548294 -0.468831 -0.441690 -0.083006   \n",
      "lf           0.094913 -0.548294  1.000000  0.601294  0.338897  0.163171   \n",
      "hf           0.021732 -0.468831  0.601294  1.000000  0.227192 -0.123659   \n",
      "vlf          0.233424 -0.441690  0.338897  0.227192  1.000000  0.021866   \n",
      "lfhf        -0.026460 -0.083006  0.163171 -0.123659  0.021866  1.000000   \n",
      "total_power  0.101451 -0.601409  0.830744  0.911203  0.494792 -0.013119   \n",
      "how_feel     0.083283 -0.081790  0.047117  0.071503  0.079490  0.096679   \n",
      "how_mood     0.034308 -0.071390  0.034439  0.035415  0.067652  0.110319   \n",
      "how_sleep    0.102829 -0.064911  0.001358  0.000971  0.099986  0.085351   \n",
      "\n",
      "             total_power  how_feel  how_mood  how_sleep  \n",
      "bpm            -0.184698 -0.078663 -0.032198  -0.113765  \n",
      "meanrr          0.201795  0.085541  0.034346   0.099064  \n",
      "mxdmn           0.848769  0.103378  0.083491   0.073399  \n",
      "sdnn            0.879030  0.088479  0.062567   0.041479  \n",
      "rmssd           0.841720  0.061925  0.035193  -0.004530  \n",
      "pnn50           0.735768  0.070678  0.044646   0.011727  \n",
      "mode            0.101451  0.083283  0.034308   0.102829  \n",
      "amo            -0.601409 -0.081790 -0.071390  -0.064911  \n",
      "lf              0.830744  0.047117  0.034439   0.001358  \n",
      "hf              0.911203  0.071503  0.035415   0.000971  \n",
      "vlf             0.494792  0.079490  0.067652   0.099986  \n",
      "lfhf           -0.013119  0.096679  0.110319   0.085351  \n",
      "total_power     1.000000  0.080860  0.050517   0.025892  \n",
      "how_feel        0.080860  1.000000  0.633266   0.599439  \n",
      "how_mood        0.050517  0.633266  1.000000   0.519796  \n",
      "how_sleep       0.025892  0.599439  0.519796   1.000000  \n"
     ]
    }
   ],
   "source": [
    "# Correlation matrix for numeric columns of hrv_measurements\n",
    "\n",
    "hrv_measurements_modified=hrv_measurements.drop(['tags','rr_data','user_code','rr_code','measurement_datetime','time_of_day'],axis=1)\n",
    "\n",
    "correlation_matrix=hrv_measurements_modified.corr()\n",
    "\n",
    "print(correlation_matrix)"
   ]
  },
  {
   "cell_type": "code",
   "execution_count": 109,
   "metadata": {},
   "outputs": [
    {
     "data": {
      "image/png": "[encoded data removed]",
      "text/plain": [
       "<Figure size 640x480 with 2 Axes>"
      ]
     },
     "metadata": {},
     "output_type": "display_data"
    }
   ],
   "source": [
    "# Heatmap for correlation matrix\n",
    "\n",
    "import seaborn as sns\n",
    "import matplotlib.pyplot as plt\n",
    "\n",
    "sns.heatmap(correlation_matrix, annot=True, cmap='coolwarm', annot_kws={\"size\": 5})\n",
    "plt.title(\"Correlation Matrix Heatmap in HRV Measurements\")\n",
    "plt.xticks(rotation=45,fontsize=6)\n",
    "plt.yticks(rotation=45,fontsize=6)\n",
    "\n",
    "plt.show()"
   ]
  },
  {
   "cell_type": "markdown",
   "metadata": {},
   "source": [
    "From the correlation matrix and heatmap, we can know that there is highly negative relevance between meannrr and bpm, mode and bpm. And there is highly positive relevance between mxdmn and sdnn, sdnn and rmssd, hf and total_power, which provides information for feature dimensionality reduction."
   ]
  },
  {
   "cell_type": "markdown",
   "metadata": {},
   "source": [
    "## 3. Visualization"
   ]
  },
  {
   "cell_type": "markdown",
   "metadata": {},
   "source": [
    "#### The Correlation between maxdmn and sdnn"
   ]
  },
  {
   "cell_type": "markdown",
   "metadata": {},
   "source": [
    "From the correlation map and correlation matrix, we can see that there is a significant positive revelance between maxdmm and sdnn for patients with COVID-19. Now let's use scatters to explore those relationship further."
   ]
  },
  {
   "cell_type": "code",
   "execution_count": 114,
   "metadata": {},
   "outputs": [
    {
     "data": {
      "image/png": "[encoded data removed]",
      "text/plain": [
       "<Figure size 640x480 with 1 Axes>"
      ]
     },
     "metadata": {},
     "output_type": "display_data"
    }
   ],
   "source": [
    "# only users in participants in hrv_measurements\n",
    "\n",
    "hrv_measurements_filtered=hrv_measurements[hrv_measurements['user_code'].isin(participants['user_code'])]\n",
    "\n",
    "plt.scatter(hrv_measurements_filtered['rmssd'],hrv_measurements_filtered['sdnn'],s=5)\n",
    "\n",
    "plt.xlabel('rmssd')\n",
    "plt.ylabel('sdnn')\n",
    "\n",
    "plt.title('Scatter plot between rmssd and sdnn')\n",
    "\n",
    "# reduce the effect of overlapping points\n",
    "plt.tight_layout()\n",
    "plt.show()"
   ]
  },
  {
   "cell_type": "markdown",
   "metadata": {},
   "source": [
    "It shows that there are nearly linear relationship between these two variables. So we can conclude that there are nealy linear relationship between rmssd and sdnn for patients with COVID-19."
   ]
  },
  {
   "cell_type": "markdown",
   "metadata": {},
   "source": [
    "#### Case Study: Trends in blood pressure of user 01bad5a519 after having COVID symptoms."
   ]
  },
  {
   "cell_type": "code",
   "execution_count": 135,
   "metadata": {},
   "outputs": [
    {
     "data": {
      "image/png": "[encoded data removed]",
      "text/plain": [
       "<Figure size 1000x500 with 1 Axes>"
      ]
     },
     "metadata": {},
     "output_type": "display_data"
    }
   ],
   "source": [
    "# get the list of blood pressure mesurements for each user\n",
    "\n",
    "user_code='01bad5a519'\n",
    "\n",
    "diastolic_list=blood_pressure[blood_pressure['user_code']==user_code].sort_values('measurement_datetime')['diastolic']\n",
    "systolic_list=blood_pressure[blood_pressure['user_code']==user_code].sort_values('measurement_datetime')['systolic']\n",
    "\n",
    "measurement_list=blood_pressure[blood_pressure['user_code']==user_code].sort_values('measurement_datetime')['measurement_datetime']\n",
    "\n",
    "plt.figure(figsize=(10, 5))  # Set the width to 10 and height to 5\n",
    "\n",
    "plt.plot(measurement_list,diastolic_list,label='diastolic')\n",
    "plt.plot(measurement_list,systolic_list,label='systolic')\n",
    "\n",
    "plt.xlabel('measurement_datetime')\n",
    "plt.ylabel('blood pressure')\n",
    "plt.title('Blood Pressure Measurement for user 01bad5a519')\n",
    "\n",
    "plt.legend()\n",
    "\n",
    "plt.tight_layout()\n",
    "plt.show()"
   ]
  },
  {
   "cell_type": "markdown",
   "metadata": {},
   "source": [
    "From the line chart above, we can see that the trends of diastolic and systolic of the measurement_datetime are similar. After a high diastolic and systolic in late April, there are rapid declines to the bottom of diastolic and systolic simultaneously. After 2020-05-03, there are increases of diastolic and systolic after 2020-05-03 and hit the top when datetime is 2020-05-06. After that, both diasolic and systolic slowly decrease and trend to stablize."
   ]
  }
 ],
 "metadata": {
  "kernelspec": {
   "display_name": "ta4",
   "language": "python",
   "name": "python3"
  },
  "language_info": {
   "codemirror_mode": {
    "name": "ipython",
    "version": 3
   },
   "file_extension": ".py",
   "mimetype": "text/x-python",
   "name": "python",
   "nbconvert_exporter": "python",
   "pygments_lexer": "ipython3",
   "version": "3.11.9"
  }
 },
 "nbformat": 4,
 "nbformat_minor": 2
}
