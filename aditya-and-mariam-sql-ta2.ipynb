{
 "cells": [
  {
   "cell_type": "markdown",
   "metadata": {},
   "source": [
    "##### CREATE SQLite database from CSV"
   ]
  },
  {
   "cell_type": "code",
   "execution_count": null,
   "metadata": {},
   "outputs": [],
   "source": [
    "import sqlite3 as sql\n",
    "import pandas as pd\n",
    "import csv\n",
    "\n",
    "connection = sql.connect('data/tips.db')\n",
    "cursor = connection.cursor()\n",
    "\n",
    "def query():\n",
    "    csv_file = 'data/tips.csv'\n",
    "    table_name = 'tips'\n",
    "    \n",
    "    try:\n",
    "        with open(csv_file, newline='') as t:\n",
    "            reader=csv.reader(t)\n",
    "            column_header= next(reader) #  list that contains the names of the columns from tips.csv\n",
    "            rows = [row for row in reader] # iterates through the data excluding the columns\n",
    "    except FileNotFoundError:\n",
    "        print(f\"Error: The file {csv_file} was not found.\")\n",
    "        return\n",
    "    except Exception as e:\n",
    "        print(e)\n",
    "        \n",
    "    try: \n",
    "        columns = ', '.join(f'\"{col}\" TEXT' for col in column_header) #Creating string to represent columns\n",
    "        creating_table = 'CREATE TABLE IF NOT EXISTS tips (\"total_bill\" TEXT, \"tip\" TEXT, \"sex\" TEXT, \"smoker\" TEXT, \"day\" TEXT, \"time\" TEXT, \"size\" TEXT);' # Creating columns from variable if table does not exist\n",
    "        cursor.execute(creating_table)\n",
    "\n",
    "        cursor.execute(f'DELETE FROM {table_name}')\n",
    "        \n",
    "        '''\n",
    "        The first join method in the line below combines all the column names in column_header into a single string with comma separation\n",
    "\n",
    "        The join with the \"?\" creates placeholders the length of # of columns for the actual values that will be inserted into tips.db\n",
    "        '''\n",
    "        populate_table_query = f'INSERT INTO {table_name} ({\", \".join(column_header)}) VALUES ({\", \".join([\"?\" for _ in column_header])});'\n",
    "\n",
    "        for row in rows:\n",
    "            cursor.execute(populate_table_query, row) # Row contains all the data underneath the columns\n",
    "\n",
    "        connection.commit()\n",
    "\n",
    "        # Below is not mandatory but it prints out tips.db to ensure the db has been populated correctly\n",
    "        sql_df = pd.read_sql_query(f'SELECT * FROM {table_name}', connection)\n",
    "        print(sql_df)\n",
    "    except sql.Error as e:\n",
    "        print(f\"Database Error: {e}\")\n",
    "    except Exception as e:\n",
    "        print(e)\n",
    "\n",
    "query()\n"
   ]
  },
  {
   "cell_type": "markdown",
   "metadata": {},
   "source": [
    "##### READ\n",
    "##### 1. Retrieve the average tip percentage for each day of the week"
   ]
  },
  {
   "cell_type": "code",
   "execution_count": null,
   "metadata": {
    "vscode": {
     "languageId": "sql"
    }
   },
   "outputs": [],
   "source": [
    "query = '''\n",
    "SELECT day, ROUND(AVG((tip/total_bill) * 100), 2) AS avg_tip_percentage\n",
    "FROM tips\n",
    "GROUP BY day\n",
    "'''\n",
    "result = cursor.execute(query)\n",
    "for row in result:\n",
    "    print(row)"
   ]
  },
  {
   "cell_type": "markdown",
   "metadata": {},
   "source": [
    "##### 2. Find the maximum and minimum total bill amounts"
   ]
  },
  {
   "cell_type": "code",
   "execution_count": null,
   "metadata": {},
   "outputs": [],
   "source": [
    "query = '''\n",
    "SELECT MAX(total_bill), MIN(total_bill)\n",
    "FROM tips\n",
    "'''\n",
    "result = cursor.execute(query)\n",
    "for row in result:\n",
    "    print(row)"
   ]
  },
  {
   "cell_type": "markdown",
   "metadata": {},
   "source": [
    "##### 3. Count the number of parties for each size"
   ]
  },
  {
   "cell_type": "code",
   "execution_count": null,
   "metadata": {},
   "outputs": [],
   "source": [
    "query = '''\n",
    "SELECT size, COUNT(size) AS size_count\n",
    "FROM tips\n",
    "GROUP BY size\n",
    "'''\n",
    "result = cursor.execute(query)\n",
    "for row in result:\n",
    "    print(row)"
   ]
  },
  {
   "cell_type": "markdown",
   "metadata": {},
   "source": [
    "##### 4. Retrieve the total bill and tip for parties of size 4 or more, where the tip percentage is greater than 15%"
   ]
  },
  {
   "cell_type": "code",
   "execution_count": null,
   "metadata": {},
   "outputs": [],
   "source": [
    "query = '''\n",
    "SELECT total_bill, tip\n",
    "FROM tips\n",
    "WHERE size >= 4 AND ((tip/total_bill) * 100) > 15\n",
    "'''\n",
    "result = cursor.execute(query)\n",
    "for row in result:\n",
    "    print(row)"
   ]
  },
  {
   "cell_type": "markdown",
   "metadata": {},
   "source": [
    "##### 5. Retrieve the total bill, tip amount, and tip percentage for each combination of day and time, sorted by tip percentage in descending order"
   ]
  },
  {
   "cell_type": "code",
   "execution_count": null,
   "metadata": {},
   "outputs": [],
   "source": [
    "query = '''\n",
    "SELECT total_bill, tip, ROUND((tip/total_bill) * 100, 2) AS tip_percentage\n",
    "FROM tips\n",
    "GROUP BY day, time\n",
    "ORDER BY tip_percentage DESC\n",
    "\n",
    "'''\n",
    "result = cursor.execute(query)\n",
    "for row in result:\n",
    "    print(row)"
   ]
  },
  {
   "cell_type": "markdown",
   "metadata": {},
   "source": [
    "##### 6. Find the average tip percentage for each combination of day, time, and smoker status"
   ]
  },
  {
   "cell_type": "code",
   "execution_count": null,
   "metadata": {},
   "outputs": [],
   "source": [
    "query = '''\n",
    "SELECT day, time, smoker, ROUND(AVG((tip/total_bill) * 100), 2) AS avg_tip_percentage\n",
    "FROM tips\n",
    "GROUP BY day, time, smoker\n",
    "'''\n",
    "result = cursor.execute(query)\n",
    "for row in result:\n",
    "    print(row)"
   ]
  },
  {
   "cell_type": "markdown",
   "metadata": {},
   "source": [
    "##### 7. Retrieve the total bill, tip amount, and tip percentage for each sex, sorted by total bill in descending order, and limit the results to the top 5 records"
   ]
  },
  {
   "cell_type": "code",
   "execution_count": null,
   "metadata": {},
   "outputs": [],
   "source": [
    "query1 = '''\n",
    "SELECT total_bill, tip, ROUND((tip/total_bill) * 100, 2) AS tip_percentage\n",
    "FROM tips\n",
    "WHERE sex = 'Male'\n",
    "ORDER BY total_bill DESC\n",
    "LIMIT 5\n",
    "'''\n",
    "result = cursor.execute(query1)\n",
    "for row in result:\n",
    "    print(row)\n",
    "    \n",
    "query2 = '''\n",
    "SELECT total_bill, tip, ROUND((tip/total_bill) * 100, 2) AS tip_percentage\n",
    "FROM tips\n",
    "WHERE sex = 'Female'\n",
    "ORDER BY total_bill DESC\n",
    "LIMIT 5\n",
    "'''\n",
    "result = cursor.execute(query2)\n",
    "for row in result:\n",
    "    print(row)"
   ]
  },
  {
   "cell_type": "markdown",
   "metadata": {},
   "source": [
    "##### 8. Find the maximum and minimum tip percentage for each day and time combination, along with the corresponding total bill and tip amount"
   ]
  },
  {
   "cell_type": "code",
   "execution_count": null,
   "metadata": {},
   "outputs": [],
   "source": [
    "query = '''\n",
    "SELECT ROUND(MAX((tip / total_bill) * 100), 2) AS max_tip_percentage, Round(MIN((tip / total_bill) * 100), 2) AS min_tip_percentage, total_bill, tip\n",
    "FROM tips\n",
    "GROUP BY day, time\n",
    "'''\n",
    "result = cursor.execute(query)\n",
    "for row in result:\n",
    "    print(row)"
   ]
  },
  {
   "cell_type": "markdown",
   "metadata": {},
   "source": [
    "##### 9. Retrieve the total bill, tip amount, and tip percentage for parties of size 4 or more, where the tip percentage is greater than 15%, and the total bill is between $50 and $100"
   ]
  },
  {
   "cell_type": "code",
   "execution_count": null,
   "metadata": {},
   "outputs": [],
   "source": [
    "query = '''\n",
    "SELECT total_bill, tip, ROUND((tip / total_bill) * 100, 2) AS tip_percentage\n",
    "FROM tips\n",
    "WHERE size >= 4\n",
    "AND((tip / total_bill) * 100) > 15 \n",
    "AND total_bill >= 50 AND total_bill <=100\n",
    "'''\n",
    "result = cursor.execute(query)\n",
    "for row in result:\n",
    "    print(row)"
   ]
  },
  {
   "cell_type": "markdown",
   "metadata": {},
   "source": [
    "##### 10. Find the average tip percentage for each combination of day, time, and smoker status, but only include combinations with more than 5 records\n"
   ]
  },
  {
   "cell_type": "code",
   "execution_count": null,
   "metadata": {},
   "outputs": [],
   "source": [
    "query = '''\n",
    "SELECT day, time, smoker, ROUND(AVG((tip / total_bill) * 100), 2) AS avg_tip_percentage\n",
    "FROM tips\n",
    "GROUP BY day, time, smoker\n",
    "HAVING COUNT(*) > 5\n",
    "'''\n",
    "result = cursor.execute(query)\n",
    "for row in result:\n",
    "    print(row)"
   ]
  },
  {
   "cell_type": "markdown",
   "metadata": {},
   "source": [
    "##### Additional Queries  \n",
    "##### 1. Find the average bill and tip percentage for smokers and non smokers"
   ]
  },
  {
   "cell_type": "code",
   "execution_count": null,
   "metadata": {},
   "outputs": [],
   "source": [
    "query = '''\n",
    "SELECT smoker, ROUND(AVG(total_bill), 2), ROUND(AVG((tip/total_bill) * 100), 2) AS avg_tip_percentage\n",
    "FROM tips\n",
    "GROUP BY smoker\n",
    "'''\n",
    "result = cursor.execute(query)\n",
    "for row in result:\n",
    "    print(row)"
   ]
  },
  {
   "cell_type": "markdown",
   "metadata": {},
   "source": [
    "##### 2. Retrieve the average total bill and tip amount for each day"
   ]
  },
  {
   "cell_type": "code",
   "execution_count": null,
   "metadata": {},
   "outputs": [],
   "source": [
    "query = '''\n",
    "    SELECT day, ROUND(AVG(total_bill), 2) AS avg_total_bill, ROUND(AVG(tip), 2) AS avg_tip\n",
    "    FROM tips\n",
    "    GROUP BY day;\n",
    "'''\n",
    "result = cursor.execute(query)\n",
    "for row in result:\n",
    "    print(row)"
   ]
  },
  {
   "cell_type": "markdown",
   "metadata": {},
   "source": [
    "##### 3. Retrieve the total bill and tip for the smallest and largest group sizes"
   ]
  },
  {
   "cell_type": "code",
   "execution_count": null,
   "metadata": {},
   "outputs": [],
   "source": [
    "query1 = '''\n",
    "    SELECT total_bill, tip\n",
    "    FROM tips\n",
    "    WHERE size = (SELECT MIN(size) FROM tips)\n",
    "    LIMIT 1;\n",
    "'''\n",
    "result = cursor.execute(query1)\n",
    "for row in result:\n",
    "    print(row)\n",
    "\n",
    "query2 = '''\n",
    "    SELECT total_bill, tip\n",
    "    FROM tips\n",
    "    WHERE size = (SELECT MAX(size) FROM tips)\n",
    "    LIMIT 1;\n",
    "'''\n",
    "result = cursor.execute(query2)\n",
    "for row in result:\n",
    "    print(row)"
   ]
  },
  {
   "cell_type": "markdown",
   "metadata": {},
   "source": [
    "##### 4. Find the count for smokers of each sex"
   ]
  },
  {
   "cell_type": "code",
   "execution_count": null,
   "metadata": {},
   "outputs": [],
   "source": [
    "query = '''\n",
    "SELECT sex, COUNT(*) AS smoker_count\n",
    "FROM tips\n",
    "WHERE smoker = \"Yes\"\n",
    "GROUP BY sex\n",
    "'''\n",
    "result = cursor.execute(query)\n",
    "for row in result:\n",
    "    print(row)"
   ]
  },
  {
   "cell_type": "markdown",
   "metadata": {},
   "source": [
    "##### 5. For each sex, calculate the average total bill and tip amount"
   ]
  },
  {
   "cell_type": "code",
   "execution_count": null,
   "metadata": {},
   "outputs": [],
   "source": [
    "query = '''\n",
    "SELECT sex, ROUND(AVG(total_bill) , 2) AS avg_total_bill, ROUND(AVG(tip), 2) AS avg_tip\n",
    "FROM tips\n",
    "GROUP BY sex\n",
    "'''\n",
    "result = cursor.execute(query)\n",
    "for row in result:\n",
    "    print(row)"
   ]
  },
  {
   "cell_type": "markdown",
   "metadata": {},
   "source": [
    "##### UPDATE the record that corresponds to id=10 and set smoker to Yes."
   ]
  },
  {
   "cell_type": "code",
   "execution_count": null,
   "metadata": {},
   "outputs": [],
   "source": [
    "query = '''\n",
    "UPDATE tips \n",
    "SET smoker = 'Yes' \n",
    "WHERE ROWID = 10;\n",
    "'''\n",
    "result = cursor.execute(query)\n",
    "for row in result:\n",
    "    print(row)"
   ]
  },
  {
   "cell_type": "markdown",
   "metadata": {},
   "source": [
    "##### DELETE records from the database that have a total bill that is less than $10."
   ]
  },
  {
   "cell_type": "code",
   "execution_count": null,
   "metadata": {},
   "outputs": [],
   "source": [
    "query = '''\n",
    "    DELETE \n",
    "    FROM tips \n",
    "    WHERE total_bill < 10;\n",
    "'''\n",
    "result = cursor.execute(query)\n",
    "for row in result:\n",
    "    print(row)"
   ]
  },
  {
   "cell_type": "markdown",
   "metadata": {},
   "source": [
    "##### Close Connection"
   ]
  },
  {
   "cell_type": "code",
   "execution_count": null,
   "metadata": {},
   "outputs": [],
   "source": [
    "if connection:\n",
    "    connection.close()"
   ]
  }
 ],
 "metadata": {
  "kernelspec": {
   "display_name": "aipi510",
   "language": "python",
   "name": "python3"
  },
  "language_info": {
   "codemirror_mode": {
    "name": "ipython",
    "version": 3
   },
   "file_extension": ".py",
   "mimetype": "text/x-python",
   "name": "python",
   "nbconvert_exporter": "python",
   "pygments_lexer": "ipython3",
   "version": "3.9.7"
  }
 },
 "nbformat": 4,
 "nbformat_minor": 2
}
