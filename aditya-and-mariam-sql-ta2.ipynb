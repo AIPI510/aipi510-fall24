{
 "cells": [
  {
   "cell_type": "markdown",
   "metadata": {},
   "source": [
    "##### CREATE SQLite database from CSV"
   ]
  },
  {
   "cell_type": "code",
   "execution_count": 7,
   "metadata": {},
   "outputs": [
    {
     "name": "stdout",
     "output_type": "stream",
     "text": [
      "    total_bill   tip     sex smoker   day    time size\n",
      "0        16.99  1.01  Female     No   Sun  Dinner    2\n",
      "1        10.34  1.66    Male     No   Sun  Dinner    3\n",
      "2        21.01   3.5    Male     No   Sun  Dinner    3\n",
      "3        23.68  3.31    Male     No   Sun  Dinner    2\n",
      "4        24.59  3.61  Female     No   Sun  Dinner    4\n",
      "..         ...   ...     ...    ...   ...     ...  ...\n",
      "239      29.03  5.92    Male     No   Sat  Dinner    3\n",
      "240      27.18   2.0  Female    Yes   Sat  Dinner    2\n",
      "241      22.67   2.0    Male    Yes   Sat  Dinner    2\n",
      "242      17.82  1.75    Male     No   Sat  Dinner    2\n",
      "243      18.78   3.0  Female     No  Thur  Dinner    2\n",
      "\n",
      "[244 rows x 7 columns]\n"
     ]
    }
   ],
   "source": [
    "import sqlite3 as sql\n",
    "import pandas as pd\n",
    "import csv\n",
    "\n",
    "connection = sql.connect('data/tips.db')\n",
    "cursor = connection.cursor()\n",
    "\n",
    "def query():\n",
    "    csv_file = 'data/tips.csv'\n",
    "    table_name = 'tips'\n",
    "    \n",
    "    try:\n",
    "        with open(csv_file, newline='') as t:\n",
    "            reader=csv.reader(t)\n",
    "            column_header= next(reader) #  list that contains the names of the columns from tips.csv\n",
    "            rows = [row for row in reader] # iterates through the data excluding the columns\n",
    "    except FileNotFoundError:\n",
    "        print(f\"Error: The file {csv_file} was not found.\")\n",
    "        return\n",
    "    except Exception as e:\n",
    "        print(e)\n",
    "        \n",
    "    try: \n",
    "        columns = ', '.join(f'\"{col}\" TEXT' for col in column_header) #Creating string to represent columns\n",
    "        creating_table = 'CREATE TABLE IF NOT EXISTS tips (\"total_bill\" TEXT, \"tip\" TEXT, \"sex\" TEXT, \"smoker\" TEXT, \"day\" TEXT, \"time\" TEXT, \"size\" TEXT);' # Creating columns from variable if table does not exist\n",
    "        cursor.execute(creating_table)\n",
    "\n",
    "        cursor.execute(f'DELETE FROM {table_name}')\n",
    "        \n",
    "        '''\n",
    "        The first join method in the line below combines all the column names in column_header into a single string with comma separation\n",
    "\n",
    "        The join with the \"?\" creates placeholders the length of # of columns for the actual values that will be inserted into tips.db\n",
    "        '''\n",
    "        populate_table_query = f'INSERT INTO {table_name} ({\", \".join(column_header)}) VALUES ({\", \".join([\"?\" for _ in column_header])});'\n",
    "\n",
    "        for row in rows:\n",
    "            cursor.execute(populate_table_query, row) # Row contains all the data underneath the columns\n",
    "\n",
    "        connection.commit()\n",
    "\n",
    "        # Below is not mandatory but it prints out tips.db to ensure the db has been populated correctly\n",
    "        sql_df = pd.read_sql_query(f'SELECT * FROM {table_name}', connection)\n",
    "        print(sql_df)\n",
    "    except sql.Error as e:\n",
    "        print(f\"Database Error: {e}\")\n",
    "    except Exception as e:\n",
    "        print(e)\n",
    "\n",
    "query()\n"
   ]
  },
  {
   "cell_type": "markdown",
   "metadata": {},
   "source": [
    "##### READ\n",
    "##### 1. Retrieve the average tip percentage for each day of the week"
   ]
  },
  {
   "cell_type": "code",
   "execution_count": 9,
   "metadata": {
    "vscode": {
     "languageId": "sql"
    }
   },
   "outputs": [
    {
     "name": "stdout",
     "output_type": "stream",
     "text": [
      "('Fri', 16.99)\n",
      "('Sat', 15.32)\n",
      "('Sun', 16.69)\n",
      "('Thur', 16.13)\n"
     ]
    }
   ],
   "source": [
    "query = '''\n",
    "SELECT day, ROUND(AVG((tip/total_bill) * 100), 2) AS avg_tip_percentage\n",
    "FROM tips\n",
    "GROUP BY day\n",
    "'''\n",
    "result = cursor.execute(query)\n",
    "for row in result:\n",
    "    print(row)"
   ]
  },
  {
   "cell_type": "markdown",
   "metadata": {},
   "source": [
    "##### 2. Find the maximum and minimum total bill amounts"
   ]
  },
  {
   "cell_type": "code",
   "execution_count": 10,
   "metadata": {},
   "outputs": [
    {
     "name": "stdout",
     "output_type": "stream",
     "text": [
      "('9.94', '10.07')\n"
     ]
    }
   ],
   "source": [
    "query = '''\n",
    "SELECT MAX(total_bill), MIN(total_bill)\n",
    "FROM tips\n",
    "'''\n",
    "result = cursor.execute(query)\n",
    "for row in result:\n",
    "    print(row)"
   ]
  },
  {
   "cell_type": "markdown",
   "metadata": {},
   "source": [
    "##### 3. Count the number of parties for each size"
   ]
  },
  {
   "cell_type": "code",
   "execution_count": 12,
   "metadata": {},
   "outputs": [
    {
     "name": "stdout",
     "output_type": "stream",
     "text": [
      "('1', 4)\n",
      "('2', 156)\n",
      "('3', 38)\n",
      "('4', 37)\n",
      "('5', 5)\n",
      "('6', 4)\n"
     ]
    }
   ],
   "source": [
    "query = '''\n",
    "SELECT size, COUNT(size) AS size_count\n",
    "FROM tips\n",
    "GROUP BY size\n",
    "'''\n",
    "result = cursor.execute(query)\n",
    "for row in result:\n",
    "    print(row)"
   ]
  },
  {
   "cell_type": "markdown",
   "metadata": {},
   "source": [
    "##### 4. Retrieve the total bill and tip for parties of size 4 or more, where the tip percentage is greater than 15%"
   ]
  },
  {
   "cell_type": "code",
   "execution_count": 11,
   "metadata": {},
   "outputs": [
    {
     "name": "stdout",
     "output_type": "stream",
     "text": [
      "('25.29', '4.71')\n",
      "('18.43', '3.0')\n",
      "('39.42', '7.58')\n",
      "('30.4', '5.6')\n",
      "('32.4', '6.0')\n",
      "('25.56', '4.34')\n",
      "('18.29', '3.76')\n",
      "('29.93', '5.07')\n",
      "('34.3', '6.7')\n",
      "('27.05', '5.0')\n",
      "('29.85', '5.14')\n",
      "('21.5', '3.5')\n",
      "('23.17', '6.5')\n",
      "('20.69', '5.0')\n",
      "('20.53', '4.0')\n",
      "('25.89', '5.16')\n",
      "('48.33', '9.0')\n"
     ]
    }
   ],
   "source": [
    "query = '''\n",
    "SELECT total_bill, tip\n",
    "FROM tips\n",
    "WHERE size >= 4 AND ((tip/total_bill) * 100) > 15\n",
    "'''\n",
    "result = cursor.execute(query)\n",
    "for row in result:\n",
    "    print(row)"
   ]
  },
  {
   "cell_type": "markdown",
   "metadata": {},
   "source": [
    "##### 5. Retrieve the total bill, tip amount, and tip percentage for each combination of day and time, sorted by tip percentage in descending order"
   ]
  },
  {
   "cell_type": "code",
   "execution_count": 13,
   "metadata": {},
   "outputs": [
    {
     "name": "stdout",
     "output_type": "stream",
     "text": [
      "('12.16', '2.2', 18.09)\n",
      "('20.65', '3.35', 16.22)\n",
      "('18.78', '3.0', 15.97)\n",
      "('27.2', '4.0', 14.71)\n",
      "('28.97', '3.0', 10.36)\n",
      "('16.99', '1.01', 5.94)\n"
     ]
    }
   ],
   "source": [
    "query = '''\n",
    "SELECT total_bill, tip, ROUND((tip/total_bill) * 100, 2) AS tip_percentage\n",
    "FROM tips\n",
    "GROUP BY day, time\n",
    "ORDER BY tip_percentage DESC\n",
    "\n",
    "'''\n",
    "result = cursor.execute(query)\n",
    "for row in result:\n",
    "    print(row)"
   ]
  },
  {
   "cell_type": "markdown",
   "metadata": {},
   "source": [
    "##### 6. Find the average tip percentage for each combination of day, time, and smoker status"
   ]
  },
  {
   "cell_type": "code",
   "execution_count": 14,
   "metadata": {},
   "outputs": [
    {
     "name": "stdout",
     "output_type": "stream",
     "text": [
      "('Fri', 'Dinner', 'No', 13.96)\n",
      "('Fri', 'Dinner', 'Yes', 16.53)\n",
      "('Fri', 'Lunch', 'No', 18.77)\n",
      "('Fri', 'Lunch', 'Yes', 18.89)\n",
      "('Sat', 'Dinner', 'No', 15.8)\n",
      "('Sat', 'Dinner', 'Yes', 14.79)\n",
      "('Sun', 'Dinner', 'No', 16.01)\n",
      "('Sun', 'Dinner', 'Yes', 18.73)\n",
      "('Thur', 'Dinner', 'No', 15.97)\n",
      "('Thur', 'Lunch', 'No', 16.03)\n",
      "('Thur', 'Lunch', 'Yes', 16.39)\n"
     ]
    }
   ],
   "source": [
    "query = '''\n",
    "SELECT day, time, smoker, ROUND(AVG((tip/total_bill) * 100), 2) AS avg_tip_percentage\n",
    "FROM tips\n",
    "GROUP BY day, time, smoker\n",
    "'''\n",
    "result = cursor.execute(query)\n",
    "for row in result:\n",
    "    print(row)"
   ]
  },
  {
   "cell_type": "markdown",
   "metadata": {},
   "source": [
    "##### 7. Retrieve the total bill, tip amount, and tip percentage for each sex, sorted by total bill in descending order, and limit the results to the top 5 records"
   ]
  },
  {
   "cell_type": "code",
   "execution_count": 15,
   "metadata": {},
   "outputs": [
    {
     "name": "stdout",
     "output_type": "stream",
     "text": [
      "('9.94', '1.56', 15.69)\n",
      "('9.78', '1.73', 17.69)\n",
      "('9.68', '1.32', 13.64)\n",
      "('9.55', '1.45', 15.18)\n",
      "('8.77', '2.0', 22.81)\n",
      "('9.6', '4.0', 41.67)\n",
      "('8.51', '1.25', 14.69)\n",
      "('8.35', '1.5', 17.96)\n",
      "('7.25', '1.0', 13.79)\n",
      "('5.75', '1.0', 17.39)\n"
     ]
    }
   ],
   "source": [
    "query1 = '''\n",
    "SELECT total_bill, tip, ROUND((tip/total_bill) * 100, 2) AS tip_percentage\n",
    "FROM tips\n",
    "WHERE sex = 'Male'\n",
    "ORDER BY total_bill DESC\n",
    "LIMIT 5\n",
    "'''\n",
    "result = cursor.execute(query1)\n",
    "for row in result:\n",
    "    print(row)\n",
    "    \n",
    "query2 = '''\n",
    "SELECT total_bill, tip, ROUND((tip/total_bill) * 100, 2) AS tip_percentage\n",
    "FROM tips\n",
    "WHERE sex = 'Female'\n",
    "ORDER BY total_bill DESC\n",
    "LIMIT 5\n",
    "'''\n",
    "result = cursor.execute(query2)\n",
    "for row in result:\n",
    "    print(row)"
   ]
  },
  {
   "cell_type": "markdown",
   "metadata": {},
   "source": [
    "##### 8. Find the maximum and minimum tip percentage for each day and time combination, along with the corresponding total bill and tip amount"
   ]
  },
  {
   "cell_type": "code",
   "execution_count": 16,
   "metadata": {},
   "outputs": [
    {
     "name": "stdout",
     "output_type": "stream",
     "text": [
      "(26.35, 10.36, '28.97', '3.0')\n",
      "(25.93, 11.77, '13.42', '1.58')\n",
      "(32.57, 3.56, '32.83', '1.17')\n",
      "(71.03, 5.94, '16.99', '1.01')\n",
      "(15.97, 15.97, '18.78', '3.0')\n",
      "(26.63, 7.3, '18.64', '1.36')\n"
     ]
    }
   ],
   "source": [
    "query = '''\n",
    "SELECT ROUND(MAX((tip / total_bill) * 100), 2) AS max_tip_percentage, Round(MIN((tip / total_bill) * 100), 2) AS min_tip_percentage, total_bill, tip\n",
    "FROM tips\n",
    "GROUP BY day, time\n",
    "'''\n",
    "result = cursor.execute(query)\n",
    "for row in result:\n",
    "    print(row)"
   ]
  },
  {
   "cell_type": "markdown",
   "metadata": {},
   "source": [
    "##### 9. Retrieve the total bill, tip amount, and tip percentage for parties of size 4 or more, where the tip percentage is greater than 15%, and the total bill is between $50 and $100"
   ]
  },
  {
   "cell_type": "code",
   "execution_count": 17,
   "metadata": {},
   "outputs": [],
   "source": [
    "query = '''\n",
    "SELECT total_bill, tip, ROUND((tip / total_bill) * 100, 2) AS tip_percentage\n",
    "FROM tips\n",
    "WHERE size >= 4\n",
    "AND((tip / total_bill) * 100) > 15 \n",
    "AND total_bill >= 50 AND total_bill <=100\n",
    "'''\n",
    "result = cursor.execute(query)\n",
    "for row in result:\n",
    "    print(row)"
   ]
  },
  {
   "cell_type": "markdown",
   "metadata": {},
   "source": [
    "##### 10. Find the average tip percentage for each combination of day, time, and smoker status, but only include combinations with more than 5 records\n"
   ]
  },
  {
   "cell_type": "code",
   "execution_count": 18,
   "metadata": {},
   "outputs": [
    {
     "name": "stdout",
     "output_type": "stream",
     "text": [
      "('Fri', 'Dinner', 'Yes', 16.53)\n",
      "('Fri', 'Lunch', 'Yes', 18.89)\n",
      "('Sat', 'Dinner', 'No', 15.8)\n",
      "('Sat', 'Dinner', 'Yes', 14.79)\n",
      "('Sun', 'Dinner', 'No', 16.01)\n",
      "('Sun', 'Dinner', 'Yes', 18.73)\n",
      "('Thur', 'Lunch', 'No', 16.03)\n",
      "('Thur', 'Lunch', 'Yes', 16.39)\n"
     ]
    }
   ],
   "source": [
    "query = '''\n",
    "SELECT day, time, smoker, ROUND(AVG((tip / total_bill) * 100), 2) AS avg_tip_percentage\n",
    "FROM tips\n",
    "GROUP BY day, time, smoker\n",
    "HAVING COUNT(*) > 5\n",
    "'''\n",
    "result = cursor.execute(query)\n",
    "for row in result:\n",
    "    print(row)"
   ]
  },
  {
   "cell_type": "markdown",
   "metadata": {},
   "source": [
    "##### Additional Queries  \n",
    "##### 1. Find the average bill and tip percentage for smokers and non smokers"
   ]
  },
  {
   "cell_type": "code",
   "execution_count": 19,
   "metadata": {},
   "outputs": [
    {
     "name": "stdout",
     "output_type": "stream",
     "text": [
      "('No', 19.19, 15.93)\n",
      "('Yes', 20.76, 16.32)\n"
     ]
    }
   ],
   "source": [
    "query = '''\n",
    "SELECT smoker, ROUND(AVG(total_bill), 2), ROUND(AVG((tip/total_bill) * 100), 2) AS avg_tip_percentage\n",
    "FROM tips\n",
    "GROUP BY smoker\n",
    "'''\n",
    "result = cursor.execute(query)\n",
    "for row in result:\n",
    "    print(row)"
   ]
  },
  {
   "cell_type": "markdown",
   "metadata": {},
   "source": [
    "##### 2. Retrieve the average total bill and tip amount for each day"
   ]
  },
  {
   "cell_type": "code",
   "execution_count": 20,
   "metadata": {},
   "outputs": [
    {
     "name": "stdout",
     "output_type": "stream",
     "text": [
      "('Fri', 17.15, 2.73)\n",
      "('Sat', 20.44, 2.99)\n",
      "('Sun', 21.41, 3.26)\n",
      "('Thur', 17.68, 2.77)\n"
     ]
    }
   ],
   "source": [
    "query = '''\n",
    "    SELECT day, ROUND(AVG(total_bill), 2) AS avg_total_bill, ROUND(AVG(tip), 2) AS avg_tip\n",
    "    FROM tips\n",
    "    GROUP BY day;\n",
    "'''\n",
    "result = cursor.execute(query)\n",
    "for row in result:\n",
    "    print(row)"
   ]
  },
  {
   "cell_type": "markdown",
   "metadata": {},
   "source": [
    "##### 3. Retrieve the total bill and tip for the smallest and largest group sizes"
   ]
  },
  {
   "cell_type": "code",
   "execution_count": 29,
   "metadata": {},
   "outputs": [
    {
     "name": "stdout",
     "output_type": "stream",
     "text": [
      "('3.07', '1.0')\n",
      "('29.8', '4.2')\n"
     ]
    }
   ],
   "source": [
    "query1 = '''\n",
    "    SELECT total_bill, tip\n",
    "    FROM tips\n",
    "    WHERE size = (SELECT MIN(size) FROM tips)\n",
    "    LIMIT 1;\n",
    "'''\n",
    "result = cursor.execute(query1)\n",
    "for row in result:\n",
    "    print(row)\n",
    "\n",
    "query2 = '''\n",
    "    SELECT total_bill, tip\n",
    "    FROM tips\n",
    "    WHERE size = (SELECT MAX(size) FROM tips)\n",
    "    LIMIT 1;\n",
    "'''\n",
    "result = cursor.execute(query2)\n",
    "for row in result:\n",
    "    print(row)"
   ]
  },
  {
   "cell_type": "markdown",
   "metadata": {},
   "source": [
    "##### 4. Find the count for smokers of each sex"
   ]
  },
  {
   "cell_type": "code",
   "execution_count": 27,
   "metadata": {},
   "outputs": [
    {
     "name": "stdout",
     "output_type": "stream",
     "text": [
      "('Female', 33)\n",
      "('Male', 61)\n"
     ]
    }
   ],
   "source": [
    "query = '''\n",
    "SELECT sex, COUNT(*) AS smoker_count\n",
    "FROM tips\n",
    "WHERE smoker = \"Yes\"\n",
    "GROUP BY sex\n",
    "'''\n",
    "result = cursor.execute(query)\n",
    "for row in result:\n",
    "    print(row)"
   ]
  },
  {
   "cell_type": "markdown",
   "metadata": {},
   "source": [
    "##### 5. For each sex, calculate the average total bill and tip amount"
   ]
  },
  {
   "cell_type": "code",
   "execution_count": 23,
   "metadata": {},
   "outputs": [
    {
     "name": "stdout",
     "output_type": "stream",
     "text": [
      "('Female', 18.06, 2.83)\n",
      "('Male', 20.74, 3.09)\n"
     ]
    }
   ],
   "source": [
    "query = '''\n",
    "SELECT sex, ROUND(AVG(total_bill) , 2) AS avg_total_bill, ROUND(AVG(tip), 2) AS avg_tip\n",
    "FROM tips\n",
    "GROUP BY sex\n",
    "'''\n",
    "result = cursor.execute(query)\n",
    "for row in result:\n",
    "    print(row)"
   ]
  },
  {
   "cell_type": "markdown",
   "metadata": {},
   "source": [
    "##### UPDATE the record that corresponds to id=10 and set smoker to Yes."
   ]
  },
  {
   "cell_type": "code",
   "execution_count": 24,
   "metadata": {},
   "outputs": [],
   "source": [
    "query = '''\n",
    "UPDATE tips \n",
    "SET smoker = 'Yes' \n",
    "WHERE ROWID = 10;\n",
    "'''\n",
    "result = cursor.execute(query)\n",
    "for row in result:\n",
    "    print(row)"
   ]
  },
  {
   "cell_type": "markdown",
   "metadata": {},
   "source": [
    "##### DELETE records from the database that have a total bill that is less than $10."
   ]
  },
  {
   "cell_type": "code",
   "execution_count": 25,
   "metadata": {},
   "outputs": [],
   "source": [
    "query = '''\n",
    "    DELETE \n",
    "    FROM tips \n",
    "    WHERE total_bill < 10;\n",
    "'''\n",
    "result = cursor.execute(query)\n",
    "for row in result:\n",
    "    print(row)"
   ]
  },
  {
   "cell_type": "markdown",
   "metadata": {},
   "source": [
    "##### Close Connection"
   ]
  },
  {
   "cell_type": "code",
   "execution_count": null,
   "metadata": {},
   "outputs": [],
   "source": [
    "if connection:\n",
    "    connection.close()"
   ]
  }
 ],
 "metadata": {
  "kernelspec": {
   "display_name": "aipi510",
   "language": "python",
   "name": "python3"
  },
  "language_info": {
   "codemirror_mode": {
    "name": "ipython",
    "version": 3
   },
   "file_extension": ".py",
   "mimetype": "text/x-python",
   "name": "python",
   "nbconvert_exporter": "python",
   "pygments_lexer": "ipython3",
   "version": "3.9.7"
  }
 },
 "nbformat": 4,
 "nbformat_minor": 2
}
