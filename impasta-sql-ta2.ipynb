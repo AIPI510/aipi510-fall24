{
 "cells": [
  {
   "cell_type": "markdown",
   "metadata": {},
   "source": [
    "# Team Assignment 2 - SQL\n",
    "\n",
    "### Team Impasta - Dayeon Kang, Shaunak Badani"
   ]
  },
  {
   "cell_type": "markdown",
   "metadata": {},
   "source": [
    "Links used:\n",
    "\n",
    "- [List of dataframe headers](https://stackoverflow.com/questions/19482970/get-a-list-from-pandas-dataframe-column-headers)\n",
    "- [Join an array of strings](https://www.geeksforgeeks.org/python-string-join-method/)\n",
    "- [Sqlite3 Documentation](https://docs.python.org/3/library/sqlite3.html#sqlite3-connection-context-manager)\n",
    "- [Dataframe to array of tuples](https://stackoverflow.com/questions/9758450/pandas-convert-dataframe-to-array-of-tuples)"
   ]
  },
  {
   "cell_type": "code",
   "execution_count": 1,
   "metadata": {},
   "outputs": [],
   "source": [
    "import pandas as pd\n",
    "import sqlite3"
   ]
  },
  {
   "cell_type": "markdown",
   "metadata": {},
   "source": [
    "#### CREATE: Creating the sqlite3 file from the csv"
   ]
  },
  {
   "cell_type": "code",
   "execution_count": 2,
   "metadata": {},
   "outputs": [],
   "source": [
    "tips_dataframe = pd.read_csv(\"data/tips.csv\")"
   ]
  },
  {
   "cell_type": "code",
   "execution_count": 3,
   "metadata": {},
   "outputs": [],
   "source": [
    "database_column_headers = tips_dataframe.columns.values\n",
    "table_headers_string = \"tips(\" + \",\".join(database_column_headers) + \")\""
   ]
  },
  {
   "cell_type": "code",
   "execution_count": 4,
   "metadata": {},
   "outputs": [
    {
     "name": "stdout",
     "output_type": "stream",
     "text": [
      "Database successfully created\n"
     ]
    }
   ],
   "source": [
    "# Creating the database, and the table schema\n",
    "con = sqlite3.connect(\"data/tips.db\")\n",
    "\n",
    "try:\n",
    "    with con:\n",
    "        con.execute(f\"CREATE TABLE {table_headers_string}\")\n",
    "        print(\"Database successfully created\")\n",
    "except Exception as e:\n",
    "    print(e.with_traceback(None))"
   ]
  },
  {
   "cell_type": "code",
   "execution_count": 5,
   "metadata": {},
   "outputs": [],
   "source": [
    "questions_string = f\"({','.join(['?' for _ in database_column_headers])})\"\n",
    "database_rows = list(tips_dataframe.itertuples(index = False, name = None))"
   ]
  },
  {
   "cell_type": "code",
   "execution_count": 6,
   "metadata": {},
   "outputs": [],
   "source": [
    "try:\n",
    "    with con:\n",
    "        con.executemany(f\"INSERT INTO {table_headers_string} VALUES {questions_string}\", database_rows)\n",
    "except Exception as e:\n",
    "    print(e.with_traceback(None))\n"
   ]
  },
  {
   "cell_type": "markdown",
   "metadata": {},
   "source": [
    "#### Delete the db file after all execution is completed"
   ]
  },
  {
   "cell_type": "code",
   "execution_count": 7,
   "metadata": {},
   "outputs": [],
   "source": [
    "import os\n",
    "if os.path.exists(\"data/tips.db\"):\n",
    "    os.remove(\"data/tips.db\")"
   ]
  }
 ],
 "metadata": {
  "kernelspec": {
   "display_name": "ta-env",
   "language": "python",
   "name": "ta-env"
  },
  "language_info": {
   "codemirror_mode": {
    "name": "ipython",
    "version": 3
   },
   "file_extension": ".py",
   "mimetype": "text/x-python",
   "name": "python",
   "nbconvert_exporter": "python",
   "pygments_lexer": "ipython3",
   "version": "3.11.5"
  }
 },
 "nbformat": 4,
 "nbformat_minor": 2
}
