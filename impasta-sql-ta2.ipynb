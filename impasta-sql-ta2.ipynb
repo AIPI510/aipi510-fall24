{
 "cells": [
  {
   "cell_type": "markdown",
   "metadata": {},
   "source": [
    "# Team Assignment 2 - SQL\n",
    "\n",
    "### Team Impasta - Dayeon Kang, Shaunak Badani"
   ]
  },
  {
   "cell_type": "markdown",
   "metadata": {},
   "source": [
    "Links used:\n",
    "\n",
    "- [List of dataframe headers](https://stackoverflow.com/questions/19482970/get-a-list-from-pandas-dataframe-column-headers)\n",
    "- [Join an array of strings](https://www.geeksforgeeks.org/python-string-join-method/)\n",
    "- [Sqlite3 Documentation](https://docs.python.org/3/library/sqlite3.html#sqlite3-connection-context-manager)\n",
    "- [Dataframe to array of tuples](https://stackoverflow.com/questions/9758450/pandas-convert-dataframe-to-array-of-tuples)"
   ]
  },
  {
   "cell_type": "code",
   "execution_count": 1,
   "metadata": {},
   "outputs": [],
   "source": [
    "import pandas as pd\n",
    "import sqlite3"
   ]
  },
  {
   "cell_type": "markdown",
   "metadata": {},
   "source": [
    "#### CREATE: Creating the sqlite3 file from the csv"
   ]
  },
  {
   "cell_type": "code",
   "execution_count": 2,
   "metadata": {},
   "outputs": [],
   "source": [
    "tips_dataframe = pd.read_csv(\"data/tips.csv\")"
   ]
  },
  {
   "cell_type": "code",
   "execution_count": 3,
   "metadata": {},
   "outputs": [],
   "source": [
    "database_column_headers = tips_dataframe.columns.values\n",
    "table_headers_string = \"tips(\" + \",\".join(database_column_headers) + \")\""
   ]
  },
  {
   "cell_type": "code",
   "execution_count": 4,
   "metadata": {},
   "outputs": [
    {
     "name": "stdout",
     "output_type": "stream",
     "text": [
      "Database successfully created\n"
     ]
    }
   ],
   "source": [
    "# Creating the database, and the table schema\n",
    "con = sqlite3.connect(\"data/tips.db\")\n",
    "\n",
    "try:\n",
    "    with con:\n",
    "        con.execute(f\"CREATE TABLE {table_headers_string}\")\n",
    "        print(\"Database successfully created\")\n",
    "except Exception as e:\n",
    "    print(e.with_traceback(None))"
   ]
  },
  {
   "cell_type": "code",
   "execution_count": 5,
   "metadata": {},
   "outputs": [],
   "source": [
    "questions_string = f\"({','.join(['?' for _ in database_column_headers])})\"\n",
    "database_rows = list(tips_dataframe.itertuples(index = False, name = None))"
   ]
  },
  {
   "cell_type": "code",
   "execution_count": 6,
   "metadata": {},
   "outputs": [],
   "source": [
    "try:\n",
    "    with con:\n",
    "        con.executemany(f\"INSERT INTO {table_headers_string} VALUES {questions_string}\", database_rows)\n",
    "except Exception as e:\n",
    "    print(e.with_traceback(None))\n"
   ]
  },
  {
   "cell_type": "markdown",
   "metadata": {},
   "source": [
    "#### READ: Reading from the CSV"
   ]
  },
  {
   "cell_type": "code",
   "execution_count": 20,
   "metadata": {},
   "outputs": [
    {
     "name": "stdout",
     "output_type": "stream",
     "text": [
      "(avg_tip_percentage, day)\n",
      "(16.991302873347887, 'Fri')\n",
      "(15.31517163877781, 'Sat')\n",
      "(16.689728635113457, 'Sun')\n",
      "(16.127563396664705, 'Thur')\n"
     ]
    }
   ],
   "source": [
    "# 1. Retrieve the average tip percentage for each day of the week\n",
    "average_tip_query = \"SELECT AVG(tip / total_bill) * 100, day FROM tips GROUP BY day ORDER BY day\"\n",
    "with con:\n",
    "    rows = con.execute(average_tip_query)\n",
    "    print(\"(avg_tip_percentage, day)\")\n",
    "    for row in rows:\n",
    "        print(row)"
   ]
  },
  {
   "cell_type": "code",
   "execution_count": 21,
   "metadata": {},
   "outputs": [
    {
     "name": "stdout",
     "output_type": "stream",
     "text": [
      "(max_bill_amount, min_bill_amount)\n",
      "(50.81, 3.07)\n"
     ]
    }
   ],
   "source": [
    "# 2. Retrieve the max and min bill amounts\n",
    "max_min_query = \"SELECT MAX(total_bill), MIN(total_bill) FROM tips\"\n",
    "with con:\n",
    "    rows = con.execute(max_min_query)\n",
    "    print(\"(max_bill_amount, min_bill_amount)\")\n",
    "    for row in rows:\n",
    "        print(row)"
   ]
  },
  {
   "cell_type": "code",
   "execution_count": 22,
   "metadata": {},
   "outputs": [
    {
     "name": "stdout",
     "output_type": "stream",
     "text": [
      "(number_of_parties, size)\n",
      "(4, 1)\n",
      "(156, 2)\n",
      "(38, 3)\n",
      "(37, 4)\n",
      "(5, 5)\n",
      "(4, 6)\n"
     ]
    }
   ],
   "source": [
    "# 3. Count number of parties for each size\n",
    "number_of_parties_for_each_size_query = \"SELECT COUNT(*), size FROM tips GROUP BY size\"\n",
    "with con:\n",
    "    rows = con.execute(number_of_parties_for_each_size_query)\n",
    "    print(\"(number_of_parties, size)\")\n",
    "    for row in rows:\n",
    "        print(row)"
   ]
  },
  {
   "cell_type": "code",
   "execution_count": 24,
   "metadata": {},
   "outputs": [
    {
     "name": "stdout",
     "output_type": "stream",
     "text": [
      "(total_bill,tip, size)\n",
      "(25.29, 4.71, 4)\n",
      "(18.43, 3.0, 4)\n",
      "(39.42, 7.58, 4)\n",
      "(30.4, 5.6, 4)\n",
      "(32.4, 6.0, 4)\n",
      "(25.56, 4.34, 4)\n",
      "(18.29, 3.76, 4)\n",
      "(29.93, 5.07, 4)\n",
      "(34.3, 6.7, 6)\n",
      "(27.05, 5.0, 6)\n",
      "(29.85, 5.14, 5)\n",
      "(21.5, 3.5, 4)\n",
      "(23.17, 6.5, 4)\n",
      "(20.69, 5.0, 5)\n",
      "(20.53, 4.0, 4)\n",
      "(25.89, 5.16, 4)\n",
      "(48.33, 9.0, 4)\n"
     ]
    }
   ],
   "source": [
    "# 4. Retrieve the total bill and tip for parties of size 4 or more, where the tip percentage is greater than 15%\n",
    "\n",
    "complex_bill_tip_query = \"SELECT total_bill, tip, size FROM tips WHERE size >= 4 AND (tip / total_bill) > 0.15\"\n",
    "with con:\n",
    "    rows = con.execute(complex_bill_tip_query)\n",
    "    print(\"(total_bill,tip, size)\")\n",
    "    for row in rows:\n",
    "        print(row)"
   ]
  },
  {
   "cell_type": "code",
   "execution_count": 32,
   "metadata": {},
   "outputs": [
    {
     "name": "stdout",
     "output_type": "stream",
     "text": [
      "(total_bill, tip_amount, tip_percentage)\n",
      "(89.92, 16.68, 18.54982206405694, 'Fri', 'Lunch')\n",
      "(18.78, 3.0, 15.974440894568689, 'Thur', 'Dinner')\n",
      "(1077.5499999999997, 168.83, 15.667950443134893, 'Thur', 'Lunch')\n",
      "(1627.1600000000003, 247.39000000000007, 15.203790653654222, 'Sun', 'Dinner')\n",
      "(235.95999999999998, 35.28, 14.951686726563826, 'Fri', 'Dinner')\n",
      "(1778.3999999999996, 260.4, 14.64237516869096, 'Sat', 'Dinner')\n"
     ]
    }
   ],
   "source": [
    "# 5. Retrieve the total bill, tip amount, and tip percentage for each combination of day and time, sorted by tip percentage in descending order\n",
    "\n",
    "query_5 = \"SELECT SUM(total_bill), SUM(tip), SUM(tip) * 100 / SUM(total_bill), day, time FROM tips GROUP BY day, time ORDER BY SUM(tip) / SUM(total_bill) DESC\"\n",
    "with con:\n",
    "    rows = con.execute(query_5)\n",
    "    print(\"(total_bill, tip_amount, tip_percentage)\")\n",
    "    for row in rows:\n",
    "        print(row)"
   ]
  },
  {
   "cell_type": "code",
   "execution_count": 33,
   "metadata": {},
   "outputs": [
    {
     "name": "stdout",
     "output_type": "stream",
     "text": [
      "(avg_tip_percent, day, time, smoker)\n",
      "(13.962236590021224, 'Fri', 'Dinner', 'No')\n",
      "(16.534735890795094, 'Fri', 'Dinner', 'Yes')\n",
      "(18.773466833541928, 'Fri', 'Lunch', 'No')\n",
      "(18.893659162141404, 'Fri', 'Lunch', 'Yes')\n",
      "(15.804765754377618, 'Sat', 'Dinner', 'No')\n",
      "(14.790606514920887, 'Sat', 'Dinner', 'Yes')\n",
      "(16.011294305072806, 'Sun', 'Dinner', 'No')\n",
      "(18.725031625235424, 'Sun', 'Dinner', 'Yes')\n",
      "(15.974440894568689, 'Thur', 'Dinner', 'No')\n",
      "(16.031066524359844, 'Thur', 'Lunch', 'No')\n",
      "(16.38632721334178, 'Thur', 'Lunch', 'Yes')\n"
     ]
    }
   ],
   "source": [
    "# 6. Find the average tip percentage for each combination of day, time, and smoker status\n",
    "avg_tip_percentage_6 = \"SELECT AVG(tip / total_bill) * 100, day, time, smoker FROM tips GROUP BY day, time, smoker\"\n",
    "with con:\n",
    "    rows = con.execute(avg_tip_percentage_6)\n",
    "    print(\"(avg_tip_percent, day, time, smoker)\")\n",
    "    for row in rows:\n",
    "        print(row)"
   ]
  },
  {
   "cell_type": "markdown",
   "metadata": {},
   "source": [
    "#### Delete the db file after all execution is completed"
   ]
  },
  {
   "cell_type": "code",
   "execution_count": 7,
   "metadata": {},
   "outputs": [],
   "source": [
    "import os\n",
    "if os.path.exists(\"data/tips.db\"):\n",
    "    os.remove(\"data/tips.db\")"
   ]
  }
 ],
 "metadata": {
  "kernelspec": {
   "display_name": "ta-env",
   "language": "python",
   "name": "ta-env"
  },
  "language_info": {
   "codemirror_mode": {
    "name": "ipython",
    "version": 3
   },
   "file_extension": ".py",
   "mimetype": "text/x-python",
   "name": "python",
   "nbconvert_exporter": "python",
   "pygments_lexer": "ipython3",
   "version": "3.11.5"
  }
 },
 "nbformat": 4,
 "nbformat_minor": 2
}
