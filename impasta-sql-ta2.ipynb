{
 "cells": [
  {
   "cell_type": "markdown",
   "metadata": {},
   "source": [
    "# Team Assignment 2 - SQL\n",
    "\n",
    "### Team Impasta - Dayeon Kang, Shaunak Badani"
   ]
  },
  {
   "cell_type": "markdown",
   "metadata": {},
   "source": [
    "Links used:\n",
    "\n",
    "- [List of dataframe headers](https://stackoverflow.com/questions/19482970/get-a-list-from-pandas-dataframe-column-headers)\n",
    "- [Join an array of strings](https://www.geeksforgeeks.org/python-string-join-method/)\n",
    "- [Sqlite3 Documentation](https://docs.python.org/3/library/sqlite3.html#sqlite3-connection-context-manager)\n",
    "- [Dataframe to array of tuples](https://stackoverflow.com/questions/9758450/pandas-convert-dataframe-to-array-of-tuples)"
   ]
  },
  {
   "cell_type": "code",
   "execution_count": 1,
   "metadata": {},
   "outputs": [],
   "source": [
    "import pandas as pd\n",
    "import sqlite3"
   ]
  },
  {
   "cell_type": "markdown",
   "metadata": {},
   "source": [
    "#### CREATE: Creating the sqlite3 file from the csv"
   ]
  },
  {
   "cell_type": "code",
   "execution_count": 2,
   "metadata": {},
   "outputs": [],
   "source": [
    "tips_dataframe = pd.read_csv(\"data/tips.csv\")"
   ]
  },
  {
   "cell_type": "code",
   "execution_count": 3,
   "metadata": {},
   "outputs": [],
   "source": [
    "database_column_headers = tips_dataframe.columns.values\n",
    "table_headers_string = \"tips(\" + \",\".join(database_column_headers) + \")\""
   ]
  },
  {
   "cell_type": "code",
   "execution_count": 4,
   "metadata": {},
   "outputs": [
    {
     "name": "stdout",
     "output_type": "stream",
     "text": [
      "Database successfully created\n"
     ]
    }
   ],
   "source": [
    "# Creating the database, and the table schema\n",
    "\n",
    "try:\n",
    "    with sqlite3.connect(\"data/tips.db\") as con:\n",
    "        con.execute(f\"CREATE TABLE {table_headers_string}\")\n",
    "        print(\"Database successfully created\")\n",
    "except Exception as e:\n",
    "    print(e.with_traceback(None))"
   ]
  },
  {
   "cell_type": "code",
   "execution_count": 5,
   "metadata": {},
   "outputs": [],
   "source": [
    "questions_string = f\"({','.join(['?' for _ in database_column_headers])})\"\n",
    "database_rows = list(tips_dataframe.itertuples(index = False, name = None))"
   ]
  },
  {
   "cell_type": "code",
   "execution_count": 6,
   "metadata": {},
   "outputs": [],
   "source": [
    "try:\n",
    "    with sqlite3.connect(\"data/tips.db\") as con:\n",
    "        con.executemany(f\"INSERT INTO {table_headers_string} VALUES {questions_string}\", database_rows)\n",
    "except Exception as e:\n",
    "    print(e.with_traceback(None))\n"
   ]
  },
  {
   "cell_type": "markdown",
   "metadata": {},
   "source": [
    "#### READ: Reading from the CSV"
   ]
  },
  {
   "cell_type": "code",
   "execution_count": 7,
   "metadata": {},
   "outputs": [],
   "source": [
    "def execute_query(query, header = None):\n",
    "    if header is not None:\n",
    "        print(header)\n",
    "    try:\n",
    "        with sqlite3.connect(\"data/tips.db\") as con:\n",
    "            rows = con.execute(query)\n",
    "            for row in rows:\n",
    "                print(row)\n",
    "    except Exception as e:\n",
    "        print(e.with_traceback(None))"
   ]
  },
  {
   "cell_type": "code",
   "execution_count": 8,
   "metadata": {},
   "outputs": [
    {
     "name": "stdout",
     "output_type": "stream",
     "text": [
      "(avg_tip_percentage, day)\n",
      "(15.945, 'Fri')\n",
      "(14.642, 'Sat')\n",
      "(15.204, 'Sun')\n",
      "(15.673, 'Thur')\n"
     ]
    }
   ],
   "source": [
    "# 1. Retrieve the average tip percentage for each day of the week\n",
    "average_tip_query = \"\"\"\n",
    "            SELECT ROUND(SUM(tip) * 100 / SUM(total_bill), 3) , day \n",
    "            FROM tips \n",
    "            GROUP BY day \n",
    "            ORDER BY day\n",
    "        \"\"\"\n",
    "execute_query(average_tip_query, \"(avg_tip_percentage, day)\")"
   ]
  },
  {
   "cell_type": "code",
   "execution_count": 9,
   "metadata": {},
   "outputs": [
    {
     "name": "stdout",
     "output_type": "stream",
     "text": [
      "(max_bill_amount, min_bill_amount)\n",
      "(50.81, 3.07)\n"
     ]
    }
   ],
   "source": [
    "# 2. Retrieve the max and min bill amounts\n",
    "max_min_query = \"SELECT MAX(total_bill), MIN(total_bill) FROM tips\"\n",
    "execute_query(max_min_query, \"(max_bill_amount, min_bill_amount)\")"
   ]
  },
  {
   "cell_type": "code",
   "execution_count": 10,
   "metadata": {},
   "outputs": [
    {
     "name": "stdout",
     "output_type": "stream",
     "text": [
      "(number_of_parties, size)\n",
      "(4, 1)\n",
      "(156, 2)\n",
      "(38, 3)\n",
      "(37, 4)\n",
      "(5, 5)\n",
      "(4, 6)\n"
     ]
    }
   ],
   "source": [
    "# 3. Count number of parties for each size\n",
    "number_of_parties_for_each_size_query = \"SELECT COUNT(*), size FROM tips GROUP BY size\"\n",
    "execute_query(number_of_parties_for_each_size_query, \"(number_of_parties, size)\")"
   ]
  },
  {
   "cell_type": "code",
   "execution_count": 11,
   "metadata": {},
   "outputs": [
    {
     "name": "stdout",
     "output_type": "stream",
     "text": [
      "(total_bill,tip, size)\n",
      "(25.29, 4.71, 4)\n",
      "(18.43, 3.0, 4)\n",
      "(39.42, 7.58, 4)\n",
      "(30.4, 5.6, 4)\n",
      "(32.4, 6.0, 4)\n",
      "(25.56, 4.34, 4)\n",
      "(18.29, 3.76, 4)\n",
      "(29.93, 5.07, 4)\n",
      "(34.3, 6.7, 6)\n",
      "(27.05, 5.0, 6)\n",
      "(29.85, 5.14, 5)\n",
      "(21.5, 3.5, 4)\n",
      "(23.17, 6.5, 4)\n",
      "(20.69, 5.0, 5)\n",
      "(20.53, 4.0, 4)\n",
      "(25.89, 5.16, 4)\n",
      "(48.33, 9.0, 4)\n"
     ]
    }
   ],
   "source": [
    "# 4. Retrieve the total bill and tip for parties of size 4 or more, where the tip percentage is greater than 15%\n",
    "\n",
    "complex_bill_tip_query = \"\"\"\n",
    "        SELECT total_bill, tip, size \n",
    "        FROM tips \n",
    "        WHERE size >= 4 \n",
    "        AND (tip / total_bill) > 0.15\n",
    "        \"\"\"\n",
    "execute_query(complex_bill_tip_query, \"(total_bill,tip, size)\")"
   ]
  },
  {
   "cell_type": "code",
   "execution_count": 12,
   "metadata": {},
   "outputs": [
    {
     "name": "stdout",
     "output_type": "stream",
     "text": [
      "(total_bill, tip_amount, tip_percentage)\n",
      "(89.92, 16.68, 18.54982206405694, 'Fri', 'Lunch')\n",
      "(18.78, 3.0, 15.974440894568689, 'Thur', 'Dinner')\n",
      "(1077.5499999999997, 168.83, 15.667950443134893, 'Thur', 'Lunch')\n",
      "(1627.1600000000003, 247.39000000000007, 15.203790653654222, 'Sun', 'Dinner')\n",
      "(235.95999999999998, 35.28, 14.951686726563826, 'Fri', 'Dinner')\n",
      "(1778.3999999999996, 260.4, 14.64237516869096, 'Sat', 'Dinner')\n"
     ]
    }
   ],
   "source": [
    "# 5. Retrieve the total bill, tip amount, and tip percentage for each combination of day and time, sorted by tip percentage in descending order\n",
    "\n",
    "query_5 = \"SELECT SUM(total_bill), SUM(tip), SUM(tip) * 100 / SUM(total_bill), day, time FROM tips GROUP BY day, time ORDER BY SUM(tip) / SUM(total_bill) DESC\"\n",
    "execute_query(query_5, \"(total_bill, tip_amount, tip_percentage)\")"
   ]
  },
  {
   "cell_type": "code",
   "execution_count": 13,
   "metadata": {},
   "outputs": [
    {
     "name": "stdout",
     "output_type": "stream",
     "text": [
      "(avg_tip_percent, day, time, smoker)\n",
      "(14.298, 'Fri', 'Dinner', 'No')\n",
      "(15.163, 'Fri', 'Dinner', 'Yes')\n",
      "(18.773, 'Fri', 'Lunch', 'No')\n",
      "(18.501, 'Fri', 'Lunch', 'Yes')\n",
      "(15.781, 'Sat', 'Dinner', 'No')\n",
      "(13.515, 'Sat', 'Dinner', 'Yes')\n",
      "(15.448, 'Sun', 'Dinner', 'No')\n",
      "(14.581, 'Sun', 'Dinner', 'Yes')\n",
      "(15.974, 'Thur', 'Dinner', 'No')\n",
      "(15.615, 'Thur', 'Lunch', 'No')\n",
      "(15.789, 'Thur', 'Lunch', 'Yes')\n"
     ]
    }
   ],
   "source": [
    "# 6. Find the average tip percentage for each combination of day, time, and smoker status\n",
    "avg_tip_percentage_6 = \"\"\"\n",
    "    SELECT ROUND(SUM(tip) * 100 / SUM(total_bill), 3), day, time, smoker \n",
    "    FROM tips \n",
    "    GROUP BY day, time, smoker\"\"\"\n",
    "execute_query(avg_tip_percentage_6, \"(avg_tip_percent, day, time, smoker)\")"
   ]
  },
  {
   "cell_type": "code",
   "execution_count": 14,
   "metadata": {},
   "outputs": [
    {
     "name": "stdout",
     "output_type": "stream",
     "text": [
      "(total_bill, tip_amount, tip_percentage, sex)\n",
      "(3256.82, 485.07, 14.894, 'Male')\n",
      "(1570.95, 246.51, 15.692, 'Female')\n"
     ]
    }
   ],
   "source": [
    "# 7. Retrieve the total bill, tip amount, and tip percentage for each sex, sorted by total bill in descending order, and limit the results to the top 5 records\n",
    "query_7 = \"\"\"\n",
    "    SELECT ROUND(SUM(total_bill), 3), ROUND(SUM(tip), 3), ROUND(SUM(tip) * 100 / SUM(total_bill), 3), sex\n",
    "    FROM tips \n",
    "    GROUP BY sex \n",
    "    ORDER BY SUM(total_bill) DESC \n",
    "    LIMIT 5\n",
    "    \"\"\"\n",
    "execute_query(query_7, \"(total_bill, tip_amount, tip_percentage, sex)\")"
   ]
  },
  {
   "cell_type": "code",
   "execution_count": 15,
   "metadata": {},
   "outputs": [
    {
     "name": "stdout",
     "output_type": "stream",
     "text": [
      "(max_tip_percentage, tip, total_bill, day, time)\n",
      "(26.348039215686274, 4.3, 16.32, 'Fri', 'Dinner')\n",
      "(25.93144560357675, 3.48, 13.42, 'Fri', 'Lunch')\n",
      "(32.57328990228013, 1.0, 3.07, 'Sat', 'Dinner')\n",
      "(71.03448275862068, 5.15, 7.25, 'Sun', 'Dinner')\n",
      "(15.974440894568689, 3.0, 18.78, 'Thur', 'Dinner')\n",
      "(26.63115845539281, 2.0, 7.51, 'Thur', 'Lunch')\n",
      "-----------------\n",
      "(min_tip_percentage, tip, total_bill, day, time)\n",
      "(10.355540214014498, 3.0, 28.97, 'Fri', 'Dinner')\n",
      "(11.773472429210134, 1.58, 13.42, 'Fri', 'Lunch')\n",
      "(3.563813585135547, 1.17, 32.83, 'Sat', 'Dinner')\n",
      "(5.9446733372572105, 1.01, 16.99, 'Sun', 'Dinner')\n",
      "(15.974440894568689, 3.0, 18.78, 'Thur', 'Dinner')\n",
      "(7.296137339055794, 1.36, 18.64, 'Thur', 'Lunch')\n"
     ]
    }
   ],
   "source": [
    "# 8. Find the maximum and minimum tip percentage for each day and time combination, along with the corresponding total bill and tip amount\n",
    "\n",
    "query_8_1 = \"SELECT MAX(tip * 100 / total_bill) , tip, total_bill, day, time FROM tips GROUP BY day, time\"\n",
    "execute_query(query_8_1, \"(max_tip_percentage, tip, total_bill, day, time)\")\n",
    "\n",
    "print(\"-----------------\")\n",
    "query_8_2 = \"SELECT MIN(tip * 100 / total_bill) , tip, total_bill, day, time FROM tips GROUP BY day, time\"\n",
    "execute_query(query_8_2, \"(min_tip_percentage, tip, total_bill, day, time)\")\n",
    "    "
   ]
  },
  {
   "cell_type": "code",
   "execution_count": 16,
   "metadata": {},
   "outputs": [
    {
     "name": "stdout",
     "output_type": "stream",
     "text": [
      "(total_bill, tip, tip_percentage)\n"
     ]
    }
   ],
   "source": [
    "# 9. Retrieve the total bill, tip amount, and tip percentage for parties of size 4 or more, where the tip percentage is greater than 15%, and the total bill is between $50 and $100\n",
    "query_9 = \"\"\"\n",
    "    SELECT total_bill, tip, (tip * 100 / total_bill), size \n",
    "    FROM tips \n",
    "    WHERE size >=4 \n",
    "    AND (tip / total_bill) > 0.15 \n",
    "    AND total_bill BETWEEN 50 AND 100\n",
    "    \"\"\"\n",
    "execute_query(query_9, \"(total_bill, tip, tip_percentage)\")"
   ]
  },
  {
   "cell_type": "code",
   "execution_count": 17,
   "metadata": {},
   "outputs": [
    {
     "name": "stdout",
     "output_type": "stream",
     "text": [
      "(avg_tip_percentage, day, time, smoker)\n",
      "(15.163, 'Fri', 'Dinner', 'Yes')\n",
      "(18.501, 'Fri', 'Lunch', 'Yes')\n",
      "(15.781, 'Sat', 'Dinner', 'No')\n",
      "(13.515, 'Sat', 'Dinner', 'Yes')\n",
      "(15.448, 'Sun', 'Dinner', 'No')\n",
      "(14.581, 'Sun', 'Dinner', 'Yes')\n",
      "(15.615, 'Thur', 'Lunch', 'No')\n",
      "(15.789, 'Thur', 'Lunch', 'Yes')\n"
     ]
    }
   ],
   "source": [
    "# 10. Find the average tip percentage for each combination of day, time, and smoker status, but only include combinations with more than 5 records\n",
    "query_10 = \"\"\"\n",
    "    SELECT ROUND(SUM(tip) * 100 / SUM(total_bill), 3), day, time, smoker \n",
    "    FROM tips \n",
    "    GROUP BY day, time, smoker \n",
    "    HAVING COUNT(*) > 5\n",
    "    \"\"\"\n",
    "execute_query(query_10, \"(avg_tip_percentage, day, time, smoker)\")"
   ]
  },
  {
   "cell_type": "markdown",
   "metadata": {},
   "source": [
    "#### READ: 5 additional queries"
   ]
  },
  {
   "cell_type": "code",
   "execution_count": 18,
   "metadata": {},
   "outputs": [
    {
     "name": "stdout",
     "output_type": "stream",
     "text": [
      "(avg_tip_percent, sex)\n",
      "(15.692, 'Female')\n",
      "(14.894, 'Male')\n"
     ]
    }
   ],
   "source": [
    "# 1. Find the average tip percentage grouped by sex\n",
    "avg_tip_percentage_grouped_by_sex = \"\"\"\n",
    "    SELECT ROUND(SUM(tip) * 100 / SUM(total_bill),3), sex\n",
    "    FROM tips\n",
    "    GROUP BY sex\n",
    "    \"\"\"\n",
    "execute_query(avg_tip_percentage_grouped_by_sex, \"(avg_tip_percent, sex)\")"
   ]
  },
  {
   "cell_type": "code",
   "execution_count": 19,
   "metadata": {},
   "outputs": [
    {
     "name": "stdout",
     "output_type": "stream",
     "text": [
      "(highest_tp, size)\n",
      "(1.92, 1)\n",
      "(5.85, 2)\n",
      "(10.0, 3)\n",
      "(9.0, 4)\n",
      "(5.14, 5)\n",
      "(6.7, 6)\n"
     ]
    }
   ],
   "source": [
    "# 2. Find the highest tip among each group size\n",
    "highest_tip_among_each_group_size = \"\"\"\n",
    "    SELECT MAX(tip), size\n",
    "    FROM tips\n",
    "    GROUP BY size\n",
    "    \"\"\"\n",
    "execute_query(highest_tip_among_each_group_size, \"(highest_tp, size)\")"
   ]
  },
  {
   "cell_type": "code",
   "execution_count": 20,
   "metadata": {},
   "outputs": [
    {
     "name": "stdout",
     "output_type": "stream",
     "text": [
      "(tip, size)\n",
      "(7.58, 4)\n",
      "(10.0, 3)\n",
      "(9.0, 4)\n"
     ]
    }
   ],
   "source": [
    "# 3. Find the number of groups who tipped more than $7\n",
    "groups_tipping_more_than_7 = \"\"\"\n",
    "    SELECT tip, size\n",
    "    FROM tips\n",
    "    WHERE tip > 7\n",
    "    \"\"\"\n",
    "execute_query(groups_tipping_more_than_7, \"(tip, size)\")"
   ]
  },
  {
   "cell_type": "code",
   "execution_count": 21,
   "metadata": {},
   "outputs": [
    {
     "name": "stdout",
     "output_type": "stream",
     "text": [
      "(total_tips, day)\n",
      "(51.96, 'Fri')\n",
      "(260.4, 'Sat')\n",
      "(247.39, 'Sun')\n",
      "(171.83, 'Thur')\n"
     ]
    }
   ],
   "source": [
    "# 4. Find out if people collectively tipped more on weekends rather than weekdays\n",
    "tips_grouped_by_day = \"\"\"\n",
    "    SELECT ROUND(SUM(tip), 3), day\n",
    "    FROM tips\n",
    "    GROUP BY day\n",
    "    \"\"\"\n",
    "execute_query(tips_grouped_by_day, \"(total_tips, day)\")"
   ]
  },
  {
   "cell_type": "code",
   "execution_count": 22,
   "metadata": {},
   "outputs": [
    {
     "name": "stdout",
     "output_type": "stream",
     "text": [
      "(count_of_groups, size)\n",
      "(1, 2)\n",
      "(3, 3)\n",
      "(4, 4)\n",
      "(1, 5)\n",
      "(1, 6)\n"
     ]
    }
   ],
   "source": [
    "# 5. Find count of groups for each size who spent more than $40 on their orders\n",
    "count_groups = \"\"\"\n",
    "    SELECT COUNT(*), size\n",
    "    FROM tips\n",
    "    WHERE total_bill > 40\n",
    "    GROUP BY size\n",
    "    \"\"\"\n",
    "execute_query(count_groups, \"(count_of_groups, size)\")"
   ]
  },
  {
   "cell_type": "markdown",
   "metadata": {},
   "source": [
    "#### UPDATE: update the record that corresponds to id=10 and set smoker to Yes."
   ]
  },
  {
   "cell_type": "code",
   "execution_count": 23,
   "metadata": {},
   "outputs": [
    {
     "name": "stdout",
     "output_type": "stream",
     "text": [
      "(row with rowid = 10)\n",
      "(14.78, 3.23, 'Male', 'No', 'Sun', 'Dinner', 2)\n",
      "(row with rowid = 10)\n",
      "(14.78, 3.23, 'Male', 'Yes', 'Sun', 'Dinner', 2)\n"
     ]
    }
   ],
   "source": [
    "update_id_10 = \"\"\"\n",
    "    UPDATE tips\n",
    "    SET smoker = 'Yes' \n",
    "    WHERE rowid = 10\n",
    "    \"\"\"\n",
    "\n",
    "select_query_for_checking = \"SELECT * FROM tips WHERE rowid = 10\"\n",
    "execute_query(select_query_for_checking, \"(row with rowid = 10)\")\n",
    "try:\n",
    "    with sqlite3.connect(\"data/tips.db\") as con:\n",
    "        cur = con.cursor()\n",
    "        cur.execute(update_id_10)\n",
    "        con.commit()\n",
    "except Exception as e:\n",
    "    print(\"Exception:\", e.with_traceback(None))\n",
    "execute_query(select_query_for_checking, \"(row with rowid = 10)\")"
   ]
  },
  {
   "cell_type": "markdown",
   "metadata": {},
   "source": [
    "#### DELETE: Delete records from the database that have a total bill that is less than $10."
   ]
  },
  {
   "cell_type": "code",
   "execution_count": 24,
   "metadata": {},
   "outputs": [
    {
     "name": "stdout",
     "output_type": "stream",
     "text": [
      "(records_less_than_10)\n",
      "(8.77, 2.0, 'Male', 'No', 'Sun', 'Dinner', 2)\n",
      "(9.55, 1.45, 'Male', 'No', 'Sat', 'Dinner', 2)\n",
      "(9.68, 1.32, 'Male', 'No', 'Sun', 'Dinner', 2)\n",
      "(9.94, 1.56, 'Male', 'No', 'Sun', 'Dinner', 2)\n",
      "(3.07, 1.0, 'Female', 'Yes', 'Sat', 'Dinner', 1)\n",
      "(5.75, 1.0, 'Female', 'Yes', 'Fri', 'Dinner', 2)\n",
      "(7.25, 1.0, 'Female', 'No', 'Sat', 'Dinner', 1)\n",
      "(8.52, 1.48, 'Male', 'No', 'Thur', 'Lunch', 2)\n",
      "(8.51, 1.25, 'Female', 'No', 'Thur', 'Lunch', 2)\n",
      "(8.35, 1.5, 'Female', 'No', 'Thur', 'Lunch', 2)\n",
      "(9.78, 1.73, 'Male', 'No', 'Thur', 'Lunch', 2)\n",
      "(7.51, 2.0, 'Male', 'No', 'Thur', 'Lunch', 2)\n",
      "(7.25, 5.15, 'Male', 'Yes', 'Sun', 'Dinner', 2)\n",
      "(9.6, 4.0, 'Female', 'Yes', 'Sun', 'Dinner', 2)\n",
      "(7.56, 1.44, 'Male', 'No', 'Thur', 'Lunch', 2)\n",
      "(7.74, 1.44, 'Male', 'Yes', 'Sat', 'Dinner', 2)\n",
      "(8.58, 1.92, 'Male', 'Yes', 'Fri', 'Lunch', 1)\n",
      "------\n",
      "Deleting records\n",
      "------\n",
      "(records_less_than_10)\n"
     ]
    }
   ],
   "source": [
    "total_bill_less_than_10 = \"\"\"\n",
    "    SELECT *\n",
    "    FROM tips\n",
    "    WHERE total_bill < 10\n",
    "    \"\"\"\n",
    "\n",
    "execute_query(total_bill_less_than_10, \"(records_less_than_10)\")\n",
    "\n",
    "delete_records_less_than_10 = \"\"\"\n",
    "    DELETE\n",
    "    FROM tips\n",
    "    WHERE total_bill < 10\n",
    "    \"\"\"\n",
    "\n",
    "print(\"------\")\n",
    "try:\n",
    "    with sqlite3.connect(\"data/tips.db\") as con:\n",
    "        cur = con.cursor()\n",
    "        cur.execute(delete_records_less_than_10)\n",
    "        print(\"Deleting records\")\n",
    "        con.commit()\n",
    "except Exception as e:\n",
    "    print(\"Exception:\", e.with_traceback(None))\n",
    "\n",
    "print(\"------\")\n",
    "execute_query(total_bill_less_than_10, \"(records_less_than_10)\")"
   ]
  },
  {
   "cell_type": "markdown",
   "metadata": {},
   "source": [
    "#### Delete the db file after all execution is completed"
   ]
  },
  {
   "cell_type": "code",
   "execution_count": 25,
   "metadata": {},
   "outputs": [],
   "source": [
    "import os\n",
    "if os.path.exists(\"data/tips.db\"):\n",
    "    os.remove(\"data/tips.db\")"
   ]
  }
 ],
 "metadata": {
  "kernelspec": {
   "display_name": "ta-env",
   "language": "python",
   "name": "ta-env"
  },
  "language_info": {
   "codemirror_mode": {
    "name": "ipython",
    "version": 3
   },
   "file_extension": ".py",
   "mimetype": "text/x-python",
   "name": "python",
   "nbconvert_exporter": "python",
   "pygments_lexer": "ipython3",
   "version": "3.11.5"
  }
 },
 "nbformat": 4,
 "nbformat_minor": 2
}
