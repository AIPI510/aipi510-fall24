{
 "cells": [
  {
   "cell_type": "markdown",
   "metadata": {},
   "source": [
    "# Import Libraries and Load Data"
   ]
  },
  {
   "cell_type": "code",
   "execution_count": 14,
   "metadata": {},
   "outputs": [],
   "source": [
    "import pandas as pd\n",
    "import sqlite3\n",
    "\n",
    "df = pd.read_csv('data/tips.csv')\n",
    "conn = sqlite3.connect('tips.db')\n",
    "c = conn.cursor()\n",
    "c.execute('''CREATE TABLE tips (total_bill, tip, sex, smoker, day, time, size)''')\n",
    "df.to_sql('tips', conn, if_exists='replace', index=False)\n",
    "\n",
    "conn.commit()\n",
    "conn.close()"
   ]
  },
  {
   "cell_type": "markdown",
   "metadata": {},
   "source": [
    "# SQL Queries"
   ]
  },
  {
   "cell_type": "markdown",
   "metadata": {},
   "source": [
    "### 1. Retrieve the average tip percentage for each day of the week"
   ]
  },
  {
   "cell_type": "code",
   "execution_count": 38,
   "metadata": {},
   "outputs": [
    {
     "name": "stdout",
     "output_type": "stream",
     "text": [
      "[('Fri', 16.0), ('Sat', 15.0), ('Sun', 15.0), ('Thur', 16.0)]\n"
     ]
    }
   ],
   "source": [
    "conn = sqlite3.connect('tips.db')\n",
    "c = conn.cursor()\n",
    "\n",
    "c.execute('''SELECT DAY, ROUND(SUM(tip)/SUM(total_bill) * 100) AS average_tip_percentage FROM tips GROUP BY day''')\n",
    "print(c.fetchall())"
   ]
  },
  {
   "cell_type": "markdown",
   "metadata": {},
   "source": [
    "### 2. Find the maximum and minimum total bill amounts"
   ]
  },
  {
   "cell_type": "code",
   "execution_count": 32,
   "metadata": {},
   "outputs": [
    {
     "name": "stdout",
     "output_type": "stream",
     "text": [
      "[(50.81, 3.07)]\n"
     ]
    }
   ],
   "source": [
    "c.execute('''SELECT MAX(total_bill) AS max_bill, MIN(total_bill) AS min_bill FROM tips''')\n",
    "print(c.fetchall())"
   ]
  },
  {
   "cell_type": "markdown",
   "metadata": {},
   "source": [
    "### 3. Count the number of parties for each size"
   ]
  },
  {
   "cell_type": "code",
   "execution_count": 34,
   "metadata": {},
   "outputs": [
    {
     "name": "stdout",
     "output_type": "stream",
     "text": [
      "[(1, 4), (2, 156), (3, 38), (4, 37), (5, 5), (6, 4)]\n"
     ]
    }
   ],
   "source": [
    "c.execute('''SELECT size, COUNT(*) AS number_parties FROM tips GROUP BY size''')\n",
    "print(c.fetchall())"
   ]
  },
  {
   "cell_type": "markdown",
   "metadata": {},
   "source": [
    "### 4. Retrieve the total bill and tip for parties of size 4 or more, where the tip percentage is greater than 15%"
   ]
  },
  {
   "cell_type": "code",
   "execution_count": 36,
   "metadata": {},
   "outputs": [
    {
     "name": "stdout",
     "output_type": "stream",
     "text": [
      "[(25.29, 4.71), (18.43, 3.0), (39.42, 7.58), (30.4, 5.6), (32.4, 6.0), (25.56, 4.34), (18.29, 3.76), (29.93, 5.07), (34.3, 6.7), (27.05, 5.0), (29.85, 5.14), (21.5, 3.5), (23.17, 6.5), (20.69, 5.0), (20.53, 4.0), (25.89, 5.16), (48.33, 9.0)]\n"
     ]
    }
   ],
   "source": [
    "c.execute('''SELECT total_bill, tip FROM tips WHERE size >= 4 AND (tip/total_bill)*100 > 15''')\n",
    "print(c.fetchall())"
   ]
  },
  {
   "cell_type": "markdown",
   "metadata": {},
   "source": [
    "### 5. Retrieve the total bill, tip amount, and tip percentage for each combination of day and time, sorted by tip percentage in descending order"
   ]
  },
  {
   "cell_type": "code",
   "execution_count": 40,
   "metadata": {},
   "outputs": [
    {
     "name": "stdout",
     "output_type": "stream",
     "text": [
      "[('Fri', 'Lunch', 12.16, 2.2, 19.0), ('Thur', 'Dinner', 18.78, 3.0, 16.0), ('Thur', 'Lunch', 27.2, 4.0, 16.0), ('Fri', 'Dinner', 28.97, 3.0, 15.0), ('Sat', 'Dinner', 20.65, 3.35, 15.0), ('Sun', 'Dinner', 16.99, 1.01, 15.0)]\n"
     ]
    }
   ],
   "source": [
    "c.execute('''SELECT day, time, total_bill, tip, ROUND((SUM(tip)/SUM(total_bill))*100) AS tip_percentage FROM tips GROUP BY day,time ORDER BY tip_percentage DESC''')\n",
    "print(c.fetchall())"
   ]
  },
  {
   "cell_type": "markdown",
   "metadata": {},
   "source": [
    "### 6. Find the average tip percentage for each combination of day, time, and smoker status"
   ]
  },
  {
   "cell_type": "code",
   "execution_count": 41,
   "metadata": {},
   "outputs": [
    {
     "name": "stdout",
     "output_type": "stream",
     "text": [
      "[('Fri', 'Dinner', 'No', 14.0), ('Fri', 'Dinner', 'Yes', 15.0), ('Fri', 'Lunch', 'No', 19.0), ('Fri', 'Lunch', 'Yes', 19.0), ('Sat', 'Dinner', 'No', 16.0), ('Sat', 'Dinner', 'Yes', 14.0), ('Sun', 'Dinner', 'No', 15.0), ('Sun', 'Dinner', 'Yes', 15.0), ('Thur', 'Dinner', 'No', 16.0), ('Thur', 'Lunch', 'No', 16.0), ('Thur', 'Lunch', 'Yes', 16.0)]\n"
     ]
    }
   ],
   "source": [
    "c.execute('''SELECT day, time, smoker, ROUND((SUM(tip)/SUM(total_bill))*100) AS average_tip_percentage FROM tips GROUP by day,time, smoker''')\n",
    "print(c.fetchall())"
   ]
  },
  {
   "cell_type": "markdown",
   "metadata": {},
   "source": [
    "### 7. Retrieve the total bill, tip amount, and tip percentage for each sex, sorted by total bill in descending order, and limit the results to the top 5 records"
   ]
  },
  {
   "cell_type": "markdown",
   "metadata": {},
   "source": [
    "### 8. Find the maximum and minimum tip percentage for each day and time combination, along with the corresponding total bill and tip amount"
   ]
  },
  {
   "cell_type": "markdown",
   "metadata": {},
   "source": [
    "### 9. Retrieve the total bill, tip amount, and tip percentage for parties of size 4 or more, where the tip percentage is greater than 15%, and the total bill is between $50 and $100"
   ]
  },
  {
   "cell_type": "markdown",
   "metadata": {},
   "source": [
    "### 10. Find the average tip percentage for each combination of day, time, and smoker status, but only include combinations with more than 5 records"
   ]
  },
  {
   "cell_type": "markdown",
   "metadata": {},
   "source": [
    "# Additional Queries"
   ]
  },
  {
   "cell_type": "markdown",
   "metadata": {},
   "source": [
    "### 1. "
   ]
  },
  {
   "cell_type": "markdown",
   "metadata": {},
   "source": [
    "### 2. "
   ]
  },
  {
   "cell_type": "markdown",
   "metadata": {},
   "source": [
    "### 3. "
   ]
  },
  {
   "cell_type": "markdown",
   "metadata": {},
   "source": [
    "### 4. "
   ]
  },
  {
   "cell_type": "markdown",
   "metadata": {},
   "source": [
    "### 5. "
   ]
  },
  {
   "cell_type": "markdown",
   "metadata": {},
   "source": [
    "# UPDATE"
   ]
  },
  {
   "cell_type": "markdown",
   "metadata": {},
   "source": [
    "# DELETE"
   ]
  }
 ],
 "metadata": {
  "kernelspec": {
   "display_name": "env",
   "language": "python",
   "name": "python3"
  },
  "language_info": {
   "codemirror_mode": {
    "name": "ipython",
    "version": 3
   },
   "file_extension": ".py",
   "mimetype": "text/x-python",
   "name": "python",
   "nbconvert_exporter": "python",
   "pygments_lexer": "ipython3",
   "version": "3.11.4"
  }
 },
 "nbformat": 4,
 "nbformat_minor": 2
}
