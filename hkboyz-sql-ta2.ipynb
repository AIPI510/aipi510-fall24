{
 "cells": [
  {
   "cell_type": "markdown",
   "metadata": {},
   "source": [
    "# Import Libraries and Load Data"
   ]
  },
  {
   "cell_type": "code",
   "execution_count": 65,
   "metadata": {},
   "outputs": [],
   "source": [
    "import pandas as pd\n",
    "import sqlite3\n",
    "\n",
    "df = pd.read_csv('data/tips.csv')\n",
    "conn = sqlite3.connect('tips.db')\n",
    "c = conn.cursor()\n",
    "c.execute('''CREATE TABLE tips (total_bill, tip, sex, smoker, day, time, size)''')\n",
    "df.to_sql('tips', conn, if_exists='replace', index=True, index_label='id')\n",
    "\n",
    "conn.commit()\n",
    "conn.close()"
   ]
  },
  {
   "cell_type": "markdown",
   "metadata": {},
   "source": [
    "# SQL Queries"
   ]
  },
  {
   "cell_type": "markdown",
   "metadata": {},
   "source": [
    "### 1. Retrieve the average tip percentage for each day of the week"
   ]
  },
  {
   "cell_type": "code",
   "execution_count": 67,
   "metadata": {},
   "outputs": [
    {
     "name": "stdout",
     "output_type": "stream",
     "text": [
      "[('Fri', 15.94), ('Sat', 14.64), ('Sun', 15.2), ('Thur', 15.67)]\n"
     ]
    }
   ],
   "source": [
    "conn = sqlite3.connect('tips.db')\n",
    "c = conn.cursor()\n",
    "\n",
    "c.execute('''SELECT DAY, ROUND((SUM(tip)/SUM(total_bill) * 100),2) AS average_tip_percentage FROM tips GROUP BY day''')\n",
    "print(c.fetchall())"
   ]
  },
  {
   "cell_type": "markdown",
   "metadata": {},
   "source": [
    "### 2. Find the maximum and minimum total bill amounts"
   ]
  },
  {
   "cell_type": "code",
   "execution_count": 68,
   "metadata": {},
   "outputs": [
    {
     "name": "stdout",
     "output_type": "stream",
     "text": [
      "[(50.81, 3.07)]\n"
     ]
    }
   ],
   "source": [
    "c.execute('''SELECT MAX(total_bill) AS max_bill, MIN(total_bill) AS min_bill FROM tips''')\n",
    "print(c.fetchall())"
   ]
  },
  {
   "cell_type": "markdown",
   "metadata": {},
   "source": [
    "### 3. Count the number of parties for each size"
   ]
  },
  {
   "cell_type": "code",
   "execution_count": 69,
   "metadata": {},
   "outputs": [
    {
     "name": "stdout",
     "output_type": "stream",
     "text": [
      "[(1, 4), (2, 156), (3, 38), (4, 37), (5, 5), (6, 4)]\n"
     ]
    }
   ],
   "source": [
    "c.execute('''SELECT size, COUNT(*) AS number_parties FROM tips GROUP BY size''')\n",
    "print(c.fetchall())"
   ]
  },
  {
   "cell_type": "markdown",
   "metadata": {},
   "source": [
    "### 4. Retrieve the total bill and tip for parties of size 4 or more, where the tip percentage is greater than 15%"
   ]
  },
  {
   "cell_type": "code",
   "execution_count": 70,
   "metadata": {},
   "outputs": [
    {
     "name": "stdout",
     "output_type": "stream",
     "text": [
      "[(25.29, 4.71), (18.43, 3.0), (39.42, 7.58), (30.4, 5.6), (32.4, 6.0), (25.56, 4.34), (18.29, 3.76), (29.93, 5.07), (34.3, 6.7), (27.05, 5.0), (29.85, 5.14), (21.5, 3.5), (23.17, 6.5), (20.69, 5.0), (20.53, 4.0), (25.89, 5.16), (48.33, 9.0)]\n"
     ]
    }
   ],
   "source": [
    "c.execute('''SELECT total_bill, tip FROM tips WHERE size >= 4 AND (tip/total_bill)*100 > 15''')\n",
    "print(c.fetchall())"
   ]
  },
  {
   "cell_type": "markdown",
   "metadata": {},
   "source": [
    "### 5. Retrieve the total bill, tip amount, and tip percentage for each combination of day and time, sorted by tip percentage in descending order"
   ]
  },
  {
   "cell_type": "code",
   "execution_count": 71,
   "metadata": {},
   "outputs": [
    {
     "name": "stdout",
     "output_type": "stream",
     "text": [
      "[('Fri', 'Lunch', 89.92, 16.68, 19.0), ('Thur', 'Dinner', 18.78, 3.0, 16.0), ('Thur', 'Lunch', 1077.55, 168.83, 16.0), ('Fri', 'Dinner', 235.96, 35.28, 15.0), ('Sat', 'Dinner', 1778.4, 260.4, 15.0), ('Sun', 'Dinner', 1627.16, 247.39000000000007, 15.0)]\n"
     ]
    }
   ],
   "source": [
    "c.execute('''SELECT day, time, ROUND(SUM(total_bill),2) AS total_bill, SUM(tip) AS total_tip, ROUND((SUM(tip)/SUM(total_bill))*100) AS tip_percentage FROM tips GROUP BY day,time ORDER BY tip_percentage DESC''')\n",
    "print(c.fetchall())"
   ]
  },
  {
   "cell_type": "markdown",
   "metadata": {},
   "source": [
    "### 6. Find the average tip percentage for each combination of day, time, and smoker status"
   ]
  },
  {
   "cell_type": "code",
   "execution_count": 72,
   "metadata": {},
   "outputs": [
    {
     "name": "stdout",
     "output_type": "stream",
     "text": [
      "[('Fri', 'Dinner', 'No', 13.96), ('Fri', 'Dinner', 'Yes', 16.53), ('Fri', 'Lunch', 'No', 18.77), ('Fri', 'Lunch', 'Yes', 18.89), ('Sat', 'Dinner', 'No', 15.8), ('Sat', 'Dinner', 'Yes', 14.79), ('Sun', 'Dinner', 'No', 16.01), ('Sun', 'Dinner', 'Yes', 18.73), ('Thur', 'Dinner', 'No', 15.97), ('Thur', 'Lunch', 'No', 16.03), ('Thur', 'Lunch', 'Yes', 16.39)]\n"
     ]
    }
   ],
   "source": [
    "c.execute('''SELECT day, time, smoker, ROUND(AVG(tip/total_bill*100),2) AS average_tip_percentage FROM tips GROUP by day,time, smoker''')\n",
    "print(c.fetchall())"
   ]
  },
  {
   "cell_type": "markdown",
   "metadata": {},
   "source": [
    "### 7. Retrieve the total bill, tip amount, and tip percentage for each sex, sorted by total bill in descending order, and limit the results to the top 5 records"
   ]
  },
  {
   "cell_type": "code",
   "execution_count": 73,
   "metadata": {},
   "outputs": [
    {
     "name": "stdout",
     "output_type": "stream",
     "text": [
      "[('Male', 3256.82, 485.0700000000001, 14.89), ('Female', 1570.95, 246.51, 15.69)]\n"
     ]
    }
   ],
   "source": [
    "c.execute('''SELECT sex, ROUND(SUM(total_bill),2) AS total_bill, SUM(tip), ROUND((SUM(tip)/SUM(total_bill)*100),2) AS tip_percentage FROM tips GROUP BY sex ORDER BY total_bill DESC LIMIT 5''')\n",
    "print(c.fetchall())"
   ]
  },
  {
   "cell_type": "markdown",
   "metadata": {},
   "source": [
    "### 8. Find the maximum and minimum tip percentage for each day and time combination, along with the corresponding total bill and tip amount"
   ]
  },
  {
   "cell_type": "code",
   "execution_count": 74,
   "metadata": {},
   "outputs": [
    {
     "name": "stdout",
     "output_type": "stream",
     "text": [
      "[('Fri', 'Dinner', 26.35, 16.32, 4.3, 10.36, 28.97, 3.0), ('Fri', 'Lunch', 25.93, 13.42, 3.48, 11.77, 13.42, 1.58), ('Sat', 'Dinner', 32.57, 3.07, 1.0, 3.56, 32.83, 1.17), ('Sun', 'Dinner', 71.03, 7.25, 5.15, 5.94, 16.99, 1.01), ('Thur', 'Dinner', 15.97, 18.78, 3.0, 15.97, 18.78, 3.0), ('Thur', 'Lunch', 26.63, 7.51, 2.0, 7.3, 18.64, 1.36)]\n"
     ]
    }
   ],
   "source": [
    "c.execute('''SELECT day, time,\n",
    "          MAX(tip_percentage) AS max_tip_percentage,\n",
    "          MAX(CASE WHEN tip_percentage = max_tip_percentage THEN total_bill END) AS max_total_bill,\n",
    "          MAX(CASE WHEN tip_percentage = max_tip_percentage THEN tip END) AS max_tip,\n",
    "          MIN(tip_percentage) AS min_tip_percentage,\n",
    "          MIN(CASE WHEN tip_percentage = min_tip_percentage THEN total_bill END) AS min_total_bill,\n",
    "          MIN(CASE WHEN tip_percentage = min_tip_percentage THEN tip END) AS min_tip\n",
    "          FROM (SELECT day, time, total_bill, tip, ROUND((tip/total_bill*100),2) as tip_percentage,\n",
    "          MAX(ROUND((tip/total_bill*100),2)) OVER (PARTITION BY day, time) AS max_tip_percentage,\n",
    "          MIN(ROUND((tip/total_bill*100),2)) OVER (PARTITION BY day, time) AS min_tip_percentage FROM tips)\n",
    "          GROUP BY day, time''')\n",
    "print(c.fetchall())"
   ]
  },
  {
   "cell_type": "markdown",
   "metadata": {},
   "source": [
    "### 9. Retrieve the total bill, tip amount, and tip percentage for parties of size 4 or more, where the tip percentage is greater than 15%, and the total bill is between $50 and $100"
   ]
  },
  {
   "cell_type": "code",
   "execution_count": 75,
   "metadata": {},
   "outputs": [
    {
     "name": "stdout",
     "output_type": "stream",
     "text": [
      "[]\n"
     ]
    }
   ],
   "source": [
    "c.execute('''SELECT total_bill, tip, ROUND(tip/total_bill*100, 2) AS tip_percentage FROM tips WHERE size >= 4 AND tip_percentage > 15 AND total_bill BETWEEN 50 AND 100''')\n",
    "print(c.fetchall())"
   ]
  },
  {
   "cell_type": "markdown",
   "metadata": {},
   "source": [
    "### 10. Find the average tip percentage for each combination of day, time, and smoker status, but only include combinations with more than 5 records"
   ]
  },
  {
   "cell_type": "code",
   "execution_count": 76,
   "metadata": {},
   "outputs": [
    {
     "name": "stdout",
     "output_type": "stream",
     "text": [
      "[('Fri', 'Dinner', 'Yes', 16.53), ('Fri', 'Lunch', 'Yes', 18.89), ('Sat', 'Dinner', 'No', 15.8), ('Sat', 'Dinner', 'Yes', 14.79), ('Sun', 'Dinner', 'No', 16.01), ('Sun', 'Dinner', 'Yes', 18.73), ('Thur', 'Lunch', 'No', 16.03), ('Thur', 'Lunch', 'Yes', 16.39)]\n"
     ]
    }
   ],
   "source": [
    "c.execute('''SELECT day, time, smoker, ROUND(AVG(tip/total_bill*100),2) AS average_tip_percentage FROM tips GROUP BY day, time, smoker HAVING COUNT(*) > 5''')\n",
    "print(c.fetchall())"
   ]
  },
  {
   "cell_type": "markdown",
   "metadata": {},
   "source": [
    "# Additional Queries"
   ]
  },
  {
   "cell_type": "markdown",
   "metadata": {},
   "source": [
    "### 1. Retrieve the total bill and tip amount for each smoker status"
   ]
  },
  {
   "cell_type": "code",
   "execution_count": 77,
   "metadata": {},
   "outputs": [
    {
     "name": "stdout",
     "output_type": "stream",
     "text": [
      "[('No', 2897.43, 451.77), ('Yes', 1930.34, 279.81)]\n"
     ]
    }
   ],
   "source": [
    "c.execute('''SELECT smoker, ROUND(SUM(total_bill),2) as total_bill, ROUNd(SUM(tip),2) FROM tips GROUP BY smoker ORDER BY total_bill DESC''')\n",
    "print(c.fetchall())"
   ]
  },
  {
   "cell_type": "markdown",
   "metadata": {},
   "source": [
    "### 2. Find the maximum and minimum tip percentage for each size"
   ]
  },
  {
   "cell_type": "code",
   "execution_count": 78,
   "metadata": {},
   "outputs": [
    {
     "name": "stdout",
     "output_type": "stream",
     "text": [
      "[(1, 32.57, 13.79), (2, 71.03, 3.56), (3, 23.07, 5.64), (4, 28.05, 7.75), (5, 24.17, 6.57), (6, 19.53, 10.38)]\n"
     ]
    }
   ],
   "source": [
    "c.execute('''SELECT size, ROUND(MAX(tip/total_bill*100),2), ROUND(MIN(tip/total_bill*100),2) FROM tips GROUP BY size ''')\n",
    "print(c.fetchall())"
   ]
  },
  {
   "cell_type": "markdown",
   "metadata": {},
   "source": [
    "### 3. Find the top 3 day and time combinations that have the highest revenue"
   ]
  },
  {
   "cell_type": "code",
   "execution_count": 79,
   "metadata": {},
   "outputs": [
    {
     "name": "stdout",
     "output_type": "stream",
     "text": [
      "[('Sat', 'Dinner', 1778.4), ('Sun', 'Dinner', 1627.16), ('Thur', 'Lunch', 1077.55)]\n"
     ]
    }
   ],
   "source": [
    "c.execute('''SELECT day, time, ROUNd(SUM(total_bill),2) AS revenue FROM tips GROUP BY day, time ORDER BY revenue DESC LIMIT 3''')\n",
    "print(c.fetchall())"
   ]
  },
  {
   "cell_type": "markdown",
   "metadata": {},
   "source": [
    "### 4. Retrieve the total bill and tip for parties of size 2 or less, where the tip percentage is less than 10%"
   ]
  },
  {
   "cell_type": "code",
   "execution_count": 80,
   "metadata": {},
   "outputs": [
    {
     "name": "stdout",
     "output_type": "stream",
     "text": [
      "[(16.99, 1.01), (26.41, 1.5), (20.23, 2.01), (19.08, 1.5), (31.85, 3.18), (32.9, 3.11), (40.55, 3.0), (15.69, 1.5), (28.44, 2.56), (24.27, 2.03), (12.9, 1.1), (12.6, 1.0), (32.83, 1.17), (27.18, 2.0), (22.67, 2.0), (17.82, 1.75)]\n"
     ]
    }
   ],
   "source": [
    "c.execute('''SELECT total_bill, tip FROM tips WHERE size <= 2 AND tip/total_bill*100 < 10''')\n",
    "print(c.fetchall())"
   ]
  },
  {
   "cell_type": "markdown",
   "metadata": {},
   "source": [
    "### 5. Retrieve the total bill, tip, and tip percentage from all males and smokers, where the total bill is between $20 and $30, and rank in ascending order fo the total bill"
   ]
  },
  {
   "cell_type": "code",
   "execution_count": 81,
   "metadata": {},
   "outputs": [
    {
     "name": "stdout",
     "output_type": "stream",
     "text": [
      "[(20.29, 3.21, 15.82), (20.49, 4.06, 19.81), (20.53, 4.0, 19.48), (21.01, 3.0, 14.28), (22.67, 2.0, 8.82), (23.1, 4.0, 17.32), (23.17, 6.5, 28.05), (23.33, 5.65, 24.22), (24.01, 2.0, 8.33), (24.27, 2.03, 8.36), (25.21, 4.29, 17.02), (25.89, 5.16, 19.93), (26.59, 3.41, 12.82), (27.28, 4.0, 14.66), (28.15, 3.0, 10.66), (28.44, 2.56, 9.0), (28.97, 3.0, 10.36)]\n"
     ]
    }
   ],
   "source": [
    "c.execute('''SELECT total_bill, tip, ROUND(tip/total_bill*100, 2) FROM tips WHERE sex = 'Male' AND smoker = 'Yes' AND total_bill BETWEEN 20 AND 30 ORDER BY total_bill ASC''')\n",
    "print(c.fetchall())"
   ]
  },
  {
   "cell_type": "markdown",
   "metadata": {},
   "source": [
    "# UPDATE"
   ]
  },
  {
   "cell_type": "markdown",
   "metadata": {},
   "source": [
    "### It was determined that there was an error in the database. Please update the record that corresponds to id=10 and set smoker to Yes."
   ]
  },
  {
   "cell_type": "code",
   "execution_count": 84,
   "metadata": {},
   "outputs": [
    {
     "name": "stdout",
     "output_type": "stream",
     "text": [
      "[(10, 10.27, 1.71, 'Male', 'Yes', 'Sun', 'Dinner', 2)]\n"
     ]
    }
   ],
   "source": [
    "c.execute('''UPDATE tips SET smoker = 'Yes' WHERE id = 10''')\n",
    "c.execute('''SELECT * FROM tips WHERE id = 10''')\n",
    "print(c.fetchall())"
   ]
  },
  {
   "cell_type": "markdown",
   "metadata": {},
   "source": [
    "# DELETE"
   ]
  },
  {
   "cell_type": "markdown",
   "metadata": {},
   "source": [
    "### Delete records from the database that have a total bill that is less than $10."
   ]
  },
  {
   "cell_type": "code",
   "execution_count": 85,
   "metadata": {},
   "outputs": [
    {
     "name": "stdout",
     "output_type": "stream",
     "text": [
      "[(0, 16.99, 1.01, 'Female', 'No', 'Sun', 'Dinner', 2), (1, 10.34, 1.66, 'Male', 'No', 'Sun', 'Dinner', 3), (2, 21.01, 3.5, 'Male', 'No', 'Sun', 'Dinner', 3), (3, 23.68, 3.31, 'Male', 'No', 'Sun', 'Dinner', 2), (4, 24.59, 3.61, 'Female', 'No', 'Sun', 'Dinner', 4), (5, 25.29, 4.71, 'Male', 'No', 'Sun', 'Dinner', 4), (7, 26.88, 3.12, 'Male', 'No', 'Sun', 'Dinner', 4), (8, 15.04, 1.96, 'Male', 'No', 'Sun', 'Dinner', 2), (9, 14.78, 3.23, 'Male', 'No', 'Sun', 'Dinner', 2), (10, 10.27, 1.71, 'Male', 'Yes', 'Sun', 'Dinner', 2), (11, 35.26, 5.0, 'Female', 'No', 'Sun', 'Dinner', 4), (12, 15.42, 1.57, 'Male', 'No', 'Sun', 'Dinner', 2), (13, 18.43, 3.0, 'Male', 'No', 'Sun', 'Dinner', 4), (14, 14.83, 3.02, 'Female', 'No', 'Sun', 'Dinner', 2), (15, 21.58, 3.92, 'Male', 'No', 'Sun', 'Dinner', 2), (16, 10.33, 1.67, 'Female', 'No', 'Sun', 'Dinner', 3), (17, 16.29, 3.71, 'Male', 'No', 'Sun', 'Dinner', 3), (18, 16.97, 3.5, 'Female', 'No', 'Sun', 'Dinner', 3), (19, 20.65, 3.35, 'Male', 'No', 'Sat', 'Dinner', 3), (20, 17.92, 4.08, 'Male', 'No', 'Sat', 'Dinner', 2), (21, 20.29, 2.75, 'Female', 'No', 'Sat', 'Dinner', 2), (22, 15.77, 2.23, 'Female', 'No', 'Sat', 'Dinner', 2), (23, 39.42, 7.58, 'Male', 'No', 'Sat', 'Dinner', 4), (24, 19.82, 3.18, 'Male', 'No', 'Sat', 'Dinner', 2), (25, 17.81, 2.34, 'Male', 'No', 'Sat', 'Dinner', 4), (26, 13.37, 2.0, 'Male', 'No', 'Sat', 'Dinner', 2), (27, 12.69, 2.0, 'Male', 'No', 'Sat', 'Dinner', 2), (28, 21.7, 4.3, 'Male', 'No', 'Sat', 'Dinner', 2), (29, 19.65, 3.0, 'Female', 'No', 'Sat', 'Dinner', 2), (31, 18.35, 2.5, 'Male', 'No', 'Sat', 'Dinner', 4), (32, 15.06, 3.0, 'Female', 'No', 'Sat', 'Dinner', 2), (33, 20.69, 2.45, 'Female', 'No', 'Sat', 'Dinner', 4), (34, 17.78, 3.27, 'Male', 'No', 'Sat', 'Dinner', 2), (35, 24.06, 3.6, 'Male', 'No', 'Sat', 'Dinner', 3), (36, 16.31, 2.0, 'Male', 'No', 'Sat', 'Dinner', 3), (37, 16.93, 3.07, 'Female', 'No', 'Sat', 'Dinner', 3), (38, 18.69, 2.31, 'Male', 'No', 'Sat', 'Dinner', 3), (39, 31.27, 5.0, 'Male', 'No', 'Sat', 'Dinner', 3), (40, 16.04, 2.24, 'Male', 'No', 'Sat', 'Dinner', 3), (41, 17.46, 2.54, 'Male', 'No', 'Sun', 'Dinner', 2), (42, 13.94, 3.06, 'Male', 'No', 'Sun', 'Dinner', 2), (44, 30.4, 5.6, 'Male', 'No', 'Sun', 'Dinner', 4), (45, 18.29, 3.0, 'Male', 'No', 'Sun', 'Dinner', 2), (46, 22.23, 5.0, 'Male', 'No', 'Sun', 'Dinner', 2), (47, 32.4, 6.0, 'Male', 'No', 'Sun', 'Dinner', 4), (48, 28.55, 2.05, 'Male', 'No', 'Sun', 'Dinner', 3), (49, 18.04, 3.0, 'Male', 'No', 'Sun', 'Dinner', 2), (50, 12.54, 2.5, 'Male', 'No', 'Sun', 'Dinner', 2), (51, 10.29, 2.6, 'Female', 'No', 'Sun', 'Dinner', 2), (52, 34.81, 5.2, 'Female', 'No', 'Sun', 'Dinner', 4), (54, 25.56, 4.34, 'Male', 'No', 'Sun', 'Dinner', 4), (55, 19.49, 3.51, 'Male', 'No', 'Sun', 'Dinner', 2), (56, 38.01, 3.0, 'Male', 'Yes', 'Sat', 'Dinner', 4), (57, 26.41, 1.5, 'Female', 'No', 'Sat', 'Dinner', 2), (58, 11.24, 1.76, 'Male', 'Yes', 'Sat', 'Dinner', 2), (59, 48.27, 6.73, 'Male', 'No', 'Sat', 'Dinner', 4), (60, 20.29, 3.21, 'Male', 'Yes', 'Sat', 'Dinner', 2), (61, 13.81, 2.0, 'Male', 'Yes', 'Sat', 'Dinner', 2), (62, 11.02, 1.98, 'Male', 'Yes', 'Sat', 'Dinner', 2), (63, 18.29, 3.76, 'Male', 'Yes', 'Sat', 'Dinner', 4), (64, 17.59, 2.64, 'Male', 'No', 'Sat', 'Dinner', 3), (65, 20.08, 3.15, 'Male', 'No', 'Sat', 'Dinner', 3), (66, 16.45, 2.47, 'Female', 'No', 'Sat', 'Dinner', 2), (68, 20.23, 2.01, 'Male', 'No', 'Sat', 'Dinner', 2), (69, 15.01, 2.09, 'Male', 'Yes', 'Sat', 'Dinner', 2), (70, 12.02, 1.97, 'Male', 'No', 'Sat', 'Dinner', 2), (71, 17.07, 3.0, 'Female', 'No', 'Sat', 'Dinner', 3), (72, 26.86, 3.14, 'Female', 'Yes', 'Sat', 'Dinner', 2), (73, 25.28, 5.0, 'Female', 'Yes', 'Sat', 'Dinner', 2), (74, 14.73, 2.2, 'Female', 'No', 'Sat', 'Dinner', 2), (75, 10.51, 1.25, 'Male', 'No', 'Sat', 'Dinner', 2), (76, 17.92, 3.08, 'Male', 'Yes', 'Sat', 'Dinner', 2), (77, 27.2, 4.0, 'Male', 'No', 'Thur', 'Lunch', 4), (78, 22.76, 3.0, 'Male', 'No', 'Thur', 'Lunch', 2), (79, 17.29, 2.71, 'Male', 'No', 'Thur', 'Lunch', 2), (80, 19.44, 3.0, 'Male', 'Yes', 'Thur', 'Lunch', 2), (81, 16.66, 3.4, 'Male', 'No', 'Thur', 'Lunch', 2), (82, 10.07, 1.83, 'Female', 'No', 'Thur', 'Lunch', 1), (83, 32.68, 5.0, 'Male', 'Yes', 'Thur', 'Lunch', 2), (84, 15.98, 2.03, 'Male', 'No', 'Thur', 'Lunch', 2), (85, 34.83, 5.17, 'Female', 'No', 'Thur', 'Lunch', 4), (86, 13.03, 2.0, 'Male', 'No', 'Thur', 'Lunch', 2), (87, 18.28, 4.0, 'Male', 'No', 'Thur', 'Lunch', 2), (88, 24.71, 5.85, 'Male', 'No', 'Thur', 'Lunch', 2), (89, 21.16, 3.0, 'Male', 'No', 'Thur', 'Lunch', 2), (90, 28.97, 3.0, 'Male', 'Yes', 'Fri', 'Dinner', 2), (91, 22.49, 3.5, 'Male', 'No', 'Fri', 'Dinner', 2), (93, 16.32, 4.3, 'Female', 'Yes', 'Fri', 'Dinner', 2), (94, 22.75, 3.25, 'Female', 'No', 'Fri', 'Dinner', 2), (95, 40.17, 4.73, 'Male', 'Yes', 'Fri', 'Dinner', 4), (96, 27.28, 4.0, 'Male', 'Yes', 'Fri', 'Dinner', 2), (97, 12.03, 1.5, 'Male', 'Yes', 'Fri', 'Dinner', 2), (98, 21.01, 3.0, 'Male', 'Yes', 'Fri', 'Dinner', 2), (99, 12.46, 1.5, 'Male', 'No', 'Fri', 'Dinner', 2), (100, 11.35, 2.5, 'Female', 'Yes', 'Fri', 'Dinner', 2), (101, 15.38, 3.0, 'Female', 'Yes', 'Fri', 'Dinner', 2), (102, 44.3, 2.5, 'Female', 'Yes', 'Sat', 'Dinner', 3), (103, 22.42, 3.48, 'Female', 'Yes', 'Sat', 'Dinner', 2), (104, 20.92, 4.08, 'Female', 'No', 'Sat', 'Dinner', 2), (105, 15.36, 1.64, 'Male', 'Yes', 'Sat', 'Dinner', 2), (106, 20.49, 4.06, 'Male', 'Yes', 'Sat', 'Dinner', 2), (107, 25.21, 4.29, 'Male', 'Yes', 'Sat', 'Dinner', 2), (108, 18.24, 3.76, 'Male', 'No', 'Sat', 'Dinner', 2), (109, 14.31, 4.0, 'Female', 'Yes', 'Sat', 'Dinner', 2), (110, 14.0, 3.0, 'Male', 'No', 'Sat', 'Dinner', 2), (112, 38.07, 4.0, 'Male', 'No', 'Sun', 'Dinner', 3), (113, 23.95, 2.55, 'Male', 'No', 'Sun', 'Dinner', 2), (114, 25.71, 4.0, 'Female', 'No', 'Sun', 'Dinner', 3), (115, 17.31, 3.5, 'Female', 'No', 'Sun', 'Dinner', 2), (116, 29.93, 5.07, 'Male', 'No', 'Sun', 'Dinner', 4), (117, 10.65, 1.5, 'Female', 'No', 'Thur', 'Lunch', 2), (118, 12.43, 1.8, 'Female', 'No', 'Thur', 'Lunch', 2), (119, 24.08, 2.92, 'Female', 'No', 'Thur', 'Lunch', 4), (120, 11.69, 2.31, 'Male', 'No', 'Thur', 'Lunch', 2), (121, 13.42, 1.68, 'Female', 'No', 'Thur', 'Lunch', 2), (122, 14.26, 2.5, 'Male', 'No', 'Thur', 'Lunch', 2), (123, 15.95, 2.0, 'Male', 'No', 'Thur', 'Lunch', 2), (124, 12.48, 2.52, 'Female', 'No', 'Thur', 'Lunch', 2), (125, 29.8, 4.2, 'Female', 'No', 'Thur', 'Lunch', 6), (127, 14.52, 2.0, 'Female', 'No', 'Thur', 'Lunch', 2), (128, 11.38, 2.0, 'Female', 'No', 'Thur', 'Lunch', 2), (129, 22.82, 2.18, 'Male', 'No', 'Thur', 'Lunch', 3), (130, 19.08, 1.5, 'Male', 'No', 'Thur', 'Lunch', 2), (131, 20.27, 2.83, 'Female', 'No', 'Thur', 'Lunch', 2), (132, 11.17, 1.5, 'Female', 'No', 'Thur', 'Lunch', 2), (133, 12.26, 2.0, 'Female', 'No', 'Thur', 'Lunch', 2), (134, 18.26, 3.25, 'Female', 'No', 'Thur', 'Lunch', 2), (136, 10.33, 2.0, 'Female', 'No', 'Thur', 'Lunch', 2), (137, 14.15, 2.0, 'Female', 'No', 'Thur', 'Lunch', 2), (138, 16.0, 2.0, 'Male', 'Yes', 'Thur', 'Lunch', 2), (139, 13.16, 2.75, 'Female', 'No', 'Thur', 'Lunch', 2), (140, 17.47, 3.5, 'Female', 'No', 'Thur', 'Lunch', 2), (141, 34.3, 6.7, 'Male', 'No', 'Thur', 'Lunch', 6), (142, 41.19, 5.0, 'Male', 'No', 'Thur', 'Lunch', 5), (143, 27.05, 5.0, 'Female', 'No', 'Thur', 'Lunch', 6), (144, 16.43, 2.3, 'Female', 'No', 'Thur', 'Lunch', 2), (146, 18.64, 1.36, 'Female', 'No', 'Thur', 'Lunch', 3), (147, 11.87, 1.63, 'Female', 'No', 'Thur', 'Lunch', 2), (150, 14.07, 2.5, 'Male', 'No', 'Sun', 'Dinner', 2), (151, 13.13, 2.0, 'Male', 'No', 'Sun', 'Dinner', 2), (152, 17.26, 2.74, 'Male', 'No', 'Sun', 'Dinner', 3), (153, 24.55, 2.0, 'Male', 'No', 'Sun', 'Dinner', 4), (154, 19.77, 2.0, 'Male', 'No', 'Sun', 'Dinner', 4), (155, 29.85, 5.14, 'Female', 'No', 'Sun', 'Dinner', 5), (156, 48.17, 5.0, 'Male', 'No', 'Sun', 'Dinner', 6), (157, 25.0, 3.75, 'Female', 'No', 'Sun', 'Dinner', 4), (158, 13.39, 2.61, 'Female', 'No', 'Sun', 'Dinner', 2), (159, 16.49, 2.0, 'Male', 'No', 'Sun', 'Dinner', 4), (160, 21.5, 3.5, 'Male', 'No', 'Sun', 'Dinner', 4), (161, 12.66, 2.5, 'Male', 'No', 'Sun', 'Dinner', 2), (162, 16.21, 2.0, 'Female', 'No', 'Sun', 'Dinner', 3), (163, 13.81, 2.0, 'Male', 'No', 'Sun', 'Dinner', 2), (164, 17.51, 3.0, 'Female', 'Yes', 'Sun', 'Dinner', 2), (165, 24.52, 3.48, 'Male', 'No', 'Sun', 'Dinner', 3), (166, 20.76, 2.24, 'Male', 'No', 'Sun', 'Dinner', 2), (167, 31.71, 4.5, 'Male', 'No', 'Sun', 'Dinner', 4), (168, 10.59, 1.61, 'Female', 'Yes', 'Sat', 'Dinner', 2), (169, 10.63, 2.0, 'Female', 'Yes', 'Sat', 'Dinner', 2), (170, 50.81, 10.0, 'Male', 'Yes', 'Sat', 'Dinner', 3), (171, 15.81, 3.16, 'Male', 'Yes', 'Sat', 'Dinner', 2), (173, 31.85, 3.18, 'Male', 'Yes', 'Sun', 'Dinner', 2), (174, 16.82, 4.0, 'Male', 'Yes', 'Sun', 'Dinner', 2), (175, 32.9, 3.11, 'Male', 'Yes', 'Sun', 'Dinner', 2), (176, 17.89, 2.0, 'Male', 'Yes', 'Sun', 'Dinner', 2), (177, 14.48, 2.0, 'Male', 'Yes', 'Sun', 'Dinner', 2), (179, 34.63, 3.55, 'Male', 'Yes', 'Sun', 'Dinner', 2), (180, 34.65, 3.68, 'Male', 'Yes', 'Sun', 'Dinner', 4), (181, 23.33, 5.65, 'Male', 'Yes', 'Sun', 'Dinner', 2), (182, 45.35, 3.5, 'Male', 'Yes', 'Sun', 'Dinner', 3), (183, 23.17, 6.5, 'Male', 'Yes', 'Sun', 'Dinner', 4), (184, 40.55, 3.0, 'Male', 'Yes', 'Sun', 'Dinner', 2), (185, 20.69, 5.0, 'Male', 'No', 'Sun', 'Dinner', 5), (186, 20.9, 3.5, 'Female', 'Yes', 'Sun', 'Dinner', 3), (187, 30.46, 2.0, 'Male', 'Yes', 'Sun', 'Dinner', 5), (188, 18.15, 3.5, 'Female', 'Yes', 'Sun', 'Dinner', 3), (189, 23.1, 4.0, 'Male', 'Yes', 'Sun', 'Dinner', 3), (190, 15.69, 1.5, 'Male', 'Yes', 'Sun', 'Dinner', 2), (191, 19.81, 4.19, 'Female', 'Yes', 'Thur', 'Lunch', 2), (192, 28.44, 2.56, 'Male', 'Yes', 'Thur', 'Lunch', 2), (193, 15.48, 2.02, 'Male', 'Yes', 'Thur', 'Lunch', 2), (194, 16.58, 4.0, 'Male', 'Yes', 'Thur', 'Lunch', 2), (196, 10.34, 2.0, 'Male', 'Yes', 'Thur', 'Lunch', 2), (197, 43.11, 5.0, 'Female', 'Yes', 'Thur', 'Lunch', 4), (198, 13.0, 2.0, 'Female', 'Yes', 'Thur', 'Lunch', 2), (199, 13.51, 2.0, 'Male', 'Yes', 'Thur', 'Lunch', 2), (200, 18.71, 4.0, 'Male', 'Yes', 'Thur', 'Lunch', 3), (201, 12.74, 2.01, 'Female', 'Yes', 'Thur', 'Lunch', 2), (202, 13.0, 2.0, 'Female', 'Yes', 'Thur', 'Lunch', 2), (203, 16.4, 2.5, 'Female', 'Yes', 'Thur', 'Lunch', 2), (204, 20.53, 4.0, 'Male', 'Yes', 'Thur', 'Lunch', 4), (205, 16.47, 3.23, 'Female', 'Yes', 'Thur', 'Lunch', 3), (206, 26.59, 3.41, 'Male', 'Yes', 'Sat', 'Dinner', 3), (207, 38.73, 3.0, 'Male', 'Yes', 'Sat', 'Dinner', 4), (208, 24.27, 2.03, 'Male', 'Yes', 'Sat', 'Dinner', 2), (209, 12.76, 2.23, 'Female', 'Yes', 'Sat', 'Dinner', 2), (210, 30.06, 2.0, 'Male', 'Yes', 'Sat', 'Dinner', 3), (211, 25.89, 5.16, 'Male', 'Yes', 'Sat', 'Dinner', 4), (212, 48.33, 9.0, 'Male', 'No', 'Sat', 'Dinner', 4), (213, 13.27, 2.5, 'Female', 'Yes', 'Sat', 'Dinner', 2), (214, 28.17, 6.5, 'Female', 'Yes', 'Sat', 'Dinner', 3), (215, 12.9, 1.1, 'Female', 'Yes', 'Sat', 'Dinner', 2), (216, 28.15, 3.0, 'Male', 'Yes', 'Sat', 'Dinner', 5), (217, 11.59, 1.5, 'Male', 'Yes', 'Sat', 'Dinner', 2), (219, 30.14, 3.09, 'Female', 'Yes', 'Sat', 'Dinner', 4), (220, 12.16, 2.2, 'Male', 'Yes', 'Fri', 'Lunch', 2), (221, 13.42, 3.48, 'Female', 'Yes', 'Fri', 'Lunch', 2), (223, 15.98, 3.0, 'Female', 'No', 'Fri', 'Lunch', 3), (224, 13.42, 1.58, 'Male', 'Yes', 'Fri', 'Lunch', 2), (225, 16.27, 2.5, 'Female', 'Yes', 'Fri', 'Lunch', 2), (226, 10.09, 2.0, 'Female', 'Yes', 'Fri', 'Lunch', 2), (227, 20.45, 3.0, 'Male', 'No', 'Sat', 'Dinner', 4), (228, 13.28, 2.72, 'Male', 'No', 'Sat', 'Dinner', 2), (229, 22.12, 2.88, 'Female', 'Yes', 'Sat', 'Dinner', 2), (230, 24.01, 2.0, 'Male', 'Yes', 'Sat', 'Dinner', 4), (231, 15.69, 3.0, 'Male', 'Yes', 'Sat', 'Dinner', 3), (232, 11.61, 3.39, 'Male', 'No', 'Sat', 'Dinner', 2), (233, 10.77, 1.47, 'Male', 'No', 'Sat', 'Dinner', 2), (234, 15.53, 3.0, 'Male', 'Yes', 'Sat', 'Dinner', 2), (235, 10.07, 1.25, 'Male', 'No', 'Sat', 'Dinner', 2), (236, 12.6, 1.0, 'Male', 'Yes', 'Sat', 'Dinner', 2), (237, 32.83, 1.17, 'Male', 'Yes', 'Sat', 'Dinner', 2), (238, 35.83, 4.67, 'Female', 'No', 'Sat', 'Dinner', 3), (239, 29.03, 5.92, 'Male', 'No', 'Sat', 'Dinner', 3), (240, 27.18, 2.0, 'Female', 'Yes', 'Sat', 'Dinner', 2), (241, 22.67, 2.0, 'Male', 'Yes', 'Sat', 'Dinner', 2), (242, 17.82, 1.75, 'Male', 'No', 'Sat', 'Dinner', 2), (243, 18.78, 3.0, 'Female', 'No', 'Thur', 'Dinner', 2)]\n"
     ]
    }
   ],
   "source": [
    "c.execute('''DELETE FROM tips WHERE total_bill < 10''')\n",
    "c.execute('''SELECT * FROM tips''')\n",
    "print(c.fetchall())"
   ]
  }
 ],
 "metadata": {
  "kernelspec": {
   "display_name": "env",
   "language": "python",
   "name": "python3"
  },
  "language_info": {
   "codemirror_mode": {
    "name": "ipython",
    "version": 3
   },
   "file_extension": ".py",
   "mimetype": "text/x-python",
   "name": "python",
   "nbconvert_exporter": "python",
   "pygments_lexer": "ipython3",
   "version": "3.11.4"
  }
 },
 "nbformat": 4,
 "nbformat_minor": 2
}
