{
 "cells": [
  {
   "cell_type": "markdown",
   "id": "3e084f11-9071-4ae1-b5c9-0b286368f4f9",
   "metadata": {},
   "source": [
    "# Team Assignment 2 - Data Storage and Access\n",
    "\n",
    "Submitted for Team Trackstars. "
   ]
  },
  {
   "cell_type": "markdown",
   "id": "1aab3684-4d5e-4ba1-b4d9-19effa7eb5d1",
   "metadata": {},
   "source": [
    "## Notebook Dependencies"
   ]
  },
  {
   "cell_type": "code",
   "execution_count": 94,
   "id": "34967698-28e7-4466-a4bf-4fca95ade853",
   "metadata": {},
   "outputs": [],
   "source": [
    "import sqlite3 as sql\n",
    "import pandas as pd\n",
    "import math"
   ]
  },
  {
   "cell_type": "markdown",
   "id": "b4b0edc8-0ff8-4841-bd96-db79a4a688f0",
   "metadata": {},
   "source": [
    "## Helper Functions"
   ]
  },
  {
   "cell_type": "code",
   "execution_count": 74,
   "id": "695bcef6-205a-4a4d-b7c9-03b555f273ac",
   "metadata": {},
   "outputs": [],
   "source": [
    "def execute(query, params=[]): \n",
    "    with sql.connect(db_file) as connection: \n",
    "        cursor = connection.execute(query, params) \n",
    "        rows = cursor.fetchall()\n",
    "        return rows"
   ]
  },
  {
   "cell_type": "markdown",
   "id": "36bac29d-3cf8-4cb0-bae5-b51e1b21c97e",
   "metadata": {},
   "source": [
    "## READ"
   ]
  },
  {
   "cell_type": "code",
   "execution_count": 8,
   "id": "2586dbb1-7404-44b3-915d-f08eaa870a28",
   "metadata": {},
   "outputs": [],
   "source": [
    "csv_file = 'data/tips.csv' \n",
    "db_file = 'data/tips.db' "
   ]
  },
  {
   "cell_type": "markdown",
   "id": "2220f39d-3da1-4a62-9856-e96d077b3af3",
   "metadata": {},
   "source": [
    "**Create DB from CSV...**"
   ]
  },
  {
   "cell_type": "code",
   "execution_count": 25,
   "id": "fd2699f9-ed14-4e48-81c5-813d6fd702a1",
   "metadata": {},
   "outputs": [
    {
     "name": "stdout",
     "output_type": "stream",
     "text": [
      "   total_bill   tip     sex smoker  day    time  size\n",
      "0       16.99  1.01  Female     No  Sun  Dinner     2\n",
      "1       10.34  1.66    Male     No  Sun  Dinner     3\n",
      "2       21.01  3.50    Male     No  Sun  Dinner     3\n",
      "3       23.68  3.31    Male     No  Sun  Dinner     2\n",
      "4       24.59  3.61  Female     No  Sun  Dinner     4\n"
     ]
    }
   ],
   "source": [
    "df = pd.read_csv(csv_file)\n",
    "\n",
    "with sql.connect(db_file) as connection:\n",
    "    df.to_sql('tips', connection, if_exists='replace', index = False)\n",
    "    connection.commit()\n",
    "    print(df.head())"
   ]
  },
  {
   "cell_type": "markdown",
   "id": "1562e0aa-4ff2-42bb-975b-ee0c34b1b29a",
   "metadata": {},
   "source": [
    "**Validate DB creation, content...** "
   ]
  },
  {
   "cell_type": "code",
   "execution_count": 31,
   "id": "dac0a2a9-6cb4-4fed-9b84-a45f1d5c7674",
   "metadata": {},
   "outputs": [
    {
     "name": "stdout",
     "output_type": "stream",
     "text": [
      "(16.99, 1.01, 'Female', 'No', 'Sun', 'Dinner', 2)\n",
      "(10.34, 1.66, 'Male', 'No', 'Sun', 'Dinner', 3)\n",
      "(21.01, 3.5, 'Male', 'No', 'Sun', 'Dinner', 3)\n",
      "(23.68, 3.31, 'Male', 'No', 'Sun', 'Dinner', 2)\n",
      "(24.59, 3.61, 'Female', 'No', 'Sun', 'Dinner', 4)\n"
     ]
    }
   ],
   "source": [
    "with sql.connect(db_file) as connection: \n",
    "    cursor = connection.execute(\"SELECT * FROM tips\") \n",
    "    rows = cursor.fetchall()\n",
    "    for row in rows[0:5]: \n",
    "        print(row)"
   ]
  },
  {
   "cell_type": "markdown",
   "id": "2560eea9-c177-4d80-9a9f-761f39673f6f",
   "metadata": {},
   "source": [
    "**1. Retrieve the average tip percentage for each day of the week**"
   ]
  },
  {
   "cell_type": "code",
   "execution_count": 75,
   "id": "4d0c6ae9-9188-450b-a347-fd5cfe7539c0",
   "metadata": {},
   "outputs": [
    {
     "name": "stdout",
     "output_type": "stream",
     "text": [
      "(2.734736842105263, 'Fri')\n",
      "(2.993103448275862, 'Sat')\n",
      "(3.255131578947369, 'Sun')\n",
      "(2.771451612903226, 'Thur')\n"
     ]
    }
   ],
   "source": [
    "rows = execute(\"SELECT AVG(tip),day FROM tips GROUP BY day\") \n",
    "for row in rows: \n",
    "    print(row)"
   ]
  },
  {
   "cell_type": "markdown",
   "id": "97f35a06-1c20-47ae-b108-95dc58f22e69",
   "metadata": {},
   "source": [
    "**2. Find the maximum and minimum total bill amounts**"
   ]
  },
  {
   "cell_type": "code",
   "execution_count": 76,
   "id": "eeb8d710-3a79-42a6-b63f-77c2fb0a57cb",
   "metadata": {},
   "outputs": [
    {
     "name": "stdout",
     "output_type": "stream",
     "text": [
      "(3.07, 50.81)\n"
     ]
    }
   ],
   "source": [
    "rows = execute(\"SELECT MIN(total_bill), MAX(total_bill) FROM tips\")\n",
    "for row in rows:\n",
    "    print(row)"
   ]
  },
  {
   "cell_type": "markdown",
   "id": "e8e04e73-695e-4755-bb43-7df158321296",
   "metadata": {},
   "source": [
    "**3. Count the number of parties for each size**"
   ]
  },
  {
   "cell_type": "code",
   "execution_count": null,
   "id": "06a41d40-2403-4cec-8c31-c230c9805a56",
   "metadata": {},
   "outputs": [],
   "source": []
  },
  {
   "cell_type": "markdown",
   "id": "42e93214-4b8f-45c5-b2e0-9212fbdd0039",
   "metadata": {},
   "source": [
    "**4. Retrieve the total bill and tip for parties of size 4 or more, where the tip percentage is greater than 15%**"
   ]
  },
  {
   "cell_type": "code",
   "execution_count": null,
   "id": "a0537124-3b23-408b-8080-73c4a5b13d3f",
   "metadata": {},
   "outputs": [],
   "source": []
  },
  {
   "cell_type": "markdown",
   "id": "6be9d009-3c29-4d7c-b408-16099edf2cf4",
   "metadata": {},
   "source": [
    "**5. Retrieve the total bill, tip amount, and tip percentage for each combination of day and time, sorted by tip percentage in descending order**"
   ]
  },
  {
   "cell_type": "code",
   "execution_count": null,
   "id": "a45e77e6-5d17-479d-b6fc-27cdff80456f",
   "metadata": {},
   "outputs": [],
   "source": []
  },
  {
   "cell_type": "markdown",
   "id": "7744485c-d82a-4283-8e72-5c635b4b79b4",
   "metadata": {},
   "source": [
    "**6. Find the average tip percentage for each combination of day, time, and smoker status**"
   ]
  },
  {
   "cell_type": "code",
   "execution_count": null,
   "id": "8b5e8610-666e-482e-8860-43c03e74779a",
   "metadata": {},
   "outputs": [],
   "source": []
  },
  {
   "cell_type": "markdown",
   "id": "3f91cb81-0d1d-4e0f-80b7-74f2f3608cb3",
   "metadata": {},
   "source": [
    "**7. Retrieve the total bill, tip amount, and tip percentage for each sex, sorted by total bill in descending order, and limit the results to the top 5 records**"
   ]
  },
  {
   "cell_type": "code",
   "execution_count": null,
   "id": "eaa03f3b-9e30-4875-87e1-d4f114e11498",
   "metadata": {},
   "outputs": [],
   "source": []
  },
  {
   "cell_type": "markdown",
   "id": "ccd2eec4-8d51-415a-bd6d-04cde5526371",
   "metadata": {},
   "source": [
    "**8. Find the maximum and minimum tip percentage for each day and time combination, along with the corresponding total bill and tip amount**"
   ]
  },
  {
   "cell_type": "code",
   "execution_count": null,
   "id": "bf3e84bf-37b1-47bc-8730-1c584b04ee8a",
   "metadata": {},
   "outputs": [],
   "source": []
  },
  {
   "cell_type": "markdown",
   "id": "b91c3951-9dab-4a17-bb4c-00f8f3535c69",
   "metadata": {},
   "source": [
    "**9. Retrieve the total bill, tip amount, and tip percentage for parties of size 4 or more, where the tip percentage is greater than 15%, and the total bill is between $50 and $100**"
   ]
  },
  {
   "cell_type": "code",
   "execution_count": null,
   "id": "faade53b-1a9c-4cc0-abcb-1de41267c1dd",
   "metadata": {},
   "outputs": [],
   "source": []
  },
  {
   "cell_type": "markdown",
   "id": "6686da2a-1484-49cb-8dea-72038595c45b",
   "metadata": {},
   "source": [
    "**10. Find the average tip percentage for each combination of day, time, and smoker status, but only include combinations with more than 5 records**"
   ]
  },
  {
   "cell_type": "code",
   "execution_count": null,
   "id": "27cc608c-1a4b-4692-96f5-807a4b319a51",
   "metadata": {},
   "outputs": [],
   "source": []
  },
  {
   "cell_type": "markdown",
   "id": "cf06ca9d-382c-40b4-83e2-7cc605ef7124",
   "metadata": {},
   "source": [
    "**11. Get the unique days reported**"
   ]
  },
  {
   "cell_type": "code",
   "execution_count": 77,
   "id": "76b26b0a-6dc3-4038-95a3-99e412c7425e",
   "metadata": {},
   "outputs": [
    {
     "name": "stdout",
     "output_type": "stream",
     "text": [
      "Sun\n",
      "Sat\n",
      "Thur\n",
      "Fri\n"
     ]
    }
   ],
   "source": [
    "rows = execute(\"SELECT DISTINCT day FROM tips\")\n",
    "for row in rows: \n",
    "    print(row[0]) "
   ]
  },
  {
   "cell_type": "markdown",
   "id": "0362d2b8-8014-4779-a081-e8f41c95e954",
   "metadata": {},
   "source": [
    "**12. Group and count the party sizes**"
   ]
  },
  {
   "cell_type": "code",
   "execution_count": 105,
   "id": "0054b598-3d0d-420c-a5b5-882976f484f1",
   "metadata": {},
   "outputs": [
    {
     "name": "stdout",
     "output_type": "stream",
     "text": [
      "(2, 19)\n",
      "(3, 87)\n",
      "(2, 76)\n",
      "(4, 62)\n"
     ]
    }
   ],
   "source": [
    "rows = execute(\"SELECT size, count(*) FROM tips GROUP BY day\")\n",
    "for row in rows: \n",
    "    print(row)"
   ]
  },
  {
   "cell_type": "markdown",
   "id": "1c14338b-9fbe-4336-8ec7-46ac70f25a41",
   "metadata": {},
   "source": [
    "**13. Comparing average tips from smokers and non-smokers**"
   ]
  },
  {
   "cell_type": "code",
   "execution_count": 104,
   "id": "1c37f921-75eb-48b3-98ff-83f216c9f216",
   "metadata": {},
   "outputs": [
    {
     "name": "stdout",
     "output_type": "stream",
     "text": [
      "(3.008709677419355,)\n",
      "(2.9918543046357624,)\n"
     ]
    }
   ],
   "source": [
    "rows = execute(\n",
    "\"SELECT AVG(tip) FROM tips WHERE smoker='Yes'\\\n",
    "UNION ALL \\\n",
    "SELECT AVG(tip) FROM tips WHERE smoker='No'\") \n",
    "for row in rows: \n",
    "    print(row)"
   ]
  },
  {
   "cell_type": "markdown",
   "id": "98e13ce3-c35a-4cd0-bd2f-cf88402397b2",
   "metadata": {},
   "source": [
    "**14. TBD query**"
   ]
  },
  {
   "cell_type": "code",
   "execution_count": null,
   "id": "819b4dfc-c00b-4aaa-9d1e-08fe3c89862c",
   "metadata": {},
   "outputs": [],
   "source": []
  },
  {
   "cell_type": "markdown",
   "id": "dc9edde9-6592-430e-aa48-dfeae6e5744f",
   "metadata": {},
   "source": [
    "**15. TBD query**"
   ]
  },
  {
   "cell_type": "code",
   "execution_count": null,
   "id": "0b26d771-5d5b-4b99-86ce-2fa2693b60cd",
   "metadata": {},
   "outputs": [],
   "source": []
  },
  {
   "cell_type": "markdown",
   "id": "d2bbf3ac-d17e-406e-b547-f7247dc8e812",
   "metadata": {},
   "source": [
    "## UPDATE"
   ]
  },
  {
   "cell_type": "code",
   "execution_count": null,
   "id": "c45adef3-890f-4fe7-a83b-56b66280f277",
   "metadata": {},
   "outputs": [],
   "source": []
  },
  {
   "cell_type": "markdown",
   "id": "57322e66-0702-4155-b413-988cfb4dd203",
   "metadata": {},
   "source": [
    "## DELETE"
   ]
  },
  {
   "cell_type": "code",
   "execution_count": null,
   "id": "31b74611-505c-4462-af4d-991b846de534",
   "metadata": {},
   "outputs": [],
   "source": []
  }
 ],
 "metadata": {
  "kernelspec": {
   "display_name": "Python 3 (ipykernel)",
   "language": "python",
   "name": "python3"
  },
  "language_info": {
   "codemirror_mode": {
    "name": "ipython",
    "version": 3
   },
   "file_extension": ".py",
   "mimetype": "text/x-python",
   "name": "python",
   "nbconvert_exporter": "python",
   "pygments_lexer": "ipython3",
   "version": "3.9.6"
  }
 },
 "nbformat": 4,
 "nbformat_minor": 5
}
