{
 "cells": [
  {
   "cell_type": "code",
   "execution_count": 1,
   "metadata": {},
   "outputs": [],
   "source": [
    "import sqlite3\n",
    "from pathlib import Path\n",
    "import pandas as pd"
   ]
  },
  {
   "cell_type": "markdown",
   "metadata": {},
   "source": [
    "### CREATE"
   ]
  },
  {
   "cell_type": "code",
   "execution_count": 2,
   "metadata": {},
   "outputs": [],
   "source": [
    "try:\n",
    "    # Use sqlite3 to connect to tips.db\n",
    "    con=sqlite3.connect('tips.db')\n",
    "    # Define cursor to execute SQL commmand\n",
    "    cur=con.cursor()\n",
    "except sqlite3.Error as e:\n",
    "    print(f\"Database Connection Error:{e}\")\n",
    "\n"
   ]
  },
  {
   "cell_type": "code",
   "execution_count": 3,
   "metadata": {},
   "outputs": [],
   "source": [
    "try:\n",
    "    # Read csv to pandas dataframe\n",
    "    tips=pd.read_csv('data/tips.csv')\n",
    "    # transform pandas dataframe to Database Table\n",
    "    tips.to_sql('TIPS',con,if_exists='replace', index=True,index_label='id')\n",
    "except Exception as e:\n",
    "    print(f\"Reading CSV to Database Error:{e}\")\n"
   ]
  },
  {
   "cell_type": "markdown",
   "metadata": {},
   "source": [
    "Show All tables in the tips.db"
   ]
  },
  {
   "cell_type": "code",
   "execution_count": 4,
   "metadata": {},
   "outputs": [
    {
     "name": "stdout",
     "output_type": "stream",
     "text": [
      "   name\n",
      "0  TIPS\n"
     ]
    }
   ],
   "source": [
    "try:\n",
    "    # query to show all tables in the tips.db\n",
    "    querychecktable = '''\n",
    "    SELECT name \n",
    "    FROM sqlite_master \n",
    "    WHERE type='table'\n",
    "    '''\n",
    "\n",
    "    # show all tables in tips.db\n",
    "    dftables = pd.read_sql_query(querychecktable, con)\n",
    "    print(dftables)\n",
    "except pd.io.sql.DatabaseError as e:\n",
    "    print(f\"Database SQL Execution Error:{e}\")\n"
   ]
  },
  {
   "cell_type": "markdown",
   "metadata": {},
   "source": [
    "SHOW Content in Table Tips"
   ]
  },
  {
   "cell_type": "code",
   "execution_count": 5,
   "metadata": {},
   "outputs": [
    {
     "name": "stdout",
     "output_type": "stream",
     "text": [
      "      id  total_bill   tip     sex smoker   day    time  size\n",
      "0      0       16.99  1.01  Female     No   Sun  Dinner     2\n",
      "1      1       10.34  1.66    Male     No   Sun  Dinner     3\n",
      "2      2       21.01  3.50    Male     No   Sun  Dinner     3\n",
      "3      3       23.68  3.31    Male     No   Sun  Dinner     2\n",
      "4      4       24.59  3.61  Female     No   Sun  Dinner     4\n",
      "..   ...         ...   ...     ...    ...   ...     ...   ...\n",
      "239  239       29.03  5.92    Male     No   Sat  Dinner     3\n",
      "240  240       27.18  2.00  Female    Yes   Sat  Dinner     2\n",
      "241  241       22.67  2.00    Male    Yes   Sat  Dinner     2\n",
      "242  242       17.82  1.75    Male     No   Sat  Dinner     2\n",
      "243  243       18.78  3.00  Female     No  Thur  Dinner     2\n",
      "\n",
      "[244 rows x 8 columns]\n"
     ]
    }
   ],
   "source": [
    "try:\n",
    "    # query to show content in table tips\n",
    "    querycheckcontent='''\n",
    "    SELECT *\n",
    "    FROM TIPS\n",
    "    '''\n",
    "\n",
    "    # show the content in table tips\n",
    "    dftips=pd.read_sql_query(querycheckcontent,con)\n",
    "    print(dftips)\n",
    "\n",
    "except pd.io.sql.DatabaseError as e:\n",
    "    print(f\"Database SQL Execution Error:{e}\")"
   ]
  },
  {
   "cell_type": "markdown",
   "metadata": {},
   "source": [
    "### READ"
   ]
  },
  {
   "cell_type": "markdown",
   "metadata": {},
   "source": [
    "1. Retrieve the average tip percentage for each day of the week"
   ]
  },
  {
   "cell_type": "code",
   "execution_count": 6,
   "metadata": {},
   "outputs": [
    {
     "name": "stdout",
     "output_type": "stream",
     "text": [
      "    day  avg_tip_percentage\n",
      "0   Fri                16.0\n",
      "1   Sat                15.0\n",
      "2   Sun                15.0\n",
      "3  Thur                16.0\n"
     ]
    }
   ],
   "source": [
    "try:\n",
    "    # query of the 1st read task\n",
    "    query1='''\n",
    "        SELECT DAY,ROUND(SUM(tip)/SUM(total_bill)*100) AS avg_tip_percentage \n",
    "        FROM TIPS\n",
    "        GROUP BY DAY\n",
    "    '''\n",
    "\n",
    "    df1=pd.read_sql_query(query1,con)\n",
    "    # show the output of this Read SQL\n",
    "    print(df1)\n",
    "except pd.io.sql.DatabaseError as e:\n",
    "    print(f\"Database SQL Execution Error:{e}\")"
   ]
  },
  {
   "cell_type": "markdown",
   "metadata": {},
   "source": [
    "2.Find the maximum and minimum total bull amounts"
   ]
  },
  {
   "cell_type": "code",
   "execution_count": 7,
   "metadata": {},
   "outputs": [
    {
     "name": "stdout",
     "output_type": "stream",
     "text": [
      "   max_total_bill  min_total_bill\n",
      "0           50.81            3.07\n"
     ]
    }
   ],
   "source": [
    "try:    \n",
    "    # query of the 2nd read task\n",
    "    query2='''\n",
    "        SELECT MAX(total_bill) AS max_total_bill,MIN(total_bill) AS min_total_bill \n",
    "        FROM TIPS\n",
    "    '''\n",
    "\n",
    "    df2=pd.read_sql_query(query2,con)\n",
    "    # show the output of this Read SQL\n",
    "    print(df2)\n",
    "except pd.io.sql.DatabaseError as e:\n",
    "    print(f\"Database SQL Execution Error:{e}\")"
   ]
  },
  {
   "cell_type": "markdown",
   "metadata": {},
   "source": [
    "3.Count the number of parties for each size"
   ]
  },
  {
   "cell_type": "code",
   "execution_count": 8,
   "metadata": {},
   "outputs": [
    {
     "name": "stdout",
     "output_type": "stream",
     "text": [
      "   size  number\n",
      "0     1       4\n",
      "1     2     156\n",
      "2     3      38\n",
      "3     4      37\n",
      "4     5       5\n",
      "5     6       4\n"
     ]
    }
   ],
   "source": [
    "try:\n",
    "    # query of the 3rd read task\n",
    "    query3='''\n",
    "        SELECT size,COUNT(*) AS number \n",
    "        FROM TIPS\n",
    "        GROUP BY size\n",
    "    '''\n",
    "\n",
    "    df3=pd.read_sql_query(query3,con)\n",
    "    # show the output of this Read SQL\n",
    "    print(df3)\n",
    "except pd.io.sql.DatabaseError as e:\n",
    "    print(f\"Database SQL Execution Error:{e}\")"
   ]
  },
  {
   "cell_type": "markdown",
   "metadata": {},
   "source": [
    "4.Retrieve the total bill and tip for parties of size 4 or more, where the tip percentage is greater than 15%"
   ]
  },
  {
   "cell_type": "code",
   "execution_count": 9,
   "metadata": {},
   "outputs": [
    {
     "name": "stdout",
     "output_type": "stream",
     "text": [
      "    total_bill   tip\n",
      "0        25.29  4.71\n",
      "1        18.43  3.00\n",
      "2        39.42  7.58\n",
      "3        30.40  5.60\n",
      "4        32.40  6.00\n",
      "5        25.56  4.34\n",
      "6        18.29  3.76\n",
      "7        29.93  5.07\n",
      "8        34.30  6.70\n",
      "9        27.05  5.00\n",
      "10       29.85  5.14\n",
      "11       21.50  3.50\n",
      "12       23.17  6.50\n",
      "13       20.69  5.00\n",
      "14       20.53  4.00\n",
      "15       25.89  5.16\n",
      "16       48.33  9.00\n"
     ]
    }
   ],
   "source": [
    "try:\n",
    "    # query of the 4th read task\n",
    "    query4='''\n",
    "        SELECT total_bill,tip \n",
    "        FROM TIPS\n",
    "        WHERE size>=4 AND tip/total_bill>0.15\n",
    "    '''\n",
    "\n",
    "    df4=pd.read_sql_query(query4,con)\n",
    "    # show the output of this Read SQL\n",
    "    print(df4)\n",
    "\n",
    "except pd.io.sql.DatabaseError as e:\n",
    "    print(f\"Database SQL Execution Error:{e}\")"
   ]
  },
  {
   "cell_type": "markdown",
   "metadata": {},
   "source": [
    "5.Retrieve the total bill, tip amount, and tip percentage for each combination of day and time, sorted by tip percentage in descending order"
   ]
  },
  {
   "cell_type": "code",
   "execution_count": 10,
   "metadata": {},
   "outputs": [
    {
     "name": "stdout",
     "output_type": "stream",
     "text": [
      "    day    time  sum_total_bill  tip_amount  tip_percentage\n",
      "0   Fri   Lunch           89.92       16.68            19.0\n",
      "1  Thur  Dinner           18.78        3.00            16.0\n",
      "2  Thur   Lunch         1077.55      168.83            16.0\n",
      "3   Fri  Dinner          235.96       35.28            15.0\n",
      "4   Sat  Dinner         1778.40      260.40            15.0\n",
      "5   Sun  Dinner         1627.16      247.39            15.0\n"
     ]
    }
   ],
   "source": [
    "try:\n",
    "    # query of the 5th read task \n",
    "    query5='''\n",
    "        SELECT day,time,SUM(total_bill) AS sum_total_bill,SUM(tip) AS tip_amount,ROUND(SUM(tip)/SUM(total_bill)*100) AS tip_percentage\n",
    "        FROM TIPS\n",
    "        GROUP BY day,time\n",
    "        ORDER BY tip_percentage DESC\n",
    "    '''\n",
    "\n",
    "    df5=pd.read_sql_query(query5,con)\n",
    "    # show the output of this Read SQL\n",
    "    print(df5)\n",
    "\n",
    "except pd.io.sql.DatabaseError as e:\n",
    "    print(f\"Database SQL Execution Error:{e}\")"
   ]
  },
  {
   "cell_type": "markdown",
   "metadata": {},
   "source": [
    "6.Find the average tip percentage for each combination of day, time, and smoker status"
   ]
  },
  {
   "cell_type": "code",
   "execution_count": 11,
   "metadata": {},
   "outputs": [
    {
     "name": "stdout",
     "output_type": "stream",
     "text": [
      "     day    time smoker  tip_percentage\n",
      "0    Fri  Dinner     No            14.0\n",
      "1    Fri  Dinner    Yes            15.0\n",
      "2    Fri   Lunch     No            19.0\n",
      "3    Fri   Lunch    Yes            19.0\n",
      "4    Sat  Dinner     No            16.0\n",
      "5    Sat  Dinner    Yes            14.0\n",
      "6    Sun  Dinner     No            15.0\n",
      "7    Sun  Dinner    Yes            15.0\n",
      "8   Thur  Dinner     No            16.0\n",
      "9   Thur   Lunch     No            16.0\n",
      "10  Thur   Lunch    Yes            16.0\n"
     ]
    }
   ],
   "source": [
    "try:\n",
    "    # query of the 6th read task \n",
    "    query6='''\n",
    "        SELECT day,time,smoker,ROUND(SUM(tip)/SUM(total_bill)*100) AS tip_percentage\n",
    "        FROM TIPS\n",
    "        GROUP BY day,time,smoker\n",
    "    '''\n",
    "\n",
    "    df6=pd.read_sql_query(query6,con)\n",
    "    # show the output of this Read SQL\n",
    "    print(df6)\n",
    "\n",
    "except pd.io.sql.DatabaseError as e:\n",
    "    print(f\"Database SQL Execution Error:{e}\")"
   ]
  },
  {
   "cell_type": "markdown",
   "metadata": {},
   "source": [
    "7.Retrieve the total bill, tip amount, and tip percentage for each sex, sorted by total bill in descending order, and limit the results to the top 5 records"
   ]
  },
  {
   "cell_type": "code",
   "execution_count": 12,
   "metadata": {},
   "outputs": [
    {
     "name": "stdout",
     "output_type": "stream",
     "text": [
      "      sex  SUM(total_bill)  SUM(tip)  tip_percentage\n",
      "0  Female          1570.95    246.51            16.0\n",
      "1    Male          3256.82    485.07            15.0\n"
     ]
    }
   ],
   "source": [
    "try:\n",
    "    # query of the 7th read task \n",
    "    query7 = '''SELECT sex, SUM(total_bill), SUM(tip), ROUND((SUM(tip) / SUM(total_bill)) * 100) AS tip_percentage \n",
    "        FROM TIPS\n",
    "        GROUP BY sex\n",
    "        ORDER BY total_bill DESC \n",
    "        LIMIT 5;'''\n",
    "\n",
    "    df7 = pd.read_sql_query(query7, con)\n",
    "    # show the output of this Read SQL\n",
    "    print(df7)\n",
    "    \n",
    "except pd.io.sql.DatabaseError as e:\n",
    "    print(f\"Database SQL Execution Error:{e}\")"
   ]
  },
  {
   "cell_type": "markdown",
   "metadata": {},
   "source": [
    "8.Find the maximum and minimum tip percentage for each day and time combination, along with the corresponding total bill and tip amount"
   ]
  },
  {
   "cell_type": "code",
   "execution_count": 13,
   "metadata": {},
   "outputs": [
    {
     "name": "stdout",
     "output_type": "stream",
     "text": [
      "   sum_tips  sum_total_bill  percentage\n",
      "0     35.28          235.96        15.0\n",
      "1     16.68           89.92        19.0\n",
      "2    260.40         1778.40        15.0\n",
      "3    247.39         1627.16        15.0\n"
     ]
    }
   ],
   "source": [
    "try:\n",
    "    # query of the 8th read task \n",
    "    query8 = '''\n",
    "    SELECT *\n",
    "    FROM(\n",
    "    SELECT SUM(tip) as sum_tips, SUM(total_bill) as sum_total_bill, ROUND(SUM(tip)/SUM(total_bill)*100) AS percentage\n",
    "    FROM TIPS\n",
    "    GROUP BY day,time)\n",
    "    WHERE percentage >= (\n",
    "    SELECT MAX(percentage)\n",
    "    FROM(\n",
    "    SELECT SUM(tip) as sum_tips, SUM(total_bill) as sum_total_bill, ROUND(SUM(tip)/SUM(total_bill)*100) AS percentage\n",
    "    FROM TIPS\n",
    "    GROUP BY day,time) ) \n",
    "    OR percentage <= (\n",
    "    SELECT MIN(percentage)\n",
    "    FROM(\n",
    "    SELECT SUM(tip) as sum_tips, SUM(total_bill) as sum_total_bill, ROUND(SUM(tip)/SUM(total_bill)*100) AS percentage\n",
    "    FROM TIPS\n",
    "    GROUP BY day,time))'''\n",
    "\n",
    "    df8 = pd.read_sql_query(query8, con)\n",
    "    # show the output of this Read SQL\n",
    "    print(df8)\n",
    "\n",
    "except pd.io.sql.DatabaseError as e:\n",
    "    print(f\"Database SQL Execution Error:{e}\")"
   ]
  },
  {
   "cell_type": "markdown",
   "metadata": {},
   "source": [
    "9. Retrieve the total bill, tip amount, and tip percentage for parties of size 4 or more, where the tip percentage is greater than 15%, and the total bill is between $50 and $100"
   ]
  },
  {
   "cell_type": "code",
   "execution_count": 14,
   "metadata": {},
   "outputs": [
    {
     "name": "stdout",
     "output_type": "stream",
     "text": [
      "Empty DataFrame\n",
      "Columns: [total_bill, total_tip, tip_percentage]\n",
      "Index: []\n"
     ]
    }
   ],
   "source": [
    "try:\n",
    "    # query of the 9th read task \n",
    "   query9 = '''\n",
    "   SELECT SUM(total_bill) AS total_bill, \n",
    "         SUM(tip) AS total_tip, \n",
    "         ROUND((SUM(tip) / SUM(total_bill)) * 100) AS tip_percentage\n",
    "   FROM TIPS\n",
    "   WHERE size >= 4\n",
    "   GROUP BY size\n",
    "   HAVING tip_percentage > 15 \n",
    "      AND SUM(total_bill) BETWEEN 50 AND 100;\n",
    "   '''\n",
    "\n",
    "   df9 = pd.read_sql_query(query9, con)\n",
    "   # show the output of this Read SQL\n",
    "   print(df9)\n",
    "\n",
    "except pd.io.sql.DatabaseError as e:\n",
    "    print(f\"Database SQL Execution Error:{e}\")\n"
   ]
  },
  {
   "cell_type": "markdown",
   "metadata": {},
   "source": [
    "10. Find the average tip percentage for each combination of day, time, and smoker status, but only include combinations with more than 5 records"
   ]
  },
  {
   "cell_type": "code",
   "execution_count": 15,
   "metadata": {},
   "outputs": [
    {
     "name": "stdout",
     "output_type": "stream",
     "text": [
      "    day    time smoker  avg_tip_percentage\n",
      "0   Fri  Dinner    Yes                17.0\n",
      "1   Fri   Lunch    Yes                19.0\n",
      "2   Sat  Dinner     No                16.0\n",
      "3   Sat  Dinner    Yes                15.0\n",
      "4   Sun  Dinner     No                16.0\n",
      "5   Sun  Dinner    Yes                19.0\n",
      "6  Thur   Lunch     No                16.0\n",
      "7  Thur   Lunch    Yes                16.0\n"
     ]
    }
   ],
   "source": [
    "try:\n",
    "    # query of the 10th read task \n",
    "    query10 = '''\n",
    "    SELECT day, time, smoker, ROUND(AVG(tip / total_bill * 100)) AS avg_tip_percentage \n",
    "    FROM TIPS \n",
    "    GROUP BY day, time, smoker\n",
    "    HAVING COUNT(*) > 5;\n",
    "    '''\n",
    "\n",
    "    df10 = pd.read_sql_query(query10, con)\n",
    "    # show the output of this Read SQL\n",
    "    print(df10)\n",
    "\n",
    "except pd.io.sql.DatabaseError as e:\n",
    "    print(f\"Database SQL Execution Error:{e}\")"
   ]
  },
  {
   "cell_type": "markdown",
   "metadata": {},
   "source": [
    "1st addtional Querry:\n",
    "Retrieve the tips from descending order"
   ]
  },
  {
   "cell_type": "code",
   "execution_count": 16,
   "metadata": {},
   "outputs": [
    {
     "name": "stdout",
     "output_type": "stream",
     "text": [
      "    day    time smoker  avg_tip_percentage\n",
      "0   Fri  Dinner    Yes                17.0\n",
      "1   Fri   Lunch    Yes                19.0\n",
      "2   Sat  Dinner     No                16.0\n",
      "3   Sat  Dinner    Yes                15.0\n",
      "4   Sun  Dinner     No                16.0\n",
      "5   Sun  Dinner    Yes                19.0\n",
      "6  Thur   Lunch     No                16.0\n",
      "7  Thur   Lunch    Yes                16.0\n"
     ]
    }
   ],
   "source": [
    "try:\n",
    "    # query of the 1st addtional read task \n",
    "    query11 = '''\n",
    "    SELECT total_bill, tip\n",
    "    FROM TIPS\n",
    "    ORDER BY tip DESC\n",
    "    '''\n",
    "\n",
    "    df11 = pd.read_sql_query(query10, con)\n",
    "    # show the output of this Read SQL\n",
    "    print(df11)\n",
    "\n",
    "except pd.io.sql.DatabaseError as e:\n",
    "    print(f\"Database SQL Execution Error:{e}\")"
   ]
  },
  {
   "cell_type": "markdown",
   "metadata": {},
   "source": [
    "2nd addtional Querry: Find the total number of smokers and non-smokers"
   ]
  },
  {
   "cell_type": "code",
   "execution_count": 17,
   "metadata": {},
   "outputs": [
    {
     "name": "stdout",
     "output_type": "stream",
     "text": [
      "  smoker  total\n",
      "0     No    151\n",
      "1    Yes     93\n"
     ]
    }
   ],
   "source": [
    "try:\n",
    "    # query of the 2nd addtional read task \n",
    "    query12 = '''\n",
    "    SELECT smoker, COUNT(*) AS total \n",
    "    FROM TIPS \n",
    "    GROUP BY smoker;\n",
    "    '''\n",
    "\n",
    "    df12 = pd.read_sql_query(query12, con)\n",
    "    # show the output of this Read SQL\n",
    "    print(df12)\n",
    "\n",
    "except pd.io.sql.DatabaseError as e:\n",
    "    print(f\"Database SQL Execution Error:{e}\")"
   ]
  },
  {
   "cell_type": "markdown",
   "metadata": {},
   "source": [
    "3rd additional querry: Retrieve the total_bill for parties of size greater than 2"
   ]
  },
  {
   "cell_type": "code",
   "execution_count": 18,
   "metadata": {},
   "outputs": [
    {
     "name": "stdout",
     "output_type": "stream",
     "text": [
      "     total_bill  size\n",
      "0         16.99     2\n",
      "1         10.34     3\n",
      "2         21.01     3\n",
      "3         23.68     2\n",
      "4         24.59     4\n",
      "..          ...   ...\n",
      "235       29.03     3\n",
      "236       27.18     2\n",
      "237       22.67     2\n",
      "238       17.82     2\n",
      "239       18.78     2\n",
      "\n",
      "[240 rows x 2 columns]\n"
     ]
    }
   ],
   "source": [
    "try:\n",
    "    # query of the 3rd addtional read task \n",
    "    query13 = '''\n",
    "    SELECT total_bill, size\n",
    "    FROM TIPS \n",
    "    WHERE size >= 2;\n",
    "    '''\n",
    "\n",
    "    df13 = pd.read_sql_query(query13, con)\n",
    "    # show the output of this Read SQL\n",
    "    print(df13)\n",
    "\n",
    "except pd.io.sql.DatabaseError as e:\n",
    "    print(f\"Database SQL Execution Error:{e}\")"
   ]
  },
  {
   "cell_type": "markdown",
   "metadata": {},
   "source": [
    "4th additional querry: Count the number of meals served during lunch and dinner"
   ]
  },
  {
   "cell_type": "code",
   "execution_count": 19,
   "metadata": {},
   "outputs": [
    {
     "name": "stdout",
     "output_type": "stream",
     "text": [
      "     time  meals_served\n",
      "0  Dinner           176\n",
      "1   Lunch            68\n"
     ]
    }
   ],
   "source": [
    "try:\n",
    "    # query of the 4th addtional read task \n",
    "    query14 = '''\n",
    "    SELECT time, COUNT(*) AS meals_served \n",
    "    FROM TIPS \n",
    "    GROUP BY time;\n",
    "    '''\n",
    "\n",
    "    df14 = pd.read_sql_query(query14, con)\n",
    "    # show the output of this Read SQL\n",
    "    print(df14)\n",
    "\n",
    "except pd.io.sql.DatabaseError as e:\n",
    "    print(f\"Database SQL Execution Error:{e}\")"
   ]
  },
  {
   "cell_type": "markdown",
   "metadata": {},
   "source": [
    "5th additional query: Retrieve total bills for male and female customers on each day"
   ]
  },
  {
   "cell_type": "code",
   "execution_count": 20,
   "metadata": {},
   "outputs": [
    {
     "name": "stdout",
     "output_type": "stream",
     "text": [
      "    day     sex  total_bill\n",
      "0   Fri  Female      127.31\n",
      "1   Fri    Male      198.57\n",
      "2   Sat  Female      551.05\n",
      "3   Sat    Male     1227.35\n",
      "4   Sun  Female      357.70\n",
      "5   Sun    Male     1269.46\n",
      "6  Thur  Female      534.89\n",
      "7  Thur    Male      561.44\n"
     ]
    }
   ],
   "source": [
    "try:\n",
    "    # query of the 5th addtional read task \n",
    "    query15 = '''\n",
    "    SELECT day, sex, SUM(total_bill) AS total_bill \n",
    "    FROM TIPS \n",
    "    GROUP BY day, sex;\n",
    "    '''\n",
    "\n",
    "    df15 = pd.read_sql_query(query15, con)\n",
    "    # show the output of this Read SQL\n",
    "    print(df15)\n",
    "\n",
    "except pd.io.sql.DatabaseError as e:\n",
    "    print(f\"Database SQL Execution Error:{e}\")"
   ]
  },
  {
   "cell_type": "markdown",
   "metadata": {},
   "source": [
    "### UPDATE"
   ]
  },
  {
   "cell_type": "markdown",
   "metadata": {},
   "source": [
    "It was determined that there was an error in the database. Please update the record that corresponds to id=10 and set smoker to Yes."
   ]
  },
  {
   "cell_type": "code",
   "execution_count": 21,
   "metadata": {},
   "outputs": [
    {
     "name": "stdout",
     "output_type": "stream",
     "text": [
      "    id  total_bill   tip     sex smoker  day    time  size\n",
      "0    0       16.99  1.01  Female     No  Sun  Dinner     2\n",
      "1    1       10.34  1.66    Male     No  Sun  Dinner     3\n",
      "2    2       21.01  3.50    Male     No  Sun  Dinner     3\n",
      "3    3       23.68  3.31    Male     No  Sun  Dinner     2\n",
      "4    4       24.59  3.61  Female     No  Sun  Dinner     4\n",
      "5    5       25.29  4.71    Male     No  Sun  Dinner     4\n",
      "6    6        8.77  2.00    Male     No  Sun  Dinner     2\n",
      "7    7       26.88  3.12    Male     No  Sun  Dinner     4\n",
      "8    8       15.04  1.96    Male     No  Sun  Dinner     2\n",
      "9    9       14.78  3.23    Male     No  Sun  Dinner     2\n",
      "10  10       10.27  1.71    Male    Yes  Sun  Dinner     2\n"
     ]
    }
   ],
   "source": [
    "\n",
    "try:\n",
    "    # Update SQL Sentence\n",
    "    update_query='''\n",
    "        UPDATE TIPS\n",
    "        SET Smoker='Yes'\n",
    "        WHERE id=10\n",
    "    '''\n",
    "\n",
    "    cur.execute(update_query)\n",
    "\n",
    "    # show the output of this Update SQL\n",
    "    \n",
    "    query_readall='''\n",
    "    SELECT *\n",
    "    FROM TIPS\n",
    "    LIMIT 11\n",
    "    '''\n",
    "\n",
    "    dftips_afterupdate = pd.read_sql_query(query_readall,con)\n",
    "    print(dftips_afterupdate)\n",
    "\n",
    "except Exception as e:\n",
    "    print(f\"Database Update Execution Error:{e}\")\n",
    "    con.rollback()"
   ]
  },
  {
   "cell_type": "markdown",
   "metadata": {},
   "source": [
    "### DELETE"
   ]
  },
  {
   "cell_type": "markdown",
   "metadata": {},
   "source": [
    "Delete records from the database that have a total bill that is less than $10. "
   ]
  },
  {
   "cell_type": "code",
   "execution_count": 22,
   "metadata": {},
   "outputs": [
    {
     "name": "stdout",
     "output_type": "stream",
     "text": [
      "      id  total_bill   tip     sex smoker   day    time  size\n",
      "0      0       16.99  1.01  Female     No   Sun  Dinner     2\n",
      "1      1       10.34  1.66    Male     No   Sun  Dinner     3\n",
      "2      2       21.01  3.50    Male     No   Sun  Dinner     3\n",
      "3      3       23.68  3.31    Male     No   Sun  Dinner     2\n",
      "4      4       24.59  3.61  Female     No   Sun  Dinner     4\n",
      "..   ...         ...   ...     ...    ...   ...     ...   ...\n",
      "222  239       29.03  5.92    Male     No   Sat  Dinner     3\n",
      "223  240       27.18  2.00  Female    Yes   Sat  Dinner     2\n",
      "224  241       22.67  2.00    Male    Yes   Sat  Dinner     2\n",
      "225  242       17.82  1.75    Male     No   Sat  Dinner     2\n",
      "226  243       18.78  3.00  Female     No  Thur  Dinner     2\n",
      "\n",
      "[227 rows x 8 columns]\n"
     ]
    }
   ],
   "source": [
    "try:\n",
    "     # Delete SQL Sentence\n",
    "    delete_query='''\n",
    "    DELETE FROM TIPS\n",
    "    WHERE total_bill<10\n",
    "    '''\n",
    "\n",
    "    \n",
    "    cur.execute(delete_query)\n",
    "\n",
    "    # show the output of this Update SQL\n",
    "    \n",
    "    query_readall='''\n",
    "    SELECT *\n",
    "    FROM TIPS\n",
    "    '''\n",
    "\n",
    "    dftips_afterdelete = pd.read_sql_query(query_readall,con)\n",
    "    print(dftips_afterdelete)\n",
    "\n",
    "except Exception as e:\n",
    "    print(f\"Database Delete Execution Error:{e}\")\n",
    "    con.rollback()"
   ]
  },
  {
   "cell_type": "code",
   "execution_count": 23,
   "metadata": {},
   "outputs": [],
   "source": [
    "# Close the connection with database\n",
    "cur.close()\n",
    "con.close()"
   ]
  }
 ],
 "metadata": {
  "kernelspec": {
   "display_name": "ta2",
   "language": "python",
   "name": "python3"
  },
  "language_info": {
   "codemirror_mode": {
    "name": "ipython",
    "version": 3
   },
   "file_extension": ".py",
   "mimetype": "text/x-python",
   "name": "python",
   "nbconvert_exporter": "python",
   "pygments_lexer": "ipython3",
   "version": "3.11.9"
  }
 },
 "nbformat": 4,
 "nbformat_minor": 2
}
