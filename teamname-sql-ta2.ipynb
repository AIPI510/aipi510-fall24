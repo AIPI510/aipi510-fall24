{
 "cells": [
  {
   "cell_type": "code",
   "execution_count": 2,
   "metadata": {},
   "outputs": [],
   "source": [
    "import sqlite3"
   ]
  },
  {
   "cell_type": "markdown",
   "metadata": {},
   "source": [
    "### CREATE"
   ]
  },
  {
   "cell_type": "code",
   "execution_count": 3,
   "metadata": {},
   "outputs": [],
   "source": [
    "from pathlib import Path\n",
    "import pandas as pd\n",
    "\n",
    "# Use sqlite3 to connect to tips.db\n",
    "con=sqlite3.connect('tips.db')\n",
    "# Define cursor to execute SQL commmand\n",
    "cur=con.cursor()\n"
   ]
  },
  {
   "cell_type": "markdown",
   "metadata": {},
   "source": [
    "Show All tables in the tips.db"
   ]
  },
  {
   "cell_type": "code",
   "execution_count": 4,
   "metadata": {},
   "outputs": [
    {
     "data": {
      "text/plain": [
       "244"
      ]
     },
     "execution_count": 4,
     "metadata": {},
     "output_type": "execute_result"
    }
   ],
   "source": [
    "# Read csv to pandas dataframe\n",
    "tips=pd.read_csv('data/tips.csv')\n",
    "# transform pandas dataframe to Database Table\n",
    "tips.to_sql('TIPS',con,if_exists='replace', index=False)"
   ]
  },
  {
   "cell_type": "code",
   "execution_count": 5,
   "metadata": {},
   "outputs": [
    {
     "name": "stdout",
     "output_type": "stream",
     "text": [
      "TIPS\n"
     ]
    }
   ],
   "source": [
    "cur.execute(''' SELECT name FROM sqlite_master WHERE type='table' ''')\n",
    "alltables=cur.fetchall()\n",
    "\n",
    "for table in alltables:\n",
    "    print(table[0])\n"
   ]
  },
  {
   "cell_type": "markdown",
   "metadata": {},
   "source": [
    "SHOW Content in Table Tips"
   ]
  },
  {
   "cell_type": "code",
   "execution_count": 6,
   "metadata": {},
   "outputs": [
    {
     "name": "stdout",
     "output_type": "stream",
     "text": [
      "[(16.99, 1.01, 'Female', 'No', 'Sun', 'Dinner', 2), (10.34, 1.66, 'Male', 'No', 'Sun', 'Dinner', 3), (21.01, 3.5, 'Male', 'No', 'Sun', 'Dinner', 3), (23.68, 3.31, 'Male', 'No', 'Sun', 'Dinner', 2), (24.59, 3.61, 'Female', 'No', 'Sun', 'Dinner', 4), (25.29, 4.71, 'Male', 'No', 'Sun', 'Dinner', 4), (8.77, 2.0, 'Male', 'No', 'Sun', 'Dinner', 2), (26.88, 3.12, 'Male', 'No', 'Sun', 'Dinner', 4), (15.04, 1.96, 'Male', 'No', 'Sun', 'Dinner', 2), (14.78, 3.23, 'Male', 'No', 'Sun', 'Dinner', 2), (10.27, 1.71, 'Male', 'No', 'Sun', 'Dinner', 2), (35.26, 5.0, 'Female', 'No', 'Sun', 'Dinner', 4), (15.42, 1.57, 'Male', 'No', 'Sun', 'Dinner', 2), (18.43, 3.0, 'Male', 'No', 'Sun', 'Dinner', 4), (14.83, 3.02, 'Female', 'No', 'Sun', 'Dinner', 2), (21.58, 3.92, 'Male', 'No', 'Sun', 'Dinner', 2), (10.33, 1.67, 'Female', 'No', 'Sun', 'Dinner', 3), (16.29, 3.71, 'Male', 'No', 'Sun', 'Dinner', 3), (16.97, 3.5, 'Female', 'No', 'Sun', 'Dinner', 3), (20.65, 3.35, 'Male', 'No', 'Sat', 'Dinner', 3), (17.92, 4.08, 'Male', 'No', 'Sat', 'Dinner', 2), (20.29, 2.75, 'Female', 'No', 'Sat', 'Dinner', 2), (15.77, 2.23, 'Female', 'No', 'Sat', 'Dinner', 2), (39.42, 7.58, 'Male', 'No', 'Sat', 'Dinner', 4), (19.82, 3.18, 'Male', 'No', 'Sat', 'Dinner', 2), (17.81, 2.34, 'Male', 'No', 'Sat', 'Dinner', 4), (13.37, 2.0, 'Male', 'No', 'Sat', 'Dinner', 2), (12.69, 2.0, 'Male', 'No', 'Sat', 'Dinner', 2), (21.7, 4.3, 'Male', 'No', 'Sat', 'Dinner', 2), (19.65, 3.0, 'Female', 'No', 'Sat', 'Dinner', 2), (9.55, 1.45, 'Male', 'No', 'Sat', 'Dinner', 2), (18.35, 2.5, 'Male', 'No', 'Sat', 'Dinner', 4), (15.06, 3.0, 'Female', 'No', 'Sat', 'Dinner', 2), (20.69, 2.45, 'Female', 'No', 'Sat', 'Dinner', 4), (17.78, 3.27, 'Male', 'No', 'Sat', 'Dinner', 2), (24.06, 3.6, 'Male', 'No', 'Sat', 'Dinner', 3), (16.31, 2.0, 'Male', 'No', 'Sat', 'Dinner', 3), (16.93, 3.07, 'Female', 'No', 'Sat', 'Dinner', 3), (18.69, 2.31, 'Male', 'No', 'Sat', 'Dinner', 3), (31.27, 5.0, 'Male', 'No', 'Sat', 'Dinner', 3), (16.04, 2.24, 'Male', 'No', 'Sat', 'Dinner', 3), (17.46, 2.54, 'Male', 'No', 'Sun', 'Dinner', 2), (13.94, 3.06, 'Male', 'No', 'Sun', 'Dinner', 2), (9.68, 1.32, 'Male', 'No', 'Sun', 'Dinner', 2), (30.4, 5.6, 'Male', 'No', 'Sun', 'Dinner', 4), (18.29, 3.0, 'Male', 'No', 'Sun', 'Dinner', 2), (22.23, 5.0, 'Male', 'No', 'Sun', 'Dinner', 2), (32.4, 6.0, 'Male', 'No', 'Sun', 'Dinner', 4), (28.55, 2.05, 'Male', 'No', 'Sun', 'Dinner', 3), (18.04, 3.0, 'Male', 'No', 'Sun', 'Dinner', 2), (12.54, 2.5, 'Male', 'No', 'Sun', 'Dinner', 2), (10.29, 2.6, 'Female', 'No', 'Sun', 'Dinner', 2), (34.81, 5.2, 'Female', 'No', 'Sun', 'Dinner', 4), (9.94, 1.56, 'Male', 'No', 'Sun', 'Dinner', 2), (25.56, 4.34, 'Male', 'No', 'Sun', 'Dinner', 4), (19.49, 3.51, 'Male', 'No', 'Sun', 'Dinner', 2), (38.01, 3.0, 'Male', 'Yes', 'Sat', 'Dinner', 4), (26.41, 1.5, 'Female', 'No', 'Sat', 'Dinner', 2), (11.24, 1.76, 'Male', 'Yes', 'Sat', 'Dinner', 2), (48.27, 6.73, 'Male', 'No', 'Sat', 'Dinner', 4), (20.29, 3.21, 'Male', 'Yes', 'Sat', 'Dinner', 2), (13.81, 2.0, 'Male', 'Yes', 'Sat', 'Dinner', 2), (11.02, 1.98, 'Male', 'Yes', 'Sat', 'Dinner', 2), (18.29, 3.76, 'Male', 'Yes', 'Sat', 'Dinner', 4), (17.59, 2.64, 'Male', 'No', 'Sat', 'Dinner', 3), (20.08, 3.15, 'Male', 'No', 'Sat', 'Dinner', 3), (16.45, 2.47, 'Female', 'No', 'Sat', 'Dinner', 2), (3.07, 1.0, 'Female', 'Yes', 'Sat', 'Dinner', 1), (20.23, 2.01, 'Male', 'No', 'Sat', 'Dinner', 2), (15.01, 2.09, 'Male', 'Yes', 'Sat', 'Dinner', 2), (12.02, 1.97, 'Male', 'No', 'Sat', 'Dinner', 2), (17.07, 3.0, 'Female', 'No', 'Sat', 'Dinner', 3), (26.86, 3.14, 'Female', 'Yes', 'Sat', 'Dinner', 2), (25.28, 5.0, 'Female', 'Yes', 'Sat', 'Dinner', 2), (14.73, 2.2, 'Female', 'No', 'Sat', 'Dinner', 2), (10.51, 1.25, 'Male', 'No', 'Sat', 'Dinner', 2), (17.92, 3.08, 'Male', 'Yes', 'Sat', 'Dinner', 2), (27.2, 4.0, 'Male', 'No', 'Thur', 'Lunch', 4), (22.76, 3.0, 'Male', 'No', 'Thur', 'Lunch', 2), (17.29, 2.71, 'Male', 'No', 'Thur', 'Lunch', 2), (19.44, 3.0, 'Male', 'Yes', 'Thur', 'Lunch', 2), (16.66, 3.4, 'Male', 'No', 'Thur', 'Lunch', 2), (10.07, 1.83, 'Female', 'No', 'Thur', 'Lunch', 1), (32.68, 5.0, 'Male', 'Yes', 'Thur', 'Lunch', 2), (15.98, 2.03, 'Male', 'No', 'Thur', 'Lunch', 2), (34.83, 5.17, 'Female', 'No', 'Thur', 'Lunch', 4), (13.03, 2.0, 'Male', 'No', 'Thur', 'Lunch', 2), (18.28, 4.0, 'Male', 'No', 'Thur', 'Lunch', 2), (24.71, 5.85, 'Male', 'No', 'Thur', 'Lunch', 2), (21.16, 3.0, 'Male', 'No', 'Thur', 'Lunch', 2), (28.97, 3.0, 'Male', 'Yes', 'Fri', 'Dinner', 2), (22.49, 3.5, 'Male', 'No', 'Fri', 'Dinner', 2), (5.75, 1.0, 'Female', 'Yes', 'Fri', 'Dinner', 2), (16.32, 4.3, 'Female', 'Yes', 'Fri', 'Dinner', 2), (22.75, 3.25, 'Female', 'No', 'Fri', 'Dinner', 2), (40.17, 4.73, 'Male', 'Yes', 'Fri', 'Dinner', 4), (27.28, 4.0, 'Male', 'Yes', 'Fri', 'Dinner', 2), (12.03, 1.5, 'Male', 'Yes', 'Fri', 'Dinner', 2), (21.01, 3.0, 'Male', 'Yes', 'Fri', 'Dinner', 2), (12.46, 1.5, 'Male', 'No', 'Fri', 'Dinner', 2), (11.35, 2.5, 'Female', 'Yes', 'Fri', 'Dinner', 2), (15.38, 3.0, 'Female', 'Yes', 'Fri', 'Dinner', 2), (44.3, 2.5, 'Female', 'Yes', 'Sat', 'Dinner', 3), (22.42, 3.48, 'Female', 'Yes', 'Sat', 'Dinner', 2), (20.92, 4.08, 'Female', 'No', 'Sat', 'Dinner', 2), (15.36, 1.64, 'Male', 'Yes', 'Sat', 'Dinner', 2), (20.49, 4.06, 'Male', 'Yes', 'Sat', 'Dinner', 2), (25.21, 4.29, 'Male', 'Yes', 'Sat', 'Dinner', 2), (18.24, 3.76, 'Male', 'No', 'Sat', 'Dinner', 2), (14.31, 4.0, 'Female', 'Yes', 'Sat', 'Dinner', 2), (14.0, 3.0, 'Male', 'No', 'Sat', 'Dinner', 2), (7.25, 1.0, 'Female', 'No', 'Sat', 'Dinner', 1), (38.07, 4.0, 'Male', 'No', 'Sun', 'Dinner', 3), (23.95, 2.55, 'Male', 'No', 'Sun', 'Dinner', 2), (25.71, 4.0, 'Female', 'No', 'Sun', 'Dinner', 3), (17.31, 3.5, 'Female', 'No', 'Sun', 'Dinner', 2), (29.93, 5.07, 'Male', 'No', 'Sun', 'Dinner', 4), (10.65, 1.5, 'Female', 'No', 'Thur', 'Lunch', 2), (12.43, 1.8, 'Female', 'No', 'Thur', 'Lunch', 2), (24.08, 2.92, 'Female', 'No', 'Thur', 'Lunch', 4), (11.69, 2.31, 'Male', 'No', 'Thur', 'Lunch', 2), (13.42, 1.68, 'Female', 'No', 'Thur', 'Lunch', 2), (14.26, 2.5, 'Male', 'No', 'Thur', 'Lunch', 2), (15.95, 2.0, 'Male', 'No', 'Thur', 'Lunch', 2), (12.48, 2.52, 'Female', 'No', 'Thur', 'Lunch', 2), (29.8, 4.2, 'Female', 'No', 'Thur', 'Lunch', 6), (8.52, 1.48, 'Male', 'No', 'Thur', 'Lunch', 2), (14.52, 2.0, 'Female', 'No', 'Thur', 'Lunch', 2), (11.38, 2.0, 'Female', 'No', 'Thur', 'Lunch', 2), (22.82, 2.18, 'Male', 'No', 'Thur', 'Lunch', 3), (19.08, 1.5, 'Male', 'No', 'Thur', 'Lunch', 2), (20.27, 2.83, 'Female', 'No', 'Thur', 'Lunch', 2), (11.17, 1.5, 'Female', 'No', 'Thur', 'Lunch', 2), (12.26, 2.0, 'Female', 'No', 'Thur', 'Lunch', 2), (18.26, 3.25, 'Female', 'No', 'Thur', 'Lunch', 2), (8.51, 1.25, 'Female', 'No', 'Thur', 'Lunch', 2), (10.33, 2.0, 'Female', 'No', 'Thur', 'Lunch', 2), (14.15, 2.0, 'Female', 'No', 'Thur', 'Lunch', 2), (16.0, 2.0, 'Male', 'Yes', 'Thur', 'Lunch', 2), (13.16, 2.75, 'Female', 'No', 'Thur', 'Lunch', 2), (17.47, 3.5, 'Female', 'No', 'Thur', 'Lunch', 2), (34.3, 6.7, 'Male', 'No', 'Thur', 'Lunch', 6), (41.19, 5.0, 'Male', 'No', 'Thur', 'Lunch', 5), (27.05, 5.0, 'Female', 'No', 'Thur', 'Lunch', 6), (16.43, 2.3, 'Female', 'No', 'Thur', 'Lunch', 2), (8.35, 1.5, 'Female', 'No', 'Thur', 'Lunch', 2), (18.64, 1.36, 'Female', 'No', 'Thur', 'Lunch', 3), (11.87, 1.63, 'Female', 'No', 'Thur', 'Lunch', 2), (9.78, 1.73, 'Male', 'No', 'Thur', 'Lunch', 2), (7.51, 2.0, 'Male', 'No', 'Thur', 'Lunch', 2), (14.07, 2.5, 'Male', 'No', 'Sun', 'Dinner', 2), (13.13, 2.0, 'Male', 'No', 'Sun', 'Dinner', 2), (17.26, 2.74, 'Male', 'No', 'Sun', 'Dinner', 3), (24.55, 2.0, 'Male', 'No', 'Sun', 'Dinner', 4), (19.77, 2.0, 'Male', 'No', 'Sun', 'Dinner', 4), (29.85, 5.14, 'Female', 'No', 'Sun', 'Dinner', 5), (48.17, 5.0, 'Male', 'No', 'Sun', 'Dinner', 6), (25.0, 3.75, 'Female', 'No', 'Sun', 'Dinner', 4), (13.39, 2.61, 'Female', 'No', 'Sun', 'Dinner', 2), (16.49, 2.0, 'Male', 'No', 'Sun', 'Dinner', 4), (21.5, 3.5, 'Male', 'No', 'Sun', 'Dinner', 4), (12.66, 2.5, 'Male', 'No', 'Sun', 'Dinner', 2), (16.21, 2.0, 'Female', 'No', 'Sun', 'Dinner', 3), (13.81, 2.0, 'Male', 'No', 'Sun', 'Dinner', 2), (17.51, 3.0, 'Female', 'Yes', 'Sun', 'Dinner', 2), (24.52, 3.48, 'Male', 'No', 'Sun', 'Dinner', 3), (20.76, 2.24, 'Male', 'No', 'Sun', 'Dinner', 2), (31.71, 4.5, 'Male', 'No', 'Sun', 'Dinner', 4), (10.59, 1.61, 'Female', 'Yes', 'Sat', 'Dinner', 2), (10.63, 2.0, 'Female', 'Yes', 'Sat', 'Dinner', 2), (50.81, 10.0, 'Male', 'Yes', 'Sat', 'Dinner', 3), (15.81, 3.16, 'Male', 'Yes', 'Sat', 'Dinner', 2), (7.25, 5.15, 'Male', 'Yes', 'Sun', 'Dinner', 2), (31.85, 3.18, 'Male', 'Yes', 'Sun', 'Dinner', 2), (16.82, 4.0, 'Male', 'Yes', 'Sun', 'Dinner', 2), (32.9, 3.11, 'Male', 'Yes', 'Sun', 'Dinner', 2), (17.89, 2.0, 'Male', 'Yes', 'Sun', 'Dinner', 2), (14.48, 2.0, 'Male', 'Yes', 'Sun', 'Dinner', 2), (9.6, 4.0, 'Female', 'Yes', 'Sun', 'Dinner', 2), (34.63, 3.55, 'Male', 'Yes', 'Sun', 'Dinner', 2), (34.65, 3.68, 'Male', 'Yes', 'Sun', 'Dinner', 4), (23.33, 5.65, 'Male', 'Yes', 'Sun', 'Dinner', 2), (45.35, 3.5, 'Male', 'Yes', 'Sun', 'Dinner', 3), (23.17, 6.5, 'Male', 'Yes', 'Sun', 'Dinner', 4), (40.55, 3.0, 'Male', 'Yes', 'Sun', 'Dinner', 2), (20.69, 5.0, 'Male', 'No', 'Sun', 'Dinner', 5), (20.9, 3.5, 'Female', 'Yes', 'Sun', 'Dinner', 3), (30.46, 2.0, 'Male', 'Yes', 'Sun', 'Dinner', 5), (18.15, 3.5, 'Female', 'Yes', 'Sun', 'Dinner', 3), (23.1, 4.0, 'Male', 'Yes', 'Sun', 'Dinner', 3), (15.69, 1.5, 'Male', 'Yes', 'Sun', 'Dinner', 2), (19.81, 4.19, 'Female', 'Yes', 'Thur', 'Lunch', 2), (28.44, 2.56, 'Male', 'Yes', 'Thur', 'Lunch', 2), (15.48, 2.02, 'Male', 'Yes', 'Thur', 'Lunch', 2), (16.58, 4.0, 'Male', 'Yes', 'Thur', 'Lunch', 2), (7.56, 1.44, 'Male', 'No', 'Thur', 'Lunch', 2), (10.34, 2.0, 'Male', 'Yes', 'Thur', 'Lunch', 2), (43.11, 5.0, 'Female', 'Yes', 'Thur', 'Lunch', 4), (13.0, 2.0, 'Female', 'Yes', 'Thur', 'Lunch', 2), (13.51, 2.0, 'Male', 'Yes', 'Thur', 'Lunch', 2), (18.71, 4.0, 'Male', 'Yes', 'Thur', 'Lunch', 3), (12.74, 2.01, 'Female', 'Yes', 'Thur', 'Lunch', 2), (13.0, 2.0, 'Female', 'Yes', 'Thur', 'Lunch', 2), (16.4, 2.5, 'Female', 'Yes', 'Thur', 'Lunch', 2), (20.53, 4.0, 'Male', 'Yes', 'Thur', 'Lunch', 4), (16.47, 3.23, 'Female', 'Yes', 'Thur', 'Lunch', 3), (26.59, 3.41, 'Male', 'Yes', 'Sat', 'Dinner', 3), (38.73, 3.0, 'Male', 'Yes', 'Sat', 'Dinner', 4), (24.27, 2.03, 'Male', 'Yes', 'Sat', 'Dinner', 2), (12.76, 2.23, 'Female', 'Yes', 'Sat', 'Dinner', 2), (30.06, 2.0, 'Male', 'Yes', 'Sat', 'Dinner', 3), (25.89, 5.16, 'Male', 'Yes', 'Sat', 'Dinner', 4), (48.33, 9.0, 'Male', 'No', 'Sat', 'Dinner', 4), (13.27, 2.5, 'Female', 'Yes', 'Sat', 'Dinner', 2), (28.17, 6.5, 'Female', 'Yes', 'Sat', 'Dinner', 3), (12.9, 1.1, 'Female', 'Yes', 'Sat', 'Dinner', 2), (28.15, 3.0, 'Male', 'Yes', 'Sat', 'Dinner', 5), (11.59, 1.5, 'Male', 'Yes', 'Sat', 'Dinner', 2), (7.74, 1.44, 'Male', 'Yes', 'Sat', 'Dinner', 2), (30.14, 3.09, 'Female', 'Yes', 'Sat', 'Dinner', 4), (12.16, 2.2, 'Male', 'Yes', 'Fri', 'Lunch', 2), (13.42, 3.48, 'Female', 'Yes', 'Fri', 'Lunch', 2), (8.58, 1.92, 'Male', 'Yes', 'Fri', 'Lunch', 1), (15.98, 3.0, 'Female', 'No', 'Fri', 'Lunch', 3), (13.42, 1.58, 'Male', 'Yes', 'Fri', 'Lunch', 2), (16.27, 2.5, 'Female', 'Yes', 'Fri', 'Lunch', 2), (10.09, 2.0, 'Female', 'Yes', 'Fri', 'Lunch', 2), (20.45, 3.0, 'Male', 'No', 'Sat', 'Dinner', 4), (13.28, 2.72, 'Male', 'No', 'Sat', 'Dinner', 2), (22.12, 2.88, 'Female', 'Yes', 'Sat', 'Dinner', 2), (24.01, 2.0, 'Male', 'Yes', 'Sat', 'Dinner', 4), (15.69, 3.0, 'Male', 'Yes', 'Sat', 'Dinner', 3), (11.61, 3.39, 'Male', 'No', 'Sat', 'Dinner', 2), (10.77, 1.47, 'Male', 'No', 'Sat', 'Dinner', 2), (15.53, 3.0, 'Male', 'Yes', 'Sat', 'Dinner', 2), (10.07, 1.25, 'Male', 'No', 'Sat', 'Dinner', 2), (12.6, 1.0, 'Male', 'Yes', 'Sat', 'Dinner', 2), (32.83, 1.17, 'Male', 'Yes', 'Sat', 'Dinner', 2), (35.83, 4.67, 'Female', 'No', 'Sat', 'Dinner', 3), (29.03, 5.92, 'Male', 'No', 'Sat', 'Dinner', 3), (27.18, 2.0, 'Female', 'Yes', 'Sat', 'Dinner', 2), (22.67, 2.0, 'Male', 'Yes', 'Sat', 'Dinner', 2), (17.82, 1.75, 'Male', 'No', 'Sat', 'Dinner', 2), (18.78, 3.0, 'Female', 'No', 'Thur', 'Dinner', 2)]\n"
     ]
    }
   ],
   "source": [
    "cur.execute(''' SELECT * FROM TIPS''')\n",
    "print(cur.fetchall())"
   ]
  },
  {
   "cell_type": "markdown",
   "metadata": {},
   "source": [
    "### READ"
   ]
  },
  {
   "cell_type": "markdown",
   "metadata": {},
   "source": [
    "1. Retrieve the average tip percentage for each day of the week"
   ]
  },
  {
   "cell_type": "code",
   "execution_count": 7,
   "metadata": {},
   "outputs": [
    {
     "name": "stdout",
     "output_type": "stream",
     "text": [
      "[('Fri', 15.94451945501412), ('Sat', 14.642375168690961), ('Sun', 15.20379065365422), ('Thur', 15.67320058741438)]\n"
     ]
    }
   ],
   "source": [
    "cur.execute('''\n",
    "    SELECT DAY,SUM(tip)/SUM(total_bill)*100 AS avg_tip_percentage \n",
    "    FROM TIPS\n",
    "    GROUP BY DAY\n",
    "''')\n",
    "\n",
    "print(cur.fetchall())"
   ]
  },
  {
   "cell_type": "markdown",
   "metadata": {},
   "source": [
    "2.Find the maximum and minimum total bull amounts"
   ]
  },
  {
   "cell_type": "code",
   "execution_count": 8,
   "metadata": {},
   "outputs": [
    {
     "name": "stdout",
     "output_type": "stream",
     "text": [
      "[(50.81, 3.07)]\n"
     ]
    }
   ],
   "source": [
    "cur.execute('''\n",
    "SELECT MAX(total_bill) AS max_total_bill,MIN(total_bill) AS min_total_bill \n",
    "FROM TIPS\n",
    "''')\n",
    "\n",
    "print(cur.fetchall())"
   ]
  },
  {
   "cell_type": "markdown",
   "metadata": {},
   "source": [
    "3.Count the number of parties for each size"
   ]
  },
  {
   "cell_type": "code",
   "execution_count": 9,
   "metadata": {},
   "outputs": [
    {
     "name": "stdout",
     "output_type": "stream",
     "text": [
      "[(1, 4), (2, 156), (3, 38), (4, 37), (5, 5), (6, 4)]\n"
     ]
    }
   ],
   "source": [
    "cur.execute('''\n",
    "    SELECT size,COUNT(*) AS number \n",
    "    FROM TIPS\n",
    "    GROUP BY size\n",
    "''')\n",
    "\n",
    "print(cur.fetchall())"
   ]
  },
  {
   "cell_type": "markdown",
   "metadata": {},
   "source": [
    "4.Retrieve the total bill and tip for parties of size 4 or more, where the tip percentage is greater than 15%"
   ]
  },
  {
   "cell_type": "code",
   "execution_count": 10,
   "metadata": {},
   "outputs": [
    {
     "name": "stdout",
     "output_type": "stream",
     "text": [
      "[(25.29, 4.71), (18.43, 3.0), (39.42, 7.58), (30.4, 5.6), (32.4, 6.0), (25.56, 4.34), (18.29, 3.76), (29.93, 5.07), (34.3, 6.7), (27.05, 5.0), (29.85, 5.14), (21.5, 3.5), (23.17, 6.5), (20.69, 5.0), (20.53, 4.0), (25.89, 5.16), (48.33, 9.0)]\n"
     ]
    }
   ],
   "source": [
    "cur.execute('''\n",
    "    SELECT total_bill,tip \n",
    "    FROM TIPS\n",
    "    WHERE size>=4 AND tip/total_bill>0.15\n",
    "''')\n",
    "\n",
    "print(cur.fetchall())"
   ]
  },
  {
   "cell_type": "markdown",
   "metadata": {},
   "source": [
    "5.Retrieve the total bill, tip amount, and tip percentage for each combination of day and time, sorted by tip percentage in descending order"
   ]
  },
  {
   "cell_type": "code",
   "execution_count": 11,
   "metadata": {},
   "outputs": [
    {
     "name": "stdout",
     "output_type": "stream",
     "text": [
      "[('Fri', 'Lunch', 89.92, 16.68, 18.54982206405694), ('Thur', 'Dinner', 18.78, 3.0, 15.974440894568689), ('Thur', 'Lunch', 1077.5499999999997, 168.83, 15.667950443134895), ('Sun', 'Dinner', 1627.1600000000003, 247.39000000000007, 15.20379065365422), ('Fri', 'Dinner', 235.95999999999998, 35.28, 14.951686726563826), ('Sat', 'Dinner', 1778.3999999999996, 260.4, 14.642375168690961)]\n"
     ]
    }
   ],
   "source": [
    "cur.execute('''\n",
    "    SELECT day,time,SUM(total_bill) AS sum_total_bill,SUM(tip) AS tip_amount,SUM(tip)/SUM(total_bill)*100 AS tip_percentage\n",
    "    FROM TIPS\n",
    "    GROUP BY day,time\n",
    "    ORDER BY tip_percentage DESC\n",
    "''')\n",
    "\n",
    "print(cur.fetchall())"
   ]
  },
  {
   "cell_type": "markdown",
   "metadata": {},
   "source": [
    "6.Find the average tip percentage for each combination of day, time, and smoker status"
   ]
  },
  {
   "cell_type": "code",
   "execution_count": 12,
   "metadata": {},
   "outputs": [
    {
     "name": "stdout",
     "output_type": "stream",
     "text": [
      "[('Fri', 'Dinner', 'No', 14.298093587521665), ('Fri', 'Dinner', 'Yes', 15.16324469875463), ('Fri', 'Lunch', 'No', 18.773466833541928), ('Fri', 'Lunch', 'Yes', 18.50148769272383), ('Sat', 'Dinner', 'No', 15.781324170980351), ('Sat', 'Dinner', 'Yes', 13.514693046261279), ('Sun', 'Dinner', 'No', 15.448121278488811), ('Sun', 'Dinner', 'Yes', 14.580605743213754), ('Thur', 'Dinner', 'No', 15.974440894568689), ('Thur', 'Lunch', 'No', 15.615391782353496), ('Thur', 'Lunch', 'Yes', 15.788989700833739)]\n"
     ]
    }
   ],
   "source": [
    "cur.execute('''\n",
    "    SELECT day,time,smoker,SUM(tip)/SUM(total_bill)*100 AS tip_percentage\n",
    "    FROM TIPS\n",
    "    GROUP BY day,time,smoker\n",
    "''')\n",
    "\n",
    "print(cur.fetchall())"
   ]
  },
  {
   "cell_type": "markdown",
   "metadata": {},
   "source": [
    "7.Retrieve the total bill, tip amount, and tip percentage for each sex, sorted by total bill in descending order, and limit the results to the top 5 records"
   ]
  },
  {
   "cell_type": "code",
   "execution_count": 17,
   "metadata": {},
   "outputs": [
    {
     "name": "stdout",
     "output_type": "stream",
     "text": [
      "      sex  SUM(total_bill)  SUM(tip)  tip_percentage\n",
      "0  Female          1570.95    246.51       15.691779\n",
      "1    Male          3256.82    485.07       14.893976\n"
     ]
    }
   ],
   "source": [
    "query7 = '''SELECT sex, SUM(total_bill), SUM(tip), (SUM(tip) / SUM(total_bill)) * 100 AS tip_percentage \n",
    "    FROM TIPS\n",
    "    GROUP BY sex\n",
    "    ORDER BY total_bill DESC \n",
    "    LIMIT 5;'''\n",
    "df7 = pd.read_sql_query(query7, con)\n",
    "print(df7)"
   ]
  },
  {
   "cell_type": "markdown",
   "metadata": {},
   "source": [
    "8.Find the maximum and minimum tip percentage for each day and time combination, along with the corresponding total bill and tip amount"
   ]
  },
  {
   "cell_type": "code",
   "execution_count": 33,
   "metadata": {},
   "outputs": [
    {
     "name": "stdout",
     "output_type": "stream",
     "text": [
      "   sum_tips  sum_total_bill  percentage\n",
      "0     16.68           89.92   18.549822\n",
      "1    260.40         1778.40   14.642375\n"
     ]
    }
   ],
   "source": [
    "query8 = '''\n",
    "SELECT *\n",
    "FROM(\n",
    "SELECT SUM(tip) as sum_tips, SUM(total_bill) as sum_total_bill, SUM(tip)/SUM(total_bill)*100 AS percentage\n",
    "FROM TIPS\n",
    "GROUP BY day,time)\n",
    "WHERE percentage >= (\n",
    "SELECT MAX(percentage)\n",
    "FROM(\n",
    "SELECT SUM(tip) as sum_tips, SUM(total_bill) as sum_total_bill, SUM(tip)/SUM(total_bill)*100 AS percentage\n",
    "FROM TIPS\n",
    "GROUP BY day,time) ) \n",
    "OR percentage <= (\n",
    "SELECT MIN(percentage)\n",
    "FROM(\n",
    "SELECT SUM(tip) as sum_tips, SUM(total_bill) as sum_total_bill, SUM(tip)/SUM(total_bill)*100 AS percentage\n",
    "FROM TIPS\n",
    "GROUP BY day,time))'''\n",
    "df8 = pd.read_sql_query(query8, con)\n",
    "print(df8)"
   ]
  },
  {
   "cell_type": "markdown",
   "metadata": {},
   "source": [
    "9. Retrieve the total bill, tip amount, and tip percentage for parties of size 4 or more, where the tip percentage is greater than 15%, and the total bill is between $50 and $100"
   ]
  },
  {
   "cell_type": "code",
   "execution_count": 37,
   "metadata": {},
   "outputs": [
    {
     "name": "stdout",
     "output_type": "stream",
     "text": [
      "Empty DataFrame\n",
      "Columns: [total_bill, total_tip, tip_percentage]\n",
      "Index: []\n"
     ]
    }
   ],
   "source": [
    "query9 = '''\n",
    "SELECT SUM(total_bill) AS total_bill, \n",
    "       SUM(tip) AS total_tip, \n",
    "       (SUM(tip) / SUM(total_bill)) * 100 AS tip_percentage\n",
    "FROM TIPS\n",
    "WHERE size >= 4\n",
    "GROUP BY size\n",
    "HAVING tip_percentage > 15 \n",
    "   AND SUM(total_bill) BETWEEN 50 AND 100;\n",
    "'''\n",
    "\n",
    "df9 = pd.read_sql_query(query9, con)\n",
    "print(df9)\n"
   ]
  },
  {
   "cell_type": "markdown",
   "metadata": {},
   "source": [
    "10. Find the average tip percentage for each combination of day, time, and smoker status, but only include combinations with more than 5 records"
   ]
  },
  {
   "cell_type": "code",
   "execution_count": 44,
   "metadata": {},
   "outputs": [
    {
     "name": "stdout",
     "output_type": "stream",
     "text": [
      "    day    time smoker  avg_tip_percentage\n",
      "0   Fri  Dinner    Yes           16.534736\n",
      "1   Fri   Lunch    Yes           18.893659\n",
      "2   Sat  Dinner     No           15.804766\n",
      "3   Sat  Dinner    Yes           14.790607\n",
      "4   Sun  Dinner     No           16.011294\n",
      "5   Sun  Dinner    Yes           18.725032\n",
      "6  Thur   Lunch     No           16.031067\n",
      "7  Thur   Lunch    Yes           16.386327\n"
     ]
    }
   ],
   "source": [
    "query10 = '''\n",
    "SELECT day, time, smoker, AVG(tip / total_bill * 100) AS avg_tip_percentage \n",
    "FROM TIPS \n",
    "GROUP BY day, time, smoker\n",
    "HAVING COUNT(*) > 5;\n",
    "'''\n",
    "\n",
    "df10 = pd.read_sql_query(query10, con)\n",
    "print(df10)"
   ]
  },
  {
   "cell_type": "markdown",
   "metadata": {},
   "source": [
    "1st addtional Querry:\n",
    "Retrieve the tips from descending order"
   ]
  },
  {
   "cell_type": "code",
   "execution_count": 45,
   "metadata": {},
   "outputs": [
    {
     "name": "stdout",
     "output_type": "stream",
     "text": [
      "    day    time smoker  avg_tip_percentage\n",
      "0   Fri  Dinner    Yes           16.534736\n",
      "1   Fri   Lunch    Yes           18.893659\n",
      "2   Sat  Dinner     No           15.804766\n",
      "3   Sat  Dinner    Yes           14.790607\n",
      "4   Sun  Dinner     No           16.011294\n",
      "5   Sun  Dinner    Yes           18.725032\n",
      "6  Thur   Lunch     No           16.031067\n",
      "7  Thur   Lunch    Yes           16.386327\n"
     ]
    }
   ],
   "source": [
    "query11 = '''\n",
    "SELECT total_bill, tip\n",
    "FROM TIPS\n",
    "ORDER BY tip DESC\n",
    "'''\n",
    "\n",
    "df11 = pd.read_sql_query(query10, con)\n",
    "print(df11)"
   ]
  },
  {
   "cell_type": "markdown",
   "metadata": {},
   "source": [
    "2nd addtional Querry: Find the total number of smokers and non-smokers"
   ]
  },
  {
   "cell_type": "code",
   "execution_count": 46,
   "metadata": {},
   "outputs": [
    {
     "name": "stdout",
     "output_type": "stream",
     "text": [
      "  smoker  total\n",
      "0     No    151\n",
      "1    Yes     93\n"
     ]
    }
   ],
   "source": [
    "query12 = '''\n",
    "SELECT smoker, COUNT(*) AS total \n",
    "FROM TIPS \n",
    "GROUP BY smoker;\n",
    "'''\n",
    "\n",
    "df12 = pd.read_sql_query(query12, con)\n",
    "print(df12)"
   ]
  },
  {
   "cell_type": "markdown",
   "metadata": {},
   "source": [
    "3rd additional querry: Retrieve the total_bill for parties of size greater than 2"
   ]
  },
  {
   "cell_type": "code",
   "execution_count": 50,
   "metadata": {},
   "outputs": [
    {
     "name": "stdout",
     "output_type": "stream",
     "text": [
      "     total_bill  size\n",
      "0         16.99     2\n",
      "1         10.34     3\n",
      "2         21.01     3\n",
      "3         23.68     2\n",
      "4         24.59     4\n",
      "..          ...   ...\n",
      "235       29.03     3\n",
      "236       27.18     2\n",
      "237       22.67     2\n",
      "238       17.82     2\n",
      "239       18.78     2\n",
      "\n",
      "[240 rows x 2 columns]\n"
     ]
    }
   ],
   "source": [
    "query13 = '''\n",
    "SELECT total_bill, size\n",
    "FROM TIPS \n",
    "WHERE size >= 2;\n",
    "'''\n",
    "\n",
    "df13 = pd.read_sql_query(query13, con)\n",
    "print(df13)"
   ]
  },
  {
   "cell_type": "markdown",
   "metadata": {},
   "source": [
    "4th additional querry: Count the number of meals served during lunch and dinner"
   ]
  },
  {
   "cell_type": "code",
   "execution_count": 51,
   "metadata": {},
   "outputs": [
    {
     "name": "stdout",
     "output_type": "stream",
     "text": [
      "     time  meals_served\n",
      "0  Dinner           176\n",
      "1   Lunch            68\n"
     ]
    }
   ],
   "source": [
    "query14 = '''\n",
    "SELECT time, COUNT(*) AS meals_served \n",
    "FROM TIPS \n",
    "GROUP BY time;\n",
    "'''\n",
    "\n",
    "df14 = pd.read_sql_query(query14, con)\n",
    "print(df14)"
   ]
  },
  {
   "cell_type": "markdown",
   "metadata": {},
   "source": [
    "5th additional query: Retrieve total bills for male and female customers on each day"
   ]
  },
  {
   "cell_type": "code",
   "execution_count": 53,
   "metadata": {},
   "outputs": [
    {
     "name": "stdout",
     "output_type": "stream",
     "text": [
      "    day     sex  total_bill\n",
      "0   Fri  Female      127.31\n",
      "1   Fri    Male      198.57\n",
      "2   Sat  Female      551.05\n",
      "3   Sat    Male     1227.35\n",
      "4   Sun  Female      357.70\n",
      "5   Sun    Male     1269.46\n",
      "6  Thur  Female      534.89\n",
      "7  Thur    Male      561.44\n"
     ]
    }
   ],
   "source": [
    "query15 = '''\n",
    "SELECT day, sex, SUM(total_bill) AS total_bill \n",
    "FROM TIPS \n",
    "GROUP BY day, sex;\n",
    "'''\n",
    "\n",
    "df15 = pd.read_sql_query(query15, con)\n",
    "print(df15)"
   ]
  }
 ],
 "metadata": {
  "kernelspec": {
   "display_name": "ta2",
   "language": "python",
   "name": "python3"
  },
  "language_info": {
   "codemirror_mode": {
    "name": "ipython",
    "version": 3
   },
   "file_extension": ".py",
   "mimetype": "text/x-python",
   "name": "python",
   "nbconvert_exporter": "python",
   "pygments_lexer": "ipython3",
   "version": "3.11.9"
  }
 },
 "nbformat": 4,
 "nbformat_minor": 2
}
