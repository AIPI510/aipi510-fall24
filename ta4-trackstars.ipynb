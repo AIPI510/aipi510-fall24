{
 "cells": [
  {
   "cell_type": "markdown",
   "id": "13e19e94-c704-4fe1-a15c-5f1dcc0e69e8",
   "metadata": {},
   "source": [
    "# Team Assignment #4 - Data Exploration\n",
    "\n",
    "Analysis completed by **Team Trackstars (Stuart Bladon and Jason Mooberry).**"
   ]
  },
  {
   "cell_type": "markdown",
   "id": "891313f6-85fd-49d8-8042-87dae1007317",
   "metadata": {},
   "source": [
    "# Assignment Instructions (Remove before submission) \n",
    "\n",
    "### In your Jupyter notebook report, complete the following:\n",
    "* Document data context and data sampling in markdown\n",
    "* Explore and interpret data structure, descriptive statistics, data quality, and variable relationships\n",
    "* Explore data visually with appropriate visualizations\n",
    "* Discuss and implement strategies for Handling Missing Values, Removing Duplicates, and Handling Outliers\n",
    "* Perform data transformation as appropriate\n",
    "* Create at least one new feature and document your approach\n",
    "* Perform a dimensionality reduction method on the data and discuss \n",
    "* Include a discussion around data quality assessment, including data profiling, data completeness, data accuracy, data consistency, data integrity, and data lineage and provenance\n",
    "\n",
    "## Submission\n",
    "To submit your code, make a PR into the data-eda-ta4 branch and add me and the TA as reviewers. Make sure the name of your notebook follows best practices and includes your team name.\n",
    "## Rubric\n",
    "\n",
    "### Report (35 points)\n",
    "* Report includes a title, authors, dates, and relevant information for running it at the top \n",
    "* Report includes a reference to the original dataset\n",
    "* Data context and sampling is documented in markdown\n",
    "* Code and documented interpretation of data structure\n",
    "* Code and documented interpretation of descriptive statistics\n",
    "* Code and documented interpretation of data quality\n",
    "* Code and documented interpretation of variable relationships\n",
    "* Visualizations used are complete and appropriate and interpretation(s) are documented in the notebook\n",
    "* Visualizations follow best practices (titles, axes labels, etc)\n",
    "* Strategies for handling missing values, outliers, and removing duplicates are implemented and/or discussed\n",
    "* Appropriate data transformation is performed\n",
    "* One new feature is engineered and documented\n",
    "* A dimensionality reduction method is performed and interpreted\n",
    "* A discussion on data quality assessment is included and incorporates the following components: data profiling, data completeness, data accuracy, data consistency, data integrity, and data lineage and provenance\n",
    "\n",
    "### Code (10 points)\n",
    "* Code is in a clearly named notebook\n",
    "* Code is clean and well organized\n",
    "* Code is documented with docstrings and comments \n",
    "* Branching and PRs were done appropriately\n",
    "* Requirements are included in the text of the PR and are correct and versioned\n",
    "* The code runs as documented\n"
   ]
  },
  {
   "cell_type": "code",
   "execution_count": 650,
   "id": "7bd5b6ee-db30-461b-9e46-3c0af40d969b",
   "metadata": {},
   "outputs": [],
   "source": [
    "import pandas as pd \n",
    "import matplotlib as mpl \n",
    "import seaborn as sns"
   ]
  },
  {
   "cell_type": "markdown",
   "id": "6f241cf9-ba3c-4698-be01-6dfa1577785a",
   "metadata": {},
   "source": [
    "# Load Dataset\n",
    "\n",
    "Clone the [Welltory heart rate variability (HRV) COVID-19 data](https://github.com/Welltory/hrv-covid19/tree/master) into a local repository, iterate over the files and load them into respective dataframes. "
   ]
  },
  {
   "cell_type": "code",
   "execution_count": 651,
   "id": "7e6eba4c-5f30-4cf3-a42e-5a6fdc95d9de",
   "metadata": {},
   "outputs": [],
   "source": [
    "import os"
   ]
  },
  {
   "cell_type": "code",
   "execution_count": 652,
   "id": "d036a83c-f191-4ca9-bae6-f8992634f468",
   "metadata": {},
   "outputs": [
    {
     "name": "stdout",
     "output_type": "stream",
     "text": [
      "fatal: destination path 'hrv-covid19' already exists and is not an empty directory.\n"
     ]
    }
   ],
   "source": [
    "!git clone https://github.com/Welltory/hrv-covid19.git"
   ]
  },
  {
   "cell_type": "code",
   "execution_count": 653,
   "id": "400ff5ae-4a55-404f-8db6-3e602390389b",
   "metadata": {},
   "outputs": [
    {
     "name": "stdout",
     "output_type": "stream",
     "text": [
      "CONSENT      LICENSE      README.md    \u001b[34mdata\u001b[m\u001b[m         datatypes.md\n"
     ]
    }
   ],
   "source": [
    "!ls hrv-covid19/"
   ]
  },
  {
   "cell_type": "code",
   "execution_count": 654,
   "id": "ed745da9-a708-4f21-90a8-6c99e81929bb",
   "metadata": {},
   "outputs": [
    {
     "name": "stdout",
     "output_type": "stream",
     "text": [
      "blood_pressure.csv     participants.csv       surveys.csv\n",
      "heart_rate.csv         scales_description.csv wearables.csv\n",
      "hrv_measurements.csv   sleep.csv              weather.csv\n"
     ]
    }
   ],
   "source": [
    "!ls hrv-covid19/data"
   ]
  },
  {
   "cell_type": "code",
   "execution_count": 655,
   "id": "72674d51-6f3d-4bf1-92b0-041c1e6d2a95",
   "metadata": {},
   "outputs": [],
   "source": [
    "hrv_data_dir = \"hrv-covid19/data\" \n",
    "\n",
    "dataset = []\n",
    "files = os.listdir(path=hrv_data_dir)\n",
    "for file in files: \n",
    "    dataset.append({ \"name\": file.split('.')[0],  \"file\": file, \"path\": hrv_data_dir + '/' + file })"
   ]
  },
  {
   "cell_type": "code",
   "execution_count": 659,
   "id": "fccb5532-dd65-48cb-9124-a33f71f86186",
   "metadata": {},
   "outputs": [
    {
     "name": "stdout",
     "output_type": "stream",
     "text": [
      "Loading scales_description (scales_description.csv) into [scales_description] dataframe \n",
      "Loading participants (participants.csv) into [participants] dataframe \n",
      "Loading wearables (wearables.csv) into [wearables] dataframe \n",
      "Loading blood_pressure (blood_pressure.csv) into [blood_pressure] dataframe \n",
      "Loading surveys (surveys.csv) into [surveys] dataframe \n",
      "Loading heart_rate (heart_rate.csv) into [heart_rate] dataframe \n",
      "Loading weather (weather.csv) into [weather] dataframe \n",
      "Loading hrv_measurements (hrv_measurements.csv) into [hrv_measurements] dataframe \n",
      "Loading sleep (sleep.csv) into [sleep] dataframe \n"
     ]
    }
   ],
   "source": [
    "dfs = {}\n",
    "for d in dataset: \n",
    "\n",
    "    # Avoid hidden files that might be lurking... \n",
    "    if not d['file'][0] == '.': \n",
    "        print(f\"Loading {d['name']} ({d['file']}) into [{d['name']}] dataframe \") \n",
    "        dfs[d['name']] = pd.read_csv(d['path'])"
   ]
  },
  {
   "cell_type": "markdown",
   "id": "cbe83a6f-5578-410b-b6b3-c2dda1a78969",
   "metadata": {},
   "source": [
    "❗️**Insights**: \n",
    "\n",
    "- The included `datatypes.md` file is probably going to contain some helpful information, don't forget to inspect it"
   ]
  },
  {
   "cell_type": "markdown",
   "id": "f4d49b89-7656-4225-8b66-cc9d852d884b",
   "metadata": {},
   "source": [
    "# Dataset Structure and Semantics\n",
    "\n",
    "Here we should: \n",
    "* Document data context and data sampling in markdown\n",
    "* Explore and interpret data structure, descriptive statistics, data quality, and variable relationships\n",
    "* Explore data visually with appropriate visualizations"
   ]
  },
  {
   "cell_type": "code",
   "execution_count": 660,
   "id": "576c566c-5f7e-4839-aef8-d5b5a394788e",
   "metadata": {},
   "outputs": [],
   "source": [
    "from IPython.display import display, HTML\n",
    "\n",
    "def comment(message, color='lightblue'): \n",
    "    \"\"\"\n",
    "    Utility function to ensure a message stands out. \n",
    "    \"\"\"\n",
    "    # HTML rendering with help from https://stackoverflow.com/questions/68347513/jupyter-and-python-passing-css-colors-to-a-div-tag-from-a-dictionary\n",
    "    display(HTML(f\"<div style='background-color:{color}'>\" + message + \"</div>\"))"
   ]
  },
  {
   "cell_type": "markdown",
   "id": "354b3acc-cde6-42a1-a91e-82727e91eaf0",
   "metadata": {},
   "source": [
    "## Overall Structure and Composition\n",
    "\n",
    "See what the included datatypes file has to say about the dataset... "
   ]
  },
  {
   "cell_type": "code",
   "execution_count": 661,
   "id": "2514c5df-19ac-4aad-9294-6ab20a8b9a26",
   "metadata": {
    "scrolled": true
   },
   "outputs": [
    {
     "name": "stdout",
     "output_type": "stream",
     "text": [
      "**Technical description of provided csv files**\n",
      "\n",
      "**data/participants.csv**\n",
      "\n",
      "Contains general information about users (participants)\n",
      "\n",
      "|     |            |                            |           |\n",
      "|-----|------------|----------------------------|-----------|\n",
      "|     | **Column** | **Description**            | **Units** |\n",
      "| 0   | user\\_code | Unique user ID             |           |\n",
      "| 1   | gender     | Gender: m/f/other or empty |           |\n",
      "| 2   | age\\_range | Age range                  |           |\n",
      "| 3   | city       | City                       |           |\n",
      "| 4   | country    | Country                    |           |\n",
      "| 5   | height     | Height                     | cm        |\n",
      "| 6   | weight     | Weight                     | kg        |\n",
      "| 7   | symptoms_onset | The onset date of the symptoms of the disease. The format is MM/DD/YYYY. |    |\n",
      "\n",
      "**data/hrv_measurements.csv**\n",
      "\n",
      "Contains data based on heart rate variability (HRV) measurements collected from COVID-19 participants via the Welltory app\n",
      "\n",
      "|     |               |                                                                                         |                  |\n",
      "|-----|---------------|-----------------------------------------------------------------------------------------|------------------|\n",
      "|     | **Column**    | **Description**                                                                         | **Units**        |\n",
      "| 0   | user\\_code    | Unique user ID                                                                          |                  |\n",
      "| 1   | rr\\_code      | Unique measurement ID                                                                   |                  |\n",
      "| 2   | measurement\\_datetime  | Measurement datetime in YYYY-MM-DD hh:mm:ss format                             |                  |\n",
      "| 3   | time\\_of\\_day | Time of day: 'evening', 'morning', 'night' or 'day'                                     |                  |\n",
      "| 4   | bpm           | Heart rate during measurement                                                           | beats per minute |\n",
      "| 5   | meanrr        | Mean RR — average time between each heartbeat.                                          | milliseconds     |\n",
      "| 6   | mxdmn         | MxDMn — the difference between highest and lowest cardio interval values.               | seconds          |\n",
      "| 7   | sdnn          | SDNN — standard deviation of normal heartbeat intervals.                                | milliseconds     |\n",
      "| 8   | rmssd         | rMSSD — root mean square of successive differences for consecutive intervals.           | milliseconds     |\n",
      "| 9   | pnn50         | PNN50 — percent of RR-intervals that fall outside a 50 ms range of the average.         | %                |\n",
      "| 10  | mode          | Moda — the most common cardio interval length in a measurement.                         | milliseconds     |\n",
      "| 11  | amo           | AMo50 — mode amplitude.                                                                 | %/50milliseconds |\n",
      "| 12  | lf            | LF — the power of low frequency waves.                                                  | milliseconds²    |\n",
      "| 13  | hf            | HF — the power of high frequency waves.                                                 | milliseconds²    |\n",
      "| 14  | vlf           | VLF — power of very low frequency waves.                                                | milliseconds²    |\n",
      "| 15  | lfhf          | LF/HF — ratio of low to high frequency waves.                                           |                  |\n",
      "| 16  | total\\_power  | Total Power — the total power of HF, LF, and VLF waves generated by the heart.          | milliseconds²    |\n",
      "| 17  | how\\_feel     | Health score — answers to \"How do you feel physically?\" in the post-measurement survey. |                  |\n",
      "| 18  | how\\_mood     | Mood score — answers to \"How is your mood?\" in the post-measurement survey.             |                  |\n",
      "| 19  | how\\_sleep    | Sleep score —answers to \"How did you sleep?\" in the post-measurement survey.            |                  |\n",
      "| 20  | rr\\_data      | Intervals in milliseconds between consecutive heart beats as a comma-separated string   |                  |\n",
      "| 21  | tags          | Tags assigned by user as a comma-separated string                                       |\n",
      "\n",
      "**data/blood_pressure.csv**\n",
      "\n",
      "Contains blood pressure data and derivatives. Fields functional\\_changes\\_index, circulatory\\_efficiency, kerdo\\_vegetation\\_index, robinson\\_index are calculated when heart rate data is available during measurement\n",
      "\n",
      "|     |                            |                                                                                                                                                       |                        |\n",
      "|-----|----------------------------|-------------------------------------------------------------------------------------------------------------------------------------------------------|------------------------|\n",
      "|     | **Column**                 | **Description**                                                                                                                                       | **Units**              |\n",
      "| 0   | user\\_code                 | Unique user ID                                                                                                                                        |                        |\n",
      "| 1   | measurement_datetime       | Measurement  datetime in YYYY-MM-DD hh:mm:ss format                                                                                                   |                        |\n",
      "| 2   | diastolic                  | Diastolic blood pressure                                                                                                                              | millimeters of mercury |\n",
      "| 3   | systolic                   | Systolic blood pressure                                                                                                                               | millimeters of mercury |\n",
      "| 4   | functional\\_changes\\_index | FCI blood index — functional changes index. An assessment of how well the body can adapt to stressors. Takes height, weight, and gender into account. |                        |\n",
      "| 5   | circulatory\\_efficiency    | BCE blood index — blood circulation efficiency. Shows the body's readiness to cope with pressure based on blood pressure readings.                    |                        |\n",
      "| 6   | kerdo\\_vegetation\\_index   | Kerdo index — balance between stress and recovery based on blood pressure.                                                                            |                        |\n",
      "| 7   | robinson\\_index            | Robinson’s index — the capacity of the cardiovascular system based on systolic blood pressure.                                                        |\n",
      "\n",
      "**data/heart_rate.csv**\n",
      "\n",
      "Contains raw heart rate intervals\n",
      "\n",
      "|     |                      |                                                                               |           |\n",
      "|-----|----------------------|-------------------------------------------------------------------------------|-----------|\n",
      "|     | **Column**           | **Description**                                                               | **Units** |\n",
      "| 0   | user\\_code           | Unique user ID                                                                |           |\n",
      "| 1   | daytime              | Measurement datetime in YYYY-MM-DD hh:mm:ss format                            |           |\n",
      "| 2   | heart\\_rate          | Heart rate                                                                    | beats per minute |\n",
      "| 3   | is\\_resting          | Was heart rate measured during times of rest                                  |\n",
      "\n",
      "**data/wearables.csv**\n",
      "\n",
      "Contains data collected from supported gadgets and aggregated by day\n",
      "\n",
      "|     |                                     |                                                                                                                                  |                  |\n",
      "|-----|-------------------------------------|----------------------------------------------------------------------------------------------------------------------------------|------------------|\n",
      "|     | **Column**                          | **Description**                                                                                                                  | **Units**        |\n",
      "| 0   | user\\_code                          | Unique user ID                                                                                                                   |                  |\n",
      "| 1   | day                                 | Measurement date in YYYY-MM-DD format                                                                                            |                  |\n",
      "| 2   | resting\\_pulse                      | Resting heart rate                                                                                                               | beats per minute |\n",
      "| 3   | pulse\\_average                      | Heart rate                                                                                                                       | beats per minute |\n",
      "| 4   | pulse\\_min                          | Min heart rate                                                                                                                   | beats per minute |\n",
      "| 5   | pulse\\_max                          | Max heart rate                                                                                                                   | beats per minute |\n",
      "| 6   | average\\_spo2\\_value                | Oxygen saturation                                                                                                                | %                |\n",
      "| 7   | body\\_temperature\\_avg              | Body temperature                                                                                                                 | °C               |\n",
      "| 8   | stand\\_hours\\_total                 | Hours spend standing                                                                                                             | hours            |\n",
      "| 9   | steps\\_count                        | Steps                                                                                                                            | steps            |\n",
      "| 10  | distance                            | Walking & running distance                                                                                                       | meters           |\n",
      "| 11  | steps\\_speed                        | Steps cadence — number of steps per minute.                                                                                      | steps per minute |\n",
      "| 12  | total\\_number\\_of\\_flights\\_climbed | Flights climbed                                                                                                                  | flights          |\n",
      "| 13  | active\\_calories\\_burned            | Active kcal — how many calories you burned as a result of activity.                                                              | kilocalories     |\n",
      "| 14  | basal\\_calories\\_burned             | Resting kcal — how many calories you burned at rest just by keeping your body's systems running: digesting food, breathing, etc. | kilocalories     |\n",
      "| 15  | total\\_calories\\_burned             | Calories burned                                                                                                                  | kilocalories     |\n",
      "| 16  | average\\_headphone\\_exposure        | Average headphone audio levels                                                                                                   | decibel          |\n",
      "| 17  | average\\_environment\\_exposure      | Average environmental sound levels                                                                                               | decibel          |\n",
      "\n",
      "**data/sleep.csv**\n",
      "\n",
      "Contains data about user sleep collected from supported gadgets and aggregated by day\n",
      "\n",
      "|     |                        |                                                               |                  |\n",
      "|-----|------------------------|---------------------------------------------------------------|------------------|\n",
      "|     | **Column**             | **Description**                                               | **Units**        |\n",
      "| 0   | user\\_code             | Unique user ID                                                |                  |\n",
      "| 1   | day                    | Measurement date in YYYY-MM-DD format                         |                  |\n",
      "| 2   | sleep\\_begin           | Sleep start date and time in YYYY-MM-DD hh:mm:ss format       |                  |\n",
      "| 3   | sleep\\_end             | Sleep end date and time in YYYY-MM-DD hh:mm:ss format         |                  |\n",
      "| 4   | sleep\\_duration        | Time asleep                                                   | hours            |\n",
      "| 5   | sleep\\_awake\\_duration | Time awake — amount of time you spent in bed, but not asleep. | hours            |\n",
      "| 6   | sleep\\_rem\\_duration   | REM sleep — rapid eye movement sleep                          | hours            |\n",
      "| 7   | sleep\\_light\\_duration | Light sleep                                                   | hours            |\n",
      "| 8   | sleep\\_deep\\_duration  | Deep sleep                                                    | hours            |\n",
      "| 9   | pulse\\_min             | Min heart rate                                                | beats per minute |\n",
      "| 10  | pulse\\_max             | Max heart rate                                                | beats per minute |\n",
      "| 11  | pulse\\_average         | Heart rate                                                    | beats per minute |\n",
      "\n",
      "**data/weather.csv**\n",
      "\n",
      "Contains data about weather conditions for user's location aggregated by day\n",
      "\n",
      "|    | Column               | Description                              | Units                  |\n",
      "|----|----------------------|------------------------------------------|------------------------|\n",
      "|  0 | user_code            | Unique user ID                           |                        |\n",
      "|  1 | day                  | Measurement date in YYYY-MM-DD format    |                        |\n",
      "|  2 | avg_temperature_C    | Outdoor air temperature                  | °C                     |\n",
      "|  3 | atmospheric_pressure | Atmospheric pressure                     | millimeters of mercury |\n",
      "|  4 | precip_intensity     | Precipitation                            | millimeters per hour   |\n",
      "|  5 | humidity             | Outdoor humidity                         | %                      |\n",
      "|  6 | clouds               | Cloudiness                               | %                      |\n",
      "\n",
      "\n",
      "**data/surveys.csv**\n",
      "\n",
      "Contains results of health-related surveys that users take in Welltory app\n",
      "\n",
      "|    | Column     | Description                                         | Units   |\n",
      "|----|------------|-----------------------------------------------------|---------|\n",
      "|  0 | user_code  | Unique user ID                                      |         |\n",
      "|  1 | scale      | Survey code (see section 'Survey scale description' for details)|         |\n",
      "|  2 | created_at | Date when user took the survey in YYYY-MM-DD format |         |\n",
      "|  3 | value      | User's result                                       |         |\n",
      "|  4 | text       | Text interpretation of user's result                |         |\n",
      "\n",
      "**Survey scale description**\n",
      "\n",
      "| Scale             | Description                                                                                                                                                             |   Value | Meaning                                                    |\n",
      "|:------------------|:------------------------------------------------------------------------------------------------------------------------------------------------------------------------|--------:|:-----------------------------------------------------------|\n",
      "| S_COVID_SYMPTOMS  | How long the user has been experiencing symptoms                                                                                                                        |       1 | Less than 3 days                                           |\n",
      "| S_COVID_SYMPTOMS  | How long the user has been experiencing symptoms                                                                                                                        |       2 | 3 to 6 days                                                |\n",
      "| S_COVID_SYMPTOMS  | How long the user has been experiencing symptoms                                                                                                                        |       3 | 7 to 14 days                                               |\n",
      "| S_COVID_SYMPTOMS  | How long the user has been experiencing symptoms                                                                                                                        |       4 | More than 14 days                                          |\n",
      "| S_COVID_COUGH     | Symptom intensity: Coughing                                                                                                                                             |       1 | User isn’t experiencing symptom                            |\n",
      "| S_COVID_COUGH     | Symptom intensity: Coughing                                                                                                                                             |       2 | Very mild                                                  |\n",
      "| S_COVID_COUGH     | Symptom intensity: Coughing                                                                                                                                             |       3 | Mild                                                       |\n",
      "| S_COVID_COUGH     | Symptom intensity: Coughing                                                                                                                                             |       4 | Moderate                                                   |\n",
      "| S_COVID_COUGH     | Symptom intensity: Coughing                                                                                                                                             |       5 | Severe                                                     |\n",
      "| S_COVID_COUGH     | Symptom intensity: Coughing                                                                                                                                             |       6 | Extremely severe                                           |\n",
      "| S_COVID_FEVER     | Symptom intensity: Fever                                                                                                                                                |       1 | User isn’t experiencing symptom                            |\n",
      "| S_COVID_FEVER     | Symptom intensity: Fever                                                                                                                                                |       2 | Very mild                                                  |\n",
      "| S_COVID_FEVER     | Symptom intensity: Fever                                                                                                                                                |       3 | Mild                                                       |\n",
      "| S_COVID_FEVER     | Symptom intensity: Fever                                                                                                                                                |       4 | Moderate                                                   |\n",
      "| S_COVID_FEVER     | Symptom intensity: Fever                                                                                                                                                |       5 | Severe                                                     |\n",
      "| S_COVID_FEVER     | Symptom intensity: Fever                                                                                                                                                |       6 | Extremely severe                                           |\n",
      "| S_COVID_BREATH    | Symptom intensity: Shortness of breath                                                                                                                                  |       1 | User isn’t experiencing symptom                            |\n",
      "| S_COVID_BREATH    | Symptom intensity: Shortness of breath                                                                                                                                  |       2 | Very mild                                                  |\n",
      "| S_COVID_BREATH    | Symptom intensity: Shortness of breath                                                                                                                                  |       3 | Mild                                                       |\n",
      "| S_COVID_BREATH    | Symptom intensity: Shortness of breath                                                                                                                                  |       4 | Moderate                                                   |\n",
      "| S_COVID_BREATH    | Symptom intensity: Shortness of breath                                                                                                                                  |       5 | Severe                                                     |\n",
      "| S_COVID_BREATH    | Symptom intensity: Shortness of breath                                                                                                                                  |       6 | Extremely severe                                           |\n",
      "| S_COVID_FATIGUE   | Symptom intensity: Fatigue                                                                                                                                              |       1 | User isn’t experiencing symptom                            |\n",
      "| S_COVID_FATIGUE   | Symptom intensity: Fatigue                                                                                                                                              |       2 | Very mild                                                  |\n",
      "| S_COVID_FATIGUE   | Symptom intensity: Fatigue                                                                                                                                              |       3 | Mild                                                       |\n",
      "| S_COVID_FATIGUE   | Symptom intensity: Fatigue                                                                                                                                              |       4 | Moderate                                                   |\n",
      "| S_COVID_FATIGUE   | Symptom intensity: Fatigue                                                                                                                                              |       5 | Severe                                                     |\n",
      "| S_COVID_FATIGUE   | Symptom intensity: Fatigue                                                                                                                                              |       6 | Extremely severe                                           |\n",
      "| S_COVID_PAIN      | Symptom intensity: Pain or pressure in the chest                                                                                                                        |       1 | User isn’t experiencing symptom                            |\n",
      "| S_COVID_PAIN      | Symptom intensity: Pain or pressure in the chest                                                                                                                        |       2 | Very mild                                                  |\n",
      "| S_COVID_PAIN      | Symptom intensity: Pain or pressure in the chest                                                                                                                        |       3 | Mild                                                       |\n",
      "| S_COVID_PAIN      | Symptom intensity: Pain or pressure in the chest                                                                                                                        |       4 | Moderate                                                   |\n",
      "| S_COVID_PAIN      | Symptom intensity: Pain or pressure in the chest                                                                                                                        |       5 | Severe                                                     |\n",
      "| S_COVID_PAIN      | Symptom intensity: Pain or pressure in the chest                                                                                                                        |       6 | Extremely severe                                           |\n",
      "| S_COVID_CONFUSION | Symptom intensity: Confusion                                                                                                                                            |       1 | User isn’t experiencing symptom                            |\n",
      "| S_COVID_CONFUSION | Symptom intensity: Confusion                                                                                                                                            |       2 | Very mild                                                  |\n",
      "| S_COVID_CONFUSION | Symptom intensity: Confusion                                                                                                                                            |       3 | Mild                                                       |\n",
      "| S_COVID_CONFUSION | Symptom intensity: Confusion                                                                                                                                            |       4 | Moderate                                                   |\n",
      "| S_COVID_CONFUSION | Symptom intensity: Confusion                                                                                                                                            |       5 | Severe                                                     |\n",
      "| S_COVID_CONFUSION | Symptom intensity: Confusion                                                                                                                                            |       6 | Extremely severe                                           |\n",
      "| S_COVID_TROUBLE   | Symptom intensity: Trouble breathing                                                                                                                                    |       1 | User isn’t experiencing symptom                            |\n",
      "| S_COVID_TROUBLE   | Symptom intensity: Trouble breathing                                                                                                                                    |       2 | Very mild                                                  |\n",
      "| S_COVID_TROUBLE   | Symptom intensity: Trouble breathing                                                                                                                                    |       3 | Mild                                                       |\n",
      "| S_COVID_TROUBLE   | Symptom intensity: Trouble breathing                                                                                                                                    |       4 | Moderate                                                   |\n",
      "| S_COVID_TROUBLE   | Symptom intensity: Trouble breathing                                                                                                                                    |       5 | Severe                                                     |\n",
      "| S_COVID_TROUBLE   | Symptom intensity: Trouble breathing                                                                                                                                    |       6 | Extremely severe                                           |\n",
      "| S_COVID_BLUISH    | Symptom intensity: Bluish face or lips                                                                                                                                  |       1 | User isn’t experiencing symptom                            |\n",
      "| S_COVID_BLUISH    | Symptom intensity: Bluish face or lips                                                                                                                                  |       2 | Very mild                                                  |\n",
      "| S_COVID_BLUISH    | Symptom intensity: Bluish face or lips                                                                                                                                  |       3 | Mild                                                       |\n",
      "| S_COVID_BLUISH    | Symptom intensity: Bluish face or lips                                                                                                                                  |       4 | Moderate                                                   |\n",
      "| S_COVID_BLUISH    | Symptom intensity: Bluish face or lips                                                                                                                                  |       5 | Severe                                                     |\n",
      "| S_COVID_BLUISH    | Symptom intensity: Bluish face or lips                                                                                                                                  |       6 | Extremely severe                                           |\n",
      "| S_COVID_OVERALL   | Overall state                                                                                                                                                           |       1 | User isn’t experiencing symptom                            |\n",
      "| S_COVID_OVERALL   | Overall state                                                                                                                                                           |       2 | Very mild                                                  |\n",
      "| S_COVID_OVERALL   | Overall state                                                                                                                                                           |       3 | Mild                                                       |\n",
      "| S_COVID_OVERALL   | Overall state                                                                                                                                                           |       4 | Moderate                                                   |\n",
      "| S_COVID_OVERALL   | Overall state                                                                                                                                                           |       5 | Severe                                                     |\n",
      "| S_COVID_OVERALL   | Overall state                                                                                                                                                           |       6 | Extremely severe                                           |\n",
      "| S_CORONA          | An assessment of the user’s symptoms which shows how likely it is that the user has coronavirus                                                                         |       1 | User has some of the symptoms associated with coronavirus  |\n",
      "| S_CORONA          | An assessment of the user’s symptoms which shows how likely it is that the user has coronavirus                                                                         |       2 | Symptoms are characteristic of coronavirus                 |\n",
      "| S_CORONA          | An assessment of the user’s symptoms which shows how likely it is that the user has coronavirus                                                                         |       3 | Symptoms are non-specific                                  |\n",
      "| S_CORONA          | An assessment of the user’s symptoms which shows how likely it is that the user has coronavirus                                                                         |       4 | Symptoms are not characteristic of coronavirus             |\n",
      "| S_CORONA          | An assessment of the user’s symptoms which shows how likely it is that the user has coronavirus                                                                         |       5 | No symptoms of coronavirus                                 |\n",
      "| S_HEART           | An assessment of a user’s chances to develop coronary heart disease based on their lifestyle and habits. Based on Framingham Risk Score for Hard Coronary Heart Disease |       1 | A 30% chance of developing coronary heart disease          |\n",
      "| S_HEART           | An assessment of a user’s chances to develop coronary heart disease based on their lifestyle and habits. Based on Framingham Risk Score for Hard Coronary Heart Disease |       2 | A 50% chance of developing coronary heart disease          |\n",
      "| S_HEART           | An assessment of a user’s chances to develop coronary heart disease based on their lifestyle and habits. Based on Framingham Risk Score for Hard Coronary Heart Disease |       3 | A 20% chance of developing coronary heart disease          |\n",
      "| S_HEART           | An assessment of a user’s chances to develop coronary heart disease based on their lifestyle and habits. Based on Framingham Risk Score for Hard Coronary Heart Disease |       4 | A 10% chance of developing coronary heart disease          |\n",
      "| S_HEART           | An assessment of a user’s chances to develop coronary heart disease based on their lifestyle and habits. Based on Framingham Risk Score for Hard Coronary Heart Disease |       5 | Less than 10% chance of developing coronary heart disease  |\n",
      "| S_HEART           | An assessment of a user’s chances to develop coronary heart disease based on their lifestyle and habits. Based on Framingham Risk Score for Hard Coronary Heart Disease |       6 | Less than 3% chance of developing coronary heart disease   |\n",
      "| S_HEART_1         | Whether the user is a smoker                                                                                                                                            |       1 | User is a smoker                                           |\n",
      "| S_HEART_2         | Whether the user has diabetes and/or is overweight                                                                                                                      |       1 | User has diabetes and is overweight                        |\n",
      "| S_HEART_22        | Whether the user has diabetes and/or is overweight                                                                                                                      |       1 | User has diabetes and is not overweight                    |\n",
      "| S_HEART_3         | Whether the user has high cholesterol levels                                                                                                                            |       1 | User has high cholesterol levels                           |\n",
      "| S_HEART_4         | Whether the user has high BP                                                                                                                                            |       1 | User has high BP                                           |\n",
      "| S_HEART_5         | Whether the user takes BP meds                                                                                                                                          |       1 | User has high BP and does not take meds                    |\n",
      "| S_HEART_6         | Whether the user is highly stressed                                                                                                                                     |       1 | User has high stress                                       |\n",
      "| S_HEART_7         | Whether the user is overweight                                                                                                                                          |       1 | User is overweight                                         |\n",
      "| S_HRA_MONTH       | How far along in their pregnancy the user is                                                                                                                            |       1 | User is less than 3 months pregnant when taking the test   |\n",
      "| S_HRA_MONTH       | How far along in their pregnancy the user is                                                                                                                            |       2 | User is less than 3-4 months pregnant when taking the test |\n",
      "| S_HRA_MONTH       | How far along in their pregnancy the user is                                                                                                                            |       3 | User is less than 5-6 months pregnant when taking the test |\n",
      "| S_HRA_MONTH       | How far along in their pregnancy the user is                                                                                                                            |       4 | User is more than 7 months pregnant when taking the test   |\n",
      "| S_HRA_ASTHMA      | Whether the user has asthma or bronchial spasm                                                                                                                          |       1 | User has asthma or bronchial spasm                         |\n",
      "| S_HRA_ALLERG      | Whether the user has allergies                                                                                                                                          |       1 | User has allergies                                         |\n",
      "| S_HRA_LUNG        | Whether the user has lung diseases                                                                                                                                      |       1 | User has lung diseases                                     |\n",
      "| S_HRA_KIDNEY      | Whether the user has kidney problems                                                                                                                                    |       1 | User has kidney problems                                   |\n",
      "| S_HRA_LIVER       | Whether the user has liver problems                                                                                                                                     |       1 | User has liver problems                                    |\n",
      "| S_HRA_CHOL        | Whether the user has high cholesterol                                                                                                                                   |       1 | User has high cholesterol                                  |\n",
      "| S_HRA_DBT         | Whether the user has any type of diabetes                                                                                                                               |       1 | User has type 1 diabetes                                   |\n",
      "| S_HRA_DBT         | Whether the user has any type of diabetes                                                                                                                               |       2 | User has type 2 diabetes                                   |\n",
      "| S_HRA_ARR         | Whether the user has arrhythmia or other heart rhythm disorders                                                                                                         |       1 | User has arrhythmia or other heart rhythm disorders        |\n",
      "| S_HRA_HEART       | Whether the user has heart disease, blood pressure problems                                                                                                             |       1 | User has heart disease, blood pressure problems            |\n",
      "| S_HRA_AFTER       | Whether the user s recovering after a heart attack                                                                                                                      |       1 | User is recovering after a heart attack                    |\n",
      "| S_HRA_HBP         | Whether the user has high blood pressure                                                                                                                                |       1 | User has high blood pressure                               |\n",
      "| S_HRA_LBP         | Whether the user has low BP                                                                                                                                             |       1 | User has low BP                                            |\n",
      "| S_HRA_THYR        | Whether the user has thyroid problems                                                                                                                                   |       1 | User has hypothyroidism                                    |\n",
      "| S_HRA_THYR        | Whether the user has thyroid problems                                                                                                                                   |       2 | User has hyperthyroidism                                   |\n",
      "| S_HRA_EPILEPSY    | Whether the user has epilepsy                                                                                                                                           |       1 | User has epilepsy                                          |\n",
      "| S_HRA_BONE        | Whether the user has musculoskeletal disorders                                                                                                                          |       1 | User has musculoskeletal disorders                         |\n",
      "| S_HRA_JOINTS      | Whether the user has arthritis                                                                                                                                          |       1 | User has arthritis                                         |\n",
      "| S_HRA_OSTEO       | Whether the user has osteoporosis                                                                                                                                       |       1 | User has osteoporosis                                      |\n",
      "| S_HRA_NECK        | Whether the user has neck pain                                                                                                                                          |       1 | User has neck pain                                         |\n",
      "| S_HRA_JOINT       | Whether the user has joint pain                                                                                                                                         |       1 | User has joint pain                                        |\n",
      "| S_HRA_FIBRO       | Whether the user has fibromyalgia                                                                                                                                       |       1 | User has fibromyalgia                                      |\n",
      "| S_HRA_HEAD        | Whether the user has headaches/migraines                                                                                                                                |       1 | User has headaches                                         |\n",
      "| S_HRA_HEAD        | Whether the user has headaches/migraines                                                                                                                                |       2 | User has migraines                                         |\n",
      "| S_HRA_SLEEP       | Whether the user has sleep problems                                                                                                                                     |       1 | User has sleep problems                                    |\n",
      "| S_HRA_DEP         | Whether the user has depression                                                                                                                                         |       1 | User has depression                                        |\n",
      "| S_HRA_ANX         | Whether the user has anxiety                                                                                                                                            |       1 | User has anxiety                                           |\n",
      "| S_HRA_PANIC       | Whether the user has panic attacks                                                                                                                                      |       1 | User has panic attacks                                     |\n",
      "| S_HRA_EDEMA       | Whether the user has edema                                                                                                                                              |       1 | User has edema                                             |\n",
      "| S_HRA_CUSHING     | Whether the user has Cushing's syndrome                                                                                                                                 |       1 | User has Cushing's syndrome                                |\n",
      "| S_HRA_D           | Whether the user has vitamin D deficiency                                                                                                                               |       1 | User has vitamin D deficiency                              |\n",
      "| S_HRA_OVARY       | Whether the user has polycystic ovaries                                                                                                                                 |       1 | User has polycystic ovaries                                |\n",
      "| S_HRA_VARI        | Whether the user has varicose veins                                                                                                                                     |       1 | User has varicose veins                                    |\n",
      "| S_HRA_ENDO        | Whether the user has endometriosis                                                                                                                                      |       1 | User has endometriosis                                     |\n",
      "| S_HRA_HORM        | Whether the user’s  hormones are out of balance                                                                                                                         |       1 | User’s  hormones are out of balance                        |\n",
      "| S_SMOKING         | Whether the user is a smoker                                                                                                                                            |       1 | User recently quit smoking                                 |\n",
      "| S_SMOKING         | Whether the user is a smoker                                                                                                                                            |       2 | User is a smoker                                           |\n",
      "| S_HRA_PMS         | Whether the user has PMS                                                                                                                                                |       1 | User has PMS                                               |\n",
      "| S_HRA_HEAVY       | Whether the user has heavy periods                                                                                                                                      |       1 | User has heavy periods                                     |\n",
      "| S_HRA_IRR         | Whether the user has irregular periods                                                                                                                                  |       1 | User has irregular periods                                 |\n",
      "| S_HRA_PERPAIN     | Whether the user has painful periods                                                                                                                                    |       1 | User has painful periods                                   |\n",
      "| S_HRA_SUGAR       | Whether the user has high blood sugar                                                                                                                                   |       1 | User has high blood sugar                                  |\n",
      "| S_HRA_COLDS       | Whether the user has frequent colds                                                                                                                                     |       1 | User has frequent colds                                    |\n",
      "| S_HRA_ANEMIA      | Whether the user has anemia                                                                                                                                             |       1 | User has anemia                                            |\n",
      "| S_HRA_BIPOLAR     | Whether the user is bipolar                                                                                                                                             |       1 | User is bipolar                                            |\n",
      "| S_HRA_OCD         | Whether the user has OCD                                                                                                                                                |       1 | User has OCD                                               |\n",
      "| S_HRA_POST        | Whether the user has PTSD                                                                                                                                               |       1 | User has PTSD                                              |\n",
      "| S_HRA_SKIN        | Whether the user has skin problems                                                                                                                                      |       2 | User has rosacea                                           |\n",
      "| S_HRA_SKIN        | Whether the user has skin problems                                                                                                                                      |       3 | User has psoriasis                                         |\n",
      "| S_HRA_SKIN        | Whether the user has skin problems                                                                                                                                      |       1 | User has ecsema                                            |\n",
      "| S_HRA_VIT         | Whether the user takes vitamins/nootropics                                                                                                                              |       1 | User takes vitamins/nootropics                             |\n",
      "| S_HRA_VIT         | Whether the user takes vitamins/nootropics                                                                                                                              |       3 | User doesn’t take vitamins/nootropics                      |\n",
      "| S_HRA_ALC         | How much alcohol the user consumes on a regular basis                                                                                                                   |       1 | User drinks a lot of alcohol                               |\n",
      "| S_HRA_ALC         | How much alcohol the user consumes on a regular basis                                                                                                                   |       2 | User doesn’t drink alcohol                                 |\n",
      "| S_HRA_ALC         | How much alcohol the user consumes on a regular basis                                                                                                                   |       3 | User drinks little alcohol                                 |\n",
      "| S_HRA_ALC         | How much alcohol the user consumes on a regular basis                                                                                                                   |       4 | User drinks an average amount of alcohol                   |\n",
      "| S_DIABETES        | An assessment of the user’s chances of developing Type 2 Diabetes based on their lifestyle and habits. Based on research by Finnish Diabetes Association                |       1 | 1% chance of developing Type 2 diabetes                    |\n",
      "| S_DIABETES        | An assessment of the user’s chances of developing Type 2 Diabetes based on their lifestyle and habits. Based on research by Finnish Diabetes Association                |       2 | 4% chance of developing Type 2 diabetes                    |\n",
      "| S_DIABETES        | An assessment of the user’s chances of developing Type 2 Diabetes based on their lifestyle and habits. Based on research by Finnish Diabetes Association                |       3 | 15% chance of developing Type 2 diabetes                   |\n",
      "| S_DIABETES        | An assessment of the user’s chances of developing Type 2 Diabetes based on their lifestyle and habits. Based on research by Finnish Diabetes Association                |       4 | 30% chance of developing Type 2 diabetes                   |\n",
      "| S_DIABETES        | An assessment of the user’s chances of developing Type 2 Diabetes based on their lifestyle and habits. Based on research by Finnish Diabetes Association                |       5 | 50% chance of developing Type 2 diabetes                   |\n",
      "| S_DIAB_REASON1    | Whether the user’s waist circumference is within the norm                                                                                                               |       1 | Waist circumference is within the norm                     |\n",
      "| S_DIAB_REASON2    | Whether the user is active enough                                                                                                                                       |       1 | Is active enough                                           |\n",
      "| S_DIAB_REASON3    | Whether the user eats healthy                                                                                                                                           |       1 | Eats healthy                                               |\n",
      "| S_DIAB_REASON4    | Whether the user has BP problems                                                                                                                                        |       1 | No BP problems                                             |\n",
      "| S_DIAB_REASON5    | Whether the user’s blood sugar is within the norm when taking the test                                                                                                  |       1 | Blood sugar is within the norm when taking the test        |\n",
      "| S_DIAB_REASON6    | Whether the user has a family history of diabetes                                                                                                                       |       1 | No family history of diabetes                              |\n",
      "\n"
     ]
    }
   ],
   "source": [
    "!cat hrv-covid19/datatypes.md"
   ]
  },
  {
   "cell_type": "markdown",
   "id": "0a575329-845a-4da1-901e-edf4690bdb48",
   "metadata": {},
   "source": [
    "This is essential understanding the dataset, but we can't rely exclusively on the documentation, as the metadata could be outdated or inaccurate. \n",
    "\n",
    "Dump the schema of each table to gain an appreciation for their actual features and overall structure. \n",
    "\n",
    "Note the explicit calls to the notebook `display` functionality required since the notebook can't infer its use in a loop. [Source](https://stackoverflow.com/questions/26873127/show-dataframe-as-table-in-ipython-notebook)"
   ]
  },
  {
   "cell_type": "code",
   "execution_count": 662,
   "id": "63f2e60f-0714-4cea-8a0d-f57c116ebc88",
   "metadata": {},
   "outputs": [
    {
     "name": "stdout",
     "output_type": "stream",
     "text": [
      "scales_description\n"
     ]
    },
    {
     "data": {
      "text/html": [
       "<div>\n",
       "<style scoped>\n",
       "    .dataframe tbody tr th:only-of-type {\n",
       "        vertical-align: middle;\n",
       "    }\n",
       "\n",
       "    .dataframe tbody tr th {\n",
       "        vertical-align: top;\n",
       "    }\n",
       "\n",
       "    .dataframe thead th {\n",
       "        text-align: right;\n",
       "    }\n",
       "</style>\n",
       "<table border=\"1\" class=\"dataframe\">\n",
       "  <thead>\n",
       "    <tr style=\"text-align: right;\">\n",
       "      <th></th>\n",
       "      <th>Scale</th>\n",
       "      <th>Description</th>\n",
       "      <th>Value</th>\n",
       "      <th>Meaning</th>\n",
       "    </tr>\n",
       "  </thead>\n",
       "  <tbody>\n",
       "    <tr>\n",
       "      <th>0</th>\n",
       "      <td>S_COVID_SYMPTOMS</td>\n",
       "      <td>How long the user has been experiencing symptoms</td>\n",
       "      <td>1</td>\n",
       "      <td>Less than 3 days</td>\n",
       "    </tr>\n",
       "  </tbody>\n",
       "</table>\n",
       "</div>"
      ],
      "text/plain": [
       "              Scale                                       Description  Value  \\\n",
       "0  S_COVID_SYMPTOMS  How long the user has been experiencing symptoms      1   \n",
       "\n",
       "            Meaning  \n",
       "0  Less than 3 days  "
      ]
     },
     "metadata": {},
     "output_type": "display_data"
    },
    {
     "name": "stdout",
     "output_type": "stream",
     "text": [
      "participants\n"
     ]
    },
    {
     "data": {
      "text/html": [
       "<div>\n",
       "<style scoped>\n",
       "    .dataframe tbody tr th:only-of-type {\n",
       "        vertical-align: middle;\n",
       "    }\n",
       "\n",
       "    .dataframe tbody tr th {\n",
       "        vertical-align: top;\n",
       "    }\n",
       "\n",
       "    .dataframe thead th {\n",
       "        text-align: right;\n",
       "    }\n",
       "</style>\n",
       "<table border=\"1\" class=\"dataframe\">\n",
       "  <thead>\n",
       "    <tr style=\"text-align: right;\">\n",
       "      <th></th>\n",
       "      <th>user_code</th>\n",
       "      <th>gender</th>\n",
       "      <th>age_range</th>\n",
       "      <th>city</th>\n",
       "      <th>country</th>\n",
       "      <th>height</th>\n",
       "      <th>weight</th>\n",
       "      <th>symptoms_onset</th>\n",
       "    </tr>\n",
       "  </thead>\n",
       "  <tbody>\n",
       "    <tr>\n",
       "      <th>0</th>\n",
       "      <td>007b8190cf</td>\n",
       "      <td>m</td>\n",
       "      <td>25-34</td>\n",
       "      <td>Mandalay</td>\n",
       "      <td>Myanmar</td>\n",
       "      <td>170.18</td>\n",
       "      <td>96.162</td>\n",
       "      <td>NaN</td>\n",
       "    </tr>\n",
       "  </tbody>\n",
       "</table>\n",
       "</div>"
      ],
      "text/plain": [
       "    user_code gender age_range      city  country  height  weight  \\\n",
       "0  007b8190cf      m     25-34  Mandalay  Myanmar  170.18  96.162   \n",
       "\n",
       "  symptoms_onset  \n",
       "0            NaN  "
      ]
     },
     "metadata": {},
     "output_type": "display_data"
    },
    {
     "name": "stdout",
     "output_type": "stream",
     "text": [
      "wearables\n"
     ]
    },
    {
     "data": {
      "text/html": [
       "<div>\n",
       "<style scoped>\n",
       "    .dataframe tbody tr th:only-of-type {\n",
       "        vertical-align: middle;\n",
       "    }\n",
       "\n",
       "    .dataframe tbody tr th {\n",
       "        vertical-align: top;\n",
       "    }\n",
       "\n",
       "    .dataframe thead th {\n",
       "        text-align: right;\n",
       "    }\n",
       "</style>\n",
       "<table border=\"1\" class=\"dataframe\">\n",
       "  <thead>\n",
       "    <tr style=\"text-align: right;\">\n",
       "      <th></th>\n",
       "      <th>user_code</th>\n",
       "      <th>day</th>\n",
       "      <th>resting_pulse</th>\n",
       "      <th>pulse_average</th>\n",
       "      <th>pulse_min</th>\n",
       "      <th>pulse_max</th>\n",
       "      <th>average_spo2_value</th>\n",
       "      <th>body_temperature_avg</th>\n",
       "      <th>stand_hours_total</th>\n",
       "      <th>steps_count</th>\n",
       "      <th>distance</th>\n",
       "      <th>steps_speed</th>\n",
       "      <th>total_number_of_flights_climbed</th>\n",
       "      <th>active_calories_burned</th>\n",
       "      <th>basal_calories_burned</th>\n",
       "      <th>total_calories_burned</th>\n",
       "      <th>average_headphone_exposure</th>\n",
       "      <th>average_environment_exposure</th>\n",
       "    </tr>\n",
       "  </thead>\n",
       "  <tbody>\n",
       "    <tr>\n",
       "      <th>0</th>\n",
       "      <td>007b8190cf</td>\n",
       "      <td>2020-04-26</td>\n",
       "      <td>NaN</td>\n",
       "      <td>70.0</td>\n",
       "      <td>70.0</td>\n",
       "      <td>70.0</td>\n",
       "      <td>NaN</td>\n",
       "      <td>NaN</td>\n",
       "      <td>NaN</td>\n",
       "      <td>NaN</td>\n",
       "      <td>NaN</td>\n",
       "      <td>NaN</td>\n",
       "      <td>NaN</td>\n",
       "      <td>NaN</td>\n",
       "      <td>2859.0</td>\n",
       "      <td>2859.0</td>\n",
       "      <td>NaN</td>\n",
       "      <td>NaN</td>\n",
       "    </tr>\n",
       "  </tbody>\n",
       "</table>\n",
       "</div>"
      ],
      "text/plain": [
       "    user_code         day  resting_pulse  pulse_average  pulse_min  pulse_max  \\\n",
       "0  007b8190cf  2020-04-26            NaN           70.0       70.0       70.0   \n",
       "\n",
       "   average_spo2_value  body_temperature_avg  stand_hours_total  steps_count  \\\n",
       "0                 NaN                   NaN                NaN          NaN   \n",
       "\n",
       "   distance  steps_speed  total_number_of_flights_climbed  \\\n",
       "0       NaN          NaN                              NaN   \n",
       "\n",
       "   active_calories_burned  basal_calories_burned  total_calories_burned  \\\n",
       "0                     NaN                 2859.0                 2859.0   \n",
       "\n",
       "   average_headphone_exposure  average_environment_exposure  \n",
       "0                         NaN                           NaN  "
      ]
     },
     "metadata": {},
     "output_type": "display_data"
    },
    {
     "name": "stdout",
     "output_type": "stream",
     "text": [
      "blood_pressure\n"
     ]
    },
    {
     "data": {
      "text/html": [
       "<div>\n",
       "<style scoped>\n",
       "    .dataframe tbody tr th:only-of-type {\n",
       "        vertical-align: middle;\n",
       "    }\n",
       "\n",
       "    .dataframe tbody tr th {\n",
       "        vertical-align: top;\n",
       "    }\n",
       "\n",
       "    .dataframe thead th {\n",
       "        text-align: right;\n",
       "    }\n",
       "</style>\n",
       "<table border=\"1\" class=\"dataframe\">\n",
       "  <thead>\n",
       "    <tr style=\"text-align: right;\">\n",
       "      <th></th>\n",
       "      <th>user_code</th>\n",
       "      <th>measurement_datetime</th>\n",
       "      <th>diastolic</th>\n",
       "      <th>systolic</th>\n",
       "      <th>functional_changes_index</th>\n",
       "      <th>circulatory_efficiency</th>\n",
       "      <th>kerdo_vegetation_index</th>\n",
       "      <th>robinson_index</th>\n",
       "    </tr>\n",
       "  </thead>\n",
       "  <tbody>\n",
       "    <tr>\n",
       "      <th>0</th>\n",
       "      <td>01bad5a519</td>\n",
       "      <td>2020-04-29  22:33:33</td>\n",
       "      <td>100</td>\n",
       "      <td>150</td>\n",
       "      <td>NaN</td>\n",
       "      <td>NaN</td>\n",
       "      <td>NaN</td>\n",
       "      <td>NaN</td>\n",
       "    </tr>\n",
       "  </tbody>\n",
       "</table>\n",
       "</div>"
      ],
      "text/plain": [
       "    user_code  measurement_datetime  diastolic  systolic  \\\n",
       "0  01bad5a519  2020-04-29  22:33:33        100       150   \n",
       "\n",
       "   functional_changes_index  circulatory_efficiency  kerdo_vegetation_index  \\\n",
       "0                       NaN                     NaN                     NaN   \n",
       "\n",
       "   robinson_index  \n",
       "0             NaN  "
      ]
     },
     "metadata": {},
     "output_type": "display_data"
    },
    {
     "name": "stdout",
     "output_type": "stream",
     "text": [
      "surveys\n"
     ]
    },
    {
     "data": {
      "text/html": [
       "<div>\n",
       "<style scoped>\n",
       "    .dataframe tbody tr th:only-of-type {\n",
       "        vertical-align: middle;\n",
       "    }\n",
       "\n",
       "    .dataframe tbody tr th {\n",
       "        vertical-align: top;\n",
       "    }\n",
       "\n",
       "    .dataframe thead th {\n",
       "        text-align: right;\n",
       "    }\n",
       "</style>\n",
       "<table border=\"1\" class=\"dataframe\">\n",
       "  <thead>\n",
       "    <tr style=\"text-align: right;\">\n",
       "      <th></th>\n",
       "      <th>user_code</th>\n",
       "      <th>scale</th>\n",
       "      <th>created_at</th>\n",
       "      <th>value</th>\n",
       "      <th>text</th>\n",
       "    </tr>\n",
       "  </thead>\n",
       "  <tbody>\n",
       "    <tr>\n",
       "      <th>0</th>\n",
       "      <td>01bad5a519</td>\n",
       "      <td>S_CORONA</td>\n",
       "      <td>2020-04-23</td>\n",
       "      <td>2</td>\n",
       "      <td>Symptoms are characteristic of coronavirus</td>\n",
       "    </tr>\n",
       "  </tbody>\n",
       "</table>\n",
       "</div>"
      ],
      "text/plain": [
       "    user_code     scale  created_at  value  \\\n",
       "0  01bad5a519  S_CORONA  2020-04-23      2   \n",
       "\n",
       "                                         text  \n",
       "0  Symptoms are characteristic of coronavirus  "
      ]
     },
     "metadata": {},
     "output_type": "display_data"
    },
    {
     "name": "stdout",
     "output_type": "stream",
     "text": [
      "heart_rate\n"
     ]
    },
    {
     "data": {
      "text/html": [
       "<div>\n",
       "<style scoped>\n",
       "    .dataframe tbody tr th:only-of-type {\n",
       "        vertical-align: middle;\n",
       "    }\n",
       "\n",
       "    .dataframe tbody tr th {\n",
       "        vertical-align: top;\n",
       "    }\n",
       "\n",
       "    .dataframe thead th {\n",
       "        text-align: right;\n",
       "    }\n",
       "</style>\n",
       "<table border=\"1\" class=\"dataframe\">\n",
       "  <thead>\n",
       "    <tr style=\"text-align: right;\">\n",
       "      <th></th>\n",
       "      <th>user_code</th>\n",
       "      <th>datetime</th>\n",
       "      <th>heart_rate</th>\n",
       "      <th>is_resting</th>\n",
       "    </tr>\n",
       "  </thead>\n",
       "  <tbody>\n",
       "    <tr>\n",
       "      <th>0</th>\n",
       "      <td>007b8190cf</td>\n",
       "      <td>2020-04-26 04:49:25</td>\n",
       "      <td>70</td>\n",
       "      <td>0</td>\n",
       "    </tr>\n",
       "  </tbody>\n",
       "</table>\n",
       "</div>"
      ],
      "text/plain": [
       "    user_code             datetime  heart_rate  is_resting\n",
       "0  007b8190cf  2020-04-26 04:49:25          70           0"
      ]
     },
     "metadata": {},
     "output_type": "display_data"
    },
    {
     "name": "stdout",
     "output_type": "stream",
     "text": [
      "weather\n"
     ]
    },
    {
     "data": {
      "text/html": [
       "<div>\n",
       "<style scoped>\n",
       "    .dataframe tbody tr th:only-of-type {\n",
       "        vertical-align: middle;\n",
       "    }\n",
       "\n",
       "    .dataframe tbody tr th {\n",
       "        vertical-align: top;\n",
       "    }\n",
       "\n",
       "    .dataframe thead th {\n",
       "        text-align: right;\n",
       "    }\n",
       "</style>\n",
       "<table border=\"1\" class=\"dataframe\">\n",
       "  <thead>\n",
       "    <tr style=\"text-align: right;\">\n",
       "      <th></th>\n",
       "      <th>user_code</th>\n",
       "      <th>day</th>\n",
       "      <th>avg_temperature_C</th>\n",
       "      <th>atmospheric_pressure</th>\n",
       "      <th>precip_intensity</th>\n",
       "      <th>humidity</th>\n",
       "      <th>clouds</th>\n",
       "    </tr>\n",
       "  </thead>\n",
       "  <tbody>\n",
       "    <tr>\n",
       "      <th>0</th>\n",
       "      <td>013f6d3e5b</td>\n",
       "      <td>2020-05-22</td>\n",
       "      <td>18.0667</td>\n",
       "      <td>1017.6</td>\n",
       "      <td>0.0002</td>\n",
       "      <td>70.0</td>\n",
       "      <td>67.0</td>\n",
       "    </tr>\n",
       "  </tbody>\n",
       "</table>\n",
       "</div>"
      ],
      "text/plain": [
       "    user_code         day  avg_temperature_C  atmospheric_pressure  \\\n",
       "0  013f6d3e5b  2020-05-22            18.0667                1017.6   \n",
       "\n",
       "   precip_intensity  humidity  clouds  \n",
       "0            0.0002      70.0    67.0  "
      ]
     },
     "metadata": {},
     "output_type": "display_data"
    },
    {
     "name": "stdout",
     "output_type": "stream",
     "text": [
      "hrv_measurements\n"
     ]
    },
    {
     "data": {
      "text/html": [
       "<div>\n",
       "<style scoped>\n",
       "    .dataframe tbody tr th:only-of-type {\n",
       "        vertical-align: middle;\n",
       "    }\n",
       "\n",
       "    .dataframe tbody tr th {\n",
       "        vertical-align: top;\n",
       "    }\n",
       "\n",
       "    .dataframe thead th {\n",
       "        text-align: right;\n",
       "    }\n",
       "</style>\n",
       "<table border=\"1\" class=\"dataframe\">\n",
       "  <thead>\n",
       "    <tr style=\"text-align: right;\">\n",
       "      <th></th>\n",
       "      <th>user_code</th>\n",
       "      <th>rr_code</th>\n",
       "      <th>measurement_datetime</th>\n",
       "      <th>time_of_day</th>\n",
       "      <th>bpm</th>\n",
       "      <th>meanrr</th>\n",
       "      <th>mxdmn</th>\n",
       "      <th>sdnn</th>\n",
       "      <th>rmssd</th>\n",
       "      <th>pnn50</th>\n",
       "      <th>...</th>\n",
       "      <th>lf</th>\n",
       "      <th>hf</th>\n",
       "      <th>vlf</th>\n",
       "      <th>lfhf</th>\n",
       "      <th>total_power</th>\n",
       "      <th>how_feel</th>\n",
       "      <th>how_mood</th>\n",
       "      <th>how_sleep</th>\n",
       "      <th>tags</th>\n",
       "      <th>rr_data</th>\n",
       "    </tr>\n",
       "  </thead>\n",
       "  <tbody>\n",
       "    <tr>\n",
       "      <th>0</th>\n",
       "      <td>007b8190cf</td>\n",
       "      <td>10489a6aea</td>\n",
       "      <td>2020-04-21 21:23:08</td>\n",
       "      <td>morning</td>\n",
       "      <td>75</td>\n",
       "      <td>795.9</td>\n",
       "      <td>0.12</td>\n",
       "      <td>45.802</td>\n",
       "      <td>54.174</td>\n",
       "      <td>15.15</td>\n",
       "      <td>...</td>\n",
       "      <td>508.0</td>\n",
       "      <td>1076.0</td>\n",
       "      <td>267.0</td>\n",
       "      <td>0.472</td>\n",
       "      <td>1851.0</td>\n",
       "      <td>0</td>\n",
       "      <td>-1</td>\n",
       "      <td>NaN</td>\n",
       "      <td>COVID-19; Workout; Sex; Hobby; Studying; Sleep...</td>\n",
       "      <td>819,1008,831,847,785,778,866,839,801,793,846,8...</td>\n",
       "    </tr>\n",
       "  </tbody>\n",
       "</table>\n",
       "<p>1 rows × 22 columns</p>\n",
       "</div>"
      ],
      "text/plain": [
       "    user_code     rr_code measurement_datetime time_of_day  bpm  meanrr  \\\n",
       "0  007b8190cf  10489a6aea  2020-04-21 21:23:08     morning   75   795.9   \n",
       "\n",
       "   mxdmn    sdnn   rmssd  pnn50  ...     lf      hf    vlf   lfhf  \\\n",
       "0   0.12  45.802  54.174  15.15  ...  508.0  1076.0  267.0  0.472   \n",
       "\n",
       "   total_power  how_feel  how_mood  how_sleep  \\\n",
       "0       1851.0         0        -1        NaN   \n",
       "\n",
       "                                                tags  \\\n",
       "0  COVID-19; Workout; Sex; Hobby; Studying; Sleep...   \n",
       "\n",
       "                                             rr_data  \n",
       "0  819,1008,831,847,785,778,866,839,801,793,846,8...  \n",
       "\n",
       "[1 rows x 22 columns]"
      ]
     },
     "metadata": {},
     "output_type": "display_data"
    },
    {
     "name": "stdout",
     "output_type": "stream",
     "text": [
      "sleep\n"
     ]
    },
    {
     "data": {
      "text/html": [
       "<div>\n",
       "<style scoped>\n",
       "    .dataframe tbody tr th:only-of-type {\n",
       "        vertical-align: middle;\n",
       "    }\n",
       "\n",
       "    .dataframe tbody tr th {\n",
       "        vertical-align: top;\n",
       "    }\n",
       "\n",
       "    .dataframe thead th {\n",
       "        text-align: right;\n",
       "    }\n",
       "</style>\n",
       "<table border=\"1\" class=\"dataframe\">\n",
       "  <thead>\n",
       "    <tr style=\"text-align: right;\">\n",
       "      <th></th>\n",
       "      <th>user_code</th>\n",
       "      <th>day</th>\n",
       "      <th>sleep_begin</th>\n",
       "      <th>sleep_end</th>\n",
       "      <th>sleep_duration</th>\n",
       "      <th>sleep_awake_duration</th>\n",
       "      <th>sleep_rem_duration</th>\n",
       "      <th>sleep_light_duration</th>\n",
       "      <th>sleep_deep_duration</th>\n",
       "      <th>pulse_min</th>\n",
       "      <th>pulse_max</th>\n",
       "      <th>pulse_average</th>\n",
       "    </tr>\n",
       "  </thead>\n",
       "  <tbody>\n",
       "    <tr>\n",
       "      <th>0</th>\n",
       "      <td>0d297d2410</td>\n",
       "      <td>2019-12-31</td>\n",
       "      <td>2019-12-31 07:50:32</td>\n",
       "      <td>2019-12-31 08:45:22</td>\n",
       "      <td>3290.0</td>\n",
       "      <td>NaN</td>\n",
       "      <td>NaN</td>\n",
       "      <td>NaN</td>\n",
       "      <td>NaN</td>\n",
       "      <td>NaN</td>\n",
       "      <td>NaN</td>\n",
       "      <td>NaN</td>\n",
       "    </tr>\n",
       "  </tbody>\n",
       "</table>\n",
       "</div>"
      ],
      "text/plain": [
       "    user_code         day          sleep_begin            sleep_end  \\\n",
       "0  0d297d2410  2019-12-31  2019-12-31 07:50:32  2019-12-31 08:45:22   \n",
       "\n",
       "   sleep_duration  sleep_awake_duration  sleep_rem_duration  \\\n",
       "0          3290.0                   NaN                 NaN   \n",
       "\n",
       "   sleep_light_duration  sleep_deep_duration  pulse_min  pulse_max  \\\n",
       "0                   NaN                  NaN        NaN        NaN   \n",
       "\n",
       "   pulse_average  \n",
       "0            NaN  "
      ]
     },
     "metadata": {},
     "output_type": "display_data"
    }
   ],
   "source": [
    "for name, df in dfs.items():\n",
    "    print(name) \n",
    "    display(df.head(1))"
   ]
  },
  {
   "cell_type": "markdown",
   "id": "0f3dd2ac-7143-4632-b3be-706f678e9c8c",
   "metadata": {},
   "source": [
    "### Scales\n",
    "\n",
    "Investigate the scales table. "
   ]
  },
  {
   "cell_type": "code",
   "execution_count": 663,
   "id": "a92638a7-61e3-4869-bee7-5771ca0cd291",
   "metadata": {},
   "outputs": [],
   "source": [
    "df = dfs['scales_description']"
   ]
  },
  {
   "cell_type": "code",
   "execution_count": 664,
   "id": "4d7ec570-ba70-4a83-87c7-5fc63951295c",
   "metadata": {},
   "outputs": [
    {
     "data": {
      "text/plain": [
       "Scale          object\n",
       "Description    object\n",
       "Value           int64\n",
       "Meaning        object\n",
       "dtype: object"
      ]
     },
     "execution_count": 664,
     "metadata": {},
     "output_type": "execute_result"
    }
   ],
   "source": [
    "df.dtypes"
   ]
  },
  {
   "cell_type": "code",
   "execution_count": 665,
   "id": "cfaa61a3-cbe4-4a63-a3d3-68631e115dee",
   "metadata": {},
   "outputs": [
    {
     "data": {
      "text/plain": [
       "array(['S_COVID_SYMPTOMS', 'S_COVID_COUGH', 'S_COVID_FEVER',\n",
       "       'S_COVID_BREATH', 'S_COVID_FATIGUE', 'S_COVID_PAIN',\n",
       "       'S_COVID_CONFUSION', 'S_COVID_TROUBLE', 'S_COVID_BLUISH',\n",
       "       'S_COVID_OVERALL', 'S_CORONA', 'S_HEART', 'S_HEART_1', 'S_HEART_2',\n",
       "       'S_HEART_22', 'S_HEART_3', 'S_HEART_4', 'S_HEART_5', 'S_HEART_6',\n",
       "       'S_HEART_7', 'S_HRA_MONTH\\n\\xa0', 'S_HRA_ASTHMA', 'S_HRA_ALLERG',\n",
       "       'S_HRA_LUNG', 'S_HRA_KIDNEY', 'S_HRA_LIVER', 'S_HRA_CHOL',\n",
       "       'S_HRA_DBT', 'S_HRA_ARR', 'S_HRA_HEART', 'S_HRA_AFTER',\n",
       "       'S_HRA_HBP', 'S_HRA_LBP', 'S_HRA_THYR', 'S_HRA_EPILEPSY',\n",
       "       'S_HRA_BONE', 'S_HRA_JOINTS', 'S_HRA_OSTEO', 'S_HRA_NECK',\n",
       "       'S_HRA_JOINT', 'S_HRA_FIBRO', 'S_HRA_HEAD', 'S_HRA_SLEEP',\n",
       "       'S_HRA_DEP', 'S_HRA_ANX', 'S_HRA_PANIC', 'S_HRA_EDEMA',\n",
       "       'S_HRA_CUSHING', 'S_HRA_D', 'S_HRA_OVARY', 'S_HRA_VARI',\n",
       "       'S_HRA_ENDO', 'S_HRA_HORM', 'S_SMOKING', 'S_HRA_PMS',\n",
       "       'S_HRA_HEAVY', 'S_HRA_IRR', 'S_HRA_PERPAIN', 'S_HRA_SUGAR',\n",
       "       'S_HRA_COLDS', 'S_HRA_ANEMIA', 'S_HRA_BIPOLAR', 'S_HRA_OCD',\n",
       "       'S_HRA_POST', 'S_HRA_SKIN', 'S_HRA_VIT', 'S_HRA_ALC', 'S_DIABETES',\n",
       "       'S_DIAB_REASON1', 'S_DIAB_REASON2', 'S_DIAB_REASON3',\n",
       "       'S_DIAB_REASON4', 'S_DIAB_REASON5', 'S_DIAB_REASON6'], dtype=object)"
      ]
     },
     "execution_count": 665,
     "metadata": {},
     "output_type": "execute_result"
    }
   ],
   "source": [
    "df['Scale'].unique()"
   ]
  },
  {
   "cell_type": "code",
   "execution_count": 666,
   "id": "22aa6d95-e2e7-4b53-b2ef-b0a3ac001744",
   "metadata": {},
   "outputs": [],
   "source": [
    "def get_subcat1(s): \n",
    "    t = s.split('_')\n",
    "    return t[1] if len(t) >= 2 else None\n",
    "\n",
    "def get_subcat2(s): \n",
    "    t = s.split('_')\n",
    "    return t[2] if len(t) >= 3 else None\n",
    "    \n",
    "df['Subcat1'] = df['Scale'].apply(get_subcat1) \n",
    "df['Subcat2'] = df['Scale'].apply(get_subcat2) "
   ]
  },
  {
   "cell_type": "code",
   "execution_count": 667,
   "id": "57b0232a-1ed8-4c2a-b643-f1b6afd822eb",
   "metadata": {},
   "outputs": [
    {
     "data": {
      "text/plain": [
       "array(['COVID', 'CORONA', 'HEART', 'HRA', 'SMOKING', 'DIABETES', 'DIAB'],\n",
       "      dtype=object)"
      ]
     },
     "execution_count": 667,
     "metadata": {},
     "output_type": "execute_result"
    }
   ],
   "source": [
    "df['Subcat1'].unique()"
   ]
  },
  {
   "cell_type": "code",
   "execution_count": 668,
   "id": "522f739f-e97a-41e7-a163-819ddc209a67",
   "metadata": {},
   "outputs": [
    {
     "data": {
      "text/html": [
       "<div>\n",
       "<style scoped>\n",
       "    .dataframe tbody tr th:only-of-type {\n",
       "        vertical-align: middle;\n",
       "    }\n",
       "\n",
       "    .dataframe tbody tr th {\n",
       "        vertical-align: top;\n",
       "    }\n",
       "\n",
       "    .dataframe thead th {\n",
       "        text-align: right;\n",
       "    }\n",
       "</style>\n",
       "<table border=\"1\" class=\"dataframe\">\n",
       "  <thead>\n",
       "    <tr style=\"text-align: right;\">\n",
       "      <th></th>\n",
       "      <th>Scale</th>\n",
       "      <th>Description</th>\n",
       "      <th>Value</th>\n",
       "      <th>Meaning</th>\n",
       "      <th>Subcat1</th>\n",
       "      <th>Subcat2</th>\n",
       "    </tr>\n",
       "  </thead>\n",
       "  <tbody>\n",
       "    <tr>\n",
       "      <th>0</th>\n",
       "      <td>S_COVID_SYMPTOMS</td>\n",
       "      <td>How long the user has been experiencing symptoms</td>\n",
       "      <td>1</td>\n",
       "      <td>Less than 3 days</td>\n",
       "      <td>COVID</td>\n",
       "      <td>SYMPTOMS</td>\n",
       "    </tr>\n",
       "    <tr>\n",
       "      <th>1</th>\n",
       "      <td>S_COVID_SYMPTOMS</td>\n",
       "      <td>How long the user has been experiencing symptoms</td>\n",
       "      <td>2</td>\n",
       "      <td>3 to 6 days</td>\n",
       "      <td>COVID</td>\n",
       "      <td>SYMPTOMS</td>\n",
       "    </tr>\n",
       "    <tr>\n",
       "      <th>2</th>\n",
       "      <td>S_COVID_SYMPTOMS</td>\n",
       "      <td>How long the user has been experiencing symptoms</td>\n",
       "      <td>3</td>\n",
       "      <td>7 to 14 days</td>\n",
       "      <td>COVID</td>\n",
       "      <td>SYMPTOMS</td>\n",
       "    </tr>\n",
       "    <tr>\n",
       "      <th>3</th>\n",
       "      <td>S_COVID_SYMPTOMS</td>\n",
       "      <td>How long the user has been experiencing symptoms</td>\n",
       "      <td>4</td>\n",
       "      <td>More than 14 days</td>\n",
       "      <td>COVID</td>\n",
       "      <td>SYMPTOMS</td>\n",
       "    </tr>\n",
       "    <tr>\n",
       "      <th>4</th>\n",
       "      <td>S_COVID_COUGH</td>\n",
       "      <td>Symptom intensity: Coughing</td>\n",
       "      <td>1</td>\n",
       "      <td>User isn’t experiencing symptom</td>\n",
       "      <td>COVID</td>\n",
       "      <td>COUGH</td>\n",
       "    </tr>\n",
       "  </tbody>\n",
       "</table>\n",
       "</div>"
      ],
      "text/plain": [
       "              Scale                                       Description  Value  \\\n",
       "0  S_COVID_SYMPTOMS  How long the user has been experiencing symptoms      1   \n",
       "1  S_COVID_SYMPTOMS  How long the user has been experiencing symptoms      2   \n",
       "2  S_COVID_SYMPTOMS  How long the user has been experiencing symptoms      3   \n",
       "3  S_COVID_SYMPTOMS  How long the user has been experiencing symptoms      4   \n",
       "4     S_COVID_COUGH                       Symptom intensity: Coughing      1   \n",
       "\n",
       "                           Meaning Subcat1   Subcat2  \n",
       "0                 Less than 3 days   COVID  SYMPTOMS  \n",
       "1                      3 to 6 days   COVID  SYMPTOMS  \n",
       "2                     7 to 14 days   COVID  SYMPTOMS  \n",
       "3                More than 14 days   COVID  SYMPTOMS  \n",
       "4  User isn’t experiencing symptom   COVID     COUGH  "
      ]
     },
     "execution_count": 668,
     "metadata": {},
     "output_type": "execute_result"
    }
   ],
   "source": [
    "df.head()"
   ]
  },
  {
   "cell_type": "code",
   "execution_count": 669,
   "id": "03265369-a841-4f5d-a8d5-32aac4a49acc",
   "metadata": {},
   "outputs": [
    {
     "data": {
      "text/html": [
       "<div>\n",
       "<style scoped>\n",
       "    .dataframe tbody tr th:only-of-type {\n",
       "        vertical-align: middle;\n",
       "    }\n",
       "\n",
       "    .dataframe tbody tr th {\n",
       "        vertical-align: top;\n",
       "    }\n",
       "\n",
       "    .dataframe thead th {\n",
       "        text-align: right;\n",
       "    }\n",
       "</style>\n",
       "<table border=\"1\" class=\"dataframe\">\n",
       "  <thead>\n",
       "    <tr style=\"text-align: right;\">\n",
       "      <th></th>\n",
       "      <th>Scale</th>\n",
       "      <th>Description</th>\n",
       "      <th>Value</th>\n",
       "      <th>Meaning</th>\n",
       "      <th>Subcat1</th>\n",
       "      <th>Subcat2</th>\n",
       "    </tr>\n",
       "  </thead>\n",
       "  <tbody>\n",
       "    <tr>\n",
       "      <th>142</th>\n",
       "      <td>S_DIAB_REASON1</td>\n",
       "      <td>Whether the user’s waist circumference is with...</td>\n",
       "      <td>1</td>\n",
       "      <td>Waist circumference is within the norm</td>\n",
       "      <td>DIAB</td>\n",
       "      <td>REASON1</td>\n",
       "    </tr>\n",
       "    <tr>\n",
       "      <th>143</th>\n",
       "      <td>S_DIAB_REASON2</td>\n",
       "      <td>Whether the user is active enough</td>\n",
       "      <td>1</td>\n",
       "      <td>Is active enough</td>\n",
       "      <td>DIAB</td>\n",
       "      <td>REASON2</td>\n",
       "    </tr>\n",
       "    <tr>\n",
       "      <th>144</th>\n",
       "      <td>S_DIAB_REASON3</td>\n",
       "      <td>Whether the user eats healthy</td>\n",
       "      <td>1</td>\n",
       "      <td>Eats healthy</td>\n",
       "      <td>DIAB</td>\n",
       "      <td>REASON3</td>\n",
       "    </tr>\n",
       "    <tr>\n",
       "      <th>145</th>\n",
       "      <td>S_DIAB_REASON4</td>\n",
       "      <td>Whether the user has BP problems</td>\n",
       "      <td>1</td>\n",
       "      <td>No BP problems</td>\n",
       "      <td>DIAB</td>\n",
       "      <td>REASON4</td>\n",
       "    </tr>\n",
       "    <tr>\n",
       "      <th>146</th>\n",
       "      <td>S_DIAB_REASON5</td>\n",
       "      <td>Whether the user’s blood sugar is within the n...</td>\n",
       "      <td>1</td>\n",
       "      <td>Blood sugar is within the norm when taking the...</td>\n",
       "      <td>DIAB</td>\n",
       "      <td>REASON5</td>\n",
       "    </tr>\n",
       "    <tr>\n",
       "      <th>147</th>\n",
       "      <td>S_DIAB_REASON6</td>\n",
       "      <td>Whether the user has a family history of diabetes</td>\n",
       "      <td>1</td>\n",
       "      <td>No family history of diabetes</td>\n",
       "      <td>DIAB</td>\n",
       "      <td>REASON6</td>\n",
       "    </tr>\n",
       "  </tbody>\n",
       "</table>\n",
       "</div>"
      ],
      "text/plain": [
       "              Scale                                        Description  Value  \\\n",
       "142  S_DIAB_REASON1  Whether the user’s waist circumference is with...      1   \n",
       "143  S_DIAB_REASON2                  Whether the user is active enough      1   \n",
       "144  S_DIAB_REASON3                      Whether the user eats healthy      1   \n",
       "145  S_DIAB_REASON4                   Whether the user has BP problems      1   \n",
       "146  S_DIAB_REASON5  Whether the user’s blood sugar is within the n...      1   \n",
       "147  S_DIAB_REASON6  Whether the user has a family history of diabetes      1   \n",
       "\n",
       "                                               Meaning Subcat1  Subcat2  \n",
       "142             Waist circumference is within the norm    DIAB  REASON1  \n",
       "143                                   Is active enough    DIAB  REASON2  \n",
       "144                                       Eats healthy    DIAB  REASON3  \n",
       "145                                     No BP problems    DIAB  REASON4  \n",
       "146  Blood sugar is within the norm when taking the...    DIAB  REASON5  \n",
       "147                      No family history of diabetes    DIAB  REASON6  "
      ]
     },
     "execution_count": 669,
     "metadata": {},
     "output_type": "execute_result"
    }
   ],
   "source": [
    "df[df['Subcat1'] == 'DIAB' ]"
   ]
  },
  {
   "cell_type": "markdown",
   "id": "17335c7f-72c5-417c-85ae-16ed62d05043",
   "metadata": {},
   "source": [
    "❗️**Insights**: \n",
    "\n",
    "- The scales table appears to be an aggregation of all the enumerative or categorical types found across the dataset.\n",
    "- This table allows mapping between the categoricals and their plain-language description, the associated integer value and a concise meaning string.\n",
    "- There is a shallow hierarchy in these types, which we've broken out here into subcategory 1 and subcategory 2.\n",
    "- The top-level division of the data classifications are: 'COVID', 'CORONA', 'HEART', 'HRA', 'SMOKING', 'DIABETES', 'DIAB'.\n",
    "- Many of the measurement scales are boolean values, though some have a range of severity.\n",
    "- The `DIAB` sub-category appears redundant but on closer inspection contains supplemental information on patients with diabetes\n",
    "- Further analysis on this table is of limited value, as it just contains mappings to decode other readings in the dataset"
   ]
  },
  {
   "cell_type": "markdown",
   "id": "fc5f3686-5aaa-49b1-a760-2f28d5178520",
   "metadata": {},
   "source": [
    "### Participants\n",
    "\n",
    "Investigate the study participants table. "
   ]
  },
  {
   "cell_type": "code",
   "execution_count": 792,
   "id": "012173ae-c8f9-4aef-98cc-450034c8bfa8",
   "metadata": {},
   "outputs": [],
   "source": [
    "def table_overview(df): \n",
    "    \"\"\"\n",
    "    Utility function to produce some high-level insights into the provided dataframe\n",
    "    \"\"\"\n",
    "    rows = len(df)\n",
    "    \n",
    "    print(f\"First 5 rows of the dataframe:\")\n",
    "    display(df.head(5))\n",
    "    \n",
    "    print(f\"Numerical column statistics:\")\n",
    "    display(df.describe())\n",
    "    nan_rows = rows - len(df.dropna())\n",
    "    pct_nan = nan_rows/rows*100\n",
    "    comment(f\"<b>Found {rows} rows, of which {nan_rows} ({pct_nan:.1f}%) contain invalid data.<b>\", 'lightblue' if pct_nan < 5 else 'orange')\n",
    "\n",
    "    # Check the integrity of the rows if needed\n",
    "    if pct_nan > 1: \n",
    "        counts = df.count()\n",
    "        for i, column in enumerate(df.columns): \n",
    "            pct_valid = counts.iloc[i]/rows*100\n",
    "            color = \"coral\"\n",
    "            \n",
    "            if pct_valid > 95: \n",
    "                color = \"lightblue\"\n",
    "            elif pct_valid > 80: \n",
    "                color = \"lightgreen\" \n",
    "            elif pct_valid > 50: \n",
    "                color = \"orange\"    \n",
    "            \n",
    "            comment(f\"&nbsp&nbsp<b> - {column}</b> has {counts.iloc[i]} ({pct_valid:.1f}%) valid values\", color)"
   ]
  },
  {
   "cell_type": "code",
   "execution_count": 793,
   "id": "c1638228-a70d-411e-a2d6-c26d9f9ef6dc",
   "metadata": {},
   "outputs": [],
   "source": [
    "df = dfs['participants']"
   ]
  },
  {
   "cell_type": "code",
   "execution_count": 794,
   "id": "a3ed9cac-3060-4c3d-bef8-97c1731bd22b",
   "metadata": {},
   "outputs": [
    {
     "name": "stdout",
     "output_type": "stream",
     "text": [
      "First 5 rows of the dataframe:\n"
     ]
    },
    {
     "data": {
      "text/html": [
       "<div>\n",
       "<style scoped>\n",
       "    .dataframe tbody tr th:only-of-type {\n",
       "        vertical-align: middle;\n",
       "    }\n",
       "\n",
       "    .dataframe tbody tr th {\n",
       "        vertical-align: top;\n",
       "    }\n",
       "\n",
       "    .dataframe thead th {\n",
       "        text-align: right;\n",
       "    }\n",
       "</style>\n",
       "<table border=\"1\" class=\"dataframe\">\n",
       "  <thead>\n",
       "    <tr style=\"text-align: right;\">\n",
       "      <th></th>\n",
       "      <th>user_code</th>\n",
       "      <th>gender</th>\n",
       "      <th>age_range</th>\n",
       "      <th>city</th>\n",
       "      <th>country</th>\n",
       "      <th>height</th>\n",
       "      <th>weight</th>\n",
       "      <th>symptoms_onset</th>\n",
       "    </tr>\n",
       "  </thead>\n",
       "  <tbody>\n",
       "    <tr>\n",
       "      <th>0</th>\n",
       "      <td>007b8190cf</td>\n",
       "      <td>m</td>\n",
       "      <td>25-34</td>\n",
       "      <td>Mandalay</td>\n",
       "      <td>Myanmar</td>\n",
       "      <td>170.18</td>\n",
       "      <td>96.162</td>\n",
       "      <td>NaT</td>\n",
       "    </tr>\n",
       "    <tr>\n",
       "      <th>1</th>\n",
       "      <td>013f6d3e5b</td>\n",
       "      <td>f</td>\n",
       "      <td>18-24</td>\n",
       "      <td>São Paulo</td>\n",
       "      <td>Brazil</td>\n",
       "      <td>174.00</td>\n",
       "      <td>77.300</td>\n",
       "      <td>2020-05-15</td>\n",
       "    </tr>\n",
       "    <tr>\n",
       "      <th>2</th>\n",
       "      <td>01bad5a519</td>\n",
       "      <td>m</td>\n",
       "      <td>45-54</td>\n",
       "      <td>St Petersburg</td>\n",
       "      <td>Russia</td>\n",
       "      <td>178.00</td>\n",
       "      <td>92.000</td>\n",
       "      <td>2020-04-05</td>\n",
       "    </tr>\n",
       "    <tr>\n",
       "      <th>3</th>\n",
       "      <td>0210b20eea</td>\n",
       "      <td>f</td>\n",
       "      <td>25-34</td>\n",
       "      <td>Sochi</td>\n",
       "      <td>Russia</td>\n",
       "      <td>169.00</td>\n",
       "      <td>60.000</td>\n",
       "      <td>2020-05-06</td>\n",
       "    </tr>\n",
       "    <tr>\n",
       "      <th>4</th>\n",
       "      <td>024719e7da</td>\n",
       "      <td>f</td>\n",
       "      <td>45-54</td>\n",
       "      <td>St Petersburg</td>\n",
       "      <td>Russia</td>\n",
       "      <td>158.00</td>\n",
       "      <td>68.500</td>\n",
       "      <td>2020-05-27</td>\n",
       "    </tr>\n",
       "  </tbody>\n",
       "</table>\n",
       "</div>"
      ],
      "text/plain": [
       "    user_code gender age_range           city  country  height  weight  \\\n",
       "0  007b8190cf      m     25-34       Mandalay  Myanmar  170.18  96.162   \n",
       "1  013f6d3e5b      f     18-24      São Paulo   Brazil  174.00  77.300   \n",
       "2  01bad5a519      m     45-54  St Petersburg   Russia  178.00  92.000   \n",
       "3  0210b20eea      f     25-34          Sochi   Russia  169.00  60.000   \n",
       "4  024719e7da      f     45-54  St Petersburg   Russia  158.00  68.500   \n",
       "\n",
       "  symptoms_onset  \n",
       "0            NaT  \n",
       "1     2020-05-15  \n",
       "2     2020-04-05  \n",
       "3     2020-05-06  \n",
       "4     2020-05-27  "
      ]
     },
     "metadata": {},
     "output_type": "display_data"
    },
    {
     "name": "stdout",
     "output_type": "stream",
     "text": [
      "Numerical column statistics:\n"
     ]
    },
    {
     "data": {
      "text/html": [
       "<div>\n",
       "<style scoped>\n",
       "    .dataframe tbody tr th:only-of-type {\n",
       "        vertical-align: middle;\n",
       "    }\n",
       "\n",
       "    .dataframe tbody tr th {\n",
       "        vertical-align: top;\n",
       "    }\n",
       "\n",
       "    .dataframe thead th {\n",
       "        text-align: right;\n",
       "    }\n",
       "</style>\n",
       "<table border=\"1\" class=\"dataframe\">\n",
       "  <thead>\n",
       "    <tr style=\"text-align: right;\">\n",
       "      <th></th>\n",
       "      <th>height</th>\n",
       "      <th>weight</th>\n",
       "      <th>symptoms_onset</th>\n",
       "    </tr>\n",
       "  </thead>\n",
       "  <tbody>\n",
       "    <tr>\n",
       "      <th>count</th>\n",
       "      <td>183.000000</td>\n",
       "      <td>185.000000</td>\n",
       "      <td>147</td>\n",
       "    </tr>\n",
       "    <tr>\n",
       "      <th>mean</th>\n",
       "      <td>169.976393</td>\n",
       "      <td>77.927757</td>\n",
       "      <td>2017-07-18 04:04:53.877551104</td>\n",
       "    </tr>\n",
       "    <tr>\n",
       "      <th>min</th>\n",
       "      <td>132.080000</td>\n",
       "      <td>43.500000</td>\n",
       "      <td>1967-01-30 00:00:00</td>\n",
       "    </tr>\n",
       "    <tr>\n",
       "      <th>25%</th>\n",
       "      <td>163.500000</td>\n",
       "      <td>63.500000</td>\n",
       "      <td>2020-03-22 12:00:00</td>\n",
       "    </tr>\n",
       "    <tr>\n",
       "      <th>50%</th>\n",
       "      <td>168.000000</td>\n",
       "      <td>74.344000</td>\n",
       "      <td>2020-04-10 00:00:00</td>\n",
       "    </tr>\n",
       "    <tr>\n",
       "      <th>75%</th>\n",
       "      <td>174.500000</td>\n",
       "      <td>90.537000</td>\n",
       "      <td>2020-04-29 00:00:00</td>\n",
       "    </tr>\n",
       "    <tr>\n",
       "      <th>max</th>\n",
       "      <td>250.000000</td>\n",
       "      <td>154.221000</td>\n",
       "      <td>2022-04-21 00:00:00</td>\n",
       "    </tr>\n",
       "    <tr>\n",
       "      <th>std</th>\n",
       "      <td>12.400103</td>\n",
       "      <td>19.552541</td>\n",
       "      <td>NaN</td>\n",
       "    </tr>\n",
       "  </tbody>\n",
       "</table>\n",
       "</div>"
      ],
      "text/plain": [
       "           height      weight                 symptoms_onset\n",
       "count  183.000000  185.000000                            147\n",
       "mean   169.976393   77.927757  2017-07-18 04:04:53.877551104\n",
       "min    132.080000   43.500000            1967-01-30 00:00:00\n",
       "25%    163.500000   63.500000            2020-03-22 12:00:00\n",
       "50%    168.000000   74.344000            2020-04-10 00:00:00\n",
       "75%    174.500000   90.537000            2020-04-29 00:00:00\n",
       "max    250.000000  154.221000            2022-04-21 00:00:00\n",
       "std     12.400103   19.552541                            NaN"
      ]
     },
     "metadata": {},
     "output_type": "display_data"
    },
    {
     "data": {
      "text/html": [
       "<div style='background-color:orange'><b>Found 185 rows, of which 49 (26.5%) contain invalid data.<b></div>"
      ],
      "text/plain": [
       "<IPython.core.display.HTML object>"
      ]
     },
     "metadata": {},
     "output_type": "display_data"
    },
    {
     "data": {
      "text/html": [
       "<div style='background-color:lightblue'>&nbsp&nbsp<b> - user_code</b> has 185 (100.0%) valid values</div>"
      ],
      "text/plain": [
       "<IPython.core.display.HTML object>"
      ]
     },
     "metadata": {},
     "output_type": "display_data"
    },
    {
     "data": {
      "text/html": [
       "<div style='background-color:lightblue'>&nbsp&nbsp<b> - gender</b> has 185 (100.0%) valid values</div>"
      ],
      "text/plain": [
       "<IPython.core.display.HTML object>"
      ]
     },
     "metadata": {},
     "output_type": "display_data"
    },
    {
     "data": {
      "text/html": [
       "<div style='background-color:lightblue'>&nbsp&nbsp<b> - age_range</b> has 185 (100.0%) valid values</div>"
      ],
      "text/plain": [
       "<IPython.core.display.HTML object>"
      ]
     },
     "metadata": {},
     "output_type": "display_data"
    },
    {
     "data": {
      "text/html": [
       "<div style='background-color:lightgreen'>&nbsp&nbsp<b> - city</b> has 173 (93.5%) valid values</div>"
      ],
      "text/plain": [
       "<IPython.core.display.HTML object>"
      ]
     },
     "metadata": {},
     "output_type": "display_data"
    },
    {
     "data": {
      "text/html": [
       "<div style='background-color:lightblue'>&nbsp&nbsp<b> - country</b> has 179 (96.8%) valid values</div>"
      ],
      "text/plain": [
       "<IPython.core.display.HTML object>"
      ]
     },
     "metadata": {},
     "output_type": "display_data"
    },
    {
     "data": {
      "text/html": [
       "<div style='background-color:lightblue'>&nbsp&nbsp<b> - height</b> has 183 (98.9%) valid values</div>"
      ],
      "text/plain": [
       "<IPython.core.display.HTML object>"
      ]
     },
     "metadata": {},
     "output_type": "display_data"
    },
    {
     "data": {
      "text/html": [
       "<div style='background-color:lightblue'>&nbsp&nbsp<b> - weight</b> has 185 (100.0%) valid values</div>"
      ],
      "text/plain": [
       "<IPython.core.display.HTML object>"
      ]
     },
     "metadata": {},
     "output_type": "display_data"
    },
    {
     "data": {
      "text/html": [
       "<div style='background-color:orange'>&nbsp&nbsp<b> - symptoms_onset</b> has 147 (79.5%) valid values</div>"
      ],
      "text/plain": [
       "<IPython.core.display.HTML object>"
      ]
     },
     "metadata": {},
     "output_type": "display_data"
    }
   ],
   "source": [
    "table_overview(df)"
   ]
  },
  {
   "cell_type": "markdown",
   "id": "80dce58a-a63e-4c1f-8668-11b7508a4b40",
   "metadata": {},
   "source": [
    "Convert the date to a proper datetime"
   ]
  },
  {
   "cell_type": "code",
   "execution_count": 795,
   "id": "baedb025-0891-48f6-9370-5edc116b3f2c",
   "metadata": {
    "scrolled": true
   },
   "outputs": [],
   "source": [
    "df['symptoms_onset'] = pd.to_datetime(df['symptoms_onset'])"
   ]
  },
  {
   "cell_type": "markdown",
   "id": "e3a2985d-af98-4ce7-b85a-e46f67f572f4",
   "metadata": {},
   "source": [
    "Look at the symptom onset by time reported"
   ]
  },
  {
   "cell_type": "code",
   "execution_count": 796,
   "id": "3a8e6c02-d1bc-42c8-b7d8-d2c123fc693f",
   "metadata": {},
   "outputs": [
    {
     "data": {
      "text/plain": [
       "<Axes: >"
      ]
     },
     "execution_count": 796,
     "metadata": {},
     "output_type": "execute_result"
    },
    {
     "data": {
      "image/png": "[encoded data removed]",
      "text/plain": [
       "<Figure size 640x480 with 1 Axes>"
      ]
     },
     "metadata": {},
     "output_type": "display_data"
    }
   ],
   "source": [
    "df['symptoms_onset'].hist()"
   ]
  },
  {
   "cell_type": "markdown",
   "id": "aa3f9906-79a9-4101-8f8b-f71a7355b572",
   "metadata": {},
   "source": [
    "Omit data that occurs outside of the plausible COVID-19 pandemic infection window"
   ]
  },
  {
   "cell_type": "code",
   "execution_count": 797,
   "id": "dbe95d58-248f-48de-8f9b-b26bcc4e2b76",
   "metadata": {},
   "outputs": [],
   "source": [
    "import datetime\n",
    "df = df[df['symptoms_onset'] > datetime.datetime(2019, 1, 1)]"
   ]
  },
  {
   "cell_type": "code",
   "execution_count": 798,
   "id": "cd946ede-2225-428b-ba34-4059f03a713d",
   "metadata": {},
   "outputs": [
    {
     "data": {
      "image/png": "[encoded data removed]",
      "text/plain": [
       "<Figure size 640x480 with 1 Axes>"
      ]
     },
     "metadata": {},
     "output_type": "display_data"
    }
   ],
   "source": [
    "_ = mpl.pyplot.hist(df['symptoms_onset'], bins=len(df), orientation='vertical')\n",
    "_ = mpl.pyplot.xticks(rotation=90, )"
   ]
  },
  {
   "cell_type": "code",
   "execution_count": 799,
   "id": "5ee2e9bc-9c98-428d-b9c9-52bf49c6a756",
   "metadata": {},
   "outputs": [
    {
     "data": {
      "image/png": "[encoded data removed]",
      "text/plain": [
       "<Figure size 640x480 with 1 Axes>"
      ]
     },
     "metadata": {},
     "output_type": "display_data"
    }
   ],
   "source": [
    "_ = mpl.pyplot.hist(df['height'],bins=len(df))"
   ]
  },
  {
   "cell_type": "code",
   "execution_count": 800,
   "id": "37cfa763-99af-422f-ae0d-f3ccde19a28e",
   "metadata": {},
   "outputs": [
    {
     "data": {
      "image/png": "[encoded data removed]",
      "text/plain": [
       "<Figure size 640x480 with 1 Axes>"
      ]
     },
     "metadata": {},
     "output_type": "display_data"
    }
   ],
   "source": [
    "_ = mpl.pyplot.hist(df['weight'], bins=len(df))"
   ]
  },
  {
   "cell_type": "markdown",
   "id": "fc8df294-b7cc-4533-9f7f-bfd744bd1a74",
   "metadata": {},
   "source": [
    "Look at the distribution of data grouped by various categoricals, omitting any rows with missing information. "
   ]
  },
  {
   "cell_type": "code",
   "execution_count": 801,
   "id": "6dffc1a0-4551-4e94-be92-6877d6eacec7",
   "metadata": {},
   "outputs": [],
   "source": [
    "def box_plot_groups(groups, column): \n",
    "    \"\"\"\n",
    "    Helper function to take a pandas group iterator (returned from df.groupby) and \n",
    "    render an arbitrary number of boxplot subplots, given the column to extract for \n",
    "    each boxplot\n",
    "    \"\"\"\n",
    "    bar_fig, bar_ax = mpl.pyplot.subplots()\n",
    "    bar_fig.suptitle(f\"{column} samples, by group\")\n",
    "    \n",
    "    box_fig, box_ax = mpl.pyplot.subplots()\n",
    "    box_fig.suptitle(f\"{column} distribution, by group\") \n",
    "    \n",
    "    xlabels = [None] * len(groups)\n",
    "    position = 0 \n",
    "    \n",
    "    for name, group in groups: \n",
    "        bar_ax.bar(height=len(group), x=name)\n",
    "        \n",
    "        # Referenced MPL docs here to implement boxplot: https://matplotlib.org/stable/plot_types/stats/boxplot_plot.html#sphx-glr-plot-types-stats-boxplot-plot-py\n",
    "        box_ax.boxplot(group[column], positions=[position])    \n",
    "        \n",
    "        xlabels[position] = name\n",
    "        position = position + 1\n",
    "    \n",
    "    # With help from https://stackabuse.com/rotate-axis-labels-in-matplotlib/: \n",
    "    _ = box_ax.set_xticklabels(xlabels, rotation=90)\n",
    "    \n",
    "    # Avoids complaint from MPL about setting tick labels without fixed ticks, see https://stackoverflow.com/questions/63723514/userwarning-fixedformatter-should-only-be-used-together-with-fixedlocator\n",
    "    _ = bar_ax.set_xticks(xlabels)\n",
    "    _ = bar_ax.set_xticklabels(xlabels, rotation=90)"
   ]
  },
  {
   "cell_type": "code",
   "execution_count": 802,
   "id": "77c1e50a-21f0-4377-a547-91d441419a9b",
   "metadata": {},
   "outputs": [],
   "source": [
    "df = df.dropna(subset=['height', 'weight'])"
   ]
  },
  {
   "cell_type": "code",
   "execution_count": 803,
   "id": "8e1c304d-7364-4220-9206-e1d1b68d24c5",
   "metadata": {},
   "outputs": [],
   "source": [
    "def compute_bmi(h, w): \n",
    "    #cm -> m \n",
    "    h = h/100 \n",
    "    return w/h**2\n",
    "\n",
    "# With cue from https://stackoverflow.com/questions/13331698/how-to-apply-a-function-to-two-columns-of-pandas-dataframe\n",
    "df['bmi'] = df.apply(lambda x: compute_bmi(x.height, x.weight), axis=1) "
   ]
  },
  {
   "cell_type": "code",
   "execution_count": 804,
   "id": "a31bd304-97b3-4a00-9edd-f22a4087538a",
   "metadata": {},
   "outputs": [],
   "source": [
    "country_groups = df.groupby(by='country')"
   ]
  },
  {
   "cell_type": "code",
   "execution_count": 805,
   "id": "94d82b2c-4519-4ddd-bf85-1589d5f5914a",
   "metadata": {},
   "outputs": [
    {
     "data": {
      "image/png": "[encoded data removed]",
      "text/plain": [
       "<Figure size 640x480 with 1 Axes>"
      ]
     },
     "metadata": {},
     "output_type": "display_data"
    },
    {
     "data": {
      "image/png": "[encoded data removed]",
      "text/plain": [
       "<Figure size 640x480 with 1 Axes>"
      ]
     },
     "metadata": {},
     "output_type": "display_data"
    }
   ],
   "source": [
    "box_plot_groups(country_groups, 'bmi')"
   ]
  },
  {
   "cell_type": "code",
   "execution_count": 806,
   "id": "b7065842-b80f-43c0-aefc-6f5e48acaaf2",
   "metadata": {},
   "outputs": [
    {
     "data": {
      "image/png": "[encoded data removed]",
      "text/plain": [
       "<Figure size 640x480 with 1 Axes>"
      ]
     },
     "metadata": {},
     "output_type": "display_data"
    },
    {
     "data": {
      "image/png": "[encoded data removed]",
      "text/plain": [
       "<Figure size 640x480 with 1 Axes>"
      ]
     },
     "metadata": {},
     "output_type": "display_data"
    }
   ],
   "source": [
    "gender_groups = df.groupby(by='gender')\n",
    "box_plot_groups(gender_groups, 'bmi')"
   ]
  },
  {
   "cell_type": "code",
   "execution_count": 807,
   "id": "bb9d072f-1f13-4cae-a49c-c52bf79a796c",
   "metadata": {},
   "outputs": [
    {
     "data": {
      "image/png": "[encoded data removed]",
      "text/plain": [
       "<Figure size 640x480 with 1 Axes>"
      ]
     },
     "metadata": {},
     "output_type": "display_data"
    },
    {
     "data": {
      "image/png": "[encoded data removed]",
      "text/plain": [
       "<Figure size 640x480 with 1 Axes>"
      ]
     },
     "metadata": {},
     "output_type": "display_data"
    }
   ],
   "source": [
    "age_groups = df.groupby(by='age_range')\n",
    "box_plot_groups(age_groups, 'bmi') "
   ]
  },
  {
   "cell_type": "markdown",
   "id": "853d5cc1-1637-4cc1-a453-e3bb5b8909dc",
   "metadata": {},
   "source": [
    "❗️**Insights**: \n",
    "\n",
    "- There are 185 participants in this study each with their own unique hexadecimal user code\n",
    "- The numerical data available here is limited to height and weight, reported in centimeters and kilograms respectively\n",
    "- The time series plot reveals there are erroneous and missing dates for symptom onset, which must be dealt with prior to downstream analysis\n",
    "- In total, ~3/4 of the rows in this table are missing data, which introduces a number of questions: \n",
    "    - Do we treat the asscociated row as an invalid record for all downstream analysis? the interdependence of these tables adds significant complexity here. Illustrative example: a participant with an invalid initial symptom date. If we drop this participant, we need to clean all records for that participant from every table in the dataset. That's not terribly difficult, but is it the right thing to do?\n",
    "    - Do we selectively treat this record as invalid based on the type of informational statistics we're trying to present? running with our example, we could surmise the symptoms reported are all valid (despite the invalid date), and just omit that individual from any analysis that is temporally anchored. \n",
    "    - Do we interpolate the missing values. Again, with our example we would infer that the participants symptoms would have been reported alongside the vast majority of all others circa Q1/Q2 of 2020 and use e.g. the mean reporting date of other submissions as the date for this participant, annotating the interpolation accordingly\n",
    "    - Do we perhaps create a new category to bin these outliers so the data is still analyzed? In our running example of the bad symptom onset time, we could create a \"unknown symptom onset\" category that allows use of the datapoints, but with adequate dislaimer\n",
    "    - Each of the actions enumerated above has consequences that would need to be explained to the party that is ultimately on the receiving end of this analysis (customers, colleagues, future readers of any publications) \n",
    "- Presumably the data was collected opportunistically, but there are significant biases in the data that do not reflect the global distrbution of location, height, weight, or gender\n",
    "- The range of reported symptom onset dates is confusing. A few data points exist years beyond the initial global infection event. This could imply less attention was paid to tracking, self reporting, or aggregating the data after mid-2020. It could also be erroneous given how far these samples lie outside the core distribution. "
   ]
  },
  {
   "cell_type": "markdown",
   "id": "c47670b0-3d51-4465-88d7-01f2a42eb0b9",
   "metadata": {},
   "source": [
    "### Wearables"
   ]
  },
  {
   "cell_type": "code",
   "execution_count": 808,
   "id": "c242a811-b15a-490a-bade-8c56d822df4b",
   "metadata": {},
   "outputs": [],
   "source": [
    "df = dfs['wearables']"
   ]
  },
  {
   "cell_type": "code",
   "execution_count": 809,
   "id": "51cefe1d-8e93-40b6-bc05-c633d92f9335",
   "metadata": {},
   "outputs": [
    {
     "name": "stdout",
     "output_type": "stream",
     "text": [
      "First 5 rows of the dataframe:\n"
     ]
    },
    {
     "data": {
      "text/html": [
       "<div>\n",
       "<style scoped>\n",
       "    .dataframe tbody tr th:only-of-type {\n",
       "        vertical-align: middle;\n",
       "    }\n",
       "\n",
       "    .dataframe tbody tr th {\n",
       "        vertical-align: top;\n",
       "    }\n",
       "\n",
       "    .dataframe thead th {\n",
       "        text-align: right;\n",
       "    }\n",
       "</style>\n",
       "<table border=\"1\" class=\"dataframe\">\n",
       "  <thead>\n",
       "    <tr style=\"text-align: right;\">\n",
       "      <th></th>\n",
       "      <th>user_code</th>\n",
       "      <th>day</th>\n",
       "      <th>resting_pulse</th>\n",
       "      <th>pulse_average</th>\n",
       "      <th>pulse_min</th>\n",
       "      <th>pulse_max</th>\n",
       "      <th>average_spo2_value</th>\n",
       "      <th>body_temperature_avg</th>\n",
       "      <th>stand_hours_total</th>\n",
       "      <th>steps_count</th>\n",
       "      <th>distance</th>\n",
       "      <th>steps_speed</th>\n",
       "      <th>total_number_of_flights_climbed</th>\n",
       "      <th>active_calories_burned</th>\n",
       "      <th>basal_calories_burned</th>\n",
       "      <th>total_calories_burned</th>\n",
       "      <th>average_headphone_exposure</th>\n",
       "      <th>average_environment_exposure</th>\n",
       "    </tr>\n",
       "  </thead>\n",
       "  <tbody>\n",
       "    <tr>\n",
       "      <th>0</th>\n",
       "      <td>007b8190cf</td>\n",
       "      <td>2020-04-26</td>\n",
       "      <td>NaN</td>\n",
       "      <td>70.0</td>\n",
       "      <td>70.0</td>\n",
       "      <td>70.0</td>\n",
       "      <td>NaN</td>\n",
       "      <td>NaN</td>\n",
       "      <td>NaN</td>\n",
       "      <td>NaN</td>\n",
       "      <td>NaN</td>\n",
       "      <td>NaN</td>\n",
       "      <td>NaN</td>\n",
       "      <td>NaN</td>\n",
       "      <td>2859.0</td>\n",
       "      <td>2859.0</td>\n",
       "      <td>NaN</td>\n",
       "      <td>NaN</td>\n",
       "    </tr>\n",
       "    <tr>\n",
       "      <th>1</th>\n",
       "      <td>01bad5a519</td>\n",
       "      <td>2020-02-12</td>\n",
       "      <td>NaN</td>\n",
       "      <td>NaN</td>\n",
       "      <td>NaN</td>\n",
       "      <td>NaN</td>\n",
       "      <td>NaN</td>\n",
       "      <td>NaN</td>\n",
       "      <td>NaN</td>\n",
       "      <td>8574.0</td>\n",
       "      <td>NaN</td>\n",
       "      <td>57.90</td>\n",
       "      <td>NaN</td>\n",
       "      <td>NaN</td>\n",
       "      <td>2624.0</td>\n",
       "      <td>2624.0</td>\n",
       "      <td>NaN</td>\n",
       "      <td>NaN</td>\n",
       "    </tr>\n",
       "    <tr>\n",
       "      <th>2</th>\n",
       "      <td>01bad5a519</td>\n",
       "      <td>2020-02-13</td>\n",
       "      <td>NaN</td>\n",
       "      <td>NaN</td>\n",
       "      <td>NaN</td>\n",
       "      <td>NaN</td>\n",
       "      <td>NaN</td>\n",
       "      <td>NaN</td>\n",
       "      <td>NaN</td>\n",
       "      <td>7462.0</td>\n",
       "      <td>NaN</td>\n",
       "      <td>59.10</td>\n",
       "      <td>NaN</td>\n",
       "      <td>NaN</td>\n",
       "      <td>2624.0</td>\n",
       "      <td>2624.0</td>\n",
       "      <td>NaN</td>\n",
       "      <td>NaN</td>\n",
       "    </tr>\n",
       "    <tr>\n",
       "      <th>3</th>\n",
       "      <td>01bad5a519</td>\n",
       "      <td>2020-02-15</td>\n",
       "      <td>NaN</td>\n",
       "      <td>NaN</td>\n",
       "      <td>NaN</td>\n",
       "      <td>NaN</td>\n",
       "      <td>NaN</td>\n",
       "      <td>NaN</td>\n",
       "      <td>NaN</td>\n",
       "      <td>2507.0</td>\n",
       "      <td>NaN</td>\n",
       "      <td>60.97</td>\n",
       "      <td>NaN</td>\n",
       "      <td>NaN</td>\n",
       "      <td>2624.0</td>\n",
       "      <td>2624.0</td>\n",
       "      <td>NaN</td>\n",
       "      <td>NaN</td>\n",
       "    </tr>\n",
       "    <tr>\n",
       "      <th>4</th>\n",
       "      <td>01bad5a519</td>\n",
       "      <td>2020-02-16</td>\n",
       "      <td>NaN</td>\n",
       "      <td>NaN</td>\n",
       "      <td>NaN</td>\n",
       "      <td>NaN</td>\n",
       "      <td>NaN</td>\n",
       "      <td>NaN</td>\n",
       "      <td>NaN</td>\n",
       "      <td>10131.0</td>\n",
       "      <td>NaN</td>\n",
       "      <td>49.10</td>\n",
       "      <td>NaN</td>\n",
       "      <td>NaN</td>\n",
       "      <td>2624.0</td>\n",
       "      <td>2624.0</td>\n",
       "      <td>NaN</td>\n",
       "      <td>NaN</td>\n",
       "    </tr>\n",
       "  </tbody>\n",
       "</table>\n",
       "</div>"
      ],
      "text/plain": [
       "    user_code         day  resting_pulse  pulse_average  pulse_min  pulse_max  \\\n",
       "0  007b8190cf  2020-04-26            NaN           70.0       70.0       70.0   \n",
       "1  01bad5a519  2020-02-12            NaN            NaN        NaN        NaN   \n",
       "2  01bad5a519  2020-02-13            NaN            NaN        NaN        NaN   \n",
       "3  01bad5a519  2020-02-15            NaN            NaN        NaN        NaN   \n",
       "4  01bad5a519  2020-02-16            NaN            NaN        NaN        NaN   \n",
       "\n",
       "   average_spo2_value  body_temperature_avg  stand_hours_total  steps_count  \\\n",
       "0                 NaN                   NaN                NaN          NaN   \n",
       "1                 NaN                   NaN                NaN       8574.0   \n",
       "2                 NaN                   NaN                NaN       7462.0   \n",
       "3                 NaN                   NaN                NaN       2507.0   \n",
       "4                 NaN                   NaN                NaN      10131.0   \n",
       "\n",
       "   distance  steps_speed  total_number_of_flights_climbed  \\\n",
       "0       NaN          NaN                              NaN   \n",
       "1       NaN        57.90                              NaN   \n",
       "2       NaN        59.10                              NaN   \n",
       "3       NaN        60.97                              NaN   \n",
       "4       NaN        49.10                              NaN   \n",
       "\n",
       "   active_calories_burned  basal_calories_burned  total_calories_burned  \\\n",
       "0                     NaN                 2859.0                 2859.0   \n",
       "1                     NaN                 2624.0                 2624.0   \n",
       "2                     NaN                 2624.0                 2624.0   \n",
       "3                     NaN                 2624.0                 2624.0   \n",
       "4                     NaN                 2624.0                 2624.0   \n",
       "\n",
       "   average_headphone_exposure  average_environment_exposure  \n",
       "0                         NaN                           NaN  \n",
       "1                         NaN                           NaN  \n",
       "2                         NaN                           NaN  \n",
       "3                         NaN                           NaN  \n",
       "4                         NaN                           NaN  "
      ]
     },
     "metadata": {},
     "output_type": "display_data"
    },
    {
     "name": "stdout",
     "output_type": "stream",
     "text": [
      "Numerical column statistics:\n"
     ]
    },
    {
     "data": {
      "text/html": [
       "<div>\n",
       "<style scoped>\n",
       "    .dataframe tbody tr th:only-of-type {\n",
       "        vertical-align: middle;\n",
       "    }\n",
       "\n",
       "    .dataframe tbody tr th {\n",
       "        vertical-align: top;\n",
       "    }\n",
       "\n",
       "    .dataframe thead th {\n",
       "        text-align: right;\n",
       "    }\n",
       "</style>\n",
       "<table border=\"1\" class=\"dataframe\">\n",
       "  <thead>\n",
       "    <tr style=\"text-align: right;\">\n",
       "      <th></th>\n",
       "      <th>resting_pulse</th>\n",
       "      <th>pulse_average</th>\n",
       "      <th>pulse_min</th>\n",
       "      <th>pulse_max</th>\n",
       "      <th>average_spo2_value</th>\n",
       "      <th>body_temperature_avg</th>\n",
       "      <th>stand_hours_total</th>\n",
       "      <th>steps_count</th>\n",
       "      <th>distance</th>\n",
       "      <th>steps_speed</th>\n",
       "      <th>total_number_of_flights_climbed</th>\n",
       "      <th>active_calories_burned</th>\n",
       "      <th>basal_calories_burned</th>\n",
       "      <th>total_calories_burned</th>\n",
       "      <th>average_headphone_exposure</th>\n",
       "      <th>average_environment_exposure</th>\n",
       "    </tr>\n",
       "  </thead>\n",
       "  <tbody>\n",
       "    <tr>\n",
       "      <th>count</th>\n",
       "      <td>1515.000000</td>\n",
       "      <td>2089.000000</td>\n",
       "      <td>2089.000000</td>\n",
       "      <td>2089.000000</td>\n",
       "      <td>40.00000</td>\n",
       "      <td>65.000000</td>\n",
       "      <td>531.000000</td>\n",
       "      <td>1968.000000</td>\n",
       "      <td>1869.000000</td>\n",
       "      <td>1418.000000</td>\n",
       "      <td>1235.000000</td>\n",
       "      <td>1200.000000</td>\n",
       "      <td>3097.000000</td>\n",
       "      <td>3097.00000</td>\n",
       "      <td>230.000000</td>\n",
       "      <td>149.000000</td>\n",
       "    </tr>\n",
       "    <tr>\n",
       "      <th>mean</th>\n",
       "      <td>61.409241</td>\n",
       "      <td>78.084251</td>\n",
       "      <td>63.078506</td>\n",
       "      <td>99.456199</td>\n",
       "      <td>0.96100</td>\n",
       "      <td>36.404615</td>\n",
       "      <td>8.986817</td>\n",
       "      <td>5342.067581</td>\n",
       "      <td>3494.690744</td>\n",
       "      <td>29.700409</td>\n",
       "      <td>16.202429</td>\n",
       "      <td>750.721667</td>\n",
       "      <td>2258.165644</td>\n",
       "      <td>2549.04908</td>\n",
       "      <td>64.027348</td>\n",
       "      <td>54.406040</td>\n",
       "    </tr>\n",
       "    <tr>\n",
       "      <th>std</th>\n",
       "      <td>12.775324</td>\n",
       "      <td>14.366994</td>\n",
       "      <td>14.334455</td>\n",
       "      <td>29.298930</td>\n",
       "      <td>0.02134</td>\n",
       "      <td>0.239394</td>\n",
       "      <td>5.030643</td>\n",
       "      <td>4761.774987</td>\n",
       "      <td>3599.635544</td>\n",
       "      <td>28.068371</td>\n",
       "      <td>20.799798</td>\n",
       "      <td>915.538000</td>\n",
       "      <td>341.462086</td>\n",
       "      <td>804.62248</td>\n",
       "      <td>14.525733</td>\n",
       "      <td>7.028195</td>\n",
       "    </tr>\n",
       "    <tr>\n",
       "      <th>min</th>\n",
       "      <td>40.000000</td>\n",
       "      <td>48.000000</td>\n",
       "      <td>10.000000</td>\n",
       "      <td>48.000000</td>\n",
       "      <td>0.92000</td>\n",
       "      <td>35.800000</td>\n",
       "      <td>1.000000</td>\n",
       "      <td>1.000000</td>\n",
       "      <td>1.000000</td>\n",
       "      <td>0.010000</td>\n",
       "      <td>1.000000</td>\n",
       "      <td>1.000000</td>\n",
       "      <td>81.000000</td>\n",
       "      <td>81.00000</td>\n",
       "      <td>11.650000</td>\n",
       "      <td>31.560000</td>\n",
       "    </tr>\n",
       "    <tr>\n",
       "      <th>25%</th>\n",
       "      <td>52.000000</td>\n",
       "      <td>69.000000</td>\n",
       "      <td>53.000000</td>\n",
       "      <td>76.000000</td>\n",
       "      <td>0.94750</td>\n",
       "      <td>36.200000</td>\n",
       "      <td>4.000000</td>\n",
       "      <td>1456.000000</td>\n",
       "      <td>772.000000</td>\n",
       "      <td>10.400000</td>\n",
       "      <td>3.000000</td>\n",
       "      <td>66.000000</td>\n",
       "      <td>1968.000000</td>\n",
       "      <td>2001.00000</td>\n",
       "      <td>53.607500</td>\n",
       "      <td>52.020000</td>\n",
       "    </tr>\n",
       "    <tr>\n",
       "      <th>50%</th>\n",
       "      <td>58.000000</td>\n",
       "      <td>76.000000</td>\n",
       "      <td>60.000000</td>\n",
       "      <td>96.000000</td>\n",
       "      <td>0.96000</td>\n",
       "      <td>36.400000</td>\n",
       "      <td>10.000000</td>\n",
       "      <td>4477.500000</td>\n",
       "      <td>2687.000000</td>\n",
       "      <td>24.575000</td>\n",
       "      <td>9.000000</td>\n",
       "      <td>180.000000</td>\n",
       "      <td>2271.000000</td>\n",
       "      <td>2353.00000</td>\n",
       "      <td>64.395000</td>\n",
       "      <td>55.150000</td>\n",
       "    </tr>\n",
       "    <tr>\n",
       "      <th>75%</th>\n",
       "      <td>69.000000</td>\n",
       "      <td>85.000000</td>\n",
       "      <td>72.000000</td>\n",
       "      <td>118.000000</td>\n",
       "      <td>0.98000</td>\n",
       "      <td>36.600000</td>\n",
       "      <td>13.000000</td>\n",
       "      <td>7857.250000</td>\n",
       "      <td>5035.000000</td>\n",
       "      <td>44.097500</td>\n",
       "      <td>22.000000</td>\n",
       "      <td>1597.000000</td>\n",
       "      <td>2569.000000</td>\n",
       "      <td>2668.00000</td>\n",
       "      <td>75.215000</td>\n",
       "      <td>57.180000</td>\n",
       "    </tr>\n",
       "    <tr>\n",
       "      <th>max</th>\n",
       "      <td>109.000000</td>\n",
       "      <td>163.000000</td>\n",
       "      <td>122.000000</td>\n",
       "      <td>225.000000</td>\n",
       "      <td>0.99000</td>\n",
       "      <td>36.900000</td>\n",
       "      <td>19.000000</td>\n",
       "      <td>30882.000000</td>\n",
       "      <td>43914.000000</td>\n",
       "      <td>240.000000</td>\n",
       "      <td>164.000000</td>\n",
       "      <td>5423.000000</td>\n",
       "      <td>3395.000000</td>\n",
       "      <td>8418.00000</td>\n",
       "      <td>92.900000</td>\n",
       "      <td>73.160000</td>\n",
       "    </tr>\n",
       "  </tbody>\n",
       "</table>\n",
       "</div>"
      ],
      "text/plain": [
       "       resting_pulse  pulse_average    pulse_min    pulse_max  \\\n",
       "count    1515.000000    2089.000000  2089.000000  2089.000000   \n",
       "mean       61.409241      78.084251    63.078506    99.456199   \n",
       "std        12.775324      14.366994    14.334455    29.298930   \n",
       "min        40.000000      48.000000    10.000000    48.000000   \n",
       "25%        52.000000      69.000000    53.000000    76.000000   \n",
       "50%        58.000000      76.000000    60.000000    96.000000   \n",
       "75%        69.000000      85.000000    72.000000   118.000000   \n",
       "max       109.000000     163.000000   122.000000   225.000000   \n",
       "\n",
       "       average_spo2_value  body_temperature_avg  stand_hours_total  \\\n",
       "count            40.00000             65.000000         531.000000   \n",
       "mean              0.96100             36.404615           8.986817   \n",
       "std               0.02134              0.239394           5.030643   \n",
       "min               0.92000             35.800000           1.000000   \n",
       "25%               0.94750             36.200000           4.000000   \n",
       "50%               0.96000             36.400000          10.000000   \n",
       "75%               0.98000             36.600000          13.000000   \n",
       "max               0.99000             36.900000          19.000000   \n",
       "\n",
       "        steps_count      distance  steps_speed  \\\n",
       "count   1968.000000   1869.000000  1418.000000   \n",
       "mean    5342.067581   3494.690744    29.700409   \n",
       "std     4761.774987   3599.635544    28.068371   \n",
       "min        1.000000      1.000000     0.010000   \n",
       "25%     1456.000000    772.000000    10.400000   \n",
       "50%     4477.500000   2687.000000    24.575000   \n",
       "75%     7857.250000   5035.000000    44.097500   \n",
       "max    30882.000000  43914.000000   240.000000   \n",
       "\n",
       "       total_number_of_flights_climbed  active_calories_burned  \\\n",
       "count                      1235.000000             1200.000000   \n",
       "mean                         16.202429              750.721667   \n",
       "std                          20.799798              915.538000   \n",
       "min                           1.000000                1.000000   \n",
       "25%                           3.000000               66.000000   \n",
       "50%                           9.000000              180.000000   \n",
       "75%                          22.000000             1597.000000   \n",
       "max                         164.000000             5423.000000   \n",
       "\n",
       "       basal_calories_burned  total_calories_burned  \\\n",
       "count            3097.000000             3097.00000   \n",
       "mean             2258.165644             2549.04908   \n",
       "std               341.462086              804.62248   \n",
       "min                81.000000               81.00000   \n",
       "25%              1968.000000             2001.00000   \n",
       "50%              2271.000000             2353.00000   \n",
       "75%              2569.000000             2668.00000   \n",
       "max              3395.000000             8418.00000   \n",
       "\n",
       "       average_headphone_exposure  average_environment_exposure  \n",
       "count                  230.000000                    149.000000  \n",
       "mean                    64.027348                     54.406040  \n",
       "std                     14.525733                      7.028195  \n",
       "min                     11.650000                     31.560000  \n",
       "25%                     53.607500                     52.020000  \n",
       "50%                     64.395000                     55.150000  \n",
       "75%                     75.215000                     57.180000  \n",
       "max                     92.900000                     73.160000  "
      ]
     },
     "metadata": {},
     "output_type": "display_data"
    },
    {
     "data": {
      "text/html": [
       "<div style='background-color:orange'><b>Found 3098 rows, of which 3098 (100.0%) contain invalid data.<b></div>"
      ],
      "text/plain": [
       "<IPython.core.display.HTML object>"
      ]
     },
     "metadata": {},
     "output_type": "display_data"
    },
    {
     "data": {
      "text/html": [
       "<div style='background-color:lightblue'>&nbsp&nbsp<b> - user_code</b> has 3098 (100.0%) valid values</div>"
      ],
      "text/plain": [
       "<IPython.core.display.HTML object>"
      ]
     },
     "metadata": {},
     "output_type": "display_data"
    },
    {
     "data": {
      "text/html": [
       "<div style='background-color:lightblue'>&nbsp&nbsp<b> - day</b> has 3098 (100.0%) valid values</div>"
      ],
      "text/plain": [
       "<IPython.core.display.HTML object>"
      ]
     },
     "metadata": {},
     "output_type": "display_data"
    },
    {
     "data": {
      "text/html": [
       "<div style='background-color:coral'>&nbsp&nbsp<b> - resting_pulse</b> has 1515 (48.9%) valid values</div>"
      ],
      "text/plain": [
       "<IPython.core.display.HTML object>"
      ]
     },
     "metadata": {},
     "output_type": "display_data"
    },
    {
     "data": {
      "text/html": [
       "<div style='background-color:orange'>&nbsp&nbsp<b> - pulse_average</b> has 2089 (67.4%) valid values</div>"
      ],
      "text/plain": [
       "<IPython.core.display.HTML object>"
      ]
     },
     "metadata": {},
     "output_type": "display_data"
    },
    {
     "data": {
      "text/html": [
       "<div style='background-color:orange'>&nbsp&nbsp<b> - pulse_min</b> has 2089 (67.4%) valid values</div>"
      ],
      "text/plain": [
       "<IPython.core.display.HTML object>"
      ]
     },
     "metadata": {},
     "output_type": "display_data"
    },
    {
     "data": {
      "text/html": [
       "<div style='background-color:orange'>&nbsp&nbsp<b> - pulse_max</b> has 2089 (67.4%) valid values</div>"
      ],
      "text/plain": [
       "<IPython.core.display.HTML object>"
      ]
     },
     "metadata": {},
     "output_type": "display_data"
    },
    {
     "data": {
      "text/html": [
       "<div style='background-color:coral'>&nbsp&nbsp<b> - average_spo2_value</b> has 40 (1.3%) valid values</div>"
      ],
      "text/plain": [
       "<IPython.core.display.HTML object>"
      ]
     },
     "metadata": {},
     "output_type": "display_data"
    },
    {
     "data": {
      "text/html": [
       "<div style='background-color:coral'>&nbsp&nbsp<b> - body_temperature_avg</b> has 65 (2.1%) valid values</div>"
      ],
      "text/plain": [
       "<IPython.core.display.HTML object>"
      ]
     },
     "metadata": {},
     "output_type": "display_data"
    },
    {
     "data": {
      "text/html": [
       "<div style='background-color:coral'>&nbsp&nbsp<b> - stand_hours_total</b> has 531 (17.1%) valid values</div>"
      ],
      "text/plain": [
       "<IPython.core.display.HTML object>"
      ]
     },
     "metadata": {},
     "output_type": "display_data"
    },
    {
     "data": {
      "text/html": [
       "<div style='background-color:orange'>&nbsp&nbsp<b> - steps_count</b> has 1968 (63.5%) valid values</div>"
      ],
      "text/plain": [
       "<IPython.core.display.HTML object>"
      ]
     },
     "metadata": {},
     "output_type": "display_data"
    },
    {
     "data": {
      "text/html": [
       "<div style='background-color:orange'>&nbsp&nbsp<b> - distance</b> has 1869 (60.3%) valid values</div>"
      ],
      "text/plain": [
       "<IPython.core.display.HTML object>"
      ]
     },
     "metadata": {},
     "output_type": "display_data"
    },
    {
     "data": {
      "text/html": [
       "<div style='background-color:coral'>&nbsp&nbsp<b> - steps_speed</b> has 1418 (45.8%) valid values</div>"
      ],
      "text/plain": [
       "<IPython.core.display.HTML object>"
      ]
     },
     "metadata": {},
     "output_type": "display_data"
    },
    {
     "data": {
      "text/html": [
       "<div style='background-color:coral'>&nbsp&nbsp<b> - total_number_of_flights_climbed</b> has 1235 (39.9%) valid values</div>"
      ],
      "text/plain": [
       "<IPython.core.display.HTML object>"
      ]
     },
     "metadata": {},
     "output_type": "display_data"
    },
    {
     "data": {
      "text/html": [
       "<div style='background-color:coral'>&nbsp&nbsp<b> - active_calories_burned</b> has 1200 (38.7%) valid values</div>"
      ],
      "text/plain": [
       "<IPython.core.display.HTML object>"
      ]
     },
     "metadata": {},
     "output_type": "display_data"
    },
    {
     "data": {
      "text/html": [
       "<div style='background-color:lightblue'>&nbsp&nbsp<b> - basal_calories_burned</b> has 3097 (100.0%) valid values</div>"
      ],
      "text/plain": [
       "<IPython.core.display.HTML object>"
      ]
     },
     "metadata": {},
     "output_type": "display_data"
    },
    {
     "data": {
      "text/html": [
       "<div style='background-color:lightblue'>&nbsp&nbsp<b> - total_calories_burned</b> has 3097 (100.0%) valid values</div>"
      ],
      "text/plain": [
       "<IPython.core.display.HTML object>"
      ]
     },
     "metadata": {},
     "output_type": "display_data"
    },
    {
     "data": {
      "text/html": [
       "<div style='background-color:coral'>&nbsp&nbsp<b> - average_headphone_exposure</b> has 230 (7.4%) valid values</div>"
      ],
      "text/plain": [
       "<IPython.core.display.HTML object>"
      ]
     },
     "metadata": {},
     "output_type": "display_data"
    },
    {
     "data": {
      "text/html": [
       "<div style='background-color:coral'>&nbsp&nbsp<b> - average_environment_exposure</b> has 149 (4.8%) valid values</div>"
      ],
      "text/plain": [
       "<IPython.core.display.HTML object>"
      ]
     },
     "metadata": {},
     "output_type": "display_data"
    }
   ],
   "source": [
    "table_overview(df)"
   ]
  },
  {
   "cell_type": "markdown",
   "id": "0eeddcb6-bb3c-4214-987c-32b144c0421b",
   "metadata": {},
   "source": [
    "The wearables data appears pretty sparse! Deeper analysis on pulse oximetry (SpO2), body temperature, headphone exposure and environment exposure seem dubious given the relatively small percentages of data contained in the dataset. Alternatively, the calories burned has 100% fill"
   ]
  },
  {
   "cell_type": "code",
   "execution_count": null,
   "id": "13ef007d-5a7c-4ee6-893f-dd8161f9c64f",
   "metadata": {},
   "outputs": [],
   "source": []
  },
  {
   "cell_type": "code",
   "execution_count": 810,
   "id": "e37a7c11-ebb3-4721-9a74-af0ae2d5f515",
   "metadata": {},
   "outputs": [
    {
     "data": {
      "text/plain": [
       "<Axes: >"
      ]
     },
     "execution_count": 810,
     "metadata": {},
     "output_type": "execute_result"
    },
    {
     "data": {
      "image/png": "[encoded data removed]",
      "text/plain": [
       "<Figure size 640x480 with 1 Axes>"
      ]
     },
     "metadata": {},
     "output_type": "display_data"
    }
   ],
   "source": [
    "df.plot()"
   ]
  },
  {
   "cell_type": "markdown",
   "id": "bb108c70-c97e-4462-8e59-ea60cdb60ac6",
   "metadata": {},
   "source": [
    "Have a look at which, if any, of the tracker's data are correlated at the macro level... "
   ]
  },
  {
   "cell_type": "code",
   "execution_count": 811,
   "id": "4ca13ba5-7437-4c34-b534-22d228c52077",
   "metadata": {},
   "outputs": [
    {
     "data": {
      "image/png": "[encoded data removed]",
      "text/plain": [
       "<Figure size 640x480 with 2 Axes>"
      ]
     },
     "metadata": {},
     "output_type": "display_data"
    }
   ],
   "source": [
    "correlation_matrix = df.corr(method='pearson', numeric_only=True)\n",
    "\n",
    "# SNS syntax to color correlation matrix with help from : https://medium.com/@szabo.bibor/how-to-create-a-seaborn-correlation-heatmap-in-python-834c0686b88e)\n",
    "_ = sns.heatmap(correlation_matrix, cmap='coolwarm')"
   ]
  },
  {
   "cell_type": "markdown",
   "id": "172b8130-1b92-42c4-a929-e648b4bb8c05",
   "metadata": {},
   "source": [
    "❗️**Insights**: \n",
    "\n",
    "- Few 'Global' correlations exist here:\n",
    "    - Positive correlation between resting pulse and minimum pulse, which are probably similar measurements for most healthy individuals\n",
    "    - Positive correlation between average pulse and max pulse\n",
    "    - Negaive correlation between max pulse and active calories\n",
    "    - Strong negative correlation between headphone use and standing time, the meaning of which is unclear"
   ]
  },
  {
   "cell_type": "markdown",
   "id": "da6d5bd6-6083-44c3-8890-e145cf1e92a7",
   "metadata": {},
   "source": [
    "### Blood Pressure"
   ]
  },
  {
   "cell_type": "code",
   "execution_count": 812,
   "id": "baf41bef-c5fa-4485-b494-c947c4e1d63e",
   "metadata": {},
   "outputs": [
    {
     "name": "stdout",
     "output_type": "stream",
     "text": [
      "First 5 rows of the dataframe:\n"
     ]
    },
    {
     "data": {
      "text/html": [
       "<div>\n",
       "<style scoped>\n",
       "    .dataframe tbody tr th:only-of-type {\n",
       "        vertical-align: middle;\n",
       "    }\n",
       "\n",
       "    .dataframe tbody tr th {\n",
       "        vertical-align: top;\n",
       "    }\n",
       "\n",
       "    .dataframe thead th {\n",
       "        text-align: right;\n",
       "    }\n",
       "</style>\n",
       "<table border=\"1\" class=\"dataframe\">\n",
       "  <thead>\n",
       "    <tr style=\"text-align: right;\">\n",
       "      <th></th>\n",
       "      <th>user_code</th>\n",
       "      <th>measurement_datetime</th>\n",
       "      <th>diastolic</th>\n",
       "      <th>systolic</th>\n",
       "      <th>functional_changes_index</th>\n",
       "      <th>circulatory_efficiency</th>\n",
       "      <th>kerdo_vegetation_index</th>\n",
       "      <th>robinson_index</th>\n",
       "    </tr>\n",
       "  </thead>\n",
       "  <tbody>\n",
       "    <tr>\n",
       "      <th>0</th>\n",
       "      <td>01bad5a519</td>\n",
       "      <td>2020-04-29  22:33:33</td>\n",
       "      <td>100</td>\n",
       "      <td>150</td>\n",
       "      <td>NaN</td>\n",
       "      <td>NaN</td>\n",
       "      <td>NaN</td>\n",
       "      <td>NaN</td>\n",
       "    </tr>\n",
       "    <tr>\n",
       "      <th>1</th>\n",
       "      <td>01bad5a519</td>\n",
       "      <td>2020-04-30  01:33:33</td>\n",
       "      <td>100</td>\n",
       "      <td>150</td>\n",
       "      <td>NaN</td>\n",
       "      <td>NaN</td>\n",
       "      <td>NaN</td>\n",
       "      <td>NaN</td>\n",
       "    </tr>\n",
       "    <tr>\n",
       "      <th>2</th>\n",
       "      <td>01bad5a519</td>\n",
       "      <td>2020-04-30  09:16:38</td>\n",
       "      <td>95</td>\n",
       "      <td>140</td>\n",
       "      <td>3.38</td>\n",
       "      <td>4545.0</td>\n",
       "      <td>6.0</td>\n",
       "      <td>141.4</td>\n",
       "    </tr>\n",
       "    <tr>\n",
       "      <th>3</th>\n",
       "      <td>01bad5a519</td>\n",
       "      <td>2020-04-30  12:16:38</td>\n",
       "      <td>95</td>\n",
       "      <td>140</td>\n",
       "      <td>NaN</td>\n",
       "      <td>NaN</td>\n",
       "      <td>NaN</td>\n",
       "      <td>NaN</td>\n",
       "    </tr>\n",
       "    <tr>\n",
       "      <th>4</th>\n",
       "      <td>01bad5a519</td>\n",
       "      <td>2020-05-01  06:58:06</td>\n",
       "      <td>80</td>\n",
       "      <td>130</td>\n",
       "      <td>2.89</td>\n",
       "      <td>4000.0</td>\n",
       "      <td>NaN</td>\n",
       "      <td>104.0</td>\n",
       "    </tr>\n",
       "  </tbody>\n",
       "</table>\n",
       "</div>"
      ],
      "text/plain": [
       "    user_code  measurement_datetime  diastolic  systolic  \\\n",
       "0  01bad5a519  2020-04-29  22:33:33        100       150   \n",
       "1  01bad5a519  2020-04-30  01:33:33        100       150   \n",
       "2  01bad5a519  2020-04-30  09:16:38         95       140   \n",
       "3  01bad5a519  2020-04-30  12:16:38         95       140   \n",
       "4  01bad5a519  2020-05-01  06:58:06         80       130   \n",
       "\n",
       "   functional_changes_index  circulatory_efficiency  kerdo_vegetation_index  \\\n",
       "0                       NaN                     NaN                     NaN   \n",
       "1                       NaN                     NaN                     NaN   \n",
       "2                      3.38                  4545.0                     6.0   \n",
       "3                       NaN                     NaN                     NaN   \n",
       "4                      2.89                  4000.0                     NaN   \n",
       "\n",
       "   robinson_index  \n",
       "0             NaN  \n",
       "1             NaN  \n",
       "2           141.4  \n",
       "3             NaN  \n",
       "4           104.0  "
      ]
     },
     "metadata": {},
     "output_type": "display_data"
    },
    {
     "name": "stdout",
     "output_type": "stream",
     "text": [
      "Numerical column statistics:\n"
     ]
    },
    {
     "data": {
      "text/html": [
       "<div>\n",
       "<style scoped>\n",
       "    .dataframe tbody tr th:only-of-type {\n",
       "        vertical-align: middle;\n",
       "    }\n",
       "\n",
       "    .dataframe tbody tr th {\n",
       "        vertical-align: top;\n",
       "    }\n",
       "\n",
       "    .dataframe thead th {\n",
       "        text-align: right;\n",
       "    }\n",
       "</style>\n",
       "<table border=\"1\" class=\"dataframe\">\n",
       "  <thead>\n",
       "    <tr style=\"text-align: right;\">\n",
       "      <th></th>\n",
       "      <th>diastolic</th>\n",
       "      <th>systolic</th>\n",
       "      <th>functional_changes_index</th>\n",
       "      <th>circulatory_efficiency</th>\n",
       "      <th>kerdo_vegetation_index</th>\n",
       "      <th>robinson_index</th>\n",
       "    </tr>\n",
       "  </thead>\n",
       "  <tbody>\n",
       "    <tr>\n",
       "      <th>count</th>\n",
       "      <td>721.000000</td>\n",
       "      <td>721.000000</td>\n",
       "      <td>299.000000</td>\n",
       "      <td>299.000000</td>\n",
       "      <td>283.000000</td>\n",
       "      <td>299.000000</td>\n",
       "    </tr>\n",
       "    <tr>\n",
       "      <th>mean</th>\n",
       "      <td>81.228849</td>\n",
       "      <td>119.441054</td>\n",
       "      <td>2.594013</td>\n",
       "      <td>2735.197057</td>\n",
       "      <td>-15.498233</td>\n",
       "      <td>84.663779</td>\n",
       "    </tr>\n",
       "    <tr>\n",
       "      <th>std</th>\n",
       "      <td>8.865761</td>\n",
       "      <td>10.522578</td>\n",
       "      <td>0.291302</td>\n",
       "      <td>747.882570</td>\n",
       "      <td>18.681233</td>\n",
       "      <td>14.399208</td>\n",
       "    </tr>\n",
       "    <tr>\n",
       "      <th>min</th>\n",
       "      <td>25.000000</td>\n",
       "      <td>63.000000</td>\n",
       "      <td>1.680000</td>\n",
       "      <td>1300.000000</td>\n",
       "      <td>-76.000000</td>\n",
       "      <td>49.500000</td>\n",
       "    </tr>\n",
       "    <tr>\n",
       "      <th>25%</th>\n",
       "      <td>76.000000</td>\n",
       "      <td>113.000000</td>\n",
       "      <td>2.440000</td>\n",
       "      <td>2250.500000</td>\n",
       "      <td>-29.000000</td>\n",
       "      <td>75.580000</td>\n",
       "    </tr>\n",
       "    <tr>\n",
       "      <th>50%</th>\n",
       "      <td>82.000000</td>\n",
       "      <td>120.000000</td>\n",
       "      <td>2.580000</td>\n",
       "      <td>2640.000000</td>\n",
       "      <td>-17.000000</td>\n",
       "      <td>83.220000</td>\n",
       "    </tr>\n",
       "    <tr>\n",
       "      <th>75%</th>\n",
       "      <td>88.000000</td>\n",
       "      <td>126.000000</td>\n",
       "      <td>2.730000</td>\n",
       "      <td>3076.500000</td>\n",
       "      <td>-5.000000</td>\n",
       "      <td>93.170000</td>\n",
       "    </tr>\n",
       "    <tr>\n",
       "      <th>max</th>\n",
       "      <td>101.000000</td>\n",
       "      <td>157.000000</td>\n",
       "      <td>3.510000</td>\n",
       "      <td>7875.000000</td>\n",
       "      <td>45.000000</td>\n",
       "      <td>164.850000</td>\n",
       "    </tr>\n",
       "  </tbody>\n",
       "</table>\n",
       "</div>"
      ],
      "text/plain": [
       "        diastolic    systolic  functional_changes_index  \\\n",
       "count  721.000000  721.000000                299.000000   \n",
       "mean    81.228849  119.441054                  2.594013   \n",
       "std      8.865761   10.522578                  0.291302   \n",
       "min     25.000000   63.000000                  1.680000   \n",
       "25%     76.000000  113.000000                  2.440000   \n",
       "50%     82.000000  120.000000                  2.580000   \n",
       "75%     88.000000  126.000000                  2.730000   \n",
       "max    101.000000  157.000000                  3.510000   \n",
       "\n",
       "       circulatory_efficiency  kerdo_vegetation_index  robinson_index  \n",
       "count              299.000000              283.000000      299.000000  \n",
       "mean              2735.197057              -15.498233       84.663779  \n",
       "std                747.882570               18.681233       14.399208  \n",
       "min               1300.000000              -76.000000       49.500000  \n",
       "25%               2250.500000              -29.000000       75.580000  \n",
       "50%               2640.000000              -17.000000       83.220000  \n",
       "75%               3076.500000               -5.000000       93.170000  \n",
       "max               7875.000000               45.000000      164.850000  "
      ]
     },
     "metadata": {},
     "output_type": "display_data"
    },
    {
     "data": {
      "text/html": [
       "<div style='background-color:orange'><b>Found 721 rows, of which 438 (60.7%) contain invalid data.<b></div>"
      ],
      "text/plain": [
       "<IPython.core.display.HTML object>"
      ]
     },
     "metadata": {},
     "output_type": "display_data"
    },
    {
     "data": {
      "text/html": [
       "<div style='background-color:lightblue'>&nbsp&nbsp<b> - user_code</b> has 721 (100.0%) valid values</div>"
      ],
      "text/plain": [
       "<IPython.core.display.HTML object>"
      ]
     },
     "metadata": {},
     "output_type": "display_data"
    },
    {
     "data": {
      "text/html": [
       "<div style='background-color:lightblue'>&nbsp&nbsp<b> - measurement_datetime</b> has 721 (100.0%) valid values</div>"
      ],
      "text/plain": [
       "<IPython.core.display.HTML object>"
      ]
     },
     "metadata": {},
     "output_type": "display_data"
    },
    {
     "data": {
      "text/html": [
       "<div style='background-color:lightblue'>&nbsp&nbsp<b> - diastolic</b> has 721 (100.0%) valid values</div>"
      ],
      "text/plain": [
       "<IPython.core.display.HTML object>"
      ]
     },
     "metadata": {},
     "output_type": "display_data"
    },
    {
     "data": {
      "text/html": [
       "<div style='background-color:lightblue'>&nbsp&nbsp<b> - systolic</b> has 721 (100.0%) valid values</div>"
      ],
      "text/plain": [
       "<IPython.core.display.HTML object>"
      ]
     },
     "metadata": {},
     "output_type": "display_data"
    },
    {
     "data": {
      "text/html": [
       "<div style='background-color:coral'>&nbsp&nbsp<b> - functional_changes_index</b> has 299 (41.5%) valid values</div>"
      ],
      "text/plain": [
       "<IPython.core.display.HTML object>"
      ]
     },
     "metadata": {},
     "output_type": "display_data"
    },
    {
     "data": {
      "text/html": [
       "<div style='background-color:coral'>&nbsp&nbsp<b> - circulatory_efficiency</b> has 299 (41.5%) valid values</div>"
      ],
      "text/plain": [
       "<IPython.core.display.HTML object>"
      ]
     },
     "metadata": {},
     "output_type": "display_data"
    },
    {
     "data": {
      "text/html": [
       "<div style='background-color:coral'>&nbsp&nbsp<b> - kerdo_vegetation_index</b> has 283 (39.3%) valid values</div>"
      ],
      "text/plain": [
       "<IPython.core.display.HTML object>"
      ]
     },
     "metadata": {},
     "output_type": "display_data"
    },
    {
     "data": {
      "text/html": [
       "<div style='background-color:coral'>&nbsp&nbsp<b> - robinson_index</b> has 299 (41.5%) valid values</div>"
      ],
      "text/plain": [
       "<IPython.core.display.HTML object>"
      ]
     },
     "metadata": {},
     "output_type": "display_data"
    }
   ],
   "source": [
    "df = dfs['blood_pressure']\n",
    "table_overview(df)"
   ]
  },
  {
   "cell_type": "markdown",
   "id": "c903865e-d8dc-426a-8d54-74ba05c7e012",
   "metadata": {},
   "source": [
    "### Surveys"
   ]
  },
  {
   "cell_type": "code",
   "execution_count": 813,
   "id": "17a5b4f7-10eb-4640-9cd2-11e68fa27443",
   "metadata": {},
   "outputs": [
    {
     "name": "stdout",
     "output_type": "stream",
     "text": [
      "First 5 rows of the dataframe:\n"
     ]
    },
    {
     "data": {
      "text/html": [
       "<div>\n",
       "<style scoped>\n",
       "    .dataframe tbody tr th:only-of-type {\n",
       "        vertical-align: middle;\n",
       "    }\n",
       "\n",
       "    .dataframe tbody tr th {\n",
       "        vertical-align: top;\n",
       "    }\n",
       "\n",
       "    .dataframe thead th {\n",
       "        text-align: right;\n",
       "    }\n",
       "</style>\n",
       "<table border=\"1\" class=\"dataframe\">\n",
       "  <thead>\n",
       "    <tr style=\"text-align: right;\">\n",
       "      <th></th>\n",
       "      <th>user_code</th>\n",
       "      <th>scale</th>\n",
       "      <th>created_at</th>\n",
       "      <th>value</th>\n",
       "      <th>text</th>\n",
       "    </tr>\n",
       "  </thead>\n",
       "  <tbody>\n",
       "    <tr>\n",
       "      <th>0</th>\n",
       "      <td>01bad5a519</td>\n",
       "      <td>S_CORONA</td>\n",
       "      <td>2020-04-23</td>\n",
       "      <td>2</td>\n",
       "      <td>Symptoms are characteristic of coronavirus</td>\n",
       "    </tr>\n",
       "    <tr>\n",
       "      <th>1</th>\n",
       "      <td>01bad5a519</td>\n",
       "      <td>S_COVID_BLUISH</td>\n",
       "      <td>2020-04-23</td>\n",
       "      <td>1</td>\n",
       "      <td>User isn’t experiencing symptom</td>\n",
       "    </tr>\n",
       "    <tr>\n",
       "      <th>2</th>\n",
       "      <td>01bad5a519</td>\n",
       "      <td>S_COVID_BLUISH</td>\n",
       "      <td>2020-04-25</td>\n",
       "      <td>1</td>\n",
       "      <td>User isn’t experiencing symptom</td>\n",
       "    </tr>\n",
       "    <tr>\n",
       "      <th>3</th>\n",
       "      <td>01bad5a519</td>\n",
       "      <td>S_COVID_BLUISH</td>\n",
       "      <td>2020-04-27</td>\n",
       "      <td>1</td>\n",
       "      <td>User isn’t experiencing symptom</td>\n",
       "    </tr>\n",
       "    <tr>\n",
       "      <th>4</th>\n",
       "      <td>01bad5a519</td>\n",
       "      <td>S_COVID_BLUISH</td>\n",
       "      <td>2020-04-29</td>\n",
       "      <td>1</td>\n",
       "      <td>User isn’t experiencing symptom</td>\n",
       "    </tr>\n",
       "  </tbody>\n",
       "</table>\n",
       "</div>"
      ],
      "text/plain": [
       "    user_code           scale  created_at  value  \\\n",
       "0  01bad5a519        S_CORONA  2020-04-23      2   \n",
       "1  01bad5a519  S_COVID_BLUISH  2020-04-23      1   \n",
       "2  01bad5a519  S_COVID_BLUISH  2020-04-25      1   \n",
       "3  01bad5a519  S_COVID_BLUISH  2020-04-27      1   \n",
       "4  01bad5a519  S_COVID_BLUISH  2020-04-29      1   \n",
       "\n",
       "                                         text  \n",
       "0  Symptoms are characteristic of coronavirus  \n",
       "1             User isn’t experiencing symptom  \n",
       "2             User isn’t experiencing symptom  \n",
       "3             User isn’t experiencing symptom  \n",
       "4             User isn’t experiencing symptom  "
      ]
     },
     "metadata": {},
     "output_type": "display_data"
    },
    {
     "name": "stdout",
     "output_type": "stream",
     "text": [
      "Numerical column statistics:\n"
     ]
    },
    {
     "data": {
      "text/html": [
       "<div>\n",
       "<style scoped>\n",
       "    .dataframe tbody tr th:only-of-type {\n",
       "        vertical-align: middle;\n",
       "    }\n",
       "\n",
       "    .dataframe tbody tr th {\n",
       "        vertical-align: top;\n",
       "    }\n",
       "\n",
       "    .dataframe thead th {\n",
       "        text-align: right;\n",
       "    }\n",
       "</style>\n",
       "<table border=\"1\" class=\"dataframe\">\n",
       "  <thead>\n",
       "    <tr style=\"text-align: right;\">\n",
       "      <th></th>\n",
       "      <th>value</th>\n",
       "    </tr>\n",
       "  </thead>\n",
       "  <tbody>\n",
       "    <tr>\n",
       "      <th>count</th>\n",
       "      <td>2259.000000</td>\n",
       "    </tr>\n",
       "    <tr>\n",
       "      <th>mean</th>\n",
       "      <td>2.364763</td>\n",
       "    </tr>\n",
       "    <tr>\n",
       "      <th>std</th>\n",
       "      <td>1.554934</td>\n",
       "    </tr>\n",
       "    <tr>\n",
       "      <th>min</th>\n",
       "      <td>1.000000</td>\n",
       "    </tr>\n",
       "    <tr>\n",
       "      <th>25%</th>\n",
       "      <td>1.000000</td>\n",
       "    </tr>\n",
       "    <tr>\n",
       "      <th>50%</th>\n",
       "      <td>2.000000</td>\n",
       "    </tr>\n",
       "    <tr>\n",
       "      <th>75%</th>\n",
       "      <td>4.000000</td>\n",
       "    </tr>\n",
       "    <tr>\n",
       "      <th>max</th>\n",
       "      <td>6.000000</td>\n",
       "    </tr>\n",
       "  </tbody>\n",
       "</table>\n",
       "</div>"
      ],
      "text/plain": [
       "             value\n",
       "count  2259.000000\n",
       "mean      2.364763\n",
       "std       1.554934\n",
       "min       1.000000\n",
       "25%       1.000000\n",
       "50%       2.000000\n",
       "75%       4.000000\n",
       "max       6.000000"
      ]
     },
     "metadata": {},
     "output_type": "display_data"
    },
    {
     "data": {
      "text/html": [
       "<div style='background-color:lightblue'><b>Found 2259 rows, of which 0 (0.0%) contain invalid data.<b></div>"
      ],
      "text/plain": [
       "<IPython.core.display.HTML object>"
      ]
     },
     "metadata": {},
     "output_type": "display_data"
    }
   ],
   "source": [
    "df = dfs['surveys']\n",
    "table_overview(df)"
   ]
  },
  {
   "cell_type": "markdown",
   "id": "46e5f4f6-9f5e-4154-b8d0-0b1d20502b8e",
   "metadata": {},
   "source": [
    "### Heart Rate"
   ]
  },
  {
   "cell_type": "code",
   "execution_count": 814,
   "id": "c355221c-1186-415f-bd6a-479b88cc232f",
   "metadata": {},
   "outputs": [
    {
     "name": "stdout",
     "output_type": "stream",
     "text": [
      "First 5 rows of the dataframe:\n"
     ]
    },
    {
     "data": {
      "text/html": [
       "<div>\n",
       "<style scoped>\n",
       "    .dataframe tbody tr th:only-of-type {\n",
       "        vertical-align: middle;\n",
       "    }\n",
       "\n",
       "    .dataframe tbody tr th {\n",
       "        vertical-align: top;\n",
       "    }\n",
       "\n",
       "    .dataframe thead th {\n",
       "        text-align: right;\n",
       "    }\n",
       "</style>\n",
       "<table border=\"1\" class=\"dataframe\">\n",
       "  <thead>\n",
       "    <tr style=\"text-align: right;\">\n",
       "      <th></th>\n",
       "      <th>user_code</th>\n",
       "      <th>datetime</th>\n",
       "      <th>heart_rate</th>\n",
       "      <th>is_resting</th>\n",
       "    </tr>\n",
       "  </thead>\n",
       "  <tbody>\n",
       "    <tr>\n",
       "      <th>0</th>\n",
       "      <td>007b8190cf</td>\n",
       "      <td>2020-04-26 04:49:25</td>\n",
       "      <td>70</td>\n",
       "      <td>0</td>\n",
       "    </tr>\n",
       "    <tr>\n",
       "      <th>1</th>\n",
       "      <td>01bad5a519</td>\n",
       "      <td>2020-04-23 06:21:03</td>\n",
       "      <td>74</td>\n",
       "      <td>0</td>\n",
       "    </tr>\n",
       "    <tr>\n",
       "      <th>2</th>\n",
       "      <td>01bad5a519</td>\n",
       "      <td>2020-04-23 09:46:01</td>\n",
       "      <td>82</td>\n",
       "      <td>0</td>\n",
       "    </tr>\n",
       "    <tr>\n",
       "      <th>3</th>\n",
       "      <td>01bad5a519</td>\n",
       "      <td>2020-04-23 14:05:06</td>\n",
       "      <td>90</td>\n",
       "      <td>0</td>\n",
       "    </tr>\n",
       "    <tr>\n",
       "      <th>4</th>\n",
       "      <td>01bad5a519</td>\n",
       "      <td>2020-04-24 03:41:18</td>\n",
       "      <td>72</td>\n",
       "      <td>0</td>\n",
       "    </tr>\n",
       "  </tbody>\n",
       "</table>\n",
       "</div>"
      ],
      "text/plain": [
       "    user_code             datetime  heart_rate  is_resting\n",
       "0  007b8190cf  2020-04-26 04:49:25          70           0\n",
       "1  01bad5a519  2020-04-23 06:21:03          74           0\n",
       "2  01bad5a519  2020-04-23 09:46:01          82           0\n",
       "3  01bad5a519  2020-04-23 14:05:06          90           0\n",
       "4  01bad5a519  2020-04-24 03:41:18          72           0"
      ]
     },
     "metadata": {},
     "output_type": "display_data"
    },
    {
     "name": "stdout",
     "output_type": "stream",
     "text": [
      "Numerical column statistics:\n"
     ]
    },
    {
     "data": {
      "text/html": [
       "<div>\n",
       "<style scoped>\n",
       "    .dataframe tbody tr th:only-of-type {\n",
       "        vertical-align: middle;\n",
       "    }\n",
       "\n",
       "    .dataframe tbody tr th {\n",
       "        vertical-align: top;\n",
       "    }\n",
       "\n",
       "    .dataframe thead th {\n",
       "        text-align: right;\n",
       "    }\n",
       "</style>\n",
       "<table border=\"1\" class=\"dataframe\">\n",
       "  <thead>\n",
       "    <tr style=\"text-align: right;\">\n",
       "      <th></th>\n",
       "      <th>heart_rate</th>\n",
       "      <th>is_resting</th>\n",
       "    </tr>\n",
       "  </thead>\n",
       "  <tbody>\n",
       "    <tr>\n",
       "      <th>count</th>\n",
       "      <td>523783.000000</td>\n",
       "      <td>523783.000000</td>\n",
       "    </tr>\n",
       "    <tr>\n",
       "      <th>mean</th>\n",
       "      <td>90.856626</td>\n",
       "      <td>0.005546</td>\n",
       "    </tr>\n",
       "    <tr>\n",
       "      <th>std</th>\n",
       "      <td>25.054152</td>\n",
       "      <td>0.074266</td>\n",
       "    </tr>\n",
       "    <tr>\n",
       "      <th>min</th>\n",
       "      <td>10.000000</td>\n",
       "      <td>0.000000</td>\n",
       "    </tr>\n",
       "    <tr>\n",
       "      <th>25%</th>\n",
       "      <td>71.000000</td>\n",
       "      <td>0.000000</td>\n",
       "    </tr>\n",
       "    <tr>\n",
       "      <th>50%</th>\n",
       "      <td>87.000000</td>\n",
       "      <td>0.000000</td>\n",
       "    </tr>\n",
       "    <tr>\n",
       "      <th>75%</th>\n",
       "      <td>108.000000</td>\n",
       "      <td>0.000000</td>\n",
       "    </tr>\n",
       "    <tr>\n",
       "      <th>max</th>\n",
       "      <td>232.000000</td>\n",
       "      <td>1.000000</td>\n",
       "    </tr>\n",
       "  </tbody>\n",
       "</table>\n",
       "</div>"
      ],
      "text/plain": [
       "          heart_rate     is_resting\n",
       "count  523783.000000  523783.000000\n",
       "mean       90.856626       0.005546\n",
       "std        25.054152       0.074266\n",
       "min        10.000000       0.000000\n",
       "25%        71.000000       0.000000\n",
       "50%        87.000000       0.000000\n",
       "75%       108.000000       0.000000\n",
       "max       232.000000       1.000000"
      ]
     },
     "metadata": {},
     "output_type": "display_data"
    },
    {
     "data": {
      "text/html": [
       "<div style='background-color:lightblue'><b>Found 523783 rows, of which 0 (0.0%) contain invalid data.<b></div>"
      ],
      "text/plain": [
       "<IPython.core.display.HTML object>"
      ]
     },
     "metadata": {},
     "output_type": "display_data"
    }
   ],
   "source": [
    "df = dfs['heart_rate']\n",
    "table_overview(df)"
   ]
  },
  {
   "cell_type": "markdown",
   "id": "88feba8b-99c5-4b40-b19a-8ac9df0f4569",
   "metadata": {},
   "source": [
    "### Weather"
   ]
  },
  {
   "cell_type": "code",
   "execution_count": 815,
   "id": "4cee24bf-554b-4249-b870-01de17d84172",
   "metadata": {},
   "outputs": [
    {
     "name": "stdout",
     "output_type": "stream",
     "text": [
      "First 5 rows of the dataframe:\n"
     ]
    },
    {
     "data": {
      "text/html": [
       "<div>\n",
       "<style scoped>\n",
       "    .dataframe tbody tr th:only-of-type {\n",
       "        vertical-align: middle;\n",
       "    }\n",
       "\n",
       "    .dataframe tbody tr th {\n",
       "        vertical-align: top;\n",
       "    }\n",
       "\n",
       "    .dataframe thead th {\n",
       "        text-align: right;\n",
       "    }\n",
       "</style>\n",
       "<table border=\"1\" class=\"dataframe\">\n",
       "  <thead>\n",
       "    <tr style=\"text-align: right;\">\n",
       "      <th></th>\n",
       "      <th>user_code</th>\n",
       "      <th>day</th>\n",
       "      <th>avg_temperature_C</th>\n",
       "      <th>atmospheric_pressure</th>\n",
       "      <th>precip_intensity</th>\n",
       "      <th>humidity</th>\n",
       "      <th>clouds</th>\n",
       "    </tr>\n",
       "  </thead>\n",
       "  <tbody>\n",
       "    <tr>\n",
       "      <th>0</th>\n",
       "      <td>013f6d3e5b</td>\n",
       "      <td>2020-05-22</td>\n",
       "      <td>18.0667</td>\n",
       "      <td>1017.6</td>\n",
       "      <td>0.0002</td>\n",
       "      <td>70.0</td>\n",
       "      <td>67.0</td>\n",
       "    </tr>\n",
       "    <tr>\n",
       "      <th>1</th>\n",
       "      <td>01bad5a519</td>\n",
       "      <td>2020-01-11</td>\n",
       "      <td>-1.2111</td>\n",
       "      <td>1016.4</td>\n",
       "      <td>0.0002</td>\n",
       "      <td>92.0</td>\n",
       "      <td>6.0</td>\n",
       "    </tr>\n",
       "    <tr>\n",
       "      <th>2</th>\n",
       "      <td>01bad5a519</td>\n",
       "      <td>2020-01-30</td>\n",
       "      <td>0.5056</td>\n",
       "      <td>1004.7</td>\n",
       "      <td>0.0009</td>\n",
       "      <td>85.0</td>\n",
       "      <td>100.0</td>\n",
       "    </tr>\n",
       "    <tr>\n",
       "      <th>3</th>\n",
       "      <td>01bad5a519</td>\n",
       "      <td>2020-04-02</td>\n",
       "      <td>-0.2444</td>\n",
       "      <td>994.4</td>\n",
       "      <td>0.0025</td>\n",
       "      <td>91.0</td>\n",
       "      <td>87.0</td>\n",
       "    </tr>\n",
       "    <tr>\n",
       "      <th>4</th>\n",
       "      <td>01bad5a519</td>\n",
       "      <td>2020-04-12</td>\n",
       "      <td>5.1778</td>\n",
       "      <td>1016.1</td>\n",
       "      <td>0.0000</td>\n",
       "      <td>61.0</td>\n",
       "      <td>91.0</td>\n",
       "    </tr>\n",
       "  </tbody>\n",
       "</table>\n",
       "</div>"
      ],
      "text/plain": [
       "    user_code         day  avg_temperature_C  atmospheric_pressure  \\\n",
       "0  013f6d3e5b  2020-05-22            18.0667                1017.6   \n",
       "1  01bad5a519  2020-01-11            -1.2111                1016.4   \n",
       "2  01bad5a519  2020-01-30             0.5056                1004.7   \n",
       "3  01bad5a519  2020-04-02            -0.2444                 994.4   \n",
       "4  01bad5a519  2020-04-12             5.1778                1016.1   \n",
       "\n",
       "   precip_intensity  humidity  clouds  \n",
       "0            0.0002      70.0    67.0  \n",
       "1            0.0002      92.0     6.0  \n",
       "2            0.0009      85.0   100.0  \n",
       "3            0.0025      91.0    87.0  \n",
       "4            0.0000      61.0    91.0  "
      ]
     },
     "metadata": {},
     "output_type": "display_data"
    },
    {
     "name": "stdout",
     "output_type": "stream",
     "text": [
      "Numerical column statistics:\n"
     ]
    },
    {
     "data": {
      "text/html": [
       "<div>\n",
       "<style scoped>\n",
       "    .dataframe tbody tr th:only-of-type {\n",
       "        vertical-align: middle;\n",
       "    }\n",
       "\n",
       "    .dataframe tbody tr th {\n",
       "        vertical-align: top;\n",
       "    }\n",
       "\n",
       "    .dataframe thead th {\n",
       "        text-align: right;\n",
       "    }\n",
       "</style>\n",
       "<table border=\"1\" class=\"dataframe\">\n",
       "  <thead>\n",
       "    <tr style=\"text-align: right;\">\n",
       "      <th></th>\n",
       "      <th>avg_temperature_C</th>\n",
       "      <th>atmospheric_pressure</th>\n",
       "      <th>precip_intensity</th>\n",
       "      <th>humidity</th>\n",
       "      <th>clouds</th>\n",
       "    </tr>\n",
       "  </thead>\n",
       "  <tbody>\n",
       "    <tr>\n",
       "      <th>count</th>\n",
       "      <td>1717.000000</td>\n",
       "      <td>1717.000000</td>\n",
       "      <td>1717.000000</td>\n",
       "      <td>1717.000000</td>\n",
       "      <td>1717.000000</td>\n",
       "    </tr>\n",
       "    <tr>\n",
       "      <th>mean</th>\n",
       "      <td>11.839221</td>\n",
       "      <td>1014.111639</td>\n",
       "      <td>0.003803</td>\n",
       "      <td>66.376586</td>\n",
       "      <td>56.401734</td>\n",
       "    </tr>\n",
       "    <tr>\n",
       "      <th>std</th>\n",
       "      <td>7.769565</td>\n",
       "      <td>8.356792</td>\n",
       "      <td>0.015348</td>\n",
       "      <td>19.339670</td>\n",
       "      <td>35.048917</td>\n",
       "    </tr>\n",
       "    <tr>\n",
       "      <th>min</th>\n",
       "      <td>-13.150000</td>\n",
       "      <td>984.300000</td>\n",
       "      <td>0.000000</td>\n",
       "      <td>3.000000</td>\n",
       "      <td>0.000000</td>\n",
       "    </tr>\n",
       "    <tr>\n",
       "      <th>25%</th>\n",
       "      <td>6.472200</td>\n",
       "      <td>1009.000000</td>\n",
       "      <td>0.000000</td>\n",
       "      <td>54.000000</td>\n",
       "      <td>24.500000</td>\n",
       "    </tr>\n",
       "    <tr>\n",
       "      <th>50%</th>\n",
       "      <td>11.272200</td>\n",
       "      <td>1014.100000</td>\n",
       "      <td>0.000200</td>\n",
       "      <td>68.000000</td>\n",
       "      <td>61.500000</td>\n",
       "    </tr>\n",
       "    <tr>\n",
       "      <th>75%</th>\n",
       "      <td>16.663900</td>\n",
       "      <td>1019.566700</td>\n",
       "      <td>0.001700</td>\n",
       "      <td>81.000000</td>\n",
       "      <td>91.000000</td>\n",
       "    </tr>\n",
       "    <tr>\n",
       "      <th>max</th>\n",
       "      <td>44.072200</td>\n",
       "      <td>1047.750000</td>\n",
       "      <td>0.256700</td>\n",
       "      <td>100.000000</td>\n",
       "      <td>100.000000</td>\n",
       "    </tr>\n",
       "  </tbody>\n",
       "</table>\n",
       "</div>"
      ],
      "text/plain": [
       "       avg_temperature_C  atmospheric_pressure  precip_intensity     humidity  \\\n",
       "count        1717.000000           1717.000000       1717.000000  1717.000000   \n",
       "mean           11.839221           1014.111639          0.003803    66.376586   \n",
       "std             7.769565              8.356792          0.015348    19.339670   \n",
       "min           -13.150000            984.300000          0.000000     3.000000   \n",
       "25%             6.472200           1009.000000          0.000000    54.000000   \n",
       "50%            11.272200           1014.100000          0.000200    68.000000   \n",
       "75%            16.663900           1019.566700          0.001700    81.000000   \n",
       "max            44.072200           1047.750000          0.256700   100.000000   \n",
       "\n",
       "            clouds  \n",
       "count  1717.000000  \n",
       "mean     56.401734  \n",
       "std      35.048917  \n",
       "min       0.000000  \n",
       "25%      24.500000  \n",
       "50%      61.500000  \n",
       "75%      91.000000  \n",
       "max     100.000000  "
      ]
     },
     "metadata": {},
     "output_type": "display_data"
    },
    {
     "data": {
      "text/html": [
       "<div style='background-color:lightblue'><b>Found 1717 rows, of which 0 (0.0%) contain invalid data.<b></div>"
      ],
      "text/plain": [
       "<IPython.core.display.HTML object>"
      ]
     },
     "metadata": {},
     "output_type": "display_data"
    }
   ],
   "source": [
    "df = dfs['weather']\n",
    "table_overview(df) "
   ]
  },
  {
   "cell_type": "markdown",
   "id": "81003d57-b987-42bd-82cf-a65a67e2ebda",
   "metadata": {},
   "source": [
    "### HRV Measurements"
   ]
  },
  {
   "cell_type": "code",
   "execution_count": 816,
   "id": "35a96562-e0a5-447d-b512-c9b4307151cb",
   "metadata": {},
   "outputs": [
    {
     "name": "stdout",
     "output_type": "stream",
     "text": [
      "First 5 rows of the dataframe:\n"
     ]
    },
    {
     "data": {
      "text/html": [
       "<div>\n",
       "<style scoped>\n",
       "    .dataframe tbody tr th:only-of-type {\n",
       "        vertical-align: middle;\n",
       "    }\n",
       "\n",
       "    .dataframe tbody tr th {\n",
       "        vertical-align: top;\n",
       "    }\n",
       "\n",
       "    .dataframe thead th {\n",
       "        text-align: right;\n",
       "    }\n",
       "</style>\n",
       "<table border=\"1\" class=\"dataframe\">\n",
       "  <thead>\n",
       "    <tr style=\"text-align: right;\">\n",
       "      <th></th>\n",
       "      <th>user_code</th>\n",
       "      <th>rr_code</th>\n",
       "      <th>measurement_datetime</th>\n",
       "      <th>time_of_day</th>\n",
       "      <th>bpm</th>\n",
       "      <th>meanrr</th>\n",
       "      <th>mxdmn</th>\n",
       "      <th>sdnn</th>\n",
       "      <th>rmssd</th>\n",
       "      <th>pnn50</th>\n",
       "      <th>...</th>\n",
       "      <th>lf</th>\n",
       "      <th>hf</th>\n",
       "      <th>vlf</th>\n",
       "      <th>lfhf</th>\n",
       "      <th>total_power</th>\n",
       "      <th>how_feel</th>\n",
       "      <th>how_mood</th>\n",
       "      <th>how_sleep</th>\n",
       "      <th>tags</th>\n",
       "      <th>rr_data</th>\n",
       "    </tr>\n",
       "  </thead>\n",
       "  <tbody>\n",
       "    <tr>\n",
       "      <th>0</th>\n",
       "      <td>007b8190cf</td>\n",
       "      <td>10489a6aea</td>\n",
       "      <td>2020-04-21 21:23:08</td>\n",
       "      <td>morning</td>\n",
       "      <td>75</td>\n",
       "      <td>795.90</td>\n",
       "      <td>0.12</td>\n",
       "      <td>45.802</td>\n",
       "      <td>54.174</td>\n",
       "      <td>15.15</td>\n",
       "      <td>...</td>\n",
       "      <td>508.0</td>\n",
       "      <td>1076.0</td>\n",
       "      <td>267.0</td>\n",
       "      <td>0.472</td>\n",
       "      <td>1851.0</td>\n",
       "      <td>0</td>\n",
       "      <td>-1</td>\n",
       "      <td>NaN</td>\n",
       "      <td>COVID-19; Workout; Sex; Hobby; Studying; Sleep...</td>\n",
       "      <td>819,1008,831,847,785,778,866,839,801,793,846,8...</td>\n",
       "    </tr>\n",
       "    <tr>\n",
       "      <th>1</th>\n",
       "      <td>007b8190cf</td>\n",
       "      <td>9610d4d4dc</td>\n",
       "      <td>2020-04-26 11:19:25</td>\n",
       "      <td>morning</td>\n",
       "      <td>70</td>\n",
       "      <td>858.00</td>\n",
       "      <td>0.11</td>\n",
       "      <td>32.889</td>\n",
       "      <td>33.022</td>\n",
       "      <td>16.16</td>\n",
       "      <td>...</td>\n",
       "      <td>409.0</td>\n",
       "      <td>310.0</td>\n",
       "      <td>176.0</td>\n",
       "      <td>1.319</td>\n",
       "      <td>895.0</td>\n",
       "      <td>0</td>\n",
       "      <td>0</td>\n",
       "      <td>0.0</td>\n",
       "      <td>NaN</td>\n",
       "      <td>888,775,811,883,890,894,894,899,893,889,890,83...</td>\n",
       "    </tr>\n",
       "    <tr>\n",
       "      <th>2</th>\n",
       "      <td>013f6d3e5b</td>\n",
       "      <td>f3de056155</td>\n",
       "      <td>2020-05-15 04:14:21</td>\n",
       "      <td>night</td>\n",
       "      <td>83</td>\n",
       "      <td>724.10</td>\n",
       "      <td>0.17</td>\n",
       "      <td>54.811</td>\n",
       "      <td>65.987</td>\n",
       "      <td>17.17</td>\n",
       "      <td>...</td>\n",
       "      <td>432.0</td>\n",
       "      <td>881.0</td>\n",
       "      <td>194.0</td>\n",
       "      <td>0.490</td>\n",
       "      <td>1507.0</td>\n",
       "      <td>-1</td>\n",
       "      <td>-2</td>\n",
       "      <td>NaN</td>\n",
       "      <td>COVID-19; Fast/Diet; Hungry; Tired; Fever; I c...</td>\n",
       "      <td>694,832,642,801,751,716,737,742,773,760,701,73...</td>\n",
       "    </tr>\n",
       "    <tr>\n",
       "      <th>3</th>\n",
       "      <td>013f6d3e5b</td>\n",
       "      <td>b04489e32f</td>\n",
       "      <td>2020-05-19 03:06:02</td>\n",
       "      <td>night</td>\n",
       "      <td>75</td>\n",
       "      <td>802.64</td>\n",
       "      <td>0.20</td>\n",
       "      <td>72.223</td>\n",
       "      <td>70.039</td>\n",
       "      <td>22.22</td>\n",
       "      <td>...</td>\n",
       "      <td>814.0</td>\n",
       "      <td>1487.0</td>\n",
       "      <td>1719.0</td>\n",
       "      <td>0.547</td>\n",
       "      <td>4020.0</td>\n",
       "      <td>0</td>\n",
       "      <td>0</td>\n",
       "      <td>NaN</td>\n",
       "      <td>NaN</td>\n",
       "      <td>821,817,771,805,833,788,747,724,792,825,775,75...</td>\n",
       "    </tr>\n",
       "    <tr>\n",
       "      <th>4</th>\n",
       "      <td>01bad5a519</td>\n",
       "      <td>ac52c706c6</td>\n",
       "      <td>2019-12-31 09:07:43</td>\n",
       "      <td>morning</td>\n",
       "      <td>78</td>\n",
       "      <td>768.07</td>\n",
       "      <td>0.10</td>\n",
       "      <td>29.650</td>\n",
       "      <td>21.196</td>\n",
       "      <td>4.04</td>\n",
       "      <td>...</td>\n",
       "      <td>489.0</td>\n",
       "      <td>128.0</td>\n",
       "      <td>96.0</td>\n",
       "      <td>3.820</td>\n",
       "      <td>713.0</td>\n",
       "      <td>0</td>\n",
       "      <td>0</td>\n",
       "      <td>0.0</td>\n",
       "      <td>NaN</td>\n",
       "      <td>741,740,734,737,740,731,751,747,745,728,747,76...</td>\n",
       "    </tr>\n",
       "  </tbody>\n",
       "</table>\n",
       "<p>5 rows × 22 columns</p>\n",
       "</div>"
      ],
      "text/plain": [
       "    user_code     rr_code measurement_datetime time_of_day  bpm  meanrr  \\\n",
       "0  007b8190cf  10489a6aea  2020-04-21 21:23:08     morning   75  795.90   \n",
       "1  007b8190cf  9610d4d4dc  2020-04-26 11:19:25     morning   70  858.00   \n",
       "2  013f6d3e5b  f3de056155  2020-05-15 04:14:21       night   83  724.10   \n",
       "3  013f6d3e5b  b04489e32f  2020-05-19 03:06:02       night   75  802.64   \n",
       "4  01bad5a519  ac52c706c6  2019-12-31 09:07:43     morning   78  768.07   \n",
       "\n",
       "   mxdmn    sdnn   rmssd  pnn50  ...     lf      hf     vlf   lfhf  \\\n",
       "0   0.12  45.802  54.174  15.15  ...  508.0  1076.0   267.0  0.472   \n",
       "1   0.11  32.889  33.022  16.16  ...  409.0   310.0   176.0  1.319   \n",
       "2   0.17  54.811  65.987  17.17  ...  432.0   881.0   194.0  0.490   \n",
       "3   0.20  72.223  70.039  22.22  ...  814.0  1487.0  1719.0  0.547   \n",
       "4   0.10  29.650  21.196   4.04  ...  489.0   128.0    96.0  3.820   \n",
       "\n",
       "   total_power  how_feel  how_mood  how_sleep  \\\n",
       "0       1851.0         0        -1        NaN   \n",
       "1        895.0         0         0        0.0   \n",
       "2       1507.0        -1        -2        NaN   \n",
       "3       4020.0         0         0        NaN   \n",
       "4        713.0         0         0        0.0   \n",
       "\n",
       "                                                tags  \\\n",
       "0  COVID-19; Workout; Sex; Hobby; Studying; Sleep...   \n",
       "1                                                NaN   \n",
       "2  COVID-19; Fast/Diet; Hungry; Tired; Fever; I c...   \n",
       "3                                                NaN   \n",
       "4                                                NaN   \n",
       "\n",
       "                                             rr_data  \n",
       "0  819,1008,831,847,785,778,866,839,801,793,846,8...  \n",
       "1  888,775,811,883,890,894,894,899,893,889,890,83...  \n",
       "2  694,832,642,801,751,716,737,742,773,760,701,73...  \n",
       "3  821,817,771,805,833,788,747,724,792,825,775,75...  \n",
       "4  741,740,734,737,740,731,751,747,745,728,747,76...  \n",
       "\n",
       "[5 rows x 22 columns]"
      ]
     },
     "metadata": {},
     "output_type": "display_data"
    },
    {
     "name": "stdout",
     "output_type": "stream",
     "text": [
      "Numerical column statistics:\n"
     ]
    },
    {
     "data": {
      "text/html": [
       "<div>\n",
       "<style scoped>\n",
       "    .dataframe tbody tr th:only-of-type {\n",
       "        vertical-align: middle;\n",
       "    }\n",
       "\n",
       "    .dataframe tbody tr th {\n",
       "        vertical-align: top;\n",
       "    }\n",
       "\n",
       "    .dataframe thead th {\n",
       "        text-align: right;\n",
       "    }\n",
       "</style>\n",
       "<table border=\"1\" class=\"dataframe\">\n",
       "  <thead>\n",
       "    <tr style=\"text-align: right;\">\n",
       "      <th></th>\n",
       "      <th>bpm</th>\n",
       "      <th>meanrr</th>\n",
       "      <th>mxdmn</th>\n",
       "      <th>sdnn</th>\n",
       "      <th>rmssd</th>\n",
       "      <th>pnn50</th>\n",
       "      <th>mode</th>\n",
       "      <th>amo</th>\n",
       "      <th>lf</th>\n",
       "      <th>hf</th>\n",
       "      <th>vlf</th>\n",
       "      <th>lfhf</th>\n",
       "      <th>total_power</th>\n",
       "      <th>how_feel</th>\n",
       "      <th>how_mood</th>\n",
       "      <th>how_sleep</th>\n",
       "    </tr>\n",
       "  </thead>\n",
       "  <tbody>\n",
       "    <tr>\n",
       "      <th>count</th>\n",
       "      <td>3245.000000</td>\n",
       "      <td>3245.000000</td>\n",
       "      <td>3245.000000</td>\n",
       "      <td>3245.000000</td>\n",
       "      <td>3245.000000</td>\n",
       "      <td>3245.000000</td>\n",
       "      <td>3245.000000</td>\n",
       "      <td>3245.000000</td>\n",
       "      <td>3245.000000</td>\n",
       "      <td>3245.000000</td>\n",
       "      <td>3245.000000</td>\n",
       "      <td>3245.000000</td>\n",
       "      <td>3245.000000</td>\n",
       "      <td>3245.000000</td>\n",
       "      <td>3245.000000</td>\n",
       "      <td>1466.000000</td>\n",
       "    </tr>\n",
       "    <tr>\n",
       "      <th>mean</th>\n",
       "      <td>73.257935</td>\n",
       "      <td>839.600366</td>\n",
       "      <td>0.184635</td>\n",
       "      <td>52.489218</td>\n",
       "      <td>52.814196</td>\n",
       "      <td>20.615609</td>\n",
       "      <td>0.837465</td>\n",
       "      <td>46.788290</td>\n",
       "      <td>927.038213</td>\n",
       "      <td>1125.041294</td>\n",
       "      <td>578.229892</td>\n",
       "      <td>2.397769</td>\n",
       "      <td>2630.309399</td>\n",
       "      <td>-0.235439</td>\n",
       "      <td>-0.076733</td>\n",
       "      <td>-0.065484</td>\n",
       "    </tr>\n",
       "    <tr>\n",
       "      <th>std</th>\n",
       "      <td>12.201088</td>\n",
       "      <td>137.420367</td>\n",
       "      <td>0.107456</td>\n",
       "      <td>29.369506</td>\n",
       "      <td>39.353213</td>\n",
       "      <td>18.588156</td>\n",
       "      <td>0.144769</td>\n",
       "      <td>16.418873</td>\n",
       "      <td>1455.424089</td>\n",
       "      <td>2490.540413</td>\n",
       "      <td>876.679652</td>\n",
       "      <td>5.750760</td>\n",
       "      <td>3912.247496</td>\n",
       "      <td>0.706262</td>\n",
       "      <td>0.655032</td>\n",
       "      <td>0.708656</td>\n",
       "    </tr>\n",
       "    <tr>\n",
       "      <th>min</th>\n",
       "      <td>44.000000</td>\n",
       "      <td>477.730000</td>\n",
       "      <td>0.030000</td>\n",
       "      <td>9.515000</td>\n",
       "      <td>6.340000</td>\n",
       "      <td>0.000000</td>\n",
       "      <td>0.475000</td>\n",
       "      <td>12.000000</td>\n",
       "      <td>2.000000</td>\n",
       "      <td>4.000000</td>\n",
       "      <td>1.000000</td>\n",
       "      <td>0.032000</td>\n",
       "      <td>44.000000</td>\n",
       "      <td>-2.000000</td>\n",
       "      <td>-2.000000</td>\n",
       "      <td>-2.000000</td>\n",
       "    </tr>\n",
       "    <tr>\n",
       "      <th>25%</th>\n",
       "      <td>65.000000</td>\n",
       "      <td>742.490000</td>\n",
       "      <td>0.110000</td>\n",
       "      <td>32.585000</td>\n",
       "      <td>28.985000</td>\n",
       "      <td>6.060000</td>\n",
       "      <td>0.725000</td>\n",
       "      <td>35.000000</td>\n",
       "      <td>151.000000</td>\n",
       "      <td>158.000000</td>\n",
       "      <td>116.000000</td>\n",
       "      <td>0.399000</td>\n",
       "      <td>620.000000</td>\n",
       "      <td>-1.000000</td>\n",
       "      <td>0.000000</td>\n",
       "      <td>0.000000</td>\n",
       "    </tr>\n",
       "    <tr>\n",
       "      <th>50%</th>\n",
       "      <td>72.000000</td>\n",
       "      <td>829.100000</td>\n",
       "      <td>0.160000</td>\n",
       "      <td>46.919000</td>\n",
       "      <td>42.869000</td>\n",
       "      <td>16.160000</td>\n",
       "      <td>0.825000</td>\n",
       "      <td>45.000000</td>\n",
       "      <td>423.000000</td>\n",
       "      <td>380.000000</td>\n",
       "      <td>293.000000</td>\n",
       "      <td>0.862000</td>\n",
       "      <td>1387.000000</td>\n",
       "      <td>0.000000</td>\n",
       "      <td>0.000000</td>\n",
       "      <td>0.000000</td>\n",
       "    </tr>\n",
       "    <tr>\n",
       "      <th>75%</th>\n",
       "      <td>81.000000</td>\n",
       "      <td>925.933000</td>\n",
       "      <td>0.220000</td>\n",
       "      <td>64.406000</td>\n",
       "      <td>62.485000</td>\n",
       "      <td>29.290000</td>\n",
       "      <td>0.925000</td>\n",
       "      <td>57.000000</td>\n",
       "      <td>1059.000000</td>\n",
       "      <td>993.000000</td>\n",
       "      <td>693.000000</td>\n",
       "      <td>1.966000</td>\n",
       "      <td>2906.000000</td>\n",
       "      <td>0.000000</td>\n",
       "      <td>0.000000</td>\n",
       "      <td>0.000000</td>\n",
       "    </tr>\n",
       "    <tr>\n",
       "      <th>max</th>\n",
       "      <td>125.000000</td>\n",
       "      <td>1346.740000</td>\n",
       "      <td>0.790000</td>\n",
       "      <td>206.631000</td>\n",
       "      <td>310.800000</td>\n",
       "      <td>91.920000</td>\n",
       "      <td>1.325000</td>\n",
       "      <td>98.000000</td>\n",
       "      <td>15522.000000</td>\n",
       "      <td>33490.000000</td>\n",
       "      <td>18468.000000</td>\n",
       "      <td>105.625000</td>\n",
       "      <td>41118.000000</td>\n",
       "      <td>2.000000</td>\n",
       "      <td>2.000000</td>\n",
       "      <td>2.000000</td>\n",
       "    </tr>\n",
       "  </tbody>\n",
       "</table>\n",
       "</div>"
      ],
      "text/plain": [
       "               bpm       meanrr        mxdmn         sdnn        rmssd  \\\n",
       "count  3245.000000  3245.000000  3245.000000  3245.000000  3245.000000   \n",
       "mean     73.257935   839.600366     0.184635    52.489218    52.814196   \n",
       "std      12.201088   137.420367     0.107456    29.369506    39.353213   \n",
       "min      44.000000   477.730000     0.030000     9.515000     6.340000   \n",
       "25%      65.000000   742.490000     0.110000    32.585000    28.985000   \n",
       "50%      72.000000   829.100000     0.160000    46.919000    42.869000   \n",
       "75%      81.000000   925.933000     0.220000    64.406000    62.485000   \n",
       "max     125.000000  1346.740000     0.790000   206.631000   310.800000   \n",
       "\n",
       "             pnn50         mode          amo            lf            hf  \\\n",
       "count  3245.000000  3245.000000  3245.000000   3245.000000   3245.000000   \n",
       "mean     20.615609     0.837465    46.788290    927.038213   1125.041294   \n",
       "std      18.588156     0.144769    16.418873   1455.424089   2490.540413   \n",
       "min       0.000000     0.475000    12.000000      2.000000      4.000000   \n",
       "25%       6.060000     0.725000    35.000000    151.000000    158.000000   \n",
       "50%      16.160000     0.825000    45.000000    423.000000    380.000000   \n",
       "75%      29.290000     0.925000    57.000000   1059.000000    993.000000   \n",
       "max      91.920000     1.325000    98.000000  15522.000000  33490.000000   \n",
       "\n",
       "                vlf         lfhf   total_power     how_feel     how_mood  \\\n",
       "count   3245.000000  3245.000000   3245.000000  3245.000000  3245.000000   \n",
       "mean     578.229892     2.397769   2630.309399    -0.235439    -0.076733   \n",
       "std      876.679652     5.750760   3912.247496     0.706262     0.655032   \n",
       "min        1.000000     0.032000     44.000000    -2.000000    -2.000000   \n",
       "25%      116.000000     0.399000    620.000000    -1.000000     0.000000   \n",
       "50%      293.000000     0.862000   1387.000000     0.000000     0.000000   \n",
       "75%      693.000000     1.966000   2906.000000     0.000000     0.000000   \n",
       "max    18468.000000   105.625000  41118.000000     2.000000     2.000000   \n",
       "\n",
       "         how_sleep  \n",
       "count  1466.000000  \n",
       "mean     -0.065484  \n",
       "std       0.708656  \n",
       "min      -2.000000  \n",
       "25%       0.000000  \n",
       "50%       0.000000  \n",
       "75%       0.000000  \n",
       "max       2.000000  "
      ]
     },
     "metadata": {},
     "output_type": "display_data"
    },
    {
     "data": {
      "text/html": [
       "<div style='background-color:orange'><b>Found 3245 rows, of which 2321 (71.5%) contain invalid data.<b></div>"
      ],
      "text/plain": [
       "<IPython.core.display.HTML object>"
      ]
     },
     "metadata": {},
     "output_type": "display_data"
    },
    {
     "data": {
      "text/html": [
       "<div style='background-color:lightblue'>&nbsp&nbsp<b> - user_code</b> has 3245 (100.0%) valid values</div>"
      ],
      "text/plain": [
       "<IPython.core.display.HTML object>"
      ]
     },
     "metadata": {},
     "output_type": "display_data"
    },
    {
     "data": {
      "text/html": [
       "<div style='background-color:lightblue'>&nbsp&nbsp<b> - rr_code</b> has 3245 (100.0%) valid values</div>"
      ],
      "text/plain": [
       "<IPython.core.display.HTML object>"
      ]
     },
     "metadata": {},
     "output_type": "display_data"
    },
    {
     "data": {
      "text/html": [
       "<div style='background-color:lightblue'>&nbsp&nbsp<b> - measurement_datetime</b> has 3245 (100.0%) valid values</div>"
      ],
      "text/plain": [
       "<IPython.core.display.HTML object>"
      ]
     },
     "metadata": {},
     "output_type": "display_data"
    },
    {
     "data": {
      "text/html": [
       "<div style='background-color:lightblue'>&nbsp&nbsp<b> - time_of_day</b> has 3245 (100.0%) valid values</div>"
      ],
      "text/plain": [
       "<IPython.core.display.HTML object>"
      ]
     },
     "metadata": {},
     "output_type": "display_data"
    },
    {
     "data": {
      "text/html": [
       "<div style='background-color:lightblue'>&nbsp&nbsp<b> - bpm</b> has 3245 (100.0%) valid values</div>"
      ],
      "text/plain": [
       "<IPython.core.display.HTML object>"
      ]
     },
     "metadata": {},
     "output_type": "display_data"
    },
    {
     "data": {
      "text/html": [
       "<div style='background-color:lightblue'>&nbsp&nbsp<b> - meanrr</b> has 3245 (100.0%) valid values</div>"
      ],
      "text/plain": [
       "<IPython.core.display.HTML object>"
      ]
     },
     "metadata": {},
     "output_type": "display_data"
    },
    {
     "data": {
      "text/html": [
       "<div style='background-color:lightblue'>&nbsp&nbsp<b> - mxdmn</b> has 3245 (100.0%) valid values</div>"
      ],
      "text/plain": [
       "<IPython.core.display.HTML object>"
      ]
     },
     "metadata": {},
     "output_type": "display_data"
    },
    {
     "data": {
      "text/html": [
       "<div style='background-color:lightblue'>&nbsp&nbsp<b> - sdnn</b> has 3245 (100.0%) valid values</div>"
      ],
      "text/plain": [
       "<IPython.core.display.HTML object>"
      ]
     },
     "metadata": {},
     "output_type": "display_data"
    },
    {
     "data": {
      "text/html": [
       "<div style='background-color:lightblue'>&nbsp&nbsp<b> - rmssd</b> has 3245 (100.0%) valid values</div>"
      ],
      "text/plain": [
       "<IPython.core.display.HTML object>"
      ]
     },
     "metadata": {},
     "output_type": "display_data"
    },
    {
     "data": {
      "text/html": [
       "<div style='background-color:lightblue'>&nbsp&nbsp<b> - pnn50</b> has 3245 (100.0%) valid values</div>"
      ],
      "text/plain": [
       "<IPython.core.display.HTML object>"
      ]
     },
     "metadata": {},
     "output_type": "display_data"
    },
    {
     "data": {
      "text/html": [
       "<div style='background-color:lightblue'>&nbsp&nbsp<b> - mode</b> has 3245 (100.0%) valid values</div>"
      ],
      "text/plain": [
       "<IPython.core.display.HTML object>"
      ]
     },
     "metadata": {},
     "output_type": "display_data"
    },
    {
     "data": {
      "text/html": [
       "<div style='background-color:lightblue'>&nbsp&nbsp<b> - amo</b> has 3245 (100.0%) valid values</div>"
      ],
      "text/plain": [
       "<IPython.core.display.HTML object>"
      ]
     },
     "metadata": {},
     "output_type": "display_data"
    },
    {
     "data": {
      "text/html": [
       "<div style='background-color:lightblue'>&nbsp&nbsp<b> - lf</b> has 3245 (100.0%) valid values</div>"
      ],
      "text/plain": [
       "<IPython.core.display.HTML object>"
      ]
     },
     "metadata": {},
     "output_type": "display_data"
    },
    {
     "data": {
      "text/html": [
       "<div style='background-color:lightblue'>&nbsp&nbsp<b> - hf</b> has 3245 (100.0%) valid values</div>"
      ],
      "text/plain": [
       "<IPython.core.display.HTML object>"
      ]
     },
     "metadata": {},
     "output_type": "display_data"
    },
    {
     "data": {
      "text/html": [
       "<div style='background-color:lightblue'>&nbsp&nbsp<b> - vlf</b> has 3245 (100.0%) valid values</div>"
      ],
      "text/plain": [
       "<IPython.core.display.HTML object>"
      ]
     },
     "metadata": {},
     "output_type": "display_data"
    },
    {
     "data": {
      "text/html": [
       "<div style='background-color:lightblue'>&nbsp&nbsp<b> - lfhf</b> has 3245 (100.0%) valid values</div>"
      ],
      "text/plain": [
       "<IPython.core.display.HTML object>"
      ]
     },
     "metadata": {},
     "output_type": "display_data"
    },
    {
     "data": {
      "text/html": [
       "<div style='background-color:lightblue'>&nbsp&nbsp<b> - total_power</b> has 3245 (100.0%) valid values</div>"
      ],
      "text/plain": [
       "<IPython.core.display.HTML object>"
      ]
     },
     "metadata": {},
     "output_type": "display_data"
    },
    {
     "data": {
      "text/html": [
       "<div style='background-color:lightblue'>&nbsp&nbsp<b> - how_feel</b> has 3245 (100.0%) valid values</div>"
      ],
      "text/plain": [
       "<IPython.core.display.HTML object>"
      ]
     },
     "metadata": {},
     "output_type": "display_data"
    },
    {
     "data": {
      "text/html": [
       "<div style='background-color:lightblue'>&nbsp&nbsp<b> - how_mood</b> has 3245 (100.0%) valid values</div>"
      ],
      "text/plain": [
       "<IPython.core.display.HTML object>"
      ]
     },
     "metadata": {},
     "output_type": "display_data"
    },
    {
     "data": {
      "text/html": [
       "<div style='background-color:coral'>&nbsp&nbsp<b> - how_sleep</b> has 1466 (45.2%) valid values</div>"
      ],
      "text/plain": [
       "<IPython.core.display.HTML object>"
      ]
     },
     "metadata": {},
     "output_type": "display_data"
    },
    {
     "data": {
      "text/html": [
       "<div style='background-color:orange'>&nbsp&nbsp<b> - tags</b> has 2201 (67.8%) valid values</div>"
      ],
      "text/plain": [
       "<IPython.core.display.HTML object>"
      ]
     },
     "metadata": {},
     "output_type": "display_data"
    },
    {
     "data": {
      "text/html": [
       "<div style='background-color:lightblue'>&nbsp&nbsp<b> - rr_data</b> has 3245 (100.0%) valid values</div>"
      ],
      "text/plain": [
       "<IPython.core.display.HTML object>"
      ]
     },
     "metadata": {},
     "output_type": "display_data"
    }
   ],
   "source": [
    "df = dfs['hrv_measurements']\n",
    "table_overview(df)"
   ]
  },
  {
   "cell_type": "markdown",
   "id": "9ca33601-892f-4a73-b8e7-993b7f44eefb",
   "metadata": {},
   "source": [
    "### Sleep "
   ]
  },
  {
   "cell_type": "code",
   "execution_count": 817,
   "id": "82fe0be4-9217-453f-8ff5-f9b9b7c2ffd5",
   "metadata": {},
   "outputs": [
    {
     "name": "stdout",
     "output_type": "stream",
     "text": [
      "First 5 rows of the dataframe:\n"
     ]
    },
    {
     "data": {
      "text/html": [
       "<div>\n",
       "<style scoped>\n",
       "    .dataframe tbody tr th:only-of-type {\n",
       "        vertical-align: middle;\n",
       "    }\n",
       "\n",
       "    .dataframe tbody tr th {\n",
       "        vertical-align: top;\n",
       "    }\n",
       "\n",
       "    .dataframe thead th {\n",
       "        text-align: right;\n",
       "    }\n",
       "</style>\n",
       "<table border=\"1\" class=\"dataframe\">\n",
       "  <thead>\n",
       "    <tr style=\"text-align: right;\">\n",
       "      <th></th>\n",
       "      <th>user_code</th>\n",
       "      <th>day</th>\n",
       "      <th>sleep_begin</th>\n",
       "      <th>sleep_end</th>\n",
       "      <th>sleep_duration</th>\n",
       "      <th>sleep_awake_duration</th>\n",
       "      <th>sleep_rem_duration</th>\n",
       "      <th>sleep_light_duration</th>\n",
       "      <th>sleep_deep_duration</th>\n",
       "      <th>pulse_min</th>\n",
       "      <th>pulse_max</th>\n",
       "      <th>pulse_average</th>\n",
       "    </tr>\n",
       "  </thead>\n",
       "  <tbody>\n",
       "    <tr>\n",
       "      <th>0</th>\n",
       "      <td>0d297d2410</td>\n",
       "      <td>2019-12-31</td>\n",
       "      <td>2019-12-31 07:50:32</td>\n",
       "      <td>2019-12-31 08:45:22</td>\n",
       "      <td>3290.0</td>\n",
       "      <td>NaN</td>\n",
       "      <td>NaN</td>\n",
       "      <td>NaN</td>\n",
       "      <td>NaN</td>\n",
       "      <td>NaN</td>\n",
       "      <td>NaN</td>\n",
       "      <td>NaN</td>\n",
       "    </tr>\n",
       "    <tr>\n",
       "      <th>1</th>\n",
       "      <td>0d297d2410</td>\n",
       "      <td>2020-01-01</td>\n",
       "      <td>2020-01-01 04:13:41</td>\n",
       "      <td>2020-01-01 09:45:02</td>\n",
       "      <td>19881.0</td>\n",
       "      <td>NaN</td>\n",
       "      <td>NaN</td>\n",
       "      <td>NaN</td>\n",
       "      <td>NaN</td>\n",
       "      <td>NaN</td>\n",
       "      <td>NaN</td>\n",
       "      <td>NaN</td>\n",
       "    </tr>\n",
       "    <tr>\n",
       "      <th>2</th>\n",
       "      <td>0d297d2410</td>\n",
       "      <td>2020-01-02</td>\n",
       "      <td>2020-01-02 02:14:52</td>\n",
       "      <td>2020-01-02 08:06:00</td>\n",
       "      <td>21068.0</td>\n",
       "      <td>NaN</td>\n",
       "      <td>NaN</td>\n",
       "      <td>NaN</td>\n",
       "      <td>NaN</td>\n",
       "      <td>NaN</td>\n",
       "      <td>NaN</td>\n",
       "      <td>NaN</td>\n",
       "    </tr>\n",
       "    <tr>\n",
       "      <th>3</th>\n",
       "      <td>0d297d2410</td>\n",
       "      <td>2020-01-03</td>\n",
       "      <td>2020-01-03 00:10:00</td>\n",
       "      <td>2020-01-03 08:45:10</td>\n",
       "      <td>30910.0</td>\n",
       "      <td>NaN</td>\n",
       "      <td>NaN</td>\n",
       "      <td>NaN</td>\n",
       "      <td>NaN</td>\n",
       "      <td>NaN</td>\n",
       "      <td>NaN</td>\n",
       "      <td>NaN</td>\n",
       "    </tr>\n",
       "    <tr>\n",
       "      <th>4</th>\n",
       "      <td>0d297d2410</td>\n",
       "      <td>2020-01-04</td>\n",
       "      <td>2020-01-04 01:27:25</td>\n",
       "      <td>2020-01-04 08:52:20</td>\n",
       "      <td>26695.0</td>\n",
       "      <td>NaN</td>\n",
       "      <td>NaN</td>\n",
       "      <td>21480.0</td>\n",
       "      <td>NaN</td>\n",
       "      <td>55.0</td>\n",
       "      <td>95.0</td>\n",
       "      <td>72.5</td>\n",
       "    </tr>\n",
       "  </tbody>\n",
       "</table>\n",
       "</div>"
      ],
      "text/plain": [
       "    user_code         day          sleep_begin            sleep_end  \\\n",
       "0  0d297d2410  2019-12-31  2019-12-31 07:50:32  2019-12-31 08:45:22   \n",
       "1  0d297d2410  2020-01-01  2020-01-01 04:13:41  2020-01-01 09:45:02   \n",
       "2  0d297d2410  2020-01-02  2020-01-02 02:14:52  2020-01-02 08:06:00   \n",
       "3  0d297d2410  2020-01-03  2020-01-03 00:10:00  2020-01-03 08:45:10   \n",
       "4  0d297d2410  2020-01-04  2020-01-04 01:27:25  2020-01-04 08:52:20   \n",
       "\n",
       "   sleep_duration  sleep_awake_duration  sleep_rem_duration  \\\n",
       "0          3290.0                   NaN                 NaN   \n",
       "1         19881.0                   NaN                 NaN   \n",
       "2         21068.0                   NaN                 NaN   \n",
       "3         30910.0                   NaN                 NaN   \n",
       "4         26695.0                   NaN                 NaN   \n",
       "\n",
       "   sleep_light_duration  sleep_deep_duration  pulse_min  pulse_max  \\\n",
       "0                   NaN                  NaN        NaN        NaN   \n",
       "1                   NaN                  NaN        NaN        NaN   \n",
       "2                   NaN                  NaN        NaN        NaN   \n",
       "3                   NaN                  NaN        NaN        NaN   \n",
       "4               21480.0                  NaN       55.0       95.0   \n",
       "\n",
       "   pulse_average  \n",
       "0            NaN  \n",
       "1            NaN  \n",
       "2            NaN  \n",
       "3            NaN  \n",
       "4           72.5  "
      ]
     },
     "metadata": {},
     "output_type": "display_data"
    },
    {
     "name": "stdout",
     "output_type": "stream",
     "text": [
      "Numerical column statistics:\n"
     ]
    },
    {
     "data": {
      "text/html": [
       "<div>\n",
       "<style scoped>\n",
       "    .dataframe tbody tr th:only-of-type {\n",
       "        vertical-align: middle;\n",
       "    }\n",
       "\n",
       "    .dataframe tbody tr th {\n",
       "        vertical-align: top;\n",
       "    }\n",
       "\n",
       "    .dataframe thead th {\n",
       "        text-align: right;\n",
       "    }\n",
       "</style>\n",
       "<table border=\"1\" class=\"dataframe\">\n",
       "  <thead>\n",
       "    <tr style=\"text-align: right;\">\n",
       "      <th></th>\n",
       "      <th>sleep_duration</th>\n",
       "      <th>sleep_awake_duration</th>\n",
       "      <th>sleep_rem_duration</th>\n",
       "      <th>sleep_light_duration</th>\n",
       "      <th>sleep_deep_duration</th>\n",
       "      <th>pulse_min</th>\n",
       "      <th>pulse_max</th>\n",
       "      <th>pulse_average</th>\n",
       "    </tr>\n",
       "  </thead>\n",
       "  <tbody>\n",
       "    <tr>\n",
       "      <th>count</th>\n",
       "      <td>425.000000</td>\n",
       "      <td>9.000000</td>\n",
       "      <td>7.000000</td>\n",
       "      <td>27.000000</td>\n",
       "      <td>14.000000</td>\n",
       "      <td>15.000000</td>\n",
       "      <td>15.000000</td>\n",
       "      <td>15.000000</td>\n",
       "    </tr>\n",
       "    <tr>\n",
       "      <th>mean</th>\n",
       "      <td>25699.731765</td>\n",
       "      <td>2733.333333</td>\n",
       "      <td>6518.571429</td>\n",
       "      <td>14514.740741</td>\n",
       "      <td>4280.285714</td>\n",
       "      <td>60.533333</td>\n",
       "      <td>89.866667</td>\n",
       "      <td>68.880733</td>\n",
       "    </tr>\n",
       "    <tr>\n",
       "      <th>std</th>\n",
       "      <td>7773.805470</td>\n",
       "      <td>671.900290</td>\n",
       "      <td>2081.613385</td>\n",
       "      <td>8078.126290</td>\n",
       "      <td>2089.766547</td>\n",
       "      <td>12.844491</td>\n",
       "      <td>10.541528</td>\n",
       "      <td>10.947268</td>\n",
       "    </tr>\n",
       "    <tr>\n",
       "      <th>min</th>\n",
       "      <td>930.000000</td>\n",
       "      <td>1740.000000</td>\n",
       "      <td>2820.000000</td>\n",
       "      <td>300.000000</td>\n",
       "      <td>480.000000</td>\n",
       "      <td>52.000000</td>\n",
       "      <td>62.000000</td>\n",
       "      <td>59.444000</td>\n",
       "    </tr>\n",
       "    <tr>\n",
       "      <th>25%</th>\n",
       "      <td>21857.000000</td>\n",
       "      <td>2460.000000</td>\n",
       "      <td>5730.000000</td>\n",
       "      <td>7995.000000</td>\n",
       "      <td>2797.500000</td>\n",
       "      <td>54.500000</td>\n",
       "      <td>85.000000</td>\n",
       "      <td>63.393000</td>\n",
       "    </tr>\n",
       "    <tr>\n",
       "      <th>50%</th>\n",
       "      <td>26041.000000</td>\n",
       "      <td>2490.000000</td>\n",
       "      <td>6240.000000</td>\n",
       "      <td>17340.000000</td>\n",
       "      <td>4230.000000</td>\n",
       "      <td>58.000000</td>\n",
       "      <td>93.000000</td>\n",
       "      <td>65.857000</td>\n",
       "    </tr>\n",
       "    <tr>\n",
       "      <th>75%</th>\n",
       "      <td>30600.000000</td>\n",
       "      <td>2790.000000</td>\n",
       "      <td>8190.000000</td>\n",
       "      <td>20340.000000</td>\n",
       "      <td>5550.000000</td>\n",
       "      <td>60.000000</td>\n",
       "      <td>94.500000</td>\n",
       "      <td>70.250000</td>\n",
       "    </tr>\n",
       "    <tr>\n",
       "      <th>max</th>\n",
       "      <td>47460.000000</td>\n",
       "      <td>4200.000000</td>\n",
       "      <td>8730.000000</td>\n",
       "      <td>23100.000000</td>\n",
       "      <td>7934.000000</td>\n",
       "      <td>105.000000</td>\n",
       "      <td>105.000000</td>\n",
       "      <td>105.000000</td>\n",
       "    </tr>\n",
       "  </tbody>\n",
       "</table>\n",
       "</div>"
      ],
      "text/plain": [
       "       sleep_duration  sleep_awake_duration  sleep_rem_duration  \\\n",
       "count      425.000000              9.000000            7.000000   \n",
       "mean     25699.731765           2733.333333         6518.571429   \n",
       "std       7773.805470            671.900290         2081.613385   \n",
       "min        930.000000           1740.000000         2820.000000   \n",
       "25%      21857.000000           2460.000000         5730.000000   \n",
       "50%      26041.000000           2490.000000         6240.000000   \n",
       "75%      30600.000000           2790.000000         8190.000000   \n",
       "max      47460.000000           4200.000000         8730.000000   \n",
       "\n",
       "       sleep_light_duration  sleep_deep_duration   pulse_min   pulse_max  \\\n",
       "count             27.000000            14.000000   15.000000   15.000000   \n",
       "mean           14514.740741          4280.285714   60.533333   89.866667   \n",
       "std             8078.126290          2089.766547   12.844491   10.541528   \n",
       "min              300.000000           480.000000   52.000000   62.000000   \n",
       "25%             7995.000000          2797.500000   54.500000   85.000000   \n",
       "50%            17340.000000          4230.000000   58.000000   93.000000   \n",
       "75%            20340.000000          5550.000000   60.000000   94.500000   \n",
       "max            23100.000000          7934.000000  105.000000  105.000000   \n",
       "\n",
       "       pulse_average  \n",
       "count      15.000000  \n",
       "mean       68.880733  \n",
       "std        10.947268  \n",
       "min        59.444000  \n",
       "25%        63.393000  \n",
       "50%        65.857000  \n",
       "75%        70.250000  \n",
       "max       105.000000  "
      ]
     },
     "metadata": {},
     "output_type": "display_data"
    },
    {
     "data": {
      "text/html": [
       "<div style='background-color:orange'><b>Found 425 rows, of which 424 (99.8%) contain invalid data.<b></div>"
      ],
      "text/plain": [
       "<IPython.core.display.HTML object>"
      ]
     },
     "metadata": {},
     "output_type": "display_data"
    },
    {
     "data": {
      "text/html": [
       "<div style='background-color:lightblue'>&nbsp&nbsp<b> - user_code</b> has 425 (100.0%) valid values</div>"
      ],
      "text/plain": [
       "<IPython.core.display.HTML object>"
      ]
     },
     "metadata": {},
     "output_type": "display_data"
    },
    {
     "data": {
      "text/html": [
       "<div style='background-color:lightblue'>&nbsp&nbsp<b> - day</b> has 425 (100.0%) valid values</div>"
      ],
      "text/plain": [
       "<IPython.core.display.HTML object>"
      ]
     },
     "metadata": {},
     "output_type": "display_data"
    },
    {
     "data": {
      "text/html": [
       "<div style='background-color:lightblue'>&nbsp&nbsp<b> - sleep_begin</b> has 425 (100.0%) valid values</div>"
      ],
      "text/plain": [
       "<IPython.core.display.HTML object>"
      ]
     },
     "metadata": {},
     "output_type": "display_data"
    },
    {
     "data": {
      "text/html": [
       "<div style='background-color:lightblue'>&nbsp&nbsp<b> - sleep_end</b> has 425 (100.0%) valid values</div>"
      ],
      "text/plain": [
       "<IPython.core.display.HTML object>"
      ]
     },
     "metadata": {},
     "output_type": "display_data"
    },
    {
     "data": {
      "text/html": [
       "<div style='background-color:lightblue'>&nbsp&nbsp<b> - sleep_duration</b> has 425 (100.0%) valid values</div>"
      ],
      "text/plain": [
       "<IPython.core.display.HTML object>"
      ]
     },
     "metadata": {},
     "output_type": "display_data"
    },
    {
     "data": {
      "text/html": [
       "<div style='background-color:coral'>&nbsp&nbsp<b> - sleep_awake_duration</b> has 9 (2.1%) valid values</div>"
      ],
      "text/plain": [
       "<IPython.core.display.HTML object>"
      ]
     },
     "metadata": {},
     "output_type": "display_data"
    },
    {
     "data": {
      "text/html": [
       "<div style='background-color:coral'>&nbsp&nbsp<b> - sleep_rem_duration</b> has 7 (1.6%) valid values</div>"
      ],
      "text/plain": [
       "<IPython.core.display.HTML object>"
      ]
     },
     "metadata": {},
     "output_type": "display_data"
    },
    {
     "data": {
      "text/html": [
       "<div style='background-color:coral'>&nbsp&nbsp<b> - sleep_light_duration</b> has 27 (6.4%) valid values</div>"
      ],
      "text/plain": [
       "<IPython.core.display.HTML object>"
      ]
     },
     "metadata": {},
     "output_type": "display_data"
    },
    {
     "data": {
      "text/html": [
       "<div style='background-color:coral'>&nbsp&nbsp<b> - sleep_deep_duration</b> has 14 (3.3%) valid values</div>"
      ],
      "text/plain": [
       "<IPython.core.display.HTML object>"
      ]
     },
     "metadata": {},
     "output_type": "display_data"
    },
    {
     "data": {
      "text/html": [
       "<div style='background-color:coral'>&nbsp&nbsp<b> - pulse_min</b> has 15 (3.5%) valid values</div>"
      ],
      "text/plain": [
       "<IPython.core.display.HTML object>"
      ]
     },
     "metadata": {},
     "output_type": "display_data"
    },
    {
     "data": {
      "text/html": [
       "<div style='background-color:coral'>&nbsp&nbsp<b> - pulse_max</b> has 15 (3.5%) valid values</div>"
      ],
      "text/plain": [
       "<IPython.core.display.HTML object>"
      ]
     },
     "metadata": {},
     "output_type": "display_data"
    },
    {
     "data": {
      "text/html": [
       "<div style='background-color:coral'>&nbsp&nbsp<b> - pulse_average</b> has 15 (3.5%) valid values</div>"
      ],
      "text/plain": [
       "<IPython.core.display.HTML object>"
      ]
     },
     "metadata": {},
     "output_type": "display_data"
    }
   ],
   "source": [
    "df = dfs['sleep']\n",
    "table_overview(df)"
   ]
  },
  {
   "cell_type": "markdown",
   "id": "127b6b6f-4dde-4c5d-a5f2-9e545757f732",
   "metadata": {},
   "source": [
    "# Dataset Cleaning and Preparation"
   ]
  },
  {
   "cell_type": "markdown",
   "id": "9ab54dd0-4b71-4b4e-b9ac-5f92ce3cbe56",
   "metadata": {},
   "source": [
    "With a general assessment of the dataset behind us, we can move to clean and prepare the data of interest for deeper analysis. \n",
    "\n",
    "Here we should: \n",
    "* Discuss and implement strategies for Handling Missing Values, Removing Duplicates, and Handling Outliers\n",
    "* Perform data transformation as appropriate\n",
    "* Create at least one new feature and document your approach"
   ]
  },
  {
   "cell_type": "markdown",
   "id": "beb1e7a0-bc5d-41a2-83bf-f461f266db5e",
   "metadata": {},
   "source": [
    "\n"
   ]
  },
  {
   "cell_type": "markdown",
   "id": "dd280289-a97b-4d25-ae62-f673cf2731e1",
   "metadata": {},
   "source": [
    "# xyz Analyis\n",
    "\n",
    "Deeper analysis with any necessary visualizations, conclusions, hypothesis testing\n",
    "\n",
    "We might handle these assignment requirements here: \n",
    "* Perform a dimensionality reduction method on the data and discuss \n",
    "* Include a discussion around data quality assessment, including data profiling, data completeness, data accuracy, data consistency, data integrity, and data lineage and provenance\n",
    "\n",
    "Ideas for analysis: \n",
    "- Sleep stuff? Stuart\n",
    "- Summarize all data for each participant (taking e.g. the mean or min or max of time-series data where needed), join the data by participant and get an idea of what the population studied looks like, where are they with respect to a normal distribution of humans?"
   ]
  },
  {
   "cell_type": "code",
   "execution_count": null,
   "id": "454222e8-3774-4520-9999-f94d8bba4bea",
   "metadata": {},
   "outputs": [],
   "source": []
  },
  {
   "cell_type": "code",
   "execution_count": null,
   "id": "5d82ff37-f2e1-4735-858e-d88a2f74514e",
   "metadata": {},
   "outputs": [],
   "source": []
  }
 ],
 "metadata": {
  "kernelspec": {
   "display_name": "Team Assignments",
   "language": "python",
   "name": "team-assignments"
  },
  "language_info": {
   "codemirror_mode": {
    "name": "ipython",
    "version": 3
   },
   "file_extension": ".py",
   "mimetype": "text/x-python",
   "name": "python",
   "nbconvert_exporter": "python",
   "pygments_lexer": "ipython3",
   "version": "3.12.4"
  }
 },
 "nbformat": 4,
 "nbformat_minor": 5
}
