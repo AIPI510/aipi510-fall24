{
 "cells": [
  {
   "cell_type": "markdown",
   "id": "13e19e94-c704-4fe1-a15c-5f1dcc0e69e8",
   "metadata": {},
   "source": [
    "# Team Assignment #4 - Data Exploration\n",
    "\n",
    "Analysis completed by **Team Trackstars (Stuart Bladon and Jason Mooberry).**"
   ]
  },
  {
   "cell_type": "markdown",
   "id": "891313f6-85fd-49d8-8042-87dae1007317",
   "metadata": {},
   "source": [
    "# Assignment Instructions (Remove before submission) \n",
    "\n",
    "### In your Jupyter notebook report, complete the following:\n",
    "* Document data context and data sampling in markdown\n",
    "* Explore and interpret data structure, descriptive statistics, data quality, and variable relationships\n",
    "* Explore data visually with appropriate visualizations\n",
    "* Discuss and implement strategies for Handling Missing Values, Removing Duplicates, and Handling Outliers\n",
    "* Perform data transformation as appropriate\n",
    "* Create at least one new feature and document your approach\n",
    "* Perform a dimensionality reduction method on the data and discuss \n",
    "* Include a discussion around data quality assessment, including data profiling, data completeness, data accuracy, data consistency, data integrity, and data lineage and provenance\n",
    "\n",
    "## Submission\n",
    "To submit your code, make a PR into the data-eda-ta4 branch and add me and the TA as reviewers. Make sure the name of your notebook follows best practices and includes your team name.\n",
    "## Rubric\n",
    "\n",
    "### Report (35 points)\n",
    "* Report includes a title, authors, dates, and relevant information for running it at the top \n",
    "* Report includes a reference to the original dataset\n",
    "* Data context and sampling is documented in markdown\n",
    "* Code and documented interpretation of data structure\n",
    "* Code and documented interpretation of descriptive statistics\n",
    "* Code and documented interpretation of data quality\n",
    "* Code and documented interpretation of variable relationships\n",
    "* Visualizations used are complete and appropriate and interpretation(s) are documented in the notebook\n",
    "* Visualizations follow best practices (titles, axes labels, etc)\n",
    "* Strategies for handling missing values, outliers, and removing duplicates are implemented and/or discussed\n",
    "* Appropriate data transformation is performed\n",
    "* One new feature is engineered and documented\n",
    "* A dimensionality reduction method is performed and interpreted\n",
    "* A discussion on data quality assessment is included and incorporates the following components: data profiling, data completeness, data accuracy, data consistency, data integrity, and data lineage and provenance\n",
    "\n",
    "### Code (10 points)\n",
    "* Code is in a clearly named notebook\n",
    "* Code is clean and well organized\n",
    "* Code is documented with docstrings and comments \n",
    "* Branching and PRs were done appropriately\n",
    "* Requirements are included in the text of the PR and are correct and versioned\n",
    "* The code runs as documented\n"
   ]
  },
  {
   "cell_type": "code",
   "execution_count": 10,
   "id": "7bd5b6ee-db30-461b-9e46-3c0af40d969b",
   "metadata": {},
   "outputs": [],
   "source": [
    "import pandas as pd \n",
    "import matplotlib as mpl \n",
    "import seaborn as sns"
   ]
  },
  {
   "cell_type": "markdown",
   "id": "6f241cf9-ba3c-4698-be01-6dfa1577785a",
   "metadata": {
    "jp-MarkdownHeadingCollapsed": true
   },
   "source": [
    "# Load Dataset\n",
    "\n",
    "Clone the [Welltory heart rate variability (HRV) COVID-19 data](https://github.com/Welltory/hrv-covid19/tree/master) into a local repository, iterate over the files and load them into respective dataframes. "
   ]
  },
  {
   "cell_type": "code",
   "execution_count": 11,
   "id": "7e6eba4c-5f30-4cf3-a42e-5a6fdc95d9de",
   "metadata": {},
   "outputs": [],
   "source": [
    "import os"
   ]
  },
  {
   "cell_type": "code",
   "execution_count": 12,
   "id": "d036a83c-f191-4ca9-bae6-f8992634f468",
   "metadata": {},
   "outputs": [
    {
     "name": "stdout",
     "output_type": "stream",
     "text": [
      "fatal: destination path 'hrv-covid19' already exists and is not an empty directory.\n"
     ]
    }
   ],
   "source": [
    "!git clone https://github.com/Welltory/hrv-covid19.git"
   ]
  },
  {
   "cell_type": "code",
   "execution_count": 140,
   "id": "400ff5ae-4a55-404f-8db6-3e602390389b",
   "metadata": {},
   "outputs": [
    {
     "name": "stdout",
     "output_type": "stream",
     "text": [
      "CONSENT      LICENSE      README.md    \u001b[34mdata\u001b[m\u001b[m         datatypes.md\n"
     ]
    }
   ],
   "source": [
    "!ls hrv-covid19/"
   ]
  },
  {
   "cell_type": "code",
   "execution_count": 13,
   "id": "ed745da9-a708-4f21-90a8-6c99e81929bb",
   "metadata": {},
   "outputs": [
    {
     "name": "stdout",
     "output_type": "stream",
     "text": [
      "blood_pressure.csv     participants.csv       surveys.csv\n",
      "heart_rate.csv         scales_description.csv wearables.csv\n",
      "hrv_measurements.csv   sleep.csv              weather.csv\n"
     ]
    }
   ],
   "source": [
    "!ls hrv-covid19/data"
   ]
  },
  {
   "cell_type": "code",
   "execution_count": 14,
   "id": "72674d51-6f3d-4bf1-92b0-041c1e6d2a95",
   "metadata": {},
   "outputs": [],
   "source": [
    "hrv_data_dir = \"hrv-covid19/data\" \n",
    "\n",
    "dataset = []\n",
    "files = os.listdir(path=hrv_data_dir)\n",
    "for file in files: \n",
    "    dataset.append({ \"name\": file.split('.')[0],  \"file\": file, \"path\": hrv_data_dir + '/' + file })"
   ]
  },
  {
   "cell_type": "code",
   "execution_count": 20,
   "id": "fccb5532-dd65-48cb-9124-a33f71f86186",
   "metadata": {},
   "outputs": [
    {
     "name": "stdout",
     "output_type": "stream",
     "text": [
      "Loading scales_description (scales_description.csv) into [scales_description] dataframe \n",
      "Loading participants (participants.csv) into [participants] dataframe \n",
      "Loading wearables (wearables.csv) into [wearables] dataframe \n",
      "Loading blood_pressure (blood_pressure.csv) into [blood_pressure] dataframe \n",
      "Loading surveys (surveys.csv) into [surveys] dataframe \n",
      "Loading heart_rate (heart_rate.csv) into [heart_rate] dataframe \n",
      "Loading weather (weather.csv) into [weather] dataframe \n",
      "Loading hrv_measurements (hrv_measurements.csv) into [hrv_measurements] dataframe \n",
      "Loading sleep (sleep.csv) into [sleep] dataframe \n"
     ]
    }
   ],
   "source": [
    "dfs = {}\n",
    "for d in dataset: \n",
    "    print(f\"Loading {d['name']} ({d['file']}) into [{d['name']}] dataframe \") \n",
    "    dfs[d['name']] = pd.read_csv(d['path'])"
   ]
  },
  {
   "cell_type": "markdown",
   "id": "cbe83a6f-5578-410b-b6b3-c2dda1a78969",
   "metadata": {},
   "source": [
    "❗️**Insights**: \n",
    "\n",
    "- The included `datatypes.md` file is probably going to contain some helpful information, don't forget to inspect it"
   ]
  },
  {
   "cell_type": "markdown",
   "id": "f4d49b89-7656-4225-8b66-cc9d852d884b",
   "metadata": {},
   "source": [
    "# Dataset Structure and Semantics\n",
    "\n",
    "Here we should: \n",
    "* Document data context and data sampling in markdown\n",
    "* Explore and interpret data structure, descriptive statistics, data quality, and variable relationships\n",
    "* Explore data visually with appropriate visualizations"
   ]
  },
  {
   "cell_type": "markdown",
   "id": "354b3acc-cde6-42a1-a91e-82727e91eaf0",
   "metadata": {},
   "source": [
    "## Overall Structure and Composition\n",
    "\n",
    "See what the included datatypes file has to say about the dataset... "
   ]
  },
  {
   "cell_type": "code",
   "execution_count": 144,
   "id": "2514c5df-19ac-4aad-9294-6ab20a8b9a26",
   "metadata": {
    "scrolled": true
   },
   "outputs": [
    {
     "name": "stdout",
     "output_type": "stream",
     "text": [
      "**Technical description of provided csv files**\n",
      "\n",
      "**data/participants.csv**\n",
      "\n",
      "Contains general information about users (participants)\n",
      "\n",
      "|     |            |                            |           |\n",
      "|-----|------------|----------------------------|-----------|\n",
      "|     | **Column** | **Description**            | **Units** |\n",
      "| 0   | user\\_code | Unique user ID             |           |\n",
      "| 1   | gender     | Gender: m/f/other or empty |           |\n",
      "| 2   | age\\_range | Age range                  |           |\n",
      "| 3   | city       | City                       |           |\n",
      "| 4   | country    | Country                    |           |\n",
      "| 5   | height     | Height                     | cm        |\n",
      "| 6   | weight     | Weight                     | kg        |\n",
      "| 7   | symptoms_onset | The onset date of the symptoms of the disease. The format is MM/DD/YYYY. |    |\n",
      "\n",
      "**data/hrv_measurements.csv**\n",
      "\n",
      "Contains data based on heart rate variability (HRV) measurements collected from COVID-19 participants via the Welltory app\n",
      "\n",
      "|     |               |                                                                                         |                  |\n",
      "|-----|---------------|-----------------------------------------------------------------------------------------|------------------|\n",
      "|     | **Column**    | **Description**                                                                         | **Units**        |\n",
      "| 0   | user\\_code    | Unique user ID                                                                          |                  |\n",
      "| 1   | rr\\_code      | Unique measurement ID                                                                   |                  |\n",
      "| 2   | measurement\\_datetime  | Measurement datetime in YYYY-MM-DD hh:mm:ss format                             |                  |\n",
      "| 3   | time\\_of\\_day | Time of day: 'evening', 'morning', 'night' or 'day'                                     |                  |\n",
      "| 4   | bpm           | Heart rate during measurement                                                           | beats per minute |\n",
      "| 5   | meanrr        | Mean RR — average time between each heartbeat.                                          | milliseconds     |\n",
      "| 6   | mxdmn         | MxDMn — the difference between highest and lowest cardio interval values.               | seconds          |\n",
      "| 7   | sdnn          | SDNN — standard deviation of normal heartbeat intervals.                                | milliseconds     |\n",
      "| 8   | rmssd         | rMSSD — root mean square of successive differences for consecutive intervals.           | milliseconds     |\n",
      "| 9   | pnn50         | PNN50 — percent of RR-intervals that fall outside a 50 ms range of the average.         | %                |\n",
      "| 10  | mode          | Moda — the most common cardio interval length in a measurement.                         | milliseconds     |\n",
      "| 11  | amo           | AMo50 — mode amplitude.                                                                 | %/50milliseconds |\n",
      "| 12  | lf            | LF — the power of low frequency waves.                                                  | milliseconds²    |\n",
      "| 13  | hf            | HF — the power of high frequency waves.                                                 | milliseconds²    |\n",
      "| 14  | vlf           | VLF — power of very low frequency waves.                                                | milliseconds²    |\n",
      "| 15  | lfhf          | LF/HF — ratio of low to high frequency waves.                                           |                  |\n",
      "| 16  | total\\_power  | Total Power — the total power of HF, LF, and VLF waves generated by the heart.          | milliseconds²    |\n",
      "| 17  | how\\_feel     | Health score — answers to \"How do you feel physically?\" in the post-measurement survey. |                  |\n",
      "| 18  | how\\_mood     | Mood score — answers to \"How is your mood?\" in the post-measurement survey.             |                  |\n",
      "| 19  | how\\_sleep    | Sleep score —answers to \"How did you sleep?\" in the post-measurement survey.            |                  |\n",
      "| 20  | rr\\_data      | Intervals in milliseconds between consecutive heart beats as a comma-separated string   |                  |\n",
      "| 21  | tags          | Tags assigned by user as a comma-separated string                                       |\n",
      "\n",
      "**data/blood_pressure.csv**\n",
      "\n",
      "Contains blood pressure data and derivatives. Fields functional\\_changes\\_index, circulatory\\_efficiency, kerdo\\_vegetation\\_index, robinson\\_index are calculated when heart rate data is available during measurement\n",
      "\n",
      "|     |                            |                                                                                                                                                       |                        |\n",
      "|-----|----------------------------|-------------------------------------------------------------------------------------------------------------------------------------------------------|------------------------|\n",
      "|     | **Column**                 | **Description**                                                                                                                                       | **Units**              |\n",
      "| 0   | user\\_code                 | Unique user ID                                                                                                                                        |                        |\n",
      "| 1   | measurement_datetime       | Measurement  datetime in YYYY-MM-DD hh:mm:ss format                                                                                                   |                        |\n",
      "| 2   | diastolic                  | Diastolic blood pressure                                                                                                                              | millimeters of mercury |\n",
      "| 3   | systolic                   | Systolic blood pressure                                                                                                                               | millimeters of mercury |\n",
      "| 4   | functional\\_changes\\_index | FCI blood index — functional changes index. An assessment of how well the body can adapt to stressors. Takes height, weight, and gender into account. |                        |\n",
      "| 5   | circulatory\\_efficiency    | BCE blood index — blood circulation efficiency. Shows the body's readiness to cope with pressure based on blood pressure readings.                    |                        |\n",
      "| 6   | kerdo\\_vegetation\\_index   | Kerdo index — balance between stress and recovery based on blood pressure.                                                                            |                        |\n",
      "| 7   | robinson\\_index            | Robinson’s index — the capacity of the cardiovascular system based on systolic blood pressure.                                                        |\n",
      "\n",
      "**data/heart_rate.csv**\n",
      "\n",
      "Contains raw heart rate intervals\n",
      "\n",
      "|     |                      |                                                                               |           |\n",
      "|-----|----------------------|-------------------------------------------------------------------------------|-----------|\n",
      "|     | **Column**           | **Description**                                                               | **Units** |\n",
      "| 0   | user\\_code           | Unique user ID                                                                |           |\n",
      "| 1   | daytime              | Measurement datetime in YYYY-MM-DD hh:mm:ss format                            |           |\n",
      "| 2   | heart\\_rate          | Heart rate                                                                    | beats per minute |\n",
      "| 3   | is\\_resting          | Was heart rate measured during times of rest                                  |\n",
      "\n",
      "**data/wearables.csv**\n",
      "\n",
      "Contains data collected from supported gadgets and aggregated by day\n",
      "\n",
      "|     |                                     |                                                                                                                                  |                  |\n",
      "|-----|-------------------------------------|----------------------------------------------------------------------------------------------------------------------------------|------------------|\n",
      "|     | **Column**                          | **Description**                                                                                                                  | **Units**        |\n",
      "| 0   | user\\_code                          | Unique user ID                                                                                                                   |                  |\n",
      "| 1   | day                                 | Measurement date in YYYY-MM-DD format                                                                                            |                  |\n",
      "| 2   | resting\\_pulse                      | Resting heart rate                                                                                                               | beats per minute |\n",
      "| 3   | pulse\\_average                      | Heart rate                                                                                                                       | beats per minute |\n",
      "| 4   | pulse\\_min                          | Min heart rate                                                                                                                   | beats per minute |\n",
      "| 5   | pulse\\_max                          | Max heart rate                                                                                                                   | beats per minute |\n",
      "| 6   | average\\_spo2\\_value                | Oxygen saturation                                                                                                                | %                |\n",
      "| 7   | body\\_temperature\\_avg              | Body temperature                                                                                                                 | °C               |\n",
      "| 8   | stand\\_hours\\_total                 | Hours spend standing                                                                                                             | hours            |\n",
      "| 9   | steps\\_count                        | Steps                                                                                                                            | steps            |\n",
      "| 10  | distance                            | Walking & running distance                                                                                                       | meters           |\n",
      "| 11  | steps\\_speed                        | Steps cadence — number of steps per minute.                                                                                      | steps per minute |\n",
      "| 12  | total\\_number\\_of\\_flights\\_climbed | Flights climbed                                                                                                                  | flights          |\n",
      "| 13  | active\\_calories\\_burned            | Active kcal — how many calories you burned as a result of activity.                                                              | kilocalories     |\n",
      "| 14  | basal\\_calories\\_burned             | Resting kcal — how many calories you burned at rest just by keeping your body's systems running: digesting food, breathing, etc. | kilocalories     |\n",
      "| 15  | total\\_calories\\_burned             | Calories burned                                                                                                                  | kilocalories     |\n",
      "| 16  | average\\_headphone\\_exposure        | Average headphone audio levels                                                                                                   | decibel          |\n",
      "| 17  | average\\_environment\\_exposure      | Average environmental sound levels                                                                                               | decibel          |\n",
      "\n",
      "**data/sleep.csv**\n",
      "\n",
      "Contains data about user sleep collected from supported gadgets and aggregated by day\n",
      "\n",
      "|     |                        |                                                               |                  |\n",
      "|-----|------------------------|---------------------------------------------------------------|------------------|\n",
      "|     | **Column**             | **Description**                                               | **Units**        |\n",
      "| 0   | user\\_code             | Unique user ID                                                |                  |\n",
      "| 1   | day                    | Measurement date in YYYY-MM-DD format                         |                  |\n",
      "| 2   | sleep\\_begin           | Sleep start date and time in YYYY-MM-DD hh:mm:ss format       |                  |\n",
      "| 3   | sleep\\_end             | Sleep end date and time in YYYY-MM-DD hh:mm:ss format         |                  |\n",
      "| 4   | sleep\\_duration        | Time asleep                                                   | hours            |\n",
      "| 5   | sleep\\_awake\\_duration | Time awake — amount of time you spent in bed, but not asleep. | hours            |\n",
      "| 6   | sleep\\_rem\\_duration   | REM sleep — rapid eye movement sleep                          | hours            |\n",
      "| 7   | sleep\\_light\\_duration | Light sleep                                                   | hours            |\n",
      "| 8   | sleep\\_deep\\_duration  | Deep sleep                                                    | hours            |\n",
      "| 9   | pulse\\_min             | Min heart rate                                                | beats per minute |\n",
      "| 10  | pulse\\_max             | Max heart rate                                                | beats per minute |\n",
      "| 11  | pulse\\_average         | Heart rate                                                    | beats per minute |\n",
      "\n",
      "**data/weather.csv**\n",
      "\n",
      "Contains data about weather conditions for user's location aggregated by day\n",
      "\n",
      "|    | Column               | Description                              | Units                  |\n",
      "|----|----------------------|------------------------------------------|------------------------|\n",
      "|  0 | user_code            | Unique user ID                           |                        |\n",
      "|  1 | day                  | Measurement date in YYYY-MM-DD format    |                        |\n",
      "|  2 | avg_temperature_C    | Outdoor air temperature                  | °C                     |\n",
      "|  3 | atmospheric_pressure | Atmospheric pressure                     | millimeters of mercury |\n",
      "|  4 | precip_intensity     | Precipitation                            | millimeters per hour   |\n",
      "|  5 | humidity             | Outdoor humidity                         | %                      |\n",
      "|  6 | clouds               | Cloudiness                               | %                      |\n",
      "\n",
      "\n",
      "**data/surveys.csv**\n",
      "\n",
      "Contains results of health-related surveys that users take in Welltory app\n",
      "\n",
      "|    | Column     | Description                                         | Units   |\n",
      "|----|------------|-----------------------------------------------------|---------|\n",
      "|  0 | user_code  | Unique user ID                                      |         |\n",
      "|  1 | scale      | Survey code (see section 'Survey scale description' for details)|         |\n",
      "|  2 | created_at | Date when user took the survey in YYYY-MM-DD format |         |\n",
      "|  3 | value      | User's result                                       |         |\n",
      "|  4 | text       | Text interpretation of user's result                |         |\n",
      "\n",
      "**Survey scale description**\n",
      "\n",
      "| Scale             | Description                                                                                                                                                             |   Value | Meaning                                                    |\n",
      "|:------------------|:------------------------------------------------------------------------------------------------------------------------------------------------------------------------|--------:|:-----------------------------------------------------------|\n",
      "| S_COVID_SYMPTOMS  | How long the user has been experiencing symptoms                                                                                                                        |       1 | Less than 3 days                                           |\n",
      "| S_COVID_SYMPTOMS  | How long the user has been experiencing symptoms                                                                                                                        |       2 | 3 to 6 days                                                |\n",
      "| S_COVID_SYMPTOMS  | How long the user has been experiencing symptoms                                                                                                                        |       3 | 7 to 14 days                                               |\n",
      "| S_COVID_SYMPTOMS  | How long the user has been experiencing symptoms                                                                                                                        |       4 | More than 14 days                                          |\n",
      "| S_COVID_COUGH     | Symptom intensity: Coughing                                                                                                                                             |       1 | User isn’t experiencing symptom                            |\n",
      "| S_COVID_COUGH     | Symptom intensity: Coughing                                                                                                                                             |       2 | Very mild                                                  |\n",
      "| S_COVID_COUGH     | Symptom intensity: Coughing                                                                                                                                             |       3 | Mild                                                       |\n",
      "| S_COVID_COUGH     | Symptom intensity: Coughing                                                                                                                                             |       4 | Moderate                                                   |\n",
      "| S_COVID_COUGH     | Symptom intensity: Coughing                                                                                                                                             |       5 | Severe                                                     |\n",
      "| S_COVID_COUGH     | Symptom intensity: Coughing                                                                                                                                             |       6 | Extremely severe                                           |\n",
      "| S_COVID_FEVER     | Symptom intensity: Fever                                                                                                                                                |       1 | User isn’t experiencing symptom                            |\n",
      "| S_COVID_FEVER     | Symptom intensity: Fever                                                                                                                                                |       2 | Very mild                                                  |\n",
      "| S_COVID_FEVER     | Symptom intensity: Fever                                                                                                                                                |       3 | Mild                                                       |\n",
      "| S_COVID_FEVER     | Symptom intensity: Fever                                                                                                                                                |       4 | Moderate                                                   |\n",
      "| S_COVID_FEVER     | Symptom intensity: Fever                                                                                                                                                |       5 | Severe                                                     |\n",
      "| S_COVID_FEVER     | Symptom intensity: Fever                                                                                                                                                |       6 | Extremely severe                                           |\n",
      "| S_COVID_BREATH    | Symptom intensity: Shortness of breath                                                                                                                                  |       1 | User isn’t experiencing symptom                            |\n",
      "| S_COVID_BREATH    | Symptom intensity: Shortness of breath                                                                                                                                  |       2 | Very mild                                                  |\n",
      "| S_COVID_BREATH    | Symptom intensity: Shortness of breath                                                                                                                                  |       3 | Mild                                                       |\n",
      "| S_COVID_BREATH    | Symptom intensity: Shortness of breath                                                                                                                                  |       4 | Moderate                                                   |\n",
      "| S_COVID_BREATH    | Symptom intensity: Shortness of breath                                                                                                                                  |       5 | Severe                                                     |\n",
      "| S_COVID_BREATH    | Symptom intensity: Shortness of breath                                                                                                                                  |       6 | Extremely severe                                           |\n",
      "| S_COVID_FATIGUE   | Symptom intensity: Fatigue                                                                                                                                              |       1 | User isn’t experiencing symptom                            |\n",
      "| S_COVID_FATIGUE   | Symptom intensity: Fatigue                                                                                                                                              |       2 | Very mild                                                  |\n",
      "| S_COVID_FATIGUE   | Symptom intensity: Fatigue                                                                                                                                              |       3 | Mild                                                       |\n",
      "| S_COVID_FATIGUE   | Symptom intensity: Fatigue                                                                                                                                              |       4 | Moderate                                                   |\n",
      "| S_COVID_FATIGUE   | Symptom intensity: Fatigue                                                                                                                                              |       5 | Severe                                                     |\n",
      "| S_COVID_FATIGUE   | Symptom intensity: Fatigue                                                                                                                                              |       6 | Extremely severe                                           |\n",
      "| S_COVID_PAIN      | Symptom intensity: Pain or pressure in the chest                                                                                                                        |       1 | User isn’t experiencing symptom                            |\n",
      "| S_COVID_PAIN      | Symptom intensity: Pain or pressure in the chest                                                                                                                        |       2 | Very mild                                                  |\n",
      "| S_COVID_PAIN      | Symptom intensity: Pain or pressure in the chest                                                                                                                        |       3 | Mild                                                       |\n",
      "| S_COVID_PAIN      | Symptom intensity: Pain or pressure in the chest                                                                                                                        |       4 | Moderate                                                   |\n",
      "| S_COVID_PAIN      | Symptom intensity: Pain or pressure in the chest                                                                                                                        |       5 | Severe                                                     |\n",
      "| S_COVID_PAIN      | Symptom intensity: Pain or pressure in the chest                                                                                                                        |       6 | Extremely severe                                           |\n",
      "| S_COVID_CONFUSION | Symptom intensity: Confusion                                                                                                                                            |       1 | User isn’t experiencing symptom                            |\n",
      "| S_COVID_CONFUSION | Symptom intensity: Confusion                                                                                                                                            |       2 | Very mild                                                  |\n",
      "| S_COVID_CONFUSION | Symptom intensity: Confusion                                                                                                                                            |       3 | Mild                                                       |\n",
      "| S_COVID_CONFUSION | Symptom intensity: Confusion                                                                                                                                            |       4 | Moderate                                                   |\n",
      "| S_COVID_CONFUSION | Symptom intensity: Confusion                                                                                                                                            |       5 | Severe                                                     |\n",
      "| S_COVID_CONFUSION | Symptom intensity: Confusion                                                                                                                                            |       6 | Extremely severe                                           |\n",
      "| S_COVID_TROUBLE   | Symptom intensity: Trouble breathing                                                                                                                                    |       1 | User isn’t experiencing symptom                            |\n",
      "| S_COVID_TROUBLE   | Symptom intensity: Trouble breathing                                                                                                                                    |       2 | Very mild                                                  |\n",
      "| S_COVID_TROUBLE   | Symptom intensity: Trouble breathing                                                                                                                                    |       3 | Mild                                                       |\n",
      "| S_COVID_TROUBLE   | Symptom intensity: Trouble breathing                                                                                                                                    |       4 | Moderate                                                   |\n",
      "| S_COVID_TROUBLE   | Symptom intensity: Trouble breathing                                                                                                                                    |       5 | Severe                                                     |\n",
      "| S_COVID_TROUBLE   | Symptom intensity: Trouble breathing                                                                                                                                    |       6 | Extremely severe                                           |\n",
      "| S_COVID_BLUISH    | Symptom intensity: Bluish face or lips                                                                                                                                  |       1 | User isn’t experiencing symptom                            |\n",
      "| S_COVID_BLUISH    | Symptom intensity: Bluish face or lips                                                                                                                                  |       2 | Very mild                                                  |\n",
      "| S_COVID_BLUISH    | Symptom intensity: Bluish face or lips                                                                                                                                  |       3 | Mild                                                       |\n",
      "| S_COVID_BLUISH    | Symptom intensity: Bluish face or lips                                                                                                                                  |       4 | Moderate                                                   |\n",
      "| S_COVID_BLUISH    | Symptom intensity: Bluish face or lips                                                                                                                                  |       5 | Severe                                                     |\n",
      "| S_COVID_BLUISH    | Symptom intensity: Bluish face or lips                                                                                                                                  |       6 | Extremely severe                                           |\n",
      "| S_COVID_OVERALL   | Overall state                                                                                                                                                           |       1 | User isn’t experiencing symptom                            |\n",
      "| S_COVID_OVERALL   | Overall state                                                                                                                                                           |       2 | Very mild                                                  |\n",
      "| S_COVID_OVERALL   | Overall state                                                                                                                                                           |       3 | Mild                                                       |\n",
      "| S_COVID_OVERALL   | Overall state                                                                                                                                                           |       4 | Moderate                                                   |\n",
      "| S_COVID_OVERALL   | Overall state                                                                                                                                                           |       5 | Severe                                                     |\n",
      "| S_COVID_OVERALL   | Overall state                                                                                                                                                           |       6 | Extremely severe                                           |\n",
      "| S_CORONA          | An assessment of the user’s symptoms which shows how likely it is that the user has coronavirus                                                                         |       1 | User has some of the symptoms associated with coronavirus  |\n",
      "| S_CORONA          | An assessment of the user’s symptoms which shows how likely it is that the user has coronavirus                                                                         |       2 | Symptoms are characteristic of coronavirus                 |\n",
      "| S_CORONA          | An assessment of the user’s symptoms which shows how likely it is that the user has coronavirus                                                                         |       3 | Symptoms are non-specific                                  |\n",
      "| S_CORONA          | An assessment of the user’s symptoms which shows how likely it is that the user has coronavirus                                                                         |       4 | Symptoms are not characteristic of coronavirus             |\n",
      "| S_CORONA          | An assessment of the user’s symptoms which shows how likely it is that the user has coronavirus                                                                         |       5 | No symptoms of coronavirus                                 |\n",
      "| S_HEART           | An assessment of a user’s chances to develop coronary heart disease based on their lifestyle and habits. Based on Framingham Risk Score for Hard Coronary Heart Disease |       1 | A 30% chance of developing coronary heart disease          |\n",
      "| S_HEART           | An assessment of a user’s chances to develop coronary heart disease based on their lifestyle and habits. Based on Framingham Risk Score for Hard Coronary Heart Disease |       2 | A 50% chance of developing coronary heart disease          |\n",
      "| S_HEART           | An assessment of a user’s chances to develop coronary heart disease based on their lifestyle and habits. Based on Framingham Risk Score for Hard Coronary Heart Disease |       3 | A 20% chance of developing coronary heart disease          |\n",
      "| S_HEART           | An assessment of a user’s chances to develop coronary heart disease based on their lifestyle and habits. Based on Framingham Risk Score for Hard Coronary Heart Disease |       4 | A 10% chance of developing coronary heart disease          |\n",
      "| S_HEART           | An assessment of a user’s chances to develop coronary heart disease based on their lifestyle and habits. Based on Framingham Risk Score for Hard Coronary Heart Disease |       5 | Less than 10% chance of developing coronary heart disease  |\n",
      "| S_HEART           | An assessment of a user’s chances to develop coronary heart disease based on their lifestyle and habits. Based on Framingham Risk Score for Hard Coronary Heart Disease |       6 | Less than 3% chance of developing coronary heart disease   |\n",
      "| S_HEART_1         | Whether the user is a smoker                                                                                                                                            |       1 | User is a smoker                                           |\n",
      "| S_HEART_2         | Whether the user has diabetes and/or is overweight                                                                                                                      |       1 | User has diabetes and is overweight                        |\n",
      "| S_HEART_22        | Whether the user has diabetes and/or is overweight                                                                                                                      |       1 | User has diabetes and is not overweight                    |\n",
      "| S_HEART_3         | Whether the user has high cholesterol levels                                                                                                                            |       1 | User has high cholesterol levels                           |\n",
      "| S_HEART_4         | Whether the user has high BP                                                                                                                                            |       1 | User has high BP                                           |\n",
      "| S_HEART_5         | Whether the user takes BP meds                                                                                                                                          |       1 | User has high BP and does not take meds                    |\n",
      "| S_HEART_6         | Whether the user is highly stressed                                                                                                                                     |       1 | User has high stress                                       |\n",
      "| S_HEART_7         | Whether the user is overweight                                                                                                                                          |       1 | User is overweight                                         |\n",
      "| S_HRA_MONTH       | How far along in their pregnancy the user is                                                                                                                            |       1 | User is less than 3 months pregnant when taking the test   |\n",
      "| S_HRA_MONTH       | How far along in their pregnancy the user is                                                                                                                            |       2 | User is less than 3-4 months pregnant when taking the test |\n",
      "| S_HRA_MONTH       | How far along in their pregnancy the user is                                                                                                                            |       3 | User is less than 5-6 months pregnant when taking the test |\n",
      "| S_HRA_MONTH       | How far along in their pregnancy the user is                                                                                                                            |       4 | User is more than 7 months pregnant when taking the test   |\n",
      "| S_HRA_ASTHMA      | Whether the user has asthma or bronchial spasm                                                                                                                          |       1 | User has asthma or bronchial spasm                         |\n",
      "| S_HRA_ALLERG      | Whether the user has allergies                                                                                                                                          |       1 | User has allergies                                         |\n",
      "| S_HRA_LUNG        | Whether the user has lung diseases                                                                                                                                      |       1 | User has lung diseases                                     |\n",
      "| S_HRA_KIDNEY      | Whether the user has kidney problems                                                                                                                                    |       1 | User has kidney problems                                   |\n",
      "| S_HRA_LIVER       | Whether the user has liver problems                                                                                                                                     |       1 | User has liver problems                                    |\n",
      "| S_HRA_CHOL        | Whether the user has high cholesterol                                                                                                                                   |       1 | User has high cholesterol                                  |\n",
      "| S_HRA_DBT         | Whether the user has any type of diabetes                                                                                                                               |       1 | User has type 1 diabetes                                   |\n",
      "| S_HRA_DBT         | Whether the user has any type of diabetes                                                                                                                               |       2 | User has type 2 diabetes                                   |\n",
      "| S_HRA_ARR         | Whether the user has arrhythmia or other heart rhythm disorders                                                                                                         |       1 | User has arrhythmia or other heart rhythm disorders        |\n",
      "| S_HRA_HEART       | Whether the user has heart disease, blood pressure problems                                                                                                             |       1 | User has heart disease, blood pressure problems            |\n",
      "| S_HRA_AFTER       | Whether the user s recovering after a heart attack                                                                                                                      |       1 | User is recovering after a heart attack                    |\n",
      "| S_HRA_HBP         | Whether the user has high blood pressure                                                                                                                                |       1 | User has high blood pressure                               |\n",
      "| S_HRA_LBP         | Whether the user has low BP                                                                                                                                             |       1 | User has low BP                                            |\n",
      "| S_HRA_THYR        | Whether the user has thyroid problems                                                                                                                                   |       1 | User has hypothyroidism                                    |\n",
      "| S_HRA_THYR        | Whether the user has thyroid problems                                                                                                                                   |       2 | User has hyperthyroidism                                   |\n",
      "| S_HRA_EPILEPSY    | Whether the user has epilepsy                                                                                                                                           |       1 | User has epilepsy                                          |\n",
      "| S_HRA_BONE        | Whether the user has musculoskeletal disorders                                                                                                                          |       1 | User has musculoskeletal disorders                         |\n",
      "| S_HRA_JOINTS      | Whether the user has arthritis                                                                                                                                          |       1 | User has arthritis                                         |\n",
      "| S_HRA_OSTEO       | Whether the user has osteoporosis                                                                                                                                       |       1 | User has osteoporosis                                      |\n",
      "| S_HRA_NECK        | Whether the user has neck pain                                                                                                                                          |       1 | User has neck pain                                         |\n",
      "| S_HRA_JOINT       | Whether the user has joint pain                                                                                                                                         |       1 | User has joint pain                                        |\n",
      "| S_HRA_FIBRO       | Whether the user has fibromyalgia                                                                                                                                       |       1 | User has fibromyalgia                                      |\n",
      "| S_HRA_HEAD        | Whether the user has headaches/migraines                                                                                                                                |       1 | User has headaches                                         |\n",
      "| S_HRA_HEAD        | Whether the user has headaches/migraines                                                                                                                                |       2 | User has migraines                                         |\n",
      "| S_HRA_SLEEP       | Whether the user has sleep problems                                                                                                                                     |       1 | User has sleep problems                                    |\n",
      "| S_HRA_DEP         | Whether the user has depression                                                                                                                                         |       1 | User has depression                                        |\n",
      "| S_HRA_ANX         | Whether the user has anxiety                                                                                                                                            |       1 | User has anxiety                                           |\n",
      "| S_HRA_PANIC       | Whether the user has panic attacks                                                                                                                                      |       1 | User has panic attacks                                     |\n",
      "| S_HRA_EDEMA       | Whether the user has edema                                                                                                                                              |       1 | User has edema                                             |\n",
      "| S_HRA_CUSHING     | Whether the user has Cushing's syndrome                                                                                                                                 |       1 | User has Cushing's syndrome                                |\n",
      "| S_HRA_D           | Whether the user has vitamin D deficiency                                                                                                                               |       1 | User has vitamin D deficiency                              |\n",
      "| S_HRA_OVARY       | Whether the user has polycystic ovaries                                                                                                                                 |       1 | User has polycystic ovaries                                |\n",
      "| S_HRA_VARI        | Whether the user has varicose veins                                                                                                                                     |       1 | User has varicose veins                                    |\n",
      "| S_HRA_ENDO        | Whether the user has endometriosis                                                                                                                                      |       1 | User has endometriosis                                     |\n",
      "| S_HRA_HORM        | Whether the user’s  hormones are out of balance                                                                                                                         |       1 | User’s  hormones are out of balance                        |\n",
      "| S_SMOKING         | Whether the user is a smoker                                                                                                                                            |       1 | User recently quit smoking                                 |\n",
      "| S_SMOKING         | Whether the user is a smoker                                                                                                                                            |       2 | User is a smoker                                           |\n",
      "| S_HRA_PMS         | Whether the user has PMS                                                                                                                                                |       1 | User has PMS                                               |\n",
      "| S_HRA_HEAVY       | Whether the user has heavy periods                                                                                                                                      |       1 | User has heavy periods                                     |\n",
      "| S_HRA_IRR         | Whether the user has irregular periods                                                                                                                                  |       1 | User has irregular periods                                 |\n",
      "| S_HRA_PERPAIN     | Whether the user has painful periods                                                                                                                                    |       1 | User has painful periods                                   |\n",
      "| S_HRA_SUGAR       | Whether the user has high blood sugar                                                                                                                                   |       1 | User has high blood sugar                                  |\n",
      "| S_HRA_COLDS       | Whether the user has frequent colds                                                                                                                                     |       1 | User has frequent colds                                    |\n",
      "| S_HRA_ANEMIA      | Whether the user has anemia                                                                                                                                             |       1 | User has anemia                                            |\n",
      "| S_HRA_BIPOLAR     | Whether the user is bipolar                                                                                                                                             |       1 | User is bipolar                                            |\n",
      "| S_HRA_OCD         | Whether the user has OCD                                                                                                                                                |       1 | User has OCD                                               |\n",
      "| S_HRA_POST        | Whether the user has PTSD                                                                                                                                               |       1 | User has PTSD                                              |\n",
      "| S_HRA_SKIN        | Whether the user has skin problems                                                                                                                                      |       2 | User has rosacea                                           |\n",
      "| S_HRA_SKIN        | Whether the user has skin problems                                                                                                                                      |       3 | User has psoriasis                                         |\n",
      "| S_HRA_SKIN        | Whether the user has skin problems                                                                                                                                      |       1 | User has ecsema                                            |\n",
      "| S_HRA_VIT         | Whether the user takes vitamins/nootropics                                                                                                                              |       1 | User takes vitamins/nootropics                             |\n",
      "| S_HRA_VIT         | Whether the user takes vitamins/nootropics                                                                                                                              |       3 | User doesn’t take vitamins/nootropics                      |\n",
      "| S_HRA_ALC         | How much alcohol the user consumes on a regular basis                                                                                                                   |       1 | User drinks a lot of alcohol                               |\n",
      "| S_HRA_ALC         | How much alcohol the user consumes on a regular basis                                                                                                                   |       2 | User doesn’t drink alcohol                                 |\n",
      "| S_HRA_ALC         | How much alcohol the user consumes on a regular basis                                                                                                                   |       3 | User drinks little alcohol                                 |\n",
      "| S_HRA_ALC         | How much alcohol the user consumes on a regular basis                                                                                                                   |       4 | User drinks an average amount of alcohol                   |\n",
      "| S_DIABETES        | An assessment of the user’s chances of developing Type 2 Diabetes based on their lifestyle and habits. Based on research by Finnish Diabetes Association                |       1 | 1% chance of developing Type 2 diabetes                    |\n",
      "| S_DIABETES        | An assessment of the user’s chances of developing Type 2 Diabetes based on their lifestyle and habits. Based on research by Finnish Diabetes Association                |       2 | 4% chance of developing Type 2 diabetes                    |\n",
      "| S_DIABETES        | An assessment of the user’s chances of developing Type 2 Diabetes based on their lifestyle and habits. Based on research by Finnish Diabetes Association                |       3 | 15% chance of developing Type 2 diabetes                   |\n",
      "| S_DIABETES        | An assessment of the user’s chances of developing Type 2 Diabetes based on their lifestyle and habits. Based on research by Finnish Diabetes Association                |       4 | 30% chance of developing Type 2 diabetes                   |\n",
      "| S_DIABETES        | An assessment of the user’s chances of developing Type 2 Diabetes based on their lifestyle and habits. Based on research by Finnish Diabetes Association                |       5 | 50% chance of developing Type 2 diabetes                   |\n",
      "| S_DIAB_REASON1    | Whether the user’s waist circumference is within the norm                                                                                                               |       1 | Waist circumference is within the norm                     |\n",
      "| S_DIAB_REASON2    | Whether the user is active enough                                                                                                                                       |       1 | Is active enough                                           |\n",
      "| S_DIAB_REASON3    | Whether the user eats healthy                                                                                                                                           |       1 | Eats healthy                                               |\n",
      "| S_DIAB_REASON4    | Whether the user has BP problems                                                                                                                                        |       1 | No BP problems                                             |\n",
      "| S_DIAB_REASON5    | Whether the user’s blood sugar is within the norm when taking the test                                                                                                  |       1 | Blood sugar is within the norm when taking the test        |\n",
      "| S_DIAB_REASON6    | Whether the user has a family history of diabetes                                                                                                                       |       1 | No family history of diabetes                              |\n",
      "\n"
     ]
    }
   ],
   "source": [
    "!cat hrv-covid19/datatypes.md"
   ]
  },
  {
   "cell_type": "markdown",
   "id": "0a575329-845a-4da1-901e-edf4690bdb48",
   "metadata": {},
   "source": [
    "This is essential understanding the dataset, but we can't rely exclusively on the documentation, as the metadata could be outdated or inaccurate. \n",
    "\n",
    "Dump the schema of each table to gain an appreciation for their actual features and overall structure. \n",
    "\n",
    "Note the explicit calls to the notebook `display` functionality required since the notebook can't infer it's use in a loop. [Source](https://stackoverflow.com/questions/26873127/show-dataframe-as-table-in-ipython-notebook)"
   ]
  },
  {
   "cell_type": "code",
   "execution_count": 42,
   "id": "576c566c-5f7e-4839-aef8-d5b5a394788e",
   "metadata": {},
   "outputs": [],
   "source": [
    "from IPython.display import display"
   ]
  },
  {
   "cell_type": "code",
   "execution_count": 53,
   "id": "63f2e60f-0714-4cea-8a0d-f57c116ebc88",
   "metadata": {},
   "outputs": [
    {
     "name": "stdout",
     "output_type": "stream",
     "text": [
      "scales_description\n"
     ]
    },
    {
     "data": {
      "text/html": [
       "<div>\n",
       "<style scoped>\n",
       "    .dataframe tbody tr th:only-of-type {\n",
       "        vertical-align: middle;\n",
       "    }\n",
       "\n",
       "    .dataframe tbody tr th {\n",
       "        vertical-align: top;\n",
       "    }\n",
       "\n",
       "    .dataframe thead th {\n",
       "        text-align: right;\n",
       "    }\n",
       "</style>\n",
       "<table border=\"1\" class=\"dataframe\">\n",
       "  <thead>\n",
       "    <tr style=\"text-align: right;\">\n",
       "      <th></th>\n",
       "      <th>Scale</th>\n",
       "      <th>Description</th>\n",
       "      <th>Value</th>\n",
       "      <th>Meaning</th>\n",
       "    </tr>\n",
       "  </thead>\n",
       "  <tbody>\n",
       "    <tr>\n",
       "      <th>0</th>\n",
       "      <td>S_COVID_SYMPTOMS</td>\n",
       "      <td>How long the user has been experiencing symptoms</td>\n",
       "      <td>1</td>\n",
       "      <td>Less than 3 days</td>\n",
       "    </tr>\n",
       "  </tbody>\n",
       "</table>\n",
       "</div>"
      ],
      "text/plain": [
       "              Scale                                       Description  Value  \\\n",
       "0  S_COVID_SYMPTOMS  How long the user has been experiencing symptoms      1   \n",
       "\n",
       "            Meaning  \n",
       "0  Less than 3 days  "
      ]
     },
     "metadata": {},
     "output_type": "display_data"
    },
    {
     "name": "stdout",
     "output_type": "stream",
     "text": [
      "participants\n"
     ]
    },
    {
     "data": {
      "text/html": [
       "<div>\n",
       "<style scoped>\n",
       "    .dataframe tbody tr th:only-of-type {\n",
       "        vertical-align: middle;\n",
       "    }\n",
       "\n",
       "    .dataframe tbody tr th {\n",
       "        vertical-align: top;\n",
       "    }\n",
       "\n",
       "    .dataframe thead th {\n",
       "        text-align: right;\n",
       "    }\n",
       "</style>\n",
       "<table border=\"1\" class=\"dataframe\">\n",
       "  <thead>\n",
       "    <tr style=\"text-align: right;\">\n",
       "      <th></th>\n",
       "      <th>user_code</th>\n",
       "      <th>gender</th>\n",
       "      <th>age_range</th>\n",
       "      <th>city</th>\n",
       "      <th>country</th>\n",
       "      <th>height</th>\n",
       "      <th>weight</th>\n",
       "      <th>symptoms_onset</th>\n",
       "    </tr>\n",
       "  </thead>\n",
       "  <tbody>\n",
       "    <tr>\n",
       "      <th>0</th>\n",
       "      <td>007b8190cf</td>\n",
       "      <td>m</td>\n",
       "      <td>25-34</td>\n",
       "      <td>Mandalay</td>\n",
       "      <td>Myanmar</td>\n",
       "      <td>170.18</td>\n",
       "      <td>96.162</td>\n",
       "      <td>NaN</td>\n",
       "    </tr>\n",
       "  </tbody>\n",
       "</table>\n",
       "</div>"
      ],
      "text/plain": [
       "    user_code gender age_range      city  country  height  weight  \\\n",
       "0  007b8190cf      m     25-34  Mandalay  Myanmar  170.18  96.162   \n",
       "\n",
       "  symptoms_onset  \n",
       "0            NaN  "
      ]
     },
     "metadata": {},
     "output_type": "display_data"
    },
    {
     "name": "stdout",
     "output_type": "stream",
     "text": [
      "wearables\n"
     ]
    },
    {
     "data": {
      "text/html": [
       "<div>\n",
       "<style scoped>\n",
       "    .dataframe tbody tr th:only-of-type {\n",
       "        vertical-align: middle;\n",
       "    }\n",
       "\n",
       "    .dataframe tbody tr th {\n",
       "        vertical-align: top;\n",
       "    }\n",
       "\n",
       "    .dataframe thead th {\n",
       "        text-align: right;\n",
       "    }\n",
       "</style>\n",
       "<table border=\"1\" class=\"dataframe\">\n",
       "  <thead>\n",
       "    <tr style=\"text-align: right;\">\n",
       "      <th></th>\n",
       "      <th>user_code</th>\n",
       "      <th>day</th>\n",
       "      <th>resting_pulse</th>\n",
       "      <th>pulse_average</th>\n",
       "      <th>pulse_min</th>\n",
       "      <th>pulse_max</th>\n",
       "      <th>average_spo2_value</th>\n",
       "      <th>body_temperature_avg</th>\n",
       "      <th>stand_hours_total</th>\n",
       "      <th>steps_count</th>\n",
       "      <th>distance</th>\n",
       "      <th>steps_speed</th>\n",
       "      <th>total_number_of_flights_climbed</th>\n",
       "      <th>active_calories_burned</th>\n",
       "      <th>basal_calories_burned</th>\n",
       "      <th>total_calories_burned</th>\n",
       "      <th>average_headphone_exposure</th>\n",
       "      <th>average_environment_exposure</th>\n",
       "    </tr>\n",
       "  </thead>\n",
       "  <tbody>\n",
       "    <tr>\n",
       "      <th>0</th>\n",
       "      <td>007b8190cf</td>\n",
       "      <td>2020-04-26</td>\n",
       "      <td>NaN</td>\n",
       "      <td>70.0</td>\n",
       "      <td>70.0</td>\n",
       "      <td>70.0</td>\n",
       "      <td>NaN</td>\n",
       "      <td>NaN</td>\n",
       "      <td>NaN</td>\n",
       "      <td>NaN</td>\n",
       "      <td>NaN</td>\n",
       "      <td>NaN</td>\n",
       "      <td>NaN</td>\n",
       "      <td>NaN</td>\n",
       "      <td>2859.0</td>\n",
       "      <td>2859.0</td>\n",
       "      <td>NaN</td>\n",
       "      <td>NaN</td>\n",
       "    </tr>\n",
       "  </tbody>\n",
       "</table>\n",
       "</div>"
      ],
      "text/plain": [
       "    user_code         day  resting_pulse  pulse_average  pulse_min  pulse_max  \\\n",
       "0  007b8190cf  2020-04-26            NaN           70.0       70.0       70.0   \n",
       "\n",
       "   average_spo2_value  body_temperature_avg  stand_hours_total  steps_count  \\\n",
       "0                 NaN                   NaN                NaN          NaN   \n",
       "\n",
       "   distance  steps_speed  total_number_of_flights_climbed  \\\n",
       "0       NaN          NaN                              NaN   \n",
       "\n",
       "   active_calories_burned  basal_calories_burned  total_calories_burned  \\\n",
       "0                     NaN                 2859.0                 2859.0   \n",
       "\n",
       "   average_headphone_exposure  average_environment_exposure  \n",
       "0                         NaN                           NaN  "
      ]
     },
     "metadata": {},
     "output_type": "display_data"
    },
    {
     "name": "stdout",
     "output_type": "stream",
     "text": [
      "blood_pressure\n"
     ]
    },
    {
     "data": {
      "text/html": [
       "<div>\n",
       "<style scoped>\n",
       "    .dataframe tbody tr th:only-of-type {\n",
       "        vertical-align: middle;\n",
       "    }\n",
       "\n",
       "    .dataframe tbody tr th {\n",
       "        vertical-align: top;\n",
       "    }\n",
       "\n",
       "    .dataframe thead th {\n",
       "        text-align: right;\n",
       "    }\n",
       "</style>\n",
       "<table border=\"1\" class=\"dataframe\">\n",
       "  <thead>\n",
       "    <tr style=\"text-align: right;\">\n",
       "      <th></th>\n",
       "      <th>user_code</th>\n",
       "      <th>measurement_datetime</th>\n",
       "      <th>diastolic</th>\n",
       "      <th>systolic</th>\n",
       "      <th>functional_changes_index</th>\n",
       "      <th>circulatory_efficiency</th>\n",
       "      <th>kerdo_vegetation_index</th>\n",
       "      <th>robinson_index</th>\n",
       "    </tr>\n",
       "  </thead>\n",
       "  <tbody>\n",
       "    <tr>\n",
       "      <th>0</th>\n",
       "      <td>01bad5a519</td>\n",
       "      <td>2020-04-29  22:33:33</td>\n",
       "      <td>100</td>\n",
       "      <td>150</td>\n",
       "      <td>NaN</td>\n",
       "      <td>NaN</td>\n",
       "      <td>NaN</td>\n",
       "      <td>NaN</td>\n",
       "    </tr>\n",
       "  </tbody>\n",
       "</table>\n",
       "</div>"
      ],
      "text/plain": [
       "    user_code  measurement_datetime  diastolic  systolic  \\\n",
       "0  01bad5a519  2020-04-29  22:33:33        100       150   \n",
       "\n",
       "   functional_changes_index  circulatory_efficiency  kerdo_vegetation_index  \\\n",
       "0                       NaN                     NaN                     NaN   \n",
       "\n",
       "   robinson_index  \n",
       "0             NaN  "
      ]
     },
     "metadata": {},
     "output_type": "display_data"
    },
    {
     "name": "stdout",
     "output_type": "stream",
     "text": [
      "surveys\n"
     ]
    },
    {
     "data": {
      "text/html": [
       "<div>\n",
       "<style scoped>\n",
       "    .dataframe tbody tr th:only-of-type {\n",
       "        vertical-align: middle;\n",
       "    }\n",
       "\n",
       "    .dataframe tbody tr th {\n",
       "        vertical-align: top;\n",
       "    }\n",
       "\n",
       "    .dataframe thead th {\n",
       "        text-align: right;\n",
       "    }\n",
       "</style>\n",
       "<table border=\"1\" class=\"dataframe\">\n",
       "  <thead>\n",
       "    <tr style=\"text-align: right;\">\n",
       "      <th></th>\n",
       "      <th>user_code</th>\n",
       "      <th>scale</th>\n",
       "      <th>created_at</th>\n",
       "      <th>value</th>\n",
       "      <th>text</th>\n",
       "    </tr>\n",
       "  </thead>\n",
       "  <tbody>\n",
       "    <tr>\n",
       "      <th>0</th>\n",
       "      <td>01bad5a519</td>\n",
       "      <td>S_CORONA</td>\n",
       "      <td>2020-04-23</td>\n",
       "      <td>2</td>\n",
       "      <td>Symptoms are characteristic of coronavirus</td>\n",
       "    </tr>\n",
       "  </tbody>\n",
       "</table>\n",
       "</div>"
      ],
      "text/plain": [
       "    user_code     scale  created_at  value  \\\n",
       "0  01bad5a519  S_CORONA  2020-04-23      2   \n",
       "\n",
       "                                         text  \n",
       "0  Symptoms are characteristic of coronavirus  "
      ]
     },
     "metadata": {},
     "output_type": "display_data"
    },
    {
     "name": "stdout",
     "output_type": "stream",
     "text": [
      "heart_rate\n"
     ]
    },
    {
     "data": {
      "text/html": [
       "<div>\n",
       "<style scoped>\n",
       "    .dataframe tbody tr th:only-of-type {\n",
       "        vertical-align: middle;\n",
       "    }\n",
       "\n",
       "    .dataframe tbody tr th {\n",
       "        vertical-align: top;\n",
       "    }\n",
       "\n",
       "    .dataframe thead th {\n",
       "        text-align: right;\n",
       "    }\n",
       "</style>\n",
       "<table border=\"1\" class=\"dataframe\">\n",
       "  <thead>\n",
       "    <tr style=\"text-align: right;\">\n",
       "      <th></th>\n",
       "      <th>user_code</th>\n",
       "      <th>datetime</th>\n",
       "      <th>heart_rate</th>\n",
       "      <th>is_resting</th>\n",
       "    </tr>\n",
       "  </thead>\n",
       "  <tbody>\n",
       "    <tr>\n",
       "      <th>0</th>\n",
       "      <td>007b8190cf</td>\n",
       "      <td>2020-04-26 04:49:25</td>\n",
       "      <td>70</td>\n",
       "      <td>0</td>\n",
       "    </tr>\n",
       "  </tbody>\n",
       "</table>\n",
       "</div>"
      ],
      "text/plain": [
       "    user_code             datetime  heart_rate  is_resting\n",
       "0  007b8190cf  2020-04-26 04:49:25          70           0"
      ]
     },
     "metadata": {},
     "output_type": "display_data"
    },
    {
     "name": "stdout",
     "output_type": "stream",
     "text": [
      "weather\n"
     ]
    },
    {
     "data": {
      "text/html": [
       "<div>\n",
       "<style scoped>\n",
       "    .dataframe tbody tr th:only-of-type {\n",
       "        vertical-align: middle;\n",
       "    }\n",
       "\n",
       "    .dataframe tbody tr th {\n",
       "        vertical-align: top;\n",
       "    }\n",
       "\n",
       "    .dataframe thead th {\n",
       "        text-align: right;\n",
       "    }\n",
       "</style>\n",
       "<table border=\"1\" class=\"dataframe\">\n",
       "  <thead>\n",
       "    <tr style=\"text-align: right;\">\n",
       "      <th></th>\n",
       "      <th>user_code</th>\n",
       "      <th>day</th>\n",
       "      <th>avg_temperature_C</th>\n",
       "      <th>atmospheric_pressure</th>\n",
       "      <th>precip_intensity</th>\n",
       "      <th>humidity</th>\n",
       "      <th>clouds</th>\n",
       "    </tr>\n",
       "  </thead>\n",
       "  <tbody>\n",
       "    <tr>\n",
       "      <th>0</th>\n",
       "      <td>013f6d3e5b</td>\n",
       "      <td>2020-05-22</td>\n",
       "      <td>18.0667</td>\n",
       "      <td>1017.6</td>\n",
       "      <td>0.0002</td>\n",
       "      <td>70.0</td>\n",
       "      <td>67.0</td>\n",
       "    </tr>\n",
       "  </tbody>\n",
       "</table>\n",
       "</div>"
      ],
      "text/plain": [
       "    user_code         day  avg_temperature_C  atmospheric_pressure  \\\n",
       "0  013f6d3e5b  2020-05-22            18.0667                1017.6   \n",
       "\n",
       "   precip_intensity  humidity  clouds  \n",
       "0            0.0002      70.0    67.0  "
      ]
     },
     "metadata": {},
     "output_type": "display_data"
    },
    {
     "name": "stdout",
     "output_type": "stream",
     "text": [
      "hrv_measurements\n"
     ]
    },
    {
     "data": {
      "text/html": [
       "<div>\n",
       "<style scoped>\n",
       "    .dataframe tbody tr th:only-of-type {\n",
       "        vertical-align: middle;\n",
       "    }\n",
       "\n",
       "    .dataframe tbody tr th {\n",
       "        vertical-align: top;\n",
       "    }\n",
       "\n",
       "    .dataframe thead th {\n",
       "        text-align: right;\n",
       "    }\n",
       "</style>\n",
       "<table border=\"1\" class=\"dataframe\">\n",
       "  <thead>\n",
       "    <tr style=\"text-align: right;\">\n",
       "      <th></th>\n",
       "      <th>user_code</th>\n",
       "      <th>rr_code</th>\n",
       "      <th>measurement_datetime</th>\n",
       "      <th>time_of_day</th>\n",
       "      <th>bpm</th>\n",
       "      <th>meanrr</th>\n",
       "      <th>mxdmn</th>\n",
       "      <th>sdnn</th>\n",
       "      <th>rmssd</th>\n",
       "      <th>pnn50</th>\n",
       "      <th>...</th>\n",
       "      <th>lf</th>\n",
       "      <th>hf</th>\n",
       "      <th>vlf</th>\n",
       "      <th>lfhf</th>\n",
       "      <th>total_power</th>\n",
       "      <th>how_feel</th>\n",
       "      <th>how_mood</th>\n",
       "      <th>how_sleep</th>\n",
       "      <th>tags</th>\n",
       "      <th>rr_data</th>\n",
       "    </tr>\n",
       "  </thead>\n",
       "  <tbody>\n",
       "    <tr>\n",
       "      <th>0</th>\n",
       "      <td>007b8190cf</td>\n",
       "      <td>10489a6aea</td>\n",
       "      <td>2020-04-21 21:23:08</td>\n",
       "      <td>morning</td>\n",
       "      <td>75</td>\n",
       "      <td>795.9</td>\n",
       "      <td>0.12</td>\n",
       "      <td>45.802</td>\n",
       "      <td>54.174</td>\n",
       "      <td>15.15</td>\n",
       "      <td>...</td>\n",
       "      <td>508.0</td>\n",
       "      <td>1076.0</td>\n",
       "      <td>267.0</td>\n",
       "      <td>0.472</td>\n",
       "      <td>1851.0</td>\n",
       "      <td>0</td>\n",
       "      <td>-1</td>\n",
       "      <td>NaN</td>\n",
       "      <td>COVID-19; Workout; Sex; Hobby; Studying; Sleep...</td>\n",
       "      <td>819,1008,831,847,785,778,866,839,801,793,846,8...</td>\n",
       "    </tr>\n",
       "  </tbody>\n",
       "</table>\n",
       "<p>1 rows × 22 columns</p>\n",
       "</div>"
      ],
      "text/plain": [
       "    user_code     rr_code measurement_datetime time_of_day  bpm  meanrr  \\\n",
       "0  007b8190cf  10489a6aea  2020-04-21 21:23:08     morning   75   795.9   \n",
       "\n",
       "   mxdmn    sdnn   rmssd  pnn50  ...     lf      hf    vlf   lfhf  \\\n",
       "0   0.12  45.802  54.174  15.15  ...  508.0  1076.0  267.0  0.472   \n",
       "\n",
       "   total_power  how_feel  how_mood  how_sleep  \\\n",
       "0       1851.0         0        -1        NaN   \n",
       "\n",
       "                                                tags  \\\n",
       "0  COVID-19; Workout; Sex; Hobby; Studying; Sleep...   \n",
       "\n",
       "                                             rr_data  \n",
       "0  819,1008,831,847,785,778,866,839,801,793,846,8...  \n",
       "\n",
       "[1 rows x 22 columns]"
      ]
     },
     "metadata": {},
     "output_type": "display_data"
    },
    {
     "name": "stdout",
     "output_type": "stream",
     "text": [
      "sleep\n"
     ]
    },
    {
     "data": {
      "text/html": [
       "<div>\n",
       "<style scoped>\n",
       "    .dataframe tbody tr th:only-of-type {\n",
       "        vertical-align: middle;\n",
       "    }\n",
       "\n",
       "    .dataframe tbody tr th {\n",
       "        vertical-align: top;\n",
       "    }\n",
       "\n",
       "    .dataframe thead th {\n",
       "        text-align: right;\n",
       "    }\n",
       "</style>\n",
       "<table border=\"1\" class=\"dataframe\">\n",
       "  <thead>\n",
       "    <tr style=\"text-align: right;\">\n",
       "      <th></th>\n",
       "      <th>user_code</th>\n",
       "      <th>day</th>\n",
       "      <th>sleep_begin</th>\n",
       "      <th>sleep_end</th>\n",
       "      <th>sleep_duration</th>\n",
       "      <th>sleep_awake_duration</th>\n",
       "      <th>sleep_rem_duration</th>\n",
       "      <th>sleep_light_duration</th>\n",
       "      <th>sleep_deep_duration</th>\n",
       "      <th>pulse_min</th>\n",
       "      <th>pulse_max</th>\n",
       "      <th>pulse_average</th>\n",
       "    </tr>\n",
       "  </thead>\n",
       "  <tbody>\n",
       "    <tr>\n",
       "      <th>0</th>\n",
       "      <td>0d297d2410</td>\n",
       "      <td>2019-12-31</td>\n",
       "      <td>2019-12-31 07:50:32</td>\n",
       "      <td>2019-12-31 08:45:22</td>\n",
       "      <td>3290.0</td>\n",
       "      <td>NaN</td>\n",
       "      <td>NaN</td>\n",
       "      <td>NaN</td>\n",
       "      <td>NaN</td>\n",
       "      <td>NaN</td>\n",
       "      <td>NaN</td>\n",
       "      <td>NaN</td>\n",
       "    </tr>\n",
       "  </tbody>\n",
       "</table>\n",
       "</div>"
      ],
      "text/plain": [
       "    user_code         day          sleep_begin            sleep_end  \\\n",
       "0  0d297d2410  2019-12-31  2019-12-31 07:50:32  2019-12-31 08:45:22   \n",
       "\n",
       "   sleep_duration  sleep_awake_duration  sleep_rem_duration  \\\n",
       "0          3290.0                   NaN                 NaN   \n",
       "\n",
       "   sleep_light_duration  sleep_deep_duration  pulse_min  pulse_max  \\\n",
       "0                   NaN                  NaN        NaN        NaN   \n",
       "\n",
       "   pulse_average  \n",
       "0            NaN  "
      ]
     },
     "metadata": {},
     "output_type": "display_data"
    }
   ],
   "source": [
    "for name, df in dfs.items():\n",
    "    print(name) \n",
    "    display(df.head(1))"
   ]
  },
  {
   "cell_type": "markdown",
   "id": "0f3dd2ac-7143-4632-b3be-706f678e9c8c",
   "metadata": {},
   "source": [
    "### Scales\n",
    "\n",
    "Investigate the scales table. "
   ]
  },
  {
   "cell_type": "code",
   "execution_count": 67,
   "id": "a92638a7-61e3-4869-bee7-5771ca0cd291",
   "metadata": {},
   "outputs": [],
   "source": [
    "df = dfs['scales_description']"
   ]
  },
  {
   "cell_type": "code",
   "execution_count": 68,
   "id": "4d7ec570-ba70-4a83-87c7-5fc63951295c",
   "metadata": {},
   "outputs": [
    {
     "data": {
      "text/plain": [
       "Scale          object\n",
       "Description    object\n",
       "Value           int64\n",
       "Meaning        object\n",
       "dtype: object"
      ]
     },
     "execution_count": 68,
     "metadata": {},
     "output_type": "execute_result"
    }
   ],
   "source": [
    "df.dtypes"
   ]
  },
  {
   "cell_type": "code",
   "execution_count": 70,
   "id": "cfaa61a3-cbe4-4a63-a3d3-68631e115dee",
   "metadata": {},
   "outputs": [
    {
     "data": {
      "text/plain": [
       "array(['S_COVID_SYMPTOMS', 'S_COVID_COUGH', 'S_COVID_FEVER',\n",
       "       'S_COVID_BREATH', 'S_COVID_FATIGUE', 'S_COVID_PAIN',\n",
       "       'S_COVID_CONFUSION', 'S_COVID_TROUBLE', 'S_COVID_BLUISH',\n",
       "       'S_COVID_OVERALL', 'S_CORONA', 'S_HEART', 'S_HEART_1', 'S_HEART_2',\n",
       "       'S_HEART_22', 'S_HEART_3', 'S_HEART_4', 'S_HEART_5', 'S_HEART_6',\n",
       "       'S_HEART_7', 'S_HRA_MONTH\\n\\xa0', 'S_HRA_ASTHMA', 'S_HRA_ALLERG',\n",
       "       'S_HRA_LUNG', 'S_HRA_KIDNEY', 'S_HRA_LIVER', 'S_HRA_CHOL',\n",
       "       'S_HRA_DBT', 'S_HRA_ARR', 'S_HRA_HEART', 'S_HRA_AFTER',\n",
       "       'S_HRA_HBP', 'S_HRA_LBP', 'S_HRA_THYR', 'S_HRA_EPILEPSY',\n",
       "       'S_HRA_BONE', 'S_HRA_JOINTS', 'S_HRA_OSTEO', 'S_HRA_NECK',\n",
       "       'S_HRA_JOINT', 'S_HRA_FIBRO', 'S_HRA_HEAD', 'S_HRA_SLEEP',\n",
       "       'S_HRA_DEP', 'S_HRA_ANX', 'S_HRA_PANIC', 'S_HRA_EDEMA',\n",
       "       'S_HRA_CUSHING', 'S_HRA_D', 'S_HRA_OVARY', 'S_HRA_VARI',\n",
       "       'S_HRA_ENDO', 'S_HRA_HORM', 'S_SMOKING', 'S_HRA_PMS',\n",
       "       'S_HRA_HEAVY', 'S_HRA_IRR', 'S_HRA_PERPAIN', 'S_HRA_SUGAR',\n",
       "       'S_HRA_COLDS', 'S_HRA_ANEMIA', 'S_HRA_BIPOLAR', 'S_HRA_OCD',\n",
       "       'S_HRA_POST', 'S_HRA_SKIN', 'S_HRA_VIT', 'S_HRA_ALC', 'S_DIABETES',\n",
       "       'S_DIAB_REASON1', 'S_DIAB_REASON2', 'S_DIAB_REASON3',\n",
       "       'S_DIAB_REASON4', 'S_DIAB_REASON5', 'S_DIAB_REASON6'], dtype=object)"
      ]
     },
     "execution_count": 70,
     "metadata": {},
     "output_type": "execute_result"
    }
   ],
   "source": [
    "df['Scale'].unique()"
   ]
  },
  {
   "cell_type": "code",
   "execution_count": 81,
   "id": "22aa6d95-e2e7-4b53-b2ef-b0a3ac001744",
   "metadata": {},
   "outputs": [],
   "source": [
    "def get_subcat1(s): \n",
    "    t = s.split('_')\n",
    "    return t[1] if len(t) >= 2 else None\n",
    "\n",
    "def get_subcat2(s): \n",
    "    t = s.split('_')\n",
    "    return t[2] if len(t) >= 3 else None\n",
    "    \n",
    "df['Subcat1'] = df['Scale'].apply(get_subcat1) \n",
    "df['Subcat2'] = df['Scale'].apply(get_subcat2) "
   ]
  },
  {
   "cell_type": "code",
   "execution_count": 87,
   "id": "57b0232a-1ed8-4c2a-b643-f1b6afd822eb",
   "metadata": {},
   "outputs": [
    {
     "data": {
      "text/plain": [
       "array(['COVID', 'CORONA', 'HEART', 'HRA', 'SMOKING', 'DIABETES', 'DIAB'],\n",
       "      dtype=object)"
      ]
     },
     "execution_count": 87,
     "metadata": {},
     "output_type": "execute_result"
    }
   ],
   "source": [
    "df['Subcat1'].unique()"
   ]
  },
  {
   "cell_type": "code",
   "execution_count": 88,
   "id": "522f739f-e97a-41e7-a163-819ddc209a67",
   "metadata": {},
   "outputs": [
    {
     "data": {
      "text/html": [
       "<div>\n",
       "<style scoped>\n",
       "    .dataframe tbody tr th:only-of-type {\n",
       "        vertical-align: middle;\n",
       "    }\n",
       "\n",
       "    .dataframe tbody tr th {\n",
       "        vertical-align: top;\n",
       "    }\n",
       "\n",
       "    .dataframe thead th {\n",
       "        text-align: right;\n",
       "    }\n",
       "</style>\n",
       "<table border=\"1\" class=\"dataframe\">\n",
       "  <thead>\n",
       "    <tr style=\"text-align: right;\">\n",
       "      <th></th>\n",
       "      <th>Scale</th>\n",
       "      <th>Description</th>\n",
       "      <th>Value</th>\n",
       "      <th>Meaning</th>\n",
       "      <th>Subcat1</th>\n",
       "      <th>Subcat2</th>\n",
       "    </tr>\n",
       "  </thead>\n",
       "  <tbody>\n",
       "    <tr>\n",
       "      <th>0</th>\n",
       "      <td>S_COVID_SYMPTOMS</td>\n",
       "      <td>How long the user has been experiencing symptoms</td>\n",
       "      <td>1</td>\n",
       "      <td>Less than 3 days</td>\n",
       "      <td>COVID</td>\n",
       "      <td>SYMPTOMS</td>\n",
       "    </tr>\n",
       "    <tr>\n",
       "      <th>1</th>\n",
       "      <td>S_COVID_SYMPTOMS</td>\n",
       "      <td>How long the user has been experiencing symptoms</td>\n",
       "      <td>2</td>\n",
       "      <td>3 to 6 days</td>\n",
       "      <td>COVID</td>\n",
       "      <td>SYMPTOMS</td>\n",
       "    </tr>\n",
       "    <tr>\n",
       "      <th>2</th>\n",
       "      <td>S_COVID_SYMPTOMS</td>\n",
       "      <td>How long the user has been experiencing symptoms</td>\n",
       "      <td>3</td>\n",
       "      <td>7 to 14 days</td>\n",
       "      <td>COVID</td>\n",
       "      <td>SYMPTOMS</td>\n",
       "    </tr>\n",
       "    <tr>\n",
       "      <th>3</th>\n",
       "      <td>S_COVID_SYMPTOMS</td>\n",
       "      <td>How long the user has been experiencing symptoms</td>\n",
       "      <td>4</td>\n",
       "      <td>More than 14 days</td>\n",
       "      <td>COVID</td>\n",
       "      <td>SYMPTOMS</td>\n",
       "    </tr>\n",
       "    <tr>\n",
       "      <th>4</th>\n",
       "      <td>S_COVID_COUGH</td>\n",
       "      <td>Symptom intensity: Coughing</td>\n",
       "      <td>1</td>\n",
       "      <td>User isn’t experiencing symptom</td>\n",
       "      <td>COVID</td>\n",
       "      <td>COUGH</td>\n",
       "    </tr>\n",
       "  </tbody>\n",
       "</table>\n",
       "</div>"
      ],
      "text/plain": [
       "              Scale                                       Description  Value  \\\n",
       "0  S_COVID_SYMPTOMS  How long the user has been experiencing symptoms      1   \n",
       "1  S_COVID_SYMPTOMS  How long the user has been experiencing symptoms      2   \n",
       "2  S_COVID_SYMPTOMS  How long the user has been experiencing symptoms      3   \n",
       "3  S_COVID_SYMPTOMS  How long the user has been experiencing symptoms      4   \n",
       "4     S_COVID_COUGH                       Symptom intensity: Coughing      1   \n",
       "\n",
       "                           Meaning Subcat1   Subcat2  \n",
       "0                 Less than 3 days   COVID  SYMPTOMS  \n",
       "1                      3 to 6 days   COVID  SYMPTOMS  \n",
       "2                     7 to 14 days   COVID  SYMPTOMS  \n",
       "3                More than 14 days   COVID  SYMPTOMS  \n",
       "4  User isn’t experiencing symptom   COVID     COUGH  "
      ]
     },
     "execution_count": 88,
     "metadata": {},
     "output_type": "execute_result"
    }
   ],
   "source": [
    "df.head()"
   ]
  },
  {
   "cell_type": "code",
   "execution_count": 104,
   "id": "03265369-a841-4f5d-a8d5-32aac4a49acc",
   "metadata": {},
   "outputs": [
    {
     "data": {
      "text/html": [
       "<div>\n",
       "<style scoped>\n",
       "    .dataframe tbody tr th:only-of-type {\n",
       "        vertical-align: middle;\n",
       "    }\n",
       "\n",
       "    .dataframe tbody tr th {\n",
       "        vertical-align: top;\n",
       "    }\n",
       "\n",
       "    .dataframe thead th {\n",
       "        text-align: right;\n",
       "    }\n",
       "</style>\n",
       "<table border=\"1\" class=\"dataframe\">\n",
       "  <thead>\n",
       "    <tr style=\"text-align: right;\">\n",
       "      <th></th>\n",
       "      <th>Scale</th>\n",
       "      <th>Description</th>\n",
       "      <th>Value</th>\n",
       "      <th>Meaning</th>\n",
       "      <th>Subcat1</th>\n",
       "      <th>Subcat2</th>\n",
       "    </tr>\n",
       "  </thead>\n",
       "  <tbody>\n",
       "    <tr>\n",
       "      <th>142</th>\n",
       "      <td>S_DIAB_REASON1</td>\n",
       "      <td>Whether the user’s waist circumference is with...</td>\n",
       "      <td>1</td>\n",
       "      <td>Waist circumference is within the norm</td>\n",
       "      <td>DIAB</td>\n",
       "      <td>REASON1</td>\n",
       "    </tr>\n",
       "    <tr>\n",
       "      <th>143</th>\n",
       "      <td>S_DIAB_REASON2</td>\n",
       "      <td>Whether the user is active enough</td>\n",
       "      <td>1</td>\n",
       "      <td>Is active enough</td>\n",
       "      <td>DIAB</td>\n",
       "      <td>REASON2</td>\n",
       "    </tr>\n",
       "    <tr>\n",
       "      <th>144</th>\n",
       "      <td>S_DIAB_REASON3</td>\n",
       "      <td>Whether the user eats healthy</td>\n",
       "      <td>1</td>\n",
       "      <td>Eats healthy</td>\n",
       "      <td>DIAB</td>\n",
       "      <td>REASON3</td>\n",
       "    </tr>\n",
       "    <tr>\n",
       "      <th>145</th>\n",
       "      <td>S_DIAB_REASON4</td>\n",
       "      <td>Whether the user has BP problems</td>\n",
       "      <td>1</td>\n",
       "      <td>No BP problems</td>\n",
       "      <td>DIAB</td>\n",
       "      <td>REASON4</td>\n",
       "    </tr>\n",
       "    <tr>\n",
       "      <th>146</th>\n",
       "      <td>S_DIAB_REASON5</td>\n",
       "      <td>Whether the user’s blood sugar is within the n...</td>\n",
       "      <td>1</td>\n",
       "      <td>Blood sugar is within the norm when taking the...</td>\n",
       "      <td>DIAB</td>\n",
       "      <td>REASON5</td>\n",
       "    </tr>\n",
       "    <tr>\n",
       "      <th>147</th>\n",
       "      <td>S_DIAB_REASON6</td>\n",
       "      <td>Whether the user has a family history of diabetes</td>\n",
       "      <td>1</td>\n",
       "      <td>No family history of diabetes</td>\n",
       "      <td>DIAB</td>\n",
       "      <td>REASON6</td>\n",
       "    </tr>\n",
       "  </tbody>\n",
       "</table>\n",
       "</div>"
      ],
      "text/plain": [
       "              Scale                                        Description  Value  \\\n",
       "142  S_DIAB_REASON1  Whether the user’s waist circumference is with...      1   \n",
       "143  S_DIAB_REASON2                  Whether the user is active enough      1   \n",
       "144  S_DIAB_REASON3                      Whether the user eats healthy      1   \n",
       "145  S_DIAB_REASON4                   Whether the user has BP problems      1   \n",
       "146  S_DIAB_REASON5  Whether the user’s blood sugar is within the n...      1   \n",
       "147  S_DIAB_REASON6  Whether the user has a family history of diabetes      1   \n",
       "\n",
       "                                               Meaning Subcat1  Subcat2  \n",
       "142             Waist circumference is within the norm    DIAB  REASON1  \n",
       "143                                   Is active enough    DIAB  REASON2  \n",
       "144                                       Eats healthy    DIAB  REASON3  \n",
       "145                                     No BP problems    DIAB  REASON4  \n",
       "146  Blood sugar is within the norm when taking the...    DIAB  REASON5  \n",
       "147                      No family history of diabetes    DIAB  REASON6  "
      ]
     },
     "execution_count": 104,
     "metadata": {},
     "output_type": "execute_result"
    }
   ],
   "source": [
    "df[df['Subcat1'] == 'DIAB' ]"
   ]
  },
  {
   "cell_type": "markdown",
   "id": "17335c7f-72c5-417c-85ae-16ed62d05043",
   "metadata": {},
   "source": [
    "❗️**Insights**: \n",
    "\n",
    "- The scales table appears to be an aggregation of all the enumerative or categorical types found across the dataset.\n",
    "- This table allows mapping between the categoricals and their plain-language description, the associated integer value and a concise meaning string.\n",
    "- There is a shallow hierarchy in these types, which we've broken out here into subcategory 1 and subcategory 2.\n",
    "- The top-level division of the data classifications are: 'COVID', 'CORONA', 'HEART', 'HRA', 'SMOKING', 'DIABETES', 'DIAB'.\n",
    "- Many of the measurement scales are boolean values, though some have a range of severity.\n",
    "- The `DIAB` sub-category appears redundant but on closer inspection contains supplemental information on patients with diabetes\n",
    "- Further analysis on this table is of limited value, as it just contains mappings to decode other readings in the dataset"
   ]
  },
  {
   "cell_type": "markdown",
   "id": "fc5f3686-5aaa-49b1-a760-2f28d5178520",
   "metadata": {},
   "source": [
    "### Participants\n",
    "\n",
    "Investigate the study participants table. "
   ]
  },
  {
   "cell_type": "code",
   "execution_count": 464,
   "id": "c1638228-a70d-411e-a2d6-c26d9f9ef6dc",
   "metadata": {},
   "outputs": [],
   "source": [
    "df = dfs['participants']"
   ]
  },
  {
   "cell_type": "code",
   "execution_count": 467,
   "id": "012173ae-c8f9-4aef-98cc-450034c8bfa8",
   "metadata": {},
   "outputs": [],
   "source": [
    "def table_overview(df): \n",
    "    \"\"\"\n",
    "    Utility function to produce some high-level insights into the provided dataframe\n",
    "    \"\"\"\n",
    "    rows = len(df)\n",
    "    print(f\"First 5 rows of the dataframe:\")\n",
    "    display(df.head(5))\n",
    "    print(f\"Numerical column statistics:\")\n",
    "    display(df.describe())\n",
    "    nan_rows = rows - len(df.dropna())\n",
    "    print(f\"Found {rows} rows, of which {nan_rows} ({nan_rows/rows*100:.1f}%) contain invalid data.\")"
   ]
  },
  {
   "cell_type": "code",
   "execution_count": 468,
   "id": "a3ed9cac-3060-4c3d-bef8-97c1731bd22b",
   "metadata": {},
   "outputs": [
    {
     "name": "stdout",
     "output_type": "stream",
     "text": [
      "First 5 rows of the dataframe:\n"
     ]
    },
    {
     "data": {
      "text/html": [
       "<div>\n",
       "<style scoped>\n",
       "    .dataframe tbody tr th:only-of-type {\n",
       "        vertical-align: middle;\n",
       "    }\n",
       "\n",
       "    .dataframe tbody tr th {\n",
       "        vertical-align: top;\n",
       "    }\n",
       "\n",
       "    .dataframe thead th {\n",
       "        text-align: right;\n",
       "    }\n",
       "</style>\n",
       "<table border=\"1\" class=\"dataframe\">\n",
       "  <thead>\n",
       "    <tr style=\"text-align: right;\">\n",
       "      <th></th>\n",
       "      <th>user_code</th>\n",
       "      <th>gender</th>\n",
       "      <th>age_range</th>\n",
       "      <th>city</th>\n",
       "      <th>country</th>\n",
       "      <th>height</th>\n",
       "      <th>weight</th>\n",
       "      <th>symptoms_onset</th>\n",
       "    </tr>\n",
       "  </thead>\n",
       "  <tbody>\n",
       "    <tr>\n",
       "      <th>0</th>\n",
       "      <td>007b8190cf</td>\n",
       "      <td>m</td>\n",
       "      <td>25-34</td>\n",
       "      <td>Mandalay</td>\n",
       "      <td>Myanmar</td>\n",
       "      <td>170.18</td>\n",
       "      <td>96.162</td>\n",
       "      <td>NaT</td>\n",
       "    </tr>\n",
       "    <tr>\n",
       "      <th>1</th>\n",
       "      <td>013f6d3e5b</td>\n",
       "      <td>f</td>\n",
       "      <td>18-24</td>\n",
       "      <td>São Paulo</td>\n",
       "      <td>Brazil</td>\n",
       "      <td>174.00</td>\n",
       "      <td>77.300</td>\n",
       "      <td>2020-05-15</td>\n",
       "    </tr>\n",
       "    <tr>\n",
       "      <th>2</th>\n",
       "      <td>01bad5a519</td>\n",
       "      <td>m</td>\n",
       "      <td>45-54</td>\n",
       "      <td>St Petersburg</td>\n",
       "      <td>Russia</td>\n",
       "      <td>178.00</td>\n",
       "      <td>92.000</td>\n",
       "      <td>2020-04-05</td>\n",
       "    </tr>\n",
       "    <tr>\n",
       "      <th>3</th>\n",
       "      <td>0210b20eea</td>\n",
       "      <td>f</td>\n",
       "      <td>25-34</td>\n",
       "      <td>Sochi</td>\n",
       "      <td>Russia</td>\n",
       "      <td>169.00</td>\n",
       "      <td>60.000</td>\n",
       "      <td>2020-05-06</td>\n",
       "    </tr>\n",
       "    <tr>\n",
       "      <th>4</th>\n",
       "      <td>024719e7da</td>\n",
       "      <td>f</td>\n",
       "      <td>45-54</td>\n",
       "      <td>St Petersburg</td>\n",
       "      <td>Russia</td>\n",
       "      <td>158.00</td>\n",
       "      <td>68.500</td>\n",
       "      <td>2020-05-27</td>\n",
       "    </tr>\n",
       "  </tbody>\n",
       "</table>\n",
       "</div>"
      ],
      "text/plain": [
       "    user_code gender age_range           city  country  height  weight  \\\n",
       "0  007b8190cf      m     25-34       Mandalay  Myanmar  170.18  96.162   \n",
       "1  013f6d3e5b      f     18-24      São Paulo   Brazil  174.00  77.300   \n",
       "2  01bad5a519      m     45-54  St Petersburg   Russia  178.00  92.000   \n",
       "3  0210b20eea      f     25-34          Sochi   Russia  169.00  60.000   \n",
       "4  024719e7da      f     45-54  St Petersburg   Russia  158.00  68.500   \n",
       "\n",
       "  symptoms_onset  \n",
       "0            NaT  \n",
       "1     2020-05-15  \n",
       "2     2020-04-05  \n",
       "3     2020-05-06  \n",
       "4     2020-05-27  "
      ]
     },
     "metadata": {},
     "output_type": "display_data"
    },
    {
     "name": "stdout",
     "output_type": "stream",
     "text": [
      "Numerical column statistics:\n"
     ]
    },
    {
     "data": {
      "text/html": [
       "<div>\n",
       "<style scoped>\n",
       "    .dataframe tbody tr th:only-of-type {\n",
       "        vertical-align: middle;\n",
       "    }\n",
       "\n",
       "    .dataframe tbody tr th {\n",
       "        vertical-align: top;\n",
       "    }\n",
       "\n",
       "    .dataframe thead th {\n",
       "        text-align: right;\n",
       "    }\n",
       "</style>\n",
       "<table border=\"1\" class=\"dataframe\">\n",
       "  <thead>\n",
       "    <tr style=\"text-align: right;\">\n",
       "      <th></th>\n",
       "      <th>height</th>\n",
       "      <th>weight</th>\n",
       "      <th>symptoms_onset</th>\n",
       "    </tr>\n",
       "  </thead>\n",
       "  <tbody>\n",
       "    <tr>\n",
       "      <th>count</th>\n",
       "      <td>183.000000</td>\n",
       "      <td>185.000000</td>\n",
       "      <td>147</td>\n",
       "    </tr>\n",
       "    <tr>\n",
       "      <th>mean</th>\n",
       "      <td>169.976393</td>\n",
       "      <td>77.927757</td>\n",
       "      <td>2017-07-18 04:04:53.877551104</td>\n",
       "    </tr>\n",
       "    <tr>\n",
       "      <th>min</th>\n",
       "      <td>132.080000</td>\n",
       "      <td>43.500000</td>\n",
       "      <td>1967-01-30 00:00:00</td>\n",
       "    </tr>\n",
       "    <tr>\n",
       "      <th>25%</th>\n",
       "      <td>163.500000</td>\n",
       "      <td>63.500000</td>\n",
       "      <td>2020-03-22 12:00:00</td>\n",
       "    </tr>\n",
       "    <tr>\n",
       "      <th>50%</th>\n",
       "      <td>168.000000</td>\n",
       "      <td>74.344000</td>\n",
       "      <td>2020-04-10 00:00:00</td>\n",
       "    </tr>\n",
       "    <tr>\n",
       "      <th>75%</th>\n",
       "      <td>174.500000</td>\n",
       "      <td>90.537000</td>\n",
       "      <td>2020-04-29 00:00:00</td>\n",
       "    </tr>\n",
       "    <tr>\n",
       "      <th>max</th>\n",
       "      <td>250.000000</td>\n",
       "      <td>154.221000</td>\n",
       "      <td>2022-04-21 00:00:00</td>\n",
       "    </tr>\n",
       "    <tr>\n",
       "      <th>std</th>\n",
       "      <td>12.400103</td>\n",
       "      <td>19.552541</td>\n",
       "      <td>NaN</td>\n",
       "    </tr>\n",
       "  </tbody>\n",
       "</table>\n",
       "</div>"
      ],
      "text/plain": [
       "           height      weight                 symptoms_onset\n",
       "count  183.000000  185.000000                            147\n",
       "mean   169.976393   77.927757  2017-07-18 04:04:53.877551104\n",
       "min    132.080000   43.500000            1967-01-30 00:00:00\n",
       "25%    163.500000   63.500000            2020-03-22 12:00:00\n",
       "50%    168.000000   74.344000            2020-04-10 00:00:00\n",
       "75%    174.500000   90.537000            2020-04-29 00:00:00\n",
       "max    250.000000  154.221000            2022-04-21 00:00:00\n",
       "std     12.400103   19.552541                            NaN"
      ]
     },
     "metadata": {},
     "output_type": "display_data"
    },
    {
     "name": "stdout",
     "output_type": "stream",
     "text": [
      "Found 185 rows, of which 49 (26.5%) contain invalid data.\n"
     ]
    }
   ],
   "source": [
    "table_overview(df)"
   ]
  },
  {
   "cell_type": "markdown",
   "id": "80dce58a-a63e-4c1f-8668-11b7508a4b40",
   "metadata": {},
   "source": [
    "Convert the date to a proper datetime"
   ]
  },
  {
   "cell_type": "code",
   "execution_count": 469,
   "id": "baedb025-0891-48f6-9370-5edc116b3f2c",
   "metadata": {
    "scrolled": true
   },
   "outputs": [],
   "source": [
    "df['symptoms_onset'] = pd.to_datetime(df['symptoms_onset'])"
   ]
  },
  {
   "cell_type": "markdown",
   "id": "e3a2985d-af98-4ce7-b85a-e46f67f572f4",
   "metadata": {},
   "source": [
    "Look at the symptom onset by time reported"
   ]
  },
  {
   "cell_type": "code",
   "execution_count": 470,
   "id": "3a8e6c02-d1bc-42c8-b7d8-d2c123fc693f",
   "metadata": {},
   "outputs": [
    {
     "data": {
      "text/plain": [
       "<Axes: >"
      ]
     },
     "execution_count": 470,
     "metadata": {},
     "output_type": "execute_result"
    },
    {
     "data": {
      "image/png": "[encoded data removed]",
      "text/plain": [
       "<Figure size 640x480 with 1 Axes>"
      ]
     },
     "metadata": {},
     "output_type": "display_data"
    }
   ],
   "source": [
    "df['symptoms_onset'].hist()"
   ]
  },
  {
   "cell_type": "markdown",
   "id": "aa3f9906-79a9-4101-8f8b-f71a7355b572",
   "metadata": {},
   "source": [
    "Omit data that occurs outside of the plausible COVID-19 pandemic infection window"
   ]
  },
  {
   "cell_type": "code",
   "execution_count": 471,
   "id": "dbe95d58-248f-48de-8f9b-b26bcc4e2b76",
   "metadata": {},
   "outputs": [],
   "source": [
    "import datetime\n",
    "df = df[df['symptoms_onset'] > datetime.datetime(2019, 1, 1)]"
   ]
  },
  {
   "cell_type": "code",
   "execution_count": 472,
   "id": "cd946ede-2225-428b-ba34-4059f03a713d",
   "metadata": {},
   "outputs": [
    {
     "data": {
      "image/png": "[encoded data removed]",
      "text/plain": [
       "<Figure size 640x480 with 1 Axes>"
      ]
     },
     "metadata": {},
     "output_type": "display_data"
    }
   ],
   "source": [
    "_ = mpl.pyplot.hist(df['symptoms_onset'], bins=len(df), orientation='vertical')\n",
    "_ = mpl.pyplot.xticks(rotation=90, )"
   ]
  },
  {
   "cell_type": "code",
   "execution_count": 473,
   "id": "5ee2e9bc-9c98-428d-b9c9-52bf49c6a756",
   "metadata": {},
   "outputs": [
    {
     "data": {
      "image/png": "[encoded data removed]",
      "text/plain": [
       "<Figure size 640x480 with 1 Axes>"
      ]
     },
     "metadata": {},
     "output_type": "display_data"
    }
   ],
   "source": [
    "_ = mpl.pyplot.hist(df['height'],bins=len(df))"
   ]
  },
  {
   "cell_type": "code",
   "execution_count": 474,
   "id": "37cfa763-99af-422f-ae0d-f3ccde19a28e",
   "metadata": {},
   "outputs": [
    {
     "data": {
      "image/png": "[encoded data removed]",
      "text/plain": [
       "<Figure size 640x480 with 1 Axes>"
      ]
     },
     "metadata": {},
     "output_type": "display_data"
    }
   ],
   "source": [
    "_ = mpl.pyplot.hist(df['weight'], bins=len(df))"
   ]
  },
  {
   "cell_type": "markdown",
   "id": "fc8df294-b7cc-4533-9f7f-bfd744bd1a74",
   "metadata": {},
   "source": [
    "Look at the distribution of data grouped by various categoricals, omitting any rows with missing information. "
   ]
  },
  {
   "cell_type": "code",
   "execution_count": 477,
   "id": "6dffc1a0-4551-4e94-be92-6877d6eacec7",
   "metadata": {},
   "outputs": [],
   "source": [
    "def box_plot_groups(groups, column): \n",
    "    \"\"\"\n",
    "    Helper function to take a pandas group iterator (returned from df.groupby) and \n",
    "    render an arbitrary number of boxplot subplots, given the column to extract for \n",
    "    each boxplot\n",
    "    \"\"\"\n",
    "    fig, ax = mpl.pyplot.subplots()\n",
    "    \n",
    "    xlabels = [None] * len(groups)\n",
    "    position = 0 \n",
    "    \n",
    "    for name, group in groups: \n",
    "\n",
    "        # Referenced MPL docs here to implement boxplot: https://matplotlib.org/stable/plot_types/stats/boxplot_plot.html#sphx-glr-plot-types-stats-boxplot-plot-py\n",
    "        ax.boxplot(group[column], positions=[position], tick_labels=[name])    \n",
    "        \n",
    "        xlabels[position] = name\n",
    "        position = position + 1\n",
    "    \n",
    "    # With help from https://stackabuse.com/rotate-axis-labels-in-matplotlib/: \n",
    "    _ = ax.set_xticklabels(xlabels, rotation=90)"
   ]
  },
  {
   "cell_type": "code",
   "execution_count": 480,
   "id": "77c1e50a-21f0-4377-a547-91d441419a9b",
   "metadata": {},
   "outputs": [],
   "source": [
    "df = df.dropna(subset=['height', 'weight'])"
   ]
  },
  {
   "cell_type": "code",
   "execution_count": 489,
   "id": "8e1c304d-7364-4220-9206-e1d1b68d24c5",
   "metadata": {},
   "outputs": [],
   "source": [
    "def compute_bmi(h, w): \n",
    "    #cm -> m \n",
    "    h = h/100 \n",
    "    return w/h**2\n",
    "\n",
    "# With cue from https://stackoverflow.com/questions/13331698/how-to-apply-a-function-to-two-columns-of-pandas-dataframe\n",
    "df['bmi'] = df.apply(lambda x: compute_bmi(x.height, x.weight), axis=1) "
   ]
  },
  {
   "cell_type": "code",
   "execution_count": 492,
   "id": "a31bd304-97b3-4a00-9edd-f22a4087538a",
   "metadata": {},
   "outputs": [],
   "source": [
    "country_groups = df.groupby(by='country')"
   ]
  },
  {
   "cell_type": "code",
   "execution_count": 493,
   "id": "94d82b2c-4519-4ddd-bf85-1589d5f5914a",
   "metadata": {},
   "outputs": [
    {
     "data": {
      "image/png": "[encoded data removed]",
      "text/plain": [
       "<Figure size 640x480 with 1 Axes>"
      ]
     },
     "metadata": {},
     "output_type": "display_data"
    }
   ],
   "source": [
    "box_plot_groups(country_groups, 'bmi')"
   ]
  },
  {
   "cell_type": "markdown",
   "id": "853d5cc1-1637-4cc1-a453-e3bb5b8909dc",
   "metadata": {},
   "source": [
    "❗️**Insights**: \n",
    "\n",
    "- There are 185 participants in this study each with their own unique hexadecimal user code\n",
    "- ~2/3 of the rows in this table are missing data, which introduces a number of questions: \n",
    "    - do we treat the asscociated row as an invalid record for all downstream analysis? the interdependence of these tables adds significant complexity here. Illustrative example: a participant with an invalid initial symptom date. If we drop this participant, we need to clean all records for that participant from every table in the dataset. That's not terribly difficult, but is it the right thing to do?\n",
    "    - do we selectively treat this record as invalid based on the type of informational statistics we're trying to present? running with our example, we could surmise the symptoms reported are all valid (despite the invalid date), and just omit that individual from any analysis that is temporally anchored. \n",
    "    - do we interpolate the missing values. Again, with our example we would infer that the participants symptoms would have been reported alongside the vast majority of all others circa Q1/Q2 of 2020 and use e.g. the mean reporting date of other submissions as the date for this participant, annotating the interpolation accordingly\n",
    "    - do we perhaps create a new category to bin these outliers so the data is still analyzed? In our running example of the bad symptom onset time, we could create a \"unknown symptom onset\" category that allows use of the datapoints, but with adequate dislaimer\n",
    "    - Each of the actions enumerated above has consequences that would need to be explained to the party that is ultimately on the receiving end of this analysis (customers, colleagues, future readers of any publications) \n",
    "- The numerical data available here is limited to height and weight, reported in centimeters and kilograms respectively\n",
    "- The time series plot reveals there are erroneous and missing dates for symptom onset, which must be dealth with prior to downstream analysis\n",
    "- Presumably the data was collected opportunistically, but there are significant biases in the data that do not reflect the global distrbution of location, height, weight, or gender\n",
    "- The range of reported symptom onset dates is confusing. A few data points exist years beyond the initial global infection event. This could imply less attention was paid to tracking, self reporting, or aggregating the data after mid-2020"
   ]
  },
  {
   "cell_type": "markdown",
   "id": "c47670b0-3d51-4465-88d7-01f2a42eb0b9",
   "metadata": {},
   "source": [
    "### Wearables"
   ]
  },
  {
   "cell_type": "code",
   "execution_count": 125,
   "id": "c242a811-b15a-490a-bade-8c56d822df4b",
   "metadata": {},
   "outputs": [],
   "source": [
    "df = dfs['wearables']"
   ]
  },
  {
   "cell_type": "markdown",
   "id": "ceff98bd-7326-4a59-a85b-ec04564c4f4c",
   "metadata": {},
   "source": []
  },
  {
   "cell_type": "markdown",
   "id": "bb108c70-c97e-4462-8e59-ea60cdb60ac6",
   "metadata": {},
   "source": [
    "Note: referenced [this post](https://medium.com/@szabo.bibor/how-to-create-a-seaborn-correlation-heatmap-in-python-834c0686b88e) to use a heatmap to improve readability of the correlation matrix below."
   ]
  },
  {
   "cell_type": "code",
   "execution_count": 132,
   "id": "4ca13ba5-7437-4c34-b534-22d228c52077",
   "metadata": {},
   "outputs": [
    {
     "data": {
      "text/plain": [
       "<Axes: >"
      ]
     },
     "execution_count": 132,
     "metadata": {},
     "output_type": "execute_result"
    },
    {
     "data": {
      "image/png": "[encoded data removed]",
      "text/plain": [
       "<Figure size 640x480 with 2 Axes>"
      ]
     },
     "metadata": {},
     "output_type": "display_data"
    }
   ],
   "source": [
    "sns.heatmap(df.corr(method='pearson', numeric_only=True), cmap='coolwarm')"
   ]
  },
  {
   "cell_type": "markdown",
   "id": "172b8130-1b92-42c4-a929-e648b4bb8c05",
   "metadata": {},
   "source": [
    "❗️**Insights**: \n",
    "\n",
    "- Plot a correlation matrix of all the pearson coefficients. "
   ]
  },
  {
   "cell_type": "markdown",
   "id": "da6d5bd6-6083-44c3-8890-e145cf1e92a7",
   "metadata": {},
   "source": [
    "### Blood Pressure"
   ]
  },
  {
   "cell_type": "markdown",
   "id": "c903865e-d8dc-426a-8d54-74ba05c7e012",
   "metadata": {},
   "source": [
    "### Surveys"
   ]
  },
  {
   "cell_type": "markdown",
   "id": "46e5f4f6-9f5e-4154-b8d0-0b1d20502b8e",
   "metadata": {},
   "source": [
    "### Heart Rate"
   ]
  },
  {
   "cell_type": "markdown",
   "id": "88feba8b-99c5-4b40-b19a-8ac9df0f4569",
   "metadata": {},
   "source": [
    "### Weather"
   ]
  },
  {
   "cell_type": "markdown",
   "id": "81003d57-b987-42bd-82cf-a65a67e2ebda",
   "metadata": {},
   "source": [
    "### HRV Measurements"
   ]
  },
  {
   "cell_type": "markdown",
   "id": "9ca33601-892f-4a73-b8e7-993b7f44eefb",
   "metadata": {},
   "source": [
    "### Sleep "
   ]
  },
  {
   "cell_type": "markdown",
   "id": "127b6b6f-4dde-4c5d-a5f2-9e545757f732",
   "metadata": {},
   "source": [
    "# Dataset Cleaning and Preparation"
   ]
  },
  {
   "cell_type": "markdown",
   "id": "9ab54dd0-4b71-4b4e-b9ac-5f92ce3cbe56",
   "metadata": {},
   "source": [
    "With a general assessment of the dataset behind us, we can move to clean and prepare the data of interest for deeper analysis. \n",
    "\n",
    "Here we should: \n",
    "* Discuss and implement strategies for Handling Missing Values, Removing Duplicates, and Handling Outliers\n",
    "* Perform data transformation as appropriate\n",
    "* Create at least one new feature and document your approach"
   ]
  },
  {
   "cell_type": "markdown",
   "id": "beb1e7a0-bc5d-41a2-83bf-f461f266db5e",
   "metadata": {},
   "source": [
    "\n"
   ]
  },
  {
   "cell_type": "markdown",
   "id": "dd280289-a97b-4d25-ae62-f673cf2731e1",
   "metadata": {},
   "source": [
    "# xyz Analyis\n",
    "\n",
    "Deeper analysis with any necessary visualizations, conclusions, hypothesis testing\n",
    "\n",
    "We might handle these assignment requirements here: \n",
    "* Perform a dimensionality reduction method on the data and discuss \n",
    "* Include a discussion around data quality assessment, including data profiling, data completeness, data accuracy, data consistency, data integrity, and data lineage and provenance\n",
    "\n",
    "Ideas for analysis: \n",
    "- Sleep stuff? Stuart\n",
    "- Summarize all data for each participant (taking e.g. the mean or min or max of time-series data where needed), join the data by participant and get an idea of what the population studied looks like, where are they with respect to a normal distribution of humans?"
   ]
  },
  {
   "cell_type": "code",
   "execution_count": null,
   "id": "fb80dba8-a8b9-4409-a1bf-28bae46b86ed",
   "metadata": {},
   "outputs": [],
   "source": []
  }
 ],
 "metadata": {
  "kernelspec": {
   "display_name": "Team Assignments",
   "language": "python",
   "name": "team-assignments"
  },
  "language_info": {
   "codemirror_mode": {
    "name": "ipython",
    "version": 3
   },
   "file_extension": ".py",
   "mimetype": "text/x-python",
   "name": "python",
   "nbconvert_exporter": "python",
   "pygments_lexer": "ipython3",
   "version": "3.12.4"
  }
 },
 "nbformat": 4,
 "nbformat_minor": 5
}
