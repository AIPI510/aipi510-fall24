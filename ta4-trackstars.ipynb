{
 "cells": [
  {
   "cell_type": "markdown",
   "id": "13e19e94-c704-4fe1-a15c-5f1dcc0e69e8",
   "metadata": {},
   "source": [
    "# Team Assignment #4 - Trackstars\n",
    "## Data Exploration \n",
    "\n",
    "## Instructions\n",
    "For this assignment, you will be using the Welltory COVID-19 and Wearables Open Data Research dataset. This dataset is messy and exploration of it is meant to be less similar to cleaned datasets you may see in classrooms or on Kaggle and more relevant to real-world dataset exploration. Data is available [here](https://github.com/Welltory/hrv-covid19/tree/master).\n",
    "Note: you will first need to organize the data to enable your analysis.\n",
    "\n",
    "For this assignment, you will provide a Jupyter notebook report of your exploratory data analysis.\n",
    "\n",
    "### In your Jupyter notebook report, complete the following:\n",
    "* Document data context and data sampling in markdown\n",
    "* Explore and interpret data structure, descriptive statistics, data quality, and variable relationships\n",
    "* Explore data visually with appropriate visualizations\n",
    "* Discuss and implement strategies for Handling Missing Values, Removing Duplicates, and Handling Outliers\n",
    "* Perform data transformation as appropriate\n",
    "* Create at least one new feature and document your approach\n",
    "* Perform a dimensionality reduction method on the data and discuss \n",
    "* Include a discussion around data quality assessment, including data profiling, data completeness, data accuracy, data consistency, data integrity, and data lineage and provenance\n",
    "\n",
    "## Submission\n",
    "To submit your code, make a PR into the data-eda-ta4 branch and add me and the TA as reviewers. Make sure the name of your notebook follows best practices and includes your team name.\n",
    "## Rubric\n",
    "\n",
    "### Report (35 points)\n",
    "* Report includes a title, authors, dates, and relevant information for running it at the top \n",
    "* Report includes a reference to the original dataset\n",
    "* Data context and sampling is documented in markdown\n",
    "* Code and documented interpretation of data structure\n",
    "* Code and documented interpretation of descriptive statistics\n",
    "* Code and documented interpretation of data quality\n",
    "* Code and documented interpretation of variable relationships\n",
    "* Visualizations used are complete and appropriate and interpretation(s) are documented in the notebook\n",
    "* Visualizations follow best practices (titles, axes labels, etc)\n",
    "* Strategies for handling missing values, outliers, and removing duplicates are implemented and/or discussed\n",
    "* Appropriate data transformation is performed\n",
    "* One new feature is engineered and documented\n",
    "* A dimensionality reduction method is performed and interpreted\n",
    "* A discussion on data quality assessment is included and incorporates the following components: data profiling, data completeness, data accuracy, data consistency, data integrity, and data lineage and provenance\n",
    "\n",
    "### Code (10 points)\n",
    "* Code is in a clearly named notebook\n",
    "* Code is clean and well organized\n",
    "* Code is documented with docstrings and comments \n",
    "* Branching and PRs were done appropriately\n",
    "* Requirements are included in the text of the PR and are correct and versioned\n",
    "* The code runs as documented\n",
    "\n",
    "\n"
   ]
  },
  {
   "cell_type": "code",
   "execution_count": 7,
   "id": "7bd5b6ee-db30-461b-9e46-3c0af40d969b",
   "metadata": {},
   "outputs": [],
   "source": [
    "import pandas as pd \n",
    "import matplotlib as mpl \n",
    "import seaborn as sns"
   ]
  },
  {
   "cell_type": "markdown",
   "id": "6f241cf9-ba3c-4698-be01-6dfa1577785a",
   "metadata": {},
   "source": [
    "# Retrieve data"
   ]
  },
  {
   "cell_type": "code",
   "execution_count": 29,
   "id": "7e6eba4c-5f30-4cf3-a42e-5a6fdc95d9de",
   "metadata": {},
   "outputs": [],
   "source": [
    "import os"
   ]
  },
  {
   "cell_type": "code",
   "execution_count": 30,
   "id": "d036a83c-f191-4ca9-bae6-f8992634f468",
   "metadata": {},
   "outputs": [
    {
     "name": "stdout",
     "output_type": "stream",
     "text": [
      "fatal: destination path 'hrv-covid19' already exists and is not an empty directory.\n"
     ]
    }
   ],
   "source": [
    "!git clone https://github.com/Welltory/hrv-covid19.git"
   ]
  },
  {
   "cell_type": "code",
   "execution_count": 31,
   "id": "ed745da9-a708-4f21-90a8-6c99e81929bb",
   "metadata": {},
   "outputs": [
    {
     "name": "stdout",
     "output_type": "stream",
     "text": [
      "blood_pressure.csv     participants.csv       surveys.csv\n",
      "heart_rate.csv         scales_description.csv wearables.csv\n",
      "hrv_measurements.csv   sleep.csv              weather.csv\n"
     ]
    }
   ],
   "source": [
    "!ls hrv-covid19/data"
   ]
  },
  {
   "cell_type": "code",
   "execution_count": 32,
   "id": "72674d51-6f3d-4bf1-92b0-041c1e6d2a95",
   "metadata": {},
   "outputs": [],
   "source": [
    "hrv_data_dir = \"hrv-covid19/data\" \n",
    "\n",
    "dataset = []\n",
    "files = os.listdir(path=hrv_data_dir)\n",
    "for file in files: \n",
    "    dataset.append({ \"name\": file.split('.')[0],  \"file\": hrv_data_dir, \"path\": hrv_data_dir + file })"
   ]
  },
  {
   "cell_type": "code",
   "execution_count": 33,
   "id": "fccb5532-dd65-48cb-9124-a33f71f86186",
   "metadata": {},
   "outputs": [
    {
     "name": "stdout",
     "output_type": "stream",
     "text": [
      "{'name': 'scales_description', 'file': 'hrv-covid19/data', 'path': 'hrv-covid19/datascales_description.csv'}\n",
      "{'name': 'participants', 'file': 'hrv-covid19/data', 'path': 'hrv-covid19/dataparticipants.csv'}\n",
      "{'name': 'wearables', 'file': 'hrv-covid19/data', 'path': 'hrv-covid19/datawearables.csv'}\n",
      "{'name': 'blood_pressure', 'file': 'hrv-covid19/data', 'path': 'hrv-covid19/datablood_pressure.csv'}\n",
      "{'name': 'surveys', 'file': 'hrv-covid19/data', 'path': 'hrv-covid19/datasurveys.csv'}\n",
      "{'name': 'heart_rate', 'file': 'hrv-covid19/data', 'path': 'hrv-covid19/dataheart_rate.csv'}\n",
      "{'name': 'weather', 'file': 'hrv-covid19/data', 'path': 'hrv-covid19/dataweather.csv'}\n",
      "{'name': 'hrv_measurements', 'file': 'hrv-covid19/data', 'path': 'hrv-covid19/datahrv_measurements.csv'}\n",
      "{'name': 'sleep', 'file': 'hrv-covid19/data', 'path': 'hrv-covid19/datasleep.csv'}\n"
     ]
    }
   ],
   "source": [
    "for d in dataset: \n",
    "    print(d) "
   ]
  },
  {
   "cell_type": "markdown",
   "id": "f4d49b89-7656-4225-8b66-cc9d852d884b",
   "metadata": {},
   "source": [
    "# Analyze"
   ]
  },
  {
   "cell_type": "code",
   "execution_count": null,
   "id": "63f2e60f-0714-4cea-8a0d-f57c116ebc88",
   "metadata": {},
   "outputs": [],
   "source": [
    "df = pd.read_csv(hrv_data_dir + "
   ]
  }
 ],
 "metadata": {
  "kernelspec": {
   "display_name": "Team Assignments",
   "language": "python",
   "name": "team-assignments"
  },
  "language_info": {
   "codemirror_mode": {
    "name": "ipython",
    "version": 3
   },
   "file_extension": ".py",
   "mimetype": "text/x-python",
   "name": "python",
   "nbconvert_exporter": "python",
   "pygments_lexer": "ipython3",
   "version": "3.12.4"
  }
 },
 "nbformat": 4,
 "nbformat_minor": 5
}
