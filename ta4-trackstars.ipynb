{
 "cells": [
  {
   "cell_type": "markdown",
   "id": "13e19e94-c704-4fe1-a15c-5f1dcc0e69e8",
   "metadata": {},
   "source": [
    "# Team Assignment #4 - Data Exploration\n",
    "\n",
    "Analysis completed by **Team Trackstars (Stuart Bladon and Jason Mooberry).**"
   ]
  },
  {
   "cell_type": "markdown",
   "id": "891313f6-85fd-49d8-8042-87dae1007317",
   "metadata": {},
   "source": [
    "# Assignment Instructions (Remove before submission) \n",
    "\n",
    "### In your Jupyter notebook report, complete the following:\n",
    "* Document data context and data sampling in markdown\n",
    "* Explore and interpret data structure, descriptive statistics, data quality, and variable relationships\n",
    "* Explore data visually with appropriate visualizations\n",
    "* Discuss and implement strategies for Handling Missing Values, Removing Duplicates, and Handling Outliers\n",
    "* Perform data transformation as appropriate\n",
    "* Create at least one new feature and document your approach\n",
    "* Perform a dimensionality reduction method on the data and discuss \n",
    "* Include a discussion around data quality assessment, including data profiling, data completeness, data accuracy, data consistency, data integrity, and data lineage and provenance\n",
    "\n",
    "## Submission\n",
    "To submit your code, make a PR into the data-eda-ta4 branch and add me and the TA as reviewers. Make sure the name of your notebook follows best practices and includes your team name.\n",
    "## Rubric\n",
    "\n",
    "### Report (35 points)\n",
    "* Report includes a title, authors, dates, and relevant information for running it at the top \n",
    "* Report includes a reference to the original dataset\n",
    "* Data context and sampling is documented in markdown\n",
    "* Code and documented interpretation of data structure\n",
    "* Code and documented interpretation of descriptive statistics\n",
    "* Code and documented interpretation of data quality\n",
    "* Code and documented interpretation of variable relationships\n",
    "* Visualizations used are complete and appropriate and interpretation(s) are documented in the notebook\n",
    "* Visualizations follow best practices (titles, axes labels, etc)\n",
    "* Strategies for handling missing values, outliers, and removing duplicates are implemented and/or discussed\n",
    "* Appropriate data transformation is performed\n",
    "* One new feature is engineered and documented\n",
    "* A dimensionality reduction method is performed and interpreted\n",
    "* A discussion on data quality assessment is included and incorporates the following components: data profiling, data completeness, data accuracy, data consistency, data integrity, and data lineage and provenance\n",
    "\n",
    "### Code (10 points)\n",
    "* Code is in a clearly named notebook\n",
    "* Code is clean and well organized\n",
    "* Code is documented with docstrings and comments \n",
    "* Branching and PRs were done appropriately\n",
    "* Requirements are included in the text of the PR and are correct and versioned\n",
    "* The code runs as documented\n"
   ]
  },
  {
   "cell_type": "code",
   "execution_count": 10,
   "id": "7bd5b6ee-db30-461b-9e46-3c0af40d969b",
   "metadata": {},
   "outputs": [],
   "source": [
    "import pandas as pd \n",
    "import matplotlib as mpl \n",
    "import seaborn as sns"
   ]
  },
  {
   "cell_type": "markdown",
   "id": "6f241cf9-ba3c-4698-be01-6dfa1577785a",
   "metadata": {},
   "source": [
    "# Retrieve data\n",
    "\n",
    "Clone the [Welltory heart rate variability (HRV) COVID-19 data](https://github.com/Welltory/hrv-covid19/tree/master) into a local repository, iterate over the files and load them into respective dataframes. "
   ]
  },
  {
   "cell_type": "code",
   "execution_count": 11,
   "id": "7e6eba4c-5f30-4cf3-a42e-5a6fdc95d9de",
   "metadata": {},
   "outputs": [],
   "source": [
    "import os"
   ]
  },
  {
   "cell_type": "code",
   "execution_count": 12,
   "id": "d036a83c-f191-4ca9-bae6-f8992634f468",
   "metadata": {},
   "outputs": [
    {
     "name": "stdout",
     "output_type": "stream",
     "text": [
      "fatal: destination path 'hrv-covid19' already exists and is not an empty directory.\n"
     ]
    }
   ],
   "source": [
    "!git clone https://github.com/Welltory/hrv-covid19.git"
   ]
  },
  {
   "cell_type": "code",
   "execution_count": 13,
   "id": "ed745da9-a708-4f21-90a8-6c99e81929bb",
   "metadata": {},
   "outputs": [
    {
     "name": "stdout",
     "output_type": "stream",
     "text": [
      "blood_pressure.csv     participants.csv       surveys.csv\n",
      "heart_rate.csv         scales_description.csv wearables.csv\n",
      "hrv_measurements.csv   sleep.csv              weather.csv\n"
     ]
    }
   ],
   "source": [
    "!ls hrv-covid19/data"
   ]
  },
  {
   "cell_type": "code",
   "execution_count": 14,
   "id": "72674d51-6f3d-4bf1-92b0-041c1e6d2a95",
   "metadata": {},
   "outputs": [],
   "source": [
    "hrv_data_dir = \"hrv-covid19/data\" \n",
    "\n",
    "dataset = []\n",
    "files = os.listdir(path=hrv_data_dir)\n",
    "for file in files: \n",
    "    dataset.append({ \"name\": file.split('.')[0],  \"file\": file, \"path\": hrv_data_dir + '/' + file })"
   ]
  },
  {
   "cell_type": "code",
   "execution_count": 20,
   "id": "fccb5532-dd65-48cb-9124-a33f71f86186",
   "metadata": {},
   "outputs": [
    {
     "name": "stdout",
     "output_type": "stream",
     "text": [
      "Loading scales_description (scales_description.csv) into [scales_description] dataframe \n",
      "Loading participants (participants.csv) into [participants] dataframe \n",
      "Loading wearables (wearables.csv) into [wearables] dataframe \n",
      "Loading blood_pressure (blood_pressure.csv) into [blood_pressure] dataframe \n",
      "Loading surveys (surveys.csv) into [surveys] dataframe \n",
      "Loading heart_rate (heart_rate.csv) into [heart_rate] dataframe \n",
      "Loading weather (weather.csv) into [weather] dataframe \n",
      "Loading hrv_measurements (hrv_measurements.csv) into [hrv_measurements] dataframe \n",
      "Loading sleep (sleep.csv) into [sleep] dataframe \n"
     ]
    }
   ],
   "source": [
    "dfs = {}\n",
    "for d in dataset: \n",
    "    print(f\"Loading {d['name']} ({d['file']}) into [{d['name']}] dataframe \") \n",
    "    dfs[d['name']] = pd.read_csv(d['path'])"
   ]
  },
  {
   "cell_type": "markdown",
   "id": "f4d49b89-7656-4225-8b66-cc9d852d884b",
   "metadata": {},
   "source": [
    "# Analysis"
   ]
  },
  {
   "cell_type": "markdown",
   "id": "354b3acc-cde6-42a1-a91e-82727e91eaf0",
   "metadata": {},
   "source": [
    "## Data Structure\n",
    "\n",
    "There are a number of tables in this dataset. Dump the schema of each to gain an appreciation for their features and overall structure. \n",
    "\n",
    "Note the explicit calls to the notebook `display` functionality required since the notebook can't infer it's use in a loop. [Source](https://stackoverflow.com/questions/26873127/show-dataframe-as-table-in-ipython-notebook)"
   ]
  },
  {
   "cell_type": "code",
   "execution_count": 42,
   "id": "576c566c-5f7e-4839-aef8-d5b5a394788e",
   "metadata": {},
   "outputs": [],
   "source": [
    "from IPython.display import display"
   ]
  },
  {
   "cell_type": "code",
   "execution_count": 53,
   "id": "63f2e60f-0714-4cea-8a0d-f57c116ebc88",
   "metadata": {},
   "outputs": [
    {
     "name": "stdout",
     "output_type": "stream",
     "text": [
      "scales_description\n"
     ]
    },
    {
     "data": {
      "text/html": [
       "<div>\n",
       "<style scoped>\n",
       "    .dataframe tbody tr th:only-of-type {\n",
       "        vertical-align: middle;\n",
       "    }\n",
       "\n",
       "    .dataframe tbody tr th {\n",
       "        vertical-align: top;\n",
       "    }\n",
       "\n",
       "    .dataframe thead th {\n",
       "        text-align: right;\n",
       "    }\n",
       "</style>\n",
       "<table border=\"1\" class=\"dataframe\">\n",
       "  <thead>\n",
       "    <tr style=\"text-align: right;\">\n",
       "      <th></th>\n",
       "      <th>Scale</th>\n",
       "      <th>Description</th>\n",
       "      <th>Value</th>\n",
       "      <th>Meaning</th>\n",
       "    </tr>\n",
       "  </thead>\n",
       "  <tbody>\n",
       "    <tr>\n",
       "      <th>0</th>\n",
       "      <td>S_COVID_SYMPTOMS</td>\n",
       "      <td>How long the user has been experiencing symptoms</td>\n",
       "      <td>1</td>\n",
       "      <td>Less than 3 days</td>\n",
       "    </tr>\n",
       "  </tbody>\n",
       "</table>\n",
       "</div>"
      ],
      "text/plain": [
       "              Scale                                       Description  Value  \\\n",
       "0  S_COVID_SYMPTOMS  How long the user has been experiencing symptoms      1   \n",
       "\n",
       "            Meaning  \n",
       "0  Less than 3 days  "
      ]
     },
     "metadata": {},
     "output_type": "display_data"
    },
    {
     "name": "stdout",
     "output_type": "stream",
     "text": [
      "participants\n"
     ]
    },
    {
     "data": {
      "text/html": [
       "<div>\n",
       "<style scoped>\n",
       "    .dataframe tbody tr th:only-of-type {\n",
       "        vertical-align: middle;\n",
       "    }\n",
       "\n",
       "    .dataframe tbody tr th {\n",
       "        vertical-align: top;\n",
       "    }\n",
       "\n",
       "    .dataframe thead th {\n",
       "        text-align: right;\n",
       "    }\n",
       "</style>\n",
       "<table border=\"1\" class=\"dataframe\">\n",
       "  <thead>\n",
       "    <tr style=\"text-align: right;\">\n",
       "      <th></th>\n",
       "      <th>user_code</th>\n",
       "      <th>gender</th>\n",
       "      <th>age_range</th>\n",
       "      <th>city</th>\n",
       "      <th>country</th>\n",
       "      <th>height</th>\n",
       "      <th>weight</th>\n",
       "      <th>symptoms_onset</th>\n",
       "    </tr>\n",
       "  </thead>\n",
       "  <tbody>\n",
       "    <tr>\n",
       "      <th>0</th>\n",
       "      <td>007b8190cf</td>\n",
       "      <td>m</td>\n",
       "      <td>25-34</td>\n",
       "      <td>Mandalay</td>\n",
       "      <td>Myanmar</td>\n",
       "      <td>170.18</td>\n",
       "      <td>96.162</td>\n",
       "      <td>NaN</td>\n",
       "    </tr>\n",
       "  </tbody>\n",
       "</table>\n",
       "</div>"
      ],
      "text/plain": [
       "    user_code gender age_range      city  country  height  weight  \\\n",
       "0  007b8190cf      m     25-34  Mandalay  Myanmar  170.18  96.162   \n",
       "\n",
       "  symptoms_onset  \n",
       "0            NaN  "
      ]
     },
     "metadata": {},
     "output_type": "display_data"
    },
    {
     "name": "stdout",
     "output_type": "stream",
     "text": [
      "wearables\n"
     ]
    },
    {
     "data": {
      "text/html": [
       "<div>\n",
       "<style scoped>\n",
       "    .dataframe tbody tr th:only-of-type {\n",
       "        vertical-align: middle;\n",
       "    }\n",
       "\n",
       "    .dataframe tbody tr th {\n",
       "        vertical-align: top;\n",
       "    }\n",
       "\n",
       "    .dataframe thead th {\n",
       "        text-align: right;\n",
       "    }\n",
       "</style>\n",
       "<table border=\"1\" class=\"dataframe\">\n",
       "  <thead>\n",
       "    <tr style=\"text-align: right;\">\n",
       "      <th></th>\n",
       "      <th>user_code</th>\n",
       "      <th>day</th>\n",
       "      <th>resting_pulse</th>\n",
       "      <th>pulse_average</th>\n",
       "      <th>pulse_min</th>\n",
       "      <th>pulse_max</th>\n",
       "      <th>average_spo2_value</th>\n",
       "      <th>body_temperature_avg</th>\n",
       "      <th>stand_hours_total</th>\n",
       "      <th>steps_count</th>\n",
       "      <th>distance</th>\n",
       "      <th>steps_speed</th>\n",
       "      <th>total_number_of_flights_climbed</th>\n",
       "      <th>active_calories_burned</th>\n",
       "      <th>basal_calories_burned</th>\n",
       "      <th>total_calories_burned</th>\n",
       "      <th>average_headphone_exposure</th>\n",
       "      <th>average_environment_exposure</th>\n",
       "    </tr>\n",
       "  </thead>\n",
       "  <tbody>\n",
       "    <tr>\n",
       "      <th>0</th>\n",
       "      <td>007b8190cf</td>\n",
       "      <td>2020-04-26</td>\n",
       "      <td>NaN</td>\n",
       "      <td>70.0</td>\n",
       "      <td>70.0</td>\n",
       "      <td>70.0</td>\n",
       "      <td>NaN</td>\n",
       "      <td>NaN</td>\n",
       "      <td>NaN</td>\n",
       "      <td>NaN</td>\n",
       "      <td>NaN</td>\n",
       "      <td>NaN</td>\n",
       "      <td>NaN</td>\n",
       "      <td>NaN</td>\n",
       "      <td>2859.0</td>\n",
       "      <td>2859.0</td>\n",
       "      <td>NaN</td>\n",
       "      <td>NaN</td>\n",
       "    </tr>\n",
       "  </tbody>\n",
       "</table>\n",
       "</div>"
      ],
      "text/plain": [
       "    user_code         day  resting_pulse  pulse_average  pulse_min  pulse_max  \\\n",
       "0  007b8190cf  2020-04-26            NaN           70.0       70.0       70.0   \n",
       "\n",
       "   average_spo2_value  body_temperature_avg  stand_hours_total  steps_count  \\\n",
       "0                 NaN                   NaN                NaN          NaN   \n",
       "\n",
       "   distance  steps_speed  total_number_of_flights_climbed  \\\n",
       "0       NaN          NaN                              NaN   \n",
       "\n",
       "   active_calories_burned  basal_calories_burned  total_calories_burned  \\\n",
       "0                     NaN                 2859.0                 2859.0   \n",
       "\n",
       "   average_headphone_exposure  average_environment_exposure  \n",
       "0                         NaN                           NaN  "
      ]
     },
     "metadata": {},
     "output_type": "display_data"
    },
    {
     "name": "stdout",
     "output_type": "stream",
     "text": [
      "blood_pressure\n"
     ]
    },
    {
     "data": {
      "text/html": [
       "<div>\n",
       "<style scoped>\n",
       "    .dataframe tbody tr th:only-of-type {\n",
       "        vertical-align: middle;\n",
       "    }\n",
       "\n",
       "    .dataframe tbody tr th {\n",
       "        vertical-align: top;\n",
       "    }\n",
       "\n",
       "    .dataframe thead th {\n",
       "        text-align: right;\n",
       "    }\n",
       "</style>\n",
       "<table border=\"1\" class=\"dataframe\">\n",
       "  <thead>\n",
       "    <tr style=\"text-align: right;\">\n",
       "      <th></th>\n",
       "      <th>user_code</th>\n",
       "      <th>measurement_datetime</th>\n",
       "      <th>diastolic</th>\n",
       "      <th>systolic</th>\n",
       "      <th>functional_changes_index</th>\n",
       "      <th>circulatory_efficiency</th>\n",
       "      <th>kerdo_vegetation_index</th>\n",
       "      <th>robinson_index</th>\n",
       "    </tr>\n",
       "  </thead>\n",
       "  <tbody>\n",
       "    <tr>\n",
       "      <th>0</th>\n",
       "      <td>01bad5a519</td>\n",
       "      <td>2020-04-29  22:33:33</td>\n",
       "      <td>100</td>\n",
       "      <td>150</td>\n",
       "      <td>NaN</td>\n",
       "      <td>NaN</td>\n",
       "      <td>NaN</td>\n",
       "      <td>NaN</td>\n",
       "    </tr>\n",
       "  </tbody>\n",
       "</table>\n",
       "</div>"
      ],
      "text/plain": [
       "    user_code  measurement_datetime  diastolic  systolic  \\\n",
       "0  01bad5a519  2020-04-29  22:33:33        100       150   \n",
       "\n",
       "   functional_changes_index  circulatory_efficiency  kerdo_vegetation_index  \\\n",
       "0                       NaN                     NaN                     NaN   \n",
       "\n",
       "   robinson_index  \n",
       "0             NaN  "
      ]
     },
     "metadata": {},
     "output_type": "display_data"
    },
    {
     "name": "stdout",
     "output_type": "stream",
     "text": [
      "surveys\n"
     ]
    },
    {
     "data": {
      "text/html": [
       "<div>\n",
       "<style scoped>\n",
       "    .dataframe tbody tr th:only-of-type {\n",
       "        vertical-align: middle;\n",
       "    }\n",
       "\n",
       "    .dataframe tbody tr th {\n",
       "        vertical-align: top;\n",
       "    }\n",
       "\n",
       "    .dataframe thead th {\n",
       "        text-align: right;\n",
       "    }\n",
       "</style>\n",
       "<table border=\"1\" class=\"dataframe\">\n",
       "  <thead>\n",
       "    <tr style=\"text-align: right;\">\n",
       "      <th></th>\n",
       "      <th>user_code</th>\n",
       "      <th>scale</th>\n",
       "      <th>created_at</th>\n",
       "      <th>value</th>\n",
       "      <th>text</th>\n",
       "    </tr>\n",
       "  </thead>\n",
       "  <tbody>\n",
       "    <tr>\n",
       "      <th>0</th>\n",
       "      <td>01bad5a519</td>\n",
       "      <td>S_CORONA</td>\n",
       "      <td>2020-04-23</td>\n",
       "      <td>2</td>\n",
       "      <td>Symptoms are characteristic of coronavirus</td>\n",
       "    </tr>\n",
       "  </tbody>\n",
       "</table>\n",
       "</div>"
      ],
      "text/plain": [
       "    user_code     scale  created_at  value  \\\n",
       "0  01bad5a519  S_CORONA  2020-04-23      2   \n",
       "\n",
       "                                         text  \n",
       "0  Symptoms are characteristic of coronavirus  "
      ]
     },
     "metadata": {},
     "output_type": "display_data"
    },
    {
     "name": "stdout",
     "output_type": "stream",
     "text": [
      "heart_rate\n"
     ]
    },
    {
     "data": {
      "text/html": [
       "<div>\n",
       "<style scoped>\n",
       "    .dataframe tbody tr th:only-of-type {\n",
       "        vertical-align: middle;\n",
       "    }\n",
       "\n",
       "    .dataframe tbody tr th {\n",
       "        vertical-align: top;\n",
       "    }\n",
       "\n",
       "    .dataframe thead th {\n",
       "        text-align: right;\n",
       "    }\n",
       "</style>\n",
       "<table border=\"1\" class=\"dataframe\">\n",
       "  <thead>\n",
       "    <tr style=\"text-align: right;\">\n",
       "      <th></th>\n",
       "      <th>user_code</th>\n",
       "      <th>datetime</th>\n",
       "      <th>heart_rate</th>\n",
       "      <th>is_resting</th>\n",
       "    </tr>\n",
       "  </thead>\n",
       "  <tbody>\n",
       "    <tr>\n",
       "      <th>0</th>\n",
       "      <td>007b8190cf</td>\n",
       "      <td>2020-04-26 04:49:25</td>\n",
       "      <td>70</td>\n",
       "      <td>0</td>\n",
       "    </tr>\n",
       "  </tbody>\n",
       "</table>\n",
       "</div>"
      ],
      "text/plain": [
       "    user_code             datetime  heart_rate  is_resting\n",
       "0  007b8190cf  2020-04-26 04:49:25          70           0"
      ]
     },
     "metadata": {},
     "output_type": "display_data"
    },
    {
     "name": "stdout",
     "output_type": "stream",
     "text": [
      "weather\n"
     ]
    },
    {
     "data": {
      "text/html": [
       "<div>\n",
       "<style scoped>\n",
       "    .dataframe tbody tr th:only-of-type {\n",
       "        vertical-align: middle;\n",
       "    }\n",
       "\n",
       "    .dataframe tbody tr th {\n",
       "        vertical-align: top;\n",
       "    }\n",
       "\n",
       "    .dataframe thead th {\n",
       "        text-align: right;\n",
       "    }\n",
       "</style>\n",
       "<table border=\"1\" class=\"dataframe\">\n",
       "  <thead>\n",
       "    <tr style=\"text-align: right;\">\n",
       "      <th></th>\n",
       "      <th>user_code</th>\n",
       "      <th>day</th>\n",
       "      <th>avg_temperature_C</th>\n",
       "      <th>atmospheric_pressure</th>\n",
       "      <th>precip_intensity</th>\n",
       "      <th>humidity</th>\n",
       "      <th>clouds</th>\n",
       "    </tr>\n",
       "  </thead>\n",
       "  <tbody>\n",
       "    <tr>\n",
       "      <th>0</th>\n",
       "      <td>013f6d3e5b</td>\n",
       "      <td>2020-05-22</td>\n",
       "      <td>18.0667</td>\n",
       "      <td>1017.6</td>\n",
       "      <td>0.0002</td>\n",
       "      <td>70.0</td>\n",
       "      <td>67.0</td>\n",
       "    </tr>\n",
       "  </tbody>\n",
       "</table>\n",
       "</div>"
      ],
      "text/plain": [
       "    user_code         day  avg_temperature_C  atmospheric_pressure  \\\n",
       "0  013f6d3e5b  2020-05-22            18.0667                1017.6   \n",
       "\n",
       "   precip_intensity  humidity  clouds  \n",
       "0            0.0002      70.0    67.0  "
      ]
     },
     "metadata": {},
     "output_type": "display_data"
    },
    {
     "name": "stdout",
     "output_type": "stream",
     "text": [
      "hrv_measurements\n"
     ]
    },
    {
     "data": {
      "text/html": [
       "<div>\n",
       "<style scoped>\n",
       "    .dataframe tbody tr th:only-of-type {\n",
       "        vertical-align: middle;\n",
       "    }\n",
       "\n",
       "    .dataframe tbody tr th {\n",
       "        vertical-align: top;\n",
       "    }\n",
       "\n",
       "    .dataframe thead th {\n",
       "        text-align: right;\n",
       "    }\n",
       "</style>\n",
       "<table border=\"1\" class=\"dataframe\">\n",
       "  <thead>\n",
       "    <tr style=\"text-align: right;\">\n",
       "      <th></th>\n",
       "      <th>user_code</th>\n",
       "      <th>rr_code</th>\n",
       "      <th>measurement_datetime</th>\n",
       "      <th>time_of_day</th>\n",
       "      <th>bpm</th>\n",
       "      <th>meanrr</th>\n",
       "      <th>mxdmn</th>\n",
       "      <th>sdnn</th>\n",
       "      <th>rmssd</th>\n",
       "      <th>pnn50</th>\n",
       "      <th>...</th>\n",
       "      <th>lf</th>\n",
       "      <th>hf</th>\n",
       "      <th>vlf</th>\n",
       "      <th>lfhf</th>\n",
       "      <th>total_power</th>\n",
       "      <th>how_feel</th>\n",
       "      <th>how_mood</th>\n",
       "      <th>how_sleep</th>\n",
       "      <th>tags</th>\n",
       "      <th>rr_data</th>\n",
       "    </tr>\n",
       "  </thead>\n",
       "  <tbody>\n",
       "    <tr>\n",
       "      <th>0</th>\n",
       "      <td>007b8190cf</td>\n",
       "      <td>10489a6aea</td>\n",
       "      <td>2020-04-21 21:23:08</td>\n",
       "      <td>morning</td>\n",
       "      <td>75</td>\n",
       "      <td>795.9</td>\n",
       "      <td>0.12</td>\n",
       "      <td>45.802</td>\n",
       "      <td>54.174</td>\n",
       "      <td>15.15</td>\n",
       "      <td>...</td>\n",
       "      <td>508.0</td>\n",
       "      <td>1076.0</td>\n",
       "      <td>267.0</td>\n",
       "      <td>0.472</td>\n",
       "      <td>1851.0</td>\n",
       "      <td>0</td>\n",
       "      <td>-1</td>\n",
       "      <td>NaN</td>\n",
       "      <td>COVID-19; Workout; Sex; Hobby; Studying; Sleep...</td>\n",
       "      <td>819,1008,831,847,785,778,866,839,801,793,846,8...</td>\n",
       "    </tr>\n",
       "  </tbody>\n",
       "</table>\n",
       "<p>1 rows × 22 columns</p>\n",
       "</div>"
      ],
      "text/plain": [
       "    user_code     rr_code measurement_datetime time_of_day  bpm  meanrr  \\\n",
       "0  007b8190cf  10489a6aea  2020-04-21 21:23:08     morning   75   795.9   \n",
       "\n",
       "   mxdmn    sdnn   rmssd  pnn50  ...     lf      hf    vlf   lfhf  \\\n",
       "0   0.12  45.802  54.174  15.15  ...  508.0  1076.0  267.0  0.472   \n",
       "\n",
       "   total_power  how_feel  how_mood  how_sleep  \\\n",
       "0       1851.0         0        -1        NaN   \n",
       "\n",
       "                                                tags  \\\n",
       "0  COVID-19; Workout; Sex; Hobby; Studying; Sleep...   \n",
       "\n",
       "                                             rr_data  \n",
       "0  819,1008,831,847,785,778,866,839,801,793,846,8...  \n",
       "\n",
       "[1 rows x 22 columns]"
      ]
     },
     "metadata": {},
     "output_type": "display_data"
    },
    {
     "name": "stdout",
     "output_type": "stream",
     "text": [
      "sleep\n"
     ]
    },
    {
     "data": {
      "text/html": [
       "<div>\n",
       "<style scoped>\n",
       "    .dataframe tbody tr th:only-of-type {\n",
       "        vertical-align: middle;\n",
       "    }\n",
       "\n",
       "    .dataframe tbody tr th {\n",
       "        vertical-align: top;\n",
       "    }\n",
       "\n",
       "    .dataframe thead th {\n",
       "        text-align: right;\n",
       "    }\n",
       "</style>\n",
       "<table border=\"1\" class=\"dataframe\">\n",
       "  <thead>\n",
       "    <tr style=\"text-align: right;\">\n",
       "      <th></th>\n",
       "      <th>user_code</th>\n",
       "      <th>day</th>\n",
       "      <th>sleep_begin</th>\n",
       "      <th>sleep_end</th>\n",
       "      <th>sleep_duration</th>\n",
       "      <th>sleep_awake_duration</th>\n",
       "      <th>sleep_rem_duration</th>\n",
       "      <th>sleep_light_duration</th>\n",
       "      <th>sleep_deep_duration</th>\n",
       "      <th>pulse_min</th>\n",
       "      <th>pulse_max</th>\n",
       "      <th>pulse_average</th>\n",
       "    </tr>\n",
       "  </thead>\n",
       "  <tbody>\n",
       "    <tr>\n",
       "      <th>0</th>\n",
       "      <td>0d297d2410</td>\n",
       "      <td>2019-12-31</td>\n",
       "      <td>2019-12-31 07:50:32</td>\n",
       "      <td>2019-12-31 08:45:22</td>\n",
       "      <td>3290.0</td>\n",
       "      <td>NaN</td>\n",
       "      <td>NaN</td>\n",
       "      <td>NaN</td>\n",
       "      <td>NaN</td>\n",
       "      <td>NaN</td>\n",
       "      <td>NaN</td>\n",
       "      <td>NaN</td>\n",
       "    </tr>\n",
       "  </tbody>\n",
       "</table>\n",
       "</div>"
      ],
      "text/plain": [
       "    user_code         day          sleep_begin            sleep_end  \\\n",
       "0  0d297d2410  2019-12-31  2019-12-31 07:50:32  2019-12-31 08:45:22   \n",
       "\n",
       "   sleep_duration  sleep_awake_duration  sleep_rem_duration  \\\n",
       "0          3290.0                   NaN                 NaN   \n",
       "\n",
       "   sleep_light_duration  sleep_deep_duration  pulse_min  pulse_max  \\\n",
       "0                   NaN                  NaN        NaN        NaN   \n",
       "\n",
       "   pulse_average  \n",
       "0            NaN  "
      ]
     },
     "metadata": {},
     "output_type": "display_data"
    }
   ],
   "source": [
    "for name, df in dfs.items():\n",
    "    print(name) \n",
    "    display(df.head(1))"
   ]
  },
  {
   "cell_type": "markdown",
   "id": "0f3dd2ac-7143-4632-b3be-706f678e9c8c",
   "metadata": {},
   "source": [
    "### Scales\n",
    "\n",
    "Investigate the scales table. "
   ]
  },
  {
   "cell_type": "code",
   "execution_count": 67,
   "id": "a92638a7-61e3-4869-bee7-5771ca0cd291",
   "metadata": {},
   "outputs": [],
   "source": [
    "df = dfs['scales_description']"
   ]
  },
  {
   "cell_type": "code",
   "execution_count": 68,
   "id": "4d7ec570-ba70-4a83-87c7-5fc63951295c",
   "metadata": {},
   "outputs": [
    {
     "data": {
      "text/plain": [
       "Scale          object\n",
       "Description    object\n",
       "Value           int64\n",
       "Meaning        object\n",
       "dtype: object"
      ]
     },
     "execution_count": 68,
     "metadata": {},
     "output_type": "execute_result"
    }
   ],
   "source": [
    "df.dtypes"
   ]
  },
  {
   "cell_type": "code",
   "execution_count": 70,
   "id": "cfaa61a3-cbe4-4a63-a3d3-68631e115dee",
   "metadata": {},
   "outputs": [
    {
     "data": {
      "text/plain": [
       "array(['S_COVID_SYMPTOMS', 'S_COVID_COUGH', 'S_COVID_FEVER',\n",
       "       'S_COVID_BREATH', 'S_COVID_FATIGUE', 'S_COVID_PAIN',\n",
       "       'S_COVID_CONFUSION', 'S_COVID_TROUBLE', 'S_COVID_BLUISH',\n",
       "       'S_COVID_OVERALL', 'S_CORONA', 'S_HEART', 'S_HEART_1', 'S_HEART_2',\n",
       "       'S_HEART_22', 'S_HEART_3', 'S_HEART_4', 'S_HEART_5', 'S_HEART_6',\n",
       "       'S_HEART_7', 'S_HRA_MONTH\\n\\xa0', 'S_HRA_ASTHMA', 'S_HRA_ALLERG',\n",
       "       'S_HRA_LUNG', 'S_HRA_KIDNEY', 'S_HRA_LIVER', 'S_HRA_CHOL',\n",
       "       'S_HRA_DBT', 'S_HRA_ARR', 'S_HRA_HEART', 'S_HRA_AFTER',\n",
       "       'S_HRA_HBP', 'S_HRA_LBP', 'S_HRA_THYR', 'S_HRA_EPILEPSY',\n",
       "       'S_HRA_BONE', 'S_HRA_JOINTS', 'S_HRA_OSTEO', 'S_HRA_NECK',\n",
       "       'S_HRA_JOINT', 'S_HRA_FIBRO', 'S_HRA_HEAD', 'S_HRA_SLEEP',\n",
       "       'S_HRA_DEP', 'S_HRA_ANX', 'S_HRA_PANIC', 'S_HRA_EDEMA',\n",
       "       'S_HRA_CUSHING', 'S_HRA_D', 'S_HRA_OVARY', 'S_HRA_VARI',\n",
       "       'S_HRA_ENDO', 'S_HRA_HORM', 'S_SMOKING', 'S_HRA_PMS',\n",
       "       'S_HRA_HEAVY', 'S_HRA_IRR', 'S_HRA_PERPAIN', 'S_HRA_SUGAR',\n",
       "       'S_HRA_COLDS', 'S_HRA_ANEMIA', 'S_HRA_BIPOLAR', 'S_HRA_OCD',\n",
       "       'S_HRA_POST', 'S_HRA_SKIN', 'S_HRA_VIT', 'S_HRA_ALC', 'S_DIABETES',\n",
       "       'S_DIAB_REASON1', 'S_DIAB_REASON2', 'S_DIAB_REASON3',\n",
       "       'S_DIAB_REASON4', 'S_DIAB_REASON5', 'S_DIAB_REASON6'], dtype=object)"
      ]
     },
     "execution_count": 70,
     "metadata": {},
     "output_type": "execute_result"
    }
   ],
   "source": [
    "df['Scale'].unique()"
   ]
  },
  {
   "cell_type": "code",
   "execution_count": 81,
   "id": "22aa6d95-e2e7-4b53-b2ef-b0a3ac001744",
   "metadata": {},
   "outputs": [],
   "source": [
    "def get_subcat1(s): \n",
    "    t = s.split('_')\n",
    "    return t[1] if len(t) >= 2 else None\n",
    "\n",
    "def get_subcat2(s): \n",
    "    t = s.split('_')\n",
    "    return t[2] if len(t) >= 3 else None\n",
    "    \n",
    "df['Subcat1'] = df['Scale'].apply(get_subcat1) \n",
    "df['Subcat2'] = df['Scale'].apply(get_subcat2) "
   ]
  },
  {
   "cell_type": "code",
   "execution_count": 87,
   "id": "57b0232a-1ed8-4c2a-b643-f1b6afd822eb",
   "metadata": {},
   "outputs": [
    {
     "data": {
      "text/plain": [
       "array(['COVID', 'CORONA', 'HEART', 'HRA', 'SMOKING', 'DIABETES', 'DIAB'],\n",
       "      dtype=object)"
      ]
     },
     "execution_count": 87,
     "metadata": {},
     "output_type": "execute_result"
    }
   ],
   "source": [
    "df['Subcat1'].unique()"
   ]
  },
  {
   "cell_type": "code",
   "execution_count": 88,
   "id": "522f739f-e97a-41e7-a163-819ddc209a67",
   "metadata": {},
   "outputs": [
    {
     "data": {
      "text/html": [
       "<div>\n",
       "<style scoped>\n",
       "    .dataframe tbody tr th:only-of-type {\n",
       "        vertical-align: middle;\n",
       "    }\n",
       "\n",
       "    .dataframe tbody tr th {\n",
       "        vertical-align: top;\n",
       "    }\n",
       "\n",
       "    .dataframe thead th {\n",
       "        text-align: right;\n",
       "    }\n",
       "</style>\n",
       "<table border=\"1\" class=\"dataframe\">\n",
       "  <thead>\n",
       "    <tr style=\"text-align: right;\">\n",
       "      <th></th>\n",
       "      <th>Scale</th>\n",
       "      <th>Description</th>\n",
       "      <th>Value</th>\n",
       "      <th>Meaning</th>\n",
       "      <th>Subcat1</th>\n",
       "      <th>Subcat2</th>\n",
       "    </tr>\n",
       "  </thead>\n",
       "  <tbody>\n",
       "    <tr>\n",
       "      <th>0</th>\n",
       "      <td>S_COVID_SYMPTOMS</td>\n",
       "      <td>How long the user has been experiencing symptoms</td>\n",
       "      <td>1</td>\n",
       "      <td>Less than 3 days</td>\n",
       "      <td>COVID</td>\n",
       "      <td>SYMPTOMS</td>\n",
       "    </tr>\n",
       "    <tr>\n",
       "      <th>1</th>\n",
       "      <td>S_COVID_SYMPTOMS</td>\n",
       "      <td>How long the user has been experiencing symptoms</td>\n",
       "      <td>2</td>\n",
       "      <td>3 to 6 days</td>\n",
       "      <td>COVID</td>\n",
       "      <td>SYMPTOMS</td>\n",
       "    </tr>\n",
       "    <tr>\n",
       "      <th>2</th>\n",
       "      <td>S_COVID_SYMPTOMS</td>\n",
       "      <td>How long the user has been experiencing symptoms</td>\n",
       "      <td>3</td>\n",
       "      <td>7 to 14 days</td>\n",
       "      <td>COVID</td>\n",
       "      <td>SYMPTOMS</td>\n",
       "    </tr>\n",
       "    <tr>\n",
       "      <th>3</th>\n",
       "      <td>S_COVID_SYMPTOMS</td>\n",
       "      <td>How long the user has been experiencing symptoms</td>\n",
       "      <td>4</td>\n",
       "      <td>More than 14 days</td>\n",
       "      <td>COVID</td>\n",
       "      <td>SYMPTOMS</td>\n",
       "    </tr>\n",
       "    <tr>\n",
       "      <th>4</th>\n",
       "      <td>S_COVID_COUGH</td>\n",
       "      <td>Symptom intensity: Coughing</td>\n",
       "      <td>1</td>\n",
       "      <td>User isn’t experiencing symptom</td>\n",
       "      <td>COVID</td>\n",
       "      <td>COUGH</td>\n",
       "    </tr>\n",
       "  </tbody>\n",
       "</table>\n",
       "</div>"
      ],
      "text/plain": [
       "              Scale                                       Description  Value  \\\n",
       "0  S_COVID_SYMPTOMS  How long the user has been experiencing symptoms      1   \n",
       "1  S_COVID_SYMPTOMS  How long the user has been experiencing symptoms      2   \n",
       "2  S_COVID_SYMPTOMS  How long the user has been experiencing symptoms      3   \n",
       "3  S_COVID_SYMPTOMS  How long the user has been experiencing symptoms      4   \n",
       "4     S_COVID_COUGH                       Symptom intensity: Coughing      1   \n",
       "\n",
       "                           Meaning Subcat1   Subcat2  \n",
       "0                 Less than 3 days   COVID  SYMPTOMS  \n",
       "1                      3 to 6 days   COVID  SYMPTOMS  \n",
       "2                     7 to 14 days   COVID  SYMPTOMS  \n",
       "3                More than 14 days   COVID  SYMPTOMS  \n",
       "4  User isn’t experiencing symptom   COVID     COUGH  "
      ]
     },
     "execution_count": 88,
     "metadata": {},
     "output_type": "execute_result"
    }
   ],
   "source": [
    "df.head()"
   ]
  },
  {
   "cell_type": "code",
   "execution_count": 104,
   "id": "03265369-a841-4f5d-a8d5-32aac4a49acc",
   "metadata": {},
   "outputs": [
    {
     "data": {
      "text/html": [
       "<div>\n",
       "<style scoped>\n",
       "    .dataframe tbody tr th:only-of-type {\n",
       "        vertical-align: middle;\n",
       "    }\n",
       "\n",
       "    .dataframe tbody tr th {\n",
       "        vertical-align: top;\n",
       "    }\n",
       "\n",
       "    .dataframe thead th {\n",
       "        text-align: right;\n",
       "    }\n",
       "</style>\n",
       "<table border=\"1\" class=\"dataframe\">\n",
       "  <thead>\n",
       "    <tr style=\"text-align: right;\">\n",
       "      <th></th>\n",
       "      <th>Scale</th>\n",
       "      <th>Description</th>\n",
       "      <th>Value</th>\n",
       "      <th>Meaning</th>\n",
       "      <th>Subcat1</th>\n",
       "      <th>Subcat2</th>\n",
       "    </tr>\n",
       "  </thead>\n",
       "  <tbody>\n",
       "    <tr>\n",
       "      <th>142</th>\n",
       "      <td>S_DIAB_REASON1</td>\n",
       "      <td>Whether the user’s waist circumference is with...</td>\n",
       "      <td>1</td>\n",
       "      <td>Waist circumference is within the norm</td>\n",
       "      <td>DIAB</td>\n",
       "      <td>REASON1</td>\n",
       "    </tr>\n",
       "    <tr>\n",
       "      <th>143</th>\n",
       "      <td>S_DIAB_REASON2</td>\n",
       "      <td>Whether the user is active enough</td>\n",
       "      <td>1</td>\n",
       "      <td>Is active enough</td>\n",
       "      <td>DIAB</td>\n",
       "      <td>REASON2</td>\n",
       "    </tr>\n",
       "    <tr>\n",
       "      <th>144</th>\n",
       "      <td>S_DIAB_REASON3</td>\n",
       "      <td>Whether the user eats healthy</td>\n",
       "      <td>1</td>\n",
       "      <td>Eats healthy</td>\n",
       "      <td>DIAB</td>\n",
       "      <td>REASON3</td>\n",
       "    </tr>\n",
       "    <tr>\n",
       "      <th>145</th>\n",
       "      <td>S_DIAB_REASON4</td>\n",
       "      <td>Whether the user has BP problems</td>\n",
       "      <td>1</td>\n",
       "      <td>No BP problems</td>\n",
       "      <td>DIAB</td>\n",
       "      <td>REASON4</td>\n",
       "    </tr>\n",
       "    <tr>\n",
       "      <th>146</th>\n",
       "      <td>S_DIAB_REASON5</td>\n",
       "      <td>Whether the user’s blood sugar is within the n...</td>\n",
       "      <td>1</td>\n",
       "      <td>Blood sugar is within the norm when taking the...</td>\n",
       "      <td>DIAB</td>\n",
       "      <td>REASON5</td>\n",
       "    </tr>\n",
       "    <tr>\n",
       "      <th>147</th>\n",
       "      <td>S_DIAB_REASON6</td>\n",
       "      <td>Whether the user has a family history of diabetes</td>\n",
       "      <td>1</td>\n",
       "      <td>No family history of diabetes</td>\n",
       "      <td>DIAB</td>\n",
       "      <td>REASON6</td>\n",
       "    </tr>\n",
       "  </tbody>\n",
       "</table>\n",
       "</div>"
      ],
      "text/plain": [
       "              Scale                                        Description  Value  \\\n",
       "142  S_DIAB_REASON1  Whether the user’s waist circumference is with...      1   \n",
       "143  S_DIAB_REASON2                  Whether the user is active enough      1   \n",
       "144  S_DIAB_REASON3                      Whether the user eats healthy      1   \n",
       "145  S_DIAB_REASON4                   Whether the user has BP problems      1   \n",
       "146  S_DIAB_REASON5  Whether the user’s blood sugar is within the n...      1   \n",
       "147  S_DIAB_REASON6  Whether the user has a family history of diabetes      1   \n",
       "\n",
       "                                               Meaning Subcat1  Subcat2  \n",
       "142             Waist circumference is within the norm    DIAB  REASON1  \n",
       "143                                   Is active enough    DIAB  REASON2  \n",
       "144                                       Eats healthy    DIAB  REASON3  \n",
       "145                                     No BP problems    DIAB  REASON4  \n",
       "146  Blood sugar is within the norm when taking the...    DIAB  REASON5  \n",
       "147                      No family history of diabetes    DIAB  REASON6  "
      ]
     },
     "execution_count": 104,
     "metadata": {},
     "output_type": "execute_result"
    }
   ],
   "source": [
    "df[df['Subcat1'] == 'DIAB' ]"
   ]
  },
  {
   "cell_type": "markdown",
   "id": "17335c7f-72c5-417c-85ae-16ed62d05043",
   "metadata": {},
   "source": [
    "❗️**Insights**: \n",
    "\n",
    "- The scales table appears to be an aggregation of all the enumerative or categorical types found across the dataset.\n",
    "- This table allows mapping between the categoricals and their plain-language description, the associated integer value and a concise meaning string.\n",
    "- There is a shallow hierarchy in these types, which we've broken out here into subcategory 1 and subcategory 2.\n",
    "- The top-level division of the data classifications are: 'COVID', 'CORONA', 'HEART', 'HRA', 'SMOKING', 'DIABETES', 'DIAB'.\n",
    "- Many of the measurement scales are boolean values, though some have a range of severity.\n",
    "- The `DIAB` sub-category appears redundant but on closer inspection contains supplemental information on patients with diabetes\n",
    "- Further analysis on this table is of limited value, as it just contains mappings to decode other readings in the dataset"
   ]
  },
  {
   "cell_type": "markdown",
   "id": "fc5f3686-5aaa-49b1-a760-2f28d5178520",
   "metadata": {},
   "source": [
    "### Participants\n",
    "\n",
    "Investigate the scales table. "
   ]
  },
  {
   "cell_type": "code",
   "execution_count": 46,
   "id": "ad6e6c2d-4a88-498c-b186-1b95b9d0c985",
   "metadata": {
    "scrolled": true
   },
   "outputs": [
    {
     "data": {
      "text/html": [
       "<div>\n",
       "<style scoped>\n",
       "    .dataframe tbody tr th:only-of-type {\n",
       "        vertical-align: middle;\n",
       "    }\n",
       "\n",
       "    .dataframe tbody tr th {\n",
       "        vertical-align: top;\n",
       "    }\n",
       "\n",
       "    .dataframe thead th {\n",
       "        text-align: right;\n",
       "    }\n",
       "</style>\n",
       "<table border=\"1\" class=\"dataframe\">\n",
       "  <thead>\n",
       "    <tr style=\"text-align: right;\">\n",
       "      <th></th>\n",
       "      <th>avg_temperature_C</th>\n",
       "      <th>atmospheric_pressure</th>\n",
       "      <th>precip_intensity</th>\n",
       "      <th>humidity</th>\n",
       "      <th>clouds</th>\n",
       "    </tr>\n",
       "  </thead>\n",
       "  <tbody>\n",
       "    <tr>\n",
       "      <th>count</th>\n",
       "      <td>1717.000000</td>\n",
       "      <td>1717.000000</td>\n",
       "      <td>1717.000000</td>\n",
       "      <td>1717.000000</td>\n",
       "      <td>1717.000000</td>\n",
       "    </tr>\n",
       "    <tr>\n",
       "      <th>mean</th>\n",
       "      <td>11.839221</td>\n",
       "      <td>1014.111639</td>\n",
       "      <td>0.003803</td>\n",
       "      <td>66.376586</td>\n",
       "      <td>56.401734</td>\n",
       "    </tr>\n",
       "    <tr>\n",
       "      <th>std</th>\n",
       "      <td>7.769565</td>\n",
       "      <td>8.356792</td>\n",
       "      <td>0.015348</td>\n",
       "      <td>19.339670</td>\n",
       "      <td>35.048917</td>\n",
       "    </tr>\n",
       "    <tr>\n",
       "      <th>min</th>\n",
       "      <td>-13.150000</td>\n",
       "      <td>984.300000</td>\n",
       "      <td>0.000000</td>\n",
       "      <td>3.000000</td>\n",
       "      <td>0.000000</td>\n",
       "    </tr>\n",
       "    <tr>\n",
       "      <th>25%</th>\n",
       "      <td>6.472200</td>\n",
       "      <td>1009.000000</td>\n",
       "      <td>0.000000</td>\n",
       "      <td>54.000000</td>\n",
       "      <td>24.500000</td>\n",
       "    </tr>\n",
       "    <tr>\n",
       "      <th>50%</th>\n",
       "      <td>11.272200</td>\n",
       "      <td>1014.100000</td>\n",
       "      <td>0.000200</td>\n",
       "      <td>68.000000</td>\n",
       "      <td>61.500000</td>\n",
       "    </tr>\n",
       "    <tr>\n",
       "      <th>75%</th>\n",
       "      <td>16.663900</td>\n",
       "      <td>1019.566700</td>\n",
       "      <td>0.001700</td>\n",
       "      <td>81.000000</td>\n",
       "      <td>91.000000</td>\n",
       "    </tr>\n",
       "    <tr>\n",
       "      <th>max</th>\n",
       "      <td>44.072200</td>\n",
       "      <td>1047.750000</td>\n",
       "      <td>0.256700</td>\n",
       "      <td>100.000000</td>\n",
       "      <td>100.000000</td>\n",
       "    </tr>\n",
       "  </tbody>\n",
       "</table>\n",
       "</div>"
      ],
      "text/plain": [
       "       avg_temperature_C  atmospheric_pressure  precip_intensity     humidity  \\\n",
       "count        1717.000000           1717.000000       1717.000000  1717.000000   \n",
       "mean           11.839221           1014.111639          0.003803    66.376586   \n",
       "std             7.769565              8.356792          0.015348    19.339670   \n",
       "min           -13.150000            984.300000          0.000000     3.000000   \n",
       "25%             6.472200           1009.000000          0.000000    54.000000   \n",
       "50%            11.272200           1014.100000          0.000200    68.000000   \n",
       "75%            16.663900           1019.566700          0.001700    81.000000   \n",
       "max            44.072200           1047.750000          0.256700   100.000000   \n",
       "\n",
       "            clouds  \n",
       "count  1717.000000  \n",
       "mean     56.401734  \n",
       "std      35.048917  \n",
       "min       0.000000  \n",
       "25%      24.500000  \n",
       "50%      61.500000  \n",
       "75%      91.000000  \n",
       "max     100.000000  "
      ]
     },
     "execution_count": 46,
     "metadata": {},
     "output_type": "execute_result"
    }
   ],
   "source": [
    "dfs['weather'].describe()"
   ]
  },
  {
   "cell_type": "markdown",
   "id": "c47670b0-3d51-4465-88d7-01f2a42eb0b9",
   "metadata": {},
   "source": [
    "### Wearables"
   ]
  },
  {
   "cell_type": "markdown",
   "id": "da6d5bd6-6083-44c3-8890-e145cf1e92a7",
   "metadata": {},
   "source": [
    "### Blood Pressure"
   ]
  },
  {
   "cell_type": "markdown",
   "id": "c903865e-d8dc-426a-8d54-74ba05c7e012",
   "metadata": {},
   "source": [
    "### Surveys"
   ]
  },
  {
   "cell_type": "markdown",
   "id": "46e5f4f6-9f5e-4154-b8d0-0b1d20502b8e",
   "metadata": {},
   "source": [
    "### Heart Rate"
   ]
  },
  {
   "cell_type": "markdown",
   "id": "88feba8b-99c5-4b40-b19a-8ac9df0f4569",
   "metadata": {},
   "source": [
    "### Weather"
   ]
  },
  {
   "cell_type": "markdown",
   "id": "81003d57-b987-42bd-82cf-a65a67e2ebda",
   "metadata": {},
   "source": [
    "### HRV Measurements"
   ]
  },
  {
   "cell_type": "markdown",
   "id": "9ca33601-892f-4a73-b8e7-993b7f44eefb",
   "metadata": {},
   "source": [
    "### Sleep "
   ]
  },
  {
   "cell_type": "markdown",
   "id": "9ab54dd0-4b71-4b4e-b9ac-5f92ce3cbe56",
   "metadata": {},
   "source": [
    "## Data Statistics"
   ]
  },
  {
   "cell_type": "markdown",
   "id": "beb1e7a0-bc5d-41a2-83bf-f461f266db5e",
   "metadata": {},
   "source": [
    "* Document data context and data sampling in markdown\n",
    "* Explore and interpret data structure, descriptive statistics, data quality, and variable relationships\n",
    "* Explore data visually with appropriate visualizations\n",
    "* Discuss and implement strategies for Handling Missing Values, Removing Duplicates, and Handling Outliers\n",
    "* Perform data transformation as appropriate\n",
    "* Create at least one new feature and document your approach\n",
    "* Perform a dimensionality reduction method on the data and discuss \n",
    "* Include a discussion around data quality assessment, including data profiling, data completeness, data accuracy, data consistency, data integrity, and data lineage and provenance"
   ]
  },
  {
   "cell_type": "markdown",
   "id": "63963e04-1ddc-47fc-84e0-14f66461905e",
   "metadata": {},
   "source": [
    "## Data Quality"
   ]
  },
  {
   "cell_type": "code",
   "execution_count": null,
   "id": "f3a080bd-f477-443c-87ec-c71ec7330043",
   "metadata": {},
   "outputs": [],
   "source": []
  },
  {
   "cell_type": "code",
   "execution_count": null,
   "id": "99ff1e3b-6e55-4554-8561-951072929f53",
   "metadata": {},
   "outputs": [],
   "source": [
    "Variable Correlation \n",
    "\n",
    "The variable correlation is more interesting once we have our hypothesis"
   ]
  },
  {
   "cell_type": "code",
   "execution_count": null,
   "id": "e6aa41aa-41dd-44bb-88d7-cecb0d7e34fb",
   "metadata": {},
   "outputs": [],
   "source": [
    "Ideas for analysis: \n",
    "- summarize all data for each participant (taking e.g. the mean or min or max of time-series data where needed), join the data by participant and get an idea of"
   ]
  }
 ],
 "metadata": {
  "kernelspec": {
   "display_name": "Team Assignments",
   "language": "python",
   "name": "team-assignments"
  },
  "language_info": {
   "codemirror_mode": {
    "name": "ipython",
    "version": 3
   },
   "file_extension": ".py",
   "mimetype": "text/x-python",
   "name": "python",
   "nbconvert_exporter": "python",
   "pygments_lexer": "ipython3",
   "version": "3.12.4"
  }
 },
 "nbformat": 4,
 "nbformat_minor": 5
}
