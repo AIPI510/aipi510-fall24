{
 "cells": [
  {
   "cell_type": "markdown",
   "metadata": {},
   "source": [
    "## TODO\n",
    "\n",
    "average tip percentage 的计算方式：mean(tip/bill) 还是 sum(tip)/sum(bill), 这两个数值应该不一样，最好找助教或者教授确认一下。"
   ]
  },
  {
   "cell_type": "markdown",
   "metadata": {},
   "source": [
    "## Helper functions"
   ]
  },
  {
   "cell_type": "code",
   "execution_count": 1,
   "metadata": {},
   "outputs": [],
   "source": [
    "import json\n",
    "from typing import Any\n",
    "\n",
    "\n",
    "def pretty_print(data: Any):\n",
    "    \"\"\"\n",
    "    print data in a pretty way that can be viewed more clean.\n",
    "    \"\"\"\n",
    "\n",
    "    print(json.dumps(data, ensure_ascii=False, indent=4))"
   ]
  },
  {
   "cell_type": "markdown",
   "metadata": {},
   "source": [
    "## CREATE"
   ]
  },
  {
   "cell_type": "markdown",
   "metadata": {},
   "source": [
    "### Create Database"
   ]
  },
  {
   "cell_type": "code",
   "execution_count": 2,
   "metadata": {},
   "outputs": [],
   "source": [
    "# Just in case: remove old database file\n",
    "# NOTE: Maybe we can use memory database instead\n",
    "!rm XKJX.db"
   ]
  },
  {
   "cell_type": "code",
   "execution_count": 3,
   "metadata": {},
   "outputs": [],
   "source": [
    "import sqlite3\n",
    "\n",
    "con = sqlite3.connect(\"XKJX.db\")"
   ]
  },
  {
   "cell_type": "markdown",
   "metadata": {},
   "source": [
    "### Create table"
   ]
  },
  {
   "cell_type": "code",
   "execution_count": 4,
   "metadata": {},
   "outputs": [
    {
     "name": "stdout",
     "output_type": "stream",
     "text": [
      "Success: table created!\n"
     ]
    }
   ],
   "source": [
    "# table header of csv (for field name reference): total_bill,tip,sex,smoker,day,time,size\n",
    "# data sample of csv (for value type reference): 16.99,1.01,Female,No,Sun,Dinner,2\n",
    "sql = \"\"\"\n",
    "    CREATE TABLE tips (\n",
    "        id INTEGER PRIMARY KEY,\n",
    "        total_bill FLOAT,\n",
    "        tip FLOAT,\n",
    "        sex CHAR,\n",
    "        smoker CHAR,\n",
    "        day CHAR,\n",
    "        time CHAR,\n",
    "        size INT\n",
    "    );\n",
    "\"\"\"\n",
    "\n",
    "try:\n",
    "    with con:\n",
    "        con.execute(sql)\n",
    "except sqlite3.Error as e:\n",
    "    print(\"couldn't create table: \", e)\n",
    "else:\n",
    "    print(\"Success: table created!\")"
   ]
  },
  {
   "cell_type": "markdown",
   "metadata": {},
   "source": [
    "### Insert data\n",
    "\n",
    "Insert data item using the data from the sample .csv file."
   ]
  },
  {
   "cell_type": "code",
   "execution_count": 5,
   "metadata": {},
   "outputs": [
    {
     "name": "stdout",
     "output_type": "stream",
     "text": [
      "Success: all data inserted!\n"
     ]
    }
   ],
   "source": [
    "import csv\n",
    "\n",
    "sql = \"\"\"\n",
    "    INSERT INTO\n",
    "        tips\n",
    "    VALUES\n",
    "        (\n",
    "            NULL,\n",
    "            :total_bill,\n",
    "            :tip,\n",
    "            :sex,\n",
    "            :smoker,\n",
    "            :day,\n",
    "            :time,\n",
    "            :size\n",
    "        )\n",
    "    ;\n",
    "\"\"\"\n",
    "\n",
    "with open(\"data/tips.csv\") as fd:\n",
    "    reader = csv.DictReader(fd)\n",
    "    for row in reader:\n",
    "        # insert into table\n",
    "        try:\n",
    "            with con:\n",
    "                con.execute(sql, row)\n",
    "        except sqlite3.Error as e:\n",
    "            print(\"couldn't insert data item: \", e)\n",
    "\n",
    "print(\"Success: all data inserted!\")"
   ]
  },
  {
   "cell_type": "markdown",
   "metadata": {},
   "source": [
    "## READ"
   ]
  },
  {
   "cell_type": "markdown",
   "metadata": {},
   "source": [
    "### 1. Retrieve the average tip percentage for each day of the week "
   ]
  },
  {
   "cell_type": "code",
   "execution_count": 6,
   "metadata": {},
   "outputs": [
    {
     "name": "stdout",
     "output_type": "stream",
     "text": [
      "[\n",
      "    {\n",
      "        \"day\": \"Fri\",\n",
      "        \"avg_tip_percentage\": 16.991302873347887\n",
      "    },\n",
      "    {\n",
      "        \"day\": \"Sat\",\n",
      "        \"avg_tip_percentage\": 15.31517163877781\n",
      "    },\n",
      "    {\n",
      "        \"day\": \"Sun\",\n",
      "        \"avg_tip_percentage\": 16.689728635113457\n",
      "    },\n",
      "    {\n",
      "        \"day\": \"Thur\",\n",
      "        \"avg_tip_percentage\": 16.127563396664705\n",
      "    }\n",
      "]\n"
     ]
    }
   ],
   "source": [
    "sql = \"\"\"\n",
    "    SELECT\n",
    "        AVG(tip/total_bill) * 100 AS tip_percentage,\n",
    "        day\n",
    "    FROM\n",
    "        tips\n",
    "    GROUP BY\n",
    "        day\n",
    "    ;\n",
    "\"\"\"\n",
    "\n",
    "try:\n",
    "    with con:\n",
    "        res = con.execute(sql)\n",
    "except sqlite3.Error as e:\n",
    "    print(\"couldn't execute sql: \", e)\n",
    "else:\n",
    "    data = []\n",
    "\n",
    "    for avg_tip_percentage, day in res.fetchall():\n",
    "        data_point = {\"day\": day, \"avg_tip_percentage\": avg_tip_percentage}\n",
    "        data.append(data_point)\n",
    "\n",
    "    pretty_print(data)"
   ]
  },
  {
   "cell_type": "markdown",
   "metadata": {},
   "source": [
    "### 2. Find the maximum and minimum total bull amounts"
   ]
  },
  {
   "cell_type": "code",
   "execution_count": 7,
   "metadata": {},
   "outputs": [
    {
     "name": "stdout",
     "output_type": "stream",
     "text": [
      "{\n",
      "    \"min_bill\": 3.07,\n",
      "    \"max_bill\": 50.81\n",
      "}\n"
     ]
    }
   ],
   "source": [
    "sql = \"\"\"\n",
    "    SELECT\n",
    "        MIN(total_bill) AS min_bill,\n",
    "        MAX(total_bill) AS max_bill\n",
    "    FROM\n",
    "        tips\n",
    "    ;\n",
    "\"\"\"\n",
    "\n",
    "try:\n",
    "    with con:\n",
    "        res = con.execute(sql)\n",
    "except sqlite3.Error as e:\n",
    "    print(\"couldn't execute sql: \", e)\n",
    "else:\n",
    "    min_bill, max_bill = res.fetchone()\n",
    "    data_point = {\"min_bill\": min_bill, \"max_bill\": max_bill}\n",
    "    pretty_print(data_point)"
   ]
  },
  {
   "cell_type": "markdown",
   "metadata": {},
   "source": [
    "### 3. Count the number of parties for each size"
   ]
  },
  {
   "cell_type": "code",
   "execution_count": 8,
   "metadata": {},
   "outputs": [
    {
     "name": "stdout",
     "output_type": "stream",
     "text": [
      "[\n",
      "    {\n",
      "        \"party_size\": 1,\n",
      "        \"num\": 4\n",
      "    },\n",
      "    {\n",
      "        \"party_size\": 2,\n",
      "        \"num\": 156\n",
      "    },\n",
      "    {\n",
      "        \"party_size\": 3,\n",
      "        \"num\": 38\n",
      "    },\n",
      "    {\n",
      "        \"party_size\": 4,\n",
      "        \"num\": 37\n",
      "    },\n",
      "    {\n",
      "        \"party_size\": 5,\n",
      "        \"num\": 5\n",
      "    },\n",
      "    {\n",
      "        \"party_size\": 6,\n",
      "        \"num\": 4\n",
      "    }\n",
      "]\n"
     ]
    }
   ],
   "source": [
    "sql = \"\"\"\n",
    "    SELECT\n",
    "        size,\n",
    "        COUNT(*) AS party_num\n",
    "    FROM\n",
    "        tips \n",
    "    GROUP BY\n",
    "        size\n",
    "    ;\n",
    "\"\"\"\n",
    "\n",
    "try:\n",
    "    with con:\n",
    "        res = con.execute(sql)\n",
    "except sqlite3.Error as e:\n",
    "    print(\"couldn't execute sql: \", e)\n",
    "else:\n",
    "    data = []\n",
    "\n",
    "    for size, num in res.fetchall():\n",
    "        data_point = {\"party_size\": size, \"num\": num}\n",
    "        data.append(data_point)\n",
    "\n",
    "    pretty_print(data)"
   ]
  },
  {
   "cell_type": "markdown",
   "metadata": {},
   "source": [
    "### 4. Retrieve the total bill and tip for parties of size 4 or more, where the tip percentage is greater than 15%"
   ]
  },
  {
   "cell_type": "code",
   "execution_count": 9,
   "metadata": {},
   "outputs": [
    {
     "name": "stdout",
     "output_type": "stream",
     "text": [
      "{\n",
      "    \"total_bill\": 471.03000000000003,\n",
      "    \"total_tip\": 90.06\n",
      "}\n"
     ]
    }
   ],
   "source": [
    "sql = \"\"\"\n",
    "    SELECT\n",
    "        SUM(total_bill),\n",
    "        SUM(tip)\n",
    "    FROM\n",
    "        tips \n",
    "    WHERE\n",
    "        size >=4\n",
    "        AND (tip / total_bill) * 100 > 15\n",
    "    ;\n",
    "\"\"\"\n",
    "\n",
    "try:\n",
    "    with con:\n",
    "        res = con.execute(sql)\n",
    "except sqlite3.Error as e:\n",
    "    print(\"couldn't execute sql: \", e)\n",
    "else:\n",
    "    bill, tip = res.fetchone()\n",
    "    data_point = {\"total_bill\": bill, \"total_tip\": tip}\n",
    "    pretty_print(data_point)"
   ]
  },
  {
   "cell_type": "markdown",
   "metadata": {},
   "source": [
    "### 5. Retrieve the total bill, tip amount, and tip percentage for each combination of day and time, sorted by tip percentage in descending order"
   ]
  },
  {
   "cell_type": "code",
   "execution_count": 10,
   "metadata": {},
   "outputs": [
    {
     "name": "stdout",
     "output_type": "stream",
     "text": [
      "[\n",
      "    {\n",
      "        \"day\": \"Fri\",\n",
      "        \"time\": \"Lunch\",\n",
      "        \"total_bill\": 89.92,\n",
      "        \"total_tip\": 16.68,\n",
      "        \"tip_precentage\": 18.876488829484337\n",
      "    },\n",
      "    {\n",
      "        \"day\": \"Sun\",\n",
      "        \"time\": \"Dinner\",\n",
      "        \"total_bill\": 1627.1600000000003,\n",
      "        \"total_tip\": 247.39000000000007,\n",
      "        \"tip_precentage\": 16.689728635113457\n",
      "    },\n",
      "    {\n",
      "        \"day\": \"Thur\",\n",
      "        \"time\": \"Lunch\",\n",
      "        \"total_bill\": 1077.5499999999997,\n",
      "        \"total_tip\": 168.83,\n",
      "        \"tip_precentage\": 16.1300736016171\n",
      "    },\n",
      "    {\n",
      "        \"day\": \"Thur\",\n",
      "        \"time\": \"Dinner\",\n",
      "        \"total_bill\": 18.78,\n",
      "        \"total_tip\": 3.0,\n",
      "        \"tip_precentage\": 15.974440894568689\n",
      "    },\n",
      "    {\n",
      "        \"day\": \"Fri\",\n",
      "        \"time\": \"Dinner\",\n",
      "        \"total_bill\": 235.95999999999998,\n",
      "        \"total_tip\": 35.28,\n",
      "        \"tip_precentage\": 15.891611065601627\n",
      "    },\n",
      "    {\n",
      "        \"day\": \"Sat\",\n",
      "        \"time\": \"Dinner\",\n",
      "        \"total_bill\": 1778.3999999999996,\n",
      "        \"total_tip\": 260.4,\n",
      "        \"tip_precentage\": 15.31517163877781\n",
      "    }\n",
      "]\n"
     ]
    }
   ],
   "source": [
    "sql = \"\"\"\n",
    "    SELECT\n",
    "        day,\n",
    "        time,\n",
    "        SUM(total_bill),\n",
    "        SUM(tip),\n",
    "        AVG(tip/total_bill) * 100\n",
    "    FROM\n",
    "        tips\n",
    "    GROUP BY\n",
    "        day,\n",
    "        time\n",
    "    ORDER BY\n",
    "        AVG(tip/total_bill) DESC\n",
    "    ;\n",
    "\"\"\"\n",
    "\n",
    "\n",
    "try:\n",
    "    with con:\n",
    "        res = con.execute(sql)\n",
    "except sqlite3.Error as e:\n",
    "    print(\"couldn't execute sql: \", e)\n",
    "else:\n",
    "    data = []\n",
    "\n",
    "    for day, time, bill, total_tip, tip_percentage in res.fetchall():\n",
    "        data_point = {\n",
    "            \"day\": day,\n",
    "            \"time\": time,\n",
    "            \"total_bill\": bill,\n",
    "            \"total_tip\": total_tip,\n",
    "            \"tip_precentage\": tip_percentage,\n",
    "        }\n",
    "        data.append(data_point)\n",
    "\n",
    "    pretty_print(data)"
   ]
  },
  {
   "cell_type": "markdown",
   "metadata": {},
   "source": [
    "### 6. Find the average tip percentage for each combination of day, time, and smoker status"
   ]
  },
  {
   "cell_type": "code",
   "execution_count": 11,
   "metadata": {},
   "outputs": [
    {
     "name": "stdout",
     "output_type": "stream",
     "text": [
      "[\n",
      "    {\n",
      "        \"day\": \"Fri\",\n",
      "        \"time\": \"Dinner\",\n",
      "        \"smoker\": \"No\",\n",
      "        \"avg_tip_percentage\": 13.962236590021224\n",
      "    },\n",
      "    {\n",
      "        \"day\": \"Fri\",\n",
      "        \"time\": \"Dinner\",\n",
      "        \"smoker\": \"Yes\",\n",
      "        \"avg_tip_percentage\": 16.534735890795094\n",
      "    },\n",
      "    {\n",
      "        \"day\": \"Fri\",\n",
      "        \"time\": \"Lunch\",\n",
      "        \"smoker\": \"No\",\n",
      "        \"avg_tip_percentage\": 18.773466833541928\n",
      "    },\n",
      "    {\n",
      "        \"day\": \"Fri\",\n",
      "        \"time\": \"Lunch\",\n",
      "        \"smoker\": \"Yes\",\n",
      "        \"avg_tip_percentage\": 18.893659162141404\n",
      "    },\n",
      "    {\n",
      "        \"day\": \"Sat\",\n",
      "        \"time\": \"Dinner\",\n",
      "        \"smoker\": \"No\",\n",
      "        \"avg_tip_percentage\": 15.804765754377618\n",
      "    },\n",
      "    {\n",
      "        \"day\": \"Sat\",\n",
      "        \"time\": \"Dinner\",\n",
      "        \"smoker\": \"Yes\",\n",
      "        \"avg_tip_percentage\": 14.790606514920887\n",
      "    },\n",
      "    {\n",
      "        \"day\": \"Sun\",\n",
      "        \"time\": \"Dinner\",\n",
      "        \"smoker\": \"No\",\n",
      "        \"avg_tip_percentage\": 16.011294305072806\n",
      "    },\n",
      "    {\n",
      "        \"day\": \"Sun\",\n",
      "        \"time\": \"Dinner\",\n",
      "        \"smoker\": \"Yes\",\n",
      "        \"avg_tip_percentage\": 18.725031625235424\n",
      "    },\n",
      "    {\n",
      "        \"day\": \"Thur\",\n",
      "        \"time\": \"Dinner\",\n",
      "        \"smoker\": \"No\",\n",
      "        \"avg_tip_percentage\": 15.974440894568689\n",
      "    },\n",
      "    {\n",
      "        \"day\": \"Thur\",\n",
      "        \"time\": \"Lunch\",\n",
      "        \"smoker\": \"No\",\n",
      "        \"avg_tip_percentage\": 16.031066524359844\n",
      "    },\n",
      "    {\n",
      "        \"day\": \"Thur\",\n",
      "        \"time\": \"Lunch\",\n",
      "        \"smoker\": \"Yes\",\n",
      "        \"avg_tip_percentage\": 16.38632721334178\n",
      "    }\n",
      "]\n"
     ]
    }
   ],
   "source": [
    "sql = \"\"\"\n",
    "    SELECT\n",
    "        day,\n",
    "        time,\n",
    "        smoker,\n",
    "        AVG(tip/total_bill) * 100\n",
    "    FROM\n",
    "        tips\n",
    "    GROUP BY\n",
    "        day,\n",
    "        time,\n",
    "        smoker\n",
    "    ;\n",
    "\"\"\"\n",
    "\n",
    "try:\n",
    "    with con:\n",
    "        res = con.execute(sql)\n",
    "except sqlite3.Error as e:\n",
    "    print(\"couldn't execute sql: \", e)\n",
    "else:\n",
    "    data = []\n",
    "\n",
    "    for day, time, smoker, avg_tip_percentage in res.fetchall():\n",
    "        data_point = {\n",
    "            \"day\": day,\n",
    "            \"time\": time,\n",
    "            \"smoker\": smoker,\n",
    "            \"avg_tip_percentage\": avg_tip_percentage,\n",
    "        }\n",
    "        data.append(data_point)\n",
    "\n",
    "    pretty_print(data)"
   ]
  },
  {
   "cell_type": "markdown",
   "metadata": {},
   "source": [
    "### 7. Retrieve the total bill, tip amount, and tip percentage for each sex, sorted by total bill in descending order, and limit the results to the top 5 records"
   ]
  },
  {
   "cell_type": "code",
   "execution_count": 12,
   "metadata": {},
   "outputs": [
    {
     "name": "stdout",
     "output_type": "stream",
     "text": [
      "[\n",
      "    {\n",
      "        \"sex\": \"Male\",\n",
      "        \"total_bill\": 50.81,\n",
      "        \"tip\": 10.0,\n",
      "        \"tip_percentage\": 19.681165124975397\n",
      "    },\n",
      "    {\n",
      "        \"sex\": \"Male\",\n",
      "        \"total_bill\": 48.33,\n",
      "        \"tip\": 9.0,\n",
      "        \"tip_percentage\": 18.6219739292365\n",
      "    },\n",
      "    {\n",
      "        \"sex\": \"Male\",\n",
      "        \"total_bill\": 48.27,\n",
      "        \"tip\": 6.73,\n",
      "        \"tip_percentage\": 13.942407292314066\n",
      "    },\n",
      "    {\n",
      "        \"sex\": \"Male\",\n",
      "        \"total_bill\": 48.17,\n",
      "        \"tip\": 5.0,\n",
      "        \"tip_percentage\": 10.379904504878555\n",
      "    },\n",
      "    {\n",
      "        \"sex\": \"Male\",\n",
      "        \"total_bill\": 45.35,\n",
      "        \"tip\": 3.5,\n",
      "        \"tip_percentage\": 7.717750826901875\n",
      "    }\n",
      "]\n",
      "[\n",
      "    {\n",
      "        \"sex\": \"Female\",\n",
      "        \"total_bill\": 44.3,\n",
      "        \"tip\": 2.5,\n",
      "        \"tip_percentage\": 5.643340857787811\n",
      "    },\n",
      "    {\n",
      "        \"sex\": \"Female\",\n",
      "        \"total_bill\": 43.11,\n",
      "        \"tip\": 5.0,\n",
      "        \"tip_percentage\": 11.59823706796567\n",
      "    },\n",
      "    {\n",
      "        \"sex\": \"Female\",\n",
      "        \"total_bill\": 35.83,\n",
      "        \"tip\": 4.67,\n",
      "        \"tip_percentage\": 13.033770583310075\n",
      "    },\n",
      "    {\n",
      "        \"sex\": \"Female\",\n",
      "        \"total_bill\": 35.26,\n",
      "        \"tip\": 5.0,\n",
      "        \"tip_percentage\": 14.180374361883155\n",
      "    },\n",
      "    {\n",
      "        \"sex\": \"Female\",\n",
      "        \"total_bill\": 34.83,\n",
      "        \"tip\": 5.17,\n",
      "        \"tip_percentage\": 14.843525696238874\n",
      "    }\n",
      "]\n"
     ]
    }
   ],
   "source": [
    "sql = \"\"\"\n",
    "    SELECT \n",
    "        sex,\n",
    "        total_bill,\n",
    "        tip,\n",
    "        (tip / total_bill) * 100 AS tip_percentage\n",
    "    FROM \n",
    "        tips\n",
    "    WHERE\n",
    "        sex=:sex\n",
    "    ORDER BY \n",
    "        total_bill DESC\n",
    "    LIMIT\n",
    "        5\n",
    "    ;\n",
    "\"\"\"\n",
    "\n",
    "\n",
    "for sex in (\"Male\", \"Female\"):\n",
    "\n",
    "    try:\n",
    "        with con:\n",
    "            res = con.execute(sql, {\"sex\": sex})\n",
    "    except sqlite3.Error as e:\n",
    "        print(\"couldn't execute sql: \", e)\n",
    "    else:\n",
    "        data = []\n",
    "\n",
    "        for sex, total_bill, tip, tip_percentage in res.fetchall():\n",
    "            data_point = {\n",
    "                \"sex\": sex,\n",
    "                \"total_bill\": total_bill,\n",
    "                \"tip\": tip,\n",
    "                \"tip_percentage\": tip_percentage,\n",
    "            }\n",
    "            data.append(data_point)\n",
    "\n",
    "        pretty_print(data)"
   ]
  },
  {
   "cell_type": "markdown",
   "metadata": {},
   "source": [
    "### 8. Find the maximum and minimum tip percentage for each day and time combination, along with the corresponding total bill and tip amount"
   ]
  },
  {
   "cell_type": "code",
   "execution_count": 13,
   "metadata": {},
   "outputs": [
    {
     "name": "stdout",
     "output_type": "stream",
     "text": [
      "[\n",
      "    {\n",
      "        \"day\": \"Fri\",\n",
      "        \"time\": \"Dinner\",\n",
      "        \"min_tip_percentage\": 10.355540214014498,\n",
      "        \"min_corresponding_total_bill\": 28.97,\n",
      "        \"min_corresponding_tip\": 3.0,\n",
      "        \"max_tip_percentage\": 26.348039215686274,\n",
      "        \"max_corresponding_total_bill\": 16.32,\n",
      "        \"max_corresponding_tip\": 4.3\n",
      "    },\n",
      "    {\n",
      "        \"day\": \"Fri\",\n",
      "        \"time\": \"Lunch\",\n",
      "        \"min_tip_percentage\": 11.773472429210134,\n",
      "        \"min_corresponding_total_bill\": 13.42,\n",
      "        \"min_corresponding_tip\": 1.58,\n",
      "        \"max_tip_percentage\": 25.93144560357675,\n",
      "        \"max_corresponding_total_bill\": 13.42,\n",
      "        \"max_corresponding_tip\": 3.48\n",
      "    },\n",
      "    {\n",
      "        \"day\": \"Sat\",\n",
      "        \"time\": \"Dinner\",\n",
      "        \"min_tip_percentage\": 3.563813585135547,\n",
      "        \"min_corresponding_total_bill\": 32.83,\n",
      "        \"min_corresponding_tip\": 1.17,\n",
      "        \"max_tip_percentage\": 32.57328990228013,\n",
      "        \"max_corresponding_total_bill\": 3.07,\n",
      "        \"max_corresponding_tip\": 1.0\n",
      "    },\n",
      "    {\n",
      "        \"day\": \"Sun\",\n",
      "        \"time\": \"Dinner\",\n",
      "        \"min_tip_percentage\": 5.9446733372572105,\n",
      "        \"min_corresponding_total_bill\": 16.99,\n",
      "        \"min_corresponding_tip\": 1.01,\n",
      "        \"max_tip_percentage\": 71.0344827586207,\n",
      "        \"max_corresponding_total_bill\": 7.25,\n",
      "        \"max_corresponding_tip\": 5.15\n",
      "    },\n",
      "    {\n",
      "        \"day\": \"Thur\",\n",
      "        \"time\": \"Dinner\",\n",
      "        \"min_tip_percentage\": 15.974440894568689,\n",
      "        \"min_corresponding_total_bill\": 18.78,\n",
      "        \"min_corresponding_tip\": 3.0,\n",
      "        \"max_tip_percentage\": 15.974440894568689,\n",
      "        \"max_corresponding_total_bill\": 18.78,\n",
      "        \"max_corresponding_tip\": 3.0\n",
      "    },\n",
      "    {\n",
      "        \"day\": \"Thur\",\n",
      "        \"time\": \"Lunch\",\n",
      "        \"min_tip_percentage\": 7.296137339055794,\n",
      "        \"min_corresponding_total_bill\": 18.64,\n",
      "        \"min_corresponding_tip\": 1.36,\n",
      "        \"max_tip_percentage\": 26.63115845539281,\n",
      "        \"max_corresponding_total_bill\": 7.51,\n",
      "        \"max_corresponding_tip\": 2.0\n",
      "    }\n",
      "]\n"
     ]
    }
   ],
   "source": [
    "sql_percentage = \"\"\"\n",
    "    SELECT\n",
    "        day,\n",
    "        time,\n",
    "        MIN(tip/total_bill) * 100 AS min_percentage,\n",
    "        MAX(tip/total_bill) * 100 AS max_percentage\n",
    "    FROM\n",
    "        tips\n",
    "    GROUP BY\n",
    "        day,\n",
    "        time\n",
    "    ;\n",
    "\"\"\"\n",
    "\n",
    "sql_bill_and_tip = \"\"\"\n",
    "    SELECT\n",
    "        total_bill,\n",
    "        tip\n",
    "    FROM\n",
    "        tips\n",
    "    WHERE\n",
    "        ABS((tip / total_bill) * 100 - :target_percentage) < 0.00000001\n",
    "        AND day = :day\n",
    "        AND time = :time\n",
    "    ;\n",
    "\"\"\"\n",
    "\n",
    "data = []\n",
    "\n",
    "try:\n",
    "    with con:\n",
    "        res = con.execute(sql_percentage)\n",
    "except sqlite3.Error as e:\n",
    "    print(\"couldn't execute sql: \", e)\n",
    "else:\n",
    "    for day, time, min_percentage, max_percentage in res.fetchall():\n",
    "        try:\n",
    "            with con:\n",
    "                res = con.execute(\n",
    "                    sql_bill_and_tip,\n",
    "                    {\"target_percentage\": min_percentage, \"day\": day, \"time\": time},\n",
    "                )\n",
    "\n",
    "                min_total_bill, min_tip = res.fetchone()\n",
    "        except sqlite3.Error as e:\n",
    "            print(\"couldn't execute sql: \", e)\n",
    "            raise e\n",
    "\n",
    "        try:\n",
    "            with con:\n",
    "                res = con.execute(\n",
    "                    sql_bill_and_tip,\n",
    "                    {\"target_percentage\": max_percentage, \"day\": day, \"time\": time},\n",
    "                )\n",
    "\n",
    "            max_total_bill, max_tip = res.fetchone()\n",
    "        except sqlite3.Error as e:\n",
    "            print(\"couldn't execute sql: \", e)\n",
    "            raise e\n",
    "\n",
    "        data_point = {\n",
    "            \"day\": day,\n",
    "            \"time\": time,\n",
    "            \"min_tip_percentage\": min_percentage,\n",
    "            \"min_corresponding_total_bill\": min_total_bill,\n",
    "            \"min_corresponding_tip\": min_tip,\n",
    "            \"max_tip_percentage\": max_percentage,\n",
    "            \"max_corresponding_total_bill\": max_total_bill,\n",
    "            \"max_corresponding_tip\": max_tip,\n",
    "        }\n",
    "\n",
    "        data.append(data_point)\n",
    "\n",
    "pretty_print(data)"
   ]
  },
  {
   "cell_type": "markdown",
   "metadata": {},
   "source": [
    "### 9. Retrieve the total bill, tip amount, and tip percentage for parties of size 4 or more, where the tip percentage is greater than 15%, and the total bill is between $50 and $100"
   ]
  },
  {
   "cell_type": "code",
   "execution_count": 14,
   "metadata": {},
   "outputs": [
    {
     "name": "stdout",
     "output_type": "stream",
     "text": [
      "[\n",
      "    {\n",
      "        \"bill\": 471.03000000000003,\n",
      "        \"tip\": 90.06,\n",
      "        \"tip_percentage\": 19.254073596963856\n",
      "    }\n",
      "]\n"
     ]
    }
   ],
   "source": [
    "# TODO: I don't know what exactly the question is asking about, the statement is ambiguous here.\n",
    "\n",
    "sql = \"\"\"\n",
    "    SELECT\n",
    "        SUM(total_bill),\n",
    "        SUM(tip),\n",
    "        AVG(tip / total_bill) * 100\n",
    "    FROM\n",
    "        tips \n",
    "    WHERE\n",
    "        size >=4\n",
    "        AND (tip / total_bill) * 100 > 15\n",
    "    ;\n",
    "\"\"\"\n",
    "\n",
    "try:\n",
    "    with con:\n",
    "        res = con.execute(sql)\n",
    "except sqlite3.Error as e:\n",
    "    print(\"couldn't execute sql: \", e)\n",
    "else:\n",
    "    data = []\n",
    "\n",
    "    for bill, tip, tip_percentage in res.fetchall():\n",
    "        data_point = {\n",
    "            \"bill\": bill,\n",
    "            \"tip\": tip,\n",
    "            \"tip_percentage\": tip_percentage,\n",
    "        }\n",
    "        data.append(data_point)\n",
    "\n",
    "    pretty_print(data)"
   ]
  },
  {
   "cell_type": "markdown",
   "metadata": {},
   "source": [
    "### 10. Find the average tip percentage for each combination of day, time, and smoker status, but only include combinations with more than 5 records"
   ]
  },
  {
   "cell_type": "code",
   "execution_count": 15,
   "metadata": {},
   "outputs": [
    {
     "name": "stdout",
     "output_type": "stream",
     "text": [
      "[\n",
      "    {\n",
      "        \"day\": \"Fri\",\n",
      "        \"time\": \"Dinner\",\n",
      "        \"smoker\": \"Yes\",\n",
      "        \"avg_tip_percentage\": 16.534735890795094\n",
      "    },\n",
      "    {\n",
      "        \"day\": \"Fri\",\n",
      "        \"time\": \"Lunch\",\n",
      "        \"smoker\": \"Yes\",\n",
      "        \"avg_tip_percentage\": 18.893659162141404\n",
      "    },\n",
      "    {\n",
      "        \"day\": \"Sat\",\n",
      "        \"time\": \"Dinner\",\n",
      "        \"smoker\": \"No\",\n",
      "        \"avg_tip_percentage\": 15.804765754377618\n",
      "    },\n",
      "    {\n",
      "        \"day\": \"Sat\",\n",
      "        \"time\": \"Dinner\",\n",
      "        \"smoker\": \"Yes\",\n",
      "        \"avg_tip_percentage\": 14.790606514920887\n",
      "    },\n",
      "    {\n",
      "        \"day\": \"Sun\",\n",
      "        \"time\": \"Dinner\",\n",
      "        \"smoker\": \"No\",\n",
      "        \"avg_tip_percentage\": 16.011294305072806\n",
      "    },\n",
      "    {\n",
      "        \"day\": \"Sun\",\n",
      "        \"time\": \"Dinner\",\n",
      "        \"smoker\": \"Yes\",\n",
      "        \"avg_tip_percentage\": 18.725031625235424\n",
      "    },\n",
      "    {\n",
      "        \"day\": \"Thur\",\n",
      "        \"time\": \"Lunch\",\n",
      "        \"smoker\": \"No\",\n",
      "        \"avg_tip_percentage\": 16.031066524359844\n",
      "    },\n",
      "    {\n",
      "        \"day\": \"Thur\",\n",
      "        \"time\": \"Lunch\",\n",
      "        \"smoker\": \"Yes\",\n",
      "        \"avg_tip_percentage\": 16.38632721334178\n",
      "    }\n",
      "]\n"
     ]
    }
   ],
   "source": [
    "sql = \"\"\"\n",
    "    SELECT\n",
    "        day,\n",
    "        time,\n",
    "        smoker,\n",
    "        AVG(tip/total_bill) * 100 AS avg_tip_percentage\n",
    "    FROM\n",
    "        tips\n",
    "    GROUP BY\n",
    "        day,\n",
    "        time,\n",
    "        smoker\n",
    "    HAVING\n",
    "        COUNT(*) > 5\n",
    "    ;\n",
    "\"\"\"\n",
    "\n",
    "try:\n",
    "    with con:\n",
    "        res = con.execute(sql)\n",
    "except sqlite3.Error as e:\n",
    "    print(\"couldn't execute sql: \", e)\n",
    "else:\n",
    "    data = []\n",
    "\n",
    "    for day, time, smoker, avg_tip_percentage in res.fetchall():\n",
    "        data_point = {\n",
    "            \"day\": day,\n",
    "            \"time\": time,\n",
    "            \"smoker\": smoker,\n",
    "            \"avg_tip_percentage\": avg_tip_percentage,\n",
    "        }\n",
    "        data.append(data_point)\n",
    "\n",
    "    pretty_print(data)"
   ]
  },
  {
   "cell_type": "markdown",
   "metadata": {},
   "source": [
    "### 11. (additional queries) average daily bill and average tip percentage of each day"
   ]
  },
  {
   "cell_type": "code",
   "execution_count": 16,
   "metadata": {},
   "outputs": [
    {
     "name": "stdout",
     "output_type": "stream",
     "text": [
      "[\n",
      "    {\n",
      "        \"day\": \"Fri\",\n",
      "        \"sum_total_bill\": 325.87999999999994,\n",
      "        \"avg_tip_percentage\": 16.991302873347887\n",
      "    },\n",
      "    {\n",
      "        \"day\": \"Sat\",\n",
      "        \"sum_total_bill\": 1778.3999999999996,\n",
      "        \"avg_tip_percentage\": 15.31517163877781\n",
      "    },\n",
      "    {\n",
      "        \"day\": \"Sun\",\n",
      "        \"sum_total_bill\": 1627.1600000000003,\n",
      "        \"avg_tip_percentage\": 16.689728635113457\n",
      "    },\n",
      "    {\n",
      "        \"day\": \"Thur\",\n",
      "        \"sum_total_bill\": 1096.3299999999997,\n",
      "        \"avg_tip_percentage\": 16.127563396664705\n",
      "    }\n",
      "]\n"
     ]
    }
   ],
   "source": [
    "sql = \"\"\"\n",
    "    SELECT\n",
    "        day,\n",
    "        SUM(total_bill),\n",
    "        AVG(tip/total_bill) * 100\n",
    "    FROM\n",
    "        tips\n",
    "    GROUP BY\n",
    "        day\n",
    "    ;\n",
    "\"\"\"\n",
    "\n",
    "try:\n",
    "    with con:\n",
    "        res = con.execute(sql)\n",
    "except sqlite3.Error as e:\n",
    "    print(\"couldn't execute sql: \", e)\n",
    "else:\n",
    "    data = []\n",
    "\n",
    "    for day, sum_total_bill, avg_tip_percentage in res.fetchall():\n",
    "        data_point = {\n",
    "            \"day\": day,\n",
    "            \"sum_total_bill\": sum_total_bill,\n",
    "            \"avg_tip_percentage\": avg_tip_percentage,\n",
    "        }\n",
    "        data.append(data_point)\n",
    "\n",
    "    pretty_print(data)"
   ]
  },
  {
   "cell_type": "markdown",
   "metadata": {},
   "source": [
    "### 12. (additional queries) average tip percentage of bills below (exclusive) $25 and above (inclusive) $25"
   ]
  },
  {
   "cell_type": "code",
   "execution_count": 17,
   "metadata": {},
   "outputs": [
    {
     "name": "stdout",
     "output_type": "stream",
     "text": [
      "[\n",
      "    {\n",
      "        \"bill_above_25\": 0,\n",
      "        \"avg_tip_percentage\": 16.93724971937115\n",
      "    },\n",
      "    {\n",
      "        \"bill_above_25\": 1,\n",
      "        \"avg_tip_percentage\": 13.203215121202474\n",
      "    }\n",
      "]\n"
     ]
    }
   ],
   "source": [
    "sql = \"\"\"\n",
    "    SELECT\n",
    "        total_bill >= 25 as bill_above_25,\n",
    "        AVG(tip/total_bill) * 100\n",
    "    FROM\n",
    "        tips\n",
    "    GROUP BY\n",
    "        total_bill >= 25\n",
    "    ;\n",
    "\"\"\"\n",
    "\n",
    "try:\n",
    "    with con:\n",
    "        res = con.execute(sql)\n",
    "except sqlite3.Error as e:\n",
    "    print(\"couldn't execute sql: \", e)\n",
    "else:\n",
    "    data = []\n",
    "\n",
    "    for bill_above_25, avg_tip_percentage in res.fetchall():\n",
    "        data_point = {\n",
    "            \"bill_above_25\": bill_above_25,\n",
    "            \"avg_tip_percentage\": avg_tip_percentage,\n",
    "        }\n",
    "        data.append(data_point)\n",
    "\n",
    "    pretty_print(data)"
   ]
  },
  {
   "cell_type": "markdown",
   "metadata": {},
   "source": [
    "### 13. (additional queries) average bill and average tip percentage of smoker and non-smoker"
   ]
  },
  {
   "cell_type": "code",
   "execution_count": 18,
   "metadata": {},
   "outputs": [
    {
     "name": "stdout",
     "output_type": "stream",
     "text": [
      "[\n",
      "    {\n",
      "        \"smoker\": \"No\",\n",
      "        \"avg_total_bill\": 19.18827814569537,\n",
      "        \"avg_tip_percentage\": 15.932846217921531\n",
      "    },\n",
      "    {\n",
      "        \"smoker\": \"Yes\",\n",
      "        \"avg_total_bill\": 20.756344086021507,\n",
      "        \"avg_tip_percentage\": 16.31960446368779\n",
      "    }\n",
      "]\n"
     ]
    }
   ],
   "source": [
    "sql = \"\"\"\n",
    "    SELECT\n",
    "        smoker,\n",
    "        AVG(total_bill),\n",
    "        AVG(tip/total_bill) * 100\n",
    "    FROM\n",
    "        tips\n",
    "    GROUP BY\n",
    "        smoker\n",
    "    ;\n",
    "\"\"\"\n",
    "\n",
    "try:\n",
    "    with con:\n",
    "        res = con.execute(sql)\n",
    "except sqlite3.Error as e:\n",
    "    print(\"couldn't execute sql: \", e)\n",
    "else:\n",
    "    data = []\n",
    "\n",
    "    for smoker, avg_total_bill, avg_tip_percentage in res.fetchall():\n",
    "        data_point = {\n",
    "            \"smoker\": smoker,\n",
    "            \"avg_total_bill\": avg_total_bill,\n",
    "            \"avg_tip_percentage\": avg_tip_percentage,\n",
    "        }\n",
    "        data.append(data_point)\n",
    "\n",
    "    pretty_print(data)"
   ]
  },
  {
   "cell_type": "markdown",
   "metadata": {},
   "source": [
    "### 14. (additional queries) average bill and average tip percentage of male and female"
   ]
  },
  {
   "cell_type": "code",
   "execution_count": 19,
   "metadata": {},
   "outputs": [
    {
     "name": "stdout",
     "output_type": "stream",
     "text": [
      "[\n",
      "    {\n",
      "        \"sex\": \"Female\",\n",
      "        \"avg_total_bill\": 18.056896551724137,\n",
      "        \"avg_tip_percentage\": 16.649073632892474\n",
      "    },\n",
      "    {\n",
      "        \"sex\": \"Male\",\n",
      "        \"avg_total_bill\": 20.744076433121034,\n",
      "        \"avg_tip_percentage\": 15.765054700429747\n",
      "    }\n",
      "]\n"
     ]
    }
   ],
   "source": [
    "sql = \"\"\"\n",
    "    SELECT\n",
    "        sex,\n",
    "        AVG(total_bill),\n",
    "        AVG(tip/total_bill) * 100\n",
    "    FROM\n",
    "        tips\n",
    "    GROUP BY\n",
    "        sex\n",
    "    ;\n",
    "\"\"\"\n",
    "\n",
    "try:\n",
    "    with con:\n",
    "        res = con.execute(sql)\n",
    "except sqlite3.Error as e:\n",
    "    print(\"couldn't execute sql: \", e)\n",
    "else:\n",
    "    data = []\n",
    "\n",
    "    for sex, avg_total_bill, avg_tip_percentage in res.fetchall():\n",
    "        data_point = {\n",
    "            \"sex\": sex,\n",
    "            \"avg_total_bill\": avg_total_bill,\n",
    "            \"avg_tip_percentage\": avg_tip_percentage,\n",
    "        }\n",
    "        data.append(data_point)\n",
    "\n",
    "    pretty_print(data)"
   ]
  },
  {
   "cell_type": "markdown",
   "metadata": {},
   "source": [
    "### 15. (additional queries) average bill and average tip percentage of different party size"
   ]
  },
  {
   "cell_type": "code",
   "execution_count": 20,
   "metadata": {},
   "outputs": [
    {
     "name": "stdout",
     "output_type": "stream",
     "text": [
      "[\n",
      "    {\n",
      "        \"party_size\": 1,\n",
      "        \"avg_total_bill\": 7.2425,\n",
      "        \"avg_tip_percentage\": 21.72920154872781\n",
      "    },\n",
      "    {\n",
      "        \"party_size\": 2,\n",
      "        \"avg_total_bill\": 16.448012820512833,\n",
      "        \"avg_tip_percentage\": 16.571919173482897\n",
      "    },\n",
      "    {\n",
      "        \"party_size\": 3,\n",
      "        \"avg_total_bill\": 23.27763157894737,\n",
      "        \"avg_tip_percentage\": 15.21568547371183\n",
      "    },\n",
      "    {\n",
      "        \"party_size\": 4,\n",
      "        \"avg_total_bill\": 28.61351351351351,\n",
      "        \"avg_tip_percentage\": 14.594900639351332\n",
      "    },\n",
      "    {\n",
      "        \"party_size\": 5,\n",
      "        \"avg_total_bill\": 30.068,\n",
      "        \"avg_tip_percentage\": 14.149548965142023\n",
      "    },\n",
      "    {\n",
      "        \"party_size\": 6,\n",
      "        \"avg_total_bill\": 34.83,\n",
      "        \"avg_tip_percentage\": 15.622920072028379\n",
      "    }\n",
      "]\n"
     ]
    }
   ],
   "source": [
    "sql = \"\"\"\n",
    "    SELECT\n",
    "        size,\n",
    "        AVG(total_bill),\n",
    "        AVG(tip/total_bill) * 100\n",
    "    FROM\n",
    "        tips\n",
    "    GROUP BY\n",
    "        size\n",
    "    ;\n",
    "\"\"\"\n",
    "\n",
    "try:\n",
    "    with con:\n",
    "        res = con.execute(sql)\n",
    "except sqlite3.Error as e:\n",
    "    print(\"couldn't execute sql: \", e)\n",
    "else:\n",
    "    data = []\n",
    "\n",
    "    for size, avg_total_bill, avg_tip_percentage in res.fetchall():\n",
    "        data_point = {\n",
    "            \"party_size\": size,\n",
    "            \"avg_total_bill\": avg_total_bill,\n",
    "            \"avg_tip_percentage\": avg_tip_percentage,\n",
    "        }\n",
    "        data.append(data_point)\n",
    "\n",
    "    pretty_print(data)"
   ]
  },
  {
   "cell_type": "markdown",
   "metadata": {},
   "source": [
    "## UPDATE\n",
    "\n",
    "It was determined that there was an error in the database. Please update the record that corresponds to id=10 and set smoker to Yes. "
   ]
  },
  {
   "cell_type": "code",
   "execution_count": 21,
   "metadata": {},
   "outputs": [
    {
     "name": "stdout",
     "output_type": "stream",
     "text": [
      "Success: data updated!\n"
     ]
    }
   ],
   "source": [
    "sql = \"\"\"\n",
    "    UPDATE\n",
    "        tips\n",
    "    SET\n",
    "        smoker='Yes'\n",
    "    WHERE\n",
    "        id=10\n",
    "    ;\n",
    "\"\"\"\n",
    "\n",
    "try:\n",
    "    with con:\n",
    "        con.execute(sql)\n",
    "except sqlite3.Error as e:\n",
    "    print(\"couldn't update data: \", e)\n",
    "else:\n",
    "    print(\"Success: data updated!\")"
   ]
  },
  {
   "cell_type": "markdown",
   "metadata": {},
   "source": [
    "## DELETE\n",
    "\n",
    "Delete records from the database that have a total bill that is less than $10. "
   ]
  },
  {
   "cell_type": "code",
   "execution_count": 22,
   "metadata": {},
   "outputs": [
    {
     "name": "stdout",
     "output_type": "stream",
     "text": [
      "Success: data deleted!\n"
     ]
    }
   ],
   "source": [
    "sql = \"\"\"\n",
    "    DELETE FROM\n",
    "        tips\n",
    "    WHERE\n",
    "        total_bill < 10\n",
    "    ;\n",
    "\"\"\"\n",
    "\n",
    "try:\n",
    "    with con:\n",
    "        con.execute(sql)\n",
    "except sqlite3.Error as e:\n",
    "    print(\"couldn't delete data: \", e)\n",
    "else:\n",
    "    print(\"Success: data deleted!\")"
   ]
  },
  {
   "cell_type": "markdown",
   "metadata": {},
   "source": [
    "## Close connection"
   ]
  },
  {
   "cell_type": "code",
   "execution_count": 23,
   "metadata": {},
   "outputs": [],
   "source": [
    "# at the end, we need to close the connection\n",
    "con.close()"
   ]
  }
 ],
 "metadata": {
  "kernelspec": {
   "display_name": ".venv",
   "language": "python",
   "name": "python3"
  },
  "language_info": {
   "codemirror_mode": {
    "name": "ipython",
    "version": 3
   },
   "file_extension": ".py",
   "mimetype": "text/x-python",
   "name": "python",
   "nbconvert_exporter": "python",
   "pygments_lexer": "ipython3",
   "version": "3.10.12"
  }
 },
 "nbformat": 4,
 "nbformat_minor": 2
}
