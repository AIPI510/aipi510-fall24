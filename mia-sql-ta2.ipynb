{
 "cells": [
  {
   "cell_type": "code",
   "execution_count": 1,
   "metadata": {},
   "outputs": [],
   "source": [
    "'''Import Statements'''\n",
    "import pandas as pd\n",
    "import sqlite3"
   ]
  },
  {
   "cell_type": "code",
   "execution_count": 2,
   "metadata": {},
   "outputs": [],
   "source": [
    "def create_db_table():\n",
    "    '''\n",
    "    Reads in the tips.csv, connects it to the SQLite database, and writes the data to a SQL table.\n",
    "    '''\n",
    "    try:\n",
    "        # Read the tips.csv file\n",
    "        df = pd.read_csv('./data/tips.csv')\n",
    "        df.head()\n",
    "\n",
    "        # Connect to the SQLite database, automatically commit and close the connection.\n",
    "        with sqlite3.connect('tips.db') as conn:\n",
    "\n",
    "            # Write the data to a SQL table (replacing if a table of the same name exists and ignoring a column of indexes)\n",
    "            df.to_sql('tips_table', conn, if_exists='replace', index=True)\n",
    "            \n",
    "    except sqlite3.Error as error:\n",
    "        print(f'An error occurred when creating the SQL db table -> {error}')\n",
    "\n",
    "create_db_table()"
   ]
  },
  {
   "cell_type": "markdown",
   "metadata": {},
   "source": [
    "**Create sqlite database using files from folder 'data'**"
   ]
  },
  {
   "cell_type": "code",
   "execution_count": 3,
   "metadata": {},
   "outputs": [],
   "source": [
    "def create_db_table():\n",
    "    '''\n",
    "    Reads in the tips.csv, connects it to the SQLite database, and writes the data to a SQL table.\n",
    "    '''\n",
    "    try:\n",
    "        # Read the tips.csv file\n",
    "        df = pd.read_csv('./data/tips.csv')\n",
    "\n",
    "        # Connect to the SQLite database, automatically commit and close the connection.\n",
    "        with sqlite3.connect('tips.db') as conn:\n",
    "\n",
    "            # Write the data to a SQL table (replacing if a table of the same name exists and ignoring a column of indexes)\n",
    "            df.to_sql('tips_table', conn, if_exists='replace', index=True)\n",
    "            \n",
    "    except sqlite3.Error as error:\n",
    "        print(f'An error occurred when creating the SQL db table -> {error}')\n",
    "\n",
    "create_db_table()"
   ]
  },
  {
   "cell_type": "markdown",
   "metadata": {},
   "source": [
    "**Q1. Retrieve the average tip % for each day of the week**"
   ]
  },
  {
   "cell_type": "code",
   "execution_count": 4,
   "metadata": {},
   "outputs": [
    {
     "name": "stdout",
     "output_type": "stream",
     "text": [
      "    day  avg_tip\n",
      "0   Fri    15.94\n",
      "1   Sat    14.64\n",
      "2   Sun    15.20\n",
      "3  Thur    15.67\n"
     ]
    }
   ],
   "source": [
    "def q1():\n",
    "    '''\n",
    "    Average tip % = The (sum of all tips of a particular day)* 100/ (sum of all total bills of a particular day) \n",
    "    '''\n",
    "    try:\n",
    "        # Connect to the SQLite database\n",
    "        with sqlite3.connect('tips.db') as conn:\n",
    "            cursor = conn.cursor()\n",
    "\n",
    "            # Query from the table\n",
    "            query = '''\n",
    "                    SELECT day, ROUND(SUM(tip)/SUM(total_bill)*?, ?) AS avg_tip\n",
    "                    FROM tips\n",
    "                    GROUP BY day\n",
    "                    '''\n",
    "            \n",
    "            params = (100, 2)\n",
    "\n",
    "            # Execute the query and fetch all of the results into variable 'rows'\n",
    "            cursor.execute(query, params)\n",
    "\n",
    "            df_avg_tip = pd.DataFrame(cursor.fetchall(), columns = ['day', 'avg_tip'])\n",
    "            print(df_avg_tip)\n",
    "\n",
    "    except sqlite3.Error as error:\n",
    "        print(f'An error occurred when performing the q1 operation on the SQL db table -> {error}')\n",
    "\n",
    "q1()"
   ]
  },
  {
   "cell_type": "markdown",
   "metadata": {},
   "source": [
    "**Q2. Find the maximum and minimum total bull amounts**"
   ]
  },
  {
   "cell_type": "code",
   "execution_count": 5,
   "metadata": {},
   "outputs": [
    {
     "name": "stdout",
     "output_type": "stream",
     "text": [
      "   max_bill  min_bill\n",
      "0     50.81      3.07\n"
     ]
    }
   ],
   "source": [
    "def q2():\n",
    "    '''\n",
    "    Finds the maximum and minimum total bull amounts\n",
    "    '''\n",
    "    try:\n",
    "        # Connect to the SQLite database\n",
    "        with sqlite3.connect('tips.db') as conn:\n",
    "            cursor = conn.cursor()\n",
    "\n",
    "            # Query from the table\n",
    "            query = '''\n",
    "                    SELECT MAX(total_bill) AS max_bill, MIN(total_bill) As min_bill\n",
    "                    FROM tips\n",
    "                    '''\n",
    "\n",
    "            # Execute the query and fetch all of the results into variable 'rows'\n",
    "            cursor.execute(query)\n",
    "\n",
    "            df_bill = pd.DataFrame(cursor.fetchall(), columns = ['max_bill', 'min_bill'])\n",
    "            print(df_bill)\n",
    "\n",
    "    except sqlite3.Error as error:\n",
    "        print(f'An error occurred when performing the q2 operation on the SQL db table -> {error}')\n",
    "\n",
    "q2()"
   ]
  },
  {
   "cell_type": "markdown",
   "metadata": {},
   "source": [
    "**Q3. Count the number of parties for each size**"
   ]
  },
  {
   "cell_type": "code",
   "execution_count": 6,
   "metadata": {},
   "outputs": [
    {
     "name": "stdout",
     "output_type": "stream",
     "text": [
      "   size  count\n",
      "0     1      4\n",
      "1     2    156\n",
      "2     3     38\n",
      "3     4     37\n",
      "4     5      5\n",
      "5     6      4\n"
     ]
    }
   ],
   "source": [
    "def q3():\n",
    "    '''\n",
    "    Counts the number of parties for each size\n",
    "    '''\n",
    "    try:\n",
    "        # Connect to the SQLite database\n",
    "        with sqlite3.connect('tips.db') as conn:\n",
    "            cursor = conn.cursor()\n",
    "\n",
    "            # Query from the table\n",
    "            query = '''\n",
    "                    SELECT size, COUNT(size) AS count\n",
    "                    FROM tips\n",
    "                    GROUP BY size\n",
    "                    '''\n",
    "\n",
    "            # Execute the query and fetch all of the results into variable 'rows'\n",
    "            cursor.execute(query)\n",
    "\n",
    "            df_count = pd.DataFrame(cursor.fetchall(), columns = ['size', 'count'])\n",
    "            print(df_count)\n",
    "\n",
    "    except sqlite3.Error as error:\n",
    "        print(f'An error occurred when performing the q3 operation on the SQL db table -> {error}')\n",
    "\n",
    "q3()"
   ]
  },
  {
   "cell_type": "markdown",
   "metadata": {},
   "source": [
    "**Q4. Retrieve the total bill and tip for parties of size 4 or more, where the tip percentage is greater than 15%**"
   ]
  },
  {
   "cell_type": "code",
   "execution_count": 7,
   "metadata": {},
   "outputs": [
    {
     "name": "stdout",
     "output_type": "stream",
     "text": [
      "    total_bill   tip  size  tip_percentage\n",
      "0        25.29  4.71     4           18.62\n",
      "1        18.43  3.00     4           16.28\n",
      "2        39.42  7.58     4           19.23\n",
      "3        30.40  5.60     4           18.42\n",
      "4        32.40  6.00     4           18.52\n",
      "5        25.56  4.34     4           16.98\n",
      "6        18.29  3.76     4           20.56\n",
      "7        29.93  5.07     4           16.94\n",
      "8        34.30  6.70     6           19.53\n",
      "9        27.05  5.00     6           18.48\n",
      "10       29.85  5.14     5           17.22\n",
      "11       21.50  3.50     4           16.28\n",
      "12       23.17  6.50     4           28.05\n",
      "13       20.69  5.00     5           24.17\n",
      "14       20.53  4.00     4           19.48\n",
      "15       25.89  5.16     4           19.93\n",
      "16       48.33  9.00     4           18.62\n"
     ]
    }
   ],
   "source": [
    "def q4():\n",
    "    '''\n",
    "    Retrieves the total bill and tip for parties of size 4 or more, where the tip percentage is greater than 15%\n",
    "    '''\n",
    "    try:\n",
    "        # Connect to the SQLite database\n",
    "        with sqlite3.connect('tips.db') as conn:\n",
    "            cursor = conn.cursor()\n",
    "\n",
    "            # Query from the table\n",
    "            query = '''\n",
    "                    SELECT total_bill, tip, size, ROUND(tip/total_bill * ?, ?) AS tip_percentage\n",
    "                    FROM tips \n",
    "                    WHERE size > ? AND ROUND(tip/total_bill*?, ?) > ?\n",
    "                    '''\n",
    "            \n",
    "            params = (100, 2, 3, 100, 2, 15)\n",
    "\n",
    "            # Execute the query and fetch all of the results into variable 'rows'\n",
    "            cursor.execute(query, params)\n",
    "\n",
    "            df_temp = pd.DataFrame(cursor.fetchall(), columns=['total_bill', 'tip', 'size', 'tip_percentage'])\n",
    "            print(df_temp)\n",
    "\n",
    "    except sqlite3.Error as error:\n",
    "        print(f'An error occurred when performing the q4 operation on the SQL db table -> {error}')\n",
    "\n",
    "q4()"
   ]
  },
  {
   "cell_type": "markdown",
   "metadata": {},
   "source": [
    "**Q5. Retrieve the total bill, tip amount, and tip % for each combination of day and time, sorted by tip % in descending order.** "
   ]
  },
  {
   "cell_type": "code",
   "execution_count": 8,
   "metadata": {},
   "outputs": [
    {
     "name": "stdout",
     "output_type": "stream",
     "text": [
      "    day    time  total_bill     tip  tip_percentage\n",
      "0   Fri   Lunch       89.92   16.68           18.09\n",
      "1   Sat  Dinner     1778.40  260.40           16.22\n",
      "2  Thur  Dinner       18.78    3.00           15.97\n",
      "3  Thur   Lunch     1077.55  168.83           14.71\n",
      "4   Fri  Dinner      235.96   35.28           10.36\n",
      "5   Sun  Dinner     1627.16  247.39            5.94\n"
     ]
    }
   ],
   "source": [
    "def q5():\n",
    "    '''\n",
    "    Retrieves the total bill, tip amount, and tip % for each combination of day and time, sorted by tip % in descending order.\n",
    "    '''\n",
    "    try:\n",
    "        # Connect to the SQLite database\n",
    "        with sqlite3.connect('tips.db') as conn:\n",
    "            cursor = conn.cursor()\n",
    "\n",
    "            # Query from the table\n",
    "            query = '''\n",
    "                    SELECT day, time, SUM(total_bill) AS total_bill , SUM(tip) AS total_tip, ROUND(tip/total_bill * ?, ?) AS tip_percentage\n",
    "                    FROM tips     \n",
    "                    GROUP BY day, time\n",
    "                    ORDER BY tip_percentage DESC\n",
    "                    '''\n",
    "            \n",
    "            params = (100, 2)\n",
    "\n",
    "            # Execute the query and fetch all of the results into variable 'rows'\n",
    "            cursor.execute(query, params)\n",
    "\n",
    "            df_temp = pd.DataFrame(cursor.fetchall(), columns=['day', 'time','total_bill', 'tip', 'tip_percentage'])\n",
    "            print(df_temp)\n",
    "\n",
    "    except sqlite3.Error as error:\n",
    "        print(f'An error occurred when performing the q5 operation on the SQL db table -> {error}')\n",
    "\n",
    "q5()"
   ]
  },
  {
   "cell_type": "markdown",
   "metadata": {},
   "source": [
    "**Q11. Find the average tip percentage, separately for weekends and weekdays.**"
   ]
  },
  {
   "cell_type": "code",
   "execution_count": 9,
   "metadata": {},
   "outputs": [
    {
     "name": "stdout",
     "output_type": "stream",
     "text": [
      "██████████████████████████████████████████████████\n",
      "Average Tip Percentages for Weekends and Weekdays\n",
      "Day Type: Weekday -> Average Tip Percentage: 16.33%\n",
      "Day Type: Weekend -> Average Tip Percentage: 15.96%\n"
     ]
    }
   ],
   "source": [
    "def q11():\n",
    "    '''\n",
    "    Finds the average tip percentage, separately for weekends and weekdays.\n",
    "    '''\n",
    "    try:\n",
    "        # Connect to the SQLite database\n",
    "        with sqlite3.connect('tips.db') as conn:\n",
    "            cursor = conn.cursor()\n",
    "\n",
    "            # Query from the table\n",
    "            query = '''\n",
    "                    SELECT \n",
    "                        CASE\n",
    "                            WHEN day IN (?, ?) THEN 'Weekend'\n",
    "                            ELSE 'Weekday'\n",
    "                        END AS day_type,\n",
    "                        AVG(tip / total_bill * ?)\n",
    "                    FROM tips_table\n",
    "                    GROUP BY day_type\n",
    "                    '''\n",
    "            \n",
    "            params = ('Sat', 'Sun', 100)\n",
    "\n",
    "            # Execute the query and fetch all of the results into variable 'rows'\n",
    "            cursor.execute(query, params)\n",
    "            rows = cursor.fetchall()\n",
    "\n",
    "            print(\"██████████████████████████████████████████████████\")\n",
    "            print(\"Average Tip Percentages for Weekends and Weekdays\")\n",
    "            for day_type, avg_tip_perc in rows:\n",
    "                print(f\"Day Type: {day_type} -> Average Tip Percentage: {avg_tip_perc:.2f}%\")\n",
    "\n",
    "    except sqlite3.Error as error:\n",
    "        print(f'An error occurred when performing the q11 operation on the SQL db table -> {error}')\n",
    "\n",
    "q11()"
   ]
  },
  {
   "cell_type": "markdown",
   "metadata": {},
   "source": [
    "**Q12: Find the 3 days with the largest average party size and total bill, and provide the average tip percentage for each of these days.**"
   ]
  },
  {
   "cell_type": "code",
   "execution_count": 10,
   "metadata": {},
   "outputs": [
    {
     "name": "stdout",
     "output_type": "stream",
     "text": [
      "██████████████████████████████████████████████████████████████\n",
      "Top 3 Days with the Largest Average Party Size and Total Bill\n",
      "Day: Sun, Avg Party Size: 2.84, Avg Total Bill: $21.41 -> Avg Tip Percentage: 16.69%\n",
      "Day: Sat, Avg Party Size: 2.52, Avg Total Bill: $20.44 -> Avg Tip Percentage: 15.32%\n",
      "Day: Thur, Avg Party Size: 2.45, Avg Total Bill: $17.68 -> Avg Tip Percentage: 16.13%\n"
     ]
    }
   ],
   "source": [
    "def q12():\n",
    "    '''\n",
    "    Finds the 3 days with the largest average party size and total bill, and provide the average tip percentage for each of these days.\n",
    "    '''\n",
    "    try:\n",
    "        # Connect to the SQLite database\n",
    "        with sqlite3.connect('tips.db') as conn:\n",
    "            cursor = conn.cursor()\n",
    "\n",
    "            # Query from the table\n",
    "            query = '''\n",
    "                    SELECT\n",
    "                        day,\n",
    "                        AVG(size) AS avg_size,\n",
    "                        AVG(total_bill) AS avg_tot_bill,\n",
    "                        AVG(tip / total_bill * ?)\n",
    "                    FROM tips_table\n",
    "                    GROUP BY day\n",
    "                    ORDER BY avg_size DESC, avg_tot_bill DESC\n",
    "                    LIMIT ?\n",
    "                    '''\n",
    "            \n",
    "            params = (100, 3)\n",
    "\n",
    "            # Execute the query and fetch all of the results into variable 'rows'\n",
    "            cursor.execute(query, params)\n",
    "            rows = cursor.fetchall()\n",
    "\n",
    "            print(\"██████████████████████████████████████████████████████████████\")\n",
    "            print(\"Top 3 Days with the Largest Average Party Size and Total Bill\")\n",
    "            for day, avg_party_size, avg_total_bill, avg_tip_percentage in rows:\n",
    "                print(f\"Day: {day}, Avg Party Size: {avg_party_size:.2f}, Avg Total Bill: ${avg_total_bill:.2f} -> Avg Tip Percentage: {avg_tip_percentage:.2f}%\")\n",
    "\n",
    "    except sqlite3.Error as error:\n",
    "        print(f'An error occurred when performing the q12 operation on the SQL db table -> {error}')\n",
    "\n",
    "q12()"
   ]
  },
  {
   "cell_type": "markdown",
   "metadata": {},
   "source": [
    "**Q13: Find the total number of parties served each day, grouped by smoker status and sorted by the average party size in descending order.**"
   ]
  },
  {
   "cell_type": "code",
   "execution_count": 11,
   "metadata": {},
   "outputs": [
    {
     "name": "stdout",
     "output_type": "stream",
     "text": [
      "█████████████████████████████████████████████████████████████████████████████████████████\n",
      "Total # of parties by day and smoker status, with the average size of each day's parties\n",
      "Day: Sun, Smoker: No -> Total Parties: 57, Average Size: 2.93\n",
      "Day: Sun, Smoker: Yes -> Total Parties: 19, Average Size: 2.58\n",
      "Day: Sat, Smoker: No -> Total Parties: 45, Average Size: 2.56\n",
      "Day: Thur, Smoker: No -> Total Parties: 45, Average Size: 2.49\n",
      "Day: Sat, Smoker: Yes -> Total Parties: 42, Average Size: 2.48\n",
      "Day: Thur, Smoker: Yes -> Total Parties: 17, Average Size: 2.35\n",
      "Day: Fri, Smoker: No -> Total Parties: 4, Average Size: 2.25\n",
      "Day: Fri, Smoker: Yes -> Total Parties: 15, Average Size: 2.07\n"
     ]
    }
   ],
   "source": [
    "def q13():\n",
    "    '''\n",
    "    Finds the total number of parties served each day, grouped by smoker status and sorted by the average party size in descending order.\n",
    "    '''\n",
    "    try:\n",
    "        # Connect to the SQLite database\n",
    "        with sqlite3.connect('tips.db') as conn:\n",
    "            cursor = conn.cursor()\n",
    "\n",
    "            # Query from the table\n",
    "            query = '''\n",
    "                    SELECT\n",
    "                        day,\n",
    "                        smoker,\n",
    "                        COUNT(*),\n",
    "                        AVG(size) AS avg_size\n",
    "                    FROM tips_table\n",
    "                    GROUP BY day, smoker\n",
    "                    ORDER BY avg_size DESC;\n",
    "                    '''\n",
    "\n",
    "            # Execute the query and fetch all of the results into variable 'rows'\n",
    "            cursor.execute(query)\n",
    "            rows = cursor.fetchall()\n",
    "\n",
    "            print(\"█████████████████████████████████████████████████████████████████████████████████████████\")\n",
    "            print(\"Total # of parties by day and smoker status, with the average size of each day's parties\")\n",
    "            for day, smoker, tot_parties, avg_size in rows:\n",
    "                print(f\"Day: {day}, Smoker: {smoker} -> Total Parties: {tot_parties}, Average Size: {avg_size:.2f}\")\n",
    "\n",
    "    except sqlite3.Error as error:\n",
    "        print(f'An error occurred when performing the q13 operation on the SQL db table -> {error}')\n",
    "\n",
    "q13()"
   ]
  },
  {
   "cell_type": "markdown",
   "metadata": {},
   "source": [
    "**Q14: Find the average tip percentage for each combination of sex and time of day, and identify which combination has the highest average tip percentage.**"
   ]
  },
  {
   "cell_type": "code",
   "execution_count": 12,
   "metadata": {},
   "outputs": [
    {
     "name": "stdout",
     "output_type": "stream",
     "text": [
      "████████████████████████████████████████████████████████\n",
      "The combination with the highest average tip percentage\n",
      "Sex: Female, Time: Dinner -> Average Tip Percentage: 16.93%\n"
     ]
    }
   ],
   "source": [
    "def q14():\n",
    "    '''\n",
    "    Finds the average tip percentage for each combination of sex and time of day, and identify which combination has the highest average tip percentage.\n",
    "    '''\n",
    "    try:\n",
    "        # Connect to the SQLite database\n",
    "        with sqlite3.connect('tips.db') as conn:\n",
    "            cursor = conn.cursor()\n",
    "\n",
    "            # Query from the table\n",
    "            query = '''\n",
    "                    SELECT\n",
    "                        sex,\n",
    "                        time,\n",
    "                        AVG(tip / total_bill * ?) AS avg_tip\n",
    "                    FROM tips_table\n",
    "                    GROUP BY sex, time\n",
    "                    ORDER BY avg_tip DESC\n",
    "                    LIMIT ?\n",
    "                    '''\n",
    "            \n",
    "            params = (100, 1)\n",
    "\n",
    "            # Execute the query and fetch all of the results into variable 'rows'\n",
    "            cursor.execute(query, params)\n",
    "            rows = cursor.fetchone()\n",
    "\n",
    "            sex, time, average_tip_percentage = rows\n",
    "\n",
    "            print(\"████████████████████████████████████████████████████████\")\n",
    "            print(f\"The combination with the highest average tip percentage\")\n",
    "            print(f\"Sex: {sex}, Time: {time} -> Average Tip Percentage: {average_tip_percentage:.2f}%\")\n",
    "\n",
    "    except sqlite3.Error as error:\n",
    "        print(f'An error occurred when performing the q14 operation on the SQL db table -> {error}')\n",
    "\n",
    "q14()"
   ]
  },
  {
   "cell_type": "markdown",
   "metadata": {},
   "source": [
    "**Q15: Find the average tip amount for each party size with a total bill greater than $25, and place an emphasis on party sizes with an average tip above $3.**"
   ]
  },
  {
   "cell_type": "code",
   "execution_count": 13,
   "metadata": {},
   "outputs": [
    {
     "name": "stdout",
     "output_type": "stream",
     "text": [
      "██████████████████████████████████████\n",
      "Party Sizes with Average Tip Above $3\n",
      "Party Size: 6, Average Tip Amount: $5.22\n",
      "Party Size: 4, Average Tip Amount: $4.94\n",
      "Party Size: 3, Average Tip Amount: $4.46\n",
      "Party Size: 5, Average Tip Amount: $3.79\n",
      "Party Size: 2, Average Tip Amount: $3.18\n"
     ]
    }
   ],
   "source": [
    "def q15():\n",
    "    '''\n",
    "    Finds the average tip amount for each party size with a total bill greater than $25, and place an emphasis on party sizes with an average tip above $3.\n",
    "    '''\n",
    "    try:\n",
    "        # Connect to the SQLite database\n",
    "        with sqlite3.connect('tips.db') as conn:\n",
    "            cursor = conn.cursor()\n",
    "\n",
    "            # Query from the table\n",
    "            query = '''\n",
    "                    SELECT\n",
    "                        size,\n",
    "                        AVG(tip) AS avg_tip\n",
    "                    FROM tips_table\n",
    "                    WHERE total_bill > ?\n",
    "                    GROUP BY size\n",
    "                    HAVING avg_tip > ?\n",
    "                    ORDER BY avg_tip DESC\n",
    "                    '''\n",
    "            \n",
    "            params = (25, 3)\n",
    "\n",
    "            # Execute the query and fetch all of the results into variable 'rows'\n",
    "            cursor.execute(query, params)\n",
    "            rows = cursor.fetchall()\n",
    "\n",
    "            print(\"██████████████████████████████████████\")\n",
    "            print(\"Party Sizes with Average Tip Above $3\")\n",
    "            for party_size, average_tip_amount in rows:\n",
    "                print(f\"Party Size: {party_size}, Average Tip Amount: ${average_tip_amount:.2f}\")\n",
    "\n",
    "    except sqlite3.Error as error:\n",
    "        print(f'An error occurred when performing the q15 operation on the SQL db table -> {error}')\n",
    "\n",
    "q15()"
   ]
  },
  {
   "cell_type": "markdown",
   "metadata": {},
   "source": [
    "**UPDATE - It was determined that there was an error in the database. Please update the record that corresponds to id=10 and set smoker to Yes.**"
   ]
  },
  {
   "cell_type": "code",
   "execution_count": 14,
   "metadata": {},
   "outputs": [],
   "source": [
    "def update():\n",
    "    '''\n",
    "    Updates the record that corresponds to id=10 and set smoker to Yes.\n",
    "    '''\n",
    "    try:\n",
    "        # Connect to the SQLite database\n",
    "        with sqlite3.connect('tips.db') as conn:\n",
    "            cursor = conn.cursor()\n",
    "\n",
    "            # Update the record where id = 10 and set smoker to 'Yes'\n",
    "            query = '''\n",
    "                    UPDATE tips_table\n",
    "                    SET smoker = ?\n",
    "                    WHERE \"index\" = ?\n",
    "                    '''\n",
    "            \n",
    "            params = ('Yes', 10)\n",
    "            \n",
    "            cursor.execute(query, params)\n",
    "            conn.commit()  # Commit the changes\n",
    "\n",
    "    except sqlite3.Error as error:\n",
    "        print(f'An error occurred when performing the UPDATE operation on the SQL db table -> {error}')\n",
    "\n",
    "update()"
   ]
  },
  {
   "cell_type": "code",
   "execution_count": 15,
   "metadata": {},
   "outputs": [
    {
     "name": "stdout",
     "output_type": "stream",
     "text": [
      "(10, 10.27, 1.71, 'Male', 'Yes', 'Sun', 'Dinner', 2)\n"
     ]
    }
   ],
   "source": [
    "def check_update():\n",
    "    '''\n",
    "    Checks whether the row associated with id=10 has smoker set to 'Yes'\n",
    "    '''\n",
    "    try:\n",
    "        # Connect to the SQLite database\n",
    "        with sqlite3.connect('tips.db') as conn:\n",
    "            cursor = conn.cursor()\n",
    "\n",
    "            # Query to select all records from the table\n",
    "            query = 'SELECT * FROM tips_table WHERE \"index\" = 10'\n",
    "\n",
    "            cursor.execute(query)\n",
    "\n",
    "            # Fetch all rows from the table\n",
    "            rows = cursor.fetchall()\n",
    "\n",
    "            # Print the rows to view the database contents\n",
    "            for row in rows:\n",
    "                print(row)\n",
    "\n",
    "    except sqlite3.Error as error:\n",
    "        print(f'An error occurred: {error}')\n",
    "\n",
    "check_update()"
   ]
  },
  {
   "cell_type": "markdown",
   "metadata": {},
   "source": [
    "**DELETE - Delete records from the database that have a total bill that is less than $10.**"
   ]
  },
  {
   "cell_type": "code",
   "execution_count": 16,
   "metadata": {},
   "outputs": [],
   "source": [
    "def delete():\n",
    "    '''\n",
    "    Deletes records from the database that have a total bill that is less than $10.\n",
    "    '''\n",
    "    try:\n",
    "        # Connect to the SQLite database\n",
    "        with sqlite3.connect('tips.db') as conn:\n",
    "            cursor = conn.cursor()\n",
    "\n",
    "            # Update the record where id = 10 and set smoker to 'Yes'\n",
    "            query = 'DELETE FROM tips_table WHERE total_bill < 10'\n",
    "            \n",
    "            cursor.execute(query)\n",
    "            conn.commit()  # Commit the changes\n",
    "\n",
    "    except sqlite3.Error as error:\n",
    "        print(f'An error occurred when performing the DELETE operation on the SQL db table -> {error}')\n",
    "\n",
    "delete()"
   ]
  },
  {
   "cell_type": "code",
   "execution_count": 17,
   "metadata": {},
   "outputs": [],
   "source": [
    "def check_delete():\n",
    "    '''\n",
    "    Checks whether the records from the database that have a total bill that is less than $10 were deleted.\n",
    "    '''\n",
    "    try:\n",
    "        # Connect to the SQLite database\n",
    "        with sqlite3.connect('tips.db') as conn:\n",
    "            cursor = conn.cursor()\n",
    "\n",
    "            # Query to select all records from the table\n",
    "            select_query = 'SELECT * FROM tips_table WHERE total_bill < 10'\n",
    "            cursor.execute(select_query)\n",
    "\n",
    "            # Fetch all rows from the table\n",
    "            rows = cursor.fetchall()\n",
    "\n",
    "            # Print the rows to view the database contents\n",
    "            for row in rows:\n",
    "                print(row)\n",
    "\n",
    "    except sqlite3.Error as error:\n",
    "        print(f'An error occurred: {error}')\n",
    "\n",
    "check_delete()"
   ]
  }
 ],
 "metadata": {
  "kernelspec": {
   "display_name": "Python 3 (ipykernel)",
   "language": "python",
   "name": "python3"
  },
  "language_info": {
   "codemirror_mode": {
    "name": "ipython",
    "version": 3
   },
   "file_extension": ".py",
   "mimetype": "text/x-python",
   "name": "python",
   "nbconvert_exporter": "python",
   "pygments_lexer": "ipython3",
   "version": "3.10.11"
  }
 },
 "nbformat": 4,
 "nbformat_minor": 4
}
